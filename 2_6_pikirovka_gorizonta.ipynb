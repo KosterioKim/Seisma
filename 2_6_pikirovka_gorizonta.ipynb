{
 "cells": [
  {
   "cell_type": "code",
   "execution_count": 2,
   "id": "initial_id",
   "metadata": {
    "collapsed": true,
    "ExecuteTime": {
     "end_time": "2024-09-23T09:00:20.690478600Z",
     "start_time": "2024-09-23T09:00:20.687927100Z"
    }
   },
   "outputs": [],
   "source": [
    "import numpy as np\n",
    "import matplotlib.pyplot as plt\n",
    "import segyio\n",
    "import matplotlib.patches as patches\n",
    "from shapely.geometry import Polygon\n",
    "import pandas as pd\n",
    "import re"
   ]
  },
  {
   "cell_type": "code",
   "outputs": [],
   "source": [
    "def read_seismic_cube(file_path):\n",
    "    \"\"\"\n",
    "    :param file_path: Путь к файлу\n",
    "    :return: возвращает куб в виде списков по Inlines, Xlines и Sampels (координаты x, y, z)\n",
    "    а также словарю сейсмотрасс, где ключ это координата пересечения Inlines и Xlines, а значение это список значений сейсмотрасс\n",
    "    \"\"\"\n",
    "    with segyio.open(file_path, 'r') as segyfile:\n",
    "        x = list(segyfile.ilines)\n",
    "        y = list(segyfile.xlines)\n",
    "        z = list(segyfile.samples)\n",
    "        cube = segyio.tools.cube(segyfile)\n",
    "        traces = {f\"{x[i]}_{y[j]}\": cube[i][j][:] for i in range(len(x)) for j in range(len(y))}\n",
    "    return x, y, z, traces"
   ],
   "metadata": {
    "collapsed": false,
    "ExecuteTime": {
     "end_time": "2024-09-23T09:00:22.747924200Z",
     "start_time": "2024-09-23T09:00:22.744836100Z"
    }
   },
   "id": "9dcef3de5ea7910c",
   "execution_count": 3
  },
  {
   "cell_type": "code",
   "outputs": [],
   "source": [
    "file_path = 'C:/HV/Seismic/Cube_TWT.segy'\n",
    "ilines, xlines, samples_0, traces = read_seismic_cube(file_path)\n",
    "samples = [int(i) for i in samples_0]"
   ],
   "metadata": {
    "collapsed": false,
    "ExecuteTime": {
     "end_time": "2024-09-23T09:00:41.975782100Z",
     "start_time": "2024-09-23T09:00:40.641405200Z"
    }
   },
   "id": "f76f27451a19beda",
   "execution_count": 4
  },
  {
   "cell_type": "code",
   "outputs": [],
   "source": [],
   "metadata": {
    "collapsed": false
   },
   "id": "d9e328b96d6f660d"
  }
 ],
 "metadata": {
  "kernelspec": {
   "display_name": "Python 3",
   "language": "python",
   "name": "python3"
  },
  "language_info": {
   "codemirror_mode": {
    "name": "ipython",
    "version": 2
   },
   "file_extension": ".py",
   "mimetype": "text/x-python",
   "name": "python",
   "nbconvert_exporter": "python",
   "pygments_lexer": "ipython2",
   "version": "2.7.6"
  }
 },
 "nbformat": 4,
 "nbformat_minor": 5
}
