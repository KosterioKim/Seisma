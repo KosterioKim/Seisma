{
 "cells": [
  {
   "cell_type": "code",
   "execution_count": 26,
   "id": "initial_id",
   "metadata": {
    "collapsed": true,
    "ExecuteTime": {
     "end_time": "2024-10-14T04:03:18.216123200Z",
     "start_time": "2024-10-14T04:03:18.207149200Z"
    }
   },
   "outputs": [],
   "source": [
    "import segyio"
   ]
  },
  {
   "cell_type": "code",
   "outputs": [],
   "source": [
    "def read_seismic_cube(file_path):\n",
    "  \"\"\"\n",
    "  :param file_path: Путь к файлу\n",
    "  :return: возвращает куб в виде списков по Inlines, Xlines и Sampels (координаты x, y, z)\n",
    "  а также словарь сейсмотрасс, где ключ это координата пересечения Inlines и Xlines, а значение это список значений сейсмотрасс\n",
    "  \"\"\"\n",
    "  with segyio.open(file_path, 'r') as segyfile:\n",
    "      x = list(segyfile.ilines)\n",
    "      y = list(segyfile.xlines)\n",
    "      z_0 = list(segyfile.samples)\n",
    "      z = list()\n",
    "      for i in range(len(z_0)):\n",
    "          z.append(int(z_0[i]))\n",
    "      cube = segyio.tools.cube(segyfile)\n",
    "      traces = {f\"{x[i]}_{y[j]}\": cube[i][j][:] for i in range(len(x)) for j in range(len(y))}\n",
    "  return x, y, z, traces"
   ],
   "metadata": {
    "collapsed": false,
    "ExecuteTime": {
     "end_time": "2024-10-14T04:03:18.849640100Z",
     "start_time": "2024-10-14T04:03:18.842154700Z"
    }
   },
   "id": "7e7e47ff07535275",
   "execution_count": 27
  },
  {
   "cell_type": "code",
   "outputs": [],
   "source": [
    "file_path = 'C:/HV/Seismic/datas/Cube_TWT.segy'\n",
    "ilines, xlines, samples, traces = read_seismic_cube(file_path)\n"
   ],
   "metadata": {
    "collapsed": false,
    "ExecuteTime": {
     "end_time": "2024-10-14T04:03:21.089174700Z",
     "start_time": "2024-10-14T04:03:19.646237400Z"
    }
   },
   "id": "e0f7a1bf62391b55",
   "execution_count": 28
  },
  {
   "cell_type": "code",
   "outputs": [],
   "source": [
    "def extract_segy_data(file_path):\n",
    "    \"\"\"\n",
    "  :param file_path: Путь к файлу\n",
    "  :return: возвращает реальные координаты x, y\n",
    "  \"\"\"\n",
    "    with segyio.open(file_path, 'r') as segyfile:\n",
    "        x = list(segyfile.ilines)\n",
    "        y = list(segyfile.xlines)\n",
    "        z = list(segyfile.samples)\n",
    "        coord_x = set()\n",
    "        coord_y = set()\n",
    "\n",
    "        for i in range(len(x)):\n",
    "            for j in range(len(y)):\n",
    "                index = i * len(y) + j\n",
    "                trace_header = segyfile.header[index]\n",
    "\n",
    "                coord_x.add(trace_header[segyio.TraceField.SourceX])\n",
    "                coord_y.add(trace_header[segyio.TraceField.SourceY])\n",
    "    return coord_x, coord_y\n"
   ],
   "metadata": {
    "collapsed": false,
    "ExecuteTime": {
     "end_time": "2024-10-14T04:03:23.332902800Z",
     "start_time": "2024-10-14T04:03:23.328411500Z"
    }
   },
   "id": "ab0a17778ae59d51",
   "execution_count": 29
  },
  {
   "cell_type": "code",
   "outputs": [],
   "source": [
    "file_path = 'C:/HV/Seismic/datas/Cube_TWT.segy'\n",
    "coord_x, coord_y = extract_segy_data(file_path)"
   ],
   "metadata": {
    "collapsed": false,
    "ExecuteTime": {
     "end_time": "2024-10-14T04:03:33.105809700Z",
     "start_time": "2024-10-14T04:03:31.501857300Z"
    }
   },
   "id": "77c84efb59561f8b",
   "execution_count": 31
  },
  {
   "cell_type": "code",
   "outputs": [],
   "source": [],
   "metadata": {
    "collapsed": false
   },
   "id": "b76dbaaecc115d54"
  }
 ],
 "metadata": {
  "kernelspec": {
   "display_name": "Python 3",
   "language": "python",
   "name": "python3"
  },
  "language_info": {
   "codemirror_mode": {
    "name": "ipython",
    "version": 2
   },
   "file_extension": ".py",
   "mimetype": "text/x-python",
   "name": "python",
   "nbconvert_exporter": "python",
   "pygments_lexer": "ipython2",
   "version": "2.7.6"
  }
 },
 "nbformat": 4,
 "nbformat_minor": 5
}
