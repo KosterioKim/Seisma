{
 "cells": [
  {
   "cell_type": "code",
   "execution_count": 1,
   "id": "initial_id",
   "metadata": {
    "collapsed": true,
    "ExecuteTime": {
     "end_time": "2025-02-25T02:30:24.419145400Z",
     "start_time": "2025-02-25T02:30:23.373603100Z"
    }
   },
   "outputs": [],
   "source": [
    "import plotly.express as px\n",
    "import pandas as pd\n",
    "import segyio\n",
    "import numpy as np"
   ]
  },
  {
   "cell_type": "code",
   "outputs": [],
   "source": [
    "\"\"\"\n",
    "Алгоритм:\n",
    "1) куб переделывается в словарь {координаты по инлайнам и крослайнам:[матожидание, дисперсия сейсмотрассы]}\n",
    "2) \n",
    "\n",
    "\n",
    "\n",
    "\"\"\""
   ],
   "metadata": {
    "collapsed": false
   },
   "id": "28ea8efe3fc7a1d7"
  },
  {
   "cell_type": "code",
   "outputs": [],
   "source": [
    "\"\"\"\n",
    "Тут будем работать с шитыми кубами у которых нет кровли и подошвы и разломов. Поэтому ридер пока мой. (напиши мне, чтобы я скинул сшитые кубы)\n",
    "Нужно будет потом из датафрейма сделать словарь как в функции\n",
    "\"\"\"\n",
    "def read_seismic_cube(file_path):\n",
    "    \"\"\"\n",
    "    :param file_path: Путь к файлу\n",
    "    :return: возвращает куб в виде списков по Inlines, Xlines и Sampels (координаты x, y, z)\n",
    "    а также словарь, где ключ это координата пересечения Inlines и Xlines, а значение это список матожидание и дисперсия сейсмотрассы\n",
    "    \"\"\"\n",
    "    with segyio.open(file_path, 'r') as segyfile:\n",
    "    \tx = list(segyfile.ilines)\n",
    "    \ty = list(segyfile.xlines)\n",
    "    \tz = list(segyfile.samples)\n",
    "    \tcube = segyio.tools.cube(segyfile)\n",
    "    \tM_D = {f\"{x[i]}_{y[j]}\": [np.mean(cube[i][j][668:1340]), np.var(cube[i][j][668:1340])]  for i in range(len(x)) for j in range(len(y))}\n",
    "    return x, y, z, M_D"
   ],
   "metadata": {
    "collapsed": false,
    "ExecuteTime": {
     "end_time": "2025-02-25T02:33:23.556489Z",
     "start_time": "2025-02-25T02:33:23.545019800Z"
    }
   },
   "id": "585c99108f3a75e4",
   "execution_count": 4
  },
  {
   "cell_type": "code",
   "outputs": [],
   "source": [
    "file_path = 'C:/HV/Seismic/datas/shitie_cubs_TWT.segy'\n",
    "ilines_TWT, xlines_TWT, samples_TWT, M_D_TWT = read_seismic_cube(file_path)"
   ],
   "metadata": {
    "collapsed": false,
    "ExecuteTime": {
     "end_time": "2025-02-25T03:09:25.261463900Z",
     "start_time": "2025-02-25T03:09:24.373629600Z"
    }
   },
   "id": "cc4cc9efc7ee1a71",
   "execution_count": 18
  },
  {
   "cell_type": "code",
   "outputs": [],
   "source": [
    "def procent(list1, mid_index):\n",
    "    \"\"\"\n",
    "    Список list1 делим на две части по индексу mid_index и находим процент отличия трендов\n",
    "    \"\"\"\n",
    "\n",
    "    data = np.array(list1)\n",
    "    \n",
    "    # Разделение списка на две части\n",
    "    y1 = data[:mid_index]  # Первая часть\n",
    "    y2 = data[mid_index:]  # Вторая часть\n",
    "    x1 = np.arange(1, mid_index + 1)  # Ось x для первой части\n",
    "    x2 = np.arange(mid_index + 1, len(data) + 1)  # Ось x для второй части\n",
    "    \n",
    "    # Вычисление коэффициентов линейной регрессии (y = mx + b)\n",
    "    m1, b1 = np.polyfit(x1, y1, 1)  # Линия тренда для первой части\n",
    "    m2, b2 = np.polyfit(x2, y2, 1)  # Линия тренда для второй части\n",
    "    # Вычисление разницы в наклонах\n",
    "    slope_difference = abs(m1 - m2)\n",
    "    average_slope = (abs(m1) + abs(m2)) / 2\n",
    "    \n",
    "    # Вычисление процента отличия\n",
    "    if average_slope != 0:  # Проверка на ноль, чтобы избежать деления на ноль\n",
    "        percentage_difference = (slope_difference / average_slope) * 100\n",
    "    else:\n",
    "        percentage_difference = 0\n",
    "    \n",
    "    if percentage_difference <25:\n",
    "        return 0\n",
    "    else:\n",
    "        return percentage_difference"
   ],
   "metadata": {
    "collapsed": false,
    "ExecuteTime": {
     "end_time": "2025-02-25T03:34:27.484273600Z",
     "start_time": "2025-02-25T03:34:27.478229500Z"
    }
   },
   "id": "f808dfbd384c2c5d",
   "execution_count": 57
  },
  {
   "cell_type": "code",
   "outputs": [],
   "source": [
    "def srednee(list1, mid_index):\n",
    "    \"\"\"\n",
    "    Список list1 делим на две части по индексу mid_index и находим процент отличия средних значений\n",
    "    \"\"\"\n",
    "    # Исходный список данных\n",
    "    data = np.array(list1)\n",
    "    \n",
    "    # Разделение списка на две части\n",
    "    \n",
    "    y1 = data[:mid_index]  # Первая часть\n",
    "    y2 = data[mid_index:]  # Вторая часть\n",
    "   \n",
    "    # Вычисление средних значений\n",
    "    mean1 = np.mean(y1)  # Среднее значение для первой части\n",
    "    mean2 = np.mean(y2)  # Среднее значение для второй части\n",
    "    \n",
    "    # Вычисление разницы в средних значениях\n",
    "    mean_difference = abs(mean1 - mean2)\n",
    "    average_mean = (mean1 + mean2) / 2\n",
    "    \n",
    "    # Вычисление процента отличия\n",
    "    if average_mean != 0:  # Проверка на ноль, чтобы избежать деления на ноль\n",
    "        percentage_difference = (mean_difference / average_mean) * 100\n",
    "    else:\n",
    "        percentage_difference = 0\n",
    "    if percentage_difference <50:\n",
    "        return 0\n",
    "    else:\n",
    "        return percentage_difference\n"
   ],
   "metadata": {
    "collapsed": false,
    "ExecuteTime": {
     "end_time": "2025-02-25T03:55:52.186160700Z",
     "start_time": "2025-02-25T03:55:52.180672300Z"
    }
   },
   "id": "5e770f920c2d8c37",
   "execution_count": 97
  },
  {
   "cell_type": "code",
   "outputs": [],
   "source": [
    "granica_xline = []\n",
    "for i in range(len(ilines_TWT)):\n",
    "    line_M = []\n",
    "    line_D = []\n",
    "    \n",
    "    # индексы сшития исходя из линии тренда M и D, исходя из среднего значения M и D \n",
    "    index_shit_cub = [0, 0, 0, 0] \n",
    "    \n",
    "    procent_M = []\n",
    "    procent_D = []\n",
    "    srednee_M = []\n",
    "    srednee_D = []\n",
    "    for j in range(len(xlines_TWT)):\n",
    "        line_M.append(M_D_TWT[f\"{ilines_TWT[i]}_{xlines_TWT[j]}\"][0])\n",
    "        line_D.append(M_D_TWT[f\"{ilines_TWT[i]}_{xlines_TWT[j]}\"][1])\n",
    "\n",
    "    df = pd.DataFrame({'Значения_M':line_M, 'Значения_D':line_D})\n",
    "\n",
    "    df['Экспоненциальное_сглаживание_M'] = df['Значения_M'].ewm(span=40, adjust=False).mean() \n",
    "    df['Экспоненциальное_сглаживание_D'] = df['Значения_D'].ewm(span=40, adjust=False).mean()\n",
    "    \n",
    "    #оконная функция для нахождения разницы процентов линии тренда\n",
    "    shag = 10\n",
    "    for k in range(shag,len(df['Экспоненциальное_сглаживание_M'])-shag,shag):\n",
    "        procent_M.append(procent(df['Экспоненциальное_сглаживание_M'], k))\n",
    "        procent_D.append(procent(df['Экспоненциальное_сглаживание_D'], k))\n",
    "        srednee_M.append(srednee(df['Экспоненциальное_сглаживание_M'], k))\n",
    "        srednee_D.append(srednee(df['Экспоненциальное_сглаживание_D'], k))\n",
    "    index_shit_cub[0] = (procent_M.index(max(procent_M))+1) * shag\n",
    "    index_shit_cub[1] = (procent_D.index(max(procent_D))+1) * shag\n",
    "    index_shit_cub[2] = (srednee_M.index(max(srednee_M))+1) * shag\n",
    "    index_shit_cub[3] = (srednee_D.index(max(srednee_D))+1) * shag\n",
    "    \n",
    "    filtered_list = [item for item in index_shit_cub if item >= len(df['Экспоненциальное_сглаживание_M'])*0.25 and item <=len(df['Экспоненциальное_сглаживание_M'])*0.75]\n",
    "    if not filtered_list:\n",
    "        filtered_list = [0]\n",
    "        #granica_xline.append(0)\n",
    "    else:\n",
    "        granica_xline.append(round(np.mean(filtered_list)))\n",
    "    #granica_xline.append(index_shit_cub)\n",
    "    df = df.iloc[0:0] \n",
    "    "
   ],
   "metadata": {
    "collapsed": false,
    "ExecuteTime": {
     "end_time": "2025-02-25T04:02:26.719165Z",
     "start_time": "2025-02-25T04:02:25.807855Z"
    }
   },
   "id": "a8e21b0438109a2d",
   "execution_count": 105
  },
  {
   "cell_type": "code",
   "outputs": [
    {
     "name": "stdout",
     "output_type": "stream",
     "text": [
      "[100, 140, 100, 130, 110, 70, 60, 95, 150, 75, 60, 70, 90, 70, 70, 60, 60, 60, 60, 60, 80, 80, 60, 60, 60, 60, 90, 75, 80, 100, 60, 60, 60, 100, 100, 120, 70, 100, 110, 95, 100, 70, 100, 80, 85, 90, 80, 70, 90, 90, 90, 85, 105, 120, 100, 95, 110, 85, 95, 110, 130, 70, 60, 70, 80, 60, 90, 90, 100, 110]\n",
      "86.0\n",
      "70\n"
     ]
    }
   ],
   "source": [
    "print(granica_xline)\n",
    "print(np.mean(granica_xline))\n",
    "print(len(granica_xline))"
   ],
   "metadata": {
    "collapsed": false,
    "ExecuteTime": {
     "end_time": "2025-02-25T04:02:27.301884Z",
     "start_time": "2025-02-25T04:02:27.292439700Z"
    }
   },
   "id": "f5b5660188687f56",
   "execution_count": 106
  },
  {
   "cell_type": "code",
   "outputs": [],
   "source": [
    "granica_iline = []\n",
    "for i in range(len(xlines_TWT)):\n",
    "    line_M = []\n",
    "    line_D = []\n",
    "    \n",
    "    # индексы сшития исходя из линии тренда M и D, исходя из среднего значения M и D \n",
    "    index_shit_cub = [0, 0, 0, 0] \n",
    "    \n",
    "    procent_M = []\n",
    "    procent_D = []\n",
    "    srednee_M = []\n",
    "    srednee_D = []\n",
    "    for j in range(len(ilines_TWT)):\n",
    "        line_M.append(M_D_TWT[f\"{ilines_TWT[j]}_{xlines_TWT[i]}\"][0])\n",
    "        line_D.append(M_D_TWT[f\"{ilines_TWT[j]}_{xlines_TWT[i]}\"][1])\n",
    "\n",
    "    df = pd.DataFrame({'Значения_M':line_M, 'Значения_D':line_D})\n",
    "\n",
    "    df['Экспоненциальное_сглаживание_M'] = df['Значения_M'].ewm(span=40, adjust=False).mean() \n",
    "    df['Экспоненциальное_сглаживание_D'] = df['Значения_D'].ewm(span=40, adjust=False).mean()\n",
    "    \n",
    "    #оконная функция для нахождения разницы процентов линии тренда\n",
    "    shag = 10\n",
    "    for k in range(shag,len(df['Экспоненциальное_сглаживание_M'])-shag,shag):\n",
    "        procent_M.append(procent(df['Экспоненциальное_сглаживание_M'], k))\n",
    "        procent_D.append(procent(df['Экспоненциальное_сглаживание_D'], k))\n",
    "        srednee_M.append(srednee(df['Экспоненциальное_сглаживание_M'], k))\n",
    "        srednee_D.append(srednee(df['Экспоненциальное_сглаживание_D'], k))\n",
    "    index_shit_cub[0] = (procent_M.index(max(procent_M))+1) * shag\n",
    "    index_shit_cub[1] = (procent_D.index(max(procent_D))+1) * shag\n",
    "    index_shit_cub[2] = (srednee_M.index(max(srednee_M))+1) * shag\n",
    "    index_shit_cub[3] = (srednee_D.index(max(srednee_D))+1) * shag\n",
    "    \n",
    "    filtered_list = [item for item in index_shit_cub if item >= len(df['Экспоненциальное_сглаживание_M'])*0.25 and item <=len(df['Экспоненциальное_сглаживание_M'])*0.75]\n",
    "    if not filtered_list:\n",
    "        filtered_list = []\n",
    "    else:\n",
    "        granica_iline.append(round(np.mean(filtered_list)))\n",
    "    \n",
    "    #granica_iline.append(round(np.mean(index_shit_cub)))\n",
    "    #granica_iline.append(index_shit_cub)\n",
    "    df = df.iloc[0:0] "
   ],
   "metadata": {
    "collapsed": false,
    "ExecuteTime": {
     "end_time": "2025-02-25T03:55:56.386571Z",
     "start_time": "2025-02-25T03:55:55.429617900Z"
    }
   },
   "id": "66fe9bbbb3cfa91e",
   "execution_count": 100
  },
  {
   "cell_type": "code",
   "outputs": [
    {
     "name": "stdout",
     "output_type": "stream",
     "text": [
      "[40, 50, 40, 35, 30, 40, 40, 40, 30, 30, 40, 45, 40, 40, 40, 30, 30, 40, 50, 40, 50, 70, 50, 50, 50, 50, 50, 70, 30, 60, 60, 70, 45, 60, 70, 50, 35, 40, 45, 40, 50, 43, 40, 50, 50, 70, 50, 57, 30, 35, 33, 40, 40, 70, 70, 45, 45, 30, 60, 60, 40, 40, 30, 60, 30, 50, 30, 30, 30, 30, 60, 40, 40, 30, 45, 45, 60, 60, 57, 63, 50, 70, 57, 35, 65, 70, 43, 70, 70, 30, 60, 50, 45, 55, 45, 50, 35, 55, 50, 65, 65, 40, 35, 40, 50, 57, 70, 30, 60, 30, 40, 40, 50, 60, 60, 60, 63, 40, 50, 70, 65, 50, 47, 53, 30, 40, 40, 47, 40, 40, 30, 30, 55, 60, 70, 30, 70, 70, 45, 50, 50, 50, 50, 50, 50, 47, 50, 50, 60, 60, 50, 55, 60]\n",
      "48.21568627450981\n"
     ]
    }
   ],
   "source": [
    "print(granica_iline)\n",
    "print(np.mean(granica_iline))"
   ],
   "metadata": {
    "collapsed": false,
    "ExecuteTime": {
     "end_time": "2025-02-25T03:55:56.938853600Z",
     "start_time": "2025-02-25T03:55:56.929378100Z"
    }
   },
   "id": "5424d52bc43ddf",
   "execution_count": 101
  },
  {
   "cell_type": "code",
   "outputs": [],
   "source": [],
   "metadata": {
    "collapsed": false
   },
   "id": "7043a97059005414"
  }
 ],
 "metadata": {
  "kernelspec": {
   "display_name": "Python 3",
   "language": "python",
   "name": "python3"
  },
  "language_info": {
   "codemirror_mode": {
    "name": "ipython",
    "version": 2
   },
   "file_extension": ".py",
   "mimetype": "text/x-python",
   "name": "python",
   "nbconvert_exporter": "python",
   "pygments_lexer": "ipython2",
   "version": "2.7.6"
  }
 },
 "nbformat": 4,
 "nbformat_minor": 5
}
