{
 "cells": [
  {
   "cell_type": "code",
   "execution_count": 59,
   "id": "initial_id",
   "metadata": {
    "collapsed": true,
    "ExecuteTime": {
     "end_time": "2024-12-13T09:09:53.819535500Z",
     "start_time": "2024-12-13T09:09:53.810572900Z"
    }
   },
   "outputs": [],
   "source": [
    "import numpy as np\n",
    "import matplotlib.pyplot as plt\n",
    "import segyio\n",
    "import matplotlib.patches as patches\n",
    "import pandas as pd\n",
    "import re\n",
    "import os"
   ]
  },
  {
   "cell_type": "code",
   "outputs": [],
   "source": [
    "def read_seismic_cube(file_path):\n",
    "    \"\"\"\n",
    "    :param file_path: Путь к файлу\n",
    "    :return: возвращает куб в виде списков по Inlines, Xlines и Sampels (координаты x, y, z)\n",
    "    а также словарю сейсмотрасс, где ключ это координата пересечения Inlines и Xlines, а значение это список значений сейсмотрасс\n",
    "    \"\"\"\n",
    "    with segyio.open(file_path, 'r') as segyfile:\n",
    "        x = list(segyfile.ilines)\n",
    "        y = list(segyfile.xlines)\n",
    "        z = list(segyfile.samples)\n",
    "        cube = segyio.tools.cube(segyfile)\n",
    "        traces = {f\"{x[i]}_{y[j]}\": cube[i][j][:] for i in range(len(x)) for j in range(len(y))}\n",
    "    return x, y, z, traces"
   ],
   "metadata": {
    "collapsed": false,
    "ExecuteTime": {
     "end_time": "2024-12-13T09:09:54.536758400Z",
     "start_time": "2024-12-13T09:09:54.510850600Z"
    }
   },
   "id": "16d5a9c60407859e",
   "execution_count": 60
  },
  {
   "cell_type": "code",
   "outputs": [],
   "source": [
    "file_path = 'C:/HV/Seismic/datas/Cube_TWT.segy'\n",
    "ilines, xlines, samples_0, traces = read_seismic_cube(file_path)\n",
    "samples = list()\n",
    "for i in range(len(samples_0)):\n",
    "    samples.append(int(samples_0[i]))"
   ],
   "metadata": {
    "collapsed": false,
    "ExecuteTime": {
     "end_time": "2024-12-13T09:09:56.981562600Z",
     "start_time": "2024-12-13T09:09:55.140813500Z"
    }
   },
   "id": "3e515d58704aa4e9",
   "execution_count": 61
  },
  {
   "cell_type": "code",
   "outputs": [],
   "source": [
    "# проход по всем разломам и составление всех точек в один большой словарь\n",
    "def process_files(directory):\n",
    "    files = os.listdir(directory)\n",
    "    result = {}\n",
    "\n",
    "    for file in files:\n",
    "        if file.endswith('.txt'):\n",
    "            with open(os.path.join(directory, file), 'r') as f:\n",
    "                data = []\n",
    "                for line in f:\n",
    "                    fields = line.split()\n",
    "                    if len(fields) == 8:\n",
    "                        x = int(fields[2])\n",
    "                        y = int(fields[1])\n",
    "                        z = -int(float(fields[5]))\n",
    "                        t = int(fields[7])\n",
    "                        data.append([x, y, z, t])\n",
    "                result[file] = data\n",
    "\n",
    "    return result"
   ],
   "metadata": {
    "collapsed": false,
    "ExecuteTime": {
     "end_time": "2024-12-13T09:09:58.307305900Z",
     "start_time": "2024-12-13T09:09:58.298826800Z"
    }
   },
   "id": "bbb773351c5093bd",
   "execution_count": 62
  },
  {
   "cell_type": "code",
   "outputs": [],
   "source": [
    "directory = 'C:/HV/Seismic/datas/Faults_TWT_Charisma_fault_sticks_ASCII'\n",
    "faults_original = process_files(directory)\n"
   ],
   "metadata": {
    "collapsed": false,
    "ExecuteTime": {
     "end_time": "2024-12-13T09:10:01.757500800Z",
     "start_time": "2024-12-13T09:10:01.744666400Z"
    }
   },
   "id": "26fd1c945a5bf777",
   "execution_count": 63
  },
  {
   "cell_type": "code",
   "outputs": [],
   "source": [
    "\n",
    "\"\"\"\n",
    "Сборка координат в один список попарно\n",
    "Если точек больше 2, то берется минимальное и максимальное значение по глубинам\n",
    "Если точка 1, то она не учитывается в разломах\n",
    "\"\"\"\n",
    "faults_final = {}\n",
    "\n",
    "for key in faults_original:\n",
    "    dop_spisok = []\n",
    "    z_spisok = []\n",
    "    faults_final[key] = []\n",
    "\n",
    "    for i in range(len(faults_original[key])):\n",
    "        if len(dop_spisok) == 0:\n",
    "            dop_spisok.append(faults_original[key][i])\n",
    "            z_spisok.append(faults_original[key][i][2])\n",
    "        elif len(dop_spisok) == 1:\n",
    "            if dop_spisok[0][3] == faults_original[key][i][3]:\n",
    "                dop_spisok.append(faults_original[key][i])\n",
    "                z_spisok.append(faults_original[key][i][2])\n",
    "            else:\n",
    "                dop_spisok.clear()\n",
    "                z_spisok.clear()\n",
    "                dop_spisok.append(faults_original[key][i])\n",
    "                z_spisok.append(faults_original[key][i][2])\n",
    "        elif len(dop_spisok) == 2:\n",
    "            if dop_spisok[0][3] == faults_original[key][i][3]:\n",
    "                dop_spisok.append(faults_original[key][i])\n",
    "                z_spisok.append(faults_original[key][i][2])\n",
    "            else:\n",
    "                #faults_final.append(dop_spisok[:])\n",
    "                faults_final[key].append(dop_spisok[:])\n",
    "                dop_spisok.clear()\n",
    "                z_spisok.clear()\n",
    "                dop_spisok.append(faults_original[key][i])\n",
    "                z_spisok.append(faults_original[key][i][2])\n",
    "        else:\n",
    "            if dop_spisok[0][3] == faults_original[key][i][3]:\n",
    "                dop_spisok.append(faults_original[key][i])\n",
    "                z_spisok.append(faults_original[key][i][2])\n",
    "            else:\n",
    "                faults_final[key].append(\n",
    "                    [dop_spisok[z_spisok.index(min(z_spisok))], dop_spisok[z_spisok.index(max(z_spisok))]])\n",
    "                dop_spisok.clear()\n",
    "                z_spisok.clear()\n",
    "                dop_spisok.append(faults_original[key][i])\n",
    "                z_spisok.append(faults_original[key][i][2])"
   ],
   "metadata": {
    "collapsed": false,
    "ExecuteTime": {
     "end_time": "2024-12-13T09:10:04.020166700Z",
     "start_time": "2024-12-13T09:10:04.016185100Z"
    }
   },
   "id": "12f10eea0d9d1591",
   "execution_count": 64
  },
  {
   "cell_type": "code",
   "outputs": [],
   "source": [
    "def line_km(spisok):\n",
    "    z_min = -2386\n",
    "    z_max = -2142\n",
    "    if (-2142 < spisok[0][2]) and (spisok[1][2] < -2386):\n",
    "        t1 = (z_max - spisok[0][2]) / (spisok[1][2] - spisok[0][2])\n",
    "        x1 = round(spisok[0][0] + (spisok[1][0] - spisok[0][0]) * t1)\n",
    "        y1 = round(spisok[0][1] + (spisok[1][1] - spisok[0][1]) * t1)\n",
    "        z1 = z_max\n",
    "\n",
    "        t2 = (z_min - spisok[0][2]) / (spisok[1][2] - spisok[0][2])\n",
    "        x2 = round(spisok[0][0] + (spisok[1][0] - spisok[0][0]) * t2)\n",
    "        y2 = round(spisok[0][1] + (spisok[1][1] - spisok[0][1]) * t2)\n",
    "        z2 = z_min\n",
    "        return [[x1, y1, z1], [x2, y2, z2], 0]\n",
    "    elif (-2142 > spisok[0][2]) and (spisok[1][2] < -2386):\n",
    "        t2 = (z_min - spisok[0][2]) / (spisok[1][2] - spisok[0][2])\n",
    "        x2 = round(spisok[0][0] + (spisok[1][0] - spisok[0][0]) * t2)\n",
    "        y2 = round(spisok[0][1] + (spisok[1][1] - spisok[0][1]) * t2)\n",
    "        z2 = z_min\n",
    "        return [[spisok[0][0], spisok[0][1], spisok[0][2]], [x2, y2, z2], 1]\n",
    "    elif (-2142 < spisok[0][2]) and (spisok[1][2] > -2386):\n",
    "        t1 = (z_max - spisok[0][2]) / (spisok[1][2] - spisok[0][2])\n",
    "        x1 = round(spisok[0][0] + (spisok[1][0] - spisok[0][0]) * t1)\n",
    "        y1 = round(spisok[0][1] + (spisok[1][1] - spisok[0][1]) * t1)\n",
    "        z1 = z_max\n",
    "        return [[x1, y1, z1], [spisok[1][0], spisok[1][1], spisok[1][2]], 2]\n",
    "    else:\n",
    "        return [[spisok[0][0], spisok[0][1], spisok[0][2]], [spisok[1][0], spisok[1][1], spisok[1][2]], 3]"
   ],
   "metadata": {
    "collapsed": false,
    "ExecuteTime": {
     "end_time": "2024-12-13T09:10:06.635123600Z",
     "start_time": "2024-12-13T09:10:06.631953600Z"
    }
   },
   "id": "417bd2c2055b6246",
   "execution_count": 65
  },
  {
   "cell_type": "code",
   "outputs": [],
   "source": [
    "faults_to_cube_2 = {}\n",
    "for key in faults_final:\n",
    "    faults_to_cube_2[key] = []\n",
    "    for i in range(len(faults_final[key])):\n",
    "        faults_to_cube_2[key].append(line_km(sorted(faults_final[key][i], reverse=True, key=lambda xx: xx[2])))\n",
    "maps_of_top = {}\n",
    "for key in traces:\n",
    "    maps_of_top[key] = traces[key][0]"
   ],
   "metadata": {
    "collapsed": false,
    "ExecuteTime": {
     "end_time": "2024-12-13T09:10:07.494997100Z",
     "start_time": "2024-12-13T09:10:07.340364600Z"
    }
   },
   "id": "7d929b674bd11d39",
   "execution_count": 66
  },
  {
   "cell_type": "code",
   "outputs": [],
   "source": [
    "def show_map(maps, k):\n",
    "    # срез карты по осям ХУ\n",
    "\n",
    "    # Извлечение данных для отрисовки\n",
    "    points = []\n",
    "    values = []\n",
    "    for coord_str, value in maps.items():\n",
    "        y, x = map(int, coord_str.split('_'))\n",
    "        points.append((x, y))\n",
    "        values.append(value)\n",
    "\n",
    "    # Создание графика\n",
    "    plt.figure(figsize=(6, 6))\n",
    "    scatter = plt.scatter(x=list(zip(*points))[0], y=list(zip(*points))[1], c=values)\n",
    "    plt.xticks([ilines[0], ilines[100], ilines[200], ilines[300], ilines[400], ilines[500], ilines[-1]])\n",
    "    plt.yticks([xlines[0], xlines[100], xlines[200], xlines[300], xlines[400], xlines[500], xlines[-1]])\n",
    "    plt.title('Карта')\n",
    "    plt.ylabel('Инлайны')\n",
    "    plt.xlabel('Кросслайны')\n",
    "    plt.colorbar(scatter, label='Шкала значений сейсмотрассы')\n",
    "\n",
    "    x_coords = []\n",
    "    y_coords = []\n",
    "    # проходимся по первому элементу в каждом подсписке и добавляем его координаты в список\n",
    "    for key in faults_to_cube_2:\n",
    "        x_coords = []\n",
    "        y_coords = []\n",
    "        for sublist in faults_to_cube_2[key]:\n",
    "            x_coords.append(sublist[k][0])\n",
    "            y_coords.append(sublist[k][1])\n",
    "        plt.plot(x_coords, y_coords, color='red', linewidth=2)  # Линия красного цвета с толщиной 2\n",
    "\n",
    "    plt.grid(False)  # Отключение сетки\n",
    "    plt.show()\n",
    "\n",
    "\n",
    "\n",
    "\n"
   ],
   "metadata": {
    "collapsed": false,
    "ExecuteTime": {
     "end_time": "2024-10-15T05:24:35.725231900Z",
     "start_time": "2024-10-15T05:24:35.719726100Z"
    }
   },
   "id": "d8c99dccd0724378",
   "execution_count": 22
  },
  {
   "cell_type": "code",
   "outputs": [],
   "source": [
    "import plotly.graph_objects as go\n",
    "\n",
    "def show_map_2(maps, k):\n",
    "    # Извлечение данных для отрисовки\n",
    "    points = []\n",
    "    values = []\n",
    "    for coord_str, value in maps.items():\n",
    "        x, y = map(int, coord_str.split('_'))\n",
    "        points.append((x, y))\n",
    "        values.append(value)\n",
    "\n",
    "    # Создание графика\n",
    "    fig = go.Figure()\n",
    "\n",
    "    # Добавляем рассеяние точек\n",
    "    scatter = go.Scatter(\n",
    "        x=list(zip(*points))[0],\n",
    "        y=list(zip(*points))[1],\n",
    "        mode='markers',\n",
    "        marker=dict(\n",
    "            size=10,\n",
    "            color=values,\n",
    "            colorscale='Viridis',  # Вы можете выбрать другую цветовую шкалу\n",
    "            colorbar=dict(title='Шкала значений сейсмотрассы'),\n",
    "            showscale=True\n",
    "        ),\n",
    "        name='Сейсмотрассы'\n",
    "    )\n",
    "    fig.add_trace(scatter)\n",
    "\n",
    "    # Проходимся по первому элементу в каждом подсписке и добавляем его координаты в список\n",
    "    for key in faults_to_cube_2:\n",
    "        x_coords = []\n",
    "        y_coords = []\n",
    "        for sublist in faults_to_cube_2[key]:\n",
    "            x_coords.append(sublist[k][0])\n",
    "            y_coords.append(sublist[k][1])\n",
    "        # Добавляем линии\n",
    "        fig.add_trace(go.Scatter(\n",
    "            x=x_coords,\n",
    "            y=y_coords,\n",
    "            mode='lines',\n",
    "            line=dict(color='red', width=2),\n",
    "            name='Линии разломов'\n",
    "        ))\n",
    "\n",
    "    # Настройка макета графика\n",
    "    fig.update_layout(\n",
    "        title='Карта',\n",
    "        xaxis_title='Инлайны',\n",
    "        yaxis_title='Кросслайны',\n",
    "        showlegend=True\n",
    "    )\n",
    "\n",
    "    # Отображение графика\n",
    "    fig.show()\n",
    "\n"
   ],
   "metadata": {
    "collapsed": false,
    "ExecuteTime": {
     "end_time": "2024-12-13T09:10:35.010860600Z",
     "start_time": "2024-12-13T09:10:34.985942900Z"
    }
   },
   "id": "6c565f128de63fae",
   "execution_count": 67
  },
  {
   "cell_type": "code",
   "outputs": [],
   "source": [
    "show_map_2(maps_of_top, 0)\n",
    "print(faults_to_cube_2)\n",
    "\n",
    "razrezi = {}\n",
    "for key in faults_to_cube_2:\n",
    "    a = faults_to_cube_2[key][0][0][0]\n",
    "    b = faults_to_cube_2[key][-1][0][0]\n",
    "    razrezi[key] = a + (b - a) // 2\n",
    "\n",
    "print(razrezi)"
   ],
   "metadata": {
    "collapsed": false,
    "ExecuteTime": {
     "end_time": "2024-12-13T09:10:50.439554400Z",
     "start_time": "2024-12-13T09:10:41.182559200Z"
    }
   },
   "id": "98cd096b3ac124bb",
   "execution_count": 68
  },
  {
   "cell_type": "code",
   "outputs": [],
   "source": [
    "def show_razrez(X, name):\n",
    "    map_xlines_samples = {}\n",
    "    for i in range(len(xlines)):\n",
    "        for j in range(len(samples)):\n",
    "            map_xlines_samples[f\"{xlines[i]}_{samples[j]}\"] = traces[f\"{X}_{xlines[i]}\"][j]\n",
    "\n",
    "    # Извлечение данных для отрисовки\n",
    "    points = []\n",
    "    values = []\n",
    "    for coord_str, value in map_xlines_samples.items():\n",
    "        x, y = map(int, coord_str.split('_'))\n",
    "        points.append((x, y * (-1)))\n",
    "        values.append(value)\n",
    "\n",
    "    # Создание графика\n",
    "    plt.figure(figsize=(5, 5))\n",
    "    scatter = plt.scatter(x=list(zip(*points))[0], y=list(zip(*points))[1], c=values)\n",
    "    plt.xticks([xlines[0], xlines[100], xlines[200], xlines[300], xlines[400], xlines[500], xlines[-1]])\n",
    "    plt.yticks([(-1) * samples[0], (-1) * samples[50], (-1) * samples[100], (-1) * samples[-1]])\n",
    "    plt.title(name)\n",
    "    plt.xlabel('Кросcлайны')\n",
    "    plt.ylabel('Глубины')\n",
    "    plt.colorbar(scatter, label='Шкала  значений сейсмотрассы')\n",
    "\n",
    "    for key in faults_to_cube_2:\n",
    "        x_coords = []\n",
    "        y_coords = []\n",
    "        for i in range(len(faults_to_cube_2[key])):\n",
    "            for j in range(2):\n",
    "                if (X - 3) <= faults_to_cube_2[key][i][j][0] <= (X + 3):\n",
    "                    #if faults_to_cube_2[key][i][j][0] == X:\n",
    "                    x_coords.append(faults_to_cube_2[key][i][j][1])\n",
    "                    y_coords.append(faults_to_cube_2[key][i][j][2])\n",
    "                    plt.plot(x_coords, y_coords, color='red', linewidth=2,\n",
    "                             alpha=0.3)  # Линия красного цвета с толщиной 2\n",
    "\n",
    "    plt.grid(False)  # Отключение сетки\n",
    "    plt.show()"
   ],
   "metadata": {
    "collapsed": false
   },
   "id": "851ec1cb400dbf82"
  },
  {
   "cell_type": "code",
   "outputs": [],
   "source": [
    "for key in razrezi:\n",
    "    show_razrez(razrezi[key], key)"
   ],
   "metadata": {
    "collapsed": false
   },
   "id": "9b2b8eb5e11d7b9c"
  },
  {
   "cell_type": "code",
   "outputs": [],
   "source": [],
   "metadata": {
    "collapsed": false
   },
   "id": "7f249e04db03ba76"
  },
  {
   "cell_type": "code",
   "outputs": [],
   "source": [],
   "metadata": {
    "collapsed": false
   },
   "id": "6a089a4ac4ba5d09"
  },
  {
   "cell_type": "code",
   "outputs": [],
   "source": [
    "import plotly.graph_objects as go\n",
    "\n",
    "def show_map(maps, k):\n",
    "    # Извлечение данных для отрисовки\n",
    "    points = []\n",
    "    values = []\n",
    "    for coord_str, value in maps.items():\n",
    "        x, y = map(int, coord_str.split('_'))\n",
    "        points.append((x, y))\n",
    "        values.append(value)\n",
    "\n",
    "    # Создание графика\n",
    "    fig = go.Figure()\n",
    "\n",
    "    # Добавляем рассеяние точек\n",
    "    scatter = go.Scatter(\n",
    "        x=list(zip(*points))[0],\n",
    "        y=list(zip(*points))[1],\n",
    "        mode='markers',\n",
    "        marker=dict(\n",
    "            size=10,\n",
    "            color=values,\n",
    "            colorscale='Viridis',  # Вы можете выбрать другую цветовую шкалу\n",
    "            colorbar=dict(title='Шкала значений сейсмотрассы'),\n",
    "            showscale=True\n",
    "        ),\n",
    "        name='Сейсмотрассы'\n",
    "    )\n",
    "    fig.add_trace(scatter)\n",
    "\n",
    "    # Проходимся по первому элементу в каждом подсписке и добавляем его координаты в список\n",
    "    for key in faults_to_cube_2:\n",
    "        x_coords = []\n",
    "        y_coords = []\n",
    "        for sublist in faults_to_cube_2[key]:\n",
    "            x_coords.append(sublist[k][0])\n",
    "            y_coords.append(sublist[k][1])\n",
    "        # Добавляем линии\n",
    "        fig.add_trace(go.Scatter(\n",
    "            x=x_coords,\n",
    "            y=y_coords,\n",
    "            mode='lines',\n",
    "            line=dict(color='red', width=2),\n",
    "            name='Линии разломов'\n",
    "        ))\n",
    "\n",
    "    # Настройка макета графика\n",
    "    fig.update_layout(\n",
    "        title='Карта',\n",
    "        xaxis_title='Инлайны',\n",
    "        yaxis_title='Кросслайны',\n",
    "        showlegend=True\n",
    "    )\n",
    "\n",
    "    # Отображение графика\n",
    "    fig.show()\n"
   ],
   "metadata": {
    "collapsed": false,
    "ExecuteTime": {
     "end_time": "2024-12-13T09:09:09.547445300Z",
     "start_time": "2024-12-13T09:09:09.541627400Z"
    }
   },
   "id": "59eca9b5cfb96378",
   "execution_count": 56
  },
  {
   "cell_type": "code",
   "outputs": [],
   "source": [
    "import plotly.graph_objects as go\n",
    "\n",
    "def show_razrez(X, name):\n",
    "    map_xlines_samples = {}\n",
    "    for i in range(len(xlines)):\n",
    "        for j in range(len(samples)):\n",
    "            map_xlines_samples[f\"{xlines[i]}_{samples[j]}\"] = traces[f\"{X}_{xlines[i]}\"][j]\n",
    "\n",
    "    # Извлечение данных для отрисовки\n",
    "    points = []\n",
    "    values = []\n",
    "    for coord_str, value in map_xlines_samples.items():\n",
    "        x, y = map(int, coord_str.split('_'))\n",
    "        points.append((x, y * (-1)))  # Инвертируем y для глубины\n",
    "        values.append(value)\n",
    "\n",
    "    # Создание графика\n",
    "    fig = go.Figure()\n",
    "\n",
    "    # Добавляем рассеяние точек\n",
    "    scatter = go.Scatter(\n",
    "        x=list(zip(*points))[0],\n",
    "        y=list(zip(*points))[1],\n",
    "        mode='markers',\n",
    "        marker=dict(\n",
    "            size=10,\n",
    "            color=values,\n",
    "            colorscale='Viridis',  # Вы можете выбрать другую цветовую шкалу\n",
    "            colorbar=dict(title='Шкала значений сейсмотрассы'),\n",
    "            showscale=True\n",
    "        ),\n",
    "        name='Сейсмотрассы'\n",
    "    )\n",
    "    fig.add_trace(scatter)\n",
    "\n",
    "    # Добавление линий разломов\n",
    "    for key in faults_to_cube_2:\n",
    "        x_coords = []\n",
    "        y_coords = []\n",
    "        for i in range(len(faults_to_cube_2[key])):\n",
    "            for j in range(2):\n",
    "                if (X - 3) <= faults_to_cube_2[key][i][j][0] <= (X + 3):\n",
    "                    x_coords.append(faults_to_cube_2[key][i][j][1])\n",
    "                    y_coords.append(faults_to_cube_2[key][i][j][2])\n",
    "        if x_coords and y_coords:  # Проверяем, не пустые ли координаты\n",
    "            fig.add_trace(go.Scatter(\n",
    "                x=x_coords,\n",
    "                y=y_coords,\n",
    "                mode='lines',\n",
    "                line=dict(color='red', width=2),  # Убираем opacity\n",
    "                name='Линии разломов'\n",
    "            ))\n",
    "\n",
    "    # Настройка макета графика\n",
    "    fig.update_layout(\n",
    "        title=name,\n",
    "        xaxis_title='Кросслайны',\n",
    "        yaxis_title='Глубины',\n",
    "        showlegend=True,\n",
    "        yaxis=dict(autorange='reversed')  # Инвертируем ось Y для глубины\n",
    "    )\n",
    "\n",
    "    # Настройка меток по осям\n",
    "    fig.update_xaxes(tickvals=[xlines[0], xlines[100], xlines[200], xlines[300], xlines[400], xlines[500], xlines[-1]])\n",
    "    fig.update_yaxes(tickvals=[(-1) * samples[0], (-1) * samples[50], (-1) * samples[100], (-1) * samples[-1]])\n",
    "\n",
    "    # Отображение графика\n",
    "    fig.show()\n"
   ],
   "metadata": {
    "collapsed": false,
    "ExecuteTime": {
     "end_time": "2024-12-13T09:09:10.010778600Z",
     "start_time": "2024-12-13T09:09:10.003298300Z"
    }
   },
   "id": "3e8b6328ca41f523",
   "execution_count": 57
  },
  {
   "cell_type": "code",
   "outputs": [],
   "source": [],
   "metadata": {
    "collapsed": false
   },
   "id": "29c1bf3734b11e7a"
  }
 ],
 "metadata": {
  "kernelspec": {
   "display_name": "Python 3",
   "language": "python",
   "name": "python3"
  },
  "language_info": {
   "codemirror_mode": {
    "name": "ipython",
    "version": 2
   },
   "file_extension": ".py",
   "mimetype": "text/x-python",
   "name": "python",
   "nbconvert_exporter": "python",
   "pygments_lexer": "ipython2",
   "version": "2.7.6"
  }
 },
 "nbformat": 4,
 "nbformat_minor": 5
}
