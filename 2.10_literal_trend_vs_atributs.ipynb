{
 "cells": [
  {
   "cell_type": "code",
   "execution_count": 1,
   "id": "initial_id",
   "metadata": {
    "collapsed": true,
    "ExecuteTime": {
     "end_time": "2025-01-28T05:44:40.391266500Z",
     "start_time": "2025-01-28T05:44:36.375641Z"
    }
   },
   "outputs": [],
   "source": [
    "import random\n",
    "from scipy.optimize import curve_fit\n",
    "from scipy import stats\n",
    "import math\n",
    "import re\n",
    "import plotly.graph_objects as go\n",
    "import numpy as np\n",
    "from scipy.stats import fisher_exact\n",
    "from scipy import stats\n",
    "from sklearn.linear_model import LinearRegression\n",
    "import os"
   ]
  },
  {
   "cell_type": "code",
   "outputs": [],
   "source": [
    "\"\"\"\n",
    "Алгоритм программы\n",
    "1) Считываются файлы тренда и всех атрибутов. По ним схранются значения по координатам, размерность сетки и сами координаты\n",
    "2) Проверяется правильно ли сделана разметка сеток и выставлены координаты всех файлов. Если где-то не сходятся координтаы, то необьходимо отправить пользователя переделать карты\n",
    "3) Т.к. карта содержит очень большое количество точек, то будем брать значения с некоторой периодичностью (шагом)\n",
    "\n",
    "\"\"\""
   ],
   "metadata": {
    "collapsed": false
   },
   "id": "ff071cf1c52481bd"
  },
  {
   "cell_type": "code",
   "outputs": [],
   "source": [
    "def open_coord(file):\n",
    "    \"\"\"\n",
    "    Чтения файла Literal_trend\n",
    "    \"\"\"\n",
    "    with open(file, 'r') as f:\n",
    "        coord = []\n",
    "        for line in f:\n",
    "            if line.startswith('# Grid_space'):\n",
    "                Grid_space = line[13:-1].split(',')\n",
    "            if line.startswith('# Grid_size'):\n",
    "                Grid_size = line[12:-1].split(' x ')\n",
    "            if not line.startswith('#'):  # Пропуск строк, начинающихся с #\n",
    "                x, y, z, i, j = line.split()  # Разбиение строки по столбцам\n",
    "                x = float(x)\n",
    "                y = float(y)\n",
    "                z = float(z) \n",
    "                i = int (i)\n",
    "                j = int(j)\n",
    "                coord.append([x, y, z, i, j])  # Добавление данных в словарь\n",
    "\n",
    "    return coord, Grid_space, Grid_size"
   ],
   "metadata": {
    "collapsed": false,
    "ExecuteTime": {
     "end_time": "2025-01-28T05:44:48.320092400Z",
     "start_time": "2025-01-28T05:44:48.198495700Z"
    }
   },
   "id": "407320c28d1099ae",
   "execution_count": 2
  },
  {
   "cell_type": "code",
   "outputs": [
    {
     "name": "stdout",
     "output_type": "stream",
     "text": [
      "[[445946.632991, 7004198.214381, 72.554604, 2, 2], [445996.632991, 7004198.214381, 74.0868, 3, 2], [446046.632991, 7004198.214381, 74.0868, 4, 2], [446096.632991, 7004198.214381, 75.619003, 5, 2], [446146.632991, 7004198.214381, 74.0868, 6, 2], [446196.632991, 7004198.214381, 71.0224, 7, 2], [446246.632991, 7004198.214381, 72.554604, 8, 2], [446296.632991, 7004198.214381, 72.554604, 9, 2], [446346.632991, 7004198.214381, 74.0868, 10, 2], [446396.632991, 7004198.214381, 72.554604, 11, 2]]\n",
      "80080\n",
      "[' 445896.632991', '460246.632991', '7004148.214381', '7018198.214381']\n",
      "[' 288', '282']\n"
     ]
    }
   ],
   "source": [
    "Lateral_trend, Lateral_trend_Grid_space, Lateral_trend_Grid_size = open_coord('C:/HV/Seismic/datas/Lateral_trend_No_smooth_Heff.txt')\n",
    "print(Lateral_trend[0:10])\n",
    "print(len(Lateral_trend))\n",
    "print(Lateral_trend_Grid_space)\n",
    "print(Lateral_trend_Grid_size)"
   ],
   "metadata": {
    "collapsed": false,
    "ExecuteTime": {
     "end_time": "2025-01-29T03:38:33.475488400Z",
     "start_time": "2025-01-29T03:38:33.317407300Z"
    }
   },
   "id": "8d05077af24d060d",
   "execution_count": 34
  },
  {
   "cell_type": "code",
   "outputs": [],
   "source": [],
   "metadata": {
    "collapsed": false,
    "ExecuteTime": {
     "end_time": "2025-01-28T05:44:57.337952Z",
     "start_time": "2025-01-28T05:44:57.242270700Z"
    }
   },
   "id": "bc67051fb226067e",
   "execution_count": 3
  },
  {
   "cell_type": "code",
   "outputs": [],
   "source": [
    "def atribusts(folder_path):\n",
    "    \"\"\"\n",
    "    Проходимся по всем атрибутам в папке и собираем словарь в котором хранятся все данные атрибутов.\n",
    "    Словарь{название файла : {data : [], Grid_space : [], Grid_size :[]}, ...}\n",
    "    \"\"\"\n",
    "    Surf = {}\n",
    "    files = os.listdir(folder_path)\n",
    "    \n",
    "    # Проходим по каждому файлу и создаем словари\n",
    "    for file in files:\n",
    "        if file.endswith('.txt'):\n",
    "            var_name = file[:-4]  # Убираем '.txt'\n",
    "        \n",
    "            with open(os.path.join(folder_path, file), 'r') as f:\n",
    "                coord = []\n",
    "                for line in f:\n",
    "                    if line.startswith('# Grid_space'):\n",
    "                        Grid_space = line[13:-1].split(',')\n",
    "                    if line.startswith('# Grid_size'):\n",
    "                        Grid_size = line[12:-1].split(' x ')\n",
    "                    if not line.startswith('#'):  # Пропуск строк, начинающихся с #\n",
    "                        x, y, z, i, j = line.split()  # Разбиение строки по столбцам\n",
    "                        x = float(x)\n",
    "                        y = float(y)\n",
    "                        z = float(z) \n",
    "                        i = int (i)\n",
    "                        j = int(j)\n",
    "                        coord.append([x, y, z, i, j])  # Добавление данных в словарь\n",
    "\n",
    "            #   Создаем словарь для каждого файла с тремя ключами\n",
    "            Surf[var_name] = {\n",
    "                'data': coord,\n",
    "                'Grid_space': Grid_space,\n",
    "                'Grid_size': Grid_size\n",
    "            }\n",
    "    return Surf\n"
   ],
   "metadata": {
    "collapsed": false,
    "ExecuteTime": {
     "end_time": "2025-01-28T05:44:58.912920100Z",
     "start_time": "2025-01-28T05:44:58.810298Z"
    }
   },
   "id": "e1a9929f6fa7dcdf",
   "execution_count": 4
  },
  {
   "cell_type": "code",
   "outputs": [
    {
     "name": "stdout",
     "output_type": "stream",
     "text": [
      "dict_keys(['1_05_2_Top_Sweet_RMSh', '2_01_7_Fm_Amp_MaxM', '2_02_7_Fm_RMS_MaxM', '2_11_7_Fm_Amp_Contr_MaxM', 'AmplitudeContrast_HalfEnergy_TWT'])\n"
     ]
    }
   ],
   "source": [
    "Surface_attributes = atribusts('C:/HV/Seismic/datas/atributs')\n",
    "print(Surface_attributes.keys())"
   ],
   "metadata": {
    "collapsed": false,
    "ExecuteTime": {
     "end_time": "2025-01-29T03:38:47.539503400Z",
     "start_time": "2025-01-29T03:38:46.327216500Z"
    }
   },
   "id": "68fc0bf8839859de",
   "execution_count": 35
  },
  {
   "cell_type": "code",
   "outputs": [
    {
     "name": "stdout",
     "output_type": "stream",
     "text": [
      "[[445946.632991, 7004198.214381, 50.654621, 2, 2], [445996.632991, 7004198.214381, 85.337822, 3, 2], [446046.632991, 7004198.214381, 31.588446, 4, 2], [446096.632991, 7004198.214381, 165.998688, 5, 2], [446146.632991, 7004198.214381, 87.795975, 6, 2], [446196.632991, 7004198.214381, 193.958115, 7, 2], [446246.632991, 7004198.214381, 46.851452, 8, 2], [446296.632991, 7004198.214381, 93.091415, 9, 2], [446346.632991, 7004198.214381, 222.665771, 10, 2], [446396.632991, 7004198.214381, 186.160751, 11, 2]]\n",
      "[' 445896.632991', '460246.632991', '7004148.214381', '7018198.214381']\n",
      "[' 288', '282']\n"
     ]
    }
   ],
   "source": [
    "print(Surface_attributes['1_05_2_Top_Sweet_RMSh']['data'][0:10])\n",
    "print(Surface_attributes['1_05_2_Top_Sweet_RMSh']['Grid_space'])\n",
    "print(Surface_attributes['1_05_2_Top_Sweet_RMSh']['Grid_size'])"
   ],
   "metadata": {
    "collapsed": false,
    "ExecuteTime": {
     "end_time": "2025-01-29T03:38:54.335716400Z",
     "start_time": "2025-01-29T03:38:54.329229600Z"
    }
   },
   "id": "4be53f93c262661a",
   "execution_count": 36
  },
  {
   "cell_type": "code",
   "outputs": [],
   "source": [
    "def proverka_kart(karta_space, karta_size, atribut_space, atribut_size):\n",
    "    if karta_space == atribut_space:\n",
    "        if karta_size == atribut_size:\n",
    "            print('координаты карты и размерности сетки совпадают')\n",
    "        else:\n",
    "            print('размерности сетки не совпадают, переделайте сетку')\n",
    "    else:\n",
    "        print('координаты карты не совпадают, переделайте карту')\n",
    "        \n",
    "#proverka_kart(Literal_trend_Grid_space, Literal_trend_Grid_size, Surface_attribute_Grid_space, Surface_attribute_Grid_size)"
   ],
   "metadata": {
    "collapsed": false,
    "ExecuteTime": {
     "end_time": "2025-01-29T03:38:55.464032500Z",
     "start_time": "2025-01-29T03:38:55.458050Z"
    }
   },
   "id": "1e1676ad2b0164f4",
   "execution_count": 37
  },
  {
   "cell_type": "code",
   "outputs": [
    {
     "name": "stdout",
     "output_type": "stream",
     "text": [
      "Для Literal_trend и для 1_05_2_Top_Sweet_RMSh\n",
      "координаты карты и размерности сетки совпадают\n",
      "Для Literal_trend и для 2_01_7_Fm_Amp_MaxM\n",
      "координаты карты и размерности сетки совпадают\n",
      "Для Literal_trend и для 2_02_7_Fm_RMS_MaxM\n",
      "координаты карты и размерности сетки совпадают\n",
      "Для Literal_trend и для 2_11_7_Fm_Amp_Contr_MaxM\n",
      "координаты карты и размерности сетки совпадают\n",
      "Для Literal_trend и для AmplitudeContrast_HalfEnergy_TWT\n",
      "координаты карты и размерности сетки совпадают\n"
     ]
    }
   ],
   "source": [
    "for key in Surface_attributes:\n",
    "    print(f'Для Lateral_trend и для {key}')\n",
    "    proverka_kart(Lateral_trend_Grid_space, Lateral_trend_Grid_size, Surface_attributes[key]['Grid_space'], Surface_attributes[key]['Grid_size'])"
   ],
   "metadata": {
    "collapsed": false,
    "ExecuteTime": {
     "end_time": "2025-01-29T03:38:56.788935200Z",
     "start_time": "2025-01-29T03:38:56.783445400Z"
    }
   },
   "id": "35c67999e5d0df6b",
   "execution_count": 38
  },
  {
   "cell_type": "code",
   "outputs": [],
   "source": [
    "def proseivanie(list, h):\n",
    "    \"\"\"\n",
    "    Т.к. карта содержит очень большое количество точек, то данная функция берет значения с некоторой периодичностью (шагом)\n",
    "    h - шаг перехода\n",
    "    \"\"\"\n",
    "    result = []\n",
    "    start = list[0][3]\n",
    "    i = list[0][3]\n",
    "    j = list[0][4]\n",
    "    for k in range(len(list)):\n",
    "        if list[k][3] == start and list[k][4] == start:\n",
    "            result.append(list[k][2])\n",
    "            i += h\n",
    "        elif list[k][3] != i and list[k][4] == j:\n",
    "            continue\n",
    "        elif list[k][3] == i and list[k][4] == j:\n",
    "            result.append(list[k][2])\n",
    "            i += h\n",
    "        elif list[k][4] != j + h:\n",
    "            continue\n",
    "        elif list[k][3] == start and list[k][4] ==j + h:\n",
    "            result.append(list[k][2])\n",
    "            i = start + h\n",
    "            j += h\n",
    "    return result\n",
    "        \n",
    "        "
   ],
   "metadata": {
    "collapsed": false,
    "ExecuteTime": {
     "end_time": "2025-01-29T03:39:06.205445900Z",
     "start_time": "2025-01-29T03:39:06.198960500Z"
    }
   },
   "id": "f60a300db9b3ce2f",
   "execution_count": 39
  },
  {
   "cell_type": "code",
   "outputs": [
    {
     "name": "stdout",
     "output_type": "stream",
     "text": [
      "20020\n"
     ]
    }
   ],
   "source": [
    "Lateral_trend_z = proseivanie(Lateral_trend, 2)\n",
    "print(len(Lateral_trend_z))"
   ],
   "metadata": {
    "collapsed": false,
    "ExecuteTime": {
     "end_time": "2025-01-29T03:39:06.671616300Z",
     "start_time": "2025-01-29T03:39:06.654167800Z"
    }
   },
   "id": "3ffa129ee772807f",
   "execution_count": 40
  },
  {
   "cell_type": "code",
   "outputs": [],
   "source": [
    "Surface_attributes_z = {}\n",
    "for key in Surface_attributes:\n",
    "    Surface_attributes_z[key] = proseivanie(Surface_attributes[key]['data'], 2)"
   ],
   "metadata": {
    "collapsed": false,
    "ExecuteTime": {
     "end_time": "2025-01-29T03:39:08.107197600Z",
     "start_time": "2025-01-29T03:39:08.064192800Z"
    }
   },
   "id": "2373938c0d8f0401",
   "execution_count": 41
  },
  {
   "cell_type": "code",
   "outputs": [],
   "source": [
    "def zavisimoste (list_1, list_2, name_1, name_2, flag = 0):\n",
    "    \"\"\"\"\n",
    "    list_1, list_2 - списки, которые проверяем\n",
    "    name_1, name_2 - имена этих списков\n",
    "    flag показывает нужно ли выводить график 0 если нет, 1 если да\n",
    "    \n",
    "    \"\"\"\n",
    "    #Выравниваем списки, если нужно. \n",
    "    def equal_length_lists(list1, list2):\n",
    "        # Определяем длины списков\n",
    "        len1 = len(list1)\n",
    "        len2 = len(list2)\n",
    "    \n",
    "        if len1 != len2:\n",
    "            # Сравниваем длины списков\n",
    "            if len1 < len2:\n",
    "                shorter_list = list1\n",
    "                longer_list = list2\n",
    "            else:\n",
    "                shorter_list = list2\n",
    "                longer_list = list1\n",
    "            # Случайным образом выбираем элементы из более длинного списка\n",
    "            selected_elements = random.sample(longer_list, len(shorter_list))\n",
    "            return shorter_list, selected_elements\n",
    "        else:\n",
    "            return list1, list2\n",
    "    \n",
    "    #нормализация.\n",
    "    def normalize(data):\n",
    "        # Если data - это список списков, то нужно развернуть его\n",
    "        if isinstance(data[0], list):\n",
    "            data = [item for sublist in data for item in sublist]  # Разворачиваем список\n",
    "    \n",
    "        min_value = min(data)\n",
    "        max_value = max(data)\n",
    "\n",
    "        # Обработка случая, когда все значения одинаковы\n",
    "        if min_value == max_value:\n",
    "            return [0.0] * len(data)\n",
    "\n",
    "        normalized_data = [(x - min_value) / (max_value - min_value) for x in data]\n",
    "        return normalized_data\n",
    "\n",
    "    \n",
    "    #Удаляем выбросы по 1 и 3 квартилю (все что ниже 25% и выше 75%, теоретически можно потом изменять процентили)\n",
    "    def remove_outliers(x, y):\n",
    "        q1_x = np.percentile(x, 25)\n",
    "        q3_x = np.percentile(x, 75)\n",
    "        iqr_x = q3_x - q1_x\n",
    "\n",
    "        q1_y = np.percentile(y, 25)\n",
    "        q3_y = np.percentile(y, 75)\n",
    "        iqr_y = q3_y - q1_y\n",
    "\n",
    "        x_filtered = []\n",
    "        y_filtered = []\n",
    "\n",
    "        for xi, yi in zip(x, y):\n",
    "            if (xi >= (q1_x - 1.5 * iqr_x)) and (xi <= (q3_x + 1.5 * iqr_x)) and \\\n",
    "            (yi >= (q1_y - 1.5 * iqr_y)) and (yi <= (q3_y + 1.5 * iqr_y)):\n",
    "                x_filtered.append(xi)\n",
    "                y_filtered.append(yi)\n",
    "\n",
    "        return np.array(x_filtered), np.array(y_filtered)\n",
    "\n",
    "    \n",
    "#списки одинаковой длины, нормализованы\n",
    "    list_1, list_2 = equal_length_lists(list_1, list_2)\n",
    "    #list_1 = normalize(list_1)\n",
    "    #list_2 = normalize(list_2)\n",
    "    \n",
    "    #списки  без выбросов\n",
    "    list_1_n, list_2_n = remove_outliers(list_1, list_2) \n",
    "    \n",
    "    # Преобразуем списки в numpy массивы\n",
    "    X = np.array(list_1_n).reshape(-1, 1)  # Признаки (независимая переменная)\n",
    "    y = np.array(list_2_n)  # Целевая переменная\n",
    "    \n",
    "    \n",
    "\n",
    "    # Линейная регрессия\n",
    "    linear_model = LinearRegression()\n",
    "    linear_model.fit(X, y)\n",
    "    #y_pred_linear = linear_model.predict(X)\n",
    "    r_squared_linear = round(linear_model.score(X, y), 5)\n",
    "    results = {\n",
    "        'equation': f\"y = {linear_model.intercept_:.2f} + {linear_model.coef_[0]:.2f} * x\",\n",
    "        'r_squared': r_squared_linear\n",
    "    }\n",
    "    y_pred_linear_2 = [linear_model.intercept_ + linear_model.coef_[0]*x for x in list_1_n]\n",
    "    \n",
    "    \n",
    "    if flag == 1:\n",
    "        print (\"Уравнение регрессии:\", results['equation'])\n",
    "        print (\"значение R^2:\", results['r_squared'])\n",
    "    \n",
    "        fig = go.Figure()\n",
    "        fig.update_layout(title=f'Сравнение {name_1} и {name_2}')\n",
    "    \n",
    "        fig.add_trace(go.Scatter(\n",
    "            x=list_1_n,\n",
    "            y=list_2_n,\n",
    "            mode='markers',\n",
    "            name='Данные',\n",
    "            marker=dict(color='blue')\n",
    "        ))\n",
    "\n",
    "        # Линейная регрессия\n",
    "        fig.add_trace(go.Scatter(\n",
    "            x=list_1_n,\n",
    "            y=y_pred_linear_2,\n",
    "            mode='lines',\n",
    "            name='Линейная регрессия',\n",
    "            line=dict(color='red')\n",
    "        ))\n",
    "        \n",
    "        # Показываем график\n",
    "        fig.show()\n",
    "    \n",
    "    \n",
    "    return results\n",
    "    "
   ],
   "metadata": {
    "collapsed": false,
    "ExecuteTime": {
     "end_time": "2025-01-29T04:45:33.882313100Z",
     "start_time": "2025-01-29T04:45:33.872441400Z"
    }
   },
   "id": "a3bc956535acb2db",
   "execution_count": 50
  },
  {
   "cell_type": "code",
   "outputs": [
    {
     "name": "stdout",
     "output_type": "stream",
     "text": [
      "dict_keys(['1_05_2_Top_Sweet_RMSh', '2_01_7_Fm_Amp_MaxM', '2_02_7_Fm_RMS_MaxM', '2_11_7_Fm_Amp_Contr_MaxM', 'AmplitudeContrast_HalfEnergy_TWT'])\n"
     ]
    }
   ],
   "source": [
    "print(Surface_attributes_z.keys())"
   ],
   "metadata": {
    "collapsed": false,
    "ExecuteTime": {
     "end_time": "2025-01-29T03:39:10.999480300Z",
     "start_time": "2025-01-29T03:39:10.991504100Z"
    }
   },
   "id": "3c8b9ee71ca262fe",
   "execution_count": 43
  },
  {
   "cell_type": "code",
   "outputs": [
    {
     "name": "stdout",
     "output_type": "stream",
     "text": [
      "['Literal_trend', '1_05_2_Top_Sweet_RMSh', '2_01_7_Fm_Amp_MaxM', '2_02_7_Fm_RMS_MaxM', '2_11_7_Fm_Amp_Contr_MaxM', 'AmplitudeContrast_HalfEnergy_TWT']\n"
     ]
    }
   ],
   "source": [
    "names_files = [\"Lateral_trend\"]\n",
    "names_files += list(Surface_attributes_z.keys())\n",
    "print(names_files)"
   ],
   "metadata": {
    "collapsed": false,
    "ExecuteTime": {
     "end_time": "2025-01-29T03:39:24.564369300Z",
     "start_time": "2025-01-29T03:39:24.557880900Z"
    }
   },
   "id": "a02b7fc02edaa0ed",
   "execution_count": 44
  },
  {
   "cell_type": "code",
   "outputs": [
    {
     "name": "stdout",
     "output_type": "stream",
     "text": [
      "dict_keys(['Literal_trend', '1_05_2_Top_Sweet_RMSh', '2_01_7_Fm_Amp_MaxM', '2_02_7_Fm_RMS_MaxM', '2_11_7_Fm_Amp_Contr_MaxM', 'AmplitudeContrast_HalfEnergy_TWT'])\n"
     ]
    }
   ],
   "source": [
    "all_data_files = {**{\"Lateral_trend\": Lateral_trend_z}, **Surface_attributes_z}\n",
    "print(all_data_files.keys())"
   ],
   "metadata": {
    "collapsed": false,
    "ExecuteTime": {
     "end_time": "2025-01-29T03:39:25.298014300Z",
     "start_time": "2025-01-29T03:39:25.278808500Z"
    }
   },
   "id": "fad0cb7e4a3251db",
   "execution_count": 45
  },
  {
   "cell_type": "code",
   "outputs": [],
   "source": [
    "Table_R2 = {}\n",
    "names = list(all_data_files.keys())\n",
    "for key in names:\n",
    "    Table_R2[key] = {}\n",
    "\n",
    "for i in range(len(names)):\n",
    "\n",
    "    for j in range(i, len(names)):\n",
    "        if names[i] == names[j]:\n",
    "            continue\n",
    "        else:\n",
    "            R2 = zavisimoste(all_data_files[names[i]], all_data_files[names[j]], names[i], names[j], 0)['r_squared']\n",
    "            Table_R2[names[i]][names[j]] = R2\n",
    "            Table_R2[names[j]][names[i]] = R2"
   ],
   "metadata": {
    "collapsed": false,
    "ExecuteTime": {
     "end_time": "2025-01-29T04:45:46.606392800Z",
     "start_time": "2025-01-29T04:45:46.313773100Z"
    }
   },
   "id": "56397a5909277979",
   "execution_count": 51
  },
  {
   "cell_type": "code",
   "outputs": [
    {
     "name": "stdout",
     "output_type": "stream",
     "text": [
      "Literal_trend : {'1_05_2_Top_Sweet_RMSh': 0.08252, '2_01_7_Fm_Amp_MaxM': 0.00374, '2_02_7_Fm_RMS_MaxM': 0.00367, '2_11_7_Fm_Amp_Contr_MaxM': 0.01123, 'AmplitudeContrast_HalfEnergy_TWT': 1.0}\n",
      "1_05_2_Top_Sweet_RMSh : {'Literal_trend': 0.08252, '2_01_7_Fm_Amp_MaxM': 0.20571, '2_02_7_Fm_RMS_MaxM': 0.24584, '2_11_7_Fm_Amp_Contr_MaxM': 0.05805, 'AmplitudeContrast_HalfEnergy_TWT': 0.08252}\n",
      "2_01_7_Fm_Amp_MaxM : {'Literal_trend': 0.00374, '1_05_2_Top_Sweet_RMSh': 0.20571, '2_02_7_Fm_RMS_MaxM': 0.93081, '2_11_7_Fm_Amp_Contr_MaxM': 0.08512, 'AmplitudeContrast_HalfEnergy_TWT': 0.00374}\n",
      "2_02_7_Fm_RMS_MaxM : {'Literal_trend': 0.00367, '1_05_2_Top_Sweet_RMSh': 0.24584, '2_01_7_Fm_Amp_MaxM': 0.93081, '2_11_7_Fm_Amp_Contr_MaxM': 0.08178, 'AmplitudeContrast_HalfEnergy_TWT': 0.00367}\n",
      "2_11_7_Fm_Amp_Contr_MaxM : {'Literal_trend': 0.01123, '1_05_2_Top_Sweet_RMSh': 0.05805, '2_01_7_Fm_Amp_MaxM': 0.08512, '2_02_7_Fm_RMS_MaxM': 0.08178, 'AmplitudeContrast_HalfEnergy_TWT': 0.01123}\n",
      "AmplitudeContrast_HalfEnergy_TWT : {'Literal_trend': 1.0, '1_05_2_Top_Sweet_RMSh': 0.08252, '2_01_7_Fm_Amp_MaxM': 0.00374, '2_02_7_Fm_RMS_MaxM': 0.00367, '2_11_7_Fm_Amp_Contr_MaxM': 0.01123}\n"
     ]
    }
   ],
   "source": [
    "for key in Table_R2:\n",
    "    print(key, ':', Table_R2[key])"
   ],
   "metadata": {
    "collapsed": false,
    "ExecuteTime": {
     "end_time": "2025-01-29T04:45:47.922937300Z",
     "start_time": "2025-01-29T04:45:47.915452400Z"
    }
   },
   "id": "bb852334bd251be",
   "execution_count": 52
  },
  {
   "cell_type": "code",
   "outputs": [
    {
     "name": "stdout",
     "output_type": "stream",
     "text": [
      "{'Literal_trend': {'1_05_2_Top_Sweet_RMSh': 0.08252, '2_01_7_Fm_Amp_MaxM': 0.00374, '2_02_7_Fm_RMS_MaxM': 0.00367, '2_11_7_Fm_Amp_Contr_MaxM': 0.01123, 'AmplitudeContrast_HalfEnergy_TWT': 1.0}, '1_05_2_Top_Sweet_RMSh': {'Literal_trend': 0.08252, '2_01_7_Fm_Amp_MaxM': 0.20571, '2_02_7_Fm_RMS_MaxM': 0.24584, '2_11_7_Fm_Amp_Contr_MaxM': 0.05805, 'AmplitudeContrast_HalfEnergy_TWT': 0.08252}, '2_01_7_Fm_Amp_MaxM': {'Literal_trend': 0.00374, '1_05_2_Top_Sweet_RMSh': 0.20571, '2_02_7_Fm_RMS_MaxM': 0.93081, '2_11_7_Fm_Amp_Contr_MaxM': 0.08512, 'AmplitudeContrast_HalfEnergy_TWT': 0.00374}, '2_02_7_Fm_RMS_MaxM': {'Literal_trend': 0.00367, '1_05_2_Top_Sweet_RMSh': 0.24584, '2_01_7_Fm_Amp_MaxM': 0.93081, '2_11_7_Fm_Amp_Contr_MaxM': 0.08178, 'AmplitudeContrast_HalfEnergy_TWT': 0.00367}, '2_11_7_Fm_Amp_Contr_MaxM': {'Literal_trend': 0.01123, '1_05_2_Top_Sweet_RMSh': 0.05805, '2_01_7_Fm_Amp_MaxM': 0.08512, '2_02_7_Fm_RMS_MaxM': 0.08178, 'AmplitudeContrast_HalfEnergy_TWT': 0.01123}, 'AmplitudeContrast_HalfEnergy_TWT': {'Literal_trend': 1.0, '1_05_2_Top_Sweet_RMSh': 0.08252, '2_01_7_Fm_Amp_MaxM': 0.00374, '2_02_7_Fm_RMS_MaxM': 0.00367, '2_11_7_Fm_Amp_Contr_MaxM': 0.01123}}\n"
     ]
    }
   ],
   "source": [
    "print(Table_R2)"
   ],
   "metadata": {
    "collapsed": false,
    "ExecuteTime": {
     "end_time": "2025-01-29T04:39:59.470445600Z",
     "start_time": "2025-01-29T04:39:59.461966400Z"
    }
   },
   "id": "910fba486e7a6311",
   "execution_count": 48
  },
  {
   "cell_type": "code",
   "outputs": [
    {
     "name": "stdout",
     "output_type": "stream",
     "text": [
      "                                  1_05_2_Top_Sweet_RMSh  2_01_7_Fm_Amp_MaxM  \\\n",
      "Literal_trend                                   0.08252             0.00374   \n",
      "1_05_2_Top_Sweet_RMSh                           0.00000             0.20571   \n",
      "2_01_7_Fm_Amp_MaxM                              0.20571             0.00000   \n",
      "2_02_7_Fm_RMS_MaxM                              0.24584             0.93081   \n",
      "2_11_7_Fm_Amp_Contr_MaxM                        0.05805             0.08512   \n",
      "AmplitudeContrast_HalfEnergy_TWT                0.08252             0.00374   \n",
      "\n",
      "                                  2_02_7_Fm_RMS_MaxM  \\\n",
      "Literal_trend                                0.00367   \n",
      "1_05_2_Top_Sweet_RMSh                        0.24584   \n",
      "2_01_7_Fm_Amp_MaxM                           0.93081   \n",
      "2_02_7_Fm_RMS_MaxM                           0.00000   \n",
      "2_11_7_Fm_Amp_Contr_MaxM                     0.08178   \n",
      "AmplitudeContrast_HalfEnergy_TWT             0.00367   \n",
      "\n",
      "                                  2_11_7_Fm_Amp_Contr_MaxM  \\\n",
      "Literal_trend                                      0.01123   \n",
      "1_05_2_Top_Sweet_RMSh                              0.05805   \n",
      "2_01_7_Fm_Amp_MaxM                                 0.08512   \n",
      "2_02_7_Fm_RMS_MaxM                                 0.08178   \n",
      "2_11_7_Fm_Amp_Contr_MaxM                           0.00000   \n",
      "AmplitudeContrast_HalfEnergy_TWT                   0.01123   \n",
      "\n",
      "                                  AmplitudeContrast_HalfEnergy_TWT  \\\n",
      "Literal_trend                                              1.00000   \n",
      "1_05_2_Top_Sweet_RMSh                                      0.08252   \n",
      "2_01_7_Fm_Amp_MaxM                                         0.00374   \n",
      "2_02_7_Fm_RMS_MaxM                                         0.00367   \n",
      "2_11_7_Fm_Amp_Contr_MaxM                                   0.01123   \n",
      "AmplitudeContrast_HalfEnergy_TWT                           0.00000   \n",
      "\n",
      "                                  Literal_trend  \n",
      "Literal_trend                           0.00000  \n",
      "1_05_2_Top_Sweet_RMSh                   0.08252  \n",
      "2_01_7_Fm_Amp_MaxM                      0.00374  \n",
      "2_02_7_Fm_RMS_MaxM                      0.00367  \n",
      "2_11_7_Fm_Amp_Contr_MaxM                0.01123  \n",
      "AmplitudeContrast_HalfEnergy_TWT        1.00000  \n"
     ]
    }
   ],
   "source": [
    "import pandas as pd\n",
    "df = pd.DataFrame(Table_R2)\n",
    "\n",
    "# Транспонирование DataFrame для правильного отображения\n",
    "df = df.T\n",
    "\n",
    "# Заполнение отсутствующих значений NaN\n",
    "df.fillna(0, inplace=True)\n",
    "\n",
    "# Вывод таблицы\n",
    "print(df)"
   ],
   "metadata": {
    "collapsed": false,
    "ExecuteTime": {
     "end_time": "2025-01-29T04:46:24.011807300Z",
     "start_time": "2025-01-29T04:46:23.998848900Z"
    }
   },
   "id": "c5dadd0e0fd4b794",
   "execution_count": 53
  },
  {
   "cell_type": "code",
   "outputs": [],
   "source": [],
   "metadata": {
    "collapsed": false
   },
   "id": "10759d7a8b4467d8"
  },
  {
   "cell_type": "code",
   "outputs": [],
   "source": [],
   "metadata": {
    "collapsed": false
   },
   "id": "46a31df520661f52"
  },
  {
   "cell_type": "code",
   "outputs": [
    {
     "name": "stdout",
     "output_type": "stream",
     "text": [
      "                            OLS Regression Results                            \n",
      "==============================================================================\n",
      "Dep. Variable:                      y   R-squared:                       1.000\n",
      "Model:                            OLS   Adj. R-squared:                  1.000\n",
      "Method:                 Least Squares   F-statistic:                 9.834e+29\n",
      "Date:                Tue, 28 Jan 2025   Prob (F-statistic):           7.41e-16\n",
      "Time:                        12:48:49   Log-Likelihood:                 162.49\n",
      "No. Observations:                   5   AIC:                            -317.0\n",
      "Df Residuals:                       1   BIC:                            -318.5\n",
      "Df Model:                           3                                         \n",
      "Covariance Type:            nonrobust                                         \n",
      "==============================================================================\n",
      "                 coef    std err          t      P>|t|      [0.025      0.975]\n",
      "------------------------------------------------------------------------------\n",
      "const       1.665e-16   8.49e-16      0.196      0.877   -1.06e-14     1.1e-14\n",
      "X1          1.221e-15   5.53e-15      0.221      0.862    -6.9e-14    7.15e-14\n",
      "X2             1.0000    2.5e-15      4e+14      0.000       1.000       1.000\n",
      "X3          2.194e-16   9.07e-16      0.242      0.849   -1.13e-14    1.17e-14\n",
      "X4          2.914e-16   3.03e-15      0.096      0.939   -3.83e-14    3.88e-14\n",
      "==============================================================================\n",
      "Omnibus:                          nan   Durbin-Watson:                   0.409\n",
      "Prob(Omnibus):                    nan   Jarque-Bera (JB):                0.605\n",
      "Skew:                           0.612   Prob(JB):                        0.739\n",
      "Kurtosis:                       1.816   Cond. No.                     9.30e+16\n",
      "==============================================================================\n",
      "\n",
      "Notes:\n",
      "[1] Standard Errors assume that the covariance matrix of the errors is correctly specified.\n",
      "[2] The smallest eigenvalue is 3.95e-32. This might indicate that there are\n",
      "strong multicollinearity problems or that the design matrix is singular.\n"
     ]
    },
    {
     "name": "stderr",
     "output_type": "stream",
     "text": [
      "C:\\Users\\User\\AppData\\Local\\Programs\\Python\\Python312\\Lib\\site-packages\\statsmodels\\stats\\stattools.py:74: ValueWarning: omni_normtest is not valid with less than 8 observations; 5 samples were given.\n",
      "  warn(\"omni_normtest is not valid with less than 8 observations; %i \"\n"
     ]
    },
    {
     "data": {
      "text/plain": "<Figure size 640x480 with 1 Axes>",
      "image/png": "[encoded data removed]"
     },
     "metadata": {},
     "output_type": "display_data"
    }
   ],
   "source": [
    "import numpy as np\n",
    "import pandas as pd\n",
    "import statsmodels.api as sm\n",
    "import matplotlib.pyplot as plt\n",
    "\n",
    "# Пример данных\n",
    "X1 = [1, 2, 3, 4, 5]\n",
    "X2 = [2, 3, 5, 7, 11]\n",
    "X3 = [5, 4, 3, 2, 1]\n",
    "X4 = [1, 3, 2, 4, 5]\n",
    "y = [2, 3, 5, 7, 11]\n",
    "\n",
    "# Создаем DataFrame\n",
    "data = pd.DataFrame({'X1': X1, 'X2': X2, 'X3': X3, 'X4': X4, 'y': y})\n",
    "\n",
    "# Определяем независимые и зависимые переменные\n",
    "X = data[['X1', 'X2', 'X3', 'X4']]  # Независимые переменные\n",
    "y = data['y']                        # Зависимая переменная\n",
    "\n",
    "# Добавляем константу (свободный член)\n",
    "X = sm.add_constant(X)\n",
    "\n",
    "# Создаем модель множественной регрессии\n",
    "model = sm.OLS(y, X).fit()\n",
    "\n",
    "# Получаем результаты\n",
    "print(model.summary())\n",
    "\n",
    "# График Q-Q для проверки нормальности остатков\n",
    "residuals = model.resid\n",
    "sm.qqplot(residuals, line='s')\n",
    "plt.title('Q-Q Plot of Residuals')\n",
    "plt.show()\n"
   ],
   "metadata": {
    "collapsed": false,
    "ExecuteTime": {
     "end_time": "2025-01-28T05:48:49.657967700Z",
     "start_time": "2025-01-28T05:48:48.299468600Z"
    }
   },
   "id": "15c72d47f3e65045",
   "execution_count": 15
  },
  {
   "cell_type": "code",
   "outputs": [],
   "source": [],
   "metadata": {
    "collapsed": false
   },
   "id": "55bc73d7f2a5b984"
  }
 ],
 "metadata": {
  "kernelspec": {
   "display_name": "Python 3",
   "language": "python",
   "name": "python3"
  },
  "language_info": {
   "codemirror_mode": {
    "name": "ipython",
    "version": 2
   },
   "file_extension": ".py",
   "mimetype": "text/x-python",
   "name": "python",
   "nbconvert_exporter": "python",
   "pygments_lexer": "ipython2",
   "version": "2.7.6"
  }
 },
 "nbformat": 4,
 "nbformat_minor": 5
}
