{
 "cells": [
  {
   "cell_type": "code",
   "execution_count": 1,
   "id": "initial_id",
   "metadata": {
    "collapsed": true,
    "ExecuteTime": {
     "end_time": "2024-10-16T04:22:22.111916900Z",
     "start_time": "2024-10-16T04:22:21.657565800Z"
    }
   },
   "outputs": [],
   "source": [
    "import segyio\n",
    "import numpy as np"
   ]
  },
  {
   "cell_type": "code",
   "outputs": [],
   "source": [
    "def rider(file_path):\n",
    "   with segyio.open(file_path, 'r') as segyfile:\n",
    "       y = [i for i in segyfile.xlines]\n",
    "       x = [i for i in segyfile.ilines]\n",
    "       z = [i for i in segyfile.samples]\n",
    "       cubic = segyio.tools.cube(segyfile)\n",
    "       tras = {}\n",
    "       for i in range(len(x)):\n",
    "           for j in range(len(y)):\n",
    "               tras[str(x[i]) + \"_\" + str(y[j])] = cubic[i][j][:]\n",
    "   return x, y, z, tras\n"
   ],
   "metadata": {
    "collapsed": false,
    "ExecuteTime": {
     "end_time": "2024-10-16T04:22:40.609596100Z",
     "start_time": "2024-10-16T04:22:40.603104Z"
    }
   },
   "id": "c6ba3981c90c2da1",
   "execution_count": 2
  },
  {
   "cell_type": "code",
   "outputs": [],
   "source": [
    "def assemble_cube(x, y, z, tras):\n",
    "   cube = np.zeros((len(x), len(y), len(z)))\n",
    "   for i, xi in enumerate(x):\n",
    "       for j, yj in enumerate(y):\n",
    "           key = f\"{xi}_{yj}\"\n",
    "           if key in tras:\n",
    "               cube[i][j][:] = tras[key]\n",
    "   return cube\n"
   ],
   "metadata": {
    "collapsed": false,
    "ExecuteTime": {
     "end_time": "2024-10-16T04:22:51.670498700Z",
     "start_time": "2024-10-16T04:22:51.664516600Z"
    }
   },
   "id": "4002dae855bfa6ef",
   "execution_count": 3
  },
  {
   "cell_type": "code",
   "outputs": [],
   "source": [
    "def read_segy(file_path):\n",
    "   with segyio.open(file_path, \"r\") as segyfile:\n",
    "       segyfile.mmap()\n",
    "       return segyio.tools.cube(segyfile)"
   ],
   "metadata": {
    "collapsed": false,
    "ExecuteTime": {
     "end_time": "2024-10-16T04:22:57.958584800Z",
     "start_time": "2024-10-16T04:22:57.951604200Z"
    }
   },
   "id": "5822ff861e99f610",
   "execution_count": 4
  },
  {
   "cell_type": "code",
   "outputs": [],
   "source": [
    "def calculate_pearson_coefficient(cube1, cube2):\n",
    "   return np.corrcoef(cube1.flatten(), cube2.flatten())[0, 1]"
   ],
   "metadata": {
    "collapsed": false,
    "ExecuteTime": {
     "end_time": "2024-10-16T04:23:05.617480900Z",
     "start_time": "2024-10-16T04:23:05.613985200Z"
    }
   },
   "id": "d21abc4b62bf6089",
   "execution_count": 5
  },
  {
   "cell_type": "code",
   "outputs": [],
   "source": [
    "X1, Y1, Z1, T1 = rider('C:/HV/Seismic/1.3_comparison_of_cubes/Volume_attribute1_RMS_TWT.segy')\n",
    "X2, Y2, Z2, T2 = rider('C:/HV/Seismic/1.3_comparison_of_cubes/Volume_attribute2_Amplitude_contrast_TWT.segy')\n",
    "cube1 = assemble_cube(X1, Y1, Z1, T1)\n",
    "cube2 = assemble_cube(X2, Y2, Z2, T2)\n"
   ],
   "metadata": {
    "collapsed": false,
    "ExecuteTime": {
     "end_time": "2024-10-16T04:23:25.405562400Z",
     "start_time": "2024-10-16T04:23:17.206741600Z"
    }
   },
   "id": "fb1a2f4416c94ea3",
   "execution_count": 6
  },
  {
   "cell_type": "code",
   "outputs": [
    {
     "name": "stdout",
     "output_type": "stream",
     "text": [
      "-0.05365608202155685\n",
      "[[ 1.         -0.05365608]\n",
      " [-0.05365608  1.        ]]\n"
     ]
    }
   ],
   "source": [
    "# Рассчитываем коэффициенты Пирсона\n",
    "pearson_coefficient = calculate_pearson_coefficient(cube1, cube2)\n",
    "print(pearson_coefficient)\n",
    "\n",
    "# Создаем confusion matrix\n",
    "confusion_matrix = np.array([[1, pearson_coefficient], [pearson_coefficient, 1]])\n",
    "print(confusion_matrix)\n"
   ],
   "metadata": {
    "collapsed": false,
    "ExecuteTime": {
     "end_time": "2024-10-16T04:23:45.332191700Z",
     "start_time": "2024-10-16T04:23:39.000759Z"
    }
   },
   "id": "a0b5f5aa8e248bf9",
   "execution_count": 8
  },
  {
   "cell_type": "code",
   "outputs": [],
   "source": [],
   "metadata": {
    "collapsed": false
   },
   "id": "e1f5da096a543633"
  }
 ],
 "metadata": {
  "kernelspec": {
   "display_name": "Python 3",
   "language": "python",
   "name": "python3"
  },
  "language_info": {
   "codemirror_mode": {
    "name": "ipython",
    "version": 2
   },
   "file_extension": ".py",
   "mimetype": "text/x-python",
   "name": "python",
   "nbconvert_exporter": "python",
   "pygments_lexer": "ipython2",
   "version": "2.7.6"
  }
 },
 "nbformat": 4,
 "nbformat_minor": 5
}
