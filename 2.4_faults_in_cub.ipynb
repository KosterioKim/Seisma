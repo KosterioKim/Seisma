{
 "cells": [
  {
   "cell_type": "code",
   "outputs": [],
   "source": [
    "import matplotlib.pyplot as plt\n",
    "from shapely import LineString\n",
    "import segyio\n",
    "from shapely import Point\n",
    "import numpy as np\n",
    "import plotly.graph_objects as go\n",
    "from shapely.geometry import Polygon\n"
   ],
   "metadata": {
    "collapsed": false,
    "ExecuteTime": {
     "end_time": "2024-12-13T07:33:29.482304900Z",
     "start_time": "2024-12-13T07:33:29.467355900Z"
    }
   },
   "id": "c783411bd7f3e94d",
   "execution_count": 95
  },
  {
   "cell_type": "code",
   "outputs": [],
   "source": [
    "def read_seismic_cube(file_path):\n",
    "   \"\"\"\n",
    "   :param file_path: Путь к файлу\n",
    "   :return: возвращает куб в виде списков по Inlines, Xlines и Sampels (координаты x, y, z)\n",
    "   а также словарю сейсмотрасс, где ключ это координата пересечения Inlines и Xlines, а значение это список значений сейсмотрасс\n",
    "   \"\"\"\n",
    "   with segyio.open(file_path, 'r') as segyfile:\n",
    "       x = list(segyfile.ilines)\n",
    "       y = list(segyfile.xlines)\n",
    "       z = list(segyfile.samples)\n",
    "       cube = segyio.tools.cube(segyfile)\n",
    "       traces = {f\"{x[i]}_{y[j]}\": cube[i][j][:] for i in range(len(x)) for j in range(len(y))}\n",
    "   return x, y, z, traces"
   ],
   "metadata": {
    "collapsed": false,
    "ExecuteTime": {
     "end_time": "2024-12-13T06:55:57.578043300Z",
     "start_time": "2024-12-13T06:55:57.573061100Z"
    }
   },
   "id": "e0da55fc6f7fd220",
   "execution_count": 40
  },
  {
   "cell_type": "code",
   "outputs": [],
   "source": [
    "file_path = 'C:/HV/Seismic/datas/Cube_TWT.segy'\n",
    "ilines, xlines, samples, traces = read_seismic_cube(file_path)"
   ],
   "metadata": {
    "collapsed": false,
    "ExecuteTime": {
     "end_time": "2024-12-13T06:56:07.351927400Z",
     "start_time": "2024-12-13T06:56:05.341447500Z"
    }
   },
   "id": "bc85df88de6650cf",
   "execution_count": 41
  },
  {
   "cell_type": "code",
   "outputs": [],
   "source": [
    "# Перевод множества в упорядоченный список в порядке убывания\n",
    "sorted_coord_x = sorted(ilines, reverse=False)\n",
    "sorted_coord_y = sorted(xlines, reverse=False)\n",
    "sorted_coord_z = sorted(samples, reverse=False)\n",
    "poligon_cub_verh = [(sorted_coord_x[0], sorted_coord_y[0]), (sorted_coord_x[0], sorted_coord_y[-1]), (sorted_coord_x[-1], sorted_coord_y[-1]),(sorted_coord_x[-1], sorted_coord_y[0]), (sorted_coord_x[0], sorted_coord_y[0])]\n",
    "poligon_cub_sboky = [(sorted_coord_x[0], -1* sorted_coord_z[-1]), (sorted_coord_x[0], -1*sorted_coord_z[0]), (sorted_coord_x[-1], -1*sorted_coord_z[0]),(sorted_coord_x[-1], -1*sorted_coord_z[-1]), (sorted_coord_x[0], -1* sorted_coord_z[-1])]"
   ],
   "metadata": {
    "collapsed": false,
    "ExecuteTime": {
     "end_time": "2024-12-13T07:32:01.971695100Z",
     "start_time": "2024-12-13T07:32:01.953248700Z"
    }
   },
   "id": "858701333fc775ae",
   "execution_count": 86
  },
  {
   "cell_type": "code",
   "outputs": [],
   "source": [
    "# проход по всем разломам и составление всех точек в один большой словарь\n",
    "def process_files(directory):\n",
    "    files = os.listdir(directory)\n",
    "    result = {}\n",
    "\n",
    "    for file in files:\n",
    "        if file.endswith('.txt'):\n",
    "            with open(os.path.join(directory, file), 'r') as f:\n",
    "                data = []\n",
    "                for line in f:\n",
    "                    fields = line.split()\n",
    "                    if len(fields) == 8:\n",
    "                        x = int(fields[1])\n",
    "                        y = int(fields[2])\n",
    "                        z = -int(float(fields[5]))\n",
    "                        t = int(fields[7])\n",
    "                        data.append([x, y, z, t])\n",
    "                result[file] = data\n",
    "\n",
    "    return result"
   ],
   "metadata": {
    "collapsed": false,
    "ExecuteTime": {
     "end_time": "2024-12-13T07:32:03.050033500Z",
     "start_time": "2024-12-13T07:32:03.041068200Z"
    }
   },
   "id": "b2b7ab4a278b7dd",
   "execution_count": 87
  },
  {
   "cell_type": "code",
   "outputs": [],
   "source": [
    "directory = 'C:/HV/Seismic/datas/Faults_TWT_Charisma_fault_sticks_ASCII'\n",
    "faults_original = process_files(directory)\n"
   ],
   "metadata": {
    "collapsed": false,
    "ExecuteTime": {
     "end_time": "2024-12-13T07:32:46.744084100Z",
     "start_time": "2024-12-13T07:32:46.738568400Z"
    }
   },
   "id": "fdb23d1ce2325ecc",
   "execution_count": 90
  },
  {
   "cell_type": "code",
   "outputs": [],
   "source": [
    "\"\"\"\n",
    "Сборка координат в один список попарно\n",
    "Если точек больше 2, то берется минимальное и максимальное значение по глубинам\n",
    "Если точка 1, то она не учитывается в разломах\n",
    "\"\"\"\n",
    "faults_final = {}\n",
    "\n",
    "for key in faults_original:\n",
    "    dop_spisok = []\n",
    "    z_spisok = []\n",
    "    faults_final[key] = []\n",
    "\n",
    "    for i in range(len(faults_original[key])):\n",
    "        if len(dop_spisok) == 0:\n",
    "            dop_spisok.append(faults_original[key][i])\n",
    "            z_spisok.append(faults_original[key][i][2])\n",
    "        elif len(dop_spisok) == 1:\n",
    "            if dop_spisok[0][3] == faults_original[key][i][3]:\n",
    "                dop_spisok.append(faults_original[key][i])\n",
    "                z_spisok.append(faults_original[key][i][2])\n",
    "            else:\n",
    "                dop_spisok.clear()\n",
    "                z_spisok.clear()\n",
    "                dop_spisok.append(faults_original[key][i])\n",
    "                z_spisok.append(faults_original[key][i][2])\n",
    "        elif len(dop_spisok) == 2:\n",
    "            if dop_spisok[0][3] == faults_original[key][i][3]:\n",
    "                dop_spisok.append(faults_original[key][i])\n",
    "                z_spisok.append(faults_original[key][i][2])\n",
    "            else:\n",
    "                #faults_final.append(dop_spisok[:])\n",
    "                faults_final[key].append(dop_spisok[:])\n",
    "                dop_spisok.clear()\n",
    "                z_spisok.clear()\n",
    "                dop_spisok.append(faults_original[key][i])\n",
    "                z_spisok.append(faults_original[key][i][2])\n",
    "        else:\n",
    "            if dop_spisok[0][3] == faults_original[key][i][3]:\n",
    "                dop_spisok.append(faults_original[key][i])\n",
    "                z_spisok.append(faults_original[key][i][2])\n",
    "            else:\n",
    "                faults_final[key].append(\n",
    "                    [dop_spisok[z_spisok.index(min(z_spisok))], dop_spisok[z_spisok.index(max(z_spisok))]])\n",
    "                dop_spisok.clear()\n",
    "                z_spisok.clear()\n",
    "                dop_spisok.append(faults_original[key][i])\n",
    "                z_spisok.append(faults_original[key][i][2])\n",
    "\n"
   ],
   "metadata": {
    "collapsed": false,
    "ExecuteTime": {
     "end_time": "2024-12-13T07:32:56.645561200Z",
     "start_time": "2024-12-13T07:32:56.602489Z"
    }
   },
   "id": "88a0f75a31568144",
   "execution_count": 92
  },
  {
   "cell_type": "code",
   "outputs": [],
   "source": [
    "def line_km(spisok):\n",
    "    z_min = -2386\n",
    "    z_max = -2142\n",
    "    if (-2142 < spisok[0][2]) and (spisok[1][2] < -2386):\n",
    "        t1 = (z_max - spisok[0][2]) / (spisok[1][2] - spisok[0][2])\n",
    "        x1 = round(spisok[0][0] + (spisok[1][0] - spisok[0][0]) * t1)\n",
    "        y1 = round(spisok[0][1] + (spisok[1][1] - spisok[0][1]) * t1)\n",
    "        z1 = z_max\n",
    "\n",
    "        t2 = (z_min - spisok[0][2]) / (spisok[1][2] - spisok[0][2])\n",
    "        x2 = round(spisok[0][0] + (spisok[1][0] - spisok[0][0]) * t2)\n",
    "        y2 = round(spisok[0][1] + (spisok[1][1] - spisok[0][1]) * t2)\n",
    "        z2 = z_min\n",
    "        return [[x1, y1, z1], [x2, y2, z2], 0]\n",
    "    elif (-2142 > spisok[0][2]) and (spisok[1][2] < -2386):\n",
    "        t2 = (z_min - spisok[0][2]) / (spisok[1][2] - spisok[0][2])\n",
    "        x2 = round(spisok[0][0] + (spisok[1][0] - spisok[0][0]) * t2)\n",
    "        y2 = round(spisok[0][1] + (spisok[1][1] - spisok[0][1]) * t2)\n",
    "        z2 = z_min\n",
    "        return [[spisok[0][0], spisok[0][1], spisok[0][2]], [x2, y2, z2], 1]\n",
    "    elif (-2142 < spisok[0][2]) and (spisok[1][2] > -2386):\n",
    "        t1 = (z_max - spisok[0][2]) / (spisok[1][2] - spisok[0][2])\n",
    "        x1 = round(spisok[0][0] + (spisok[1][0] - spisok[0][0]) * t1)\n",
    "        y1 = round(spisok[0][1] + (spisok[1][1] - spisok[0][1]) * t1)\n",
    "        z1 = z_max\n",
    "        return [[x1, y1, z1], [spisok[1][0], spisok[1][1], spisok[1][2]], 2]\n",
    "    else:\n",
    "        return [[spisok[0][0], spisok[0][1], spisok[0][2]], [spisok[1][0], spisok[1][1], spisok[1][2]], 3]"
   ],
   "metadata": {
    "collapsed": false,
    "ExecuteTime": {
     "end_time": "2024-12-13T06:57:28.770628400Z",
     "start_time": "2024-12-13T06:57:28.764650100Z"
    }
   },
   "id": "f9d01c01deee7561",
   "execution_count": 48
  },
  {
   "cell_type": "code",
   "outputs": [],
   "source": [
    "faults_to_cube_2 = {}\n",
    "for key in faults_final:\n",
    "    faults_to_cube_2[key] = []\n",
    "    for i in range(len(faults_final[key])):\n",
    "        faults_to_cube_2[key].append(line_km(sorted(faults_final[key][i], reverse=True, key=lambda xx: xx[2])))\n",
    "maps_of_top = {}\n",
    "for key in traces:\n",
    "    maps_of_top[key] = traces[key][0]"
   ],
   "metadata": {
    "collapsed": false,
    "ExecuteTime": {
     "end_time": "2024-12-13T07:33:03.444600300Z",
     "start_time": "2024-12-13T07:33:03.305293700Z"
    }
   },
   "id": "7b740f7f1eda10a0",
   "execution_count": 93
  },
  {
   "cell_type": "code",
   "outputs": [],
   "source": [
    "\n",
    "def create_polygons(data, axis=(0, 1)):\n",
    "    \"\"\"\n",
    "    Создает полигоны на основе данных, выбирая оси по заданным индексам.\n",
    "    \n",
    "    :param data: Словарь с данными о координатах.\n",
    "    :param axis: Кортеж из двух индексов, определяющих, какие оси использовать (например, (0, 1) для X и Y).\n",
    "    :return: Словарь с полигонами в виде списка, а координаты в виде списка.\n",
    "    \"\"\"\n",
    "    polygons = {}\n",
    "    \n",
    "    for line_name, coordinates_list in data.items():\n",
    "        # Множество для хранения уникальных точек\n",
    "        points_set = set()\n",
    "        \n",
    "        # Проходим по каждому подсписку в списке координат\n",
    "        for sublist in coordinates_list:\n",
    "            # Извлекаем координаты по заданным индексам\n",
    "            point1 = (sublist[0][axis[0]], sublist[0][axis[1]])  # Используем заданные оси\n",
    "            point2 = (sublist[1][axis[0]], sublist[1][axis[1]])  # Используем заданные оси\n",
    "            \n",
    "            points_set.add(point1)\n",
    "            points_set.add(point2)\n",
    "        \n",
    "        # Преобразуем множество в список и создаем полигон\n",
    "        unique_points = list(points_set)\n",
    "        \n",
    "        \n",
    "        # Сохранение полигона в словаре с именем линии в качестве ключа\n",
    "        polygons[line_name] = Polygon(unique_points)          # Координаты в виде списка\n",
    "        \n",
    "    \n",
    "    return polygons\n",
    "\n",
    "\n"
   ],
   "metadata": {
    "collapsed": false,
    "ExecuteTime": {
     "end_time": "2024-12-13T07:33:10.424050600Z",
     "start_time": "2024-12-13T07:33:10.414576400Z"
    }
   },
   "id": "6f9eacf22ee73f1e",
   "execution_count": 94
  },
  {
   "cell_type": "code",
   "outputs": [],
   "source": [
    "polygons_xy = create_polygons(faults_to_cube_2, axis=(0, 1))  # Используем X и Y\n",
    "polygons_xz = create_polygons(faults_to_cube_2, axis=(0, 2))  # Используем X и Z"
   ],
   "metadata": {
    "collapsed": false,
    "ExecuteTime": {
     "end_time": "2024-12-13T07:55:30.871295900Z",
     "start_time": "2024-12-13T07:55:30.852839700Z"
    }
   },
   "id": "3a252a2ad826645d",
   "execution_count": 120
  },
  {
   "cell_type": "code",
   "outputs": [],
   "source": [
    "def validate_and_fix_polygon(polygon):\n",
    "    if not polygon.is_valid:\n",
    "        #print(\"Недопустимый полигон:\", explain_validity(polygon))\n",
    "        return polygon.buffer(0)  # Попробуем исправить полигон\n",
    "    return polygon"
   ],
   "metadata": {
    "collapsed": false,
    "ExecuteTime": {
     "end_time": "2024-12-13T07:50:57.025721900Z",
     "start_time": "2024-12-13T07:50:57.016751500Z"
    }
   },
   "id": "3597e230631dc79c",
   "execution_count": 115
  },
  {
   "cell_type": "code",
   "outputs": [],
   "source": [
    "def plot_single_polygon(polygon, line_name):\n",
    "    \"\"\"\n",
    "    Визуализирует отдельный полигон с использованием библиотеки Plotly.\n",
    "    \n",
    "    :param polygon: Объект Polygon.\n",
    "    :param line_name: Имя для отображения полигона.\n",
    "    \"\"\"\n",
    "    fig = go.Figure()\n",
    "\n",
    "    # Извлекаем координаты внешней границы полигона\n",
    "    x, y = polygon.exterior.xy\n",
    "\n",
    "    # Преобразуем координаты в списки\n",
    "    x = list(x)\n",
    "    y = list(y)\n",
    "\n",
    "    # Добавляем полигон на график\n",
    "    fig.add_trace(go.Scatter(\n",
    "        x=x,\n",
    "        y=y,\n",
    "        mode='lines',\n",
    "        name=line_name,\n",
    "        line=dict(color='blue', width=2)  # Цвет и ширина линии для отдельного полигона\n",
    "    ))\n",
    "\n",
    "    return fig\n",
    "\n",
    "def plot_all_polygons(polygons):\n",
    "    \"\"\"\n",
    "    Визуализирует все полигоны из словаря с использованием библиотеки Plotly.\n",
    "    \n",
    "    :param polygons: Словарь с полигонами, где ключи - имена линий, \n",
    "                     а значения - объекты Polygon.\n",
    "    \"\"\"\n",
    "    fig = go.Figure()\n",
    "\n",
    "    for line_name, polygon in polygons.items():\n",
    "        x, y = polygon.exterior.xy  # Извлекаем координаты внешней границы полигона\n",
    "        \n",
    "        # Преобразуем координаты в списки\n",
    "        x = list(x)\n",
    "        y = list(y)\n",
    "\n",
    "        # Добавляем полигон на график\n",
    "        fig.add_trace(go.Scatter(\n",
    "            x=x,\n",
    "            y=y,\n",
    "            mode='lines',\n",
    "            name=line_name,\n",
    "            line=dict(color='red', width=1)  # Цвет и ширина линии для всех полигонов\n",
    "        ))\n",
    "\n",
    "    return fig\n",
    "\n",
    "def plot_verh(poligon_1, slovar, f):\n",
    "\n",
    "    # Определим полигон A\n",
    "    polygon_A = Polygon(poligon_1)\n",
    "\n",
    "    # Определим словарь с полигонами B\n",
    "    polygons_B = slovar\n",
    "    \n",
    "    # Проверяем и исправляем полигоны B\n",
    "    polygons_B_fixed = {name: validate_and_fix_polygon(poly) for name, poly in polygons_B.items()}\n",
    "\n",
    "    # Вычисляем площадь полигона A\n",
    "    area_A = polygon_A.area\n",
    "    \n",
    "    # Инициализируем переменную для суммы площадей пересечений\n",
    "    total_intersection_area = 0\n",
    "    summ_aria_slovar = 0\n",
    "\n",
    "    # Вычисляем площади пересечений\n",
    "    for line_name, polygon in polygons_B_fixed.items():\n",
    "        intersection = polygon_A.intersection(polygon)\n",
    "        total_intersection_area += intersection.area\n",
    "        summ_aria_slovar +=polygon.area\n",
    "\n",
    "    # Вычисляем процент перекрытия\n",
    "    if area_A > 0:\n",
    "        overlap_percentage = (total_intersection_area / summ_aria_slovar) * 100\n",
    "        \n",
    "    else:\n",
    "        overlap_percentage = 0\n",
    "  \n",
    "\n",
    "    print(f\"Процент перекрытия всех разломов от куба: {overlap_percentage:.2f}%\")\n",
    "\n",
    "    # Визуализируем полигон A\n",
    "    fig_A = plot_single_polygon(polygon_A, 'Границы Куба')\n",
    "\n",
    "    # Визуализируем все полигоны из словаря B\n",
    "    fig_B = plot_all_polygons(polygons_B)\n",
    "\n",
    "    # Объединяем графики\n",
    "    fig = fig_A\n",
    "    for trace in fig_B.data:\n",
    "        fig.add_trace(trace)\n",
    "    \n",
    "    if f == 0:\n",
    "        # Настройка общего графика\n",
    "        fig.update_layout(\n",
    "            title='границы куба и границы разломов, вид сверху',\n",
    "            xaxis_title='Инлайны',\n",
    "            yaxis_title='Икслайны',\n",
    "            showlegend=True\n",
    "        )\n",
    "    elif f == 1:\n",
    "        fig.update_layout(\n",
    "            title='границы куба и границы разломов, вид сбоку',\n",
    "            xaxis_title='Инлайны',\n",
    "            yaxis_title='Глубины',\n",
    "            showlegend=True\n",
    "        )\n",
    "        \n",
    "# Отображение графика\n",
    "    fig.show()\n"
   ],
   "metadata": {
    "collapsed": false,
    "ExecuteTime": {
     "end_time": "2024-12-13T07:58:08.981210900Z",
     "start_time": "2024-12-13T07:58:08.970088Z"
    }
   },
   "id": "56cb318b4eb07f7",
   "execution_count": 126
  },
  {
   "cell_type": "code",
   "outputs": [
    {
     "name": "stdout",
     "output_type": "stream",
     "text": [
      "Процент перекрытия всех разломов от куба: 100.00%\n"
     ]
    },
    {
     "data": {
      "application/vnd.plotly.v1+json": {
       "data": [
        {
         "line": {
          "color": "blue",
          "width": 2
         },
         "mode": "lines",
         "name": "Границы Куба",
         "x": [
          1001.0,
          1001.0,
          1612.0,
          1612.0,
          1001.0
         ],
         "y": [
          5001.0,
          5622.0,
          5622.0,
          5001.0,
          5001.0
         ],
         "type": "scatter"
        },
        {
         "line": {
          "color": "red",
          "width": 1
         },
         "mode": "lines",
         "name": "Graben10_E.txt",
         "x": [
          1147.0,
          1167.0,
          1157.0,
          1187.0,
          1187.0,
          1177.0,
          1147.0,
          1177.0,
          1157.0,
          1167.0,
          1147.0
         ],
         "y": [
          5208.0,
          5195.0,
          5201.0,
          5179.0,
          5192.0,
          5187.0,
          5223.0,
          5200.0,
          5216.0,
          5208.0,
          5208.0
         ],
         "type": "scatter"
        },
        {
         "line": {
          "color": "red",
          "width": 1
         },
         "mode": "lines",
         "name": "Graben10_W.txt",
         "x": [
          1157.0,
          1177.0,
          1197.0,
          1187.0,
          1167.0,
          1147.0,
          1207.0,
          1177.0,
          1187.0,
          1167.0,
          1147.0,
          1157.0,
          1197.0,
          1207.0,
          1157.0
         ],
         "y": [
          5147.0,
          5146.0,
          5134.0,
          5128.0,
          5152.0,
          5168.0,
          5128.0,
          5135.0,
          5139.0,
          5141.0,
          5155.0,
          5160.0,
          5125.0,
          5120.0,
          5147.0
         ],
         "type": "scatter"
        },
        {
         "line": {
          "color": "red",
          "width": 1
         },
         "mode": "lines",
         "name": "Graben11_E.txt",
         "x": [
          1137.0,
          1117.0,
          1127.0,
          1107.0,
          1107.0,
          1127.0,
          1117.0,
          1137.0,
          1137.0
         ],
         "y": [
          5212.0,
          5214.0,
          5209.0,
          5235.0,
          5222.0,
          5221.0,
          5227.0,
          5199.0,
          5212.0
         ],
         "type": "scatter"
        },
        {
         "line": {
          "color": "red",
          "width": 1
         },
         "mode": "lines",
         "name": "Graben11_W.txt",
         "x": [
          1087.0,
          1107.0,
          1097.0,
          1087.0,
          1137.0,
          1117.0,
          1097.0,
          1127.0,
          1107.0,
          1137.0,
          1127.0,
          1117.0,
          1087.0
         ],
         "y": [
          5186.0,
          5168.0,
          5162.0,
          5172.0,
          5139.0,
          5164.0,
          5177.0,
          5144.0,
          5154.0,
          5151.0,
          5156.0,
          5150.0,
          5186.0
         ],
         "type": "scatter"
        },
        {
         "line": {
          "color": "red",
          "width": 1
         },
         "mode": "lines",
         "name": "Graben12_E.txt",
         "x": [
          1027.0,
          1067.0,
          1027.0,
          1047.0,
          1077.0,
          1067.0,
          1057.0,
          1057.0,
          1077.0,
          1037.0,
          1037.0,
          1047.0,
          1027.0
         ],
         "y": [
          5249.0,
          5234.0,
          5264.0,
          5236.0,
          5209.0,
          5220.0,
          5225.0,
          5240.0,
          5224.0,
          5257.0,
          5241.0,
          5250.0,
          5249.0
         ],
         "type": "scatter"
        },
        {
         "line": {
          "color": "red",
          "width": 1
         },
         "mode": "lines",
         "name": "Graben12_W.txt",
         "x": [
          1067.0,
          1047.0,
          1037.0,
          1037.0,
          1077.0,
          1067.0,
          1057.0,
          1057.0,
          1047.0,
          1087.0,
          1087.0,
          1077.0,
          1067.0
         ],
         "y": [
          5163.0,
          5162.0,
          5178.0,
          5168.0,
          5148.0,
          5153.0,
          5168.0,
          5157.0,
          5173.0,
          5154.0,
          5144.0,
          5159.0,
          5163.0
         ],
         "type": "scatter"
        },
        {
         "line": {
          "color": "red",
          "width": 1
         },
         "mode": "lines",
         "name": "Graben13_E.txt",
         "x": [
          1217.0,
          1227.0,
          1207.0,
          1207.0,
          1217.0,
          1237.0,
          1237.0,
          1227.0,
          1217.0
         ],
         "y": [
          5272.0,
          5265.0,
          5279.0,
          5292.0,
          5286.0,
          5274.0,
          5258.0,
          5279.0,
          5272.0
         ],
         "type": "scatter"
        },
        {
         "line": {
          "color": "red",
          "width": 1
         },
         "mode": "lines",
         "name": "Graben13_W.txt",
         "x": [
          1217.0,
          1207.0,
          1197.0,
          1217.0,
          1197.0,
          1207.0,
          1187.0,
          1187.0,
          1217.0
         ],
         "y": [
          5221.0,
          5213.0,
          5234.0,
          5207.0,
          5220.0,
          5228.0,
          5226.0,
          5239.0,
          5221.0
         ],
         "type": "scatter"
        },
        {
         "line": {
          "color": "red",
          "width": 1
         },
         "mode": "lines",
         "name": "Graben14_E_half.txt",
         "x": [
          1197.0,
          1207.0,
          1237.0,
          1217.0,
          1237.0,
          1197.0,
          1227.0,
          1217.0,
          1207.0,
          1227.0,
          1197.0
         ],
         "y": [
          5195.0,
          5190.0,
          5188.0,
          5197.0,
          5175.0,
          5209.0,
          5180.0,
          5183.0,
          5204.0,
          5192.0,
          5195.0
         ],
         "type": "scatter"
        },
        {
         "line": {
          "color": "red",
          "width": 1
         },
         "mode": "lines",
         "name": "Graben15_E_half.txt",
         "x": [
          1217.0,
          1207.0,
          1197.0,
          1187.0,
          1217.0,
          1197.0,
          1207.0,
          1227.0,
          1227.0,
          1187.0,
          1217.0
         ],
         "y": [
          5327.0,
          5319.0,
          5340.0,
          5330.0,
          5313.0,
          5326.0,
          5333.0,
          5321.0,
          5308.0,
          5344.0,
          5327.0
         ],
         "type": "scatter"
        },
        {
         "line": {
          "color": "red",
          "width": 1
         },
         "mode": "lines",
         "name": "Graben16_E.txt",
         "x": [
          1437.0,
          1457.0,
          1437.0,
          1477.0,
          1467.0,
          1447.0,
          1477.0,
          1497.0,
          1487.0,
          1487.0,
          1457.0,
          1447.0,
          1467.0,
          1497.0,
          1437.0
         ],
         "y": [
          5596.0,
          5590.0,
          5589.0,
          5582.0,
          5586.0,
          5594.0,
          5568.0,
          5572.0,
          5577.0,
          5561.0,
          5578.0,
          5584.0,
          5572.0,
          5555.0,
          5596.0
         ],
         "type": "scatter"
        },
        {
         "line": {
          "color": "red",
          "width": 1
         },
         "mode": "lines",
         "name": "Graben16_W.txt",
         "x": [
          1457.0,
          1477.0,
          1437.0,
          1447.0,
          1477.0,
          1437.0,
          1457.0,
          1467.0,
          1447.0,
          1467.0,
          1457.0
         ],
         "y": [
          5532.0,
          5525.0,
          5525.0,
          5535.0,
          5515.0,
          5537.0,
          5521.0,
          5528.0,
          5524.0,
          5518.0,
          5532.0
         ],
         "type": "scatter"
        },
        {
         "line": {
          "color": "red",
          "width": 1
         },
         "mode": "lines",
         "name": "Graben17_W_half.txt",
         "x": [
          1457.0,
          1407.0,
          1437.0,
          1457.0,
          1407.0,
          1447.0,
          1417.0,
          1447.0,
          1437.0,
          1427.0,
          1427.0,
          1417.0,
          1457.0
         ],
         "y": [
          5555.0,
          5580.0,
          5550.0,
          5544.0,
          5566.0,
          5557.0,
          5573.0,
          5546.0,
          5561.0,
          5553.0,
          5565.0,
          5559.0,
          5555.0
         ],
         "type": "scatter"
        },
        {
         "line": {
          "color": "red",
          "width": 1
         },
         "mode": "lines",
         "name": "Graben18_W_half.txt",
         "x": [
          1457.0,
          1447.0,
          1467.0,
          1417.0,
          1417.0,
          1447.0,
          1437.0,
          1427.0,
          1407.0,
          1427.0,
          1407.0,
          1457.0,
          1437.0,
          1467.0,
          1457.0
         ],
         "y": [
          5577.0,
          5571.0,
          5575.0,
          5584.0,
          5594.0,
          5580.0,
          5575.0,
          5580.0,
          5589.0,
          5589.0,
          5598.0,
          5569.0,
          5584.0,
          5566.0,
          5577.0
         ],
         "type": "scatter"
        },
        {
         "line": {
          "color": "red",
          "width": 1
         },
         "mode": "lines",
         "name": "Graben19_E_half.txt",
         "x": [
          1567.0,
          1557.0,
          1567.0,
          1577.0,
          1557.0,
          1577.0,
          1567.0
         ],
         "y": [
          5074.0,
          5071.0,
          5064.0,
          5060.0,
          5080.0,
          5069.0,
          5074.0
         ],
         "type": "scatter"
        },
        {
         "line": {
          "color": "red",
          "width": 1
         },
         "mode": "lines",
         "name": "Graben1_E.txt",
         "x": [
          1257.0,
          1297.0,
          1307.0,
          1337.0,
          1327.0,
          1337.0,
          1242.0,
          1297.0,
          1287.0,
          1317.0,
          1277.0,
          1242.0,
          1307.0,
          1267.0,
          1267.0,
          1257.0,
          1287.0,
          1317.0,
          1277.0,
          1327.0,
          1257.0
         ],
         "y": [
          5210.0,
          5209.0,
          5186.0,
          5168.0,
          5194.0,
          5186.0,
          5217.0,
          5193.0,
          5197.0,
          5180.0,
          5202.0,
          5232.0,
          5203.0,
          5206.0,
          5221.0,
          5226.0,
          5214.0,
          5197.0,
          5219.0,
          5177.0,
          5210.0
         ],
         "type": "scatter"
        },
        {
         "line": {
          "color": "red",
          "width": 1
         },
         "mode": "lines",
         "name": "Graben1_W.txt",
         "x": [
          1277.0,
          1307.0,
          1277.0,
          1267.0,
          1297.0,
          1287.0,
          1317.0,
          1257.0,
          1257.0,
          1247.0,
          1267.0,
          1247.0,
          1307.0,
          1317.0,
          1287.0,
          1297.0,
          1277.0
         ],
         "y": [
          5137.0,
          5139.0,
          5152.0,
          5162.0,
          5129.0,
          5134.0,
          5123.0,
          5151.0,
          5167.0,
          5159.0,
          5145.0,
          5175.0,
          5125.0,
          5135.0,
          5148.0,
          5143.0,
          5137.0
         ],
         "type": "scatter"
        },
        {
         "line": {
          "color": "red",
          "width": 1
         },
         "mode": "lines",
         "name": "Graben2_E.txt",
         "x": [
          1497.0,
          1477.0,
          1467.0,
          1497.0,
          1507.0,
          1407.0,
          1437.0,
          1477.0,
          1437.0,
          1487.0,
          1457.0,
          1427.0,
          1447.0,
          1467.0,
          1427.0,
          1457.0,
          1407.0,
          1417.0,
          1487.0,
          1507.0,
          1447.0,
          1417.0,
          1497.0
         ],
         "y": [
          5307.0,
          5332.0,
          5336.0,
          5322.0,
          5317.0,
          5352.0,
          5335.0,
          5319.0,
          5347.0,
          5314.0,
          5340.0,
          5338.0,
          5344.0,
          5322.0,
          5350.0,
          5327.0,
          5341.0,
          5339.0,
          5328.0,
          5303.0,
          5331.0,
          5351.0,
          5307.0
         ],
         "type": "scatter"
        },
        {
         "line": {
          "color": "red",
          "width": 1
         },
         "mode": "lines",
         "name": "Graben2_W.txt",
         "x": [
          1397.0,
          1457.0,
          1397.0,
          1447.0,
          1447.0,
          1437.0,
          1457.0,
          1427.0,
          1487.0,
          1467.0,
          1437.0,
          1417.0,
          1477.0,
          1427.0,
          1467.0,
          1477.0,
          1407.0,
          1487.0,
          1417.0,
          1407.0,
          1397.0
         ],
         "y": [
          5293.0,
          5283.0,
          5308.0,
          5272.0,
          5284.0,
          5289.0,
          5270.0,
          5293.0,
          5259.0,
          5280.0,
          5276.0,
          5297.0,
          5263.0,
          5280.0,
          5267.0,
          5275.0,
          5286.0,
          5273.0,
          5284.0,
          5301.0,
          5293.0
         ],
         "type": "scatter"
        },
        {
         "line": {
          "color": "red",
          "width": 1
         },
         "mode": "lines",
         "name": "Graben3_E.txt",
         "x": [
          1157.0,
          1117.0,
          1157.0,
          1137.0,
          1097.0,
          1167.0,
          1107.0,
          1187.0,
          1187.0,
          1087.0,
          1177.0,
          1197.0,
          1117.0,
          1087.0,
          1197.0,
          1137.0,
          1147.0,
          1177.0,
          1147.0,
          1107.0,
          1127.0,
          1097.0,
          1127.0,
          1167.0,
          1157.0
         ],
         "y": [
          5516.0,
          5550.0,
          5531.0,
          5528.0,
          5544.0,
          5511.0,
          5539.0,
          5498.0,
          5513.0,
          5548.0,
          5521.0,
          5493.0,
          5537.0,
          5560.0,
          5508.0,
          5542.0,
          5522.0,
          5505.0,
          5537.0,
          5553.0,
          5531.0,
          5557.0,
          5546.0,
          5527.0,
          5516.0
         ],
         "type": "scatter"
        },
        {
         "line": {
          "color": "red",
          "width": 1
         },
         "mode": "lines",
         "name": "Graben3_W.txt",
         "x": [
          1117.0,
          1157.0,
          1092.0,
          1167.0,
          1117.0,
          1147.0,
          1177.0,
          1097.0,
          1107.0,
          1177.0,
          1127.0,
          1127.0,
          1157.0,
          1107.0,
          1147.0,
          1182.0,
          1137.0,
          1097.0,
          1092.0,
          1137.0,
          1167.0,
          1182.0,
          1117.0
         ],
         "y": [
          5480.0,
          5473.0,
          5496.0,
          5450.0,
          5498.0,
          5462.0,
          5445.0,
          5510.0,
          5487.0,
          5463.0,
          5474.0,
          5492.0,
          5456.0,
          5504.0,
          5479.0,
          5461.0,
          5468.0,
          5493.0,
          5512.0,
          5486.0,
          5469.0,
          5442.0,
          5480.0
         ],
         "type": "scatter"
        },
        {
         "line": {
          "color": "red",
          "width": 1
         },
         "mode": "lines",
         "name": "Graben4_E.txt",
         "x": [
          1237.0,
          1247.0,
          1277.0,
          1287.0,
          1267.0,
          1237.0,
          1257.0,
          1257.0,
          1307.0,
          1267.0,
          1287.0,
          1307.0,
          1247.0,
          1277.0,
          1297.0,
          1297.0,
          1237.0
         ],
         "y": [
          5578.0,
          5574.0,
          5557.0,
          5555.0,
          5580.0,
          5593.0,
          5585.0,
          5569.0,
          5546.0,
          5563.0,
          5573.0,
          5565.0,
          5589.0,
          5575.0,
          5552.0,
          5571.0,
          5578.0
         ],
         "type": "scatter"
        },
        {
         "line": {
          "color": "red",
          "width": 1
         },
         "mode": "lines",
         "name": "Graben4_W.txt",
         "x": [
          1227.0,
          1227.0,
          1317.0,
          1247.0,
          1307.0,
          1337.0,
          1337.0,
          1327.0,
          1327.0,
          1237.0,
          1297.0,
          1237.0,
          1247.0,
          1297.0,
          1257.0,
          1307.0,
          1287.0,
          1317.0,
          1277.0,
          1267.0,
          1257.0,
          1267.0,
          1287.0,
          1277.0,
          1227.0
         ],
         "y": [
          5538.0,
          5550.0,
          5495.0,
          5540.0,
          5512.0,
          5485.0,
          5497.0,
          5490.0,
          5502.0,
          5532.0,
          5501.0,
          5544.0,
          5527.0,
          5513.0,
          5535.0,
          5499.0,
          5520.0,
          5509.0,
          5525.0,
          5517.0,
          5522.0,
          5529.0,
          5507.0,
          5512.0,
          5538.0
         ],
         "type": "scatter"
        },
        {
         "line": {
          "color": "red",
          "width": 1
         },
         "mode": "lines",
         "name": "Graben5_E.txt",
         "x": [
          1527.0,
          1557.0,
          1517.0,
          1567.0,
          1557.0,
          1577.0,
          1577.0,
          1547.0,
          1527.0,
          1537.0,
          1567.0,
          1547.0,
          1537.0,
          1517.0,
          1527.0
         ],
         "y": [
          5365.0,
          5352.0,
          5369.0,
          5361.0,
          5366.0,
          5344.0,
          5357.0,
          5370.0,
          5379.0,
          5375.0,
          5347.0,
          5357.0,
          5362.0,
          5383.0,
          5365.0
         ],
         "type": "scatter"
        },
        {
         "line": {
          "color": "red",
          "width": 1
         },
         "mode": "lines",
         "name": "Graben5_W.txt",
         "x": [
          1547.0,
          1497.0,
          1537.0,
          1517.0,
          1507.0,
          1557.0,
          1517.0,
          1567.0,
          1507.0,
          1577.0,
          1547.0,
          1497.0,
          1537.0,
          1567.0,
          1557.0,
          1527.0,
          1527.0,
          1577.0,
          1547.0
         ],
         "y": [
          5308.0,
          5327.0,
          5313.0,
          5305.0,
          5326.0,
          5291.0,
          5322.0,
          5303.0,
          5309.0,
          5302.0,
          5293.0,
          5312.0,
          5298.0,
          5289.0,
          5305.0,
          5317.0,
          5301.0,
          5288.0,
          5308.0
         ],
         "type": "scatter"
        },
        {
         "line": {
          "color": "red",
          "width": 1
         },
         "mode": "lines",
         "name": "Graben6_E.txt",
         "x": [
          1497.0,
          1472.0,
          1517.0,
          1487.0,
          1497.0,
          1507.0,
          1477.0,
          1517.0,
          1472.0,
          1477.0,
          1527.0,
          1527.0,
          1507.0,
          1487.0,
          1497.0
         ],
         "y": [
          5211.0,
          5233.0,
          5214.0,
          5227.0,
          5223.0,
          5219.0,
          5231.0,
          5201.0,
          5220.0,
          5218.0,
          5195.0,
          5208.0,
          5205.0,
          5214.0,
          5211.0
         ],
         "type": "scatter"
        },
        {
         "line": {
          "color": "red",
          "width": 1
         },
         "mode": "lines",
         "name": "Graben6_W.txt",
         "x": [
          1497.0,
          1527.0,
          1527.0,
          1507.0,
          1517.0,
          1507.0,
          1487.0,
          1517.0,
          1487.0,
          1497.0,
          1497.0
         ],
         "y": [
          5169.0,
          5158.0,
          5151.0,
          5161.0,
          5155.0,
          5170.0,
          5185.0,
          5164.0,
          5175.0,
          5179.0,
          5169.0
         ],
         "type": "scatter"
        },
        {
         "line": {
          "color": "red",
          "width": 1
         },
         "mode": "lines",
         "name": "Graben7_E.txt",
         "x": [
          1487.0,
          1527.0,
          1557.0,
          1517.0,
          1497.0,
          1487.0,
          1507.0,
          1567.0,
          1537.0,
          1557.0,
          1477.0,
          1537.0,
          1547.0,
          1527.0,
          1577.0,
          1477.0,
          1507.0,
          1547.0,
          1577.0,
          1497.0,
          1567.0,
          1517.0,
          1487.0
         ],
         "y": [
          5239.0,
          5229.0,
          5236.0,
          5233.0,
          5258.0,
          5260.0,
          5235.0,
          5231.0,
          5245.0,
          5217.0,
          5261.0,
          5226.0,
          5218.0,
          5249.0,
          5207.0,
          5242.0,
          5255.0,
          5239.0,
          5228.0,
          5238.0,
          5211.0,
          5252.0,
          5239.0
         ],
         "type": "scatter"
        },
        {
         "line": {
          "color": "red",
          "width": 1
         },
         "mode": "lines",
         "name": "Graben7_W.txt",
         "x": [
          1557.0,
          1557.0,
          1577.0,
          1567.0,
          1587.0,
          1587.0,
          1577.0,
          1567.0,
          1557.0
         ],
         "y": [
          5185.0,
          5198.0,
          5175.0,
          5191.0,
          5171.0,
          5182.0,
          5187.0,
          5179.0,
          5185.0
         ],
         "type": "scatter"
        },
        {
         "line": {
          "color": "red",
          "width": 1
         },
         "mode": "lines",
         "name": "Graben8_W_half.txt",
         "x": [
          1407.0,
          1457.0,
          1447.0,
          1407.0,
          1437.0,
          1427.0,
          1437.0,
          1467.0,
          1477.0,
          1457.0,
          1397.0,
          1467.0,
          1477.0,
          1417.0,
          1447.0,
          1417.0,
          1397.0,
          1427.0,
          1407.0
         ],
         "y": [
          5159.0,
          5144.0,
          5149.0,
          5171.0,
          5154.0,
          5149.0,
          5144.0,
          5130.0,
          5125.0,
          5135.0,
          5164.0,
          5139.0,
          5134.0,
          5155.0,
          5138.0,
          5167.0,
          5176.0,
          5160.0,
          5159.0
         ],
         "type": "scatter"
        },
        {
         "line": {
          "color": "red",
          "width": 1
         },
         "mode": "lines",
         "name": "Graben9_W_half.txt",
         "x": [
          1347.0,
          1357.0,
          1367.0,
          1342.0,
          1387.0,
          1367.0,
          1342.0,
          1387.0,
          1357.0,
          1347.0,
          1377.0,
          1377.0,
          1347.0
         ],
         "y": [
          5156.0,
          5165.0,
          5159.0,
          5171.0,
          5147.0,
          5146.0,
          5158.0,
          5136.0,
          5151.0,
          5169.0,
          5154.0,
          5141.0,
          5156.0
         ],
         "type": "scatter"
        }
       ],
       "layout": {
        "template": {
         "data": {
          "histogram2dcontour": [
           {
            "type": "histogram2dcontour",
            "colorbar": {
             "outlinewidth": 0,
             "ticks": ""
            },
            "colorscale": [
             [
              0.0,
              "#0d0887"
             ],
             [
              0.1111111111111111,
              "#46039f"
             ],
             [
              0.2222222222222222,
              "#7201a8"
             ],
             [
              0.3333333333333333,
              "#9c179e"
             ],
             [
              0.4444444444444444,
              "#bd3786"
             ],
             [
              0.5555555555555556,
              "#d8576b"
             ],
             [
              0.6666666666666666,
              "#ed7953"
             ],
             [
              0.7777777777777778,
              "#fb9f3a"
             ],
             [
              0.8888888888888888,
              "#fdca26"
             ],
             [
              1.0,
              "#f0f921"
             ]
            ]
           }
          ],
          "choropleth": [
           {
            "type": "choropleth",
            "colorbar": {
             "outlinewidth": 0,
             "ticks": ""
            }
           }
          ],
          "histogram2d": [
           {
            "type": "histogram2d",
            "colorbar": {
             "outlinewidth": 0,
             "ticks": ""
            },
            "colorscale": [
             [
              0.0,
              "#0d0887"
             ],
             [
              0.1111111111111111,
              "#46039f"
             ],
             [
              0.2222222222222222,
              "#7201a8"
             ],
             [
              0.3333333333333333,
              "#9c179e"
             ],
             [
              0.4444444444444444,
              "#bd3786"
             ],
             [
              0.5555555555555556,
              "#d8576b"
             ],
             [
              0.6666666666666666,
              "#ed7953"
             ],
             [
              0.7777777777777778,
              "#fb9f3a"
             ],
             [
              0.8888888888888888,
              "#fdca26"
             ],
             [
              1.0,
              "#f0f921"
             ]
            ]
           }
          ],
          "heatmap": [
           {
            "type": "heatmap",
            "colorbar": {
             "outlinewidth": 0,
             "ticks": ""
            },
            "colorscale": [
             [
              0.0,
              "#0d0887"
             ],
             [
              0.1111111111111111,
              "#46039f"
             ],
             [
              0.2222222222222222,
              "#7201a8"
             ],
             [
              0.3333333333333333,
              "#9c179e"
             ],
             [
              0.4444444444444444,
              "#bd3786"
             ],
             [
              0.5555555555555556,
              "#d8576b"
             ],
             [
              0.6666666666666666,
              "#ed7953"
             ],
             [
              0.7777777777777778,
              "#fb9f3a"
             ],
             [
              0.8888888888888888,
              "#fdca26"
             ],
             [
              1.0,
              "#f0f921"
             ]
            ]
           }
          ],
          "heatmapgl": [
           {
            "type": "heatmapgl",
            "colorbar": {
             "outlinewidth": 0,
             "ticks": ""
            },
            "colorscale": [
             [
              0.0,
              "#0d0887"
             ],
             [
              0.1111111111111111,
              "#46039f"
             ],
             [
              0.2222222222222222,
              "#7201a8"
             ],
             [
              0.3333333333333333,
              "#9c179e"
             ],
             [
              0.4444444444444444,
              "#bd3786"
             ],
             [
              0.5555555555555556,
              "#d8576b"
             ],
             [
              0.6666666666666666,
              "#ed7953"
             ],
             [
              0.7777777777777778,
              "#fb9f3a"
             ],
             [
              0.8888888888888888,
              "#fdca26"
             ],
             [
              1.0,
              "#f0f921"
             ]
            ]
           }
          ],
          "contourcarpet": [
           {
            "type": "contourcarpet",
            "colorbar": {
             "outlinewidth": 0,
             "ticks": ""
            }
           }
          ],
          "contour": [
           {
            "type": "contour",
            "colorbar": {
             "outlinewidth": 0,
             "ticks": ""
            },
            "colorscale": [
             [
              0.0,
              "#0d0887"
             ],
             [
              0.1111111111111111,
              "#46039f"
             ],
             [
              0.2222222222222222,
              "#7201a8"
             ],
             [
              0.3333333333333333,
              "#9c179e"
             ],
             [
              0.4444444444444444,
              "#bd3786"
             ],
             [
              0.5555555555555556,
              "#d8576b"
             ],
             [
              0.6666666666666666,
              "#ed7953"
             ],
             [
              0.7777777777777778,
              "#fb9f3a"
             ],
             [
              0.8888888888888888,
              "#fdca26"
             ],
             [
              1.0,
              "#f0f921"
             ]
            ]
           }
          ],
          "surface": [
           {
            "type": "surface",
            "colorbar": {
             "outlinewidth": 0,
             "ticks": ""
            },
            "colorscale": [
             [
              0.0,
              "#0d0887"
             ],
             [
              0.1111111111111111,
              "#46039f"
             ],
             [
              0.2222222222222222,
              "#7201a8"
             ],
             [
              0.3333333333333333,
              "#9c179e"
             ],
             [
              0.4444444444444444,
              "#bd3786"
             ],
             [
              0.5555555555555556,
              "#d8576b"
             ],
             [
              0.6666666666666666,
              "#ed7953"
             ],
             [
              0.7777777777777778,
              "#fb9f3a"
             ],
             [
              0.8888888888888888,
              "#fdca26"
             ],
             [
              1.0,
              "#f0f921"
             ]
            ]
           }
          ],
          "mesh3d": [
           {
            "type": "mesh3d",
            "colorbar": {
             "outlinewidth": 0,
             "ticks": ""
            }
           }
          ],
          "scatter": [
           {
            "marker": {
             "line": {
              "color": "#283442"
             }
            },
            "type": "scatter"
           }
          ],
          "parcoords": [
           {
            "type": "parcoords",
            "line": {
             "colorbar": {
              "outlinewidth": 0,
              "ticks": ""
             }
            }
           }
          ],
          "scatterpolargl": [
           {
            "type": "scatterpolargl",
            "marker": {
             "colorbar": {
              "outlinewidth": 0,
              "ticks": ""
             }
            }
           }
          ],
          "bar": [
           {
            "error_x": {
             "color": "#f2f5fa"
            },
            "error_y": {
             "color": "#f2f5fa"
            },
            "marker": {
             "line": {
              "color": "rgb(17,17,17)",
              "width": 0.5
             },
             "pattern": {
              "fillmode": "overlay",
              "size": 10,
              "solidity": 0.2
             }
            },
            "type": "bar"
           }
          ],
          "scattergeo": [
           {
            "type": "scattergeo",
            "marker": {
             "colorbar": {
              "outlinewidth": 0,
              "ticks": ""
             }
            }
           }
          ],
          "scatterpolar": [
           {
            "type": "scatterpolar",
            "marker": {
             "colorbar": {
              "outlinewidth": 0,
              "ticks": ""
             }
            }
           }
          ],
          "histogram": [
           {
            "marker": {
             "pattern": {
              "fillmode": "overlay",
              "size": 10,
              "solidity": 0.2
             }
            },
            "type": "histogram"
           }
          ],
          "scattergl": [
           {
            "marker": {
             "line": {
              "color": "#283442"
             }
            },
            "type": "scattergl"
           }
          ],
          "scatter3d": [
           {
            "type": "scatter3d",
            "line": {
             "colorbar": {
              "outlinewidth": 0,
              "ticks": ""
             }
            },
            "marker": {
             "colorbar": {
              "outlinewidth": 0,
              "ticks": ""
             }
            }
           }
          ],
          "scattermapbox": [
           {
            "type": "scattermapbox",
            "marker": {
             "colorbar": {
              "outlinewidth": 0,
              "ticks": ""
             }
            }
           }
          ],
          "scatterternary": [
           {
            "type": "scatterternary",
            "marker": {
             "colorbar": {
              "outlinewidth": 0,
              "ticks": ""
             }
            }
           }
          ],
          "scattercarpet": [
           {
            "type": "scattercarpet",
            "marker": {
             "colorbar": {
              "outlinewidth": 0,
              "ticks": ""
             }
            }
           }
          ],
          "carpet": [
           {
            "aaxis": {
             "endlinecolor": "#A2B1C6",
             "gridcolor": "#506784",
             "linecolor": "#506784",
             "minorgridcolor": "#506784",
             "startlinecolor": "#A2B1C6"
            },
            "baxis": {
             "endlinecolor": "#A2B1C6",
             "gridcolor": "#506784",
             "linecolor": "#506784",
             "minorgridcolor": "#506784",
             "startlinecolor": "#A2B1C6"
            },
            "type": "carpet"
           }
          ],
          "table": [
           {
            "cells": {
             "fill": {
              "color": "#506784"
             },
             "line": {
              "color": "rgb(17,17,17)"
             }
            },
            "header": {
             "fill": {
              "color": "#2a3f5f"
             },
             "line": {
              "color": "rgb(17,17,17)"
             }
            },
            "type": "table"
           }
          ],
          "barpolar": [
           {
            "marker": {
             "line": {
              "color": "rgb(17,17,17)",
              "width": 0.5
             },
             "pattern": {
              "fillmode": "overlay",
              "size": 10,
              "solidity": 0.2
             }
            },
            "type": "barpolar"
           }
          ],
          "pie": [
           {
            "automargin": true,
            "type": "pie"
           }
          ]
         },
         "layout": {
          "autotypenumbers": "strict",
          "colorway": [
           "#636efa",
           "#EF553B",
           "#00cc96",
           "#ab63fa",
           "#FFA15A",
           "#19d3f3",
           "#FF6692",
           "#B6E880",
           "#FF97FF",
           "#FECB52"
          ],
          "font": {
           "color": "#f2f5fa"
          },
          "hovermode": "closest",
          "hoverlabel": {
           "align": "left"
          },
          "paper_bgcolor": "rgb(17,17,17)",
          "plot_bgcolor": "rgb(17,17,17)",
          "polar": {
           "bgcolor": "rgb(17,17,17)",
           "angularaxis": {
            "gridcolor": "#506784",
            "linecolor": "#506784",
            "ticks": ""
           },
           "radialaxis": {
            "gridcolor": "#506784",
            "linecolor": "#506784",
            "ticks": ""
           }
          },
          "ternary": {
           "bgcolor": "rgb(17,17,17)",
           "aaxis": {
            "gridcolor": "#506784",
            "linecolor": "#506784",
            "ticks": ""
           },
           "baxis": {
            "gridcolor": "#506784",
            "linecolor": "#506784",
            "ticks": ""
           },
           "caxis": {
            "gridcolor": "#506784",
            "linecolor": "#506784",
            "ticks": ""
           }
          },
          "coloraxis": {
           "colorbar": {
            "outlinewidth": 0,
            "ticks": ""
           }
          },
          "colorscale": {
           "sequential": [
            [
             0.0,
             "#0d0887"
            ],
            [
             0.1111111111111111,
             "#46039f"
            ],
            [
             0.2222222222222222,
             "#7201a8"
            ],
            [
             0.3333333333333333,
             "#9c179e"
            ],
            [
             0.4444444444444444,
             "#bd3786"
            ],
            [
             0.5555555555555556,
             "#d8576b"
            ],
            [
             0.6666666666666666,
             "#ed7953"
            ],
            [
             0.7777777777777778,
             "#fb9f3a"
            ],
            [
             0.8888888888888888,
             "#fdca26"
            ],
            [
             1.0,
             "#f0f921"
            ]
           ],
           "sequentialminus": [
            [
             0.0,
             "#0d0887"
            ],
            [
             0.1111111111111111,
             "#46039f"
            ],
            [
             0.2222222222222222,
             "#7201a8"
            ],
            [
             0.3333333333333333,
             "#9c179e"
            ],
            [
             0.4444444444444444,
             "#bd3786"
            ],
            [
             0.5555555555555556,
             "#d8576b"
            ],
            [
             0.6666666666666666,
             "#ed7953"
            ],
            [
             0.7777777777777778,
             "#fb9f3a"
            ],
            [
             0.8888888888888888,
             "#fdca26"
            ],
            [
             1.0,
             "#f0f921"
            ]
           ],
           "diverging": [
            [
             0,
             "#8e0152"
            ],
            [
             0.1,
             "#c51b7d"
            ],
            [
             0.2,
             "#de77ae"
            ],
            [
             0.3,
             "#f1b6da"
            ],
            [
             0.4,
             "#fde0ef"
            ],
            [
             0.5,
             "#f7f7f7"
            ],
            [
             0.6,
             "#e6f5d0"
            ],
            [
             0.7,
             "#b8e186"
            ],
            [
             0.8,
             "#7fbc41"
            ],
            [
             0.9,
             "#4d9221"
            ],
            [
             1,
             "#276419"
            ]
           ]
          },
          "xaxis": {
           "gridcolor": "#283442",
           "linecolor": "#506784",
           "ticks": "",
           "title": {
            "standoff": 15
           },
           "zerolinecolor": "#283442",
           "automargin": true,
           "zerolinewidth": 2
          },
          "yaxis": {
           "gridcolor": "#283442",
           "linecolor": "#506784",
           "ticks": "",
           "title": {
            "standoff": 15
           },
           "zerolinecolor": "#283442",
           "automargin": true,
           "zerolinewidth": 2
          },
          "scene": {
           "xaxis": {
            "backgroundcolor": "rgb(17,17,17)",
            "gridcolor": "#506784",
            "linecolor": "#506784",
            "showbackground": true,
            "ticks": "",
            "zerolinecolor": "#C8D4E3",
            "gridwidth": 2
           },
           "yaxis": {
            "backgroundcolor": "rgb(17,17,17)",
            "gridcolor": "#506784",
            "linecolor": "#506784",
            "showbackground": true,
            "ticks": "",
            "zerolinecolor": "#C8D4E3",
            "gridwidth": 2
           },
           "zaxis": {
            "backgroundcolor": "rgb(17,17,17)",
            "gridcolor": "#506784",
            "linecolor": "#506784",
            "showbackground": true,
            "ticks": "",
            "zerolinecolor": "#C8D4E3",
            "gridwidth": 2
           }
          },
          "shapedefaults": {
           "line": {
            "color": "#f2f5fa"
           }
          },
          "annotationdefaults": {
           "arrowcolor": "#f2f5fa",
           "arrowhead": 0,
           "arrowwidth": 1
          },
          "geo": {
           "bgcolor": "rgb(17,17,17)",
           "landcolor": "rgb(17,17,17)",
           "subunitcolor": "#506784",
           "showland": true,
           "showlakes": true,
           "lakecolor": "rgb(17,17,17)"
          },
          "title": {
           "x": 0.05
          },
          "updatemenudefaults": {
           "bgcolor": "#506784",
           "borderwidth": 0
          },
          "sliderdefaults": {
           "bgcolor": "#C8D4E3",
           "borderwidth": 1,
           "bordercolor": "rgb(17,17,17)",
           "tickwidth": 0
          },
          "mapbox": {
           "style": "dark"
          }
         }
        },
        "title": {
         "text": "границы куба и границы разломов, вид сверху"
        },
        "xaxis": {
         "title": {
          "text": "Инлайны"
         }
        },
        "yaxis": {
         "title": {
          "text": "Икслайны"
         }
        },
        "showlegend": true
       },
       "config": {
        "plotlyServerURL": "https://plot.ly"
       }
      },
      "text/html": "<div>                            <div id=\"02fd42aa-1e55-4b70-b8fa-349c090f50a7\" class=\"plotly-graph-div\" style=\"height:525px; width:100%;\"></div>            <script type=\"text/javascript\">                require([\"plotly\"], function(Plotly) {                    window.PLOTLYENV=window.PLOTLYENV || {};                                    if (document.getElementById(\"02fd42aa-1e55-4b70-b8fa-349c090f50a7\")) {                    Plotly.newPlot(                        \"02fd42aa-1e55-4b70-b8fa-349c090f50a7\",                        [{\"line\":{\"color\":\"blue\",\"width\":2},\"mode\":\"lines\",\"name\":\"\\u0413\\u0440\\u0430\\u043d\\u0438\\u0446\\u044b \\u041a\\u0443\\u0431\\u0430\",\"x\":[1001.0,1001.0,1612.0,1612.0,1001.0],\"y\":[5001.0,5622.0,5622.0,5001.0,5001.0],\"type\":\"scatter\"},{\"line\":{\"color\":\"red\",\"width\":1},\"mode\":\"lines\",\"name\":\"Graben10_E.txt\",\"x\":[1147.0,1167.0,1157.0,1187.0,1187.0,1177.0,1147.0,1177.0,1157.0,1167.0,1147.0],\"y\":[5208.0,5195.0,5201.0,5179.0,5192.0,5187.0,5223.0,5200.0,5216.0,5208.0,5208.0],\"type\":\"scatter\"},{\"line\":{\"color\":\"red\",\"width\":1},\"mode\":\"lines\",\"name\":\"Graben10_W.txt\",\"x\":[1157.0,1177.0,1197.0,1187.0,1167.0,1147.0,1207.0,1177.0,1187.0,1167.0,1147.0,1157.0,1197.0,1207.0,1157.0],\"y\":[5147.0,5146.0,5134.0,5128.0,5152.0,5168.0,5128.0,5135.0,5139.0,5141.0,5155.0,5160.0,5125.0,5120.0,5147.0],\"type\":\"scatter\"},{\"line\":{\"color\":\"red\",\"width\":1},\"mode\":\"lines\",\"name\":\"Graben11_E.txt\",\"x\":[1137.0,1117.0,1127.0,1107.0,1107.0,1127.0,1117.0,1137.0,1137.0],\"y\":[5212.0,5214.0,5209.0,5235.0,5222.0,5221.0,5227.0,5199.0,5212.0],\"type\":\"scatter\"},{\"line\":{\"color\":\"red\",\"width\":1},\"mode\":\"lines\",\"name\":\"Graben11_W.txt\",\"x\":[1087.0,1107.0,1097.0,1087.0,1137.0,1117.0,1097.0,1127.0,1107.0,1137.0,1127.0,1117.0,1087.0],\"y\":[5186.0,5168.0,5162.0,5172.0,5139.0,5164.0,5177.0,5144.0,5154.0,5151.0,5156.0,5150.0,5186.0],\"type\":\"scatter\"},{\"line\":{\"color\":\"red\",\"width\":1},\"mode\":\"lines\",\"name\":\"Graben12_E.txt\",\"x\":[1027.0,1067.0,1027.0,1047.0,1077.0,1067.0,1057.0,1057.0,1077.0,1037.0,1037.0,1047.0,1027.0],\"y\":[5249.0,5234.0,5264.0,5236.0,5209.0,5220.0,5225.0,5240.0,5224.0,5257.0,5241.0,5250.0,5249.0],\"type\":\"scatter\"},{\"line\":{\"color\":\"red\",\"width\":1},\"mode\":\"lines\",\"name\":\"Graben12_W.txt\",\"x\":[1067.0,1047.0,1037.0,1037.0,1077.0,1067.0,1057.0,1057.0,1047.0,1087.0,1087.0,1077.0,1067.0],\"y\":[5163.0,5162.0,5178.0,5168.0,5148.0,5153.0,5168.0,5157.0,5173.0,5154.0,5144.0,5159.0,5163.0],\"type\":\"scatter\"},{\"line\":{\"color\":\"red\",\"width\":1},\"mode\":\"lines\",\"name\":\"Graben13_E.txt\",\"x\":[1217.0,1227.0,1207.0,1207.0,1217.0,1237.0,1237.0,1227.0,1217.0],\"y\":[5272.0,5265.0,5279.0,5292.0,5286.0,5274.0,5258.0,5279.0,5272.0],\"type\":\"scatter\"},{\"line\":{\"color\":\"red\",\"width\":1},\"mode\":\"lines\",\"name\":\"Graben13_W.txt\",\"x\":[1217.0,1207.0,1197.0,1217.0,1197.0,1207.0,1187.0,1187.0,1217.0],\"y\":[5221.0,5213.0,5234.0,5207.0,5220.0,5228.0,5226.0,5239.0,5221.0],\"type\":\"scatter\"},{\"line\":{\"color\":\"red\",\"width\":1},\"mode\":\"lines\",\"name\":\"Graben14_E_half.txt\",\"x\":[1197.0,1207.0,1237.0,1217.0,1237.0,1197.0,1227.0,1217.0,1207.0,1227.0,1197.0],\"y\":[5195.0,5190.0,5188.0,5197.0,5175.0,5209.0,5180.0,5183.0,5204.0,5192.0,5195.0],\"type\":\"scatter\"},{\"line\":{\"color\":\"red\",\"width\":1},\"mode\":\"lines\",\"name\":\"Graben15_E_half.txt\",\"x\":[1217.0,1207.0,1197.0,1187.0,1217.0,1197.0,1207.0,1227.0,1227.0,1187.0,1217.0],\"y\":[5327.0,5319.0,5340.0,5330.0,5313.0,5326.0,5333.0,5321.0,5308.0,5344.0,5327.0],\"type\":\"scatter\"},{\"line\":{\"color\":\"red\",\"width\":1},\"mode\":\"lines\",\"name\":\"Graben16_E.txt\",\"x\":[1437.0,1457.0,1437.0,1477.0,1467.0,1447.0,1477.0,1497.0,1487.0,1487.0,1457.0,1447.0,1467.0,1497.0,1437.0],\"y\":[5596.0,5590.0,5589.0,5582.0,5586.0,5594.0,5568.0,5572.0,5577.0,5561.0,5578.0,5584.0,5572.0,5555.0,5596.0],\"type\":\"scatter\"},{\"line\":{\"color\":\"red\",\"width\":1},\"mode\":\"lines\",\"name\":\"Graben16_W.txt\",\"x\":[1457.0,1477.0,1437.0,1447.0,1477.0,1437.0,1457.0,1467.0,1447.0,1467.0,1457.0],\"y\":[5532.0,5525.0,5525.0,5535.0,5515.0,5537.0,5521.0,5528.0,5524.0,5518.0,5532.0],\"type\":\"scatter\"},{\"line\":{\"color\":\"red\",\"width\":1},\"mode\":\"lines\",\"name\":\"Graben17_W_half.txt\",\"x\":[1457.0,1407.0,1437.0,1457.0,1407.0,1447.0,1417.0,1447.0,1437.0,1427.0,1427.0,1417.0,1457.0],\"y\":[5555.0,5580.0,5550.0,5544.0,5566.0,5557.0,5573.0,5546.0,5561.0,5553.0,5565.0,5559.0,5555.0],\"type\":\"scatter\"},{\"line\":{\"color\":\"red\",\"width\":1},\"mode\":\"lines\",\"name\":\"Graben18_W_half.txt\",\"x\":[1457.0,1447.0,1467.0,1417.0,1417.0,1447.0,1437.0,1427.0,1407.0,1427.0,1407.0,1457.0,1437.0,1467.0,1457.0],\"y\":[5577.0,5571.0,5575.0,5584.0,5594.0,5580.0,5575.0,5580.0,5589.0,5589.0,5598.0,5569.0,5584.0,5566.0,5577.0],\"type\":\"scatter\"},{\"line\":{\"color\":\"red\",\"width\":1},\"mode\":\"lines\",\"name\":\"Graben19_E_half.txt\",\"x\":[1567.0,1557.0,1567.0,1577.0,1557.0,1577.0,1567.0],\"y\":[5074.0,5071.0,5064.0,5060.0,5080.0,5069.0,5074.0],\"type\":\"scatter\"},{\"line\":{\"color\":\"red\",\"width\":1},\"mode\":\"lines\",\"name\":\"Graben1_E.txt\",\"x\":[1257.0,1297.0,1307.0,1337.0,1327.0,1337.0,1242.0,1297.0,1287.0,1317.0,1277.0,1242.0,1307.0,1267.0,1267.0,1257.0,1287.0,1317.0,1277.0,1327.0,1257.0],\"y\":[5210.0,5209.0,5186.0,5168.0,5194.0,5186.0,5217.0,5193.0,5197.0,5180.0,5202.0,5232.0,5203.0,5206.0,5221.0,5226.0,5214.0,5197.0,5219.0,5177.0,5210.0],\"type\":\"scatter\"},{\"line\":{\"color\":\"red\",\"width\":1},\"mode\":\"lines\",\"name\":\"Graben1_W.txt\",\"x\":[1277.0,1307.0,1277.0,1267.0,1297.0,1287.0,1317.0,1257.0,1257.0,1247.0,1267.0,1247.0,1307.0,1317.0,1287.0,1297.0,1277.0],\"y\":[5137.0,5139.0,5152.0,5162.0,5129.0,5134.0,5123.0,5151.0,5167.0,5159.0,5145.0,5175.0,5125.0,5135.0,5148.0,5143.0,5137.0],\"type\":\"scatter\"},{\"line\":{\"color\":\"red\",\"width\":1},\"mode\":\"lines\",\"name\":\"Graben2_E.txt\",\"x\":[1497.0,1477.0,1467.0,1497.0,1507.0,1407.0,1437.0,1477.0,1437.0,1487.0,1457.0,1427.0,1447.0,1467.0,1427.0,1457.0,1407.0,1417.0,1487.0,1507.0,1447.0,1417.0,1497.0],\"y\":[5307.0,5332.0,5336.0,5322.0,5317.0,5352.0,5335.0,5319.0,5347.0,5314.0,5340.0,5338.0,5344.0,5322.0,5350.0,5327.0,5341.0,5339.0,5328.0,5303.0,5331.0,5351.0,5307.0],\"type\":\"scatter\"},{\"line\":{\"color\":\"red\",\"width\":1},\"mode\":\"lines\",\"name\":\"Graben2_W.txt\",\"x\":[1397.0,1457.0,1397.0,1447.0,1447.0,1437.0,1457.0,1427.0,1487.0,1467.0,1437.0,1417.0,1477.0,1427.0,1467.0,1477.0,1407.0,1487.0,1417.0,1407.0,1397.0],\"y\":[5293.0,5283.0,5308.0,5272.0,5284.0,5289.0,5270.0,5293.0,5259.0,5280.0,5276.0,5297.0,5263.0,5280.0,5267.0,5275.0,5286.0,5273.0,5284.0,5301.0,5293.0],\"type\":\"scatter\"},{\"line\":{\"color\":\"red\",\"width\":1},\"mode\":\"lines\",\"name\":\"Graben3_E.txt\",\"x\":[1157.0,1117.0,1157.0,1137.0,1097.0,1167.0,1107.0,1187.0,1187.0,1087.0,1177.0,1197.0,1117.0,1087.0,1197.0,1137.0,1147.0,1177.0,1147.0,1107.0,1127.0,1097.0,1127.0,1167.0,1157.0],\"y\":[5516.0,5550.0,5531.0,5528.0,5544.0,5511.0,5539.0,5498.0,5513.0,5548.0,5521.0,5493.0,5537.0,5560.0,5508.0,5542.0,5522.0,5505.0,5537.0,5553.0,5531.0,5557.0,5546.0,5527.0,5516.0],\"type\":\"scatter\"},{\"line\":{\"color\":\"red\",\"width\":1},\"mode\":\"lines\",\"name\":\"Graben3_W.txt\",\"x\":[1117.0,1157.0,1092.0,1167.0,1117.0,1147.0,1177.0,1097.0,1107.0,1177.0,1127.0,1127.0,1157.0,1107.0,1147.0,1182.0,1137.0,1097.0,1092.0,1137.0,1167.0,1182.0,1117.0],\"y\":[5480.0,5473.0,5496.0,5450.0,5498.0,5462.0,5445.0,5510.0,5487.0,5463.0,5474.0,5492.0,5456.0,5504.0,5479.0,5461.0,5468.0,5493.0,5512.0,5486.0,5469.0,5442.0,5480.0],\"type\":\"scatter\"},{\"line\":{\"color\":\"red\",\"width\":1},\"mode\":\"lines\",\"name\":\"Graben4_E.txt\",\"x\":[1237.0,1247.0,1277.0,1287.0,1267.0,1237.0,1257.0,1257.0,1307.0,1267.0,1287.0,1307.0,1247.0,1277.0,1297.0,1297.0,1237.0],\"y\":[5578.0,5574.0,5557.0,5555.0,5580.0,5593.0,5585.0,5569.0,5546.0,5563.0,5573.0,5565.0,5589.0,5575.0,5552.0,5571.0,5578.0],\"type\":\"scatter\"},{\"line\":{\"color\":\"red\",\"width\":1},\"mode\":\"lines\",\"name\":\"Graben4_W.txt\",\"x\":[1227.0,1227.0,1317.0,1247.0,1307.0,1337.0,1337.0,1327.0,1327.0,1237.0,1297.0,1237.0,1247.0,1297.0,1257.0,1307.0,1287.0,1317.0,1277.0,1267.0,1257.0,1267.0,1287.0,1277.0,1227.0],\"y\":[5538.0,5550.0,5495.0,5540.0,5512.0,5485.0,5497.0,5490.0,5502.0,5532.0,5501.0,5544.0,5527.0,5513.0,5535.0,5499.0,5520.0,5509.0,5525.0,5517.0,5522.0,5529.0,5507.0,5512.0,5538.0],\"type\":\"scatter\"},{\"line\":{\"color\":\"red\",\"width\":1},\"mode\":\"lines\",\"name\":\"Graben5_E.txt\",\"x\":[1527.0,1557.0,1517.0,1567.0,1557.0,1577.0,1577.0,1547.0,1527.0,1537.0,1567.0,1547.0,1537.0,1517.0,1527.0],\"y\":[5365.0,5352.0,5369.0,5361.0,5366.0,5344.0,5357.0,5370.0,5379.0,5375.0,5347.0,5357.0,5362.0,5383.0,5365.0],\"type\":\"scatter\"},{\"line\":{\"color\":\"red\",\"width\":1},\"mode\":\"lines\",\"name\":\"Graben5_W.txt\",\"x\":[1547.0,1497.0,1537.0,1517.0,1507.0,1557.0,1517.0,1567.0,1507.0,1577.0,1547.0,1497.0,1537.0,1567.0,1557.0,1527.0,1527.0,1577.0,1547.0],\"y\":[5308.0,5327.0,5313.0,5305.0,5326.0,5291.0,5322.0,5303.0,5309.0,5302.0,5293.0,5312.0,5298.0,5289.0,5305.0,5317.0,5301.0,5288.0,5308.0],\"type\":\"scatter\"},{\"line\":{\"color\":\"red\",\"width\":1},\"mode\":\"lines\",\"name\":\"Graben6_E.txt\",\"x\":[1497.0,1472.0,1517.0,1487.0,1497.0,1507.0,1477.0,1517.0,1472.0,1477.0,1527.0,1527.0,1507.0,1487.0,1497.0],\"y\":[5211.0,5233.0,5214.0,5227.0,5223.0,5219.0,5231.0,5201.0,5220.0,5218.0,5195.0,5208.0,5205.0,5214.0,5211.0],\"type\":\"scatter\"},{\"line\":{\"color\":\"red\",\"width\":1},\"mode\":\"lines\",\"name\":\"Graben6_W.txt\",\"x\":[1497.0,1527.0,1527.0,1507.0,1517.0,1507.0,1487.0,1517.0,1487.0,1497.0,1497.0],\"y\":[5169.0,5158.0,5151.0,5161.0,5155.0,5170.0,5185.0,5164.0,5175.0,5179.0,5169.0],\"type\":\"scatter\"},{\"line\":{\"color\":\"red\",\"width\":1},\"mode\":\"lines\",\"name\":\"Graben7_E.txt\",\"x\":[1487.0,1527.0,1557.0,1517.0,1497.0,1487.0,1507.0,1567.0,1537.0,1557.0,1477.0,1537.0,1547.0,1527.0,1577.0,1477.0,1507.0,1547.0,1577.0,1497.0,1567.0,1517.0,1487.0],\"y\":[5239.0,5229.0,5236.0,5233.0,5258.0,5260.0,5235.0,5231.0,5245.0,5217.0,5261.0,5226.0,5218.0,5249.0,5207.0,5242.0,5255.0,5239.0,5228.0,5238.0,5211.0,5252.0,5239.0],\"type\":\"scatter\"},{\"line\":{\"color\":\"red\",\"width\":1},\"mode\":\"lines\",\"name\":\"Graben7_W.txt\",\"x\":[1557.0,1557.0,1577.0,1567.0,1587.0,1587.0,1577.0,1567.0,1557.0],\"y\":[5185.0,5198.0,5175.0,5191.0,5171.0,5182.0,5187.0,5179.0,5185.0],\"type\":\"scatter\"},{\"line\":{\"color\":\"red\",\"width\":1},\"mode\":\"lines\",\"name\":\"Graben8_W_half.txt\",\"x\":[1407.0,1457.0,1447.0,1407.0,1437.0,1427.0,1437.0,1467.0,1477.0,1457.0,1397.0,1467.0,1477.0,1417.0,1447.0,1417.0,1397.0,1427.0,1407.0],\"y\":[5159.0,5144.0,5149.0,5171.0,5154.0,5149.0,5144.0,5130.0,5125.0,5135.0,5164.0,5139.0,5134.0,5155.0,5138.0,5167.0,5176.0,5160.0,5159.0],\"type\":\"scatter\"},{\"line\":{\"color\":\"red\",\"width\":1},\"mode\":\"lines\",\"name\":\"Graben9_W_half.txt\",\"x\":[1347.0,1357.0,1367.0,1342.0,1387.0,1367.0,1342.0,1387.0,1357.0,1347.0,1377.0,1377.0,1347.0],\"y\":[5156.0,5165.0,5159.0,5171.0,5147.0,5146.0,5158.0,5136.0,5151.0,5169.0,5154.0,5141.0,5156.0],\"type\":\"scatter\"}],                        {\"template\":{\"data\":{\"histogram2dcontour\":[{\"type\":\"histogram2dcontour\",\"colorbar\":{\"outlinewidth\":0,\"ticks\":\"\"},\"colorscale\":[[0.0,\"#0d0887\"],[0.1111111111111111,\"#46039f\"],[0.2222222222222222,\"#7201a8\"],[0.3333333333333333,\"#9c179e\"],[0.4444444444444444,\"#bd3786\"],[0.5555555555555556,\"#d8576b\"],[0.6666666666666666,\"#ed7953\"],[0.7777777777777778,\"#fb9f3a\"],[0.8888888888888888,\"#fdca26\"],[1.0,\"#f0f921\"]]}],\"choropleth\":[{\"type\":\"choropleth\",\"colorbar\":{\"outlinewidth\":0,\"ticks\":\"\"}}],\"histogram2d\":[{\"type\":\"histogram2d\",\"colorbar\":{\"outlinewidth\":0,\"ticks\":\"\"},\"colorscale\":[[0.0,\"#0d0887\"],[0.1111111111111111,\"#46039f\"],[0.2222222222222222,\"#7201a8\"],[0.3333333333333333,\"#9c179e\"],[0.4444444444444444,\"#bd3786\"],[0.5555555555555556,\"#d8576b\"],[0.6666666666666666,\"#ed7953\"],[0.7777777777777778,\"#fb9f3a\"],[0.8888888888888888,\"#fdca26\"],[1.0,\"#f0f921\"]]}],\"heatmap\":[{\"type\":\"heatmap\",\"colorbar\":{\"outlinewidth\":0,\"ticks\":\"\"},\"colorscale\":[[0.0,\"#0d0887\"],[0.1111111111111111,\"#46039f\"],[0.2222222222222222,\"#7201a8\"],[0.3333333333333333,\"#9c179e\"],[0.4444444444444444,\"#bd3786\"],[0.5555555555555556,\"#d8576b\"],[0.6666666666666666,\"#ed7953\"],[0.7777777777777778,\"#fb9f3a\"],[0.8888888888888888,\"#fdca26\"],[1.0,\"#f0f921\"]]}],\"heatmapgl\":[{\"type\":\"heatmapgl\",\"colorbar\":{\"outlinewidth\":0,\"ticks\":\"\"},\"colorscale\":[[0.0,\"#0d0887\"],[0.1111111111111111,\"#46039f\"],[0.2222222222222222,\"#7201a8\"],[0.3333333333333333,\"#9c179e\"],[0.4444444444444444,\"#bd3786\"],[0.5555555555555556,\"#d8576b\"],[0.6666666666666666,\"#ed7953\"],[0.7777777777777778,\"#fb9f3a\"],[0.8888888888888888,\"#fdca26\"],[1.0,\"#f0f921\"]]}],\"contourcarpet\":[{\"type\":\"contourcarpet\",\"colorbar\":{\"outlinewidth\":0,\"ticks\":\"\"}}],\"contour\":[{\"type\":\"contour\",\"colorbar\":{\"outlinewidth\":0,\"ticks\":\"\"},\"colorscale\":[[0.0,\"#0d0887\"],[0.1111111111111111,\"#46039f\"],[0.2222222222222222,\"#7201a8\"],[0.3333333333333333,\"#9c179e\"],[0.4444444444444444,\"#bd3786\"],[0.5555555555555556,\"#d8576b\"],[0.6666666666666666,\"#ed7953\"],[0.7777777777777778,\"#fb9f3a\"],[0.8888888888888888,\"#fdca26\"],[1.0,\"#f0f921\"]]}],\"surface\":[{\"type\":\"surface\",\"colorbar\":{\"outlinewidth\":0,\"ticks\":\"\"},\"colorscale\":[[0.0,\"#0d0887\"],[0.1111111111111111,\"#46039f\"],[0.2222222222222222,\"#7201a8\"],[0.3333333333333333,\"#9c179e\"],[0.4444444444444444,\"#bd3786\"],[0.5555555555555556,\"#d8576b\"],[0.6666666666666666,\"#ed7953\"],[0.7777777777777778,\"#fb9f3a\"],[0.8888888888888888,\"#fdca26\"],[1.0,\"#f0f921\"]]}],\"mesh3d\":[{\"type\":\"mesh3d\",\"colorbar\":{\"outlinewidth\":0,\"ticks\":\"\"}}],\"scatter\":[{\"marker\":{\"line\":{\"color\":\"#283442\"}},\"type\":\"scatter\"}],\"parcoords\":[{\"type\":\"parcoords\",\"line\":{\"colorbar\":{\"outlinewidth\":0,\"ticks\":\"\"}}}],\"scatterpolargl\":[{\"type\":\"scatterpolargl\",\"marker\":{\"colorbar\":{\"outlinewidth\":0,\"ticks\":\"\"}}}],\"bar\":[{\"error_x\":{\"color\":\"#f2f5fa\"},\"error_y\":{\"color\":\"#f2f5fa\"},\"marker\":{\"line\":{\"color\":\"rgb(17,17,17)\",\"width\":0.5},\"pattern\":{\"fillmode\":\"overlay\",\"size\":10,\"solidity\":0.2}},\"type\":\"bar\"}],\"scattergeo\":[{\"type\":\"scattergeo\",\"marker\":{\"colorbar\":{\"outlinewidth\":0,\"ticks\":\"\"}}}],\"scatterpolar\":[{\"type\":\"scatterpolar\",\"marker\":{\"colorbar\":{\"outlinewidth\":0,\"ticks\":\"\"}}}],\"histogram\":[{\"marker\":{\"pattern\":{\"fillmode\":\"overlay\",\"size\":10,\"solidity\":0.2}},\"type\":\"histogram\"}],\"scattergl\":[{\"marker\":{\"line\":{\"color\":\"#283442\"}},\"type\":\"scattergl\"}],\"scatter3d\":[{\"type\":\"scatter3d\",\"line\":{\"colorbar\":{\"outlinewidth\":0,\"ticks\":\"\"}},\"marker\":{\"colorbar\":{\"outlinewidth\":0,\"ticks\":\"\"}}}],\"scattermapbox\":[{\"type\":\"scattermapbox\",\"marker\":{\"colorbar\":{\"outlinewidth\":0,\"ticks\":\"\"}}}],\"scatterternary\":[{\"type\":\"scatterternary\",\"marker\":{\"colorbar\":{\"outlinewidth\":0,\"ticks\":\"\"}}}],\"scattercarpet\":[{\"type\":\"scattercarpet\",\"marker\":{\"colorbar\":{\"outlinewidth\":0,\"ticks\":\"\"}}}],\"carpet\":[{\"aaxis\":{\"endlinecolor\":\"#A2B1C6\",\"gridcolor\":\"#506784\",\"linecolor\":\"#506784\",\"minorgridcolor\":\"#506784\",\"startlinecolor\":\"#A2B1C6\"},\"baxis\":{\"endlinecolor\":\"#A2B1C6\",\"gridcolor\":\"#506784\",\"linecolor\":\"#506784\",\"minorgridcolor\":\"#506784\",\"startlinecolor\":\"#A2B1C6\"},\"type\":\"carpet\"}],\"table\":[{\"cells\":{\"fill\":{\"color\":\"#506784\"},\"line\":{\"color\":\"rgb(17,17,17)\"}},\"header\":{\"fill\":{\"color\":\"#2a3f5f\"},\"line\":{\"color\":\"rgb(17,17,17)\"}},\"type\":\"table\"}],\"barpolar\":[{\"marker\":{\"line\":{\"color\":\"rgb(17,17,17)\",\"width\":0.5},\"pattern\":{\"fillmode\":\"overlay\",\"size\":10,\"solidity\":0.2}},\"type\":\"barpolar\"}],\"pie\":[{\"automargin\":true,\"type\":\"pie\"}]},\"layout\":{\"autotypenumbers\":\"strict\",\"colorway\":[\"#636efa\",\"#EF553B\",\"#00cc96\",\"#ab63fa\",\"#FFA15A\",\"#19d3f3\",\"#FF6692\",\"#B6E880\",\"#FF97FF\",\"#FECB52\"],\"font\":{\"color\":\"#f2f5fa\"},\"hovermode\":\"closest\",\"hoverlabel\":{\"align\":\"left\"},\"paper_bgcolor\":\"rgb(17,17,17)\",\"plot_bgcolor\":\"rgb(17,17,17)\",\"polar\":{\"bgcolor\":\"rgb(17,17,17)\",\"angularaxis\":{\"gridcolor\":\"#506784\",\"linecolor\":\"#506784\",\"ticks\":\"\"},\"radialaxis\":{\"gridcolor\":\"#506784\",\"linecolor\":\"#506784\",\"ticks\":\"\"}},\"ternary\":{\"bgcolor\":\"rgb(17,17,17)\",\"aaxis\":{\"gridcolor\":\"#506784\",\"linecolor\":\"#506784\",\"ticks\":\"\"},\"baxis\":{\"gridcolor\":\"#506784\",\"linecolor\":\"#506784\",\"ticks\":\"\"},\"caxis\":{\"gridcolor\":\"#506784\",\"linecolor\":\"#506784\",\"ticks\":\"\"}},\"coloraxis\":{\"colorbar\":{\"outlinewidth\":0,\"ticks\":\"\"}},\"colorscale\":{\"sequential\":[[0.0,\"#0d0887\"],[0.1111111111111111,\"#46039f\"],[0.2222222222222222,\"#7201a8\"],[0.3333333333333333,\"#9c179e\"],[0.4444444444444444,\"#bd3786\"],[0.5555555555555556,\"#d8576b\"],[0.6666666666666666,\"#ed7953\"],[0.7777777777777778,\"#fb9f3a\"],[0.8888888888888888,\"#fdca26\"],[1.0,\"#f0f921\"]],\"sequentialminus\":[[0.0,\"#0d0887\"],[0.1111111111111111,\"#46039f\"],[0.2222222222222222,\"#7201a8\"],[0.3333333333333333,\"#9c179e\"],[0.4444444444444444,\"#bd3786\"],[0.5555555555555556,\"#d8576b\"],[0.6666666666666666,\"#ed7953\"],[0.7777777777777778,\"#fb9f3a\"],[0.8888888888888888,\"#fdca26\"],[1.0,\"#f0f921\"]],\"diverging\":[[0,\"#8e0152\"],[0.1,\"#c51b7d\"],[0.2,\"#de77ae\"],[0.3,\"#f1b6da\"],[0.4,\"#fde0ef\"],[0.5,\"#f7f7f7\"],[0.6,\"#e6f5d0\"],[0.7,\"#b8e186\"],[0.8,\"#7fbc41\"],[0.9,\"#4d9221\"],[1,\"#276419\"]]},\"xaxis\":{\"gridcolor\":\"#283442\",\"linecolor\":\"#506784\",\"ticks\":\"\",\"title\":{\"standoff\":15},\"zerolinecolor\":\"#283442\",\"automargin\":true,\"zerolinewidth\":2},\"yaxis\":{\"gridcolor\":\"#283442\",\"linecolor\":\"#506784\",\"ticks\":\"\",\"title\":{\"standoff\":15},\"zerolinecolor\":\"#283442\",\"automargin\":true,\"zerolinewidth\":2},\"scene\":{\"xaxis\":{\"backgroundcolor\":\"rgb(17,17,17)\",\"gridcolor\":\"#506784\",\"linecolor\":\"#506784\",\"showbackground\":true,\"ticks\":\"\",\"zerolinecolor\":\"#C8D4E3\",\"gridwidth\":2},\"yaxis\":{\"backgroundcolor\":\"rgb(17,17,17)\",\"gridcolor\":\"#506784\",\"linecolor\":\"#506784\",\"showbackground\":true,\"ticks\":\"\",\"zerolinecolor\":\"#C8D4E3\",\"gridwidth\":2},\"zaxis\":{\"backgroundcolor\":\"rgb(17,17,17)\",\"gridcolor\":\"#506784\",\"linecolor\":\"#506784\",\"showbackground\":true,\"ticks\":\"\",\"zerolinecolor\":\"#C8D4E3\",\"gridwidth\":2}},\"shapedefaults\":{\"line\":{\"color\":\"#f2f5fa\"}},\"annotationdefaults\":{\"arrowcolor\":\"#f2f5fa\",\"arrowhead\":0,\"arrowwidth\":1},\"geo\":{\"bgcolor\":\"rgb(17,17,17)\",\"landcolor\":\"rgb(17,17,17)\",\"subunitcolor\":\"#506784\",\"showland\":true,\"showlakes\":true,\"lakecolor\":\"rgb(17,17,17)\"},\"title\":{\"x\":0.05},\"updatemenudefaults\":{\"bgcolor\":\"#506784\",\"borderwidth\":0},\"sliderdefaults\":{\"bgcolor\":\"#C8D4E3\",\"borderwidth\":1,\"bordercolor\":\"rgb(17,17,17)\",\"tickwidth\":0},\"mapbox\":{\"style\":\"dark\"}}},\"title\":{\"text\":\"\\u0433\\u0440\\u0430\\u043d\\u0438\\u0446\\u044b \\u043a\\u0443\\u0431\\u0430 \\u0438 \\u0433\\u0440\\u0430\\u043d\\u0438\\u0446\\u044b \\u0440\\u0430\\u0437\\u043b\\u043e\\u043c\\u043e\\u0432, \\u0432\\u0438\\u0434 \\u0441\\u0432\\u0435\\u0440\\u0445\\u0443\"},\"xaxis\":{\"title\":{\"text\":\"\\u0418\\u043d\\u043b\\u0430\\u0439\\u043d\\u044b\"}},\"yaxis\":{\"title\":{\"text\":\"\\u0418\\u043a\\u0441\\u043b\\u0430\\u0439\\u043d\\u044b\"}},\"showlegend\":true},                        {\"responsive\": true}                    ).then(function(){\n                            \nvar gd = document.getElementById('02fd42aa-1e55-4b70-b8fa-349c090f50a7');\nvar x = new MutationObserver(function (mutations, observer) {{\n        var display = window.getComputedStyle(gd).display;\n        if (!display || display === 'none') {{\n            console.log([gd, 'removed!']);\n            Plotly.purge(gd);\n            observer.disconnect();\n        }}\n}});\n\n// Listen for the removal of the full notebook cells\nvar notebookContainer = gd.closest('#notebook-container');\nif (notebookContainer) {{\n    x.observe(notebookContainer, {childList: true});\n}}\n\n// Listen for the clearing of the current output cell\nvar outputEl = gd.closest('.output');\nif (outputEl) {{\n    x.observe(outputEl, {childList: true});\n}}\n\n                        })                };                });            </script>        </div>"
     },
     "metadata": {},
     "output_type": "display_data"
    }
   ],
   "source": [
    "plot_verh(poligon_cub_verh, polygons_xy, 0)"
   ],
   "metadata": {
    "collapsed": false,
    "ExecuteTime": {
     "end_time": "2024-12-13T07:58:10.047772Z",
     "start_time": "2024-12-13T07:58:09.989793600Z"
    }
   },
   "id": "eaaae0f91b702855",
   "execution_count": 127
  },
  {
   "cell_type": "code",
   "outputs": [
    {
     "name": "stdout",
     "output_type": "stream",
     "text": [
      "Процент перекрытия всех разломов от куба: 100.00%\n"
     ]
    },
    {
     "data": {
      "application/vnd.plotly.v1+json": {
       "data": [
        {
         "line": {
          "color": "blue",
          "width": 2
         },
         "mode": "lines",
         "name": "Границы Куба",
         "x": [
          1001.0,
          1001.0,
          1612.0,
          1612.0,
          1001.0
         ],
         "y": [
          -2386.0,
          -2142.0,
          -2142.0,
          -2386.0,
          -2386.0
         ],
         "type": "scatter"
        },
        {
         "line": {
          "color": "red",
          "width": 1
         },
         "mode": "lines",
         "name": "Graben10_E.txt",
         "x": [
          1177.0,
          1167.0,
          1177.0,
          1167.0,
          1157.0,
          1147.0,
          1157.0,
          1147.0,
          1187.0,
          1187.0,
          1177.0
         ],
         "y": [
          -2386.0,
          -2386.0,
          -2142.0,
          -2142.0,
          -2386.0,
          -2386.0,
          -2142.0,
          -2142.0,
          -2386.0,
          -2142.0,
          -2386.0
         ],
         "type": "scatter"
        },
        {
         "line": {
          "color": "red",
          "width": 1
         },
         "mode": "lines",
         "name": "Graben10_W.txt",
         "x": [
          1207.0,
          1207.0,
          1177.0,
          1167.0,
          1177.0,
          1157.0,
          1167.0,
          1147.0,
          1157.0,
          1197.0,
          1147.0,
          1187.0,
          1197.0,
          1187.0,
          1207.0
         ],
         "y": [
          -2386.0,
          -2142.0,
          -2386.0,
          -2386.0,
          -2142.0,
          -2386.0,
          -2142.0,
          -2386.0,
          -2142.0,
          -2386.0,
          -2142.0,
          -2386.0,
          -2142.0,
          -2142.0,
          -2386.0
         ],
         "type": "scatter"
        },
        {
         "line": {
          "color": "red",
          "width": 1
         },
         "mode": "lines",
         "name": "Graben11_E.txt",
         "x": [
          1127.0,
          1117.0,
          1127.0,
          1107.0,
          1117.0,
          1137.0,
          1107.0,
          1137.0,
          1127.0
         ],
         "y": [
          -2386.0,
          -2386.0,
          -2142.0,
          -2386.0,
          -2142.0,
          -2386.0,
          -2142.0,
          -2142.0,
          -2386.0
         ],
         "type": "scatter"
        },
        {
         "line": {
          "color": "red",
          "width": 1
         },
         "mode": "lines",
         "name": "Graben11_W.txt",
         "x": [
          1127.0,
          1117.0,
          1127.0,
          1117.0,
          1137.0,
          1107.0,
          1137.0,
          1107.0,
          1097.0,
          1097.0,
          1087.0,
          1087.0,
          1127.0
         ],
         "y": [
          -2386.0,
          -2386.0,
          -2142.0,
          -2142.0,
          -2386.0,
          -2386.0,
          -2142.0,
          -2142.0,
          -2142.0,
          -2386.0,
          -2142.0,
          -2386.0,
          -2386.0
         ],
         "type": "scatter"
        },
        {
         "line": {
          "color": "red",
          "width": 1
         },
         "mode": "lines",
         "name": "Graben12_E.txt",
         "x": [
          1027.0,
          1027.0,
          1077.0,
          1077.0,
          1057.0,
          1047.0,
          1057.0,
          1037.0,
          1047.0,
          1037.0,
          1067.0,
          1067.0,
          1027.0
         ],
         "y": [
          -2386.0,
          -2142.0,
          -2386.0,
          -2142.0,
          -2386.0,
          -2386.0,
          -2142.0,
          -2386.0,
          -2142.0,
          -2142.0,
          -2386.0,
          -2142.0,
          -2386.0
         ],
         "type": "scatter"
        },
        {
         "line": {
          "color": "red",
          "width": 1
         },
         "mode": "lines",
         "name": "Graben12_W.txt",
         "x": [
          1077.0,
          1077.0,
          1057.0,
          1047.0,
          1057.0,
          1037.0,
          1047.0,
          1087.0,
          1087.0,
          1067.0,
          1037.0,
          1067.0,
          1077.0
         ],
         "y": [
          -2386.0,
          -2142.0,
          -2386.0,
          -2386.0,
          -2142.0,
          -2386.0,
          -2142.0,
          -2386.0,
          -2142.0,
          -2386.0,
          -2142.0,
          -2142.0,
          -2386.0
         ],
         "type": "scatter"
        },
        {
         "line": {
          "color": "red",
          "width": 1
         },
         "mode": "lines",
         "name": "Graben13_E.txt",
         "x": [
          1207.0,
          1207.0,
          1227.0,
          1217.0,
          1227.0,
          1217.0,
          1237.0,
          1237.0,
          1207.0
         ],
         "y": [
          -2386.0,
          -2142.0,
          -2386.0,
          -2386.0,
          -2142.0,
          -2142.0,
          -2386.0,
          -2142.0,
          -2386.0
         ],
         "type": "scatter"
        },
        {
         "line": {
          "color": "red",
          "width": 1
         },
         "mode": "lines",
         "name": "Graben13_W.txt",
         "x": [
          1207.0,
          1207.0,
          1217.0,
          1217.0,
          1197.0,
          1187.0,
          1197.0,
          1187.0,
          1207.0
         ],
         "y": [
          -2386.0,
          -2142.0,
          -2386.0,
          -2142.0,
          -2386.0,
          -2386.0,
          -2142.0,
          -2142.0,
          -2386.0
         ],
         "type": "scatter"
        },
        {
         "line": {
          "color": "red",
          "width": 1
         },
         "mode": "lines",
         "name": "Graben14_E_half.txt",
         "x": [
          1207.0,
          1207.0,
          1227.0,
          1217.0,
          1227.0,
          1217.0,
          1197.0,
          1197.0,
          1237.0,
          1237.0,
          1207.0
         ],
         "y": [
          -2386.0,
          -2142.0,
          -2386.0,
          -2386.0,
          -2142.0,
          -2142.0,
          -2386.0,
          -2142.0,
          -2386.0,
          -2142.0,
          -2386.0
         ],
         "type": "scatter"
        },
        {
         "line": {
          "color": "red",
          "width": 1
         },
         "mode": "lines",
         "name": "Graben15_E_half.txt",
         "x": [
          1207.0,
          1207.0,
          1227.0,
          1217.0,
          1227.0,
          1217.0,
          1197.0,
          1187.0,
          1197.0,
          1187.0,
          1207.0
         ],
         "y": [
          -2386.0,
          -2142.0,
          -2386.0,
          -2386.0,
          -2142.0,
          -2142.0,
          -2386.0,
          -2386.0,
          -2142.0,
          -2142.0,
          -2386.0
         ],
         "type": "scatter"
        },
        {
         "line": {
          "color": "red",
          "width": 1
         },
         "mode": "lines",
         "name": "Graben16_E.txt",
         "x": [
          1487.0,
          1477.0,
          1487.0,
          1437.0,
          1477.0,
          1457.0,
          1437.0,
          1447.0,
          1457.0,
          1497.0,
          1447.0,
          1497.0,
          1467.0,
          1467.0,
          1487.0
         ],
         "y": [
          -2386.0,
          -2386.0,
          -2142.0,
          -2386.0,
          -2142.0,
          -2386.0,
          -2142.0,
          -2386.0,
          -2142.0,
          -2386.0,
          -2142.0,
          -2142.0,
          -2386.0,
          -2142.0,
          -2386.0
         ],
         "type": "scatter"
        },
        {
         "line": {
          "color": "red",
          "width": 1
         },
         "mode": "lines",
         "name": "Graben16_W.txt",
         "x": [
          1477.0,
          1437.0,
          1477.0,
          1457.0,
          1437.0,
          1447.0,
          1457.0,
          1447.0,
          1467.0,
          1467.0,
          1477.0
         ],
         "y": [
          -2386.0,
          -2386.0,
          -2142.0,
          -2386.0,
          -2142.0,
          -2386.0,
          -2142.0,
          -2142.0,
          -2386.0,
          -2142.0,
          -2386.0
         ],
         "type": "scatter"
        },
        {
         "line": {
          "color": "red",
          "width": 1
         },
         "mode": "lines",
         "name": "Graben17_W_half.txt",
         "x": [
          1437.0,
          1437.0,
          1457.0,
          1447.0,
          1457.0,
          1407.0,
          1447.0,
          1427.0,
          1407.0,
          1417.0,
          1427.0,
          1417.0,
          1437.0
         ],
         "y": [
          -2386.0,
          -2142.0,
          -2386.0,
          -2386.0,
          -2142.0,
          -2386.0,
          -2142.0,
          -2386.0,
          -2142.0,
          -2386.0,
          -2142.0,
          -2142.0,
          -2386.0
         ],
         "type": "scatter"
        },
        {
         "line": {
          "color": "red",
          "width": 1
         },
         "mode": "lines",
         "name": "Graben18_W_half.txt",
         "x": [
          1417.0,
          1437.0,
          1437.0,
          1457.0,
          1447.0,
          1457.0,
          1407.0,
          1447.0,
          1427.0,
          1407.0,
          1417.0,
          1427.0,
          1467.0,
          1467.0,
          1417.0
         ],
         "y": [
          -2142.0,
          -2386.0,
          -2142.0,
          -2386.0,
          -2386.0,
          -2142.0,
          -2386.0,
          -2142.0,
          -2386.0,
          -2142.0,
          -2386.0,
          -2142.0,
          -2386.0,
          -2142.0,
          -2142.0
         ],
         "type": "scatter"
        },
        {
         "line": {
          "color": "red",
          "width": 1
         },
         "mode": "lines",
         "name": "Graben19_E_half.txt",
         "x": [
          1577.0,
          1567.0,
          1577.0,
          1557.0,
          1567.0,
          1557.0,
          1577.0
         ],
         "y": [
          -2386.0,
          -2386.0,
          -2142.0,
          -2386.0,
          -2142.0,
          -2142.0,
          -2386.0
         ],
         "type": "scatter"
        },
        {
         "line": {
          "color": "red",
          "width": 1
         },
         "mode": "lines",
         "name": "Graben1_E.txt",
         "x": [
          1307.0,
          1307.0,
          1267.0,
          1267.0,
          1337.0,
          1337.0,
          1317.0,
          1317.0,
          1242.0,
          1242.0,
          1297.0,
          1297.0,
          1277.0,
          1277.0,
          1257.0,
          1257.0,
          1327.0,
          1327.0,
          1287.0,
          1287.0,
          1307.0
         ],
         "y": [
          -2386.0,
          -2142.0,
          -2386.0,
          -2142.0,
          -2386.0,
          -2142.0,
          -2386.0,
          -2142.0,
          -2386.0,
          -2142.0,
          -2386.0,
          -2142.0,
          -2386.0,
          -2142.0,
          -2386.0,
          -2142.0,
          -2386.0,
          -2142.0,
          -2386.0,
          -2142.0,
          -2386.0
         ],
         "type": "scatter"
        },
        {
         "line": {
          "color": "red",
          "width": 1
         },
         "mode": "lines",
         "name": "Graben1_W.txt",
         "x": [
          1257.0,
          1307.0,
          1257.0,
          1297.0,
          1307.0,
          1297.0,
          1277.0,
          1267.0,
          1277.0,
          1317.0,
          1267.0,
          1247.0,
          1317.0,
          1247.0,
          1287.0,
          1287.0,
          1257.0
         ],
         "y": [
          -2386.0,
          -2386.0,
          -2142.0,
          -2386.0,
          -2142.0,
          -2142.0,
          -2386.0,
          -2386.0,
          -2142.0,
          -2386.0,
          -2142.0,
          -2386.0,
          -2142.0,
          -2142.0,
          -2386.0,
          -2142.0,
          -2386.0
         ],
         "type": "scatter"
        },
        {
         "line": {
          "color": "red",
          "width": 1
         },
         "mode": "lines",
         "name": "Graben2_E.txt",
         "x": [
          1437.0,
          1437.0,
          1507.0,
          1507.0,
          1467.0,
          1467.0,
          1487.0,
          1487.0,
          1447.0,
          1447.0,
          1427.0,
          1427.0,
          1407.0,
          1497.0,
          1407.0,
          1497.0,
          1477.0,
          1477.0,
          1457.0,
          1457.0,
          1417.0,
          1417.0,
          1437.0
         ],
         "y": [
          -2386.0,
          -2142.0,
          -2386.0,
          -2142.0,
          -2386.0,
          -2142.0,
          -2386.0,
          -2142.0,
          -2386.0,
          -2142.0,
          -2386.0,
          -2142.0,
          -2386.0,
          -2386.0,
          -2142.0,
          -2142.0,
          -2386.0,
          -2142.0,
          -2386.0,
          -2142.0,
          -2386.0,
          -2142.0,
          -2386.0
         ],
         "type": "scatter"
        },
        {
         "line": {
          "color": "red",
          "width": 1
         },
         "mode": "lines",
         "name": "Graben2_W.txt",
         "x": [
          1437.0,
          1437.0,
          1397.0,
          1397.0,
          1467.0,
          1467.0,
          1487.0,
          1487.0,
          1447.0,
          1447.0,
          1427.0,
          1427.0,
          1407.0,
          1407.0,
          1477.0,
          1477.0,
          1457.0,
          1457.0,
          1417.0,
          1417.0,
          1437.0
         ],
         "y": [
          -2386.0,
          -2142.0,
          -2386.0,
          -2142.0,
          -2386.0,
          -2142.0,
          -2386.0,
          -2142.0,
          -2386.0,
          -2142.0,
          -2386.0,
          -2142.0,
          -2386.0,
          -2142.0,
          -2386.0,
          -2142.0,
          -2386.0,
          -2142.0,
          -2386.0,
          -2142.0,
          -2386.0
         ],
         "type": "scatter"
        },
        {
         "line": {
          "color": "red",
          "width": 1
         },
         "mode": "lines",
         "name": "Graben3_E.txt",
         "x": [
          1177.0,
          1177.0,
          1157.0,
          1157.0,
          1137.0,
          1137.0,
          1117.0,
          1117.0,
          1097.0,
          1187.0,
          1097.0,
          1187.0,
          1167.0,
          1167.0,
          1147.0,
          1147.0,
          1197.0,
          1127.0,
          1127.0,
          1107.0,
          1197.0,
          1107.0,
          1087.0,
          1087.0,
          1177.0
         ],
         "y": [
          -2386.0,
          -2142.0,
          -2386.0,
          -2142.0,
          -2386.0,
          -2142.0,
          -2386.0,
          -2142.0,
          -2386.0,
          -2386.0,
          -2142.0,
          -2142.0,
          -2386.0,
          -2142.0,
          -2386.0,
          -2142.0,
          -2142.0,
          -2386.0,
          -2142.0,
          -2386.0,
          -2386.0,
          -2142.0,
          -2386.0,
          -2142.0,
          -2386.0
         ],
         "type": "scatter"
        },
        {
         "line": {
          "color": "red",
          "width": 1
         },
         "mode": "lines",
         "name": "Graben3_W.txt",
         "x": [
          1177.0,
          1177.0,
          1157.0,
          1157.0,
          1137.0,
          1137.0,
          1117.0,
          1117.0,
          1097.0,
          1097.0,
          1167.0,
          1167.0,
          1147.0,
          1147.0,
          1092.0,
          1092.0,
          1182.0,
          1182.0,
          1127.0,
          1127.0,
          1107.0,
          1107.0,
          1177.0
         ],
         "y": [
          -2386.0,
          -2142.0,
          -2386.0,
          -2142.0,
          -2386.0,
          -2142.0,
          -2386.0,
          -2142.0,
          -2386.0,
          -2142.0,
          -2386.0,
          -2142.0,
          -2386.0,
          -2142.0,
          -2386.0,
          -2142.0,
          -2386.0,
          -2142.0,
          -2386.0,
          -2142.0,
          -2386.0,
          -2142.0,
          -2386.0
         ],
         "type": "scatter"
        },
        {
         "line": {
          "color": "red",
          "width": 1
         },
         "mode": "lines",
         "name": "Graben4_E.txt",
         "x": [
          1257.0,
          1237.0,
          1307.0,
          1257.0,
          1297.0,
          1307.0,
          1297.0,
          1277.0,
          1267.0,
          1277.0,
          1267.0,
          1247.0,
          1237.0,
          1247.0,
          1287.0,
          1287.0,
          1257.0
         ],
         "y": [
          -2386.0,
          -2142.0,
          -2386.0,
          -2142.0,
          -2386.0,
          -2142.0,
          -2142.0,
          -2386.0,
          -2386.0,
          -2142.0,
          -2142.0,
          -2386.0,
          -2386.0,
          -2142.0,
          -2386.0,
          -2142.0,
          -2386.0
         ],
         "type": "scatter"
        },
        {
         "line": {
          "color": "red",
          "width": 1
         },
         "mode": "lines",
         "name": "Graben4_W.txt",
         "x": [
          1307.0,
          1307.0,
          1267.0,
          1267.0,
          1247.0,
          1247.0,
          1337.0,
          1337.0,
          1227.0,
          1227.0,
          1317.0,
          1317.0,
          1297.0,
          1297.0,
          1277.0,
          1277.0,
          1237.0,
          1237.0,
          1257.0,
          1257.0,
          1327.0,
          1327.0,
          1287.0,
          1287.0,
          1307.0
         ],
         "y": [
          -2386.0,
          -2142.0,
          -2386.0,
          -2142.0,
          -2386.0,
          -2142.0,
          -2386.0,
          -2142.0,
          -2386.0,
          -2142.0,
          -2386.0,
          -2142.0,
          -2386.0,
          -2142.0,
          -2386.0,
          -2142.0,
          -2386.0,
          -2142.0,
          -2386.0,
          -2142.0,
          -2386.0,
          -2142.0,
          -2386.0,
          -2142.0,
          -2386.0
         ],
         "type": "scatter"
        },
        {
         "line": {
          "color": "red",
          "width": 1
         },
         "mode": "lines",
         "name": "Graben5_E.txt",
         "x": [
          1537.0,
          1527.0,
          1537.0,
          1527.0,
          1577.0,
          1567.0,
          1577.0,
          1557.0,
          1567.0,
          1547.0,
          1557.0,
          1547.0,
          1517.0,
          1517.0,
          1537.0
         ],
         "y": [
          -2386.0,
          -2386.0,
          -2142.0,
          -2142.0,
          -2386.0,
          -2386.0,
          -2142.0,
          -2386.0,
          -2142.0,
          -2386.0,
          -2142.0,
          -2142.0,
          -2386.0,
          -2142.0,
          -2386.0
         ],
         "type": "scatter"
        },
        {
         "line": {
          "color": "red",
          "width": 1
         },
         "mode": "lines",
         "name": "Graben5_W.txt",
         "x": [
          1537.0,
          1527.0,
          1537.0,
          1577.0,
          1527.0,
          1567.0,
          1577.0,
          1507.0,
          1557.0,
          1567.0,
          1547.0,
          1557.0,
          1507.0,
          1547.0,
          1497.0,
          1497.0,
          1517.0,
          1517.0,
          1537.0
         ],
         "y": [
          -2386.0,
          -2386.0,
          -2142.0,
          -2386.0,
          -2142.0,
          -2386.0,
          -2142.0,
          -2386.0,
          -2386.0,
          -2142.0,
          -2386.0,
          -2142.0,
          -2142.0,
          -2142.0,
          -2142.0,
          -2386.0,
          -2386.0,
          -2142.0,
          -2386.0
         ],
         "type": "scatter"
        },
        {
         "line": {
          "color": "red",
          "width": 1
         },
         "mode": "lines",
         "name": "Graben6_E.txt",
         "x": [
          1487.0,
          1477.0,
          1487.0,
          1527.0,
          1477.0,
          1527.0,
          1507.0,
          1497.0,
          1507.0,
          1497.0,
          1472.0,
          1472.0,
          1517.0,
          1517.0,
          1487.0
         ],
         "y": [
          -2386.0,
          -2386.0,
          -2142.0,
          -2386.0,
          -2142.0,
          -2142.0,
          -2386.0,
          -2386.0,
          -2142.0,
          -2142.0,
          -2386.0,
          -2142.0,
          -2386.0,
          -2142.0,
          -2386.0
         ],
         "type": "scatter"
        },
        {
         "line": {
          "color": "red",
          "width": 1
         },
         "mode": "lines",
         "name": "Graben6_W.txt",
         "x": [
          1487.0,
          1487.0,
          1527.0,
          1527.0,
          1507.0,
          1497.0,
          1507.0,
          1497.0,
          1517.0,
          1517.0,
          1487.0
         ],
         "y": [
          -2386.0,
          -2142.0,
          -2386.0,
          -2142.0,
          -2386.0,
          -2386.0,
          -2142.0,
          -2142.0,
          -2386.0,
          -2142.0,
          -2386.0
         ],
         "type": "scatter"
        },
        {
         "line": {
          "color": "red",
          "width": 1
         },
         "mode": "lines",
         "name": "Graben7_E.txt",
         "x": [
          1527.0,
          1527.0,
          1507.0,
          1507.0,
          1487.0,
          1487.0,
          1577.0,
          1577.0,
          1557.0,
          1557.0,
          1517.0,
          1517.0,
          1537.0,
          1537.0,
          1497.0,
          1497.0,
          1477.0,
          1477.0,
          1567.0,
          1567.0,
          1547.0,
          1547.0,
          1527.0
         ],
         "y": [
          -2386.0,
          -2142.0,
          -2386.0,
          -2142.0,
          -2386.0,
          -2142.0,
          -2386.0,
          -2142.0,
          -2386.0,
          -2142.0,
          -2386.0,
          -2142.0,
          -2386.0,
          -2142.0,
          -2386.0,
          -2142.0,
          -2386.0,
          -2142.0,
          -2386.0,
          -2142.0,
          -2386.0,
          -2142.0,
          -2386.0
         ],
         "type": "scatter"
        },
        {
         "line": {
          "color": "red",
          "width": 1
         },
         "mode": "lines",
         "name": "Graben7_W.txt",
         "x": [
          1587.0,
          1577.0,
          1587.0,
          1567.0,
          1577.0,
          1557.0,
          1567.0,
          1557.0,
          1587.0
         ],
         "y": [
          -2386.0,
          -2386.0,
          -2142.0,
          -2386.0,
          -2142.0,
          -2386.0,
          -2142.0,
          -2142.0,
          -2386.0
         ],
         "type": "scatter"
        },
        {
         "line": {
          "color": "red",
          "width": 1
         },
         "mode": "lines",
         "name": "Graben8_W_half.txt",
         "x": [
          1477.0,
          1437.0,
          1477.0,
          1437.0,
          1457.0,
          1447.0,
          1457.0,
          1407.0,
          1447.0,
          1397.0,
          1427.0,
          1407.0,
          1417.0,
          1427.0,
          1397.0,
          1417.0,
          1467.0,
          1467.0,
          1477.0
         ],
         "y": [
          -2386.0,
          -2386.0,
          -2142.0,
          -2142.0,
          -2386.0,
          -2386.0,
          -2142.0,
          -2386.0,
          -2142.0,
          -2386.0,
          -2386.0,
          -2142.0,
          -2386.0,
          -2142.0,
          -2142.0,
          -2142.0,
          -2142.0,
          -2386.0,
          -2386.0
         ],
         "type": "scatter"
        },
        {
         "line": {
          "color": "red",
          "width": 1
         },
         "mode": "lines",
         "name": "Graben9_W_half.txt",
         "x": [
          1387.0,
          1387.0,
          1357.0,
          1347.0,
          1357.0,
          1342.0,
          1347.0,
          1342.0,
          1377.0,
          1367.0,
          1377.0,
          1367.0,
          1387.0
         ],
         "y": [
          -2386.0,
          -2142.0,
          -2386.0,
          -2386.0,
          -2142.0,
          -2386.0,
          -2142.0,
          -2142.0,
          -2386.0,
          -2386.0,
          -2142.0,
          -2142.0,
          -2386.0
         ],
         "type": "scatter"
        }
       ],
       "layout": {
        "template": {
         "data": {
          "histogram2dcontour": [
           {
            "type": "histogram2dcontour",
            "colorbar": {
             "outlinewidth": 0,
             "ticks": ""
            },
            "colorscale": [
             [
              0.0,
              "#0d0887"
             ],
             [
              0.1111111111111111,
              "#46039f"
             ],
             [
              0.2222222222222222,
              "#7201a8"
             ],
             [
              0.3333333333333333,
              "#9c179e"
             ],
             [
              0.4444444444444444,
              "#bd3786"
             ],
             [
              0.5555555555555556,
              "#d8576b"
             ],
             [
              0.6666666666666666,
              "#ed7953"
             ],
             [
              0.7777777777777778,
              "#fb9f3a"
             ],
             [
              0.8888888888888888,
              "#fdca26"
             ],
             [
              1.0,
              "#f0f921"
             ]
            ]
           }
          ],
          "choropleth": [
           {
            "type": "choropleth",
            "colorbar": {
             "outlinewidth": 0,
             "ticks": ""
            }
           }
          ],
          "histogram2d": [
           {
            "type": "histogram2d",
            "colorbar": {
             "outlinewidth": 0,
             "ticks": ""
            },
            "colorscale": [
             [
              0.0,
              "#0d0887"
             ],
             [
              0.1111111111111111,
              "#46039f"
             ],
             [
              0.2222222222222222,
              "#7201a8"
             ],
             [
              0.3333333333333333,
              "#9c179e"
             ],
             [
              0.4444444444444444,
              "#bd3786"
             ],
             [
              0.5555555555555556,
              "#d8576b"
             ],
             [
              0.6666666666666666,
              "#ed7953"
             ],
             [
              0.7777777777777778,
              "#fb9f3a"
             ],
             [
              0.8888888888888888,
              "#fdca26"
             ],
             [
              1.0,
              "#f0f921"
             ]
            ]
           }
          ],
          "heatmap": [
           {
            "type": "heatmap",
            "colorbar": {
             "outlinewidth": 0,
             "ticks": ""
            },
            "colorscale": [
             [
              0.0,
              "#0d0887"
             ],
             [
              0.1111111111111111,
              "#46039f"
             ],
             [
              0.2222222222222222,
              "#7201a8"
             ],
             [
              0.3333333333333333,
              "#9c179e"
             ],
             [
              0.4444444444444444,
              "#bd3786"
             ],
             [
              0.5555555555555556,
              "#d8576b"
             ],
             [
              0.6666666666666666,
              "#ed7953"
             ],
             [
              0.7777777777777778,
              "#fb9f3a"
             ],
             [
              0.8888888888888888,
              "#fdca26"
             ],
             [
              1.0,
              "#f0f921"
             ]
            ]
           }
          ],
          "heatmapgl": [
           {
            "type": "heatmapgl",
            "colorbar": {
             "outlinewidth": 0,
             "ticks": ""
            },
            "colorscale": [
             [
              0.0,
              "#0d0887"
             ],
             [
              0.1111111111111111,
              "#46039f"
             ],
             [
              0.2222222222222222,
              "#7201a8"
             ],
             [
              0.3333333333333333,
              "#9c179e"
             ],
             [
              0.4444444444444444,
              "#bd3786"
             ],
             [
              0.5555555555555556,
              "#d8576b"
             ],
             [
              0.6666666666666666,
              "#ed7953"
             ],
             [
              0.7777777777777778,
              "#fb9f3a"
             ],
             [
              0.8888888888888888,
              "#fdca26"
             ],
             [
              1.0,
              "#f0f921"
             ]
            ]
           }
          ],
          "contourcarpet": [
           {
            "type": "contourcarpet",
            "colorbar": {
             "outlinewidth": 0,
             "ticks": ""
            }
           }
          ],
          "contour": [
           {
            "type": "contour",
            "colorbar": {
             "outlinewidth": 0,
             "ticks": ""
            },
            "colorscale": [
             [
              0.0,
              "#0d0887"
             ],
             [
              0.1111111111111111,
              "#46039f"
             ],
             [
              0.2222222222222222,
              "#7201a8"
             ],
             [
              0.3333333333333333,
              "#9c179e"
             ],
             [
              0.4444444444444444,
              "#bd3786"
             ],
             [
              0.5555555555555556,
              "#d8576b"
             ],
             [
              0.6666666666666666,
              "#ed7953"
             ],
             [
              0.7777777777777778,
              "#fb9f3a"
             ],
             [
              0.8888888888888888,
              "#fdca26"
             ],
             [
              1.0,
              "#f0f921"
             ]
            ]
           }
          ],
          "surface": [
           {
            "type": "surface",
            "colorbar": {
             "outlinewidth": 0,
             "ticks": ""
            },
            "colorscale": [
             [
              0.0,
              "#0d0887"
             ],
             [
              0.1111111111111111,
              "#46039f"
             ],
             [
              0.2222222222222222,
              "#7201a8"
             ],
             [
              0.3333333333333333,
              "#9c179e"
             ],
             [
              0.4444444444444444,
              "#bd3786"
             ],
             [
              0.5555555555555556,
              "#d8576b"
             ],
             [
              0.6666666666666666,
              "#ed7953"
             ],
             [
              0.7777777777777778,
              "#fb9f3a"
             ],
             [
              0.8888888888888888,
              "#fdca26"
             ],
             [
              1.0,
              "#f0f921"
             ]
            ]
           }
          ],
          "mesh3d": [
           {
            "type": "mesh3d",
            "colorbar": {
             "outlinewidth": 0,
             "ticks": ""
            }
           }
          ],
          "scatter": [
           {
            "marker": {
             "line": {
              "color": "#283442"
             }
            },
            "type": "scatter"
           }
          ],
          "parcoords": [
           {
            "type": "parcoords",
            "line": {
             "colorbar": {
              "outlinewidth": 0,
              "ticks": ""
             }
            }
           }
          ],
          "scatterpolargl": [
           {
            "type": "scatterpolargl",
            "marker": {
             "colorbar": {
              "outlinewidth": 0,
              "ticks": ""
             }
            }
           }
          ],
          "bar": [
           {
            "error_x": {
             "color": "#f2f5fa"
            },
            "error_y": {
             "color": "#f2f5fa"
            },
            "marker": {
             "line": {
              "color": "rgb(17,17,17)",
              "width": 0.5
             },
             "pattern": {
              "fillmode": "overlay",
              "size": 10,
              "solidity": 0.2
             }
            },
            "type": "bar"
           }
          ],
          "scattergeo": [
           {
            "type": "scattergeo",
            "marker": {
             "colorbar": {
              "outlinewidth": 0,
              "ticks": ""
             }
            }
           }
          ],
          "scatterpolar": [
           {
            "type": "scatterpolar",
            "marker": {
             "colorbar": {
              "outlinewidth": 0,
              "ticks": ""
             }
            }
           }
          ],
          "histogram": [
           {
            "marker": {
             "pattern": {
              "fillmode": "overlay",
              "size": 10,
              "solidity": 0.2
             }
            },
            "type": "histogram"
           }
          ],
          "scattergl": [
           {
            "marker": {
             "line": {
              "color": "#283442"
             }
            },
            "type": "scattergl"
           }
          ],
          "scatter3d": [
           {
            "type": "scatter3d",
            "line": {
             "colorbar": {
              "outlinewidth": 0,
              "ticks": ""
             }
            },
            "marker": {
             "colorbar": {
              "outlinewidth": 0,
              "ticks": ""
             }
            }
           }
          ],
          "scattermapbox": [
           {
            "type": "scattermapbox",
            "marker": {
             "colorbar": {
              "outlinewidth": 0,
              "ticks": ""
             }
            }
           }
          ],
          "scatterternary": [
           {
            "type": "scatterternary",
            "marker": {
             "colorbar": {
              "outlinewidth": 0,
              "ticks": ""
             }
            }
           }
          ],
          "scattercarpet": [
           {
            "type": "scattercarpet",
            "marker": {
             "colorbar": {
              "outlinewidth": 0,
              "ticks": ""
             }
            }
           }
          ],
          "carpet": [
           {
            "aaxis": {
             "endlinecolor": "#A2B1C6",
             "gridcolor": "#506784",
             "linecolor": "#506784",
             "minorgridcolor": "#506784",
             "startlinecolor": "#A2B1C6"
            },
            "baxis": {
             "endlinecolor": "#A2B1C6",
             "gridcolor": "#506784",
             "linecolor": "#506784",
             "minorgridcolor": "#506784",
             "startlinecolor": "#A2B1C6"
            },
            "type": "carpet"
           }
          ],
          "table": [
           {
            "cells": {
             "fill": {
              "color": "#506784"
             },
             "line": {
              "color": "rgb(17,17,17)"
             }
            },
            "header": {
             "fill": {
              "color": "#2a3f5f"
             },
             "line": {
              "color": "rgb(17,17,17)"
             }
            },
            "type": "table"
           }
          ],
          "barpolar": [
           {
            "marker": {
             "line": {
              "color": "rgb(17,17,17)",
              "width": 0.5
             },
             "pattern": {
              "fillmode": "overlay",
              "size": 10,
              "solidity": 0.2
             }
            },
            "type": "barpolar"
           }
          ],
          "pie": [
           {
            "automargin": true,
            "type": "pie"
           }
          ]
         },
         "layout": {
          "autotypenumbers": "strict",
          "colorway": [
           "#636efa",
           "#EF553B",
           "#00cc96",
           "#ab63fa",
           "#FFA15A",
           "#19d3f3",
           "#FF6692",
           "#B6E880",
           "#FF97FF",
           "#FECB52"
          ],
          "font": {
           "color": "#f2f5fa"
          },
          "hovermode": "closest",
          "hoverlabel": {
           "align": "left"
          },
          "paper_bgcolor": "rgb(17,17,17)",
          "plot_bgcolor": "rgb(17,17,17)",
          "polar": {
           "bgcolor": "rgb(17,17,17)",
           "angularaxis": {
            "gridcolor": "#506784",
            "linecolor": "#506784",
            "ticks": ""
           },
           "radialaxis": {
            "gridcolor": "#506784",
            "linecolor": "#506784",
            "ticks": ""
           }
          },
          "ternary": {
           "bgcolor": "rgb(17,17,17)",
           "aaxis": {
            "gridcolor": "#506784",
            "linecolor": "#506784",
            "ticks": ""
           },
           "baxis": {
            "gridcolor": "#506784",
            "linecolor": "#506784",
            "ticks": ""
           },
           "caxis": {
            "gridcolor": "#506784",
            "linecolor": "#506784",
            "ticks": ""
           }
          },
          "coloraxis": {
           "colorbar": {
            "outlinewidth": 0,
            "ticks": ""
           }
          },
          "colorscale": {
           "sequential": [
            [
             0.0,
             "#0d0887"
            ],
            [
             0.1111111111111111,
             "#46039f"
            ],
            [
             0.2222222222222222,
             "#7201a8"
            ],
            [
             0.3333333333333333,
             "#9c179e"
            ],
            [
             0.4444444444444444,
             "#bd3786"
            ],
            [
             0.5555555555555556,
             "#d8576b"
            ],
            [
             0.6666666666666666,
             "#ed7953"
            ],
            [
             0.7777777777777778,
             "#fb9f3a"
            ],
            [
             0.8888888888888888,
             "#fdca26"
            ],
            [
             1.0,
             "#f0f921"
            ]
           ],
           "sequentialminus": [
            [
             0.0,
             "#0d0887"
            ],
            [
             0.1111111111111111,
             "#46039f"
            ],
            [
             0.2222222222222222,
             "#7201a8"
            ],
            [
             0.3333333333333333,
             "#9c179e"
            ],
            [
             0.4444444444444444,
             "#bd3786"
            ],
            [
             0.5555555555555556,
             "#d8576b"
            ],
            [
             0.6666666666666666,
             "#ed7953"
            ],
            [
             0.7777777777777778,
             "#fb9f3a"
            ],
            [
             0.8888888888888888,
             "#fdca26"
            ],
            [
             1.0,
             "#f0f921"
            ]
           ],
           "diverging": [
            [
             0,
             "#8e0152"
            ],
            [
             0.1,
             "#c51b7d"
            ],
            [
             0.2,
             "#de77ae"
            ],
            [
             0.3,
             "#f1b6da"
            ],
            [
             0.4,
             "#fde0ef"
            ],
            [
             0.5,
             "#f7f7f7"
            ],
            [
             0.6,
             "#e6f5d0"
            ],
            [
             0.7,
             "#b8e186"
            ],
            [
             0.8,
             "#7fbc41"
            ],
            [
             0.9,
             "#4d9221"
            ],
            [
             1,
             "#276419"
            ]
           ]
          },
          "xaxis": {
           "gridcolor": "#283442",
           "linecolor": "#506784",
           "ticks": "",
           "title": {
            "standoff": 15
           },
           "zerolinecolor": "#283442",
           "automargin": true,
           "zerolinewidth": 2
          },
          "yaxis": {
           "gridcolor": "#283442",
           "linecolor": "#506784",
           "ticks": "",
           "title": {
            "standoff": 15
           },
           "zerolinecolor": "#283442",
           "automargin": true,
           "zerolinewidth": 2
          },
          "scene": {
           "xaxis": {
            "backgroundcolor": "rgb(17,17,17)",
            "gridcolor": "#506784",
            "linecolor": "#506784",
            "showbackground": true,
            "ticks": "",
            "zerolinecolor": "#C8D4E3",
            "gridwidth": 2
           },
           "yaxis": {
            "backgroundcolor": "rgb(17,17,17)",
            "gridcolor": "#506784",
            "linecolor": "#506784",
            "showbackground": true,
            "ticks": "",
            "zerolinecolor": "#C8D4E3",
            "gridwidth": 2
           },
           "zaxis": {
            "backgroundcolor": "rgb(17,17,17)",
            "gridcolor": "#506784",
            "linecolor": "#506784",
            "showbackground": true,
            "ticks": "",
            "zerolinecolor": "#C8D4E3",
            "gridwidth": 2
           }
          },
          "shapedefaults": {
           "line": {
            "color": "#f2f5fa"
           }
          },
          "annotationdefaults": {
           "arrowcolor": "#f2f5fa",
           "arrowhead": 0,
           "arrowwidth": 1
          },
          "geo": {
           "bgcolor": "rgb(17,17,17)",
           "landcolor": "rgb(17,17,17)",
           "subunitcolor": "#506784",
           "showland": true,
           "showlakes": true,
           "lakecolor": "rgb(17,17,17)"
          },
          "title": {
           "x": 0.05
          },
          "updatemenudefaults": {
           "bgcolor": "#506784",
           "borderwidth": 0
          },
          "sliderdefaults": {
           "bgcolor": "#C8D4E3",
           "borderwidth": 1,
           "bordercolor": "rgb(17,17,17)",
           "tickwidth": 0
          },
          "mapbox": {
           "style": "dark"
          }
         }
        },
        "title": {
         "text": "границы куба и границы разломов, вид сбоку"
        },
        "xaxis": {
         "title": {
          "text": "Инлайны"
         }
        },
        "yaxis": {
         "title": {
          "text": "Глубины"
         }
        },
        "showlegend": true
       },
       "config": {
        "plotlyServerURL": "https://plot.ly"
       }
      },
      "text/html": "<div>                            <div id=\"70b58ce3-66de-4292-9219-db902d009f08\" class=\"plotly-graph-div\" style=\"height:525px; width:100%;\"></div>            <script type=\"text/javascript\">                require([\"plotly\"], function(Plotly) {                    window.PLOTLYENV=window.PLOTLYENV || {};                                    if (document.getElementById(\"70b58ce3-66de-4292-9219-db902d009f08\")) {                    Plotly.newPlot(                        \"70b58ce3-66de-4292-9219-db902d009f08\",                        [{\"line\":{\"color\":\"blue\",\"width\":2},\"mode\":\"lines\",\"name\":\"\\u0413\\u0440\\u0430\\u043d\\u0438\\u0446\\u044b \\u041a\\u0443\\u0431\\u0430\",\"x\":[1001.0,1001.0,1612.0,1612.0,1001.0],\"y\":[-2386.0,-2142.0,-2142.0,-2386.0,-2386.0],\"type\":\"scatter\"},{\"line\":{\"color\":\"red\",\"width\":1},\"mode\":\"lines\",\"name\":\"Graben10_E.txt\",\"x\":[1177.0,1167.0,1177.0,1167.0,1157.0,1147.0,1157.0,1147.0,1187.0,1187.0,1177.0],\"y\":[-2386.0,-2386.0,-2142.0,-2142.0,-2386.0,-2386.0,-2142.0,-2142.0,-2386.0,-2142.0,-2386.0],\"type\":\"scatter\"},{\"line\":{\"color\":\"red\",\"width\":1},\"mode\":\"lines\",\"name\":\"Graben10_W.txt\",\"x\":[1207.0,1207.0,1177.0,1167.0,1177.0,1157.0,1167.0,1147.0,1157.0,1197.0,1147.0,1187.0,1197.0,1187.0,1207.0],\"y\":[-2386.0,-2142.0,-2386.0,-2386.0,-2142.0,-2386.0,-2142.0,-2386.0,-2142.0,-2386.0,-2142.0,-2386.0,-2142.0,-2142.0,-2386.0],\"type\":\"scatter\"},{\"line\":{\"color\":\"red\",\"width\":1},\"mode\":\"lines\",\"name\":\"Graben11_E.txt\",\"x\":[1127.0,1117.0,1127.0,1107.0,1117.0,1137.0,1107.0,1137.0,1127.0],\"y\":[-2386.0,-2386.0,-2142.0,-2386.0,-2142.0,-2386.0,-2142.0,-2142.0,-2386.0],\"type\":\"scatter\"},{\"line\":{\"color\":\"red\",\"width\":1},\"mode\":\"lines\",\"name\":\"Graben11_W.txt\",\"x\":[1127.0,1117.0,1127.0,1117.0,1137.0,1107.0,1137.0,1107.0,1097.0,1097.0,1087.0,1087.0,1127.0],\"y\":[-2386.0,-2386.0,-2142.0,-2142.0,-2386.0,-2386.0,-2142.0,-2142.0,-2142.0,-2386.0,-2142.0,-2386.0,-2386.0],\"type\":\"scatter\"},{\"line\":{\"color\":\"red\",\"width\":1},\"mode\":\"lines\",\"name\":\"Graben12_E.txt\",\"x\":[1027.0,1027.0,1077.0,1077.0,1057.0,1047.0,1057.0,1037.0,1047.0,1037.0,1067.0,1067.0,1027.0],\"y\":[-2386.0,-2142.0,-2386.0,-2142.0,-2386.0,-2386.0,-2142.0,-2386.0,-2142.0,-2142.0,-2386.0,-2142.0,-2386.0],\"type\":\"scatter\"},{\"line\":{\"color\":\"red\",\"width\":1},\"mode\":\"lines\",\"name\":\"Graben12_W.txt\",\"x\":[1077.0,1077.0,1057.0,1047.0,1057.0,1037.0,1047.0,1087.0,1087.0,1067.0,1037.0,1067.0,1077.0],\"y\":[-2386.0,-2142.0,-2386.0,-2386.0,-2142.0,-2386.0,-2142.0,-2386.0,-2142.0,-2386.0,-2142.0,-2142.0,-2386.0],\"type\":\"scatter\"},{\"line\":{\"color\":\"red\",\"width\":1},\"mode\":\"lines\",\"name\":\"Graben13_E.txt\",\"x\":[1207.0,1207.0,1227.0,1217.0,1227.0,1217.0,1237.0,1237.0,1207.0],\"y\":[-2386.0,-2142.0,-2386.0,-2386.0,-2142.0,-2142.0,-2386.0,-2142.0,-2386.0],\"type\":\"scatter\"},{\"line\":{\"color\":\"red\",\"width\":1},\"mode\":\"lines\",\"name\":\"Graben13_W.txt\",\"x\":[1207.0,1207.0,1217.0,1217.0,1197.0,1187.0,1197.0,1187.0,1207.0],\"y\":[-2386.0,-2142.0,-2386.0,-2142.0,-2386.0,-2386.0,-2142.0,-2142.0,-2386.0],\"type\":\"scatter\"},{\"line\":{\"color\":\"red\",\"width\":1},\"mode\":\"lines\",\"name\":\"Graben14_E_half.txt\",\"x\":[1207.0,1207.0,1227.0,1217.0,1227.0,1217.0,1197.0,1197.0,1237.0,1237.0,1207.0],\"y\":[-2386.0,-2142.0,-2386.0,-2386.0,-2142.0,-2142.0,-2386.0,-2142.0,-2386.0,-2142.0,-2386.0],\"type\":\"scatter\"},{\"line\":{\"color\":\"red\",\"width\":1},\"mode\":\"lines\",\"name\":\"Graben15_E_half.txt\",\"x\":[1207.0,1207.0,1227.0,1217.0,1227.0,1217.0,1197.0,1187.0,1197.0,1187.0,1207.0],\"y\":[-2386.0,-2142.0,-2386.0,-2386.0,-2142.0,-2142.0,-2386.0,-2386.0,-2142.0,-2142.0,-2386.0],\"type\":\"scatter\"},{\"line\":{\"color\":\"red\",\"width\":1},\"mode\":\"lines\",\"name\":\"Graben16_E.txt\",\"x\":[1487.0,1477.0,1487.0,1437.0,1477.0,1457.0,1437.0,1447.0,1457.0,1497.0,1447.0,1497.0,1467.0,1467.0,1487.0],\"y\":[-2386.0,-2386.0,-2142.0,-2386.0,-2142.0,-2386.0,-2142.0,-2386.0,-2142.0,-2386.0,-2142.0,-2142.0,-2386.0,-2142.0,-2386.0],\"type\":\"scatter\"},{\"line\":{\"color\":\"red\",\"width\":1},\"mode\":\"lines\",\"name\":\"Graben16_W.txt\",\"x\":[1477.0,1437.0,1477.0,1457.0,1437.0,1447.0,1457.0,1447.0,1467.0,1467.0,1477.0],\"y\":[-2386.0,-2386.0,-2142.0,-2386.0,-2142.0,-2386.0,-2142.0,-2142.0,-2386.0,-2142.0,-2386.0],\"type\":\"scatter\"},{\"line\":{\"color\":\"red\",\"width\":1},\"mode\":\"lines\",\"name\":\"Graben17_W_half.txt\",\"x\":[1437.0,1437.0,1457.0,1447.0,1457.0,1407.0,1447.0,1427.0,1407.0,1417.0,1427.0,1417.0,1437.0],\"y\":[-2386.0,-2142.0,-2386.0,-2386.0,-2142.0,-2386.0,-2142.0,-2386.0,-2142.0,-2386.0,-2142.0,-2142.0,-2386.0],\"type\":\"scatter\"},{\"line\":{\"color\":\"red\",\"width\":1},\"mode\":\"lines\",\"name\":\"Graben18_W_half.txt\",\"x\":[1417.0,1437.0,1437.0,1457.0,1447.0,1457.0,1407.0,1447.0,1427.0,1407.0,1417.0,1427.0,1467.0,1467.0,1417.0],\"y\":[-2142.0,-2386.0,-2142.0,-2386.0,-2386.0,-2142.0,-2386.0,-2142.0,-2386.0,-2142.0,-2386.0,-2142.0,-2386.0,-2142.0,-2142.0],\"type\":\"scatter\"},{\"line\":{\"color\":\"red\",\"width\":1},\"mode\":\"lines\",\"name\":\"Graben19_E_half.txt\",\"x\":[1577.0,1567.0,1577.0,1557.0,1567.0,1557.0,1577.0],\"y\":[-2386.0,-2386.0,-2142.0,-2386.0,-2142.0,-2142.0,-2386.0],\"type\":\"scatter\"},{\"line\":{\"color\":\"red\",\"width\":1},\"mode\":\"lines\",\"name\":\"Graben1_E.txt\",\"x\":[1307.0,1307.0,1267.0,1267.0,1337.0,1337.0,1317.0,1317.0,1242.0,1242.0,1297.0,1297.0,1277.0,1277.0,1257.0,1257.0,1327.0,1327.0,1287.0,1287.0,1307.0],\"y\":[-2386.0,-2142.0,-2386.0,-2142.0,-2386.0,-2142.0,-2386.0,-2142.0,-2386.0,-2142.0,-2386.0,-2142.0,-2386.0,-2142.0,-2386.0,-2142.0,-2386.0,-2142.0,-2386.0,-2142.0,-2386.0],\"type\":\"scatter\"},{\"line\":{\"color\":\"red\",\"width\":1},\"mode\":\"lines\",\"name\":\"Graben1_W.txt\",\"x\":[1257.0,1307.0,1257.0,1297.0,1307.0,1297.0,1277.0,1267.0,1277.0,1317.0,1267.0,1247.0,1317.0,1247.0,1287.0,1287.0,1257.0],\"y\":[-2386.0,-2386.0,-2142.0,-2386.0,-2142.0,-2142.0,-2386.0,-2386.0,-2142.0,-2386.0,-2142.0,-2386.0,-2142.0,-2142.0,-2386.0,-2142.0,-2386.0],\"type\":\"scatter\"},{\"line\":{\"color\":\"red\",\"width\":1},\"mode\":\"lines\",\"name\":\"Graben2_E.txt\",\"x\":[1437.0,1437.0,1507.0,1507.0,1467.0,1467.0,1487.0,1487.0,1447.0,1447.0,1427.0,1427.0,1407.0,1497.0,1407.0,1497.0,1477.0,1477.0,1457.0,1457.0,1417.0,1417.0,1437.0],\"y\":[-2386.0,-2142.0,-2386.0,-2142.0,-2386.0,-2142.0,-2386.0,-2142.0,-2386.0,-2142.0,-2386.0,-2142.0,-2386.0,-2386.0,-2142.0,-2142.0,-2386.0,-2142.0,-2386.0,-2142.0,-2386.0,-2142.0,-2386.0],\"type\":\"scatter\"},{\"line\":{\"color\":\"red\",\"width\":1},\"mode\":\"lines\",\"name\":\"Graben2_W.txt\",\"x\":[1437.0,1437.0,1397.0,1397.0,1467.0,1467.0,1487.0,1487.0,1447.0,1447.0,1427.0,1427.0,1407.0,1407.0,1477.0,1477.0,1457.0,1457.0,1417.0,1417.0,1437.0],\"y\":[-2386.0,-2142.0,-2386.0,-2142.0,-2386.0,-2142.0,-2386.0,-2142.0,-2386.0,-2142.0,-2386.0,-2142.0,-2386.0,-2142.0,-2386.0,-2142.0,-2386.0,-2142.0,-2386.0,-2142.0,-2386.0],\"type\":\"scatter\"},{\"line\":{\"color\":\"red\",\"width\":1},\"mode\":\"lines\",\"name\":\"Graben3_E.txt\",\"x\":[1177.0,1177.0,1157.0,1157.0,1137.0,1137.0,1117.0,1117.0,1097.0,1187.0,1097.0,1187.0,1167.0,1167.0,1147.0,1147.0,1197.0,1127.0,1127.0,1107.0,1197.0,1107.0,1087.0,1087.0,1177.0],\"y\":[-2386.0,-2142.0,-2386.0,-2142.0,-2386.0,-2142.0,-2386.0,-2142.0,-2386.0,-2386.0,-2142.0,-2142.0,-2386.0,-2142.0,-2386.0,-2142.0,-2142.0,-2386.0,-2142.0,-2386.0,-2386.0,-2142.0,-2386.0,-2142.0,-2386.0],\"type\":\"scatter\"},{\"line\":{\"color\":\"red\",\"width\":1},\"mode\":\"lines\",\"name\":\"Graben3_W.txt\",\"x\":[1177.0,1177.0,1157.0,1157.0,1137.0,1137.0,1117.0,1117.0,1097.0,1097.0,1167.0,1167.0,1147.0,1147.0,1092.0,1092.0,1182.0,1182.0,1127.0,1127.0,1107.0,1107.0,1177.0],\"y\":[-2386.0,-2142.0,-2386.0,-2142.0,-2386.0,-2142.0,-2386.0,-2142.0,-2386.0,-2142.0,-2386.0,-2142.0,-2386.0,-2142.0,-2386.0,-2142.0,-2386.0,-2142.0,-2386.0,-2142.0,-2386.0,-2142.0,-2386.0],\"type\":\"scatter\"},{\"line\":{\"color\":\"red\",\"width\":1},\"mode\":\"lines\",\"name\":\"Graben4_E.txt\",\"x\":[1257.0,1237.0,1307.0,1257.0,1297.0,1307.0,1297.0,1277.0,1267.0,1277.0,1267.0,1247.0,1237.0,1247.0,1287.0,1287.0,1257.0],\"y\":[-2386.0,-2142.0,-2386.0,-2142.0,-2386.0,-2142.0,-2142.0,-2386.0,-2386.0,-2142.0,-2142.0,-2386.0,-2386.0,-2142.0,-2386.0,-2142.0,-2386.0],\"type\":\"scatter\"},{\"line\":{\"color\":\"red\",\"width\":1},\"mode\":\"lines\",\"name\":\"Graben4_W.txt\",\"x\":[1307.0,1307.0,1267.0,1267.0,1247.0,1247.0,1337.0,1337.0,1227.0,1227.0,1317.0,1317.0,1297.0,1297.0,1277.0,1277.0,1237.0,1237.0,1257.0,1257.0,1327.0,1327.0,1287.0,1287.0,1307.0],\"y\":[-2386.0,-2142.0,-2386.0,-2142.0,-2386.0,-2142.0,-2386.0,-2142.0,-2386.0,-2142.0,-2386.0,-2142.0,-2386.0,-2142.0,-2386.0,-2142.0,-2386.0,-2142.0,-2386.0,-2142.0,-2386.0,-2142.0,-2386.0,-2142.0,-2386.0],\"type\":\"scatter\"},{\"line\":{\"color\":\"red\",\"width\":1},\"mode\":\"lines\",\"name\":\"Graben5_E.txt\",\"x\":[1537.0,1527.0,1537.0,1527.0,1577.0,1567.0,1577.0,1557.0,1567.0,1547.0,1557.0,1547.0,1517.0,1517.0,1537.0],\"y\":[-2386.0,-2386.0,-2142.0,-2142.0,-2386.0,-2386.0,-2142.0,-2386.0,-2142.0,-2386.0,-2142.0,-2142.0,-2386.0,-2142.0,-2386.0],\"type\":\"scatter\"},{\"line\":{\"color\":\"red\",\"width\":1},\"mode\":\"lines\",\"name\":\"Graben5_W.txt\",\"x\":[1537.0,1527.0,1537.0,1577.0,1527.0,1567.0,1577.0,1507.0,1557.0,1567.0,1547.0,1557.0,1507.0,1547.0,1497.0,1497.0,1517.0,1517.0,1537.0],\"y\":[-2386.0,-2386.0,-2142.0,-2386.0,-2142.0,-2386.0,-2142.0,-2386.0,-2386.0,-2142.0,-2386.0,-2142.0,-2142.0,-2142.0,-2142.0,-2386.0,-2386.0,-2142.0,-2386.0],\"type\":\"scatter\"},{\"line\":{\"color\":\"red\",\"width\":1},\"mode\":\"lines\",\"name\":\"Graben6_E.txt\",\"x\":[1487.0,1477.0,1487.0,1527.0,1477.0,1527.0,1507.0,1497.0,1507.0,1497.0,1472.0,1472.0,1517.0,1517.0,1487.0],\"y\":[-2386.0,-2386.0,-2142.0,-2386.0,-2142.0,-2142.0,-2386.0,-2386.0,-2142.0,-2142.0,-2386.0,-2142.0,-2386.0,-2142.0,-2386.0],\"type\":\"scatter\"},{\"line\":{\"color\":\"red\",\"width\":1},\"mode\":\"lines\",\"name\":\"Graben6_W.txt\",\"x\":[1487.0,1487.0,1527.0,1527.0,1507.0,1497.0,1507.0,1497.0,1517.0,1517.0,1487.0],\"y\":[-2386.0,-2142.0,-2386.0,-2142.0,-2386.0,-2386.0,-2142.0,-2142.0,-2386.0,-2142.0,-2386.0],\"type\":\"scatter\"},{\"line\":{\"color\":\"red\",\"width\":1},\"mode\":\"lines\",\"name\":\"Graben7_E.txt\",\"x\":[1527.0,1527.0,1507.0,1507.0,1487.0,1487.0,1577.0,1577.0,1557.0,1557.0,1517.0,1517.0,1537.0,1537.0,1497.0,1497.0,1477.0,1477.0,1567.0,1567.0,1547.0,1547.0,1527.0],\"y\":[-2386.0,-2142.0,-2386.0,-2142.0,-2386.0,-2142.0,-2386.0,-2142.0,-2386.0,-2142.0,-2386.0,-2142.0,-2386.0,-2142.0,-2386.0,-2142.0,-2386.0,-2142.0,-2386.0,-2142.0,-2386.0,-2142.0,-2386.0],\"type\":\"scatter\"},{\"line\":{\"color\":\"red\",\"width\":1},\"mode\":\"lines\",\"name\":\"Graben7_W.txt\",\"x\":[1587.0,1577.0,1587.0,1567.0,1577.0,1557.0,1567.0,1557.0,1587.0],\"y\":[-2386.0,-2386.0,-2142.0,-2386.0,-2142.0,-2386.0,-2142.0,-2142.0,-2386.0],\"type\":\"scatter\"},{\"line\":{\"color\":\"red\",\"width\":1},\"mode\":\"lines\",\"name\":\"Graben8_W_half.txt\",\"x\":[1477.0,1437.0,1477.0,1437.0,1457.0,1447.0,1457.0,1407.0,1447.0,1397.0,1427.0,1407.0,1417.0,1427.0,1397.0,1417.0,1467.0,1467.0,1477.0],\"y\":[-2386.0,-2386.0,-2142.0,-2142.0,-2386.0,-2386.0,-2142.0,-2386.0,-2142.0,-2386.0,-2386.0,-2142.0,-2386.0,-2142.0,-2142.0,-2142.0,-2142.0,-2386.0,-2386.0],\"type\":\"scatter\"},{\"line\":{\"color\":\"red\",\"width\":1},\"mode\":\"lines\",\"name\":\"Graben9_W_half.txt\",\"x\":[1387.0,1387.0,1357.0,1347.0,1357.0,1342.0,1347.0,1342.0,1377.0,1367.0,1377.0,1367.0,1387.0],\"y\":[-2386.0,-2142.0,-2386.0,-2386.0,-2142.0,-2386.0,-2142.0,-2142.0,-2386.0,-2386.0,-2142.0,-2142.0,-2386.0],\"type\":\"scatter\"}],                        {\"template\":{\"data\":{\"histogram2dcontour\":[{\"type\":\"histogram2dcontour\",\"colorbar\":{\"outlinewidth\":0,\"ticks\":\"\"},\"colorscale\":[[0.0,\"#0d0887\"],[0.1111111111111111,\"#46039f\"],[0.2222222222222222,\"#7201a8\"],[0.3333333333333333,\"#9c179e\"],[0.4444444444444444,\"#bd3786\"],[0.5555555555555556,\"#d8576b\"],[0.6666666666666666,\"#ed7953\"],[0.7777777777777778,\"#fb9f3a\"],[0.8888888888888888,\"#fdca26\"],[1.0,\"#f0f921\"]]}],\"choropleth\":[{\"type\":\"choropleth\",\"colorbar\":{\"outlinewidth\":0,\"ticks\":\"\"}}],\"histogram2d\":[{\"type\":\"histogram2d\",\"colorbar\":{\"outlinewidth\":0,\"ticks\":\"\"},\"colorscale\":[[0.0,\"#0d0887\"],[0.1111111111111111,\"#46039f\"],[0.2222222222222222,\"#7201a8\"],[0.3333333333333333,\"#9c179e\"],[0.4444444444444444,\"#bd3786\"],[0.5555555555555556,\"#d8576b\"],[0.6666666666666666,\"#ed7953\"],[0.7777777777777778,\"#fb9f3a\"],[0.8888888888888888,\"#fdca26\"],[1.0,\"#f0f921\"]]}],\"heatmap\":[{\"type\":\"heatmap\",\"colorbar\":{\"outlinewidth\":0,\"ticks\":\"\"},\"colorscale\":[[0.0,\"#0d0887\"],[0.1111111111111111,\"#46039f\"],[0.2222222222222222,\"#7201a8\"],[0.3333333333333333,\"#9c179e\"],[0.4444444444444444,\"#bd3786\"],[0.5555555555555556,\"#d8576b\"],[0.6666666666666666,\"#ed7953\"],[0.7777777777777778,\"#fb9f3a\"],[0.8888888888888888,\"#fdca26\"],[1.0,\"#f0f921\"]]}],\"heatmapgl\":[{\"type\":\"heatmapgl\",\"colorbar\":{\"outlinewidth\":0,\"ticks\":\"\"},\"colorscale\":[[0.0,\"#0d0887\"],[0.1111111111111111,\"#46039f\"],[0.2222222222222222,\"#7201a8\"],[0.3333333333333333,\"#9c179e\"],[0.4444444444444444,\"#bd3786\"],[0.5555555555555556,\"#d8576b\"],[0.6666666666666666,\"#ed7953\"],[0.7777777777777778,\"#fb9f3a\"],[0.8888888888888888,\"#fdca26\"],[1.0,\"#f0f921\"]]}],\"contourcarpet\":[{\"type\":\"contourcarpet\",\"colorbar\":{\"outlinewidth\":0,\"ticks\":\"\"}}],\"contour\":[{\"type\":\"contour\",\"colorbar\":{\"outlinewidth\":0,\"ticks\":\"\"},\"colorscale\":[[0.0,\"#0d0887\"],[0.1111111111111111,\"#46039f\"],[0.2222222222222222,\"#7201a8\"],[0.3333333333333333,\"#9c179e\"],[0.4444444444444444,\"#bd3786\"],[0.5555555555555556,\"#d8576b\"],[0.6666666666666666,\"#ed7953\"],[0.7777777777777778,\"#fb9f3a\"],[0.8888888888888888,\"#fdca26\"],[1.0,\"#f0f921\"]]}],\"surface\":[{\"type\":\"surface\",\"colorbar\":{\"outlinewidth\":0,\"ticks\":\"\"},\"colorscale\":[[0.0,\"#0d0887\"],[0.1111111111111111,\"#46039f\"],[0.2222222222222222,\"#7201a8\"],[0.3333333333333333,\"#9c179e\"],[0.4444444444444444,\"#bd3786\"],[0.5555555555555556,\"#d8576b\"],[0.6666666666666666,\"#ed7953\"],[0.7777777777777778,\"#fb9f3a\"],[0.8888888888888888,\"#fdca26\"],[1.0,\"#f0f921\"]]}],\"mesh3d\":[{\"type\":\"mesh3d\",\"colorbar\":{\"outlinewidth\":0,\"ticks\":\"\"}}],\"scatter\":[{\"marker\":{\"line\":{\"color\":\"#283442\"}},\"type\":\"scatter\"}],\"parcoords\":[{\"type\":\"parcoords\",\"line\":{\"colorbar\":{\"outlinewidth\":0,\"ticks\":\"\"}}}],\"scatterpolargl\":[{\"type\":\"scatterpolargl\",\"marker\":{\"colorbar\":{\"outlinewidth\":0,\"ticks\":\"\"}}}],\"bar\":[{\"error_x\":{\"color\":\"#f2f5fa\"},\"error_y\":{\"color\":\"#f2f5fa\"},\"marker\":{\"line\":{\"color\":\"rgb(17,17,17)\",\"width\":0.5},\"pattern\":{\"fillmode\":\"overlay\",\"size\":10,\"solidity\":0.2}},\"type\":\"bar\"}],\"scattergeo\":[{\"type\":\"scattergeo\",\"marker\":{\"colorbar\":{\"outlinewidth\":0,\"ticks\":\"\"}}}],\"scatterpolar\":[{\"type\":\"scatterpolar\",\"marker\":{\"colorbar\":{\"outlinewidth\":0,\"ticks\":\"\"}}}],\"histogram\":[{\"marker\":{\"pattern\":{\"fillmode\":\"overlay\",\"size\":10,\"solidity\":0.2}},\"type\":\"histogram\"}],\"scattergl\":[{\"marker\":{\"line\":{\"color\":\"#283442\"}},\"type\":\"scattergl\"}],\"scatter3d\":[{\"type\":\"scatter3d\",\"line\":{\"colorbar\":{\"outlinewidth\":0,\"ticks\":\"\"}},\"marker\":{\"colorbar\":{\"outlinewidth\":0,\"ticks\":\"\"}}}],\"scattermapbox\":[{\"type\":\"scattermapbox\",\"marker\":{\"colorbar\":{\"outlinewidth\":0,\"ticks\":\"\"}}}],\"scatterternary\":[{\"type\":\"scatterternary\",\"marker\":{\"colorbar\":{\"outlinewidth\":0,\"ticks\":\"\"}}}],\"scattercarpet\":[{\"type\":\"scattercarpet\",\"marker\":{\"colorbar\":{\"outlinewidth\":0,\"ticks\":\"\"}}}],\"carpet\":[{\"aaxis\":{\"endlinecolor\":\"#A2B1C6\",\"gridcolor\":\"#506784\",\"linecolor\":\"#506784\",\"minorgridcolor\":\"#506784\",\"startlinecolor\":\"#A2B1C6\"},\"baxis\":{\"endlinecolor\":\"#A2B1C6\",\"gridcolor\":\"#506784\",\"linecolor\":\"#506784\",\"minorgridcolor\":\"#506784\",\"startlinecolor\":\"#A2B1C6\"},\"type\":\"carpet\"}],\"table\":[{\"cells\":{\"fill\":{\"color\":\"#506784\"},\"line\":{\"color\":\"rgb(17,17,17)\"}},\"header\":{\"fill\":{\"color\":\"#2a3f5f\"},\"line\":{\"color\":\"rgb(17,17,17)\"}},\"type\":\"table\"}],\"barpolar\":[{\"marker\":{\"line\":{\"color\":\"rgb(17,17,17)\",\"width\":0.5},\"pattern\":{\"fillmode\":\"overlay\",\"size\":10,\"solidity\":0.2}},\"type\":\"barpolar\"}],\"pie\":[{\"automargin\":true,\"type\":\"pie\"}]},\"layout\":{\"autotypenumbers\":\"strict\",\"colorway\":[\"#636efa\",\"#EF553B\",\"#00cc96\",\"#ab63fa\",\"#FFA15A\",\"#19d3f3\",\"#FF6692\",\"#B6E880\",\"#FF97FF\",\"#FECB52\"],\"font\":{\"color\":\"#f2f5fa\"},\"hovermode\":\"closest\",\"hoverlabel\":{\"align\":\"left\"},\"paper_bgcolor\":\"rgb(17,17,17)\",\"plot_bgcolor\":\"rgb(17,17,17)\",\"polar\":{\"bgcolor\":\"rgb(17,17,17)\",\"angularaxis\":{\"gridcolor\":\"#506784\",\"linecolor\":\"#506784\",\"ticks\":\"\"},\"radialaxis\":{\"gridcolor\":\"#506784\",\"linecolor\":\"#506784\",\"ticks\":\"\"}},\"ternary\":{\"bgcolor\":\"rgb(17,17,17)\",\"aaxis\":{\"gridcolor\":\"#506784\",\"linecolor\":\"#506784\",\"ticks\":\"\"},\"baxis\":{\"gridcolor\":\"#506784\",\"linecolor\":\"#506784\",\"ticks\":\"\"},\"caxis\":{\"gridcolor\":\"#506784\",\"linecolor\":\"#506784\",\"ticks\":\"\"}},\"coloraxis\":{\"colorbar\":{\"outlinewidth\":0,\"ticks\":\"\"}},\"colorscale\":{\"sequential\":[[0.0,\"#0d0887\"],[0.1111111111111111,\"#46039f\"],[0.2222222222222222,\"#7201a8\"],[0.3333333333333333,\"#9c179e\"],[0.4444444444444444,\"#bd3786\"],[0.5555555555555556,\"#d8576b\"],[0.6666666666666666,\"#ed7953\"],[0.7777777777777778,\"#fb9f3a\"],[0.8888888888888888,\"#fdca26\"],[1.0,\"#f0f921\"]],\"sequentialminus\":[[0.0,\"#0d0887\"],[0.1111111111111111,\"#46039f\"],[0.2222222222222222,\"#7201a8\"],[0.3333333333333333,\"#9c179e\"],[0.4444444444444444,\"#bd3786\"],[0.5555555555555556,\"#d8576b\"],[0.6666666666666666,\"#ed7953\"],[0.7777777777777778,\"#fb9f3a\"],[0.8888888888888888,\"#fdca26\"],[1.0,\"#f0f921\"]],\"diverging\":[[0,\"#8e0152\"],[0.1,\"#c51b7d\"],[0.2,\"#de77ae\"],[0.3,\"#f1b6da\"],[0.4,\"#fde0ef\"],[0.5,\"#f7f7f7\"],[0.6,\"#e6f5d0\"],[0.7,\"#b8e186\"],[0.8,\"#7fbc41\"],[0.9,\"#4d9221\"],[1,\"#276419\"]]},\"xaxis\":{\"gridcolor\":\"#283442\",\"linecolor\":\"#506784\",\"ticks\":\"\",\"title\":{\"standoff\":15},\"zerolinecolor\":\"#283442\",\"automargin\":true,\"zerolinewidth\":2},\"yaxis\":{\"gridcolor\":\"#283442\",\"linecolor\":\"#506784\",\"ticks\":\"\",\"title\":{\"standoff\":15},\"zerolinecolor\":\"#283442\",\"automargin\":true,\"zerolinewidth\":2},\"scene\":{\"xaxis\":{\"backgroundcolor\":\"rgb(17,17,17)\",\"gridcolor\":\"#506784\",\"linecolor\":\"#506784\",\"showbackground\":true,\"ticks\":\"\",\"zerolinecolor\":\"#C8D4E3\",\"gridwidth\":2},\"yaxis\":{\"backgroundcolor\":\"rgb(17,17,17)\",\"gridcolor\":\"#506784\",\"linecolor\":\"#506784\",\"showbackground\":true,\"ticks\":\"\",\"zerolinecolor\":\"#C8D4E3\",\"gridwidth\":2},\"zaxis\":{\"backgroundcolor\":\"rgb(17,17,17)\",\"gridcolor\":\"#506784\",\"linecolor\":\"#506784\",\"showbackground\":true,\"ticks\":\"\",\"zerolinecolor\":\"#C8D4E3\",\"gridwidth\":2}},\"shapedefaults\":{\"line\":{\"color\":\"#f2f5fa\"}},\"annotationdefaults\":{\"arrowcolor\":\"#f2f5fa\",\"arrowhead\":0,\"arrowwidth\":1},\"geo\":{\"bgcolor\":\"rgb(17,17,17)\",\"landcolor\":\"rgb(17,17,17)\",\"subunitcolor\":\"#506784\",\"showland\":true,\"showlakes\":true,\"lakecolor\":\"rgb(17,17,17)\"},\"title\":{\"x\":0.05},\"updatemenudefaults\":{\"bgcolor\":\"#506784\",\"borderwidth\":0},\"sliderdefaults\":{\"bgcolor\":\"#C8D4E3\",\"borderwidth\":1,\"bordercolor\":\"rgb(17,17,17)\",\"tickwidth\":0},\"mapbox\":{\"style\":\"dark\"}}},\"title\":{\"text\":\"\\u0433\\u0440\\u0430\\u043d\\u0438\\u0446\\u044b \\u043a\\u0443\\u0431\\u0430 \\u0438 \\u0433\\u0440\\u0430\\u043d\\u0438\\u0446\\u044b \\u0440\\u0430\\u0437\\u043b\\u043e\\u043c\\u043e\\u0432, \\u0432\\u0438\\u0434 \\u0441\\u0431\\u043e\\u043a\\u0443\"},\"xaxis\":{\"title\":{\"text\":\"\\u0418\\u043d\\u043b\\u0430\\u0439\\u043d\\u044b\"}},\"yaxis\":{\"title\":{\"text\":\"\\u0413\\u043b\\u0443\\u0431\\u0438\\u043d\\u044b\"}},\"showlegend\":true},                        {\"responsive\": true}                    ).then(function(){\n                            \nvar gd = document.getElementById('70b58ce3-66de-4292-9219-db902d009f08');\nvar x = new MutationObserver(function (mutations, observer) {{\n        var display = window.getComputedStyle(gd).display;\n        if (!display || display === 'none') {{\n            console.log([gd, 'removed!']);\n            Plotly.purge(gd);\n            observer.disconnect();\n        }}\n}});\n\n// Listen for the removal of the full notebook cells\nvar notebookContainer = gd.closest('#notebook-container');\nif (notebookContainer) {{\n    x.observe(notebookContainer, {childList: true});\n}}\n\n// Listen for the clearing of the current output cell\nvar outputEl = gd.closest('.output');\nif (outputEl) {{\n    x.observe(outputEl, {childList: true});\n}}\n\n                        })                };                });            </script>        </div>"
     },
     "metadata": {},
     "output_type": "display_data"
    }
   ],
   "source": [
    "plot_verh(poligon_cub_sboky, polygons_xz, 1)"
   ],
   "metadata": {
    "collapsed": false,
    "ExecuteTime": {
     "end_time": "2024-12-13T07:58:13.966932400Z",
     "start_time": "2024-12-13T07:58:13.931453400Z"
    }
   },
   "id": "8bf28d9cb4a08cd2",
   "execution_count": 128
  },
  {
   "cell_type": "code",
   "outputs": [],
   "source": [],
   "metadata": {
    "collapsed": false
   },
   "id": "5d1d70dc73a4da1"
  },
  {
   "cell_type": "code",
   "outputs": [],
   "source": [],
   "metadata": {
    "collapsed": false
   },
   "id": "b1623e488a6f115"
  }
 ],
 "metadata": {
  "kernelspec": {
   "display_name": "Python 3",
   "language": "python",
   "name": "python3"
  },
  "language_info": {
   "codemirror_mode": {
    "name": "ipython",
    "version": 2
   },
   "file_extension": ".py",
   "mimetype": "text/x-python",
   "name": "python",
   "nbconvert_exporter": "python",
   "pygments_lexer": "ipython2",
   "version": "2.7.6"
  }
 },
 "nbformat": 4,
 "nbformat_minor": 5
}
