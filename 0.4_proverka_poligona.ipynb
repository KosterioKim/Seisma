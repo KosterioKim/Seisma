{
 "cells": [
  {
   "cell_type": "code",
   "execution_count": 1,
   "id": "initial_id",
   "metadata": {
    "collapsed": true,
    "ExecuteTime": {
     "end_time": "2024-10-14T05:02:51.521336900Z",
     "start_time": "2024-10-14T05:02:51.514593200Z"
    }
   },
   "outputs": [],
   "source": [
    "def test_polygon(file_path):\n",
    "   with open(file_path, 'r') as file:\n",
    "       data = file.read()\n",
    "       polygons = data.split('999.0 999.0 999.0\\n')\n",
    "\n",
    "       for polygon in polygons:\n",
    "           if polygon.strip():\n",
    "               points = polygon.strip().split('\\n')\n",
    "               if points[0] == points[-1]:\n",
    "                   print(\"Полигон замкнут\")\n",
    "               else:\n",
    "                   i = -2\n",
    "                   while i > -1*(len(points)-2):\n",
    "                       if points[i] == points[0]:\n",
    "                           print(\"Полигон замкнут, но есть точка вне полигона\")\n",
    "                           for j in range(1, i*(-1)):\n",
    "                               print(points[j*(-1)])\n",
    "                           break\n",
    "                       else:\n",
    "                           i-=1\n",
    "                   if i == -1*(len(points)-2):\n",
    "                       print(\"Полигон не замкнут\")\n"
   ]
  },
  {
   "cell_type": "code",
   "outputs": [
    {
     "name": "stdout",
     "output_type": "stream",
     "text": [
      "Тест лицензионного участка\n",
      "Полигон замкнут\n"
     ]
    }
   ],
   "source": [
    "print('Тест лицензионного участка')\n",
    "test_polygon('C:/HV/Seismic/datas/Licence_area_boundary_IRAP_ASCII.txt')"
   ],
   "metadata": {
    "collapsed": false,
    "ExecuteTime": {
     "end_time": "2024-10-14T05:02:53.208597100Z",
     "start_time": "2024-10-14T05:02:53.205604900Z"
    }
   },
   "id": "3a55874ccbbb57d0",
   "execution_count": 2
  },
  {
   "cell_type": "code",
   "outputs": [
    {
     "name": "stdout",
     "output_type": "stream",
     "text": [
      "Тест области моделирования\n",
      "Полигон замкнут\n"
     ]
    }
   ],
   "source": [
    "print('Тест области моделирования')\n",
    "test_polygon('C:/HV/Seismic/datas/Model_area_boundary_IRAP_ASCII.txt')"
   ],
   "metadata": {
    "collapsed": false,
    "ExecuteTime": {
     "end_time": "2024-10-14T05:02:56.331247900Z",
     "start_time": "2024-10-14T05:02:56.327257100Z"
    }
   },
   "id": "684076659a3eb1a2",
   "execution_count": 3
  },
  {
   "cell_type": "code",
   "outputs": [],
   "source": [],
   "metadata": {
    "collapsed": false
   },
   "id": "d5015deaada2c288"
  }
 ],
 "metadata": {
  "kernelspec": {
   "display_name": "Python 3",
   "language": "python",
   "name": "python3"
  },
  "language_info": {
   "codemirror_mode": {
    "name": "ipython",
    "version": 2
   },
   "file_extension": ".py",
   "mimetype": "text/x-python",
   "name": "python",
   "nbconvert_exporter": "python",
   "pygments_lexer": "ipython2",
   "version": "2.7.6"
  }
 },
 "nbformat": 4,
 "nbformat_minor": 5
}
