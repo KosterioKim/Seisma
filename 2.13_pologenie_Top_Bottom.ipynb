{
 "cells": [
  {
   "cell_type": "code",
   "execution_count": 2,
   "id": "initial_id",
   "metadata": {
    "collapsed": true,
    "ExecuteTime": {
     "end_time": "2024-10-15T06:43:32.753819300Z",
     "start_time": "2024-10-15T06:43:32.751320800Z"
    }
   },
   "outputs": [],
   "source": [
    "import numpy as np\n",
    "import matplotlib.pyplot as plt\n",
    "import segyio\n",
    "import matplotlib.patches as patches\n",
    "from shapely.geometry import Polygon\n",
    "import pandas as pd\n",
    "import re\n",
    "import plotly.graph_objects as go\n",
    "import os\n",
    "import random"
   ]
  },
  {
   "cell_type": "code",
   "outputs": [],
   "source": [
    "def gorizont_coord(file):\n",
    "   with open(file, 'r') as f:\n",
    "       gorizon = []\n",
    "       for line in f:\n",
    "           if not line.startswith('#'):  # Пропуск строк, начинающихся с #\n",
    "               x, y, z, *rest = line.split()  # Разбиение строки по столбцам\n",
    "               x = int(x.split('.')[0])  # Получение целочисленного значения из первого столбца\n",
    "               y = int(y.split('.')[0])  # Получение целочисленного значения из второго столбца\n",
    "               z = int(z.split('.')[0])  # Получение целочисленного значения из третьего столбца\n",
    "               gorizon.append([x, y, z])  # Добавление данных в словарь\n",
    "          \n",
    "   return gorizon"
   ],
   "metadata": {
    "collapsed": false,
    "ExecuteTime": {
     "end_time": "2024-10-15T06:43:36.388876500Z",
     "start_time": "2024-10-15T06:43:36.385884700Z"
    }
   },
   "id": "cb7e5d21ca09f1b",
   "execution_count": 3
  },
  {
   "cell_type": "code",
   "outputs": [],
   "source": [
    "Top_TWT = gorizont_coord('C:/HV/Seismic/datas/TWT_Top_U1.txt')"
   ],
   "metadata": {
    "collapsed": false,
    "ExecuteTime": {
     "end_time": "2024-10-15T06:47:46.750124400Z",
     "start_time": "2024-10-15T06:47:46.587693800Z"
    }
   },
   "id": "bc43b5daa1ebfa61",
   "execution_count": 11
  },
  {
   "cell_type": "code",
   "outputs": [],
   "source": [
    "Bottom_TWT = gorizont_coord('C:/HV/Seismic/datas/TWT_Bottom_U1.txt')"
   ],
   "metadata": {
    "collapsed": false,
    "ExecuteTime": {
     "end_time": "2024-10-15T06:47:51.961062600Z",
     "start_time": "2024-10-15T06:47:51.792073900Z"
    }
   },
   "id": "6270d03cc91a74cf",
   "execution_count": 12
  },
  {
   "cell_type": "code",
   "outputs": [
    {
     "name": "stdout",
     "output_type": "stream",
     "text": [
      "[[445946, 7004198, -2294], [445996, 7004198, -2294], [446046, 7004198, -2295], [446096, 7004198, -2296], [446146, 7004198, -2297], [446196, 7004198, -2297], [446246, 7004198, -2298], [446296, 7004198, -2298], [446346, 7004198, -2299], [446396, 7004198, -2299]]\n",
      "[[445946, 7004198, -2329], [445996, 7004198, -2329], [446046, 7004198, -2330], [446096, 7004198, -2331], [446146, 7004198, -2332], [446196, 7004198, -2333], [446246, 7004198, -2333], [446296, 7004198, -2333], [446346, 7004198, -2333], [446396, 7004198, -2333]]\n"
     ]
    }
   ],
   "source": [
    "print(Top_TWT[0:10])\n",
    "print(Bottom_TWT[0:10])"
   ],
   "metadata": {
    "collapsed": false,
    "ExecuteTime": {
     "end_time": "2024-10-15T06:47:58.271511900Z",
     "start_time": "2024-10-15T06:47:58.269515900Z"
    }
   },
   "id": "3c36a138ef952591",
   "execution_count": 13
  },
  {
   "cell_type": "code",
   "outputs": [
    {
     "name": "stdout",
     "output_type": "stream",
     "text": [
      "80080\n",
      "80080\n"
     ]
    }
   ],
   "source": [
    "print(len(Top_TWT))\n",
    "print(len(Bottom_TWT))"
   ],
   "metadata": {
    "collapsed": false,
    "ExecuteTime": {
     "end_time": "2024-10-15T06:48:07.350456900Z",
     "start_time": "2024-10-15T06:48:07.347955100Z"
    }
   },
   "id": "6ce07dc0d76ac5e0",
   "execution_count": 14
  },
  {
   "cell_type": "code",
   "outputs": [],
   "source": [
    "def proverka(top, bottom):\n",
    "    otr_value = []\n",
    "    for i in range(len(top)):\n",
    "        if top[i][2] - bottom[i][2] < 0:\n",
    "            otr_value.append([top[i][0], Top_TWT[i][1]])\n",
    "    return otr_value"
   ],
   "metadata": {
    "collapsed": false,
    "ExecuteTime": {
     "end_time": "2024-10-15T06:51:09.405861900Z",
     "start_time": "2024-10-15T06:51:09.400876200Z"
    }
   },
   "id": "462c6c9e400a04e7",
   "execution_count": 18
  },
  {
   "cell_type": "code",
   "outputs": [],
   "source": [
    "otr_value_TWT = proverka(Top_TWT, Bottom_TWT)"
   ],
   "metadata": {
    "collapsed": false,
    "ExecuteTime": {
     "end_time": "2024-10-15T06:51:10.282213400Z",
     "start_time": "2024-10-15T06:51:10.268719600Z"
    }
   },
   "id": "f4cf30c9f0b482b5",
   "execution_count": 19
  },
  {
   "cell_type": "code",
   "outputs": [
    {
     "name": "stdout",
     "output_type": "stream",
     "text": [
      "0\n"
     ]
    }
   ],
   "source": [
    "print(len(otr_value_TWT))"
   ],
   "metadata": {
    "collapsed": false,
    "ExecuteTime": {
     "end_time": "2024-10-15T06:51:10.882717900Z",
     "start_time": "2024-10-15T06:51:10.875738600Z"
    }
   },
   "id": "93501de522f300e6",
   "execution_count": 20
  },
  {
   "cell_type": "code",
   "outputs": [],
   "source": [
    "Top_TVDSS = gorizont_coord('C:/HV/Seismic/datas/TVDSS_Top_U1.txt')\n",
    "Bottom_TVDSS = gorizont_coord('C:/HV/Seismic/datas/TVDSS_Bottom_U1.txt')"
   ],
   "metadata": {
    "collapsed": false,
    "ExecuteTime": {
     "end_time": "2024-10-15T06:51:13.342106400Z",
     "start_time": "2024-10-15T06:51:13.056493100Z"
    }
   },
   "id": "f17ff845f3747537",
   "execution_count": 21
  },
  {
   "cell_type": "code",
   "outputs": [],
   "source": [
    "otr_value_TVDSS = proverka(Top_TVDSS, Bottom_TVDSS)"
   ],
   "metadata": {
    "collapsed": false,
    "ExecuteTime": {
     "end_time": "2024-10-15T06:51:30.019584100Z",
     "start_time": "2024-10-15T06:51:30.011438900Z"
    }
   },
   "id": "911d29b45c402e95",
   "execution_count": 22
  },
  {
   "cell_type": "code",
   "outputs": [
    {
     "name": "stdout",
     "output_type": "stream",
     "text": [
      "0\n"
     ]
    }
   ],
   "source": [
    "print(len(otr_value_TVDSS))"
   ],
   "metadata": {
    "collapsed": false,
    "ExecuteTime": {
     "end_time": "2024-10-15T06:51:42.087926700Z",
     "start_time": "2024-10-15T06:51:42.081943100Z"
    }
   },
   "id": "dbc9511049f20409",
   "execution_count": 23
  },
  {
   "cell_type": "code",
   "outputs": [],
   "source": [],
   "metadata": {
    "collapsed": false
   },
   "id": "3651c3fa06ce743"
  }
 ],
 "metadata": {
  "kernelspec": {
   "display_name": "Python 3",
   "language": "python",
   "name": "python3"
  },
  "language_info": {
   "codemirror_mode": {
    "name": "ipython",
    "version": 2
   },
   "file_extension": ".py",
   "mimetype": "text/x-python",
   "name": "python",
   "nbconvert_exporter": "python",
   "pygments_lexer": "ipython2",
   "version": "2.7.6"
  }
 },
 "nbformat": 4,
 "nbformat_minor": 5
}
