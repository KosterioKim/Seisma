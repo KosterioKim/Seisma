{
 "cells": [
  {
   "cell_type": "code",
   "execution_count": 174,
   "id": "initial_id",
   "metadata": {
    "collapsed": true,
    "ExecuteTime": {
     "end_time": "2024-10-29T07:26:09.245926100Z",
     "start_time": "2024-10-29T07:26:09.227926900Z"
    }
   },
   "outputs": [],
   "source": [
    "import segyio\n",
    "import matplotlib.patches as patches\n",
    "import pandas as pd\n",
    "import re\n",
    "import plotly.graph_objects as go\n",
    "import os\n",
    "import random\n",
    "import matplotlib.pyplot as plt\n",
    "import numpy as np\n",
    "from scipy.spatial import ConvexHull\n",
    "from shapely.geometry import Polygon\n"
   ]
  },
  {
   "cell_type": "code",
   "outputs": [],
   "source": [
    "def read_seismic_cube(file_path):\n",
    "  \"\"\"\n",
    "  :param file_path: Путь к файлу\n",
    "  :return: возвращает куб в виде списков по Inlines, Xlines и Sampels (координаты x, y, z)\n",
    "  а также словарь сейсмотрасс, где ключ это координата пересечения Inlines и Xlines, а значение это список значений сейсмотрасс\n",
    "  \"\"\"\n",
    "  with segyio.open(file_path, 'r') as segyfile:\n",
    "      x = list(segyfile.ilines)\n",
    "      y = list(segyfile.xlines)\n",
    "      z_0 = list(segyfile.samples)\n",
    "      z = list()\n",
    "      for i in range(len(z_0)):\n",
    "          z.append(int(z_0[i]))\n",
    "      cube = segyio.tools.cube(segyfile)\n",
    "      #traces = {f\"{x[i]}_{y[j]}\": cube[i][j][:] for i in range(len(x)) for j in range(len(y))}\n",
    "  return x, y, z"
   ],
   "metadata": {
    "collapsed": false,
    "ExecuteTime": {
     "end_time": "2024-10-29T07:26:10.202921300Z",
     "start_time": "2024-10-29T07:26:10.165946400Z"
    }
   },
   "id": "f5f94d9667ca07e2",
   "execution_count": 175
  },
  {
   "cell_type": "code",
   "outputs": [],
   "source": [
    "file_path = 'C:/HV/Seismic/datas/Cube_TWT.segy'\n",
    "inlines, xlines, samples = read_seismic_cube(file_path)"
   ],
   "metadata": {
    "collapsed": false,
    "ExecuteTime": {
     "end_time": "2024-10-29T07:26:12.792801100Z",
     "start_time": "2024-10-29T07:26:10.979331900Z"
    }
   },
   "id": "14c5ffe2593249d4",
   "execution_count": 176
  },
  {
   "cell_type": "code",
   "outputs": [],
   "source": [
    "cube = []\n",
    "for i in range(len(xlines)):\n",
    "    for j in range(len(inlines)):\n",
    "        cube.append([xlines[i], inlines[j]])"
   ],
   "metadata": {
    "collapsed": false,
    "ExecuteTime": {
     "end_time": "2024-10-29T07:26:13.305915Z",
     "start_time": "2024-10-29T07:26:12.793801500Z"
    }
   },
   "id": "9a6327eb7d7937dd",
   "execution_count": 177
  },
  {
   "cell_type": "code",
   "outputs": [
    {
     "name": "stdout",
     "output_type": "stream",
     "text": [
      "[[5001, 1001], [5001, 1002], [5001, 1003], [5001, 1004], [5001, 1005], [5001, 1006], [5001, 1007], [5001, 1008], [5001, 1009], [5001, 1010]]\n"
     ]
    }
   ],
   "source": [
    "print(cube[0:10])"
   ],
   "metadata": {
    "collapsed": false,
    "ExecuteTime": {
     "end_time": "2024-10-29T07:26:14.226916800Z",
     "start_time": "2024-10-29T07:26:14.187917200Z"
    }
   },
   "id": "86b971640e35abc1",
   "execution_count": 178
  },
  {
   "cell_type": "code",
   "outputs": [],
   "source": [
    "def read_seismic_cube_real(file_path):\n",
    "    \"\"\"\n",
    "  :param file_path: Путь к файлу\n",
    "  :return: возвращает реальные координаты x, y\n",
    "  \"\"\"\n",
    "    with segyio.open(file_path, 'r') as segyfile:\n",
    "        x = list(segyfile.ilines)\n",
    "        y = list(segyfile.xlines)\n",
    "        z = list(segyfile.samples)\n",
    "        coord_x = set()\n",
    "        coord_y = set()\n",
    "        cube_coord = []\n",
    "        for i in range(len(x)):\n",
    "            for j in range(len(y)):\n",
    "                index = i * len(y) + j\n",
    "                trace_header = segyfile.header[index]\n",
    "                cube_coord.append([trace_header[segyio.TraceField.SourceX], trace_header[segyio.TraceField.SourceY]])\n",
    "                #coord_x.add(trace_header[segyio.TraceField.SourceX])\n",
    "                #coord_y.add(trace_header[segyio.TraceField.SourceY])\n",
    "    return cube_coord"
   ],
   "metadata": {
    "collapsed": false,
    "ExecuteTime": {
     "end_time": "2024-10-29T07:26:15.539088300Z",
     "start_time": "2024-10-29T07:26:15.522090600Z"
    }
   },
   "id": "9a516217cb56f440",
   "execution_count": 179
  },
  {
   "cell_type": "code",
   "outputs": [],
   "source": [
    "file_path = 'C:/HV/Seismic/datas/Cube_TWT.segy'\n",
    "real_cube = read_seismic_cube_real(file_path)"
   ],
   "metadata": {
    "collapsed": false,
    "ExecuteTime": {
     "end_time": "2024-10-29T07:26:59.560119100Z",
     "start_time": "2024-10-29T07:26:57.249482800Z"
    }
   },
   "id": "fea18e72848e87ab",
   "execution_count": 182
  },
  {
   "cell_type": "code",
   "outputs": [],
   "source": [
    "table_result = [['Проверка по оси ХУ', 'TWT_cube', 'Volume_attribute_1', 'Volume_attribute_2', 'top_surface_TWT', 'bot_surface_TWT', 'Surface_attribute', 'Fault_polygons_TWT', 'top_surface_TVDSS', 'bot_surface_TVDSS', 'lateral_trend', 'model_area_boundary', 'licence_area_boundary'],\n",
    "                ['TWT_cube', 'x', 'x', 'x', 'x', 'x', 'x', 'x', 'x', 'x', 'x', 'x', 'x'], \n",
    "                ['Volume_attribute 1', 'x', 'x', 'x', 'x', 'x', 'x', 'x', 'x', 'x', 'x', 'x', 'x'], \n",
    "                ['Volume_attribute 2', 'x', 'x', 'x', 'x', 'x', 'x', 'x', 'x', 'x', 'x', 'x', 'x'],\n",
    "                ['top_surface_TWT', 'x', 'x', 'x', 'x', 'x', 'x', 'x', 'x', 'x', 'x', 'x', 'x'], \n",
    "                ['bot_surface_TWT', 'x', 'x', 'x', 'x', 'x', 'x', 'x', 'x', 'x', 'x', 'x', 'x'],\n",
    "                ['Surface_attribute', 'x', 'x', 'x', 'x', 'x', 'x', 'x', 'x', 'x', 'x', 'x', 'x'], \n",
    "                ['Fault_polygons_TWT', 'x', 'x', 'x', 'x', 'x', 'x', 'x', 'x', 'x', 'x', 'x', 'x'], \n",
    "                ['top_surface_TVDSS', 'x', 'x', 'x', 'x', 'x', 'x', 'x', 'x', 'x', 'x', 'x', 'x'], \n",
    "                ['bot_surface_TVDSS', 'x', 'x', 'x', 'x', 'x', 'x', 'x', 'x', 'x', 'x', 'x', 'x'], \n",
    "                ['lateral_trend', 'x', 'x', 'x', 'x', 'x', 'x', 'x', 'x', 'x', 'x', 'x', 'x'], \n",
    "                ['model_area_boundary', 'x', 'x', 'x', 'x', 'x', 'x', 'x', 'x', 'x', 'x', 'x', 'x'], \n",
    "                ['licence_area_boundary', 'x', 'x', 'x', 'x', 'x', 'x', 'x', 'x', 'x', 'x', 'x', 'x'] \n",
    "                ]"
   ],
   "metadata": {
    "collapsed": false,
    "ExecuteTime": {
     "end_time": "2024-10-29T05:13:59.828885200Z",
     "start_time": "2024-10-29T05:13:59.814950100Z"
    }
   },
   "id": "19c5a0f0a3f164f2",
   "execution_count": 117
  },
  {
   "cell_type": "code",
   "outputs": [],
   "source": [
    "\n",
    "def peresechenie(coords_polygon1, coords_polygon2, flag, name_polygon1='Полигон 1', name_polygon2='Полигон 2'):\n",
    "    print('Сравнение ', name_polygon1, ' и ', name_polygon2)\n",
    "    # Создаем полигоны\n",
    "    polygon1 = Polygon(coords_polygon1)\n",
    "    polygon2 = Polygon(coords_polygon2)\n",
    "    \n",
    "    # Находим пересечение\n",
    "    intersection = polygon1.intersection(polygon2)\n",
    "    \n",
    "    # Вычисляем площади\n",
    "    area_polygon1 = polygon1.area\n",
    "    area_polygon2 = polygon2.area\n",
    "    area_intersection = intersection.area\n",
    "    \n",
    "    # Выводим общую площадь пересечения\n",
    "    if intersection.is_empty:\n",
    "        print(\"Полигоны не пересекаются.\")\n",
    "    else:\n",
    "        print(\"Общая площадь пересечения:\", area_intersection)\n",
    "    \n",
    "        # Вычисляем процент пересечения\n",
    "        percent_intersection_polygon1 = (area_intersection / area_polygon1) * 100\n",
    "        percent_intersection_polygon2 = (area_intersection / area_polygon2) * 100\n",
    "    \n",
    "        print(f\"Процент пересечения относительно {name_polygon1}: {percent_intersection_polygon1:.2f}%\")\n",
    "        print(f\"Процент пересечения относительно {name_polygon2}: {percent_intersection_polygon2:.2f}%\")\n",
    "        \n",
    "    \n",
    "    \n",
    "    if flag == 1:\n",
    "        # Визуализация\n",
    "        fig, ax = plt.subplots()\n",
    "\n",
    "    # Отображаем первый полигон\n",
    "        x1, y1 = polygon1.exterior.xy\n",
    "        ax.fill(x1, y1, alpha=0.5, fc='blue', label=name_polygon1)\n",
    "\n",
    "    # Отображаем второй полигон\n",
    "        x2, y2 = polygon2.exterior.xy\n",
    "        ax.fill(x2, y2, alpha=0.5, fc='red', label=name_polygon2)\n",
    "\n",
    "    # Отображаем пересечение\n",
    "        if not intersection.is_empty:\n",
    "            x_int, y_int = intersection.exterior.xy\n",
    "            ax.fill(x_int, y_int, alpha=0.5, fc='green', label='Пересечение')\n",
    "\n",
    "    # Настройки графика\n",
    "        ax.set_title(f'Пересечение: {name_polygon1} и {name_polygon2}')\n",
    "        ax.set_xlabel('Xlines')\n",
    "        ax.set_ylabel('Inlines')\n",
    "        ax.legend()\n",
    "        ax.set_aspect('equal', adjustable='box')\n",
    "        plt.grid()\n",
    "    # Добавление легенды справа от графика\n",
    "        ax.legend(loc='upper left', bbox_to_anchor=(1, 1))  # Положение легенды\n",
    "        plt.show()\n",
    "    \n",
    "    return percent_intersection_polygon1, percent_intersection_polygon2\n"
   ],
   "metadata": {
    "collapsed": false,
    "ExecuteTime": {
     "end_time": "2024-10-29T09:13:53.112728900Z",
     "start_time": "2024-10-29T09:13:52.983087Z"
    }
   },
   "id": "648dee6dbbeb0925",
   "execution_count": 302
  },
  {
   "cell_type": "code",
   "outputs": [],
   "source": [
    "#Функция сравнения для разломов\n",
    "def peresechenie_2(coords_polygon1, coords_polygon2_list, flag,  name_polygon1='Полигон 1', name_polygon2='Полигон 2'):\n",
    "    print('Сравнение ', name_polygon1, ' и ', name_polygon2)\n",
    "    # Создаем первый полигон\n",
    "    polygon1 = Polygon(coords_polygon1)\n",
    "    \n",
    "    if flag == 1:\n",
    "    # Визуализация\n",
    "        fig, ax = plt.subplots()\n",
    "\n",
    "    # Отображаем первый полигон\n",
    "        x1, y1 = polygon1.exterior.xy\n",
    "        ax.fill(x1, y1, alpha=0.5, fc='blue', label=name_polygon1)\n",
    "\n",
    "    # Переменные для хранения результатов\n",
    "    total_area_intersection = 0\n",
    "    total_area_polygon2 = 0\n",
    "\n",
    "    # Обрабатываем каждый полигон из списка coords_polygon2_list\n",
    "    for coords_polygon2 in coords_polygon2_list:\n",
    "        # Создаем второй полигон\n",
    "        polygon2 = Polygon(coords_polygon2)\n",
    "        \n",
    "        # Находим пересечение\n",
    "        intersection = polygon1.intersection(polygon2)\n",
    "        \n",
    "        # Вычисляем площади\n",
    "        area_polygon2 = polygon2.area\n",
    "        total_area_polygon2 += area_polygon2\n",
    "        \n",
    "        # Выводим общую площадь пересечения\n",
    "        if intersection.is_empty:\n",
    "            #print(f\"Полигоны {name_polygon1} и {name_polygon2} не пересекаются.\")\n",
    "            total_area_intersection += 0\n",
    "        else:\n",
    "            area_intersection = intersection.area\n",
    "            total_area_intersection += area_intersection\n",
    "    print(f\"Общая площадь пересечения: {total_area_intersection}\")\n",
    "    if total_area_intersection == 0:\n",
    "        print(f\"Полигоны {name_polygon1} и {name_polygon2} не пересекаются.\")\n",
    "\n",
    "    # Вычисляем процент пересечения\n",
    "    if total_area_intersection > 0:\n",
    "        percent_intersection_polygon1 = (total_area_intersection / polygon1.area) * 100\n",
    "        percent_intersection_polygon2 = (total_area_intersection / total_area_polygon2) * 100\n",
    "        \n",
    "        print(f\"Суммарный процент пересечения относительно {name_polygon1}: {percent_intersection_polygon1:.2f}%\")\n",
    "        print(f\"Суммарный процент пересечения относительно {name_polygon2}: {percent_intersection_polygon2:.2f}%\")\n",
    "    \n",
    "    if flag == 1:\n",
    "    \n",
    "    # Повторный проход для отображения полигонов и их пересечений\n",
    "        for coords_polygon2 in coords_polygon2_list:\n",
    "            polygon2 = Polygon(coords_polygon2)\n",
    "            x2, y2 = polygon2.exterior.xy\n",
    "            ax.fill(x2, y2, alpha=0.5, fc='red')  # Легенда только с названием полигона 2\n",
    "\n",
    "        # Находим пересечение заново для отображения\n",
    "            intersection = polygon1.intersection(polygon2)\n",
    "            if not intersection.is_empty:\n",
    "                if intersection.geom_type == 'Polygon':\n",
    "                    x_int, y_int = intersection.exterior.xy\n",
    "                    ax.fill(x_int, y_int, alpha=0.5, fc='green', label='Пересечение')\n",
    "                elif intersection.geom_type == 'LineString':\n",
    "                    x_int, y_int = intersection.xy\n",
    "                    ax.plot(x_int, y_int, color='green', linewidth=2, label='Пересечение')\n",
    "                elif intersection.geom_type == 'Point':\n",
    "                    x_int, y_int = intersection.x, intersection.y\n",
    "                    ax.plot(x_int, y_int, 'go', markersize=8, label='Пересечение')\n",
    "\n",
    "    # Настройки графика\n",
    "        ax.set_title(f'Пересечение: {name_polygon1} и {name_polygon2}')\n",
    "        ax.set_xlabel('Xlines')\n",
    "        ax.set_ylabel('Inlines')\n",
    "        ax.legend([name_polygon1, 'Пересечение', name_polygon2], loc='upper left', bbox_to_anchor=(1, 1))  # Обновленная легенда\n",
    "        ax.set_aspect('equal', adjustable='box')\n",
    "        plt.grid()\n",
    "        plt.tight_layout()  # Подгоняем график, чтобы он не выходил за пределы области\n",
    "        plt.show()\n",
    "    \n",
    "    return percent_intersection_polygon1, percent_intersection_polygon2\n",
    "\n",
    "\n"
   ],
   "metadata": {
    "collapsed": false,
    "ExecuteTime": {
     "end_time": "2024-10-29T09:25:07.278452700Z",
     "start_time": "2024-10-29T09:25:07.125995800Z"
    }
   },
   "id": "7c02a0061faff946",
   "execution_count": 310
  },
  {
   "cell_type": "code",
   "outputs": [],
   "source": [
    "def create_convex_hull(coords):\n",
    "    \"\"\"\n",
    "    Создает полигон (выпуклую оболочку) из списка координат.\n",
    "\n",
    "    :param coords: Список координат в формате [[x1, y1], [x2, y2], ...]\n",
    "    :return: Объект Polygon, представляющий выпуклую оболочку\n",
    "    \"\"\"\n",
    "    if len(coords) < 3:\n",
    "        raise ValueError(\"Для создания полигона необходимо как минимум 3 точки.\")\n",
    "\n",
    "    # Преобразуем список координат в массив NumPy \n",
    "    points = np.array(coords)\n",
    "\n",
    "    # Находим выпуклую оболочку\n",
    "    hull = ConvexHull(points)\n",
    "\n",
    "    # Извлекаем координаты вершин выпуклой оболочки \n",
    "    hull_points = points[hull.vertices]\n",
    "\n",
    "    # Создаем полигон\n",
    "    polygon = Polygon(hull_points)\n",
    "    return polygon"
   ],
   "metadata": {
    "collapsed": false,
    "ExecuteTime": {
     "end_time": "2024-10-29T07:27:11.064303100Z",
     "start_time": "2024-10-29T07:27:11.045307800Z"
    }
   },
   "id": "cfcade6cd1234a98",
   "execution_count": 184
  },
  {
   "cell_type": "code",
   "outputs": [],
   "source": [
    "TWT_cube = create_convex_hull(cube)\n",
    "TWT_cube_real = create_convex_hull(real_cube)"
   ],
   "metadata": {
    "collapsed": false,
    "ExecuteTime": {
     "end_time": "2024-10-29T07:27:12.110055300Z",
     "start_time": "2024-10-29T07:27:11.849056500Z"
    }
   },
   "id": "b22275f3e44daa44",
   "execution_count": 185
  },
  {
   "cell_type": "code",
   "outputs": [],
   "source": [
    "#ридер для объемных атрибутов\n",
    "def rider(file_path):\n",
    "    with segyio.open(file_path, 'r') as segyfile:\n",
    "        y = [i for i in segyfile.xlines]\n",
    "        x = [i for i in segyfile.ilines]\n",
    "        cube_coord = []\n",
    "        for i in range(len(y)):\n",
    "            for j in range(len(x)):\n",
    "                cube_coord.append([y[i], x[j]])\n",
    "    return cube_coord"
   ],
   "metadata": {
    "collapsed": false,
    "ExecuteTime": {
     "end_time": "2024-10-29T05:14:06.152078700Z",
     "start_time": "2024-10-29T05:14:06.144386100Z"
    }
   },
   "id": "e2bbcb7a2a30090a",
   "execution_count": 121
  },
  {
   "cell_type": "code",
   "outputs": [],
   "source": [],
   "metadata": {
    "collapsed": false,
    "ExecuteTime": {
     "end_time": "2024-10-29T05:14:07.172677100Z",
     "start_time": "2024-10-29T05:14:06.857198Z"
    }
   },
   "id": "da76cee0e4bd3c50",
   "execution_count": 122
  },
  {
   "cell_type": "code",
   "outputs": [],
   "source": [
    "Volume_attribute_1 = create_convex_hull(read_seismic_cube_real('C:/HV/Seismic/datas/Volume_attribute1_RMS_TWT.segy'))"
   ],
   "metadata": {
    "collapsed": false,
    "ExecuteTime": {
     "end_time": "2024-10-29T08:50:03.349441400Z",
     "start_time": "2024-10-29T08:50:01.457274700Z"
    }
   },
   "id": "54ecfb40732d1daa",
   "execution_count": 267
  },
  {
   "cell_type": "code",
   "outputs": [],
   "source": [
    "Volume_attribute_2 = create_convex_hull(read_seismic_cube_real('C:/HV/Seismic/datas/Volume_attribute2_Amplitude_contrast_TWT.segy'))"
   ],
   "metadata": {
    "collapsed": false,
    "ExecuteTime": {
     "end_time": "2024-10-29T08:50:14.784849Z",
     "start_time": "2024-10-29T08:50:12.396562Z"
    }
   },
   "id": "f6bfa441b10f62b5",
   "execution_count": 269
  },
  {
   "cell_type": "code",
   "outputs": [],
   "source": [
    "# ридер для карты кровли и подошвы\n",
    "def gorizont_coord(file):\n",
    "    with open(file, 'r') as f:\n",
    "        gorizon = []\n",
    "        for line in f:\n",
    "            if not line.startswith('#'):  # Пропуск строк, начинающихся с #\n",
    "                x, y, z, *rest = line.split()  # Разбиение строки по столбцам\n",
    "                x = int(x.split('.')[0])  # Получение целочисленного значения из первого столбца\n",
    "                y = int(y.split('.')[0])  # Получение целочисленного значения из второго столбца\n",
    "                #z = int(z.split('.')[0])  # Получение целочисленного значения из третьего столбца\n",
    "                gorizon.append([x, y])  # Добавление данных в словарь\n",
    "\n",
    "    return gorizon"
   ],
   "metadata": {
    "collapsed": false,
    "ExecuteTime": {
     "end_time": "2024-10-29T08:24:15.260392600Z",
     "start_time": "2024-10-29T08:24:15.249390800Z"
    }
   },
   "id": "b1a08b73f6abdaaf",
   "execution_count": 224
  },
  {
   "cell_type": "code",
   "outputs": [],
   "source": [
    "top_surface_TWT = create_convex_hull(gorizont_coord('C:/HV/Seismic/datas/TWT_Top_U1.txt'))\n",
    "bot_surface_TWT = create_convex_hull(gorizont_coord('C:/HV/Seismic/datas/TWT_Bottom_U1.txt'))"
   ],
   "metadata": {
    "collapsed": false,
    "ExecuteTime": {
     "end_time": "2024-10-29T08:42:56.562859700Z",
     "start_time": "2024-10-29T08:42:56.349921Z"
    }
   },
   "id": "90b09b7a478062bb",
   "execution_count": 258
  },
  {
   "cell_type": "code",
   "outputs": [],
   "source": [
    "Surface_attribute = create_convex_hull(gorizont_coord('C:/HV/Seismic/datas/Surface_attribute_AmplitudeContrast_HalfEnergy_TWT.txt'))"
   ],
   "metadata": {
    "collapsed": false,
    "ExecuteTime": {
     "end_time": "2024-10-29T08:24:19.262164400Z",
     "start_time": "2024-10-29T08:24:18.493113300Z"
    }
   },
   "id": "de5715e7e6311007",
   "execution_count": 228
  },
  {
   "cell_type": "code",
   "outputs": [],
   "source": [
    "top_surface_TVDSS = create_convex_hull(gorizont_coord('C:/HV/Seismic/datas/TVDSS_Top_U1.txt'))"
   ],
   "metadata": {
    "collapsed": false,
    "ExecuteTime": {
     "end_time": "2024-10-29T09:32:18.040718800Z",
     "start_time": "2024-10-29T09:32:16.569107700Z"
    }
   },
   "id": "8540c93bfbd45323",
   "execution_count": 322
  },
  {
   "cell_type": "code",
   "outputs": [],
   "source": [
    "bot_surface_TVDSS = create_convex_hull(gorizont_coord('C:/HV/Seismic/datas/TVDSS_Bottom_U1.txt'))"
   ],
   "metadata": {
    "collapsed": false,
    "ExecuteTime": {
     "end_time": "2024-10-29T09:32:22.765036900Z",
     "start_time": "2024-10-29T09:32:22.659687600Z"
    }
   },
   "id": "28623afc046534af",
   "execution_count": 323
  },
  {
   "cell_type": "code",
   "outputs": [],
   "source": [
    "lateral_trend = create_convex_hull(gorizont_coord('C:/HV/Seismic/datas/Effective_thickness_calculated_by_surface_attributes.txt'))"
   ],
   "metadata": {
    "collapsed": false,
    "ExecuteTime": {
     "end_time": "2024-10-29T09:32:33.699365700Z",
     "start_time": "2024-10-29T09:32:33.558361800Z"
    }
   },
   "id": "2c6ebd277f8b25da",
   "execution_count": 324
  },
  {
   "cell_type": "code",
   "outputs": [],
   "source": [
    "#для model_area_boundary и licence_area_boundary\n",
    "def read_coordinates(file_path):\n",
    "    coordinates = []\n",
    "    \n",
    "    with open(file_path, 'r') as file:\n",
    "        for line in file:\n",
    "            # Убираем пробелы и разделяем строку на элементы\n",
    "            parts = line.strip().split()\n",
    "            \n",
    "            # Проверяем, что строка не является строкой конца файла\n",
    "            if parts[0] == '999.0' and parts[1] == '999.0' and parts[2] == '999.0':\n",
    "                break\n",
    "            \n",
    "            # Преобразуем первую и вторую колонки в int и добавляем в список\n",
    "            x = int(float(parts[0]))  # Преобразуем в float, а затем в int\n",
    "            y = int(float(parts[1]))  # Преобразуем в float, а затем в int\n",
    "            \n",
    "            coordinates.append([x, y])\n",
    "    \n",
    "    return coordinates\n"
   ],
   "metadata": {
    "collapsed": false,
    "ExecuteTime": {
     "end_time": "2024-10-29T08:24:23.900155400Z",
     "start_time": "2024-10-29T08:24:23.889646900Z"
    }
   },
   "id": "f56523426f37316c",
   "execution_count": 233
  },
  {
   "cell_type": "code",
   "outputs": [],
   "source": [
    "model_area_boundary = create_convex_hull(read_coordinates('C:/HV/Seismic/datas/Model_area_boundary_IRAP_ASCII.txt'))"
   ],
   "metadata": {
    "collapsed": false,
    "ExecuteTime": {
     "end_time": "2024-10-29T09:32:43.068666500Z",
     "start_time": "2024-10-29T09:32:43.047908700Z"
    }
   },
   "id": "168ba393e79cd134",
   "execution_count": 325
  },
  {
   "cell_type": "code",
   "outputs": [],
   "source": [
    "licence_area_boundary = create_convex_hull(read_coordinates('C:/HV/Seismic/datas/Licence_area_boundary_IRAP_ASCII.txt'))"
   ],
   "metadata": {
    "collapsed": false,
    "ExecuteTime": {
     "end_time": "2024-10-29T09:32:49.465396400Z",
     "start_time": "2024-10-29T09:32:49.449057500Z"
    }
   },
   "id": "addb2d0b992c1f01",
   "execution_count": 326
  },
  {
   "cell_type": "code",
   "outputs": [],
   "source": [
    "# ридер для разломов\n",
    "def process_files(directory):\n",
    "    files = os.listdir(directory)\n",
    "    result = {}\n",
    "\n",
    "    for file in files:\n",
    "        if file.endswith('.txt'):\n",
    "            with open(os.path.join(directory, file), 'r') as f:\n",
    "                data = []\n",
    "                for line in f:\n",
    "                    fields = line.split()\n",
    "                    if len(fields) >= 8:\n",
    "                        x = int(float(fields[3]))\n",
    "                        y = int(float(fields[4]))\n",
    "                        z = -int(float(fields[5]))\n",
    "                        t = int(fields[7])\n",
    "                        data.append([x, y, z, t])\n",
    "                result[file] = data\n",
    "    #return result\n",
    "    \n",
    "    \n",
    "    \"\"\"\n",
    "    Сборка координат в один список попарно\n",
    "    Если точек больше 2, то берется минимальное и максимальное значение по глубинам\n",
    "    Если точка 1, то она не учитывается в разломах\n",
    "    \"\"\"\n",
    "    faults_final = {}\n",
    "\n",
    "    for key in result:\n",
    "        dop_spisok = []\n",
    "        z_spisok = []\n",
    "        faults_final[key] = []\n",
    "\n",
    "        for i in range(len(result[key])):\n",
    "            if len(dop_spisok) == 0:\n",
    "                dop_spisok.append(result[key][i])\n",
    "                z_spisok.append(result[key][i][2])\n",
    "            elif len(dop_spisok) == 1:\n",
    "                if dop_spisok[0][3] == result[key][i][3]:\n",
    "                    dop_spisok.append(result[key][i])\n",
    "                    z_spisok.append(result[key][i][2])\n",
    "                else:\n",
    "                    dop_spisok.clear()\n",
    "                    z_spisok.clear()\n",
    "                    dop_spisok.append(result[key][i])\n",
    "                    z_spisok.append(result[key][i][2])\n",
    "            elif len(dop_spisok) == 2:\n",
    "                if dop_spisok[0][3] == result[key][i][3]:\n",
    "                    dop_spisok.append(result[key][i])\n",
    "                    z_spisok.append(result[key][i][2])\n",
    "                else:\n",
    "                    \n",
    "                    #faults_final.append(dop_spisok[:])\n",
    "                    faults_final[key].append(dop_spisok[:])\n",
    "                    dop_spisok.clear()\n",
    "                    z_spisok.clear()\n",
    "                    dop_spisok.append(result[key][i])\n",
    "                    z_spisok.append(result[key][i][2])\n",
    "            else:\n",
    "                if dop_spisok[0][3] == result[key][i][3]:\n",
    "                    dop_spisok.append(result[key][i])\n",
    "                    z_spisok.append(result[key][i][2])\n",
    "                else:\n",
    "                    faults_final[key].append([dop_spisok[z_spisok.index(min(z_spisok))], dop_spisok[z_spisok.index(max(z_spisok))]])\n",
    "                    dop_spisok.clear()\n",
    "                    z_spisok.clear()\n",
    "                    dop_spisok.append(result[key][i])\n",
    "                    z_spisok.append(result[key][i][2])  \n",
    "    return faults_final\n",
    "    \n",
    "    "
   ],
   "metadata": {
    "collapsed": false,
    "ExecuteTime": {
     "end_time": "2024-10-29T05:41:16.796302Z",
     "start_time": "2024-10-29T05:41:16.774792Z"
    }
   },
   "id": "83157ed8cb47c707",
   "execution_count": 167
  },
  {
   "cell_type": "code",
   "outputs": [],
   "source": [
    "directory = 'C:/HV/Seismic/datas/Faults_TWT_Charisma_fault_sticks_ASCII'\n",
    "faults = process_files(directory)"
   ],
   "metadata": {
    "collapsed": false,
    "ExecuteTime": {
     "end_time": "2024-10-29T05:41:17.786531100Z",
     "start_time": "2024-10-29T05:41:17.775375800Z"
    }
   },
   "id": "cbb858090ed083af",
   "execution_count": 168
  },
  {
   "cell_type": "code",
   "outputs": [],
   "source": [
    "faults_coord_top = []\n",
    "j = 0\n",
    "for key in faults:\n",
    "    faults_coord_top.append([])\n",
    "    for i in range(len(faults[key])):\n",
    "        faults_coord_top[j].append([faults[key][i][0][0], faults[key][i][0][1]])\n",
    "    j+=1\n",
    "Fault_polygons_TWT = []\n",
    "for i in range(len(faults_coord_top)):\n",
    "    Fault_polygons_TWT.append(create_convex_hull(faults_coord_top[i]))\n"
   ],
   "metadata": {
    "collapsed": false,
    "ExecuteTime": {
     "end_time": "2024-10-29T09:32:59.511802800Z",
     "start_time": "2024-10-29T09:32:59.472433100Z"
    }
   },
   "id": "e5eada1954a9fd7d",
   "execution_count": 327
  },
  {
   "cell_type": "code",
   "outputs": [
    {
     "name": "stdout",
     "output_type": "stream",
     "text": [
      "Сравнение  TWT_cube  и  Volume_attribute_1\n",
      "Общая площадь пересечения: 236837086.0\n",
      "Процент пересечения относительно TWT_cube: 100.00%\n",
      "Процент пересечения относительно Volume_attribute_1: 100.00%\n",
      "Сравнение  TWT_cube  и  Volume_attribute_2\n",
      "Общая площадь пересечения: 236837086.0\n",
      "Процент пересечения относительно TWT_cube: 100.00%\n",
      "Процент пересечения относительно Volume_attribute_2: 100.00%\n",
      "Сравнение  TWT_cube_real  и  top_surface_TWT\n",
      "Общая площадь пересечения: 198787500.0\n",
      "Процент пересечения относительно TWT_cube_real: 83.93%\n",
      "Процент пересечения относительно top_surface_TWT: 100.00%\n",
      "Сравнение  TWT_cube_real  и  bot_surface_TWT\n",
      "Общая площадь пересечения: 198787500.0\n",
      "Процент пересечения относительно TWT_cube_real: 83.93%\n",
      "Процент пересечения относительно bot_surface_TWT: 100.00%\n",
      "Сравнение  TWT_cube_real  и  Surface_attribute\n",
      "Общая площадь пересечения: 198787500.0\n",
      "Процент пересечения относительно TWT_cube_real: 83.93%\n",
      "Процент пересечения относительно Surface_attribute: 100.00%\n",
      "Сравнение  TWT_cube_real  и  Fault_polygons_TWT\n",
      "Общая площадь пересечения: 6236974.0\n",
      "Суммарный процент пересечения относительно TWT_cube_real: 2.63%\n",
      "Суммарный процент пересечения относительно Fault_polygons_TWT: 100.00%\n",
      "Сравнение  TWT_cube_real  и  top_surface_TVDSS\n",
      "Общая площадь пересечения: 198787500.0\n",
      "Процент пересечения относительно TWT_cube_real: 83.93%\n",
      "Процент пересечения относительно top_surface_TVDSS: 100.00%\n",
      "Сравнение  TWT_cube_real  и  bot_surface_TVDSS\n",
      "Общая площадь пересечения: 198787500.0\n",
      "Процент пересечения относительно TWT_cube_real: 83.93%\n",
      "Процент пересечения относительно bot_surface_TVDSS: 100.00%\n",
      "Сравнение  TWT_cube_real  и  lateral_trend\n",
      "Общая площадь пересечения: 198787500.0\n",
      "Процент пересечения относительно TWT_cube_real: 83.93%\n",
      "Процент пересечения относительно lateral_trend: 100.00%\n",
      "Сравнение  TWT_cube_real  и  model_area_boundary\n",
      "Общая площадь пересечения: 201027798.5\n",
      "Процент пересечения относительно TWT_cube_real: 84.88%\n",
      "Процент пересечения относительно model_area_boundary: 100.00%\n",
      "Сравнение  TWT_cube_real  и  licence_area_boundary\n",
      "Общая площадь пересечения: 102239533.0\n",
      "Процент пересечения относительно TWT_cube_real: 43.17%\n",
      "Процент пересечения относительно licence_area_boundary: 100.00%\n"
     ]
    }
   ],
   "source": [
    "\n",
    "table_result[1][2], table_result[2][1] = peresechenie(TWT_cube_real, Volume_attribute_1, 0, 'TWT_cube', 'Volume_attribute_1')\n",
    "table_result[1][3], table_result[3][1] = peresechenie(TWT_cube_real, Volume_attribute_2, 0,  'TWT_cube', 'Volume_attribute_2')\n",
    "table_result[1][4], table_result[4][1] = peresechenie(TWT_cube_real, top_surface_TWT, 0, 'TWT_cube_real', 'top_surface_TWT')\n",
    "table_result[1][5], table_result[5][1] = peresechenie(TWT_cube_real, bot_surface_TWT, 0, 'TWT_cube_real', 'bot_surface_TWT')\n",
    "table_result[1][6], table_result[6][1] = peresechenie(TWT_cube_real, Surface_attribute, 0, 'TWT_cube_real', 'Surface_attribute')\n",
    "table_result[1][7], table_result[7][1] = peresechenie_2(TWT_cube_real, Fault_polygons_TWT, 0, 'TWT_cube_real', 'Fault_polygons_TWT')\n",
    "table_result[1][8], table_result[8][1] = peresechenie(TWT_cube_real, top_surface_TVDSS, 0, 'TWT_cube_real', 'top_surface_TVDSS')\n",
    "table_result[1][9], table_result[9][1] = peresechenie(TWT_cube_real, bot_surface_TVDSS, 0,'TWT_cube_real', 'bot_surface_TVDSS')\n",
    "table_result[1][10], table_result[10][1] = peresechenie(TWT_cube_real, lateral_trend, 0,'TWT_cube_real', 'lateral_trend')\n",
    "table_result[1][11], table_result[11][1] = peresechenie(TWT_cube_real, model_area_boundary, 0,'TWT_cube_real', 'model_area_boundary')\n",
    "table_result[1][12], table_result[12][1] = peresechenie(TWT_cube_real, licence_area_boundary, 0,'TWT_cube_real', 'licence_area_boundary')"
   ],
   "metadata": {
    "collapsed": false,
    "ExecuteTime": {
     "end_time": "2024-10-29T09:25:14.289907800Z",
     "start_time": "2024-10-29T09:25:14.241224700Z"
    }
   },
   "id": "7fe6845455a805a5",
   "execution_count": 311
  },
  {
   "cell_type": "code",
   "outputs": [
    {
     "name": "stdout",
     "output_type": "stream",
     "text": [
      "Сравнение  Volume_attribute_1  и  Volume_attribute_2\n",
      "Общая площадь пересечения: 236837086.0\n",
      "Процент пересечения относительно Volume_attribute_1: 100.00%\n",
      "Процент пересечения относительно Volume_attribute_2: 100.00%\n",
      "Сравнение  Volume_attribute_1  и  top_surface_TWT\n",
      "Общая площадь пересечения: 198787500.0\n",
      "Процент пересечения относительно Volume_attribute_1: 83.93%\n",
      "Процент пересечения относительно top_surface_TWT: 100.00%\n",
      "Сравнение  Volume_attribute_1  и  bot_surface_TWT\n",
      "Общая площадь пересечения: 198787500.0\n",
      "Процент пересечения относительно Volume_attribute_1: 83.93%\n",
      "Процент пересечения относительно bot_surface_TWT: 100.00%\n",
      "Сравнение  Volume_attribute_1  и  Surface_attribute\n",
      "Общая площадь пересечения: 198787500.0\n",
      "Процент пересечения относительно Volume_attribute_1: 83.93%\n",
      "Процент пересечения относительно Surface_attribute: 100.00%\n",
      "Сравнение  Volume_attribute_1  и  Fault_polygons_TWT\n",
      "Общая площадь пересечения: 6236974.0\n",
      "Суммарный процент пересечения относительно Volume_attribute_1: 2.63%\n",
      "Суммарный процент пересечения относительно Fault_polygons_TWT: 100.00%\n",
      "Сравнение  Volume_attribute_1  и  top_surface_TVDSS\n",
      "Общая площадь пересечения: 198787500.0\n",
      "Процент пересечения относительно Volume_attribute_1: 83.93%\n",
      "Процент пересечения относительно top_surface_TVDSS: 100.00%\n",
      "Сравнение  Volume_attribute_1  и  bot_surface_TVDSS\n",
      "Общая площадь пересечения: 198787500.0\n",
      "Процент пересечения относительно Volume_attribute_1: 83.93%\n",
      "Процент пересечения относительно bot_surface_TVDSS: 100.00%\n",
      "Сравнение  Volume_attribute_1  и  lateral_trend\n",
      "Общая площадь пересечения: 198787500.0\n",
      "Процент пересечения относительно Volume_attribute_1: 83.93%\n",
      "Процент пересечения относительно lateral_trend: 100.00%\n",
      "Сравнение  Volume_attribute_1  и  model_area_boundary\n",
      "Общая площадь пересечения: 201027798.5\n",
      "Процент пересечения относительно Volume_attribute_1: 84.88%\n",
      "Процент пересечения относительно model_area_boundary: 100.00%\n",
      "Сравнение  Volume_attribute_1  и  licence_area_boundary\n",
      "Общая площадь пересечения: 102239533.0\n",
      "Процент пересечения относительно Volume_attribute_1: 43.17%\n",
      "Процент пересечения относительно licence_area_boundary: 100.00%\n"
     ]
    }
   ],
   "source": [
    "table_result[2][3], table_result[3][2] = peresechenie(Volume_attribute_1, Volume_attribute_2, 0,'Volume_attribute_1', 'Volume_attribute_2')\n",
    "table_result[2][4], table_result[4][2] = peresechenie(Volume_attribute_1, top_surface_TWT, 0,'Volume_attribute_1', 'top_surface_TWT')\n",
    "table_result[2][5], table_result[5][2] = peresechenie(Volume_attribute_1, bot_surface_TWT, 0,'Volume_attribute_1', 'bot_surface_TWT')\n",
    "table_result[2][6], table_result[6][2] = peresechenie(Volume_attribute_1, Surface_attribute, 0,'Volume_attribute_1', 'Surface_attribute')\n",
    "table_result[2][7], table_result[7][2] = peresechenie_2(Volume_attribute_1, Fault_polygons_TWT, 0,'Volume_attribute_1', 'Fault_polygons_TWT')\n",
    "table_result[2][8], table_result[8][2] = peresechenie(Volume_attribute_1, top_surface_TVDSS, 0,'Volume_attribute_1', 'top_surface_TVDSS')\n",
    "table_result[2][9], table_result[9][2] = peresechenie(Volume_attribute_1, bot_surface_TVDSS, 0,'Volume_attribute_1', 'bot_surface_TVDSS')\n",
    "table_result[2][10], table_result[10][2] = peresechenie(Volume_attribute_1, lateral_trend, 0,'Volume_attribute_1', 'lateral_trend')\n",
    "table_result[2][11], table_result[11][2] = peresechenie(Volume_attribute_1, model_area_boundary, 0,'Volume_attribute_1', 'model_area_boundary')\n",
    "table_result[2][12], table_result[12][2] = peresechenie(Volume_attribute_1, licence_area_boundary, 0,'Volume_attribute_1', 'licence_area_boundary')"
   ],
   "metadata": {
    "collapsed": false,
    "ExecuteTime": {
     "end_time": "2024-10-29T09:25:45.900611700Z",
     "start_time": "2024-10-29T09:25:45.691422600Z"
    }
   },
   "id": "bdfc803fdf933aaf",
   "execution_count": 312
  },
  {
   "cell_type": "code",
   "outputs": [
    {
     "name": "stdout",
     "output_type": "stream",
     "text": [
      "Сравнение  Volume_attribute_2  и  top_surface_TWT\n",
      "Общая площадь пересечения: 198787500.0\n",
      "Процент пересечения относительно Volume_attribute_2: 83.93%\n",
      "Процент пересечения относительно top_surface_TWT: 100.00%\n",
      "Сравнение  Volume_attribute_2  и  bot_surface_TWT\n",
      "Общая площадь пересечения: 198787500.0\n",
      "Процент пересечения относительно Volume_attribute_2: 83.93%\n",
      "Процент пересечения относительно bot_surface_TWT: 100.00%\n",
      "Сравнение  Volume_attribute_2  и  Surface_attribute\n",
      "Общая площадь пересечения: 198787500.0\n",
      "Процент пересечения относительно Volume_attribute_2: 83.93%\n",
      "Процент пересечения относительно Surface_attribute: 100.00%\n",
      "Сравнение  Volume_attribute_2  и  Fault_polygons_TWT\n",
      "Общая площадь пересечения: 6236974.0\n",
      "Суммарный процент пересечения относительно Volume_attribute_2: 2.63%\n",
      "Суммарный процент пересечения относительно Fault_polygons_TWT: 100.00%\n",
      "Сравнение  Volume_attribute_2  и  top_surface_TVDSS\n",
      "Общая площадь пересечения: 198787500.0\n",
      "Процент пересечения относительно Volume_attribute_2: 83.93%\n",
      "Процент пересечения относительно top_surface_TVDSS: 100.00%\n",
      "Сравнение  Volume_attribute_2  и  bot_surface_TVDSS\n",
      "Общая площадь пересечения: 198787500.0\n",
      "Процент пересечения относительно Volume_attribute_2: 83.93%\n",
      "Процент пересечения относительно bot_surface_TVDSS: 100.00%\n",
      "Сравнение  Volume_attribute_2  и  lateral_trend\n",
      "Общая площадь пересечения: 198787500.0\n",
      "Процент пересечения относительно Volume_attribute_2: 83.93%\n",
      "Процент пересечения относительно lateral_trend: 100.00%\n",
      "Сравнение  Volume_attribute_2  и  model_area_boundary\n",
      "Общая площадь пересечения: 201027798.5\n",
      "Процент пересечения относительно Volume_attribute_2: 84.88%\n",
      "Процент пересечения относительно model_area_boundary: 100.00%\n",
      "Сравнение  Volume_attribute_2  и  licence_area_boundary\n",
      "Общая площадь пересечения: 102239533.0\n",
      "Процент пересечения относительно Volume_attribute_2: 43.17%\n",
      "Процент пересечения относительно licence_area_boundary: 100.00%\n"
     ]
    }
   ],
   "source": [
    "k=3\n",
    "table_result[k][4], table_result[4][k] = peresechenie(Volume_attribute_2, top_surface_TWT,0, 'Volume_attribute_2', 'top_surface_TWT')\n",
    "table_result[k][5], table_result[5][k] = peresechenie(Volume_attribute_2, bot_surface_TWT, 0,'Volume_attribute_2', 'bot_surface_TWT')\n",
    "table_result[k][6], table_result[6][k] = peresechenie(Volume_attribute_2, Surface_attribute,0, 'Volume_attribute_2', 'Surface_attribute')\n",
    "table_result[k][7], table_result[7][k] = peresechenie_2(Volume_attribute_2, Fault_polygons_TWT,0, 'Volume_attribute_2', 'Fault_polygons_TWT')\n",
    "table_result[k][8], table_result[8][k] = peresechenie(Volume_attribute_2, top_surface_TVDSS, 0,'Volume_attribute_2', 'top_surface_TVDSS')\n",
    "table_result[k][9], table_result[9][k] = peresechenie(Volume_attribute_2, bot_surface_TVDSS, 0,'Volume_attribute_2', 'bot_surface_TVDSS')\n",
    "table_result[k][10], table_result[10][k] = peresechenie(Volume_attribute_2, lateral_trend, 0,'Volume_attribute_2', 'lateral_trend')\n",
    "table_result[k][11], table_result[11][k] = peresechenie(Volume_attribute_2, model_area_boundary, 0,'Volume_attribute_2', 'model_area_boundary')\n",
    "table_result[k][12], table_result[12][k] = peresechenie(Volume_attribute_2, licence_area_boundary, 0,'Volume_attribute_2', 'licence_area_boundary')"
   ],
   "metadata": {
    "collapsed": false,
    "ExecuteTime": {
     "end_time": "2024-10-29T09:26:07.874961500Z",
     "start_time": "2024-10-29T09:26:07.745960700Z"
    }
   },
   "id": "fe242ec649b43fb4",
   "execution_count": 313
  },
  {
   "cell_type": "code",
   "outputs": [
    {
     "name": "stdout",
     "output_type": "stream",
     "text": [
      "Сравнение  top_surface_TWT  и  bot_surface_TWT\n",
      "Общая площадь пересечения: 198787500.0\n",
      "Процент пересечения относительно top_surface_TWT: 100.00%\n",
      "Процент пересечения относительно bot_surface_TWT: 100.00%\n",
      "Сравнение  top_surface_TWT  и  Surface_attribute\n",
      "Общая площадь пересечения: 198787500.0\n",
      "Процент пересечения относительно top_surface_TWT: 100.00%\n",
      "Процент пересечения относительно Surface_attribute: 100.00%\n",
      "Сравнение  top_surface_TWT  и  Fault_polygons_TWT\n",
      "Общая площадь пересечения: 6103102.323530822\n",
      "Суммарный процент пересечения относительно top_surface_TWT: 3.07%\n",
      "Суммарный процент пересечения относительно Fault_polygons_TWT: 97.85%\n",
      "Сравнение  top_surface_TWT  и  top_surface_TVDSS\n",
      "Общая площадь пересечения: 198787500.0\n",
      "Процент пересечения относительно top_surface_TWT: 100.00%\n",
      "Процент пересечения относительно top_surface_TVDSS: 100.00%\n",
      "Сравнение  top_surface_TWT  и  bot_surface_TVDSS\n",
      "Общая площадь пересечения: 198787500.0\n",
      "Процент пересечения относительно top_surface_TWT: 100.00%\n",
      "Процент пересечения относительно bot_surface_TVDSS: 100.00%\n",
      "Сравнение  top_surface_TWT  и  lateral_trend\n",
      "Общая площадь пересечения: 198787500.0\n",
      "Процент пересечения относительно top_surface_TWT: 100.00%\n",
      "Процент пересечения относительно lateral_trend: 100.00%\n",
      "Сравнение  top_surface_TWT  и  model_area_boundary\n",
      "Общая площадь пересечения: 198771909.1048709\n",
      "Процент пересечения относительно top_surface_TWT: 99.99%\n",
      "Процент пересечения относительно model_area_boundary: 98.88%\n",
      "Сравнение  top_surface_TWT  и  licence_area_boundary\n",
      "Общая площадь пересечения: 102239533.0\n",
      "Процент пересечения относительно top_surface_TWT: 51.43%\n",
      "Процент пересечения относительно licence_area_boundary: 100.00%\n"
     ]
    }
   ],
   "source": [
    "k=4\n",
    "table_result[k][5], table_result[5][k] = peresechenie(top_surface_TWT, bot_surface_TWT, 0,'top_surface_TWT', 'bot_surface_TWT')\n",
    "table_result[k][6], table_result[6][k] = peresechenie(top_surface_TWT, Surface_attribute, 0,'top_surface_TWT', 'Surface_attribute')\n",
    "table_result[k][7], table_result[7][k] = peresechenie_2(top_surface_TWT, Fault_polygons_TWT,0, 'top_surface_TWT', 'Fault_polygons_TWT')\n",
    "table_result[k][8], table_result[8][k] = peresechenie(top_surface_TWT, top_surface_TVDSS, 0,'top_surface_TWT', 'top_surface_TVDSS')\n",
    "table_result[k][9], table_result[9][k] = peresechenie(top_surface_TWT, bot_surface_TVDSS, 0,'top_surface_TWT', 'bot_surface_TVDSS')\n",
    "table_result[k][10], table_result[10][k] = peresechenie(top_surface_TWT, lateral_trend, 0,'top_surface_TWT', 'lateral_trend')\n",
    "table_result[k][11], table_result[11][k] = peresechenie(top_surface_TWT, model_area_boundary, 0,'top_surface_TWT', 'model_area_boundary')\n",
    "table_result[k][12], table_result[12][k] = peresechenie(top_surface_TWT, licence_area_boundary, 0,'top_surface_TWT', 'licence_area_boundary')"
   ],
   "metadata": {
    "collapsed": false,
    "ExecuteTime": {
     "end_time": "2024-10-29T09:26:21.777448100Z",
     "start_time": "2024-10-29T09:26:21.630587Z"
    }
   },
   "id": "b6970dc8a252ba1c",
   "execution_count": 314
  },
  {
   "cell_type": "code",
   "outputs": [
    {
     "name": "stdout",
     "output_type": "stream",
     "text": [
      "Сравнение  bot_surface_TWT  и  Surface_attribute\n",
      "Общая площадь пересечения: 198787500.0\n",
      "Процент пересечения относительно bot_surface_TWT: 100.00%\n",
      "Процент пересечения относительно Surface_attribute: 100.00%\n",
      "Сравнение  bot_surface_TWT  и  Fault_polygons_TWT\n",
      "Общая площадь пересечения: 6103102.323530822\n",
      "Суммарный процент пересечения относительно bot_surface_TWT: 3.07%\n",
      "Суммарный процент пересечения относительно Fault_polygons_TWT: 97.85%\n",
      "Сравнение  bot_surface_TWT  и  top_surface_TVDSS\n",
      "Общая площадь пересечения: 198787500.0\n",
      "Процент пересечения относительно bot_surface_TWT: 100.00%\n",
      "Процент пересечения относительно top_surface_TVDSS: 100.00%\n",
      "Сравнение  bot_surface_TWT  и  bot_surface_TVDSS\n",
      "Общая площадь пересечения: 198787500.0\n",
      "Процент пересечения относительно bot_surface_TWT: 100.00%\n",
      "Процент пересечения относительно bot_surface_TVDSS: 100.00%\n",
      "Сравнение  bot_surface_TWT  и  lateral_trend\n",
      "Общая площадь пересечения: 198787500.0\n",
      "Процент пересечения относительно bot_surface_TWT: 100.00%\n",
      "Процент пересечения относительно lateral_trend: 100.00%\n",
      "Сравнение  bot_surface_TWT  и  model_area_boundary\n",
      "Общая площадь пересечения: 198771909.1048709\n",
      "Процент пересечения относительно bot_surface_TWT: 99.99%\n",
      "Процент пересечения относительно model_area_boundary: 98.88%\n",
      "Сравнение  bot_surface_TWT  и  licence_area_boundary\n",
      "Общая площадь пересечения: 102239533.0\n",
      "Процент пересечения относительно bot_surface_TWT: 51.43%\n",
      "Процент пересечения относительно licence_area_boundary: 100.00%\n"
     ]
    }
   ],
   "source": [
    "k=5\n",
    "table_result[k][6], table_result[6][k] = peresechenie(bot_surface_TWT, Surface_attribute, 0,'bot_surface_TWT', 'Surface_attribute')\n",
    "table_result[k][7], table_result[7][k] = peresechenie_2(bot_surface_TWT, Fault_polygons_TWT,0, 'bot_surface_TWT', 'Fault_polygons_TWT')\n",
    "table_result[k][8], table_result[8][k] = peresechenie(bot_surface_TWT, top_surface_TVDSS, 0,'bot_surface_TWT', 'top_surface_TVDSS')\n",
    "table_result[k][9], table_result[9][k] = peresechenie(bot_surface_TWT, bot_surface_TVDSS, 0,'bot_surface_TWT', 'bot_surface_TVDSS')\n",
    "table_result[k][10], table_result[10][k] = peresechenie(bot_surface_TWT, lateral_trend, 0,'bot_surface_TWT', 'lateral_trend')\n",
    "table_result[k][11], table_result[11][k] = peresechenie(bot_surface_TWT, model_area_boundary,0, 'bot_surface_TWT', 'model_area_boundary')\n",
    "table_result[k][12], table_result[12][k] = peresechenie(bot_surface_TWT, licence_area_boundary,0, 'bot_surface_TWT', 'licence_area_boundary')"
   ],
   "metadata": {
    "collapsed": false,
    "ExecuteTime": {
     "end_time": "2024-10-29T09:28:41.310288300Z",
     "start_time": "2024-10-29T09:28:41.191308800Z"
    }
   },
   "id": "8c85f010ab7d1ac3",
   "execution_count": 315
  },
  {
   "cell_type": "code",
   "outputs": [
    {
     "name": "stdout",
     "output_type": "stream",
     "text": [
      "Сравнение  Surface_attribute  и  Fault_polygons_TWT\n",
      "Общая площадь пересечения: 6103102.323530822\n",
      "Суммарный процент пересечения относительно Surface_attribute: 3.07%\n",
      "Суммарный процент пересечения относительно Fault_polygons_TWT: 97.85%\n",
      "Сравнение  Surface_attribute  и  top_surface_TVDSS\n",
      "Общая площадь пересечения: 198787500.0\n",
      "Процент пересечения относительно Surface_attribute: 100.00%\n",
      "Процент пересечения относительно top_surface_TVDSS: 100.00%\n",
      "Сравнение  Surface_attribute  и  bot_surface_TVDSS\n",
      "Общая площадь пересечения: 198787500.0\n",
      "Процент пересечения относительно Surface_attribute: 100.00%\n",
      "Процент пересечения относительно bot_surface_TVDSS: 100.00%\n",
      "Сравнение  Surface_attribute  и  lateral_trend\n",
      "Общая площадь пересечения: 198787500.0\n",
      "Процент пересечения относительно Surface_attribute: 100.00%\n",
      "Процент пересечения относительно lateral_trend: 100.00%\n",
      "Сравнение  Surface_attribute  и  model_area_boundary\n",
      "Общая площадь пересечения: 198771909.1048709\n",
      "Процент пересечения относительно Surface_attribute: 99.99%\n",
      "Процент пересечения относительно model_area_boundary: 98.88%\n",
      "Сравнение  Surface_attribute  и  licence_area_boundary\n",
      "Общая площадь пересечения: 102239533.0\n",
      "Процент пересечения относительно Surface_attribute: 51.43%\n",
      "Процент пересечения относительно licence_area_boundary: 100.00%\n"
     ]
    }
   ],
   "source": [
    "k=6\n",
    "table_result[k][7], table_result[7][k] = peresechenie_2(Surface_attribute, Fault_polygons_TWT,0, 'Surface_attribute', 'Fault_polygons_TWT')\n",
    "table_result[k][8], table_result[8][k] = peresechenie(Surface_attribute, top_surface_TVDSS, 0,'Surface_attribute', 'top_surface_TVDSS')\n",
    "table_result[k][9], table_result[9][k] = peresechenie(Surface_attribute, bot_surface_TVDSS, 0,'Surface_attribute', 'bot_surface_TVDSS')\n",
    "table_result[k][10], table_result[10][k] = peresechenie(Surface_attribute, lateral_trend, 0,'Surface_attribute', 'lateral_trend')\n",
    "table_result[k][11], table_result[11][k] = peresechenie(Surface_attribute, model_area_boundary, 0, 'Surface_attribute', 'model_area_boundary')\n",
    "table_result[k][12], table_result[12][k] = peresechenie(Surface_attribute, licence_area_boundary,0, 'Surface_attribute', 'licence_area_boundary')"
   ],
   "metadata": {
    "collapsed": false,
    "ExecuteTime": {
     "end_time": "2024-10-29T09:29:00.268635100Z",
     "start_time": "2024-10-29T09:29:00.229636900Z"
    }
   },
   "id": "6cb8e075e2bffc2c",
   "execution_count": 316
  },
  {
   "cell_type": "code",
   "outputs": [
    {
     "name": "stdout",
     "output_type": "stream",
     "text": [
      "Сравнение  top_surface_TVDSS  и  Fault_polygons_TWT\n",
      "Общая площадь пересечения: 6103102.323530822\n",
      "Суммарный процент пересечения относительно top_surface_TVDSS: 3.07%\n",
      "Суммарный процент пересечения относительно Fault_polygons_TWT: 97.85%\n",
      "Сравнение  bot_surface_TVDSS  и  Fault_polygons_TWT\n",
      "Общая площадь пересечения: 6103102.323530822\n",
      "Суммарный процент пересечения относительно bot_surface_TVDSS: 3.07%\n",
      "Суммарный процент пересечения относительно Fault_polygons_TWT: 97.85%\n",
      "Сравнение  lateral_trend  и  Fault_polygons_TWT\n",
      "Общая площадь пересечения: 6103102.323530822\n",
      "Суммарный процент пересечения относительно lateral_trend: 3.07%\n",
      "Суммарный процент пересечения относительно Fault_polygons_TWT: 97.85%\n",
      "Сравнение  model_area_boundary  и  Fault_polygons_TWT\n",
      "Общая площадь пересечения: 6177274.654589983\n",
      "Суммарный процент пересечения относительно model_area_boundary: 3.07%\n",
      "Суммарный процент пересечения относительно Fault_polygons_TWT: 99.04%\n",
      "Сравнение  licence_area_boundary  и  Fault_polygons_TWT\n",
      "Общая площадь пересечения: 4954503.289770899\n",
      "Суммарный процент пересечения относительно licence_area_boundary: 4.85%\n",
      "Суммарный процент пересечения относительно Fault_polygons_TWT: 79.44%\n"
     ]
    }
   ],
   "source": [
    "k=7\n",
    "table_result[k][8], table_result[8][k] = peresechenie_2(top_surface_TVDSS, Fault_polygons_TWT,0, 'top_surface_TVDSS', 'Fault_polygons_TWT')\n",
    "table_result[k][9], table_result[9][k] = peresechenie_2(bot_surface_TVDSS, Fault_polygons_TWT,0, 'bot_surface_TVDSS', 'Fault_polygons_TWT')\n",
    "table_result[k][10], table_result[10][k] = peresechenie_2(lateral_trend, Fault_polygons_TWT, 0,'lateral_trend', 'Fault_polygons_TWT')\n",
    "table_result[k][11], table_result[11][k] = peresechenie_2(model_area_boundary, Fault_polygons_TWT,0, 'model_area_boundary', 'Fault_polygons_TWT')\n",
    "table_result[k][12], table_result[12][k] = peresechenie_2(licence_area_boundary, Fault_polygons_TWT, 0,'licence_area_boundary', 'Fault_polygons_TWT')"
   ],
   "metadata": {
    "collapsed": false,
    "ExecuteTime": {
     "end_time": "2024-10-29T09:29:18.863101200Z",
     "start_time": "2024-10-29T09:29:18.779081Z"
    }
   },
   "id": "cc7aa7966dba0613",
   "execution_count": 317
  },
  {
   "cell_type": "code",
   "outputs": [
    {
     "name": "stdout",
     "output_type": "stream",
     "text": [
      "Сравнение  top_surface_TVDSS  и  bot_surface_TVDSS\n",
      "Общая площадь пересечения: 198787500.0\n",
      "Процент пересечения относительно top_surface_TVDSS: 100.00%\n",
      "Процент пересечения относительно bot_surface_TVDSS: 100.00%\n",
      "Сравнение  top_surface_TVDSS  и  lateral_trend\n",
      "Общая площадь пересечения: 198787500.0\n",
      "Процент пересечения относительно top_surface_TVDSS: 100.00%\n",
      "Процент пересечения относительно lateral_trend: 100.00%\n",
      "Сравнение  top_surface_TVDSS  и  model_area_boundary\n",
      "Общая площадь пересечения: 198771909.1048709\n",
      "Процент пересечения относительно top_surface_TVDSS: 99.99%\n",
      "Процент пересечения относительно model_area_boundary: 98.88%\n",
      "Сравнение  top_surface_TVDSS  и  licence_area_boundary\n",
      "Общая площадь пересечения: 102239533.0\n",
      "Процент пересечения относительно top_surface_TVDSS: 51.43%\n",
      "Процент пересечения относительно licence_area_boundary: 100.00%\n"
     ]
    }
   ],
   "source": [
    "k=8\n",
    "table_result[k][9], table_result[9][k] = peresechenie(top_surface_TVDSS, bot_surface_TVDSS, 0,'top_surface_TVDSS', 'bot_surface_TVDSS')\n",
    "table_result[k][10], table_result[10][k] = peresechenie(top_surface_TVDSS, lateral_trend, 0,'top_surface_TVDSS', 'lateral_trend')\n",
    "table_result[k][11], table_result[11][k] = peresechenie(top_surface_TVDSS, model_area_boundary,0, 'top_surface_TVDSS', 'model_area_boundary')\n",
    "table_result[k][12], table_result[12][k] = peresechenie(top_surface_TVDSS, licence_area_boundary,0, 'top_surface_TVDSS', 'licence_area_boundary')"
   ],
   "metadata": {
    "collapsed": false,
    "ExecuteTime": {
     "end_time": "2024-10-29T09:29:30.514817600Z",
     "start_time": "2024-10-29T09:29:30.433984700Z"
    }
   },
   "id": "ba697f7ab834cf2a",
   "execution_count": 318
  },
  {
   "cell_type": "code",
   "outputs": [
    {
     "name": "stdout",
     "output_type": "stream",
     "text": [
      "Сравнение  bot_surface_TVDSS  и  lateral_trend\n",
      "Общая площадь пересечения: 198787500.0\n",
      "Процент пересечения относительно bot_surface_TVDSS: 100.00%\n",
      "Процент пересечения относительно lateral_trend: 100.00%\n",
      "Сравнение  bot_surface_TVDSS  и  model_area_boundary\n",
      "Общая площадь пересечения: 198771909.1048709\n",
      "Процент пересечения относительно bot_surface_TVDSS: 99.99%\n",
      "Процент пересечения относительно model_area_boundary: 98.88%\n",
      "Сравнение  bot_surface_TVDSS  и  licence_area_boundary\n",
      "Общая площадь пересечения: 102239533.0\n",
      "Процент пересечения относительно bot_surface_TVDSS: 51.43%\n",
      "Процент пересечения относительно licence_area_boundary: 100.00%\n"
     ]
    }
   ],
   "source": [
    "k=9\n",
    "table_result[k][10], table_result[10][k] = peresechenie(bot_surface_TVDSS, lateral_trend, 0,'bot_surface_TVDSS', 'lateral_trend')\n",
    "table_result[k][11], table_result[11][k] = peresechenie(bot_surface_TVDSS, model_area_boundary,0, 'bot_surface_TVDSS', 'model_area_boundary')\n",
    "table_result[k][12], table_result[12][k] = peresechenie(bot_surface_TVDSS, licence_area_boundary,0, 'bot_surface_TVDSS', 'licence_area_boundary')"
   ],
   "metadata": {
    "collapsed": false,
    "ExecuteTime": {
     "end_time": "2024-10-29T09:29:38.088728400Z",
     "start_time": "2024-10-29T09:29:38.028728900Z"
    }
   },
   "id": "83d2b7abf3ebdaa8",
   "execution_count": 319
  },
  {
   "cell_type": "code",
   "outputs": [
    {
     "name": "stdout",
     "output_type": "stream",
     "text": [
      "Сравнение  lateral_trend  и  model_area_boundary\n",
      "Общая площадь пересечения: 198771909.1048709\n",
      "Процент пересечения относительно lateral_trend: 99.99%\n",
      "Процент пересечения относительно model_area_boundary: 98.88%\n",
      "Сравнение  lateral_trend  и  licence_area_boundary\n",
      "Общая площадь пересечения: 102239533.0\n",
      "Процент пересечения относительно lateral_trend: 51.43%\n",
      "Процент пересечения относительно licence_area_boundary: 100.00%\n"
     ]
    }
   ],
   "source": [
    "k=10\n",
    "table_result[k][11], table_result[11][k] = peresechenie(lateral_trend, model_area_boundary, 0,'lateral_trend', 'model_area_boundary')\n",
    "table_result[k][12], table_result[12][k] = peresechenie(lateral_trend, licence_area_boundary, 0,'lateral_trend', 'licence_area_boundary')"
   ],
   "metadata": {
    "collapsed": false,
    "ExecuteTime": {
     "end_time": "2024-10-29T09:29:49.942546400Z",
     "start_time": "2024-10-29T09:29:49.898945400Z"
    }
   },
   "id": "60656874ed6f3de",
   "execution_count": 320
  },
  {
   "cell_type": "code",
   "outputs": [
    {
     "name": "stdout",
     "output_type": "stream",
     "text": [
      "Сравнение  model_area_boundary  и  licence_area_boundary\n",
      "Общая площадь пересечения: 102239533.0\n",
      "Процент пересечения относительно model_area_boundary: 50.86%\n",
      "Процент пересечения относительно licence_area_boundary: 100.00%\n"
     ]
    }
   ],
   "source": [
    "k=11\n",
    "table_result[k][12], table_result[12][k] = peresechenie(model_area_boundary, licence_area_boundary, 0,'model_area_boundary', 'licence_area_boundary')"
   ],
   "metadata": {
    "collapsed": false,
    "ExecuteTime": {
     "end_time": "2024-10-29T09:29:55.078431600Z",
     "start_time": "2024-10-29T09:29:55.040921800Z"
    }
   },
   "id": "f0b4c0420f71b86d",
   "execution_count": 321
  },
  {
   "cell_type": "code",
   "outputs": [],
   "source": [],
   "metadata": {
    "collapsed": false,
    "ExecuteTime": {
     "end_time": "2024-10-29T08:38:46.005946400Z",
     "start_time": "2024-10-29T08:38:45.992949300Z"
    }
   },
   "id": "e729699e1bbbdff1",
   "execution_count": 255
  },
  {
   "cell_type": "code",
   "outputs": [],
   "source": [],
   "metadata": {
    "collapsed": false
   },
   "id": "80bf9ce236abc3bf"
  },
  {
   "cell_type": "code",
   "outputs": [
    {
     "name": "stdout",
     "output_type": "stream",
     "text": [
      "Проверка по оси ХУ    | TWT_cube | Volume_attribute_1 | Volume_attribute_2 | top_surface_TWT   | bot_surface_TWT   | Surface_attribute | Fault_polygons_TWT | top_surface_TVDSS | bot_surface_TVDSS | lateral_trend     | model_area_boundary | licence_area_boundary\n",
      "TWT_cube              | x        | 100.0              | 100.0              | 83.93427877253987 | 83.93427877253987 | 83.93427877253987 | 2.633444831355508  | 83.93427877253987 | 83.93427877253987 | 83.93427877253987 | 84.88020263008978   | 43.16871767287324    \n",
      "Volume_attribute 1    | 100.0    | x                  | 100.0              | 83.93427877253987 | 83.93427877253987 | 83.93427877253987 | 2.633444831355508  | 83.93427877253987 | 83.93427877253987 | 83.93427877253987 | 84.88020263008978   | 43.16871767287324    \n",
      "Volume_attribute 2    | 100.0    | 100.0              | x                  | 83.93427877253987 | 83.93427877253987 | 83.93427877253987 | 2.633444831355508  | 83.93427877253987 | 83.93427877253987 | 83.93427877253987 | 84.88020263008978   | 43.16871767287324    \n",
      "top_surface_TWT       | 100.0    | 100.0              | 100.0              | x                 | 100.0             | 100.0             | 3.070164031204589  | 100.0             | 100.0             | 100.0             | 99.99215700427385   | 51.431570395522854   \n",
      "bot_surface_TWT       | 100.0    | 100.0              | 100.0              | 100.0             | x                 | 100.0             | 3.070164031204589  | 100.0             | 100.0             | 100.0             | 99.99215700427385   | 51.431570395522854   \n",
      "Surface_attribute     | 100.0    | 100.0              | 100.0              | 100.0             | 100.0             | x                 | 3.070164031204589  | 100.0             | 100.0             | 100.0             | 99.99215700427385   | 51.431570395522854   \n",
      "Fault_polygons_TWT    | 100.0    | 100.0              | 100.0              | 97.85357969314641 | 97.85357969314641 | 97.85357969314641 | x                  | 3.070164031204589 | 3.070164031204589 | 3.070164031204589 | 3.0728459947741915  | 4.845976056806616    \n",
      "top_surface_TVDSS     | 100.0    | 100.0              | 100.0              | 100.0             | 100.0             | 100.0             | 97.85357969314641  | x                 | 100.0             | 100.0             | 99.99215700427385   | 51.431570395522854   \n",
      "bot_surface_TVDSS     | 100.0    | 100.0              | 100.0              | 100.0             | 100.0             | 100.0             | 97.85357969314641  | 100.0             | x                 | 100.0             | 99.99215700427385   | 51.431570395522854   \n",
      "lateral_trend         | 100.0    | 100.0              | 100.0              | 100.0             | 100.0             | 100.0             | 97.85357969314641  | 100.0             | 100.0             | x                 | 99.99215700427385   | 51.431570395522854   \n",
      "model_area_boundary   | 100.0    | 100.0              | 100.0              | 98.8778221659085  | 98.8778221659085  | 98.8778221659085  | 99.04281554789202  | 98.8778221659085  | 98.8778221659085  | 98.8778221659085  | x                   | 50.85840553539166    \n",
      "licence_area_boundary | 100.0    | 100.0              | 100.0              | 100.0             | 100.0             | 100.0             | 79.43761333253752  | 100.0             | 100.0             | 100.0             | 100.0               | x                    \n"
     ]
    }
   ],
   "source": [
    "#Вывод таблицы \n",
    "data = table_result\n",
    "\n",
    "# Определяем ширину столбцов\n",
    "column_widths = [max(len(str(item)) for item in column) for column in zip(*table_result)]\n",
    "\n",
    "for row in table_result:\n",
    "    print(\" | \".join(f\"{str(item):<{column_widths[i]}}\" for i, item in enumerate(row)))\n"
   ],
   "metadata": {
    "collapsed": false,
    "ExecuteTime": {
     "end_time": "2024-10-29T09:06:48.963173500Z",
     "start_time": "2024-10-29T09:06:48.922513500Z"
    }
   },
   "id": "54321469475222e",
   "execution_count": 287
  },
  {
   "cell_type": "code",
   "outputs": [
    {
     "name": "stdout",
     "output_type": "stream",
     "text": [
      "Данные успешно записаны в файл output.xlsx\n"
     ]
    }
   ],
   "source": [
    "data = table_result\n",
    "\n",
    "# Создаем DataFrame из данных\n",
    "df = pd.DataFrame(data[1:], columns=data[0])\n",
    "\n",
    "# Записываем DataFrame в файл Excel\n",
    "output_file = \"output.xlsx\"\n",
    "df.to_excel(output_file, index=False)\n",
    "\n",
    "print(f\"Данные успешно записаны в файл {output_file}\")"
   ],
   "metadata": {
    "collapsed": false,
    "ExecuteTime": {
     "end_time": "2024-10-29T09:06:51.992480800Z",
     "start_time": "2024-10-29T09:06:51.928523400Z"
    }
   },
   "id": "9197bc887f5b50ff",
   "execution_count": 288
  },
  {
   "cell_type": "code",
   "outputs": [],
   "source": [],
   "metadata": {
    "collapsed": false
   },
   "id": "86c6b4e8f399754c"
  }
 ],
 "metadata": {
  "kernelspec": {
   "display_name": "Python 3",
   "language": "python",
   "name": "python3"
  },
  "language_info": {
   "codemirror_mode": {
    "name": "ipython",
    "version": 2
   },
   "file_extension": ".py",
   "mimetype": "text/x-python",
   "name": "python",
   "nbconvert_exporter": "python",
   "pygments_lexer": "ipython2",
   "version": "2.7.6"
  }
 },
 "nbformat": 4,
 "nbformat_minor": 5
}
