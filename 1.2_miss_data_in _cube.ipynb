{
 "cells": [
  {
   "cell_type": "code",
   "execution_count": 6,
   "id": "initial_id",
   "metadata": {
    "collapsed": true,
    "ExecuteTime": {
     "end_time": "2024-10-15T04:33:22.552244400Z",
     "start_time": "2024-10-15T04:33:22.547258900Z"
    }
   },
   "outputs": [],
   "source": [
    "import segyio\n",
    "import numpy as np\n",
    "import matplotlib.pyplot as plt"
   ]
  },
  {
   "cell_type": "code",
   "outputs": [],
   "source": [
    "def read_seismic_cube(file_path):\n",
    "    \"\"\"\n",
    "    :param file_path: Путь к файлу\n",
    "    :return: возвращает куб в виде списков по Inlines, Xlines и Sampels (координаты x, y, z)\n",
    "    а также словарю сейсмотрасс, где ключ это координата пересечения Inlines и Xlines, а значение это список значений сейсмотрасс\n",
    "    \"\"\"\n",
    "    with segyio.open(file_path, 'r') as segyfile:\n",
    "        x = list(segyfile.ilines)\n",
    "        y = list(segyfile.xlines)\n",
    "        z = list(segyfile.samples)\n",
    "        cube = segyio.tools.cube(segyfile)\n",
    "        traces = {f\"{x[i]}_{y[j]}\": cube[i][j][:] for i in range(len(x)) for j in range(len(y))}\n",
    "    return x, y, z, traces"
   ],
   "metadata": {
    "collapsed": false,
    "ExecuteTime": {
     "end_time": "2024-10-15T04:33:23.059887300Z",
     "start_time": "2024-10-15T04:33:23.052911700Z"
    }
   },
   "id": "e9894c212c963a36",
   "execution_count": 7
  },
  {
   "cell_type": "code",
   "outputs": [],
   "source": [
    "def assemble_cube(x, y, z, tras):\n",
    "   cube = np.zeros((len(x), len(y), len(z)))\n",
    "\n",
    "\n",
    "   for i, xi in enumerate(x):\n",
    "       for j, yj in enumerate(y):\n",
    "           key = f\"{xi}_{yj}\"\n",
    "           if key in tras:\n",
    "               cube[i][j][:] = tras[key]\n",
    "   return cube\n"
   ],
   "metadata": {
    "collapsed": false,
    "ExecuteTime": {
     "end_time": "2024-10-15T04:33:23.578738100Z",
     "start_time": "2024-10-15T04:33:23.574751200Z"
    }
   },
   "id": "71b7991c72bb0b51",
   "execution_count": 8
  },
  {
   "cell_type": "code",
   "outputs": [],
   "source": [
    "X1, Y1, Z1, data_dict = read_seismic_cube('C:/HV/Seismic/datas/Cube_TWT.segy')"
   ],
   "metadata": {
    "collapsed": false,
    "ExecuteTime": {
     "end_time": "2024-10-15T04:33:25.736879600Z",
     "start_time": "2024-10-15T04:33:24.313943100Z"
    }
   },
   "id": "7785a948e7b0f81b",
   "execution_count": 9
  },
  {
   "cell_type": "code",
   "outputs": [
    {
     "name": "stdout",
     "output_type": "stream",
     "text": [
      "2\n"
     ]
    }
   ],
   "source": [
    "# Создание карты значений\n",
    "values_map = []\n",
    "for key, value_list in data_dict.items():\n",
    "   x, y = map(int, key.split('_'))\n",
    "   value = 0 if all(v == 0 for v in value_list) else 1\n",
    "   values_map.append((x, y, value))\n",
    "print(2)\n",
    "# Отображение точек на карте\n",
    "for x, y, value in values_map:\n",
    "   plt.scatter(x, y, c='red' if value == 0 else 'green', label=f'Value: {value}')\n",
    "\n",
    "\n",
    "plt.title('Карта точек')\n",
    "plt.xlabel('Координата X')\n",
    "plt.ylabel('Координата Y')\n",
    "plt.legend()\n",
    "plt.show()\n"
   ],
   "metadata": {
    "collapsed": false,
    "is_executing": true,
    "ExecuteTime": {
     "start_time": "2024-10-15T04:33:28.625092300Z"
    }
   },
   "id": "8d93753d819217d2"
  },
  {
   "cell_type": "code",
   "outputs": [],
   "source": [],
   "metadata": {
    "collapsed": false
   },
   "id": "a52329727faa5796"
  }
 ],
 "metadata": {
  "kernelspec": {
   "display_name": "Python 3",
   "language": "python",
   "name": "python3"
  },
  "language_info": {
   "codemirror_mode": {
    "name": "ipython",
    "version": 2
   },
   "file_extension": ".py",
   "mimetype": "text/x-python",
   "name": "python",
   "nbconvert_exporter": "python",
   "pygments_lexer": "ipython2",
   "version": "2.7.6"
  }
 },
 "nbformat": 4,
 "nbformat_minor": 5
}
