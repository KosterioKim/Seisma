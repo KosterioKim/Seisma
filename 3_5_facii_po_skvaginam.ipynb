{
 "cells": [
  {
   "cell_type": "code",
   "execution_count": 76,
   "id": "initial_id",
   "metadata": {
    "collapsed": true,
    "ExecuteTime": {
     "end_time": "2025-03-14T05:39:12.658624100Z",
     "start_time": "2025-03-14T05:39:12.650346400Z"
    }
   },
   "outputs": [],
   "source": [
    "import pandas as pd\n",
    "import numpy as np\n",
    "import plotly.graph_objects as go\n",
    "import os\n",
    "from collections import Counter"
   ]
  },
  {
   "cell_type": "code",
   "outputs": [],
   "source": [
    "def seismic_ascii_parser(file_path):\n",
    "    all_data = []\n",
    "    head = \"\"\n",
    "    xarray = []\n",
    "    yarray = []\n",
    "    zarray = []\n",
    "    with open(file_path, 'r') as f:\n",
    "        content = f.readlines()\n",
    "        for line in content:\n",
    "            if '#' in line:\n",
    "                head += line\n",
    "                continue\n",
    "            l = line.split(' ')\n",
    "            xarray.append(float(l[0]))\n",
    "            yarray.append(float(l[1]))\n",
    "            zarray.append(float(l[2]))\n",
    "\n",
    "    df = pd.DataFrame({'x': xarray, 'y': yarray, 'z': zarray})\n",
    "    all_data.append({\"test\": df})\n",
    "    return create_seismic_ascii_date(all_data)[0]\n",
    "\n",
    "def create_seismic_ascii_date(data_frame):\n",
    "    for dataframe_data in data_frame:\n",
    "        _, value = next(iter(dataframe_data.items()))\n",
    "        return value.to_dict(\"records\"),\n"
   ],
   "metadata": {
    "collapsed": false,
    "ExecuteTime": {
     "end_time": "2025-03-14T05:38:24.297420700Z",
     "start_time": "2025-03-14T05:38:24.288056200Z"
    }
   },
   "id": "9d6b15771c302d6d",
   "execution_count": 73
  },
  {
   "cell_type": "code",
   "outputs": [],
   "source": [
    "Lateral_trend = seismic_ascii_parser(r\"C:/HV/Seismic/datas/test_3_5/Lateral_trend_No_smooth_Heff.txt\")"
   ],
   "metadata": {
    "collapsed": false,
    "ExecuteTime": {
     "end_time": "2025-03-14T05:59:47.763159Z",
     "start_time": "2025-03-14T05:59:47.645724300Z"
    }
   },
   "id": "85029801aec9a8d8",
   "execution_count": 84
  },
  {
   "cell_type": "code",
   "outputs": [
    {
     "name": "stdout",
     "output_type": "stream",
     "text": [
      "[{'x': 445946.632991, 'y': 7004198.214381, 'z': 72.554604}, {'x': 445996.632991, 'y': 7004198.214381, 'z': 74.0868}, {'x': 446046.632991, 'y': 7004198.214381, 'z': 74.0868}, {'x': 446096.632991, 'y': 7004198.214381, 'z': 75.619003}, {'x': 446146.632991, 'y': 7004198.214381, 'z': 74.0868}, {'x': 446196.632991, 'y': 7004198.214381, 'z': 71.0224}, {'x': 446246.632991, 'y': 7004198.214381, 'z': 72.554604}, {'x': 446296.632991, 'y': 7004198.214381, 'z': 72.554604}, {'x': 446346.632991, 'y': 7004198.214381, 'z': 74.0868}, {'x': 446396.632991, 'y': 7004198.214381, 'z': 72.554604}]\n"
     ]
    }
   ],
   "source": [
    "print(Lateral_trend[:10])"
   ],
   "metadata": {
    "collapsed": false,
    "ExecuteTime": {
     "end_time": "2025-03-14T06:00:59.371065800Z",
     "start_time": "2025-03-14T06:00:59.362060800Z"
    }
   },
   "id": "ca40f53af4face3a",
   "execution_count": 90
  },
  {
   "cell_type": "code",
   "outputs": [],
   "source": [
    "df_Lateral_trend = pd.DataFrame(Lateral_trend)"
   ],
   "metadata": {
    "collapsed": false,
    "ExecuteTime": {
     "end_time": "2025-03-14T06:02:17.027206Z",
     "start_time": "2025-03-14T06:02:16.996623200Z"
    }
   },
   "id": "b716d045cc9e7f1d",
   "execution_count": 91
  },
  {
   "cell_type": "code",
   "outputs": [],
   "source": [
    "column_names = ['wells', 'name', 'inlines', 'xlines', 'top', 'bottom'] \n",
    "df_all_wells_coor = pd.read_csv('C:/HV/Seismic/datas/test_3_5/data_wells.txt', sep='\\t', names=column_names, header=None)"
   ],
   "metadata": {
    "collapsed": false,
    "ExecuteTime": {
     "end_time": "2025-03-14T05:59:49.680245200Z",
     "start_time": "2025-03-14T05:59:49.674475800Z"
    }
   },
   "id": "71859cb15622d13a",
   "execution_count": 85
  },
  {
   "cell_type": "code",
   "outputs": [
    {
     "data": {
      "text/plain": "  wells               name        inlines        xlines          top    bottom\n1  660R  TPU_BVBJ1_1_TOP_S  450928.636400  7.011087e+06  2761.150000  2874.640\n2  661R  TPU_BVBJ1_1_TOP_S  457638.951200  7.011792e+06  2769.376000  2898.366\n3  662R  TPU_BVBJ1_1_TOP_S  455158.133924  7.014716e+06  2775.608000  2888.708\n4  663R  TPU_BVBJ1_1_TOP_S  447671.940000  7.012181e+06  2771.639000  2875.099\n5  669R  TPU_BVBJ1_1_TOP_S  451334.990000  7.011850e+06  2759.749000  2870.559\n6  673R  TPU_BVBJ1_1_TOP_S  449194.772480  7.008929e+06  2765.822834  2893.166\n7  676R  TPU_BVBJ1_1_TOP_S  454672.154278  7.009559e+06  2776.051783  2915.217",
      "text/html": "<div>\n<style scoped>\n    .dataframe tbody tr th:only-of-type {\n        vertical-align: middle;\n    }\n\n    .dataframe tbody tr th {\n        vertical-align: top;\n    }\n\n    .dataframe thead th {\n        text-align: right;\n    }\n</style>\n<table border=\"1\" class=\"dataframe\">\n  <thead>\n    <tr style=\"text-align: right;\">\n      <th></th>\n      <th>wells</th>\n      <th>name</th>\n      <th>inlines</th>\n      <th>xlines</th>\n      <th>top</th>\n      <th>bottom</th>\n    </tr>\n  </thead>\n  <tbody>\n    <tr>\n      <th>1</th>\n      <td>660R</td>\n      <td>TPU_BVBJ1_1_TOP_S</td>\n      <td>450928.636400</td>\n      <td>7.011087e+06</td>\n      <td>2761.150000</td>\n      <td>2874.640</td>\n    </tr>\n    <tr>\n      <th>2</th>\n      <td>661R</td>\n      <td>TPU_BVBJ1_1_TOP_S</td>\n      <td>457638.951200</td>\n      <td>7.011792e+06</td>\n      <td>2769.376000</td>\n      <td>2898.366</td>\n    </tr>\n    <tr>\n      <th>3</th>\n      <td>662R</td>\n      <td>TPU_BVBJ1_1_TOP_S</td>\n      <td>455158.133924</td>\n      <td>7.014716e+06</td>\n      <td>2775.608000</td>\n      <td>2888.708</td>\n    </tr>\n    <tr>\n      <th>4</th>\n      <td>663R</td>\n      <td>TPU_BVBJ1_1_TOP_S</td>\n      <td>447671.940000</td>\n      <td>7.012181e+06</td>\n      <td>2771.639000</td>\n      <td>2875.099</td>\n    </tr>\n    <tr>\n      <th>5</th>\n      <td>669R</td>\n      <td>TPU_BVBJ1_1_TOP_S</td>\n      <td>451334.990000</td>\n      <td>7.011850e+06</td>\n      <td>2759.749000</td>\n      <td>2870.559</td>\n    </tr>\n    <tr>\n      <th>6</th>\n      <td>673R</td>\n      <td>TPU_BVBJ1_1_TOP_S</td>\n      <td>449194.772480</td>\n      <td>7.008929e+06</td>\n      <td>2765.822834</td>\n      <td>2893.166</td>\n    </tr>\n    <tr>\n      <th>7</th>\n      <td>676R</td>\n      <td>TPU_BVBJ1_1_TOP_S</td>\n      <td>454672.154278</td>\n      <td>7.009559e+06</td>\n      <td>2776.051783</td>\n      <td>2915.217</td>\n    </tr>\n  </tbody>\n</table>\n</div>"
     },
     "execution_count": 86,
     "metadata": {},
     "output_type": "execute_result"
    }
   ],
   "source": [
    "df_all_wells_coor"
   ],
   "metadata": {
    "collapsed": false,
    "ExecuteTime": {
     "end_time": "2025-03-14T05:59:50.216064200Z",
     "start_time": "2025-03-14T05:59:50.206757900Z"
    }
   },
   "id": "35e1e0bd827a9f20",
   "execution_count": 86
  },
  {
   "cell_type": "code",
   "outputs": [
    {
     "name": "stdout",
     "output_type": "stream",
     "text": [
      "    имя  наиболее_частое_значение  количество  значение_1.0  количество_1.0\n",
      "0  660R                       0.0        1697           1.0             933\n",
      "1  661R                       0.0         703           1.0             363\n",
      "2  662R                       0.0        1210           1.0             440\n",
      "3  663R                       0.0        1080           1.0             557\n",
      "4  669R                       0.0         918           1.0             213\n",
      "5  673R                       0.0         825           1.0             252\n",
      "6  676R                       0.0         654           1.0             326\n"
     ]
    }
   ],
   "source": [
    "\n",
    "def process_txt_files(folder_path):\n",
    "    # Список для хранения данных\n",
    "    data = []\n",
    "\n",
    "    # Проход по всем файлам в указанной папке\n",
    "    for filename in os.listdir(folder_path):\n",
    "        if filename.endswith('.txt'):\n",
    "            # Получаем имя файла до символа \"_\"\n",
    "            name_part = filename.split('_')[0]\n",
    "\n",
    "            # Полный путь к файлу\n",
    "            file_path = os.path.join(folder_path, filename)\n",
    "\n",
    "            # Чтение файла\n",
    "            with open(file_path, 'r') as file:\n",
    "                # Пропускаем строки до \"~Ascii\"\n",
    "                for line in file:\n",
    "                    if line.startswith('~Ascii'):\n",
    "                        break\n",
    "\n",
    "                # Читаем оставшиеся строки и собираем данные\n",
    "                values = []\n",
    "                for line in file:\n",
    "                    # Разделяем строки на значения\n",
    "                    parts = line.split()\n",
    "                    if len(parts) >= 2:\n",
    "                        value = parts[1]\n",
    "                        if value != '-999.250000':\n",
    "                            values.append(float(value))\n",
    "\n",
    "                # Подсчет значений\n",
    "                if values:\n",
    "                    value_counts = Counter(values)\n",
    "                    # Находим наиболее частое значение\n",
    "                    most_common_value, most_common_count = value_counts.most_common(1)[0]\n",
    "\n",
    "                    # Создаем словарь для хранения данных\n",
    "                    entry = {\n",
    "                        'имя': name_part,\n",
    "                        'наиболее_частое_значение': most_common_value,\n",
    "                        'количество': most_common_count\n",
    "                    }\n",
    "\n",
    "                    # Добавляем остальные значения и их количество\n",
    "                    for value, count in value_counts.items():\n",
    "                        if value != most_common_value:\n",
    "                            entry[f'значение_{value}'] = value\n",
    "                            entry[f'количество_{value}'] = count\n",
    "\n",
    "                    data.append(entry)\n",
    "\n",
    "    # Создаем DataFrame из собранных данных\n",
    "    result_df = pd.DataFrame(data)\n",
    "\n",
    "    # Заполняем пропуски нулями для удобства\n",
    "    result_df.fillna(0, inplace=True)\n",
    "\n",
    "    return result_df\n",
    "\n",
    "# Пример использования функции\n",
    "folder_path = 'C:/HV/Seismic/datas/test_3_5/Log_facii'   # Укажите путь к вашей папке\n",
    "df_facii  = process_txt_files(folder_path)\n",
    "print(df_facii )\n"
   ],
   "metadata": {
    "collapsed": false,
    "ExecuteTime": {
     "end_time": "2025-03-14T05:59:54.329956400Z",
     "start_time": "2025-03-14T05:59:54.271111300Z"
    }
   },
   "id": "cc8bd33964f70760",
   "execution_count": 87
  },
  {
   "cell_type": "code",
   "outputs": [],
   "source": [],
   "metadata": {
    "collapsed": false
   },
   "id": "65ee853097b34dde"
  },
  {
   "cell_type": "code",
   "outputs": [
    {
     "name": "stdout",
     "output_type": "stream",
     "text": [
      "После первого объединения:\n",
      "                   x             y          z wells               name  \\\n",
      "0      445946.632991  7.004198e+06  72.554604  663R  TPU_BVBJ1_1_TOP_S   \n",
      "1      445946.632991  7.011948e+06  75.619003  663R  TPU_BVBJ1_1_TOP_S   \n",
      "2      445946.632991  7.011998e+06  77.151199  663R  TPU_BVBJ1_1_TOP_S   \n",
      "3      445946.632991  7.012048e+06  80.215599  663R  TPU_BVBJ1_1_TOP_S   \n",
      "4      445946.632991  7.012098e+06  83.279999  663R  TPU_BVBJ1_1_TOP_S   \n",
      "...              ...           ...        ...   ...                ...   \n",
      "80075  460196.632991  7.013548e+06  80.215599  661R  TPU_BVBJ1_1_TOP_S   \n",
      "80076  460196.632991  7.013598e+06  78.683403  661R  TPU_BVBJ1_1_TOP_S   \n",
      "80077  460196.632991  7.013648e+06  80.215599  661R  TPU_BVBJ1_1_TOP_S   \n",
      "80078  460196.632991  7.013348e+06  81.747803  661R  TPU_BVBJ1_1_TOP_S   \n",
      "80079  460196.632991  7.018148e+06  80.215599  661R  TPU_BVBJ1_1_TOP_S   \n",
      "\n",
      "           inlines        xlines       top    bottom  \n",
      "0      447671.9400  7.012181e+06  2771.639  2875.099  \n",
      "1      447671.9400  7.012181e+06  2771.639  2875.099  \n",
      "2      447671.9400  7.012181e+06  2771.639  2875.099  \n",
      "3      447671.9400  7.012181e+06  2771.639  2875.099  \n",
      "4      447671.9400  7.012181e+06  2771.639  2875.099  \n",
      "...            ...           ...       ...       ...  \n",
      "80075  457638.9512  7.011792e+06  2769.376  2898.366  \n",
      "80076  457638.9512  7.011792e+06  2769.376  2898.366  \n",
      "80077  457638.9512  7.011792e+06  2769.376  2898.366  \n",
      "80078  457638.9512  7.011792e+06  2769.376  2898.366  \n",
      "80079  457638.9512  7.011792e+06  2769.376  2898.366  \n",
      "\n",
      "[80080 rows x 9 columns]\n",
      "После второго объединения:\n",
      "                   x             y          z wells               name  \\\n",
      "0      445946.632991  7.004198e+06  72.554604  663R  TPU_BVBJ1_1_TOP_S   \n",
      "1      445946.632991  7.011948e+06  75.619003  663R  TPU_BVBJ1_1_TOP_S   \n",
      "2      445946.632991  7.011998e+06  77.151199  663R  TPU_BVBJ1_1_TOP_S   \n",
      "3      445946.632991  7.012048e+06  80.215599  663R  TPU_BVBJ1_1_TOP_S   \n",
      "4      445946.632991  7.012098e+06  83.279999  663R  TPU_BVBJ1_1_TOP_S   \n",
      "...              ...           ...        ...   ...                ...   \n",
      "80075  460196.632991  7.013548e+06  80.215599  661R  TPU_BVBJ1_1_TOP_S   \n",
      "80076  460196.632991  7.013598e+06  78.683403  661R  TPU_BVBJ1_1_TOP_S   \n",
      "80077  460196.632991  7.013648e+06  80.215599  661R  TPU_BVBJ1_1_TOP_S   \n",
      "80078  460196.632991  7.013348e+06  81.747803  661R  TPU_BVBJ1_1_TOP_S   \n",
      "80079  460196.632991  7.018148e+06  80.215599  661R  TPU_BVBJ1_1_TOP_S   \n",
      "\n",
      "           inlines        xlines       top    bottom   имя  \\\n",
      "0      447671.9400  7.012181e+06  2771.639  2875.099  663R   \n",
      "1      447671.9400  7.012181e+06  2771.639  2875.099  663R   \n",
      "2      447671.9400  7.012181e+06  2771.639  2875.099  663R   \n",
      "3      447671.9400  7.012181e+06  2771.639  2875.099  663R   \n",
      "4      447671.9400  7.012181e+06  2771.639  2875.099  663R   \n",
      "...            ...           ...       ...       ...   ...   \n",
      "80075  457638.9512  7.011792e+06  2769.376  2898.366  661R   \n",
      "80076  457638.9512  7.011792e+06  2769.376  2898.366  661R   \n",
      "80077  457638.9512  7.011792e+06  2769.376  2898.366  661R   \n",
      "80078  457638.9512  7.011792e+06  2769.376  2898.366  661R   \n",
      "80079  457638.9512  7.011792e+06  2769.376  2898.366  661R   \n",
      "\n",
      "       наиболее_частое_значение  количество  значение_1.0  количество_1.0  \n",
      "0                           0.0        1080           1.0             557  \n",
      "1                           0.0        1080           1.0             557  \n",
      "2                           0.0        1080           1.0             557  \n",
      "3                           0.0        1080           1.0             557  \n",
      "4                           0.0        1080           1.0             557  \n",
      "...                         ...         ...           ...             ...  \n",
      "80075                       0.0         703           1.0             363  \n",
      "80076                       0.0         703           1.0             363  \n",
      "80077                       0.0         703           1.0             363  \n",
      "80078                       0.0         703           1.0             363  \n",
      "80079                       0.0         703           1.0             363  \n",
      "\n",
      "[80080 rows x 14 columns]\n",
      "Итоговый DataFrame:\n",
      "      Скважина  класс по карте  класс по скважине\n",
      "0         663R       72.554604                0.0\n",
      "1         663R       75.619003                0.0\n",
      "2         663R       77.151199                0.0\n",
      "3         663R       80.215599                0.0\n",
      "4         663R       83.279999                0.0\n",
      "...        ...             ...                ...\n",
      "80075     661R       80.215599                0.0\n",
      "80076     661R       78.683403                0.0\n",
      "80077     661R       80.215599                0.0\n",
      "80078     661R       81.747803                0.0\n",
      "80079     661R       80.215599                0.0\n",
      "\n",
      "[80080 rows x 3 columns]\n"
     ]
    }
   ],
   "source": [
    "import pandas as pd\n",
    "\n",
    "\n",
    "# Шаг 1: Сортируем датафреймы по значениям для использования merge_asof\n",
    "df_Lateral_trend = df_Lateral_trend.sort_values('x')\n",
    "df_all_wells_coor = df_all_wells_coor.sort_values('inlines')\n",
    "\n",
    "# Шаг 2: Объединяем Lateral_trend и df_all_wells_coor с использованием merge_asof\n",
    "merged_df = pd.merge_asof(df_Lateral_trend, df_all_wells_coor, left_on='x', right_on='inlines', direction='nearest')\n",
    "\n",
    "# Выводим промежуточный результат\n",
    "print(\"После первого объединения:\")\n",
    "print(merged_df)\n",
    "\n",
    "# Шаг 3: Объединяем с df_facii по колонке wells\n",
    "df_result = pd.merge(merged_df, df_facii, left_on='wells', right_on='имя', how='inner')\n",
    "\n",
    "# Выводим промежуточный результат\n",
    "print(\"После второго объединения:\")\n",
    "print(df_result)\n",
    "\n",
    "# Шаг 4: Создаем итоговый датафрейм с нужными колонками\n",
    "df_result_final = df_result[['wells', 'z', 'наиболее_частое_значение']]\n",
    "df_result_final.columns = ['Скважина', 'класс по карте', 'класс по скважине']\n",
    "\n",
    "# Выводим финальный результат\n",
    "print(\"Итоговый DataFrame:\")\n",
    "print(df_result_final)\n"
   ],
   "metadata": {
    "collapsed": false,
    "ExecuteTime": {
     "end_time": "2025-03-14T06:02:42.541508700Z",
     "start_time": "2025-03-14T06:02:42.491529900Z"
    }
   },
   "id": "7c9c1fb6bc13dfce",
   "execution_count": 92
  },
  {
   "cell_type": "code",
   "outputs": [],
   "source": [],
   "metadata": {
    "collapsed": false
   },
   "id": "322bc2e0595fe2fc"
  },
  {
   "cell_type": "code",
   "outputs": [
    {
     "name": "stdout",
     "output_type": "stream",
     "text": [
      "Результат объединения с уникальными совпадениями:\n",
      "               x             y          z  wells name   inlines   xlines  top  \\\n",
      "0  445946.632991  7.004198e+06  72.554604  Well1    A  445950.0  7004200   10   \n",
      "1  445996.632991  7.004198e+06  74.086800  Well1    A  445950.0  7004200   10   \n",
      "2  446046.632991  7.004198e+06  74.086800  Well2    B  446100.0  7004200   20   \n",
      "3  446096.632991  7.004198e+06  75.619003  Well2    B  446100.0  7004200   20   \n",
      "4  446146.632991  7.004198e+06  74.086800  Well2    B  446100.0  7004200   20   \n",
      "5  446196.632991  7.004198e+06  71.022400  Well2    B  446100.0  7004200   20   \n",
      "6  446246.632991  7.004198e+06  72.554604  Well3    C  446300.0  7004200   30   \n",
      "7  446296.632991  7.004198e+06  72.554604  Well3    C  446300.0  7004200   30   \n",
      "8  446346.632991  7.004198e+06  74.086800  Well3    C  446300.0  7004200   30   \n",
      "9  446396.632991  7.004198e+06  72.554604  Well3    C  446300.0  7004200   30   \n",
      "\n",
      "   bottom  \n",
      "0      15  \n",
      "1      15  \n",
      "2      25  \n",
      "3      25  \n",
      "4      25  \n",
      "5      25  \n",
      "6      35  \n",
      "7      35  \n",
      "8      35  \n",
      "9      35  \n"
     ]
    }
   ],
   "source": [
    "import pandas as pd\n",
    "\n",
    "# Примерные данные для Lateral_trend\n",
    "data_lateral_trend = [\n",
    "    {'x': 445946.632991, 'y': 7004198.214381, 'z': 72.554604},\n",
    "    {'x': 445996.632991, 'y': 7004198.214381, 'z': 74.0868},\n",
    "    {'x': 446046.632991, 'y': 7004198.214381, 'z': 74.0868},\n",
    "    {'x': 446096.632991, 'y': 7004198.214381, 'z': 75.619003},\n",
    "    {'x': 446146.632991, 'y': 7004198.214381, 'z': 74.0868},\n",
    "    {'x': 446196.632991, 'y': 7004198.214381, 'z': 71.0224},\n",
    "    {'x': 446246.632991, 'y': 7004198.214381, 'z': 72.554604},\n",
    "    {'x': 446296.632991, 'y': 7004198.214381, 'z': 72.554604},\n",
    "    {'x': 446346.632991, 'y': 7004198.214381, 'z': 74.0868},\n",
    "    {'x': 446396.632991, 'y': 7004198.214381, 'z': 72.554604}\n",
    "]\n",
    "Lateral_trend = pd.DataFrame(data_lateral_trend)\n",
    "\n",
    "# Примерные данные для df_all_wells_coor\n",
    "data_all_wells_coor = {\n",
    "    'wells': ['Well1', 'Well2', 'Well3'],\n",
    "    'name': ['A', 'B', 'C'],\n",
    "    'inlines': [445950, 446100, 446300],\n",
    "    'xlines': [7004200, 7004200, 7004200],\n",
    "    'top': [10, 20, 30],\n",
    "    'bottom': [15, 25, 35]\n",
    "}\n",
    "df_all_wells_coor = pd.DataFrame(data_all_wells_coor)\n",
    "\n",
    "# Приводим тип данных inlines к float\n",
    "df_all_wells_coor['inlines'] = df_all_wells_coor['inlines'].astype(float)\n",
    "\n",
    "# Шаг 1: Сортируем датафреймы по значениям для использования merge_asof\n",
    "Lateral_trend = Lateral_trend.sort_values('x')\n",
    "df_all_wells_coor = df_all_wells_coor.sort_values('inlines')\n",
    "\n",
    "# Шаг 2: Объединяем Lateral_trend и df_all_wells_coor с использованием merge_asof\n",
    "merged_df = pd.merge_asof(Lateral_trend, df_all_wells_coor, left_on='x', right_on='inlines', direction='nearest')\n",
    "\n",
    "# Шаг 3: Удаляем дубликаты, оставляя только одно совпадение\n",
    "merged_df = merged_df.drop_duplicates(subset='x')\n",
    "\n",
    "# Выводим промежуточный результат\n",
    "print(\"Результат объединения с уникальными совпадениями:\")\n",
    "print(merged_df)\n"
   ],
   "metadata": {
    "collapsed": false,
    "ExecuteTime": {
     "end_time": "2025-03-14T06:07:08.855928600Z",
     "start_time": "2025-03-14T06:07:08.848281500Z"
    }
   },
   "id": "31e34880f8192d15",
   "execution_count": 94
  },
  {
   "cell_type": "code",
   "outputs": [],
   "source": [],
   "metadata": {
    "collapsed": false
   },
   "id": "406cef02a981a2a7"
  },
  {
   "cell_type": "code",
   "outputs": [],
   "source": [],
   "metadata": {
    "collapsed": false
   },
   "id": "70a2b2049ae406f9"
  },
  {
   "cell_type": "code",
   "outputs": [
    {
     "data": {
      "text/plain": "    Скважина  Сейсм класс  Скв класс1\n0          9            5           1\n1         16            4           1\n2          8            5           3\n3          3            5           2\n4          2            5           1\n5         17            4           1\n6          7            5           2\n7          5            5           2\n8         14            4           1\n9         15            4           1\n10         6            4           3\n11         4            4           1",
      "text/html": "<div>\n<style scoped>\n    .dataframe tbody tr th:only-of-type {\n        vertical-align: middle;\n    }\n\n    .dataframe tbody tr th {\n        vertical-align: top;\n    }\n\n    .dataframe thead th {\n        text-align: right;\n    }\n</style>\n<table border=\"1\" class=\"dataframe\">\n  <thead>\n    <tr style=\"text-align: right;\">\n      <th></th>\n      <th>Скважина</th>\n      <th>Сейсм класс</th>\n      <th>Скв класс1</th>\n    </tr>\n  </thead>\n  <tbody>\n    <tr>\n      <th>0</th>\n      <td>9</td>\n      <td>5</td>\n      <td>1</td>\n    </tr>\n    <tr>\n      <th>1</th>\n      <td>16</td>\n      <td>4</td>\n      <td>1</td>\n    </tr>\n    <tr>\n      <th>2</th>\n      <td>8</td>\n      <td>5</td>\n      <td>3</td>\n    </tr>\n    <tr>\n      <th>3</th>\n      <td>3</td>\n      <td>5</td>\n      <td>2</td>\n    </tr>\n    <tr>\n      <th>4</th>\n      <td>2</td>\n      <td>5</td>\n      <td>1</td>\n    </tr>\n    <tr>\n      <th>5</th>\n      <td>17</td>\n      <td>4</td>\n      <td>1</td>\n    </tr>\n    <tr>\n      <th>6</th>\n      <td>7</td>\n      <td>5</td>\n      <td>2</td>\n    </tr>\n    <tr>\n      <th>7</th>\n      <td>5</td>\n      <td>5</td>\n      <td>2</td>\n    </tr>\n    <tr>\n      <th>8</th>\n      <td>14</td>\n      <td>4</td>\n      <td>1</td>\n    </tr>\n    <tr>\n      <th>9</th>\n      <td>15</td>\n      <td>4</td>\n      <td>1</td>\n    </tr>\n    <tr>\n      <th>10</th>\n      <td>6</td>\n      <td>4</td>\n      <td>3</td>\n    </tr>\n    <tr>\n      <th>11</th>\n      <td>4</td>\n      <td>4</td>\n      <td>1</td>\n    </tr>\n  </tbody>\n</table>\n</div>"
     },
     "execution_count": 78,
     "metadata": {},
     "output_type": "execute_result"
    }
   ],
   "source": [
    "#test\n",
    "df = pd.read_excel('C:/HV/Seismic/datas/SFA_SO.xlsx')\n",
    "df"
   ],
   "metadata": {
    "collapsed": false,
    "ExecuteTime": {
     "end_time": "2025-03-14T05:42:47.693740300Z",
     "start_time": "2025-03-14T05:42:47.683631500Z"
    }
   },
   "id": "af87b11e3d589f1c",
   "execution_count": 78
  },
  {
   "cell_type": "code",
   "outputs": [],
   "source": [
    "\n",
    "\n",
    "def plot_with_trendline(df, x_col, y_col, name_col):\n",
    "    \"\"\"\n",
    "    Функция для построения графика с линией тренда и значением R^2,\n",
    "    а также отображением всех имен при наведении на точки.\n",
    "\n",
    "    :param df: DataFrame, содержащий данные\n",
    "    :param x_col: str, имя колонки для оси X\n",
    "    :param y_col: str, имя колонки для оси Y\n",
    "    :param name_col: str, имя колонки с именами для отображения\n",
    "    \"\"\"\n",
    "    # Преобразование значений в колонке с именами в строковый формат\n",
    "    df[name_col] = df[name_col].astype(str)\n",
    "\n",
    "    # Создание новой колонки с объединенными именами для одинаковых координат\n",
    "    df['hover_names'] = df.groupby([x_col, y_col])[name_col].transform(lambda x: ', '.join(x))\n",
    "\n",
    "    # Извлечение данных\n",
    "    x = df[x_col]\n",
    "    y = df[y_col]\n",
    "    hover_names = df['hover_names']\n",
    "\n",
    "    # Вычисление коэффициентов линейной регрессии\n",
    "    coefficients = np.polyfit(x, y, 1)\n",
    "    polynomial = np.poly1d(coefficients)\n",
    "    trendline = polynomial(x)\n",
    "\n",
    "    # Вычисление R^2\n",
    "    r_squared = 1 - (np.sum((y - trendline) ** 2) / np.sum((y - np.mean(y)) ** 2))\n",
    "\n",
    "    # Форматирование уравнения линии тренда\n",
    "    slope = coefficients[0]\n",
    "    intercept = coefficients[1]\n",
    "    equation = f'y = {slope:.2f}x + {intercept:.2f}'\n",
    "\n",
    "\n",
    "    # Создание графика\n",
    "    fig = go.Figure()\n",
    "\n",
    "    # Добавление точки данных с текстом для отображения имен\n",
    "    fig.add_trace(go.Scatter(\n",
    "        x=x,\n",
    "        y=y,\n",
    "        mode='markers',\n",
    "        name='Скважины',\n",
    "        text=hover_names,  # Текст для отображения при наведении\n",
    "        hoverinfo='text'  # Отображение только текста\n",
    "    ))\n",
    "\n",
    "    # Добавление линии тренда\n",
    "    fig.add_trace(go.Scatter(x=x, y=trendline, mode='lines', name='Линия тренда'))\n",
    "\n",
    "    # Добавление аннотации с R^2\n",
    "    fig.add_annotation(\n",
    "        x=0.5,\n",
    "        y=0.9,\n",
    "        text=f'R² = {r_squared:.2f}<br>{equation}',\n",
    "        showarrow=False,\n",
    "        font=dict(size=16),\n",
    "        xref=\"paper\",\n",
    "        yref=\"paper\"\n",
    "    )\n",
    "\n",
    "    # Настройки графика\n",
    "    fig.update_layout(\n",
    "        title='Скважины с линией тренда',\n",
    "        xaxis_title=x_col,\n",
    "        yaxis_title=y_col\n",
    "    )\n",
    "\n",
    "    # Показать график\n",
    "    fig.show()\n"
   ],
   "metadata": {
    "collapsed": false,
    "ExecuteTime": {
     "end_time": "2025-03-12T04:02:25.715050Z",
     "start_time": "2025-03-12T04:02:25.712829200Z"
    }
   },
   "id": "2a5063c82ce0a9a9",
   "execution_count": 22
  },
  {
   "cell_type": "code",
   "outputs": [
    {
     "data": {
      "application/vnd.plotly.v1+json": {
       "data": [
        {
         "hoverinfo": "text",
         "mode": "markers",
         "name": "Скважины",
         "text": [
          "9, 2",
          "16, 17, 14, 15, 4",
          "8",
          "3, 7, 5",
          "9, 2",
          "16, 17, 14, 15, 4",
          "3, 7, 5",
          "3, 7, 5",
          "16, 17, 14, 15, 4",
          "16, 17, 14, 15, 4",
          "6",
          "16, 17, 14, 15, 4"
         ],
         "x": [
          5,
          4,
          5,
          5,
          5,
          4,
          5,
          5,
          4,
          4,
          4,
          4
         ],
         "y": [
          1,
          1,
          3,
          2,
          1,
          1,
          2,
          2,
          1,
          1,
          3,
          1
         ],
         "type": "scatter"
        },
        {
         "mode": "lines",
         "name": "Линия тренда",
         "x": [
          5,
          4,
          5,
          5,
          5,
          4,
          5,
          5,
          4,
          4,
          4,
          4
         ],
         "y": [
          1.8333333333333346,
          1.3333333333333333,
          1.8333333333333346,
          1.8333333333333346,
          1.8333333333333346,
          1.3333333333333333,
          1.8333333333333346,
          1.8333333333333346,
          1.3333333333333333,
          1.3333333333333333,
          1.3333333333333333,
          1.3333333333333333
         ],
         "type": "scatter"
        }
       ],
       "layout": {
        "template": {
         "data": {
          "histogram2dcontour": [
           {
            "type": "histogram2dcontour",
            "colorbar": {
             "outlinewidth": 0,
             "ticks": ""
            },
            "colorscale": [
             [
              0.0,
              "#0d0887"
             ],
             [
              0.1111111111111111,
              "#46039f"
             ],
             [
              0.2222222222222222,
              "#7201a8"
             ],
             [
              0.3333333333333333,
              "#9c179e"
             ],
             [
              0.4444444444444444,
              "#bd3786"
             ],
             [
              0.5555555555555556,
              "#d8576b"
             ],
             [
              0.6666666666666666,
              "#ed7953"
             ],
             [
              0.7777777777777778,
              "#fb9f3a"
             ],
             [
              0.8888888888888888,
              "#fdca26"
             ],
             [
              1.0,
              "#f0f921"
             ]
            ]
           }
          ],
          "choropleth": [
           {
            "type": "choropleth",
            "colorbar": {
             "outlinewidth": 0,
             "ticks": ""
            }
           }
          ],
          "histogram2d": [
           {
            "type": "histogram2d",
            "colorbar": {
             "outlinewidth": 0,
             "ticks": ""
            },
            "colorscale": [
             [
              0.0,
              "#0d0887"
             ],
             [
              0.1111111111111111,
              "#46039f"
             ],
             [
              0.2222222222222222,
              "#7201a8"
             ],
             [
              0.3333333333333333,
              "#9c179e"
             ],
             [
              0.4444444444444444,
              "#bd3786"
             ],
             [
              0.5555555555555556,
              "#d8576b"
             ],
             [
              0.6666666666666666,
              "#ed7953"
             ],
             [
              0.7777777777777778,
              "#fb9f3a"
             ],
             [
              0.8888888888888888,
              "#fdca26"
             ],
             [
              1.0,
              "#f0f921"
             ]
            ]
           }
          ],
          "heatmap": [
           {
            "type": "heatmap",
            "colorbar": {
             "outlinewidth": 0,
             "ticks": ""
            },
            "colorscale": [
             [
              0.0,
              "#0d0887"
             ],
             [
              0.1111111111111111,
              "#46039f"
             ],
             [
              0.2222222222222222,
              "#7201a8"
             ],
             [
              0.3333333333333333,
              "#9c179e"
             ],
             [
              0.4444444444444444,
              "#bd3786"
             ],
             [
              0.5555555555555556,
              "#d8576b"
             ],
             [
              0.6666666666666666,
              "#ed7953"
             ],
             [
              0.7777777777777778,
              "#fb9f3a"
             ],
             [
              0.8888888888888888,
              "#fdca26"
             ],
             [
              1.0,
              "#f0f921"
             ]
            ]
           }
          ],
          "heatmapgl": [
           {
            "type": "heatmapgl",
            "colorbar": {
             "outlinewidth": 0,
             "ticks": ""
            },
            "colorscale": [
             [
              0.0,
              "#0d0887"
             ],
             [
              0.1111111111111111,
              "#46039f"
             ],
             [
              0.2222222222222222,
              "#7201a8"
             ],
             [
              0.3333333333333333,
              "#9c179e"
             ],
             [
              0.4444444444444444,
              "#bd3786"
             ],
             [
              0.5555555555555556,
              "#d8576b"
             ],
             [
              0.6666666666666666,
              "#ed7953"
             ],
             [
              0.7777777777777778,
              "#fb9f3a"
             ],
             [
              0.8888888888888888,
              "#fdca26"
             ],
             [
              1.0,
              "#f0f921"
             ]
            ]
           }
          ],
          "contourcarpet": [
           {
            "type": "contourcarpet",
            "colorbar": {
             "outlinewidth": 0,
             "ticks": ""
            }
           }
          ],
          "contour": [
           {
            "type": "contour",
            "colorbar": {
             "outlinewidth": 0,
             "ticks": ""
            },
            "colorscale": [
             [
              0.0,
              "#0d0887"
             ],
             [
              0.1111111111111111,
              "#46039f"
             ],
             [
              0.2222222222222222,
              "#7201a8"
             ],
             [
              0.3333333333333333,
              "#9c179e"
             ],
             [
              0.4444444444444444,
              "#bd3786"
             ],
             [
              0.5555555555555556,
              "#d8576b"
             ],
             [
              0.6666666666666666,
              "#ed7953"
             ],
             [
              0.7777777777777778,
              "#fb9f3a"
             ],
             [
              0.8888888888888888,
              "#fdca26"
             ],
             [
              1.0,
              "#f0f921"
             ]
            ]
           }
          ],
          "surface": [
           {
            "type": "surface",
            "colorbar": {
             "outlinewidth": 0,
             "ticks": ""
            },
            "colorscale": [
             [
              0.0,
              "#0d0887"
             ],
             [
              0.1111111111111111,
              "#46039f"
             ],
             [
              0.2222222222222222,
              "#7201a8"
             ],
             [
              0.3333333333333333,
              "#9c179e"
             ],
             [
              0.4444444444444444,
              "#bd3786"
             ],
             [
              0.5555555555555556,
              "#d8576b"
             ],
             [
              0.6666666666666666,
              "#ed7953"
             ],
             [
              0.7777777777777778,
              "#fb9f3a"
             ],
             [
              0.8888888888888888,
              "#fdca26"
             ],
             [
              1.0,
              "#f0f921"
             ]
            ]
           }
          ],
          "mesh3d": [
           {
            "type": "mesh3d",
            "colorbar": {
             "outlinewidth": 0,
             "ticks": ""
            }
           }
          ],
          "scatter": [
           {
            "marker": {
             "line": {
              "color": "#283442"
             }
            },
            "type": "scatter"
           }
          ],
          "parcoords": [
           {
            "type": "parcoords",
            "line": {
             "colorbar": {
              "outlinewidth": 0,
              "ticks": ""
             }
            }
           }
          ],
          "scatterpolargl": [
           {
            "type": "scatterpolargl",
            "marker": {
             "colorbar": {
              "outlinewidth": 0,
              "ticks": ""
             }
            }
           }
          ],
          "bar": [
           {
            "error_x": {
             "color": "#f2f5fa"
            },
            "error_y": {
             "color": "#f2f5fa"
            },
            "marker": {
             "line": {
              "color": "rgb(17,17,17)",
              "width": 0.5
             },
             "pattern": {
              "fillmode": "overlay",
              "size": 10,
              "solidity": 0.2
             }
            },
            "type": "bar"
           }
          ],
          "scattergeo": [
           {
            "type": "scattergeo",
            "marker": {
             "colorbar": {
              "outlinewidth": 0,
              "ticks": ""
             }
            }
           }
          ],
          "scatterpolar": [
           {
            "type": "scatterpolar",
            "marker": {
             "colorbar": {
              "outlinewidth": 0,
              "ticks": ""
             }
            }
           }
          ],
          "histogram": [
           {
            "marker": {
             "pattern": {
              "fillmode": "overlay",
              "size": 10,
              "solidity": 0.2
             }
            },
            "type": "histogram"
           }
          ],
          "scattergl": [
           {
            "marker": {
             "line": {
              "color": "#283442"
             }
            },
            "type": "scattergl"
           }
          ],
          "scatter3d": [
           {
            "type": "scatter3d",
            "line": {
             "colorbar": {
              "outlinewidth": 0,
              "ticks": ""
             }
            },
            "marker": {
             "colorbar": {
              "outlinewidth": 0,
              "ticks": ""
             }
            }
           }
          ],
          "scattermapbox": [
           {
            "type": "scattermapbox",
            "marker": {
             "colorbar": {
              "outlinewidth": 0,
              "ticks": ""
             }
            }
           }
          ],
          "scatterternary": [
           {
            "type": "scatterternary",
            "marker": {
             "colorbar": {
              "outlinewidth": 0,
              "ticks": ""
             }
            }
           }
          ],
          "scattercarpet": [
           {
            "type": "scattercarpet",
            "marker": {
             "colorbar": {
              "outlinewidth": 0,
              "ticks": ""
             }
            }
           }
          ],
          "carpet": [
           {
            "aaxis": {
             "endlinecolor": "#A2B1C6",
             "gridcolor": "#506784",
             "linecolor": "#506784",
             "minorgridcolor": "#506784",
             "startlinecolor": "#A2B1C6"
            },
            "baxis": {
             "endlinecolor": "#A2B1C6",
             "gridcolor": "#506784",
             "linecolor": "#506784",
             "minorgridcolor": "#506784",
             "startlinecolor": "#A2B1C6"
            },
            "type": "carpet"
           }
          ],
          "table": [
           {
            "cells": {
             "fill": {
              "color": "#506784"
             },
             "line": {
              "color": "rgb(17,17,17)"
             }
            },
            "header": {
             "fill": {
              "color": "#2a3f5f"
             },
             "line": {
              "color": "rgb(17,17,17)"
             }
            },
            "type": "table"
           }
          ],
          "barpolar": [
           {
            "marker": {
             "line": {
              "color": "rgb(17,17,17)",
              "width": 0.5
             },
             "pattern": {
              "fillmode": "overlay",
              "size": 10,
              "solidity": 0.2
             }
            },
            "type": "barpolar"
           }
          ],
          "pie": [
           {
            "automargin": true,
            "type": "pie"
           }
          ]
         },
         "layout": {
          "autotypenumbers": "strict",
          "colorway": [
           "#636efa",
           "#EF553B",
           "#00cc96",
           "#ab63fa",
           "#FFA15A",
           "#19d3f3",
           "#FF6692",
           "#B6E880",
           "#FF97FF",
           "#FECB52"
          ],
          "font": {
           "color": "#f2f5fa"
          },
          "hovermode": "closest",
          "hoverlabel": {
           "align": "left"
          },
          "paper_bgcolor": "rgb(17,17,17)",
          "plot_bgcolor": "rgb(17,17,17)",
          "polar": {
           "bgcolor": "rgb(17,17,17)",
           "angularaxis": {
            "gridcolor": "#506784",
            "linecolor": "#506784",
            "ticks": ""
           },
           "radialaxis": {
            "gridcolor": "#506784",
            "linecolor": "#506784",
            "ticks": ""
           }
          },
          "ternary": {
           "bgcolor": "rgb(17,17,17)",
           "aaxis": {
            "gridcolor": "#506784",
            "linecolor": "#506784",
            "ticks": ""
           },
           "baxis": {
            "gridcolor": "#506784",
            "linecolor": "#506784",
            "ticks": ""
           },
           "caxis": {
            "gridcolor": "#506784",
            "linecolor": "#506784",
            "ticks": ""
           }
          },
          "coloraxis": {
           "colorbar": {
            "outlinewidth": 0,
            "ticks": ""
           }
          },
          "colorscale": {
           "sequential": [
            [
             0.0,
             "#0d0887"
            ],
            [
             0.1111111111111111,
             "#46039f"
            ],
            [
             0.2222222222222222,
             "#7201a8"
            ],
            [
             0.3333333333333333,
             "#9c179e"
            ],
            [
             0.4444444444444444,
             "#bd3786"
            ],
            [
             0.5555555555555556,
             "#d8576b"
            ],
            [
             0.6666666666666666,
             "#ed7953"
            ],
            [
             0.7777777777777778,
             "#fb9f3a"
            ],
            [
             0.8888888888888888,
             "#fdca26"
            ],
            [
             1.0,
             "#f0f921"
            ]
           ],
           "sequentialminus": [
            [
             0.0,
             "#0d0887"
            ],
            [
             0.1111111111111111,
             "#46039f"
            ],
            [
             0.2222222222222222,
             "#7201a8"
            ],
            [
             0.3333333333333333,
             "#9c179e"
            ],
            [
             0.4444444444444444,
             "#bd3786"
            ],
            [
             0.5555555555555556,
             "#d8576b"
            ],
            [
             0.6666666666666666,
             "#ed7953"
            ],
            [
             0.7777777777777778,
             "#fb9f3a"
            ],
            [
             0.8888888888888888,
             "#fdca26"
            ],
            [
             1.0,
             "#f0f921"
            ]
           ],
           "diverging": [
            [
             0,
             "#8e0152"
            ],
            [
             0.1,
             "#c51b7d"
            ],
            [
             0.2,
             "#de77ae"
            ],
            [
             0.3,
             "#f1b6da"
            ],
            [
             0.4,
             "#fde0ef"
            ],
            [
             0.5,
             "#f7f7f7"
            ],
            [
             0.6,
             "#e6f5d0"
            ],
            [
             0.7,
             "#b8e186"
            ],
            [
             0.8,
             "#7fbc41"
            ],
            [
             0.9,
             "#4d9221"
            ],
            [
             1,
             "#276419"
            ]
           ]
          },
          "xaxis": {
           "gridcolor": "#283442",
           "linecolor": "#506784",
           "ticks": "",
           "title": {
            "standoff": 15
           },
           "zerolinecolor": "#283442",
           "automargin": true,
           "zerolinewidth": 2
          },
          "yaxis": {
           "gridcolor": "#283442",
           "linecolor": "#506784",
           "ticks": "",
           "title": {
            "standoff": 15
           },
           "zerolinecolor": "#283442",
           "automargin": true,
           "zerolinewidth": 2
          },
          "scene": {
           "xaxis": {
            "backgroundcolor": "rgb(17,17,17)",
            "gridcolor": "#506784",
            "linecolor": "#506784",
            "showbackground": true,
            "ticks": "",
            "zerolinecolor": "#C8D4E3",
            "gridwidth": 2
           },
           "yaxis": {
            "backgroundcolor": "rgb(17,17,17)",
            "gridcolor": "#506784",
            "linecolor": "#506784",
            "showbackground": true,
            "ticks": "",
            "zerolinecolor": "#C8D4E3",
            "gridwidth": 2
           },
           "zaxis": {
            "backgroundcolor": "rgb(17,17,17)",
            "gridcolor": "#506784",
            "linecolor": "#506784",
            "showbackground": true,
            "ticks": "",
            "zerolinecolor": "#C8D4E3",
            "gridwidth": 2
           }
          },
          "shapedefaults": {
           "line": {
            "color": "#f2f5fa"
           }
          },
          "annotationdefaults": {
           "arrowcolor": "#f2f5fa",
           "arrowhead": 0,
           "arrowwidth": 1
          },
          "geo": {
           "bgcolor": "rgb(17,17,17)",
           "landcolor": "rgb(17,17,17)",
           "subunitcolor": "#506784",
           "showland": true,
           "showlakes": true,
           "lakecolor": "rgb(17,17,17)"
          },
          "title": {
           "x": 0.05
          },
          "updatemenudefaults": {
           "bgcolor": "#506784",
           "borderwidth": 0
          },
          "sliderdefaults": {
           "bgcolor": "#C8D4E3",
           "borderwidth": 1,
           "bordercolor": "rgb(17,17,17)",
           "tickwidth": 0
          },
          "mapbox": {
           "style": "dark"
          }
         }
        },
        "annotations": [
         {
          "font": {
           "size": 16
          },
          "showarrow": false,
          "text": "R² = 0.11<br>y = 0.50x + -0.67",
          "x": 0.5,
          "xref": "paper",
          "y": 0.9,
          "yref": "paper"
         }
        ],
        "title": {
         "text": "Скважины с линией тренда"
        },
        "xaxis": {
         "title": {
          "text": "Сейсм класс"
         }
        },
        "yaxis": {
         "title": {
          "text": "Скв класс1"
         }
        }
       },
       "config": {
        "plotlyServerURL": "https://plot.ly"
       }
      },
      "text/html": "<div>                            <div id=\"21321517-fdbf-410e-a48a-293b26ca0829\" class=\"plotly-graph-div\" style=\"height:525px; width:100%;\"></div>            <script type=\"text/javascript\">                require([\"plotly\"], function(Plotly) {                    window.PLOTLYENV=window.PLOTLYENV || {};                                    if (document.getElementById(\"21321517-fdbf-410e-a48a-293b26ca0829\")) {                    Plotly.newPlot(                        \"21321517-fdbf-410e-a48a-293b26ca0829\",                        [{\"hoverinfo\":\"text\",\"mode\":\"markers\",\"name\":\"\\u0421\\u043a\\u0432\\u0430\\u0436\\u0438\\u043d\\u044b\",\"text\":[\"9, 2\",\"16, 17, 14, 15, 4\",\"8\",\"3, 7, 5\",\"9, 2\",\"16, 17, 14, 15, 4\",\"3, 7, 5\",\"3, 7, 5\",\"16, 17, 14, 15, 4\",\"16, 17, 14, 15, 4\",\"6\",\"16, 17, 14, 15, 4\"],\"x\":[5,4,5,5,5,4,5,5,4,4,4,4],\"y\":[1,1,3,2,1,1,2,2,1,1,3,1],\"type\":\"scatter\"},{\"mode\":\"lines\",\"name\":\"\\u041b\\u0438\\u043d\\u0438\\u044f \\u0442\\u0440\\u0435\\u043d\\u0434\\u0430\",\"x\":[5,4,5,5,5,4,5,5,4,4,4,4],\"y\":[1.8333333333333346,1.3333333333333333,1.8333333333333346,1.8333333333333346,1.8333333333333346,1.3333333333333333,1.8333333333333346,1.8333333333333346,1.3333333333333333,1.3333333333333333,1.3333333333333333,1.3333333333333333],\"type\":\"scatter\"}],                        {\"template\":{\"data\":{\"histogram2dcontour\":[{\"type\":\"histogram2dcontour\",\"colorbar\":{\"outlinewidth\":0,\"ticks\":\"\"},\"colorscale\":[[0.0,\"#0d0887\"],[0.1111111111111111,\"#46039f\"],[0.2222222222222222,\"#7201a8\"],[0.3333333333333333,\"#9c179e\"],[0.4444444444444444,\"#bd3786\"],[0.5555555555555556,\"#d8576b\"],[0.6666666666666666,\"#ed7953\"],[0.7777777777777778,\"#fb9f3a\"],[0.8888888888888888,\"#fdca26\"],[1.0,\"#f0f921\"]]}],\"choropleth\":[{\"type\":\"choropleth\",\"colorbar\":{\"outlinewidth\":0,\"ticks\":\"\"}}],\"histogram2d\":[{\"type\":\"histogram2d\",\"colorbar\":{\"outlinewidth\":0,\"ticks\":\"\"},\"colorscale\":[[0.0,\"#0d0887\"],[0.1111111111111111,\"#46039f\"],[0.2222222222222222,\"#7201a8\"],[0.3333333333333333,\"#9c179e\"],[0.4444444444444444,\"#bd3786\"],[0.5555555555555556,\"#d8576b\"],[0.6666666666666666,\"#ed7953\"],[0.7777777777777778,\"#fb9f3a\"],[0.8888888888888888,\"#fdca26\"],[1.0,\"#f0f921\"]]}],\"heatmap\":[{\"type\":\"heatmap\",\"colorbar\":{\"outlinewidth\":0,\"ticks\":\"\"},\"colorscale\":[[0.0,\"#0d0887\"],[0.1111111111111111,\"#46039f\"],[0.2222222222222222,\"#7201a8\"],[0.3333333333333333,\"#9c179e\"],[0.4444444444444444,\"#bd3786\"],[0.5555555555555556,\"#d8576b\"],[0.6666666666666666,\"#ed7953\"],[0.7777777777777778,\"#fb9f3a\"],[0.8888888888888888,\"#fdca26\"],[1.0,\"#f0f921\"]]}],\"heatmapgl\":[{\"type\":\"heatmapgl\",\"colorbar\":{\"outlinewidth\":0,\"ticks\":\"\"},\"colorscale\":[[0.0,\"#0d0887\"],[0.1111111111111111,\"#46039f\"],[0.2222222222222222,\"#7201a8\"],[0.3333333333333333,\"#9c179e\"],[0.4444444444444444,\"#bd3786\"],[0.5555555555555556,\"#d8576b\"],[0.6666666666666666,\"#ed7953\"],[0.7777777777777778,\"#fb9f3a\"],[0.8888888888888888,\"#fdca26\"],[1.0,\"#f0f921\"]]}],\"contourcarpet\":[{\"type\":\"contourcarpet\",\"colorbar\":{\"outlinewidth\":0,\"ticks\":\"\"}}],\"contour\":[{\"type\":\"contour\",\"colorbar\":{\"outlinewidth\":0,\"ticks\":\"\"},\"colorscale\":[[0.0,\"#0d0887\"],[0.1111111111111111,\"#46039f\"],[0.2222222222222222,\"#7201a8\"],[0.3333333333333333,\"#9c179e\"],[0.4444444444444444,\"#bd3786\"],[0.5555555555555556,\"#d8576b\"],[0.6666666666666666,\"#ed7953\"],[0.7777777777777778,\"#fb9f3a\"],[0.8888888888888888,\"#fdca26\"],[1.0,\"#f0f921\"]]}],\"surface\":[{\"type\":\"surface\",\"colorbar\":{\"outlinewidth\":0,\"ticks\":\"\"},\"colorscale\":[[0.0,\"#0d0887\"],[0.1111111111111111,\"#46039f\"],[0.2222222222222222,\"#7201a8\"],[0.3333333333333333,\"#9c179e\"],[0.4444444444444444,\"#bd3786\"],[0.5555555555555556,\"#d8576b\"],[0.6666666666666666,\"#ed7953\"],[0.7777777777777778,\"#fb9f3a\"],[0.8888888888888888,\"#fdca26\"],[1.0,\"#f0f921\"]]}],\"mesh3d\":[{\"type\":\"mesh3d\",\"colorbar\":{\"outlinewidth\":0,\"ticks\":\"\"}}],\"scatter\":[{\"marker\":{\"line\":{\"color\":\"#283442\"}},\"type\":\"scatter\"}],\"parcoords\":[{\"type\":\"parcoords\",\"line\":{\"colorbar\":{\"outlinewidth\":0,\"ticks\":\"\"}}}],\"scatterpolargl\":[{\"type\":\"scatterpolargl\",\"marker\":{\"colorbar\":{\"outlinewidth\":0,\"ticks\":\"\"}}}],\"bar\":[{\"error_x\":{\"color\":\"#f2f5fa\"},\"error_y\":{\"color\":\"#f2f5fa\"},\"marker\":{\"line\":{\"color\":\"rgb(17,17,17)\",\"width\":0.5},\"pattern\":{\"fillmode\":\"overlay\",\"size\":10,\"solidity\":0.2}},\"type\":\"bar\"}],\"scattergeo\":[{\"type\":\"scattergeo\",\"marker\":{\"colorbar\":{\"outlinewidth\":0,\"ticks\":\"\"}}}],\"scatterpolar\":[{\"type\":\"scatterpolar\",\"marker\":{\"colorbar\":{\"outlinewidth\":0,\"ticks\":\"\"}}}],\"histogram\":[{\"marker\":{\"pattern\":{\"fillmode\":\"overlay\",\"size\":10,\"solidity\":0.2}},\"type\":\"histogram\"}],\"scattergl\":[{\"marker\":{\"line\":{\"color\":\"#283442\"}},\"type\":\"scattergl\"}],\"scatter3d\":[{\"type\":\"scatter3d\",\"line\":{\"colorbar\":{\"outlinewidth\":0,\"ticks\":\"\"}},\"marker\":{\"colorbar\":{\"outlinewidth\":0,\"ticks\":\"\"}}}],\"scattermapbox\":[{\"type\":\"scattermapbox\",\"marker\":{\"colorbar\":{\"outlinewidth\":0,\"ticks\":\"\"}}}],\"scatterternary\":[{\"type\":\"scatterternary\",\"marker\":{\"colorbar\":{\"outlinewidth\":0,\"ticks\":\"\"}}}],\"scattercarpet\":[{\"type\":\"scattercarpet\",\"marker\":{\"colorbar\":{\"outlinewidth\":0,\"ticks\":\"\"}}}],\"carpet\":[{\"aaxis\":{\"endlinecolor\":\"#A2B1C6\",\"gridcolor\":\"#506784\",\"linecolor\":\"#506784\",\"minorgridcolor\":\"#506784\",\"startlinecolor\":\"#A2B1C6\"},\"baxis\":{\"endlinecolor\":\"#A2B1C6\",\"gridcolor\":\"#506784\",\"linecolor\":\"#506784\",\"minorgridcolor\":\"#506784\",\"startlinecolor\":\"#A2B1C6\"},\"type\":\"carpet\"}],\"table\":[{\"cells\":{\"fill\":{\"color\":\"#506784\"},\"line\":{\"color\":\"rgb(17,17,17)\"}},\"header\":{\"fill\":{\"color\":\"#2a3f5f\"},\"line\":{\"color\":\"rgb(17,17,17)\"}},\"type\":\"table\"}],\"barpolar\":[{\"marker\":{\"line\":{\"color\":\"rgb(17,17,17)\",\"width\":0.5},\"pattern\":{\"fillmode\":\"overlay\",\"size\":10,\"solidity\":0.2}},\"type\":\"barpolar\"}],\"pie\":[{\"automargin\":true,\"type\":\"pie\"}]},\"layout\":{\"autotypenumbers\":\"strict\",\"colorway\":[\"#636efa\",\"#EF553B\",\"#00cc96\",\"#ab63fa\",\"#FFA15A\",\"#19d3f3\",\"#FF6692\",\"#B6E880\",\"#FF97FF\",\"#FECB52\"],\"font\":{\"color\":\"#f2f5fa\"},\"hovermode\":\"closest\",\"hoverlabel\":{\"align\":\"left\"},\"paper_bgcolor\":\"rgb(17,17,17)\",\"plot_bgcolor\":\"rgb(17,17,17)\",\"polar\":{\"bgcolor\":\"rgb(17,17,17)\",\"angularaxis\":{\"gridcolor\":\"#506784\",\"linecolor\":\"#506784\",\"ticks\":\"\"},\"radialaxis\":{\"gridcolor\":\"#506784\",\"linecolor\":\"#506784\",\"ticks\":\"\"}},\"ternary\":{\"bgcolor\":\"rgb(17,17,17)\",\"aaxis\":{\"gridcolor\":\"#506784\",\"linecolor\":\"#506784\",\"ticks\":\"\"},\"baxis\":{\"gridcolor\":\"#506784\",\"linecolor\":\"#506784\",\"ticks\":\"\"},\"caxis\":{\"gridcolor\":\"#506784\",\"linecolor\":\"#506784\",\"ticks\":\"\"}},\"coloraxis\":{\"colorbar\":{\"outlinewidth\":0,\"ticks\":\"\"}},\"colorscale\":{\"sequential\":[[0.0,\"#0d0887\"],[0.1111111111111111,\"#46039f\"],[0.2222222222222222,\"#7201a8\"],[0.3333333333333333,\"#9c179e\"],[0.4444444444444444,\"#bd3786\"],[0.5555555555555556,\"#d8576b\"],[0.6666666666666666,\"#ed7953\"],[0.7777777777777778,\"#fb9f3a\"],[0.8888888888888888,\"#fdca26\"],[1.0,\"#f0f921\"]],\"sequentialminus\":[[0.0,\"#0d0887\"],[0.1111111111111111,\"#46039f\"],[0.2222222222222222,\"#7201a8\"],[0.3333333333333333,\"#9c179e\"],[0.4444444444444444,\"#bd3786\"],[0.5555555555555556,\"#d8576b\"],[0.6666666666666666,\"#ed7953\"],[0.7777777777777778,\"#fb9f3a\"],[0.8888888888888888,\"#fdca26\"],[1.0,\"#f0f921\"]],\"diverging\":[[0,\"#8e0152\"],[0.1,\"#c51b7d\"],[0.2,\"#de77ae\"],[0.3,\"#f1b6da\"],[0.4,\"#fde0ef\"],[0.5,\"#f7f7f7\"],[0.6,\"#e6f5d0\"],[0.7,\"#b8e186\"],[0.8,\"#7fbc41\"],[0.9,\"#4d9221\"],[1,\"#276419\"]]},\"xaxis\":{\"gridcolor\":\"#283442\",\"linecolor\":\"#506784\",\"ticks\":\"\",\"title\":{\"standoff\":15},\"zerolinecolor\":\"#283442\",\"automargin\":true,\"zerolinewidth\":2},\"yaxis\":{\"gridcolor\":\"#283442\",\"linecolor\":\"#506784\",\"ticks\":\"\",\"title\":{\"standoff\":15},\"zerolinecolor\":\"#283442\",\"automargin\":true,\"zerolinewidth\":2},\"scene\":{\"xaxis\":{\"backgroundcolor\":\"rgb(17,17,17)\",\"gridcolor\":\"#506784\",\"linecolor\":\"#506784\",\"showbackground\":true,\"ticks\":\"\",\"zerolinecolor\":\"#C8D4E3\",\"gridwidth\":2},\"yaxis\":{\"backgroundcolor\":\"rgb(17,17,17)\",\"gridcolor\":\"#506784\",\"linecolor\":\"#506784\",\"showbackground\":true,\"ticks\":\"\",\"zerolinecolor\":\"#C8D4E3\",\"gridwidth\":2},\"zaxis\":{\"backgroundcolor\":\"rgb(17,17,17)\",\"gridcolor\":\"#506784\",\"linecolor\":\"#506784\",\"showbackground\":true,\"ticks\":\"\",\"zerolinecolor\":\"#C8D4E3\",\"gridwidth\":2}},\"shapedefaults\":{\"line\":{\"color\":\"#f2f5fa\"}},\"annotationdefaults\":{\"arrowcolor\":\"#f2f5fa\",\"arrowhead\":0,\"arrowwidth\":1},\"geo\":{\"bgcolor\":\"rgb(17,17,17)\",\"landcolor\":\"rgb(17,17,17)\",\"subunitcolor\":\"#506784\",\"showland\":true,\"showlakes\":true,\"lakecolor\":\"rgb(17,17,17)\"},\"title\":{\"x\":0.05},\"updatemenudefaults\":{\"bgcolor\":\"#506784\",\"borderwidth\":0},\"sliderdefaults\":{\"bgcolor\":\"#C8D4E3\",\"borderwidth\":1,\"bordercolor\":\"rgb(17,17,17)\",\"tickwidth\":0},\"mapbox\":{\"style\":\"dark\"}}},\"annotations\":[{\"font\":{\"size\":16},\"showarrow\":false,\"text\":\"R\\u00b2 = 0.11\\u003cbr\\u003ey = 0.50x + -0.67\",\"x\":0.5,\"xref\":\"paper\",\"y\":0.9,\"yref\":\"paper\"}],\"title\":{\"text\":\"\\u0421\\u043a\\u0432\\u0430\\u0436\\u0438\\u043d\\u044b \\u0441 \\u043b\\u0438\\u043d\\u0438\\u0435\\u0439 \\u0442\\u0440\\u0435\\u043d\\u0434\\u0430\"},\"xaxis\":{\"title\":{\"text\":\"\\u0421\\u0435\\u0439\\u0441\\u043c \\u043a\\u043b\\u0430\\u0441\\u0441\"}},\"yaxis\":{\"title\":{\"text\":\"\\u0421\\u043a\\u0432 \\u043a\\u043b\\u0430\\u0441\\u04411\"}}},                        {\"responsive\": true}                    ).then(function(){\n                            \nvar gd = document.getElementById('21321517-fdbf-410e-a48a-293b26ca0829');\nvar x = new MutationObserver(function (mutations, observer) {{\n        var display = window.getComputedStyle(gd).display;\n        if (!display || display === 'none') {{\n            console.log([gd, 'removed!']);\n            Plotly.purge(gd);\n            observer.disconnect();\n        }}\n}});\n\n// Listen for the removal of the full notebook cells\nvar notebookContainer = gd.closest('#notebook-container');\nif (notebookContainer) {{\n    x.observe(notebookContainer, {childList: true});\n}}\n\n// Listen for the clearing of the current output cell\nvar outputEl = gd.closest('.output');\nif (outputEl) {{\n    x.observe(outputEl, {childList: true});\n}}\n\n                        })                };                });            </script>        </div>"
     },
     "metadata": {},
     "output_type": "display_data"
    }
   ],
   "source": [
    "plot_with_trendline(df, 'Сейсм класс', 'Скв класс1', 'Скважина')"
   ],
   "metadata": {
    "collapsed": false,
    "ExecuteTime": {
     "end_time": "2025-03-12T04:02:26.182898700Z",
     "start_time": "2025-03-12T04:02:26.171799800Z"
    }
   },
   "id": "7132fa33e9446804",
   "execution_count": 23
  },
  {
   "cell_type": "code",
   "outputs": [
    {
     "data": {
      "text/plain": "   Скважина  Сейсм класс  Скв класс1        hover_names\n0         9            5           1               9, 2\n1        16            4           1  16, 17, 14, 15, 4\n2         8            5           3                  8\n3         3            5           2            3, 7, 5\n4         2            5           1               9, 2\n5        17            4           1  16, 17, 14, 15, 4\n6         7            5           2            3, 7, 5\n7         5            5           2            3, 7, 5\n8        14            4           1  16, 17, 14, 15, 4\n9        15            4           1  16, 17, 14, 15, 4\n10        6            4           3                  6\n11        4            4           1  16, 17, 14, 15, 4",
      "text/html": "<div>\n<style scoped>\n    .dataframe tbody tr th:only-of-type {\n        vertical-align: middle;\n    }\n\n    .dataframe tbody tr th {\n        vertical-align: top;\n    }\n\n    .dataframe thead th {\n        text-align: right;\n    }\n</style>\n<table border=\"1\" class=\"dataframe\">\n  <thead>\n    <tr style=\"text-align: right;\">\n      <th></th>\n      <th>Скважина</th>\n      <th>Сейсм класс</th>\n      <th>Скв класс1</th>\n      <th>hover_names</th>\n    </tr>\n  </thead>\n  <tbody>\n    <tr>\n      <th>0</th>\n      <td>9</td>\n      <td>5</td>\n      <td>1</td>\n      <td>9, 2</td>\n    </tr>\n    <tr>\n      <th>1</th>\n      <td>16</td>\n      <td>4</td>\n      <td>1</td>\n      <td>16, 17, 14, 15, 4</td>\n    </tr>\n    <tr>\n      <th>2</th>\n      <td>8</td>\n      <td>5</td>\n      <td>3</td>\n      <td>8</td>\n    </tr>\n    <tr>\n      <th>3</th>\n      <td>3</td>\n      <td>5</td>\n      <td>2</td>\n      <td>3, 7, 5</td>\n    </tr>\n    <tr>\n      <th>4</th>\n      <td>2</td>\n      <td>5</td>\n      <td>1</td>\n      <td>9, 2</td>\n    </tr>\n    <tr>\n      <th>5</th>\n      <td>17</td>\n      <td>4</td>\n      <td>1</td>\n      <td>16, 17, 14, 15, 4</td>\n    </tr>\n    <tr>\n      <th>6</th>\n      <td>7</td>\n      <td>5</td>\n      <td>2</td>\n      <td>3, 7, 5</td>\n    </tr>\n    <tr>\n      <th>7</th>\n      <td>5</td>\n      <td>5</td>\n      <td>2</td>\n      <td>3, 7, 5</td>\n    </tr>\n    <tr>\n      <th>8</th>\n      <td>14</td>\n      <td>4</td>\n      <td>1</td>\n      <td>16, 17, 14, 15, 4</td>\n    </tr>\n    <tr>\n      <th>9</th>\n      <td>15</td>\n      <td>4</td>\n      <td>1</td>\n      <td>16, 17, 14, 15, 4</td>\n    </tr>\n    <tr>\n      <th>10</th>\n      <td>6</td>\n      <td>4</td>\n      <td>3</td>\n      <td>6</td>\n    </tr>\n    <tr>\n      <th>11</th>\n      <td>4</td>\n      <td>4</td>\n      <td>1</td>\n      <td>16, 17, 14, 15, 4</td>\n    </tr>\n  </tbody>\n</table>\n</div>"
     },
     "execution_count": 24,
     "metadata": {},
     "output_type": "execute_result"
    }
   ],
   "source": [
    "df"
   ],
   "metadata": {
    "collapsed": false,
    "ExecuteTime": {
     "end_time": "2025-03-12T04:05:10.569433700Z",
     "start_time": "2025-03-12T04:05:10.561359200Z"
    }
   },
   "id": "94bcacc0d146a747",
   "execution_count": 24
  },
  {
   "cell_type": "code",
   "outputs": [],
   "source": [],
   "metadata": {
    "collapsed": false
   },
   "id": "3aa26bdd447797a8"
  }
 ],
 "metadata": {
  "kernelspec": {
   "display_name": "Python 3",
   "language": "python",
   "name": "python3"
  },
  "language_info": {
   "codemirror_mode": {
    "name": "ipython",
    "version": 2
   },
   "file_extension": ".py",
   "mimetype": "text/x-python",
   "name": "python",
   "nbconvert_exporter": "python",
   "pygments_lexer": "ipython2",
   "version": "2.7.6"
  }
 },
 "nbformat": 4,
 "nbformat_minor": 5
}
