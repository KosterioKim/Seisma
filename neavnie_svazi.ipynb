{
 "cells": [
  {
   "cell_type": "code",
   "execution_count": 8,
   "id": "initial_id",
   "metadata": {
    "collapsed": true,
    "ExecuteTime": {
     "end_time": "2024-11-14T08:29:08.572582300Z",
     "start_time": "2024-11-14T08:29:08.568593800Z"
    }
   },
   "outputs": [],
   "source": [
    "import random\n",
    "import numpy as np\n",
    "import matplotlib.pyplot as plt\n",
    "import pandas as pd"
   ]
  },
  {
   "cell_type": "code",
   "outputs": [
    {
     "name": "stdout",
     "output_type": "stream",
     "text": [
      "Первый список: [85, 26, 9, 48, 78, 9, 13, 69, 87, 29, 53, 60, 35, 74, 52, 28, 72, 98, 25, 98, 65, 34, 8, 54, 57, 54, 85, 55, 75, 98, 44, 6, 98, 13, 76, 98, 48, 20, 18, 90, 41, 73, 29, 34, 12, 73, 32, 28, 84, 100, 61, 94, 91, 95, 78, 9, 84, 87, 6, 77, 89, 85, 57, 31, 43, 26, 91, 46, 67, 86, 90, 47, 2, 75, 35, 99, 34, 49, 96, 96, 79, 50, 97, 42, 43, 12, 21, 10, 43, 55, 9, 20, 5, 96, 6, 63, 90, 49, 54, 46]\n",
      "Второй список: [59, 51, 71, 16, 52, 56, 18, 60, 4, 41, 84, 87, 34, 14, 51, 41, 26, 17, 63, 4, 100, 41, 85, 26, 100, 99, 47, 15, 12, 62, 89, 65, 10, 3, 36, 30, 65, 8, 75, 72, 23, 58, 49, 67, 92, 14, 75, 11, 13, 31, 49, 96, 75, 56, 25, 79, 59, 100, 16, 66, 49, 95, 24, 48, 4, 94, 57, 65, 50, 79, 92, 4, 48, 27, 4, 56, 88, 85, 84, 14, 1, 88, 89, 90, 25, 29, 95, 55, 2, 51, 85, 43, 12, 63, 19, 28, 27, 74, 22, 75]\n"
     ]
    }
   ],
   "source": [
    "list1 = [random.randint(1, 100) for _ in range(100)]\n",
    "list2 = [random.randint(1, 100) for _ in range(100)]\n",
    "\n",
    "print(\"Первый список:\", list1)\n",
    "print(\"Второй список:\", list2)"
   ],
   "metadata": {
    "collapsed": false,
    "ExecuteTime": {
     "end_time": "2024-11-14T08:29:03.926954400Z",
     "start_time": "2024-11-14T08:29:03.921464700Z"
    }
   },
   "id": "6332684a13c946f0",
   "execution_count": 6
  },
  {
   "cell_type": "code",
   "outputs": [
    {
     "ename": "ModuleNotFoundError",
     "evalue": "No module named 'aspose'",
     "output_type": "error",
     "traceback": [
      "\u001B[1;31m---------------------------------------------------------------------------\u001B[0m",
      "\u001B[1;31mModuleNotFoundError\u001B[0m                       Traceback (most recent call last)",
      "Cell \u001B[1;32mIn[7], line 1\u001B[0m\n\u001B[1;32m----> 1\u001B[0m \u001B[38;5;28;01mimport\u001B[39;00m \u001B[38;5;21;01maspose\u001B[39;00m\u001B[38;5;21;01m.\u001B[39;00m\u001B[38;5;21;01mslides\u001B[39;00m\u001B[38;5;21;01m.\u001B[39;00m\u001B[38;5;21;01mcharts\u001B[39;00m \u001B[38;5;28;01mas\u001B[39;00m \u001B[38;5;21;01mcharts\u001B[39;00m\n\u001B[0;32m      2\u001B[0m \u001B[38;5;28;01mimport\u001B[39;00m \u001B[38;5;21;01maspose\u001B[39;00m\u001B[38;5;21;01m.\u001B[39;00m\u001B[38;5;21;01mslides\u001B[39;00m \u001B[38;5;28;01mas\u001B[39;00m \u001B[38;5;21;01mslides\u001B[39;00m\n\u001B[0;32m      3\u001B[0m \u001B[38;5;28;01mimport\u001B[39;00m \u001B[38;5;21;01maspose\u001B[39;00m\u001B[38;5;21;01m.\u001B[39;00m\u001B[38;5;21;01mpydrawing\u001B[39;00m \u001B[38;5;28;01mas\u001B[39;00m \u001B[38;5;21;01mdraw\u001B[39;00m\n",
      "\u001B[1;31mModuleNotFoundError\u001B[0m: No module named 'aspose'"
     ]
    }
   ],
   "source": [
    "import aspose.slides.charts as charts\n",
    "import aspose.slides as slides\n",
    "import aspose.pydrawing as draw\n",
    "\n",
    "# Создание пустой презентации\n",
    "with slides.Presentation() as pres:\n",
    "\n",
    "    # Создание кластерного столбчатого графика\n",
    "    chart = pres.slides[0].shapes.add_chart(charts.ChartType.CLUSTERED_COLUMN, 20, 20, 500, 400)\n",
    "\n",
    "    # Добавление экспоненциальной линии тренда для серии графика 1\n",
    "    tredLinep = chart.chart_data.series[0].trend_lines.add(charts.TrendlineType.EXPONENTIAL)\n",
    "    tredLinep.display_equation = False\n",
    "    tredLinep.display_r_squared_value = False\n",
    "\n",
    "    # Добавление линейной линии тренда для серии графика 1\n",
    "    tredLineLin = chart.chart_data.series[0].trend_lines.add(charts.TrendlineType.LINEAR)\n",
    "    tredLineLin.trendline_type = charts.TrendlineType.LINEAR\n",
    "    tredLineLin.format.line.fill_format.fill_type = slides.FillType.SOLID\n",
    "    tredLineLin.format.line.fill_format.solid_fill_color.color = draw.Color.red\n",
    "\n",
    "\n",
    "    # Добавление логарифмической линии тренда для серии графика 2\n",
    "    tredLineLog = chart.chart_data.series[1].trend_lines.add(charts.TrendlineType.LOGARITHMIC)\n",
    "    tredLineLog.trendline_type = charts.TrendlineType.LOGARITHMIC\n",
    "    tredLineLog.add_text_frame_for_overriding(\"Новая логарифмическая линия тренда\")\n",
    "\n",
    "    # Добавление линии тренда скользящей средней для серии графика 2\n",
    "    tredLineMovAvg = chart.chart_data.series[1].trend_lines.add(charts.TrendlineType.MOVING_AVERAGE)\n",
    "    tredLineMovAvg.trendline_type = charts.TrendlineType.MOVING_AVERAGE\n",
    "    tredLineMovAvg.period = 3\n",
    "    tredLineMovAvg.trendline_name = \"Новое имя линии тренда\"\n",
    "\n",
    "    # Добавление полиномиальной линии тренда для серии графика 3\n",
    "    tredLinePol = chart.chart_data.series[2].trend_lines.add(charts.TrendlineType.POLYNOMIAL)\n",
    "    tredLinePol.trendline_type = charts.TrendlineType.POLYNOMIAL\n",
    "    tredLinePol.forward = 1\n",
    "    tredLinePol.order = 3\n",
    "\n",
    "    # Добавление степенной линии тренда для серии графика 3\n",
    "    tredLinePower = chart.chart_data.series[1].trend_lines.add(charts.TrendlineType.POWER)\n",
    "    tredLinePower.trendline_type = charts.TrendlineType.POWER\n",
    "    tredLinePower.backward = 1\n",
    "\n",
    "    # Сохранение презентации\n",
    "    pres.save(\"Charttrend_lines_out.pptx\", slides.export.SaveFormat.PPTX)\n"
   ],
   "metadata": {
    "collapsed": false,
    "ExecuteTime": {
     "end_time": "2024-11-14T08:29:04.888194600Z",
     "start_time": "2024-11-14T08:29:04.838172400Z"
    }
   },
   "id": "d7f76de2f790ad31",
   "execution_count": 7
  },
  {
   "cell_type": "code",
   "outputs": [],
   "source": [],
   "metadata": {
    "collapsed": false
   },
   "id": "ac6fa6201c6f4e31"
  },
  {
   "cell_type": "code",
   "outputs": [],
   "source": [],
   "metadata": {
    "collapsed": false
   },
   "id": "a6375120ec6d0f9c"
  },
  {
   "cell_type": "code",
   "outputs": [],
   "source": [
    "{\n",
    " \"cells\": [\n",
    "  {\n",
    "   \"cell_type\": \"code\",\n",
    "   \"execution_count\": 2,\n",
    "   \"id\": \"initial_id\",\n",
    "   \"metadata\": {\n",
    "    \"collapsed\": true,\n",
    "    \"ExecuteTime\": {\n",
    "     \"end_time\": \"2024-09-23T09:00:20.690478600Z\",\n",
    "     \"start_time\": \"2024-09-23T09:00:20.687927100Z\"\n",
    "    }\n",
    "   },\n",
    "   \"outputs\": [],\n",
    "   \"source\": [\n",
    "    \"import numpy as np\\n\",\n",
    "    \"import matplotlib.pyplot as plt\\n\",\n",
    "    \"import segyio\\n\",\n",
    "    \"import matplotlib.patches as patches\\n\",\n",
    "    \"from shapely.geometry import Polygon\\n\",\n",
    "    \"import pandas as pd\\n\",\n",
    "    \"import re\"\n",
    "   ]\n",
    "  },\n",
    "  {\n",
    "   \"cell_type\": \"code\",\n",
    "   \"outputs\": [],\n",
    "   \"source\": [\n",
    "    \"def read_seismic_cube(file_path):\\n\",\n",
    "    \"    \\\"\\\"\\\"\\n\",\n",
    "    \"    :param file_path: Путь к файлу\\n\",\n",
    "    \"    :return: возвращает куб в виде списков по Inlines, Xlines и Sampels (координаты x, y, z)\\n\",\n",
    "    \"    а также словарю сейсмотрасс, где ключ это координата пересечения Inlines и Xlines, а значение это список значений сейсмотрасс\\n\",\n",
    "    \"    \\\"\\\"\\\"\\n\",\n",
    "    \"    with segyio.open(file_path, 'r') as segyfile:\\n\",\n",
    "    \"        x = list(segyfile.ilines)\\n\",\n",
    "    \"        y = list(segyfile.xlines)\\n\",\n",
    "    \"        z = list(segyfile.samples)\\n\",\n",
    "    \"        cube = segyio.tools.cube(segyfile)\\n\",\n",
    "    \"        traces = {f\\\"{x[i]}_{y[j]}\\\": cube[i][j][:] for i in range(len(x)) for j in range(len(y))}\\n\",\n",
    "    \"    return x, y, z, traces\"\n",
    "   ],\n",
    "   \"metadata\": {\n",
    "    \"collapsed\": false,\n",
    "    \"ExecuteTime\": {\n",
    "     \"end_time\": \"2024-09-23T09:00:22.747924200Z\",\n",
    "     \"start_time\": \"2024-09-23T09:00:22.744836100Z\"\n",
    "    }\n",
    "   },\n",
    "   \"id\": \"9dcef3de5ea7910c\",\n",
    "   \"execution_count\": 3\n",
    "  },\n",
    "  {\n",
    "   \"cell_type\": \"code\",\n",
    "   \"outputs\": [],\n",
    "   \"source\": [\n",
    "    \"file_path = 'C:/HV/Seismic/Cube_TWT.segy'\\n\",\n",
    "    \"ilines, xlines, samples_0, traces = read_seismic_cube(file_path)\\n\",\n",
    "    \"samples = [int(i) for i in samples_0]\"\n",
    "   ],\n",
    "   \"metadata\": {\n",
    "    \"collapsed\": false,\n",
    "    \"ExecuteTime\": {\n",
    "     \"end_time\": \"2024-09-23T09:00:41.975782100Z\",\n",
    "     \"start_time\": \"2024-09-23T09:00:40.641405200Z\"\n",
    "    }\n",
    "   },\n",
    "   \"id\": \"f76f27451a19beda\",\n",
    "   \"execution_count\": 4\n",
    "  },\n",
    "  {\n",
    "   \"cell_type\": \"code\",\n",
    "   \"outputs\": [],\n",
    "   \"source\": [],\n",
    "   \"metadata\": {\n",
    "    \"collapsed\": false\n",
    "   },\n",
    "   \"id\": \"d9e328b96d6f660d\"\n",
    "  }\n",
    " ],\n",
    " \"metadata\": {\n",
    "  \"kernelspec\": {\n",
    "   \"display_name\": \"Python 3\",\n",
    "   \"language\": \"python\",\n",
    "   \"name\": \"python3\"\n",
    "  },\n",
    "  \"language_info\": {\n",
    "   \"codemirror_mode\": {\n",
    "    \"name\": \"ipython\",\n",
    "    \"version\": 2\n",
    "   },\n",
    "   \"file_extension\": \".py\",\n",
    "   \"mimetype\": \"text/x-python\",\n",
    "   \"name\": \"python\",\n",
    "   \"nbconvert_exporter\": \"python\",\n",
    "   \"pygments_lexer\": \"ipython2\",\n",
    "   \"version\": \"2.7.6\"\n",
    "  }\n",
    " },\n",
    " \"nbformat\": 4,\n",
    " \"nbformat_minor\": 5\n",
    "}"
   ],
   "metadata": {
    "collapsed": false
   },
   "id": "f604f8c39092d209"
  },
  {
   "cell_type": "code",
   "outputs": [],
   "source": [],
   "metadata": {
    "collapsed": false
   },
   "id": "c91941ba0ba9ed2f"
  }
 ],
 "metadata": {
  "kernelspec": {
   "display_name": "Python 3",
   "language": "python",
   "name": "python3"
  },
  "language_info": {
   "codemirror_mode": {
    "name": "ipython",
    "version": 2
   },
   "file_extension": ".py",
   "mimetype": "text/x-python",
   "name": "python",
   "nbconvert_exporter": "python",
   "pygments_lexer": "ipython2",
   "version": "2.7.6"
  }
 },
 "nbformat": 4,
 "nbformat_minor": 5
}
