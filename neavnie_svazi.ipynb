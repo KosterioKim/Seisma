{
 "cells": [
  {
   "cell_type": "code",
   "execution_count": 48,
   "id": "initial_id",
   "metadata": {
    "collapsed": true,
    "ExecuteTime": {
     "end_time": "2024-12-03T05:49:53.160172100Z",
     "start_time": "2024-12-03T05:49:53.105182400Z"
    }
   },
   "outputs": [],
   "source": [
    "import random\n",
    "import matplotlib.pyplot as plt\n",
    "from scipy.optimize import curve_fit\n",
    "from scipy import stats\n",
    "import plotly.graph_objects as go\n",
    "import numpy as np\n",
    "from scipy.stats import fisher_exact"
   ]
  },
  {
   "cell_type": "code",
   "outputs": [],
   "source": [],
   "metadata": {
    "collapsed": false
   },
   "id": "ac6fa6201c6f4e31"
  },
  {
   "cell_type": "code",
   "outputs": [],
   "source": [
    "def linear_model(x, a, b):\n",
    "    return a * x + b\n",
    "\n",
    "def polynomial_model(x, a, b, c):\n",
    "    return a * x**2 + b * x + c\n",
    "\n",
    "def cubic_model(x, a, b, c, d):\n",
    "    return a * x**3 + b * x**2 + c * x + d\n",
    "\n",
    "def exponential_model(x, a, b):\n",
    "    return a * np.exp(b * x)\n",
    "\n",
    "def logarithmic_model(x, a, b):\n",
    "    return a * np.log(x) + b\n",
    "\n",
    "def hyperbolic_model(x, a, b):\n",
    "    return a / x + b\n",
    "\n",
    "def fit_and_plot_lists_2(x, y):\n",
    "    x = np.array(x)\n",
    "    y = np.array(y)\n",
    "    \n",
    "    # Линейная регрессия\n",
    "    popt_linear, _ = curve_fit(linear_model, x, y)\n",
    "    linear_fit = linear_model(x, *popt_linear)\n",
    "    r_squared_linear = stats.linregress(x, y)[2]**2\n",
    "\n",
    "    # Полиномиальная регрессия (2-й степени)\n",
    "    popt_poly, _ = curve_fit(polynomial_model, x, y)\n",
    "    poly_fit = polynomial_model(x, *popt_poly)\n",
    "    r_squared_poly = 1 - (np.sum((y - poly_fit) ** 2) / np.sum((y - np.mean(y)) ** 2))\n",
    "\n",
    "    # Кубическая регрессия (3-й степени)\n",
    "    popt_cubic, _ = curve_fit(cubic_model, x, y)\n",
    "    cubic_fit = cubic_model(x, *popt_cubic)\n",
    "    r_squared_cubic = 1 - (np.sum((y - cubic_fit) ** 2) / np.sum((y - np.mean(y)) ** 2))\n",
    "\n",
    "    # Экспоненциальная регрессия\n",
    "    popt_exp, _ = curve_fit(exponential_model, x, y)\n",
    "    exp_fit = exponential_model(x, *popt_exp)\n",
    "    r_squared_exp = 1 - (np.sum((y - exp_fit) ** 2) / np.sum((y - np.mean(y)) ** 2))\n",
    "\n",
    "    # Логарифмическая регрессия\n",
    "    popt_log, _ = curve_fit(logarithmic_model, x, y, bounds=(0, [3., 3.]))\n",
    "    log_fit = logarithmic_model(x, *popt_log)\n",
    "    r_squared_log = 1 - (np.sum((y - log_fit) ** 2) / np.sum((y - np.mean(y)) ** 2))\n",
    "\n",
    "    # Гиперболическая регрессия\n",
    "    popt_hyper, _ = curve_fit(hyperbolic_model, x, y)\n",
    "    hyper_fit = hyperbolic_model(x, *popt_hyper)\n",
    "    r_squared_hyper = 1 - (np.sum((y - hyper_fit) ** 2) / np.sum((y - np.mean(y)) ** 2))\n",
    "\n",
    "    # Выбор наилучшей модели\n",
    "    r_squared_values = {\n",
    "        \"linear\": r_squared_linear,\n",
    "        \"polynomial\": r_squared_poly,\n",
    "        \"cubic\": r_squared_cubic,\n",
    "        \"exponential\": r_squared_exp,\n",
    "        \"logarithmic\": r_squared_log,\n",
    "        \"hyperbolic\": r_squared_hyper\n",
    "    }\n",
    "\n",
    "    best_fit_type = max(r_squared_values, key=r_squared_values.get)\n",
    "    best_fit_r_squared = r_squared_values[best_fit_type]\n",
    "\n",
    "    # Определим лучшие параметры для вывода\n",
    "    if best_fit_type == \"linear\":\n",
    "        best_params = popt_linear\n",
    "        fit_func = f\"{best_params[0]:.4f}x + {best_params[1]:.4f}\"\n",
    "    elif best_fit_type == \"polynomial\":\n",
    "        best_params = popt_poly\n",
    "        fit_func = f\"{best_params[0]:.4f}x^2 + {best_params[1]:.4f}x + {best_params[2]:.4f}\"\n",
    "    elif best_fit_type == \"cubic\":\n",
    "        best_params = popt_cubic\n",
    "        fit_func = f\"{best_params[0]:.4f}x^3 + {best_params[1]:.4f}x^2 + {best_params[2]:.4f}x + {best_params[3]:.4f}\"\n",
    "    elif best_fit_type == \"exponential\":\n",
    "        best_params = popt_exp\n",
    "        fit_func = f\"{best_params[0]:.4f} * e^({best_params[1]:.4f}x)\"\n",
    "    elif best_fit_type == \"logarithmic\":\n",
    "        best_params = popt_log\n",
    "        fit_func = f\"{best_params[0]:.4f} * log(x) + {best_params[1]:.4f}\"\n",
    "    elif best_fit_type == \"hyperbolic\":\n",
    "        best_params = popt_hyper\n",
    "        fit_func = f\"{best_params[0]:.4f} / x + {best_params[1]:.4f}\"\n",
    "\n",
    "    # График\n",
    "    plt.scatter(x, y, label='Данные', color='blue')\n",
    "    if best_fit_type == \"linear\":\n",
    "        plt.plot(x, linear_fit, label=f'Линейная: y={fit_func}', color='red')\n",
    "    elif best_fit_type == \"polynomial\":\n",
    "        plt.plot(x, poly_fit, label=f'Полином: y={fit_func}', color='green')\n",
    "    elif best_fit_type == \"cubic\":\n",
    "        plt.plot(x, cubic_fit, label=f'Кубический: y={fit_func}', color='purple')\n",
    "    elif best_fit_type == \"exponential\":\n",
    "        plt.plot(x, exp_fit, label=f'Экспоненциальная: y={fit_func}', color='orange')\n",
    "    elif best_fit_type == \"logarithmic\":\n",
    "        plt.plot(x, log_fit, label=f'Логарифмическая: y={fit_func}', color='brown')\n",
    "    elif best_fit_type == \"hyperbolic\":\n",
    "        plt.plot(x, hyper_fit, label=f'Гиперболическая: y={fit_func}', color='pink')\n",
    "\n",
    "    plt.xlabel('X')\n",
    "    plt.ylabel('Y')\n",
    "    plt.title('Подгонка данных')\n",
    "    plt.legend()\n",
    "    plt.grid()\n",
    "    plt.show()\n",
    "\n",
    "    return best_fit_type, best_fit_r_squared, fit_func\n"
   ],
   "metadata": {
    "collapsed": false,
    "ExecuteTime": {
     "end_time": "2024-11-22T04:26:54.842868600Z",
     "start_time": "2024-11-22T04:26:54.837070900Z"
    }
   },
   "id": "a3156ccbc06772d4",
   "execution_count": 25
  },
  {
   "cell_type": "code",
   "outputs": [
    {
     "data": {
      "text/plain": "<Figure size 640x480 with 1 Axes>",
      "image/png": "[encoded data removed]"
     },
     "metadata": {},
     "output_type": "display_data"
    },
    {
     "data": {
      "text/plain": "('cubic', 0.9951880075900524, '0.0001x^3 + -0.0161x^2 + 1.2805x + 0.8384')"
     },
     "execution_count": 30,
     "metadata": {},
     "output_type": "execute_result"
    }
   ],
   "source": [
    "# Пример использования\n",
    "x_data = sorted([random.randint(2, 100) for _ in range(100)])\n",
    "y_data = sorted([random.randint(3, 70) for _ in range(100)])\n",
    "\n",
    "fit_and_plot_lists_2(x_data, y_data)"
   ],
   "metadata": {
    "collapsed": false,
    "ExecuteTime": {
     "end_time": "2024-11-22T04:28:21.541215Z",
     "start_time": "2024-11-22T04:28:21.440359900Z"
    }
   },
   "id": "9128584fc866a0b",
   "execution_count": 30
  },
  {
   "cell_type": "code",
   "outputs": [
    {
     "data": {
      "text/plain": "<Figure size 640x480 with 1 Axes>",
      "image/png": "[encoded data removed]"
     },
     "metadata": {},
     "output_type": "display_data"
    },
    {
     "data": {
      "text/plain": "('cubic', 0.7552717049601484, '0.0000x^3 + -0.0002x^2 + 0.0061x + -0.0328')"
     },
     "execution_count": 33,
     "metadata": {},
     "output_type": "execute_result"
    }
   ],
   "source": [
    "x_data = sorted([i for i in range(2, 100)])\n",
    "y_data = sorted([1/i for i in range(2, 100)])\n",
    "fit_and_plot_lists_2(x_data, y_data)"
   ],
   "metadata": {
    "collapsed": false,
    "ExecuteTime": {
     "end_time": "2024-11-22T04:29:01.672569600Z",
     "start_time": "2024-11-22T04:29:01.574976500Z"
    }
   },
   "id": "79ab94c218a67a7e",
   "execution_count": 33
  },
  {
   "cell_type": "code",
   "outputs": [],
   "source": [],
   "metadata": {
    "collapsed": false
   },
   "id": "80f95645dfa907b6"
  },
  {
   "cell_type": "code",
   "outputs": [],
   "source": [
    "def linear_model(x, a, b):\n",
    "    return a * x + b\n",
    "\n",
    "def polynomial_model(x, a, b, c):\n",
    "    return a * x**2 + b * x + c\n",
    "\n",
    "def cubic_model(x, a, b, c, d):\n",
    "    return a * x**3 + b * x**2 + c * x + d\n",
    "\n",
    "def exponential_model(x, a, b):\n",
    "    return a * np.exp(b * x)\n",
    "\n",
    "def logarithmic_model(x, a, b):\n",
    "    return a * np.log(x) + b\n",
    "\n",
    "def hyperbolic_model(x, a, b):\n",
    "    return a / x + b\n",
    "\n",
    "def fit_and_plot_lists_3(x, y, x_label='X', y_label='Y'):\n",
    "    x = np.array(x)\n",
    "    y = np.array(y)\n",
    "    \n",
    "    # Линейная регрессия\n",
    "    popt_linear, _ = curve_fit(linear_model, x, y)\n",
    "    linear_fit = linear_model(x, *popt_linear)\n",
    "    r_squared_linear = stats.linregress(x, y)[2]**2\n",
    "\n",
    "    # Полиномиальная регрессия (2-й степени)\n",
    "    popt_poly, _ = curve_fit(polynomial_model, x, y)\n",
    "    poly_fit = polynomial_model(x, *popt_poly)\n",
    "    r_squared_poly = 1 - (np.sum((y - poly_fit) ** 2) / np.sum((y - np.mean(y)) ** 2))\n",
    "\n",
    "    # Кубическая регрессия (3-й степени)\n",
    "    popt_cubic, _ = curve_fit(cubic_model, x, y)\n",
    "    cubic_fit = cubic_model(x, *popt_cubic)\n",
    "    r_squared_cubic = 1 - (np.sum((y - cubic_fit) ** 2) / np.sum((y - np.mean(y)) ** 2))\n",
    "\n",
    "    # Экспоненциальная регрессия\n",
    "    popt_exp, _ = curve_fit(exponential_model, x, y)\n",
    "    exp_fit = exponential_model(x, *popt_exp)\n",
    "    r_squared_exp = 1 - (np.sum((y - exp_fit) ** 2) / np.sum((y - np.mean(y)) ** 2))\n",
    "\n",
    "    # Логарифмическая регрессия\n",
    "    popt_log, _ = curve_fit(logarithmic_model, x, y, bounds=(0, [3., 3.]))\n",
    "    log_fit = logarithmic_model(x, *popt_log)\n",
    "    r_squared_log = 1 - (np.sum((y - log_fit) ** 2) / np.sum((y - np.mean(y)) ** 2))\n",
    "\n",
    "    # Гиперболическая регрессия\n",
    "    popt_hyper, _ = curve_fit(hyperbolic_model, x, y)\n",
    "    hyper_fit = hyperbolic_model(x, *popt_hyper)\n",
    "    r_squared_hyper = 1 - (np.sum((y - hyper_fit) ** 2) / np.sum((y - np.mean(y)) ** 2))\n",
    "\n",
    "    # Выбор наилучшей модели\n",
    "    r_squared_values = {\n",
    "        \"linear\": r_squared_linear,\n",
    "        \"polynomial\": r_squared_poly,\n",
    "        \"cubic\": r_squared_cubic,\n",
    "        \"exponential\": r_squared_exp,\n",
    "        \"logarithmic\": r_squared_log,\n",
    "        \"hyperbolic\": r_squared_hyper\n",
    "    }\n",
    "    print(r_squared_values)\n",
    "    best_fit_type = max(r_squared_values, key=r_squared_values.get)\n",
    "    best_fit_r_squared = r_squared_values[best_fit_type]\n",
    "\n",
    "    # Определим лучшие параметры для вывода\n",
    "    if best_fit_type == \"linear\":\n",
    "        best_params = popt_linear\n",
    "        fit_func = f\"{best_params[0]:.4f}x + {best_params[1]:.4f}\"\n",
    "    elif best_fit_type == \"polynomial\":\n",
    "        best_params = popt_poly\n",
    "        fit_func = f\"{best_params[0]:.4f}x^2 + {best_params[1]:.4f}x + {best_params[2]:.4f}\"\n",
    "    elif best_fit_type == \"cubic\":\n",
    "        best_params = popt_cubic\n",
    "        fit_func = f\"{best_params[0]:.4f}x^3 + {best_params[1]:.4f}x^2 + {best_params[2]:.4f}x + {best_params[3]:.4f}\"\n",
    "    elif best_fit_type == \"exponential\":\n",
    "        best_params = popt_exp\n",
    "        fit_func = f\"{best_params[0]:.4f} * e^({best_params[1]:.4f}x)\"\n",
    "    elif best_fit_type == \"logarithmic\":\n",
    "        best_params = popt_log\n",
    "        fit_func = f\"{best_params[0]:.4f} * log(x) + {best_params[1]:.4f}\"\n",
    "    elif best_fit_type == \"hyperbolic\":\n",
    "        best_params = popt_hyper\n",
    "        fit_func = f\"{best_params[0]:.4f} / x + {best_params[1]:.4f}\"\n",
    "\n",
    "    # График с использованием Plotly\n",
    "    fig = go.Figure()\n",
    "\n",
    "    # Добавляем данные\n",
    "    fig.add_trace(go.Scatter(x=x, y=y, mode='markers', name='Данные', marker=dict(color='blue')))\n",
    "\n",
    "    # Добавляем лучшую подгонку\n",
    "    if best_fit_type == \"linear\":\n",
    "        fig.add_trace(go.Scatter(x=x, y=linear_fit, mode='lines', name=f'Линейная: y={fit_func}', line=dict(color='red')))\n",
    "    elif best_fit_type == \"polynomial\":\n",
    "        fig.add_trace(go.Scatter(x=x, y=poly_fit, mode='lines', name=f'Полином: y={fit_func}', line=dict(color='green')))\n",
    "    elif best_fit_type == \"cubic\":\n",
    "        fig.add_trace(go.Scatter(x=x, y=cubic_fit, mode='lines', name=f'Кубический: y={fit_func}', line=dict(color='purple')))\n",
    "    elif best_fit_type == \"exponential\":\n",
    "        fig.add_trace(go.Scatter(x=x, y=exp_fit, mode='lines', name=f'Экспоненциальная: y={fit_func}', line=dict(color='orange')))\n",
    "    elif best_fit_type == \"logarithmic\":\n",
    "        fig.add_trace(go.Scatter(x=x, y=log_fit, mode='lines', name=f'Логарифмическая: y={fit_func}', line=dict(color='brown')))\n",
    "    elif best_fit_type == \"hyperbolic\":\n",
    "        fig.add_trace(go.Scatter(x=x, y=hyper_fit, mode='lines', name=f'Гиперболическая: y={fit_func}', line=dict(color='pink')))\n",
    "\n",
    "    # Настройки графика\n",
    "    fig.update_layout(\n",
    "        title='Подгонка данных',\n",
    "        xaxis_title=x_label,  # Используем имя переменной для подписи оси X\n",
    "        yaxis_title=y_label,  # Используем имя переменной для подписи оси Y\n",
    "        legend=dict(x=0, y=1),\n",
    "        template='plotly_white'\n",
    "    )\n",
    "\n",
    "    # Показываем график\n",
    "    fig.show()\n",
    "\n",
    "    return best_fit_type, best_fit_r_squared, fit_func\n"
   ],
   "metadata": {
    "collapsed": false,
    "ExecuteTime": {
     "end_time": "2024-12-03T04:36:33.955660Z",
     "start_time": "2024-12-03T04:36:33.944899300Z"
    }
   },
   "id": "418a2bdef5510791",
   "execution_count": 18
  },
  {
   "cell_type": "code",
   "outputs": [],
   "source": [
    "K2065G_2_POROSITY = [0.1702211499, 0.1692114919, 0.1682019383, 0.1682019383, 0.1676971763, 0.1666875035, 0.1651730686, 0.1641634107, 0.1631538719, 0.1626489758, 0.1621442139, 0.1621442139, 0.1626489758, 0.1631538719, 0.1631538719, 0.1631538719, 0.1626489758, 0.1626489758, 0.1626489758, 0.1621442139, 0.1611346602, 0.1611346602, 0.1616394371, 0.1616394371, 0.1611346602, 0.1616394371, 0.1611346602, 0.1611346602, 0.1606297791, 0.1606297791, 0.1606297791, 0.1596202254, 0.1596202254, 0.1596202254, 0.1591153443, 0.1586105675, 0.1591153443, 0.1596202254, 0.1591153443, 0.1586105675, 0.1586105675, 0.1591153443, 0.1591153443, 0.1586105675, 0.1586105675, 0.1586105675, 0.1586105675, 0.1586105675, 0.1586105675, 0.1591153443, 0.1591153443, 0.1601250023, 0.1611346602, 0.1616394371, 0.1636586487, 0.1641634107, 0.1656778455, 0.1676971763, 0.1682019383, 0.1707259119, 0.1712308079, 0.1727452427, 0.1747644544, 0.1757739931, 0.1757739931, 0.1762788892, 0.1757739931, 0.1757739931, 0.1747644544, 0.1737547815, 0.1737547815, 0.1732500196, 0.1727452427, 0.1732500196, 0.1737547815, 0.1732500196, 0.1737547815, 0.1727452427, 0.1722403467, 0.1717355847, 0.1707259119, 0.1702211499, 0.1692114919, 0.1697163731, 0.1692114919, 0.1687067151, 0.1687067151, 0.1692114919, 0.1682019383, 0.1676971763, 0.1661827415, 0.1651730686, 0.1641634107, 0.1631538719, 0.1616394371, 0.1611346602, 0.1601250023, 0.1606297791, 0.1601250023, 0.1601250023]\n",
    "K2065G_2_PERMEABILITY = [5.305978775, 4.8371400833, 4.4056649208, 4.4056649208, 4.2031207085, 3.8228139877, 3.3101279736, 3.0036234856, 2.7229943275, 2.5917332172, 2.4662578106, 2.4662578106, 2.5917332172, 2.7229943275, 2.7229943275, 2.7229943275, 2.5917332172, 2.5917332172, 2.5917332172, 2.4662578106, 2.2316713333, 2.2316713333, 2.3463072777, 2.3463072777, 2.2316713333, 2.3463072777, 2.2316713333, 2.2316713333, 2.1221199036, 2.1221199036, 2.1221199036, 1.917586565, 1.917586565, 1.917586565, 1.8221800327, 1.7311353683, 1.8221800327, 1.917586565, 1.8221800327, 1.7311353683, 1.7311353683, 1.8221800327, 1.8221800327, 1.7311353683, 1.7311353683, 1.7311353683, 1.7311353683, 1.7311353683, 1.7311353683, 1.8221800327, 1.8221800327, 2.0174975395, 2.2316713333, 2.3463072777, 2.860203743, 3.0036234856, 3.4736862183, 4.2031207085, 4.4056649208, 5.5551991463, 5.8148417473, 6.6594138145, 7.9533457756, 8.6795578003, 8.6795578003, 9.0640964508, 8.6795578003, 8.6795578003, 7.9533457756, 7.2810263634, 7.2810263634, 6.9641022682, 6.6594138145, 6.9641022682, 7.2810263634, 6.9641022682, 7.2810263634, 6.6594138145, 6.3665060997, 6.0851373672, 5.5551991463, 5.305978775, 4.8371400833, 5.0667529106, 4.8371400833, 4.6169013977, 4.6169013977, 4.8371400833, 4.4056649208, 4.2031207085, 3.6445188522, 3.3101279736, 3.0036234856, 2.7229943275, 2.3463072777, 2.2316713333, 2.0174975395, 2.1221199036, 2.0174975395, 2.0174975395]"
   ],
   "metadata": {
    "collapsed": false,
    "ExecuteTime": {
     "end_time": "2024-12-03T04:27:53.921647100Z",
     "start_time": "2024-12-03T04:27:53.917907900Z"
    }
   },
   "id": "46a44105ae769e1f",
   "execution_count": 6
  },
  {
   "cell_type": "code",
   "outputs": [
    {
     "name": "stdout",
     "output_type": "stream",
     "text": [
      "{'linear': 0.9671145238361347, 'polynomial': 0.999563208419152, 'cubic': 0.9999983479772305, 'exponential': 0.9995336795804329, 'logarithmic': -0.13138530005898685, 'hyperbolic': 0.9573256280899538}\n"
     ]
    },
    {
     "data": {
      "application/vnd.plotly.v1+json": {
       "data": [
        {
         "marker": {
          "color": "blue"
         },
         "mode": "markers",
         "name": "Данные",
         "x": [
          0.1702211499,
          0.1692114919,
          0.1682019383,
          0.1682019383,
          0.1676971763,
          0.1666875035,
          0.1651730686,
          0.1641634107,
          0.1631538719,
          0.1626489758,
          0.1621442139,
          0.1621442139,
          0.1626489758,
          0.1631538719,
          0.1631538719,
          0.1631538719,
          0.1626489758,
          0.1626489758,
          0.1626489758,
          0.1621442139,
          0.1611346602,
          0.1611346602,
          0.1616394371,
          0.1616394371,
          0.1611346602,
          0.1616394371,
          0.1611346602,
          0.1611346602,
          0.1606297791,
          0.1606297791,
          0.1606297791,
          0.1596202254,
          0.1596202254,
          0.1596202254,
          0.1591153443,
          0.1586105675,
          0.1591153443,
          0.1596202254,
          0.1591153443,
          0.1586105675,
          0.1586105675,
          0.1591153443,
          0.1591153443,
          0.1586105675,
          0.1586105675,
          0.1586105675,
          0.1586105675,
          0.1586105675,
          0.1586105675,
          0.1591153443,
          0.1591153443,
          0.1601250023,
          0.1611346602,
          0.1616394371,
          0.1636586487,
          0.1641634107,
          0.1656778455,
          0.1676971763,
          0.1682019383,
          0.1707259119,
          0.1712308079,
          0.1727452427,
          0.1747644544,
          0.1757739931,
          0.1757739931,
          0.1762788892,
          0.1757739931,
          0.1757739931,
          0.1747644544,
          0.1737547815,
          0.1737547815,
          0.1732500196,
          0.1727452427,
          0.1732500196,
          0.1737547815,
          0.1732500196,
          0.1737547815,
          0.1727452427,
          0.1722403467,
          0.1717355847,
          0.1707259119,
          0.1702211499,
          0.1692114919,
          0.1697163731,
          0.1692114919,
          0.1687067151,
          0.1687067151,
          0.1692114919,
          0.1682019383,
          0.1676971763,
          0.1661827415,
          0.1651730686,
          0.1641634107,
          0.1631538719,
          0.1616394371,
          0.1611346602,
          0.1601250023,
          0.1606297791,
          0.1601250023,
          0.1601250023
         ],
         "y": [
          5.305978775,
          4.8371400833,
          4.4056649208,
          4.4056649208,
          4.2031207085,
          3.8228139877,
          3.3101279736,
          3.0036234856,
          2.7229943275,
          2.5917332172,
          2.4662578106,
          2.4662578106,
          2.5917332172,
          2.7229943275,
          2.7229943275,
          2.7229943275,
          2.5917332172,
          2.5917332172,
          2.5917332172,
          2.4662578106,
          2.2316713333,
          2.2316713333,
          2.3463072777,
          2.3463072777,
          2.2316713333,
          2.3463072777,
          2.2316713333,
          2.2316713333,
          2.1221199036,
          2.1221199036,
          2.1221199036,
          1.917586565,
          1.917586565,
          1.917586565,
          1.8221800327,
          1.7311353683,
          1.8221800327,
          1.917586565,
          1.8221800327,
          1.7311353683,
          1.7311353683,
          1.8221800327,
          1.8221800327,
          1.7311353683,
          1.7311353683,
          1.7311353683,
          1.7311353683,
          1.7311353683,
          1.7311353683,
          1.8221800327,
          1.8221800327,
          2.0174975395,
          2.2316713333,
          2.3463072777,
          2.860203743,
          3.0036234856,
          3.4736862183,
          4.2031207085,
          4.4056649208,
          5.5551991463,
          5.8148417473,
          6.6594138145,
          7.9533457756,
          8.6795578003,
          8.6795578003,
          9.0640964508,
          8.6795578003,
          8.6795578003,
          7.9533457756,
          7.2810263634,
          7.2810263634,
          6.9641022682,
          6.6594138145,
          6.9641022682,
          7.2810263634,
          6.9641022682,
          7.2810263634,
          6.6594138145,
          6.3665060997,
          6.0851373672,
          5.5551991463,
          5.305978775,
          4.8371400833,
          5.0667529106,
          4.8371400833,
          4.6169013977,
          4.6169013977,
          4.8371400833,
          4.4056649208,
          4.2031207085,
          3.6445188522,
          3.3101279736,
          3.0036234856,
          2.7229943275,
          2.3463072777,
          2.2316713333,
          2.0174975395,
          2.1221199036,
          2.0174975395,
          2.0174975395
         ],
         "type": "scatter"
        },
        {
         "line": {
          "color": "purple"
         },
         "mode": "lines",
         "name": "Кубический: y=378997.4291x^3 + -173843.3819x^2 + 26724.7638x + -1375.9510",
         "x": [
          0.1702211499,
          0.1692114919,
          0.1682019383,
          0.1682019383,
          0.1676971763,
          0.1666875035,
          0.1651730686,
          0.1641634107,
          0.1631538719,
          0.1626489758,
          0.1621442139,
          0.1621442139,
          0.1626489758,
          0.1631538719,
          0.1631538719,
          0.1631538719,
          0.1626489758,
          0.1626489758,
          0.1626489758,
          0.1621442139,
          0.1611346602,
          0.1611346602,
          0.1616394371,
          0.1616394371,
          0.1611346602,
          0.1616394371,
          0.1611346602,
          0.1611346602,
          0.1606297791,
          0.1606297791,
          0.1606297791,
          0.1596202254,
          0.1596202254,
          0.1596202254,
          0.1591153443,
          0.1586105675,
          0.1591153443,
          0.1596202254,
          0.1591153443,
          0.1586105675,
          0.1586105675,
          0.1591153443,
          0.1591153443,
          0.1586105675,
          0.1586105675,
          0.1586105675,
          0.1586105675,
          0.1586105675,
          0.1586105675,
          0.1591153443,
          0.1591153443,
          0.1601250023,
          0.1611346602,
          0.1616394371,
          0.1636586487,
          0.1641634107,
          0.1656778455,
          0.1676971763,
          0.1682019383,
          0.1707259119,
          0.1712308079,
          0.1727452427,
          0.1747644544,
          0.1757739931,
          0.1757739931,
          0.1762788892,
          0.1757739931,
          0.1757739931,
          0.1747644544,
          0.1737547815,
          0.1737547815,
          0.1732500196,
          0.1727452427,
          0.1732500196,
          0.1737547815,
          0.1732500196,
          0.1737547815,
          0.1727452427,
          0.1722403467,
          0.1717355847,
          0.1707259119,
          0.1702211499,
          0.1692114919,
          0.1697163731,
          0.1692114919,
          0.1687067151,
          0.1687067151,
          0.1692114919,
          0.1682019383,
          0.1676971763,
          0.1661827415,
          0.1651730686,
          0.1641634107,
          0.1631538719,
          0.1616394371,
          0.1611346602,
          0.1601250023,
          0.1606297791,
          0.1601250023,
          0.1601250023
         ],
         "y": [
          5.305990298633105,
          4.835240576017668,
          4.4023513403260495,
          4.4023513403260495,
          4.199360030546586,
          3.8187548772682476,
          3.3070784659737456,
          3.002006015840152,
          2.7230805509886977,
          2.592645670498996,
          2.4678959563477747,
          2.4678959563477747,
          2.592645670498996,
          2.7230805509886977,
          2.7230805509886977,
          2.7230805509886977,
          2.592645670498996,
          2.592645670498996,
          2.592645670498996,
          2.4678959563477747,
          2.234169272315512,
          2.234169272315512,
          2.3485000671782927,
          2.3485000671782927,
          2.234169272315512,
          2.3485000671782927,
          2.234169272315512,
          2.234169272315512,
          2.1245889795538915,
          2.1245889795538915,
          2.1245889795538915,
          1.918622472810739,
          1.918622472810739,
          1.918622472810739,
          1.8216085536676019,
          1.7282176991791403,
          1.8216085536676019,
          1.918622472810739,
          1.8216085536676019,
          1.7282176991791403,
          1.7282176991791403,
          1.8216085536676019,
          1.8216085536676019,
          1.7282176991791403,
          1.7282176991791403,
          1.7282176991791403,
          1.7282176991791403,
          1.7282176991791403,
          1.7282176991791403,
          1.8216085536676019,
          1.8216085536676019,
          2.0195119173774856,
          2.234169272315512,
          2.3485000671782927,
          2.859427886457297,
          3.002006015840152,
          3.4701222337587296,
          4.199360030546586,
          4.4023513403260495,
          5.556244270608431,
          5.816898126122169,
          6.663645253675668,
          7.9550039995717725,
          8.675490835237952,
          8.675490835237952,
          9.055566777580907,
          8.675490835237952,
          8.675490835237952,
          7.9550039995717725,
          7.28510944607774,
          7.28510944607774,
          6.96848593677737,
          6.663645253675668,
          6.96848593677737,
          7.28510944607774,
          6.96848593677737,
          7.28510944607774,
          6.663645253675668,
          6.370236632345723,
          6.088114131991233,
          5.556244270608431,
          5.305990298633105,
          4.835240576017668,
          5.065766289141493,
          4.835240576017668,
          4.6142159727476155,
          4.6142159727476155,
          4.835240576017668,
          4.4023513403260495,
          4.199360030546586,
          3.6406121302632073,
          3.3070784659737456,
          3.002006015840152,
          2.7230805509886977,
          2.3485000671782927,
          2.234169272315512,
          2.0195119173774856,
          2.1245889795538915,
          2.0195119173774856,
          2.0195119173774856
         ],
         "type": "scatter"
        }
       ],
       "layout": {
        "template": {
         "data": {
          "barpolar": [
           {
            "marker": {
             "line": {
              "color": "white",
              "width": 0.5
             },
             "pattern": {
              "fillmode": "overlay",
              "size": 10,
              "solidity": 0.2
             }
            },
            "type": "barpolar"
           }
          ],
          "bar": [
           {
            "error_x": {
             "color": "#2a3f5f"
            },
            "error_y": {
             "color": "#2a3f5f"
            },
            "marker": {
             "line": {
              "color": "white",
              "width": 0.5
             },
             "pattern": {
              "fillmode": "overlay",
              "size": 10,
              "solidity": 0.2
             }
            },
            "type": "bar"
           }
          ],
          "carpet": [
           {
            "aaxis": {
             "endlinecolor": "#2a3f5f",
             "gridcolor": "#C8D4E3",
             "linecolor": "#C8D4E3",
             "minorgridcolor": "#C8D4E3",
             "startlinecolor": "#2a3f5f"
            },
            "baxis": {
             "endlinecolor": "#2a3f5f",
             "gridcolor": "#C8D4E3",
             "linecolor": "#C8D4E3",
             "minorgridcolor": "#C8D4E3",
             "startlinecolor": "#2a3f5f"
            },
            "type": "carpet"
           }
          ],
          "choropleth": [
           {
            "colorbar": {
             "outlinewidth": 0,
             "ticks": ""
            },
            "type": "choropleth"
           }
          ],
          "contourcarpet": [
           {
            "colorbar": {
             "outlinewidth": 0,
             "ticks": ""
            },
            "type": "contourcarpet"
           }
          ],
          "contour": [
           {
            "colorbar": {
             "outlinewidth": 0,
             "ticks": ""
            },
            "colorscale": [
             [
              0.0,
              "#0d0887"
             ],
             [
              0.1111111111111111,
              "#46039f"
             ],
             [
              0.2222222222222222,
              "#7201a8"
             ],
             [
              0.3333333333333333,
              "#9c179e"
             ],
             [
              0.4444444444444444,
              "#bd3786"
             ],
             [
              0.5555555555555556,
              "#d8576b"
             ],
             [
              0.6666666666666666,
              "#ed7953"
             ],
             [
              0.7777777777777778,
              "#fb9f3a"
             ],
             [
              0.8888888888888888,
              "#fdca26"
             ],
             [
              1.0,
              "#f0f921"
             ]
            ],
            "type": "contour"
           }
          ],
          "heatmapgl": [
           {
            "colorbar": {
             "outlinewidth": 0,
             "ticks": ""
            },
            "colorscale": [
             [
              0.0,
              "#0d0887"
             ],
             [
              0.1111111111111111,
              "#46039f"
             ],
             [
              0.2222222222222222,
              "#7201a8"
             ],
             [
              0.3333333333333333,
              "#9c179e"
             ],
             [
              0.4444444444444444,
              "#bd3786"
             ],
             [
              0.5555555555555556,
              "#d8576b"
             ],
             [
              0.6666666666666666,
              "#ed7953"
             ],
             [
              0.7777777777777778,
              "#fb9f3a"
             ],
             [
              0.8888888888888888,
              "#fdca26"
             ],
             [
              1.0,
              "#f0f921"
             ]
            ],
            "type": "heatmapgl"
           }
          ],
          "heatmap": [
           {
            "colorbar": {
             "outlinewidth": 0,
             "ticks": ""
            },
            "colorscale": [
             [
              0.0,
              "#0d0887"
             ],
             [
              0.1111111111111111,
              "#46039f"
             ],
             [
              0.2222222222222222,
              "#7201a8"
             ],
             [
              0.3333333333333333,
              "#9c179e"
             ],
             [
              0.4444444444444444,
              "#bd3786"
             ],
             [
              0.5555555555555556,
              "#d8576b"
             ],
             [
              0.6666666666666666,
              "#ed7953"
             ],
             [
              0.7777777777777778,
              "#fb9f3a"
             ],
             [
              0.8888888888888888,
              "#fdca26"
             ],
             [
              1.0,
              "#f0f921"
             ]
            ],
            "type": "heatmap"
           }
          ],
          "histogram2dcontour": [
           {
            "colorbar": {
             "outlinewidth": 0,
             "ticks": ""
            },
            "colorscale": [
             [
              0.0,
              "#0d0887"
             ],
             [
              0.1111111111111111,
              "#46039f"
             ],
             [
              0.2222222222222222,
              "#7201a8"
             ],
             [
              0.3333333333333333,
              "#9c179e"
             ],
             [
              0.4444444444444444,
              "#bd3786"
             ],
             [
              0.5555555555555556,
              "#d8576b"
             ],
             [
              0.6666666666666666,
              "#ed7953"
             ],
             [
              0.7777777777777778,
              "#fb9f3a"
             ],
             [
              0.8888888888888888,
              "#fdca26"
             ],
             [
              1.0,
              "#f0f921"
             ]
            ],
            "type": "histogram2dcontour"
           }
          ],
          "histogram2d": [
           {
            "colorbar": {
             "outlinewidth": 0,
             "ticks": ""
            },
            "colorscale": [
             [
              0.0,
              "#0d0887"
             ],
             [
              0.1111111111111111,
              "#46039f"
             ],
             [
              0.2222222222222222,
              "#7201a8"
             ],
             [
              0.3333333333333333,
              "#9c179e"
             ],
             [
              0.4444444444444444,
              "#bd3786"
             ],
             [
              0.5555555555555556,
              "#d8576b"
             ],
             [
              0.6666666666666666,
              "#ed7953"
             ],
             [
              0.7777777777777778,
              "#fb9f3a"
             ],
             [
              0.8888888888888888,
              "#fdca26"
             ],
             [
              1.0,
              "#f0f921"
             ]
            ],
            "type": "histogram2d"
           }
          ],
          "histogram": [
           {
            "marker": {
             "pattern": {
              "fillmode": "overlay",
              "size": 10,
              "solidity": 0.2
             }
            },
            "type": "histogram"
           }
          ],
          "mesh3d": [
           {
            "colorbar": {
             "outlinewidth": 0,
             "ticks": ""
            },
            "type": "mesh3d"
           }
          ],
          "parcoords": [
           {
            "line": {
             "colorbar": {
              "outlinewidth": 0,
              "ticks": ""
             }
            },
            "type": "parcoords"
           }
          ],
          "pie": [
           {
            "automargin": true,
            "type": "pie"
           }
          ],
          "scatter3d": [
           {
            "line": {
             "colorbar": {
              "outlinewidth": 0,
              "ticks": ""
             }
            },
            "marker": {
             "colorbar": {
              "outlinewidth": 0,
              "ticks": ""
             }
            },
            "type": "scatter3d"
           }
          ],
          "scattercarpet": [
           {
            "marker": {
             "colorbar": {
              "outlinewidth": 0,
              "ticks": ""
             }
            },
            "type": "scattercarpet"
           }
          ],
          "scattergeo": [
           {
            "marker": {
             "colorbar": {
              "outlinewidth": 0,
              "ticks": ""
             }
            },
            "type": "scattergeo"
           }
          ],
          "scattergl": [
           {
            "marker": {
             "colorbar": {
              "outlinewidth": 0,
              "ticks": ""
             }
            },
            "type": "scattergl"
           }
          ],
          "scattermapbox": [
           {
            "marker": {
             "colorbar": {
              "outlinewidth": 0,
              "ticks": ""
             }
            },
            "type": "scattermapbox"
           }
          ],
          "scatterpolargl": [
           {
            "marker": {
             "colorbar": {
              "outlinewidth": 0,
              "ticks": ""
             }
            },
            "type": "scatterpolargl"
           }
          ],
          "scatterpolar": [
           {
            "marker": {
             "colorbar": {
              "outlinewidth": 0,
              "ticks": ""
             }
            },
            "type": "scatterpolar"
           }
          ],
          "scatter": [
           {
            "fillpattern": {
             "fillmode": "overlay",
             "size": 10,
             "solidity": 0.2
            },
            "type": "scatter"
           }
          ],
          "scatterternary": [
           {
            "marker": {
             "colorbar": {
              "outlinewidth": 0,
              "ticks": ""
             }
            },
            "type": "scatterternary"
           }
          ],
          "surface": [
           {
            "colorbar": {
             "outlinewidth": 0,
             "ticks": ""
            },
            "colorscale": [
             [
              0.0,
              "#0d0887"
             ],
             [
              0.1111111111111111,
              "#46039f"
             ],
             [
              0.2222222222222222,
              "#7201a8"
             ],
             [
              0.3333333333333333,
              "#9c179e"
             ],
             [
              0.4444444444444444,
              "#bd3786"
             ],
             [
              0.5555555555555556,
              "#d8576b"
             ],
             [
              0.6666666666666666,
              "#ed7953"
             ],
             [
              0.7777777777777778,
              "#fb9f3a"
             ],
             [
              0.8888888888888888,
              "#fdca26"
             ],
             [
              1.0,
              "#f0f921"
             ]
            ],
            "type": "surface"
           }
          ],
          "table": [
           {
            "cells": {
             "fill": {
              "color": "#EBF0F8"
             },
             "line": {
              "color": "white"
             }
            },
            "header": {
             "fill": {
              "color": "#C8D4E3"
             },
             "line": {
              "color": "white"
             }
            },
            "type": "table"
           }
          ]
         },
         "layout": {
          "annotationdefaults": {
           "arrowcolor": "#2a3f5f",
           "arrowhead": 0,
           "arrowwidth": 1
          },
          "autotypenumbers": "strict",
          "coloraxis": {
           "colorbar": {
            "outlinewidth": 0,
            "ticks": ""
           }
          },
          "colorscale": {
           "diverging": [
            [
             0,
             "#8e0152"
            ],
            [
             0.1,
             "#c51b7d"
            ],
            [
             0.2,
             "#de77ae"
            ],
            [
             0.3,
             "#f1b6da"
            ],
            [
             0.4,
             "#fde0ef"
            ],
            [
             0.5,
             "#f7f7f7"
            ],
            [
             0.6,
             "#e6f5d0"
            ],
            [
             0.7,
             "#b8e186"
            ],
            [
             0.8,
             "#7fbc41"
            ],
            [
             0.9,
             "#4d9221"
            ],
            [
             1,
             "#276419"
            ]
           ],
           "sequential": [
            [
             0.0,
             "#0d0887"
            ],
            [
             0.1111111111111111,
             "#46039f"
            ],
            [
             0.2222222222222222,
             "#7201a8"
            ],
            [
             0.3333333333333333,
             "#9c179e"
            ],
            [
             0.4444444444444444,
             "#bd3786"
            ],
            [
             0.5555555555555556,
             "#d8576b"
            ],
            [
             0.6666666666666666,
             "#ed7953"
            ],
            [
             0.7777777777777778,
             "#fb9f3a"
            ],
            [
             0.8888888888888888,
             "#fdca26"
            ],
            [
             1.0,
             "#f0f921"
            ]
           ],
           "sequentialminus": [
            [
             0.0,
             "#0d0887"
            ],
            [
             0.1111111111111111,
             "#46039f"
            ],
            [
             0.2222222222222222,
             "#7201a8"
            ],
            [
             0.3333333333333333,
             "#9c179e"
            ],
            [
             0.4444444444444444,
             "#bd3786"
            ],
            [
             0.5555555555555556,
             "#d8576b"
            ],
            [
             0.6666666666666666,
             "#ed7953"
            ],
            [
             0.7777777777777778,
             "#fb9f3a"
            ],
            [
             0.8888888888888888,
             "#fdca26"
            ],
            [
             1.0,
             "#f0f921"
            ]
           ]
          },
          "colorway": [
           "#636efa",
           "#EF553B",
           "#00cc96",
           "#ab63fa",
           "#FFA15A",
           "#19d3f3",
           "#FF6692",
           "#B6E880",
           "#FF97FF",
           "#FECB52"
          ],
          "font": {
           "color": "#2a3f5f"
          },
          "geo": {
           "bgcolor": "white",
           "lakecolor": "white",
           "landcolor": "white",
           "showlakes": true,
           "showland": true,
           "subunitcolor": "#C8D4E3"
          },
          "hoverlabel": {
           "align": "left"
          },
          "hovermode": "closest",
          "mapbox": {
           "style": "light"
          },
          "paper_bgcolor": "white",
          "plot_bgcolor": "white",
          "polar": {
           "angularaxis": {
            "gridcolor": "#EBF0F8",
            "linecolor": "#EBF0F8",
            "ticks": ""
           },
           "bgcolor": "white",
           "radialaxis": {
            "gridcolor": "#EBF0F8",
            "linecolor": "#EBF0F8",
            "ticks": ""
           }
          },
          "scene": {
           "xaxis": {
            "backgroundcolor": "white",
            "gridcolor": "#DFE8F3",
            "gridwidth": 2,
            "linecolor": "#EBF0F8",
            "showbackground": true,
            "ticks": "",
            "zerolinecolor": "#EBF0F8"
           },
           "yaxis": {
            "backgroundcolor": "white",
            "gridcolor": "#DFE8F3",
            "gridwidth": 2,
            "linecolor": "#EBF0F8",
            "showbackground": true,
            "ticks": "",
            "zerolinecolor": "#EBF0F8"
           },
           "zaxis": {
            "backgroundcolor": "white",
            "gridcolor": "#DFE8F3",
            "gridwidth": 2,
            "linecolor": "#EBF0F8",
            "showbackground": true,
            "ticks": "",
            "zerolinecolor": "#EBF0F8"
           }
          },
          "shapedefaults": {
           "line": {
            "color": "#2a3f5f"
           }
          },
          "ternary": {
           "aaxis": {
            "gridcolor": "#DFE8F3",
            "linecolor": "#A2B1C6",
            "ticks": ""
           },
           "baxis": {
            "gridcolor": "#DFE8F3",
            "linecolor": "#A2B1C6",
            "ticks": ""
           },
           "bgcolor": "white",
           "caxis": {
            "gridcolor": "#DFE8F3",
            "linecolor": "#A2B1C6",
            "ticks": ""
           }
          },
          "title": {
           "x": 0.05
          },
          "xaxis": {
           "automargin": true,
           "gridcolor": "#EBF0F8",
           "linecolor": "#EBF0F8",
           "ticks": "",
           "title": {
            "standoff": 15
           },
           "zerolinecolor": "#EBF0F8",
           "zerolinewidth": 2
          },
          "yaxis": {
           "automargin": true,
           "gridcolor": "#EBF0F8",
           "linecolor": "#EBF0F8",
           "ticks": "",
           "title": {
            "standoff": 15
           },
           "zerolinecolor": "#EBF0F8",
           "zerolinewidth": 2
          }
         }
        },
        "legend": {
         "x": 0,
         "y": 1
        },
        "title": {
         "text": "Подгонка данных"
        },
        "xaxis": {
         "title": {
          "text": "K2065G_2_POROSITY"
         }
        },
        "yaxis": {
         "title": {
          "text": "K2065G_2_PERMEABILITY"
         }
        }
       },
       "config": {
        "plotlyServerURL": "https://plot.ly"
       }
      },
      "text/html": "<div>                            <div id=\"05b61dbc-e4cc-427a-87e4-d7981917d88a\" class=\"plotly-graph-div\" style=\"height:525px; width:100%;\"></div>            <script type=\"text/javascript\">                require([\"plotly\"], function(Plotly) {                    window.PLOTLYENV=window.PLOTLYENV || {};                                    if (document.getElementById(\"05b61dbc-e4cc-427a-87e4-d7981917d88a\")) {                    Plotly.newPlot(                        \"05b61dbc-e4cc-427a-87e4-d7981917d88a\",                        [{\"marker\":{\"color\":\"blue\"},\"mode\":\"markers\",\"name\":\"\\u0414\\u0430\\u043d\\u043d\\u044b\\u0435\",\"x\":[0.1702211499,0.1692114919,0.1682019383,0.1682019383,0.1676971763,0.1666875035,0.1651730686,0.1641634107,0.1631538719,0.1626489758,0.1621442139,0.1621442139,0.1626489758,0.1631538719,0.1631538719,0.1631538719,0.1626489758,0.1626489758,0.1626489758,0.1621442139,0.1611346602,0.1611346602,0.1616394371,0.1616394371,0.1611346602,0.1616394371,0.1611346602,0.1611346602,0.1606297791,0.1606297791,0.1606297791,0.1596202254,0.1596202254,0.1596202254,0.1591153443,0.1586105675,0.1591153443,0.1596202254,0.1591153443,0.1586105675,0.1586105675,0.1591153443,0.1591153443,0.1586105675,0.1586105675,0.1586105675,0.1586105675,0.1586105675,0.1586105675,0.1591153443,0.1591153443,0.1601250023,0.1611346602,0.1616394371,0.1636586487,0.1641634107,0.1656778455,0.1676971763,0.1682019383,0.1707259119,0.1712308079,0.1727452427,0.1747644544,0.1757739931,0.1757739931,0.1762788892,0.1757739931,0.1757739931,0.1747644544,0.1737547815,0.1737547815,0.1732500196,0.1727452427,0.1732500196,0.1737547815,0.1732500196,0.1737547815,0.1727452427,0.1722403467,0.1717355847,0.1707259119,0.1702211499,0.1692114919,0.1697163731,0.1692114919,0.1687067151,0.1687067151,0.1692114919,0.1682019383,0.1676971763,0.1661827415,0.1651730686,0.1641634107,0.1631538719,0.1616394371,0.1611346602,0.1601250023,0.1606297791,0.1601250023,0.1601250023],\"y\":[5.305978775,4.8371400833,4.4056649208,4.4056649208,4.2031207085,3.8228139877,3.3101279736,3.0036234856,2.7229943275,2.5917332172,2.4662578106,2.4662578106,2.5917332172,2.7229943275,2.7229943275,2.7229943275,2.5917332172,2.5917332172,2.5917332172,2.4662578106,2.2316713333,2.2316713333,2.3463072777,2.3463072777,2.2316713333,2.3463072777,2.2316713333,2.2316713333,2.1221199036,2.1221199036,2.1221199036,1.917586565,1.917586565,1.917586565,1.8221800327,1.7311353683,1.8221800327,1.917586565,1.8221800327,1.7311353683,1.7311353683,1.8221800327,1.8221800327,1.7311353683,1.7311353683,1.7311353683,1.7311353683,1.7311353683,1.7311353683,1.8221800327,1.8221800327,2.0174975395,2.2316713333,2.3463072777,2.860203743,3.0036234856,3.4736862183,4.2031207085,4.4056649208,5.5551991463,5.8148417473,6.6594138145,7.9533457756,8.6795578003,8.6795578003,9.0640964508,8.6795578003,8.6795578003,7.9533457756,7.2810263634,7.2810263634,6.9641022682,6.6594138145,6.9641022682,7.2810263634,6.9641022682,7.2810263634,6.6594138145,6.3665060997,6.0851373672,5.5551991463,5.305978775,4.8371400833,5.0667529106,4.8371400833,4.6169013977,4.6169013977,4.8371400833,4.4056649208,4.2031207085,3.6445188522,3.3101279736,3.0036234856,2.7229943275,2.3463072777,2.2316713333,2.0174975395,2.1221199036,2.0174975395,2.0174975395],\"type\":\"scatter\"},{\"line\":{\"color\":\"purple\"},\"mode\":\"lines\",\"name\":\"\\u041a\\u0443\\u0431\\u0438\\u0447\\u0435\\u0441\\u043a\\u0438\\u0439: y=378997.4291x^3 + -173843.3819x^2 + 26724.7638x + -1375.9510\",\"x\":[0.1702211499,0.1692114919,0.1682019383,0.1682019383,0.1676971763,0.1666875035,0.1651730686,0.1641634107,0.1631538719,0.1626489758,0.1621442139,0.1621442139,0.1626489758,0.1631538719,0.1631538719,0.1631538719,0.1626489758,0.1626489758,0.1626489758,0.1621442139,0.1611346602,0.1611346602,0.1616394371,0.1616394371,0.1611346602,0.1616394371,0.1611346602,0.1611346602,0.1606297791,0.1606297791,0.1606297791,0.1596202254,0.1596202254,0.1596202254,0.1591153443,0.1586105675,0.1591153443,0.1596202254,0.1591153443,0.1586105675,0.1586105675,0.1591153443,0.1591153443,0.1586105675,0.1586105675,0.1586105675,0.1586105675,0.1586105675,0.1586105675,0.1591153443,0.1591153443,0.1601250023,0.1611346602,0.1616394371,0.1636586487,0.1641634107,0.1656778455,0.1676971763,0.1682019383,0.1707259119,0.1712308079,0.1727452427,0.1747644544,0.1757739931,0.1757739931,0.1762788892,0.1757739931,0.1757739931,0.1747644544,0.1737547815,0.1737547815,0.1732500196,0.1727452427,0.1732500196,0.1737547815,0.1732500196,0.1737547815,0.1727452427,0.1722403467,0.1717355847,0.1707259119,0.1702211499,0.1692114919,0.1697163731,0.1692114919,0.1687067151,0.1687067151,0.1692114919,0.1682019383,0.1676971763,0.1661827415,0.1651730686,0.1641634107,0.1631538719,0.1616394371,0.1611346602,0.1601250023,0.1606297791,0.1601250023,0.1601250023],\"y\":[5.305990298633105,4.835240576017668,4.4023513403260495,4.4023513403260495,4.199360030546586,3.8187548772682476,3.3070784659737456,3.002006015840152,2.7230805509886977,2.592645670498996,2.4678959563477747,2.4678959563477747,2.592645670498996,2.7230805509886977,2.7230805509886977,2.7230805509886977,2.592645670498996,2.592645670498996,2.592645670498996,2.4678959563477747,2.234169272315512,2.234169272315512,2.3485000671782927,2.3485000671782927,2.234169272315512,2.3485000671782927,2.234169272315512,2.234169272315512,2.1245889795538915,2.1245889795538915,2.1245889795538915,1.918622472810739,1.918622472810739,1.918622472810739,1.8216085536676019,1.7282176991791403,1.8216085536676019,1.918622472810739,1.8216085536676019,1.7282176991791403,1.7282176991791403,1.8216085536676019,1.8216085536676019,1.7282176991791403,1.7282176991791403,1.7282176991791403,1.7282176991791403,1.7282176991791403,1.7282176991791403,1.8216085536676019,1.8216085536676019,2.0195119173774856,2.234169272315512,2.3485000671782927,2.859427886457297,3.002006015840152,3.4701222337587296,4.199360030546586,4.4023513403260495,5.556244270608431,5.816898126122169,6.663645253675668,7.9550039995717725,8.675490835237952,8.675490835237952,9.055566777580907,8.675490835237952,8.675490835237952,7.9550039995717725,7.28510944607774,7.28510944607774,6.96848593677737,6.663645253675668,6.96848593677737,7.28510944607774,6.96848593677737,7.28510944607774,6.663645253675668,6.370236632345723,6.088114131991233,5.556244270608431,5.305990298633105,4.835240576017668,5.065766289141493,4.835240576017668,4.6142159727476155,4.6142159727476155,4.835240576017668,4.4023513403260495,4.199360030546586,3.6406121302632073,3.3070784659737456,3.002006015840152,2.7230805509886977,2.3485000671782927,2.234169272315512,2.0195119173774856,2.1245889795538915,2.0195119173774856,2.0195119173774856],\"type\":\"scatter\"}],                        {\"template\":{\"data\":{\"barpolar\":[{\"marker\":{\"line\":{\"color\":\"white\",\"width\":0.5},\"pattern\":{\"fillmode\":\"overlay\",\"size\":10,\"solidity\":0.2}},\"type\":\"barpolar\"}],\"bar\":[{\"error_x\":{\"color\":\"#2a3f5f\"},\"error_y\":{\"color\":\"#2a3f5f\"},\"marker\":{\"line\":{\"color\":\"white\",\"width\":0.5},\"pattern\":{\"fillmode\":\"overlay\",\"size\":10,\"solidity\":0.2}},\"type\":\"bar\"}],\"carpet\":[{\"aaxis\":{\"endlinecolor\":\"#2a3f5f\",\"gridcolor\":\"#C8D4E3\",\"linecolor\":\"#C8D4E3\",\"minorgridcolor\":\"#C8D4E3\",\"startlinecolor\":\"#2a3f5f\"},\"baxis\":{\"endlinecolor\":\"#2a3f5f\",\"gridcolor\":\"#C8D4E3\",\"linecolor\":\"#C8D4E3\",\"minorgridcolor\":\"#C8D4E3\",\"startlinecolor\":\"#2a3f5f\"},\"type\":\"carpet\"}],\"choropleth\":[{\"colorbar\":{\"outlinewidth\":0,\"ticks\":\"\"},\"type\":\"choropleth\"}],\"contourcarpet\":[{\"colorbar\":{\"outlinewidth\":0,\"ticks\":\"\"},\"type\":\"contourcarpet\"}],\"contour\":[{\"colorbar\":{\"outlinewidth\":0,\"ticks\":\"\"},\"colorscale\":[[0.0,\"#0d0887\"],[0.1111111111111111,\"#46039f\"],[0.2222222222222222,\"#7201a8\"],[0.3333333333333333,\"#9c179e\"],[0.4444444444444444,\"#bd3786\"],[0.5555555555555556,\"#d8576b\"],[0.6666666666666666,\"#ed7953\"],[0.7777777777777778,\"#fb9f3a\"],[0.8888888888888888,\"#fdca26\"],[1.0,\"#f0f921\"]],\"type\":\"contour\"}],\"heatmapgl\":[{\"colorbar\":{\"outlinewidth\":0,\"ticks\":\"\"},\"colorscale\":[[0.0,\"#0d0887\"],[0.1111111111111111,\"#46039f\"],[0.2222222222222222,\"#7201a8\"],[0.3333333333333333,\"#9c179e\"],[0.4444444444444444,\"#bd3786\"],[0.5555555555555556,\"#d8576b\"],[0.6666666666666666,\"#ed7953\"],[0.7777777777777778,\"#fb9f3a\"],[0.8888888888888888,\"#fdca26\"],[1.0,\"#f0f921\"]],\"type\":\"heatmapgl\"}],\"heatmap\":[{\"colorbar\":{\"outlinewidth\":0,\"ticks\":\"\"},\"colorscale\":[[0.0,\"#0d0887\"],[0.1111111111111111,\"#46039f\"],[0.2222222222222222,\"#7201a8\"],[0.3333333333333333,\"#9c179e\"],[0.4444444444444444,\"#bd3786\"],[0.5555555555555556,\"#d8576b\"],[0.6666666666666666,\"#ed7953\"],[0.7777777777777778,\"#fb9f3a\"],[0.8888888888888888,\"#fdca26\"],[1.0,\"#f0f921\"]],\"type\":\"heatmap\"}],\"histogram2dcontour\":[{\"colorbar\":{\"outlinewidth\":0,\"ticks\":\"\"},\"colorscale\":[[0.0,\"#0d0887\"],[0.1111111111111111,\"#46039f\"],[0.2222222222222222,\"#7201a8\"],[0.3333333333333333,\"#9c179e\"],[0.4444444444444444,\"#bd3786\"],[0.5555555555555556,\"#d8576b\"],[0.6666666666666666,\"#ed7953\"],[0.7777777777777778,\"#fb9f3a\"],[0.8888888888888888,\"#fdca26\"],[1.0,\"#f0f921\"]],\"type\":\"histogram2dcontour\"}],\"histogram2d\":[{\"colorbar\":{\"outlinewidth\":0,\"ticks\":\"\"},\"colorscale\":[[0.0,\"#0d0887\"],[0.1111111111111111,\"#46039f\"],[0.2222222222222222,\"#7201a8\"],[0.3333333333333333,\"#9c179e\"],[0.4444444444444444,\"#bd3786\"],[0.5555555555555556,\"#d8576b\"],[0.6666666666666666,\"#ed7953\"],[0.7777777777777778,\"#fb9f3a\"],[0.8888888888888888,\"#fdca26\"],[1.0,\"#f0f921\"]],\"type\":\"histogram2d\"}],\"histogram\":[{\"marker\":{\"pattern\":{\"fillmode\":\"overlay\",\"size\":10,\"solidity\":0.2}},\"type\":\"histogram\"}],\"mesh3d\":[{\"colorbar\":{\"outlinewidth\":0,\"ticks\":\"\"},\"type\":\"mesh3d\"}],\"parcoords\":[{\"line\":{\"colorbar\":{\"outlinewidth\":0,\"ticks\":\"\"}},\"type\":\"parcoords\"}],\"pie\":[{\"automargin\":true,\"type\":\"pie\"}],\"scatter3d\":[{\"line\":{\"colorbar\":{\"outlinewidth\":0,\"ticks\":\"\"}},\"marker\":{\"colorbar\":{\"outlinewidth\":0,\"ticks\":\"\"}},\"type\":\"scatter3d\"}],\"scattercarpet\":[{\"marker\":{\"colorbar\":{\"outlinewidth\":0,\"ticks\":\"\"}},\"type\":\"scattercarpet\"}],\"scattergeo\":[{\"marker\":{\"colorbar\":{\"outlinewidth\":0,\"ticks\":\"\"}},\"type\":\"scattergeo\"}],\"scattergl\":[{\"marker\":{\"colorbar\":{\"outlinewidth\":0,\"ticks\":\"\"}},\"type\":\"scattergl\"}],\"scattermapbox\":[{\"marker\":{\"colorbar\":{\"outlinewidth\":0,\"ticks\":\"\"}},\"type\":\"scattermapbox\"}],\"scatterpolargl\":[{\"marker\":{\"colorbar\":{\"outlinewidth\":0,\"ticks\":\"\"}},\"type\":\"scatterpolargl\"}],\"scatterpolar\":[{\"marker\":{\"colorbar\":{\"outlinewidth\":0,\"ticks\":\"\"}},\"type\":\"scatterpolar\"}],\"scatter\":[{\"fillpattern\":{\"fillmode\":\"overlay\",\"size\":10,\"solidity\":0.2},\"type\":\"scatter\"}],\"scatterternary\":[{\"marker\":{\"colorbar\":{\"outlinewidth\":0,\"ticks\":\"\"}},\"type\":\"scatterternary\"}],\"surface\":[{\"colorbar\":{\"outlinewidth\":0,\"ticks\":\"\"},\"colorscale\":[[0.0,\"#0d0887\"],[0.1111111111111111,\"#46039f\"],[0.2222222222222222,\"#7201a8\"],[0.3333333333333333,\"#9c179e\"],[0.4444444444444444,\"#bd3786\"],[0.5555555555555556,\"#d8576b\"],[0.6666666666666666,\"#ed7953\"],[0.7777777777777778,\"#fb9f3a\"],[0.8888888888888888,\"#fdca26\"],[1.0,\"#f0f921\"]],\"type\":\"surface\"}],\"table\":[{\"cells\":{\"fill\":{\"color\":\"#EBF0F8\"},\"line\":{\"color\":\"white\"}},\"header\":{\"fill\":{\"color\":\"#C8D4E3\"},\"line\":{\"color\":\"white\"}},\"type\":\"table\"}]},\"layout\":{\"annotationdefaults\":{\"arrowcolor\":\"#2a3f5f\",\"arrowhead\":0,\"arrowwidth\":1},\"autotypenumbers\":\"strict\",\"coloraxis\":{\"colorbar\":{\"outlinewidth\":0,\"ticks\":\"\"}},\"colorscale\":{\"diverging\":[[0,\"#8e0152\"],[0.1,\"#c51b7d\"],[0.2,\"#de77ae\"],[0.3,\"#f1b6da\"],[0.4,\"#fde0ef\"],[0.5,\"#f7f7f7\"],[0.6,\"#e6f5d0\"],[0.7,\"#b8e186\"],[0.8,\"#7fbc41\"],[0.9,\"#4d9221\"],[1,\"#276419\"]],\"sequential\":[[0.0,\"#0d0887\"],[0.1111111111111111,\"#46039f\"],[0.2222222222222222,\"#7201a8\"],[0.3333333333333333,\"#9c179e\"],[0.4444444444444444,\"#bd3786\"],[0.5555555555555556,\"#d8576b\"],[0.6666666666666666,\"#ed7953\"],[0.7777777777777778,\"#fb9f3a\"],[0.8888888888888888,\"#fdca26\"],[1.0,\"#f0f921\"]],\"sequentialminus\":[[0.0,\"#0d0887\"],[0.1111111111111111,\"#46039f\"],[0.2222222222222222,\"#7201a8\"],[0.3333333333333333,\"#9c179e\"],[0.4444444444444444,\"#bd3786\"],[0.5555555555555556,\"#d8576b\"],[0.6666666666666666,\"#ed7953\"],[0.7777777777777778,\"#fb9f3a\"],[0.8888888888888888,\"#fdca26\"],[1.0,\"#f0f921\"]]},\"colorway\":[\"#636efa\",\"#EF553B\",\"#00cc96\",\"#ab63fa\",\"#FFA15A\",\"#19d3f3\",\"#FF6692\",\"#B6E880\",\"#FF97FF\",\"#FECB52\"],\"font\":{\"color\":\"#2a3f5f\"},\"geo\":{\"bgcolor\":\"white\",\"lakecolor\":\"white\",\"landcolor\":\"white\",\"showlakes\":true,\"showland\":true,\"subunitcolor\":\"#C8D4E3\"},\"hoverlabel\":{\"align\":\"left\"},\"hovermode\":\"closest\",\"mapbox\":{\"style\":\"light\"},\"paper_bgcolor\":\"white\",\"plot_bgcolor\":\"white\",\"polar\":{\"angularaxis\":{\"gridcolor\":\"#EBF0F8\",\"linecolor\":\"#EBF0F8\",\"ticks\":\"\"},\"bgcolor\":\"white\",\"radialaxis\":{\"gridcolor\":\"#EBF0F8\",\"linecolor\":\"#EBF0F8\",\"ticks\":\"\"}},\"scene\":{\"xaxis\":{\"backgroundcolor\":\"white\",\"gridcolor\":\"#DFE8F3\",\"gridwidth\":2,\"linecolor\":\"#EBF0F8\",\"showbackground\":true,\"ticks\":\"\",\"zerolinecolor\":\"#EBF0F8\"},\"yaxis\":{\"backgroundcolor\":\"white\",\"gridcolor\":\"#DFE8F3\",\"gridwidth\":2,\"linecolor\":\"#EBF0F8\",\"showbackground\":true,\"ticks\":\"\",\"zerolinecolor\":\"#EBF0F8\"},\"zaxis\":{\"backgroundcolor\":\"white\",\"gridcolor\":\"#DFE8F3\",\"gridwidth\":2,\"linecolor\":\"#EBF0F8\",\"showbackground\":true,\"ticks\":\"\",\"zerolinecolor\":\"#EBF0F8\"}},\"shapedefaults\":{\"line\":{\"color\":\"#2a3f5f\"}},\"ternary\":{\"aaxis\":{\"gridcolor\":\"#DFE8F3\",\"linecolor\":\"#A2B1C6\",\"ticks\":\"\"},\"baxis\":{\"gridcolor\":\"#DFE8F3\",\"linecolor\":\"#A2B1C6\",\"ticks\":\"\"},\"bgcolor\":\"white\",\"caxis\":{\"gridcolor\":\"#DFE8F3\",\"linecolor\":\"#A2B1C6\",\"ticks\":\"\"}},\"title\":{\"x\":0.05},\"xaxis\":{\"automargin\":true,\"gridcolor\":\"#EBF0F8\",\"linecolor\":\"#EBF0F8\",\"ticks\":\"\",\"title\":{\"standoff\":15},\"zerolinecolor\":\"#EBF0F8\",\"zerolinewidth\":2},\"yaxis\":{\"automargin\":true,\"gridcolor\":\"#EBF0F8\",\"linecolor\":\"#EBF0F8\",\"ticks\":\"\",\"title\":{\"standoff\":15},\"zerolinecolor\":\"#EBF0F8\",\"zerolinewidth\":2}}},\"legend\":{\"x\":0,\"y\":1},\"title\":{\"text\":\"\\u041f\\u043e\\u0434\\u0433\\u043e\\u043d\\u043a\\u0430 \\u0434\\u0430\\u043d\\u043d\\u044b\\u0445\"},\"xaxis\":{\"title\":{\"text\":\"K2065G_2_POROSITY\"}},\"yaxis\":{\"title\":{\"text\":\"K2065G_2_PERMEABILITY\"}}},                        {\"responsive\": true}                    ).then(function(){\n                            \nvar gd = document.getElementById('05b61dbc-e4cc-427a-87e4-d7981917d88a');\nvar x = new MutationObserver(function (mutations, observer) {{\n        var display = window.getComputedStyle(gd).display;\n        if (!display || display === 'none') {{\n            console.log([gd, 'removed!']);\n            Plotly.purge(gd);\n            observer.disconnect();\n        }}\n}});\n\n// Listen for the removal of the full notebook cells\nvar notebookContainer = gd.closest('#notebook-container');\nif (notebookContainer) {{\n    x.observe(notebookContainer, {childList: true});\n}}\n\n// Listen for the clearing of the current output cell\nvar outputEl = gd.closest('.output');\nif (outputEl) {{\n    x.observe(outputEl, {childList: true});\n}}\n\n                        })                };                });            </script>        </div>"
     },
     "metadata": {},
     "output_type": "display_data"
    },
    {
     "data": {
      "text/plain": "('cubic',\n 0.9999983479772305,\n '378997.4291x^3 + -173843.3819x^2 + 26724.7638x + -1375.9510')"
     },
     "execution_count": 19,
     "metadata": {},
     "output_type": "execute_result"
    }
   ],
   "source": [
    "fit_and_plot_lists_3(K2065G_2_POROSITY, K2065G_2_PERMEABILITY, \"K2065G_2_POROSITY\", \"K2065G_2_PERMEABILITY\")"
   ],
   "metadata": {
    "collapsed": false,
    "ExecuteTime": {
     "end_time": "2024-12-03T04:36:36.235369300Z",
     "start_time": "2024-12-03T04:36:36.203124200Z"
    }
   },
   "id": "e6a56f5efdde0d41",
   "execution_count": 19
  },
  {
   "cell_type": "code",
   "outputs": [],
   "source": [
    "K2066G_2_POROSITY = [0.1899086684, 0.1899086684, 0.1894038916, 0.1878894567, 0.1863750219, 0.185365364, 0.1843558252, 0.1838509291, 0.1823364943, 0.1818317324, 0.1818317324, 0.1818317324, 0.1813269556, 0.1813269556, 0.1818317324, 0.1818317324, 0.1813269556, 0.1813269556, 0.1813269556, 0.1803172976, 0.1798125207, 0.1782980859, 0.1782980859, 0.1808220595, 0.1813269556, 0.1818317324, 0.1833461523, 0.1838509291, 0.1843558252, 0.1843558252, 0.1843558252, 0.1843558252, 0.1838509291, 0.1818317324, 0.1823364943, 0.1828413904, 0.1833461523, 0.1838509291, 0.1843558252, 0.1843558252, 0.1843558252, 0.1838509291, 0.1833461523, 0.1823364943, 0.1818317324, 0.1818317324, 0.1813269556, 0.1808220595, 0.1803172976, 0.1798125207, 0.1793077439, 0.1788028628, 0.1777933091, 0.1767836511, 0.1772884279, 0.1782980859, 0.1793077439, 0.1813269556, 0.1833461523, 0.1848605871, 0.1863750219, 0.1878894567, 0.1894038916, 0.1904134303, 0.1904134303, 0.1909183264, 0.1914231032, 0.1914231032, 0.1909183264, 0.1909183264, 0.1909183264, 0.1909183264, 0.1909183264, 0.1914231032, 0.1919278651, 0.192432642, 0.192937538, 0.1934423, 0.1944519728, 0.1949567348, 0.1964711696, 0.1974807084, 0.1979856044, 0.1989951432, 0.1989951432, 0.1989951432, 0.1989951432, 0.1989951432, 0.1984903812, 0.1979856044, 0.1979856044, 0.1974807084, 0.1974807084, 0.1969759464, 0.1969759464, 0.1964711696, 0.1964711696, 0.1964711696, 0.1964711696, 0.1964711696]\n"
   ],
   "metadata": {
    "collapsed": false,
    "ExecuteTime": {
     "end_time": "2024-12-03T04:35:45.562193200Z",
     "start_time": "2024-12-03T04:35:45.552701800Z"
    }
   },
   "id": "b4de3155dd9834ee",
   "execution_count": 16
  },
  {
   "cell_type": "code",
   "outputs": [
    {
     "name": "stdout",
     "output_type": "stream",
     "text": [
      "{'linear': 0.28768975340019315, 'polynomial': 0.3045806798854077, 'cubic': 0.3440804803062085, 'exponential': 0.2866250801238843, 'logarithmic': 0.28940184350188114, 'hyperbolic': 0.2909606800396487}\n"
     ]
    },
    {
     "data": {
      "application/vnd.plotly.v1+json": {
       "data": [
        {
         "marker": {
          "color": "blue"
         },
         "mode": "markers",
         "name": "Данные",
         "x": [
          0.1702211499,
          0.1692114919,
          0.1682019383,
          0.1682019383,
          0.1676971763,
          0.1666875035,
          0.1651730686,
          0.1641634107,
          0.1631538719,
          0.1626489758,
          0.1621442139,
          0.1621442139,
          0.1626489758,
          0.1631538719,
          0.1631538719,
          0.1631538719,
          0.1626489758,
          0.1626489758,
          0.1626489758,
          0.1621442139,
          0.1611346602,
          0.1611346602,
          0.1616394371,
          0.1616394371,
          0.1611346602,
          0.1616394371,
          0.1611346602,
          0.1611346602,
          0.1606297791,
          0.1606297791,
          0.1606297791,
          0.1596202254,
          0.1596202254,
          0.1596202254,
          0.1591153443,
          0.1586105675,
          0.1591153443,
          0.1596202254,
          0.1591153443,
          0.1586105675,
          0.1586105675,
          0.1591153443,
          0.1591153443,
          0.1586105675,
          0.1586105675,
          0.1586105675,
          0.1586105675,
          0.1586105675,
          0.1586105675,
          0.1591153443,
          0.1591153443,
          0.1601250023,
          0.1611346602,
          0.1616394371,
          0.1636586487,
          0.1641634107,
          0.1656778455,
          0.1676971763,
          0.1682019383,
          0.1707259119,
          0.1712308079,
          0.1727452427,
          0.1747644544,
          0.1757739931,
          0.1757739931,
          0.1762788892,
          0.1757739931,
          0.1757739931,
          0.1747644544,
          0.1737547815,
          0.1737547815,
          0.1732500196,
          0.1727452427,
          0.1732500196,
          0.1737547815,
          0.1732500196,
          0.1737547815,
          0.1727452427,
          0.1722403467,
          0.1717355847,
          0.1707259119,
          0.1702211499,
          0.1692114919,
          0.1697163731,
          0.1692114919,
          0.1687067151,
          0.1687067151,
          0.1692114919,
          0.1682019383,
          0.1676971763,
          0.1661827415,
          0.1651730686,
          0.1641634107,
          0.1631538719,
          0.1616394371,
          0.1611346602,
          0.1601250023,
          0.1606297791,
          0.1601250023,
          0.1601250023
         ],
         "y": [
          0.1899086684,
          0.1899086684,
          0.1894038916,
          0.1878894567,
          0.1863750219,
          0.185365364,
          0.1843558252,
          0.1838509291,
          0.1823364943,
          0.1818317324,
          0.1818317324,
          0.1818317324,
          0.1813269556,
          0.1813269556,
          0.1818317324,
          0.1818317324,
          0.1813269556,
          0.1813269556,
          0.1813269556,
          0.1803172976,
          0.1798125207,
          0.1782980859,
          0.1782980859,
          0.1808220595,
          0.1813269556,
          0.1818317324,
          0.1833461523,
          0.1838509291,
          0.1843558252,
          0.1843558252,
          0.1843558252,
          0.1843558252,
          0.1838509291,
          0.1818317324,
          0.1823364943,
          0.1828413904,
          0.1833461523,
          0.1838509291,
          0.1843558252,
          0.1843558252,
          0.1843558252,
          0.1838509291,
          0.1833461523,
          0.1823364943,
          0.1818317324,
          0.1818317324,
          0.1813269556,
          0.1808220595,
          0.1803172976,
          0.1798125207,
          0.1793077439,
          0.1788028628,
          0.1777933091,
          0.1767836511,
          0.1772884279,
          0.1782980859,
          0.1793077439,
          0.1813269556,
          0.1833461523,
          0.1848605871,
          0.1863750219,
          0.1878894567,
          0.1894038916,
          0.1904134303,
          0.1904134303,
          0.1909183264,
          0.1914231032,
          0.1914231032,
          0.1909183264,
          0.1909183264,
          0.1909183264,
          0.1909183264,
          0.1909183264,
          0.1914231032,
          0.1919278651,
          0.192432642,
          0.192937538,
          0.1934423,
          0.1944519728,
          0.1949567348,
          0.1964711696,
          0.1974807084,
          0.1979856044,
          0.1989951432,
          0.1989951432,
          0.1989951432,
          0.1989951432,
          0.1989951432,
          0.1984903812,
          0.1979856044,
          0.1979856044,
          0.1974807084,
          0.1974807084,
          0.1969759464,
          0.1969759464,
          0.1964711696,
          0.1964711696,
          0.1964711696,
          0.1964711696,
          0.1964711696
         ],
         "type": "scatter"
        },
        {
         "line": {
          "color": "purple"
         },
         "mode": "lines",
         "name": "Кубический: y=-11352.5525x^3 + 5648.5335x^2 + -935.5703x + 51.7721",
         "x": [
          0.1702211499,
          0.1692114919,
          0.1682019383,
          0.1682019383,
          0.1676971763,
          0.1666875035,
          0.1651730686,
          0.1641634107,
          0.1631538719,
          0.1626489758,
          0.1621442139,
          0.1621442139,
          0.1626489758,
          0.1631538719,
          0.1631538719,
          0.1631538719,
          0.1626489758,
          0.1626489758,
          0.1626489758,
          0.1621442139,
          0.1611346602,
          0.1611346602,
          0.1616394371,
          0.1616394371,
          0.1611346602,
          0.1616394371,
          0.1611346602,
          0.1611346602,
          0.1606297791,
          0.1606297791,
          0.1606297791,
          0.1596202254,
          0.1596202254,
          0.1596202254,
          0.1591153443,
          0.1586105675,
          0.1591153443,
          0.1596202254,
          0.1591153443,
          0.1586105675,
          0.1586105675,
          0.1591153443,
          0.1591153443,
          0.1586105675,
          0.1586105675,
          0.1586105675,
          0.1586105675,
          0.1586105675,
          0.1586105675,
          0.1591153443,
          0.1591153443,
          0.1601250023,
          0.1611346602,
          0.1616394371,
          0.1636586487,
          0.1641634107,
          0.1656778455,
          0.1676971763,
          0.1682019383,
          0.1707259119,
          0.1712308079,
          0.1727452427,
          0.1747644544,
          0.1757739931,
          0.1757739931,
          0.1762788892,
          0.1757739931,
          0.1757739931,
          0.1747644544,
          0.1737547815,
          0.1737547815,
          0.1732500196,
          0.1727452427,
          0.1732500196,
          0.1737547815,
          0.1732500196,
          0.1737547815,
          0.1727452427,
          0.1722403467,
          0.1717355847,
          0.1707259119,
          0.1702211499,
          0.1692114919,
          0.1697163731,
          0.1692114919,
          0.1687067151,
          0.1687067151,
          0.1692114919,
          0.1682019383,
          0.1676971763,
          0.1661827415,
          0.1651730686,
          0.1641634107,
          0.1631538719,
          0.1616394371,
          0.1611346602,
          0.1601250023,
          0.1606297791,
          0.1601250023,
          0.1601250023
         ],
         "y": [
          0.19285994846846677,
          0.19211347004946333,
          0.19113383417838747,
          0.19113383417838747,
          0.19057847743478362,
          0.1893802781672349,
          0.18749621021537166,
          0.18628445300878127,
          0.1851900723654154,
          0.18470862988299075,
          0.1842829110863562,
          0.1842829110863562,
          0.18470862988299075,
          0.1851900723654154,
          0.1851900723654154,
          0.1851900723654154,
          0.18470862988299075,
          0.18470862988299075,
          0.18470862988299075,
          0.1842829110863562,
          0.1836332661045077,
          0.1836332661045077,
          0.18392153177215675,
          0.18392153177215675,
          0.1836332661045077,
          0.18392153177215675,
          0.1836332661045077,
          0.1836332661045077,
          0.18342684140039012,
          0.18342684140039012,
          0.18342684140039012,
          0.18329476681292078,
          0.18329476681292078,
          0.18329476681292078,
          0.1833866178589716,
          0.1835953826412009,
          0.1833866178589716,
          0.18329476681292078,
          0.1833866178589716,
          0.1835953826412009,
          0.1835953826412009,
          0.1833866178589716,
          0.1833866178589716,
          0.1835953826412009,
          0.1835953826412009,
          0.1835953826412009,
          0.1835953826412009,
          0.1835953826412009,
          0.1835953826412009,
          0.1833866178589716,
          0.1833866178589716,
          0.1833111051745675,
          0.1836332661045077,
          0.18392153177215675,
          0.18571823684844446,
          0.18628445300878127,
          0.18812408644458856,
          0.19057847743478362,
          0.19113383417838747,
          0.19312377367562306,
          0.1933030504754072,
          0.19324553062430994,
          0.19145286148379626,
          0.18966353514248624,
          0.18966353514248624,
          0.18851464570407472,
          0.18966353514248624,
          0.18966353514248624,
          0.19145286148379626,
          0.1926236000623902,
          0.1926236000623902,
          0.19299875716879455,
          0.19324553062430994,
          0.19299875716879455,
          0.1926236000623902,
          0.19299875716879455,
          0.1926236000623902,
          0.19324553062430994,
          0.19337268464379065,
          0.1933889228203185,
          0.19312377367562306,
          0.19285994846846677,
          0.19211347004946333,
          0.19252028830392476,
          0.19211347004946333,
          0.1916484242428993,
          0.1916484242428993,
          0.19211347004946333,
          0.19113383417838747,
          0.19057847743478362,
          0.18875513526519683,
          0.18749621021537166,
          0.18628445300878127,
          0.1851900723654154,
          0.18392153177215675,
          0.1836332661045077,
          0.1833111051745675,
          0.18342684140039012,
          0.1833111051745675,
          0.1833111051745675
         ],
         "type": "scatter"
        }
       ],
       "layout": {
        "template": {
         "data": {
          "barpolar": [
           {
            "marker": {
             "line": {
              "color": "white",
              "width": 0.5
             },
             "pattern": {
              "fillmode": "overlay",
              "size": 10,
              "solidity": 0.2
             }
            },
            "type": "barpolar"
           }
          ],
          "bar": [
           {
            "error_x": {
             "color": "#2a3f5f"
            },
            "error_y": {
             "color": "#2a3f5f"
            },
            "marker": {
             "line": {
              "color": "white",
              "width": 0.5
             },
             "pattern": {
              "fillmode": "overlay",
              "size": 10,
              "solidity": 0.2
             }
            },
            "type": "bar"
           }
          ],
          "carpet": [
           {
            "aaxis": {
             "endlinecolor": "#2a3f5f",
             "gridcolor": "#C8D4E3",
             "linecolor": "#C8D4E3",
             "minorgridcolor": "#C8D4E3",
             "startlinecolor": "#2a3f5f"
            },
            "baxis": {
             "endlinecolor": "#2a3f5f",
             "gridcolor": "#C8D4E3",
             "linecolor": "#C8D4E3",
             "minorgridcolor": "#C8D4E3",
             "startlinecolor": "#2a3f5f"
            },
            "type": "carpet"
           }
          ],
          "choropleth": [
           {
            "colorbar": {
             "outlinewidth": 0,
             "ticks": ""
            },
            "type": "choropleth"
           }
          ],
          "contourcarpet": [
           {
            "colorbar": {
             "outlinewidth": 0,
             "ticks": ""
            },
            "type": "contourcarpet"
           }
          ],
          "contour": [
           {
            "colorbar": {
             "outlinewidth": 0,
             "ticks": ""
            },
            "colorscale": [
             [
              0.0,
              "#0d0887"
             ],
             [
              0.1111111111111111,
              "#46039f"
             ],
             [
              0.2222222222222222,
              "#7201a8"
             ],
             [
              0.3333333333333333,
              "#9c179e"
             ],
             [
              0.4444444444444444,
              "#bd3786"
             ],
             [
              0.5555555555555556,
              "#d8576b"
             ],
             [
              0.6666666666666666,
              "#ed7953"
             ],
             [
              0.7777777777777778,
              "#fb9f3a"
             ],
             [
              0.8888888888888888,
              "#fdca26"
             ],
             [
              1.0,
              "#f0f921"
             ]
            ],
            "type": "contour"
           }
          ],
          "heatmapgl": [
           {
            "colorbar": {
             "outlinewidth": 0,
             "ticks": ""
            },
            "colorscale": [
             [
              0.0,
              "#0d0887"
             ],
             [
              0.1111111111111111,
              "#46039f"
             ],
             [
              0.2222222222222222,
              "#7201a8"
             ],
             [
              0.3333333333333333,
              "#9c179e"
             ],
             [
              0.4444444444444444,
              "#bd3786"
             ],
             [
              0.5555555555555556,
              "#d8576b"
             ],
             [
              0.6666666666666666,
              "#ed7953"
             ],
             [
              0.7777777777777778,
              "#fb9f3a"
             ],
             [
              0.8888888888888888,
              "#fdca26"
             ],
             [
              1.0,
              "#f0f921"
             ]
            ],
            "type": "heatmapgl"
           }
          ],
          "heatmap": [
           {
            "colorbar": {
             "outlinewidth": 0,
             "ticks": ""
            },
            "colorscale": [
             [
              0.0,
              "#0d0887"
             ],
             [
              0.1111111111111111,
              "#46039f"
             ],
             [
              0.2222222222222222,
              "#7201a8"
             ],
             [
              0.3333333333333333,
              "#9c179e"
             ],
             [
              0.4444444444444444,
              "#bd3786"
             ],
             [
              0.5555555555555556,
              "#d8576b"
             ],
             [
              0.6666666666666666,
              "#ed7953"
             ],
             [
              0.7777777777777778,
              "#fb9f3a"
             ],
             [
              0.8888888888888888,
              "#fdca26"
             ],
             [
              1.0,
              "#f0f921"
             ]
            ],
            "type": "heatmap"
           }
          ],
          "histogram2dcontour": [
           {
            "colorbar": {
             "outlinewidth": 0,
             "ticks": ""
            },
            "colorscale": [
             [
              0.0,
              "#0d0887"
             ],
             [
              0.1111111111111111,
              "#46039f"
             ],
             [
              0.2222222222222222,
              "#7201a8"
             ],
             [
              0.3333333333333333,
              "#9c179e"
             ],
             [
              0.4444444444444444,
              "#bd3786"
             ],
             [
              0.5555555555555556,
              "#d8576b"
             ],
             [
              0.6666666666666666,
              "#ed7953"
             ],
             [
              0.7777777777777778,
              "#fb9f3a"
             ],
             [
              0.8888888888888888,
              "#fdca26"
             ],
             [
              1.0,
              "#f0f921"
             ]
            ],
            "type": "histogram2dcontour"
           }
          ],
          "histogram2d": [
           {
            "colorbar": {
             "outlinewidth": 0,
             "ticks": ""
            },
            "colorscale": [
             [
              0.0,
              "#0d0887"
             ],
             [
              0.1111111111111111,
              "#46039f"
             ],
             [
              0.2222222222222222,
              "#7201a8"
             ],
             [
              0.3333333333333333,
              "#9c179e"
             ],
             [
              0.4444444444444444,
              "#bd3786"
             ],
             [
              0.5555555555555556,
              "#d8576b"
             ],
             [
              0.6666666666666666,
              "#ed7953"
             ],
             [
              0.7777777777777778,
              "#fb9f3a"
             ],
             [
              0.8888888888888888,
              "#fdca26"
             ],
             [
              1.0,
              "#f0f921"
             ]
            ],
            "type": "histogram2d"
           }
          ],
          "histogram": [
           {
            "marker": {
             "pattern": {
              "fillmode": "overlay",
              "size": 10,
              "solidity": 0.2
             }
            },
            "type": "histogram"
           }
          ],
          "mesh3d": [
           {
            "colorbar": {
             "outlinewidth": 0,
             "ticks": ""
            },
            "type": "mesh3d"
           }
          ],
          "parcoords": [
           {
            "line": {
             "colorbar": {
              "outlinewidth": 0,
              "ticks": ""
             }
            },
            "type": "parcoords"
           }
          ],
          "pie": [
           {
            "automargin": true,
            "type": "pie"
           }
          ],
          "scatter3d": [
           {
            "line": {
             "colorbar": {
              "outlinewidth": 0,
              "ticks": ""
             }
            },
            "marker": {
             "colorbar": {
              "outlinewidth": 0,
              "ticks": ""
             }
            },
            "type": "scatter3d"
           }
          ],
          "scattercarpet": [
           {
            "marker": {
             "colorbar": {
              "outlinewidth": 0,
              "ticks": ""
             }
            },
            "type": "scattercarpet"
           }
          ],
          "scattergeo": [
           {
            "marker": {
             "colorbar": {
              "outlinewidth": 0,
              "ticks": ""
             }
            },
            "type": "scattergeo"
           }
          ],
          "scattergl": [
           {
            "marker": {
             "colorbar": {
              "outlinewidth": 0,
              "ticks": ""
             }
            },
            "type": "scattergl"
           }
          ],
          "scattermapbox": [
           {
            "marker": {
             "colorbar": {
              "outlinewidth": 0,
              "ticks": ""
             }
            },
            "type": "scattermapbox"
           }
          ],
          "scatterpolargl": [
           {
            "marker": {
             "colorbar": {
              "outlinewidth": 0,
              "ticks": ""
             }
            },
            "type": "scatterpolargl"
           }
          ],
          "scatterpolar": [
           {
            "marker": {
             "colorbar": {
              "outlinewidth": 0,
              "ticks": ""
             }
            },
            "type": "scatterpolar"
           }
          ],
          "scatter": [
           {
            "fillpattern": {
             "fillmode": "overlay",
             "size": 10,
             "solidity": 0.2
            },
            "type": "scatter"
           }
          ],
          "scatterternary": [
           {
            "marker": {
             "colorbar": {
              "outlinewidth": 0,
              "ticks": ""
             }
            },
            "type": "scatterternary"
           }
          ],
          "surface": [
           {
            "colorbar": {
             "outlinewidth": 0,
             "ticks": ""
            },
            "colorscale": [
             [
              0.0,
              "#0d0887"
             ],
             [
              0.1111111111111111,
              "#46039f"
             ],
             [
              0.2222222222222222,
              "#7201a8"
             ],
             [
              0.3333333333333333,
              "#9c179e"
             ],
             [
              0.4444444444444444,
              "#bd3786"
             ],
             [
              0.5555555555555556,
              "#d8576b"
             ],
             [
              0.6666666666666666,
              "#ed7953"
             ],
             [
              0.7777777777777778,
              "#fb9f3a"
             ],
             [
              0.8888888888888888,
              "#fdca26"
             ],
             [
              1.0,
              "#f0f921"
             ]
            ],
            "type": "surface"
           }
          ],
          "table": [
           {
            "cells": {
             "fill": {
              "color": "#EBF0F8"
             },
             "line": {
              "color": "white"
             }
            },
            "header": {
             "fill": {
              "color": "#C8D4E3"
             },
             "line": {
              "color": "white"
             }
            },
            "type": "table"
           }
          ]
         },
         "layout": {
          "annotationdefaults": {
           "arrowcolor": "#2a3f5f",
           "arrowhead": 0,
           "arrowwidth": 1
          },
          "autotypenumbers": "strict",
          "coloraxis": {
           "colorbar": {
            "outlinewidth": 0,
            "ticks": ""
           }
          },
          "colorscale": {
           "diverging": [
            [
             0,
             "#8e0152"
            ],
            [
             0.1,
             "#c51b7d"
            ],
            [
             0.2,
             "#de77ae"
            ],
            [
             0.3,
             "#f1b6da"
            ],
            [
             0.4,
             "#fde0ef"
            ],
            [
             0.5,
             "#f7f7f7"
            ],
            [
             0.6,
             "#e6f5d0"
            ],
            [
             0.7,
             "#b8e186"
            ],
            [
             0.8,
             "#7fbc41"
            ],
            [
             0.9,
             "#4d9221"
            ],
            [
             1,
             "#276419"
            ]
           ],
           "sequential": [
            [
             0.0,
             "#0d0887"
            ],
            [
             0.1111111111111111,
             "#46039f"
            ],
            [
             0.2222222222222222,
             "#7201a8"
            ],
            [
             0.3333333333333333,
             "#9c179e"
            ],
            [
             0.4444444444444444,
             "#bd3786"
            ],
            [
             0.5555555555555556,
             "#d8576b"
            ],
            [
             0.6666666666666666,
             "#ed7953"
            ],
            [
             0.7777777777777778,
             "#fb9f3a"
            ],
            [
             0.8888888888888888,
             "#fdca26"
            ],
            [
             1.0,
             "#f0f921"
            ]
           ],
           "sequentialminus": [
            [
             0.0,
             "#0d0887"
            ],
            [
             0.1111111111111111,
             "#46039f"
            ],
            [
             0.2222222222222222,
             "#7201a8"
            ],
            [
             0.3333333333333333,
             "#9c179e"
            ],
            [
             0.4444444444444444,
             "#bd3786"
            ],
            [
             0.5555555555555556,
             "#d8576b"
            ],
            [
             0.6666666666666666,
             "#ed7953"
            ],
            [
             0.7777777777777778,
             "#fb9f3a"
            ],
            [
             0.8888888888888888,
             "#fdca26"
            ],
            [
             1.0,
             "#f0f921"
            ]
           ]
          },
          "colorway": [
           "#636efa",
           "#EF553B",
           "#00cc96",
           "#ab63fa",
           "#FFA15A",
           "#19d3f3",
           "#FF6692",
           "#B6E880",
           "#FF97FF",
           "#FECB52"
          ],
          "font": {
           "color": "#2a3f5f"
          },
          "geo": {
           "bgcolor": "white",
           "lakecolor": "white",
           "landcolor": "white",
           "showlakes": true,
           "showland": true,
           "subunitcolor": "#C8D4E3"
          },
          "hoverlabel": {
           "align": "left"
          },
          "hovermode": "closest",
          "mapbox": {
           "style": "light"
          },
          "paper_bgcolor": "white",
          "plot_bgcolor": "white",
          "polar": {
           "angularaxis": {
            "gridcolor": "#EBF0F8",
            "linecolor": "#EBF0F8",
            "ticks": ""
           },
           "bgcolor": "white",
           "radialaxis": {
            "gridcolor": "#EBF0F8",
            "linecolor": "#EBF0F8",
            "ticks": ""
           }
          },
          "scene": {
           "xaxis": {
            "backgroundcolor": "white",
            "gridcolor": "#DFE8F3",
            "gridwidth": 2,
            "linecolor": "#EBF0F8",
            "showbackground": true,
            "ticks": "",
            "zerolinecolor": "#EBF0F8"
           },
           "yaxis": {
            "backgroundcolor": "white",
            "gridcolor": "#DFE8F3",
            "gridwidth": 2,
            "linecolor": "#EBF0F8",
            "showbackground": true,
            "ticks": "",
            "zerolinecolor": "#EBF0F8"
           },
           "zaxis": {
            "backgroundcolor": "white",
            "gridcolor": "#DFE8F3",
            "gridwidth": 2,
            "linecolor": "#EBF0F8",
            "showbackground": true,
            "ticks": "",
            "zerolinecolor": "#EBF0F8"
           }
          },
          "shapedefaults": {
           "line": {
            "color": "#2a3f5f"
           }
          },
          "ternary": {
           "aaxis": {
            "gridcolor": "#DFE8F3",
            "linecolor": "#A2B1C6",
            "ticks": ""
           },
           "baxis": {
            "gridcolor": "#DFE8F3",
            "linecolor": "#A2B1C6",
            "ticks": ""
           },
           "bgcolor": "white",
           "caxis": {
            "gridcolor": "#DFE8F3",
            "linecolor": "#A2B1C6",
            "ticks": ""
           }
          },
          "title": {
           "x": 0.05
          },
          "xaxis": {
           "automargin": true,
           "gridcolor": "#EBF0F8",
           "linecolor": "#EBF0F8",
           "ticks": "",
           "title": {
            "standoff": 15
           },
           "zerolinecolor": "#EBF0F8",
           "zerolinewidth": 2
          },
          "yaxis": {
           "automargin": true,
           "gridcolor": "#EBF0F8",
           "linecolor": "#EBF0F8",
           "ticks": "",
           "title": {
            "standoff": 15
           },
           "zerolinecolor": "#EBF0F8",
           "zerolinewidth": 2
          }
         }
        },
        "legend": {
         "x": 0,
         "y": 1
        },
        "title": {
         "text": "Подгонка данных"
        },
        "xaxis": {
         "title": {
          "text": "K2065G_2_POROSITY"
         }
        },
        "yaxis": {
         "title": {
          "text": "K2066G_2_POROSITY"
         }
        }
       },
       "config": {
        "plotlyServerURL": "https://plot.ly"
       }
      },
      "text/html": "<div>                            <div id=\"540fa76a-2d1c-477b-8ff3-0189dd923c92\" class=\"plotly-graph-div\" style=\"height:525px; width:100%;\"></div>            <script type=\"text/javascript\">                require([\"plotly\"], function(Plotly) {                    window.PLOTLYENV=window.PLOTLYENV || {};                                    if (document.getElementById(\"540fa76a-2d1c-477b-8ff3-0189dd923c92\")) {                    Plotly.newPlot(                        \"540fa76a-2d1c-477b-8ff3-0189dd923c92\",                        [{\"marker\":{\"color\":\"blue\"},\"mode\":\"markers\",\"name\":\"\\u0414\\u0430\\u043d\\u043d\\u044b\\u0435\",\"x\":[0.1702211499,0.1692114919,0.1682019383,0.1682019383,0.1676971763,0.1666875035,0.1651730686,0.1641634107,0.1631538719,0.1626489758,0.1621442139,0.1621442139,0.1626489758,0.1631538719,0.1631538719,0.1631538719,0.1626489758,0.1626489758,0.1626489758,0.1621442139,0.1611346602,0.1611346602,0.1616394371,0.1616394371,0.1611346602,0.1616394371,0.1611346602,0.1611346602,0.1606297791,0.1606297791,0.1606297791,0.1596202254,0.1596202254,0.1596202254,0.1591153443,0.1586105675,0.1591153443,0.1596202254,0.1591153443,0.1586105675,0.1586105675,0.1591153443,0.1591153443,0.1586105675,0.1586105675,0.1586105675,0.1586105675,0.1586105675,0.1586105675,0.1591153443,0.1591153443,0.1601250023,0.1611346602,0.1616394371,0.1636586487,0.1641634107,0.1656778455,0.1676971763,0.1682019383,0.1707259119,0.1712308079,0.1727452427,0.1747644544,0.1757739931,0.1757739931,0.1762788892,0.1757739931,0.1757739931,0.1747644544,0.1737547815,0.1737547815,0.1732500196,0.1727452427,0.1732500196,0.1737547815,0.1732500196,0.1737547815,0.1727452427,0.1722403467,0.1717355847,0.1707259119,0.1702211499,0.1692114919,0.1697163731,0.1692114919,0.1687067151,0.1687067151,0.1692114919,0.1682019383,0.1676971763,0.1661827415,0.1651730686,0.1641634107,0.1631538719,0.1616394371,0.1611346602,0.1601250023,0.1606297791,0.1601250023,0.1601250023],\"y\":[0.1899086684,0.1899086684,0.1894038916,0.1878894567,0.1863750219,0.185365364,0.1843558252,0.1838509291,0.1823364943,0.1818317324,0.1818317324,0.1818317324,0.1813269556,0.1813269556,0.1818317324,0.1818317324,0.1813269556,0.1813269556,0.1813269556,0.1803172976,0.1798125207,0.1782980859,0.1782980859,0.1808220595,0.1813269556,0.1818317324,0.1833461523,0.1838509291,0.1843558252,0.1843558252,0.1843558252,0.1843558252,0.1838509291,0.1818317324,0.1823364943,0.1828413904,0.1833461523,0.1838509291,0.1843558252,0.1843558252,0.1843558252,0.1838509291,0.1833461523,0.1823364943,0.1818317324,0.1818317324,0.1813269556,0.1808220595,0.1803172976,0.1798125207,0.1793077439,0.1788028628,0.1777933091,0.1767836511,0.1772884279,0.1782980859,0.1793077439,0.1813269556,0.1833461523,0.1848605871,0.1863750219,0.1878894567,0.1894038916,0.1904134303,0.1904134303,0.1909183264,0.1914231032,0.1914231032,0.1909183264,0.1909183264,0.1909183264,0.1909183264,0.1909183264,0.1914231032,0.1919278651,0.192432642,0.192937538,0.1934423,0.1944519728,0.1949567348,0.1964711696,0.1974807084,0.1979856044,0.1989951432,0.1989951432,0.1989951432,0.1989951432,0.1989951432,0.1984903812,0.1979856044,0.1979856044,0.1974807084,0.1974807084,0.1969759464,0.1969759464,0.1964711696,0.1964711696,0.1964711696,0.1964711696,0.1964711696],\"type\":\"scatter\"},{\"line\":{\"color\":\"purple\"},\"mode\":\"lines\",\"name\":\"\\u041a\\u0443\\u0431\\u0438\\u0447\\u0435\\u0441\\u043a\\u0438\\u0439: y=-11352.5525x^3 + 5648.5335x^2 + -935.5703x + 51.7721\",\"x\":[0.1702211499,0.1692114919,0.1682019383,0.1682019383,0.1676971763,0.1666875035,0.1651730686,0.1641634107,0.1631538719,0.1626489758,0.1621442139,0.1621442139,0.1626489758,0.1631538719,0.1631538719,0.1631538719,0.1626489758,0.1626489758,0.1626489758,0.1621442139,0.1611346602,0.1611346602,0.1616394371,0.1616394371,0.1611346602,0.1616394371,0.1611346602,0.1611346602,0.1606297791,0.1606297791,0.1606297791,0.1596202254,0.1596202254,0.1596202254,0.1591153443,0.1586105675,0.1591153443,0.1596202254,0.1591153443,0.1586105675,0.1586105675,0.1591153443,0.1591153443,0.1586105675,0.1586105675,0.1586105675,0.1586105675,0.1586105675,0.1586105675,0.1591153443,0.1591153443,0.1601250023,0.1611346602,0.1616394371,0.1636586487,0.1641634107,0.1656778455,0.1676971763,0.1682019383,0.1707259119,0.1712308079,0.1727452427,0.1747644544,0.1757739931,0.1757739931,0.1762788892,0.1757739931,0.1757739931,0.1747644544,0.1737547815,0.1737547815,0.1732500196,0.1727452427,0.1732500196,0.1737547815,0.1732500196,0.1737547815,0.1727452427,0.1722403467,0.1717355847,0.1707259119,0.1702211499,0.1692114919,0.1697163731,0.1692114919,0.1687067151,0.1687067151,0.1692114919,0.1682019383,0.1676971763,0.1661827415,0.1651730686,0.1641634107,0.1631538719,0.1616394371,0.1611346602,0.1601250023,0.1606297791,0.1601250023,0.1601250023],\"y\":[0.19285994846846677,0.19211347004946333,0.19113383417838747,0.19113383417838747,0.19057847743478362,0.1893802781672349,0.18749621021537166,0.18628445300878127,0.1851900723654154,0.18470862988299075,0.1842829110863562,0.1842829110863562,0.18470862988299075,0.1851900723654154,0.1851900723654154,0.1851900723654154,0.18470862988299075,0.18470862988299075,0.18470862988299075,0.1842829110863562,0.1836332661045077,0.1836332661045077,0.18392153177215675,0.18392153177215675,0.1836332661045077,0.18392153177215675,0.1836332661045077,0.1836332661045077,0.18342684140039012,0.18342684140039012,0.18342684140039012,0.18329476681292078,0.18329476681292078,0.18329476681292078,0.1833866178589716,0.1835953826412009,0.1833866178589716,0.18329476681292078,0.1833866178589716,0.1835953826412009,0.1835953826412009,0.1833866178589716,0.1833866178589716,0.1835953826412009,0.1835953826412009,0.1835953826412009,0.1835953826412009,0.1835953826412009,0.1835953826412009,0.1833866178589716,0.1833866178589716,0.1833111051745675,0.1836332661045077,0.18392153177215675,0.18571823684844446,0.18628445300878127,0.18812408644458856,0.19057847743478362,0.19113383417838747,0.19312377367562306,0.1933030504754072,0.19324553062430994,0.19145286148379626,0.18966353514248624,0.18966353514248624,0.18851464570407472,0.18966353514248624,0.18966353514248624,0.19145286148379626,0.1926236000623902,0.1926236000623902,0.19299875716879455,0.19324553062430994,0.19299875716879455,0.1926236000623902,0.19299875716879455,0.1926236000623902,0.19324553062430994,0.19337268464379065,0.1933889228203185,0.19312377367562306,0.19285994846846677,0.19211347004946333,0.19252028830392476,0.19211347004946333,0.1916484242428993,0.1916484242428993,0.19211347004946333,0.19113383417838747,0.19057847743478362,0.18875513526519683,0.18749621021537166,0.18628445300878127,0.1851900723654154,0.18392153177215675,0.1836332661045077,0.1833111051745675,0.18342684140039012,0.1833111051745675,0.1833111051745675],\"type\":\"scatter\"}],                        {\"template\":{\"data\":{\"barpolar\":[{\"marker\":{\"line\":{\"color\":\"white\",\"width\":0.5},\"pattern\":{\"fillmode\":\"overlay\",\"size\":10,\"solidity\":0.2}},\"type\":\"barpolar\"}],\"bar\":[{\"error_x\":{\"color\":\"#2a3f5f\"},\"error_y\":{\"color\":\"#2a3f5f\"},\"marker\":{\"line\":{\"color\":\"white\",\"width\":0.5},\"pattern\":{\"fillmode\":\"overlay\",\"size\":10,\"solidity\":0.2}},\"type\":\"bar\"}],\"carpet\":[{\"aaxis\":{\"endlinecolor\":\"#2a3f5f\",\"gridcolor\":\"#C8D4E3\",\"linecolor\":\"#C8D4E3\",\"minorgridcolor\":\"#C8D4E3\",\"startlinecolor\":\"#2a3f5f\"},\"baxis\":{\"endlinecolor\":\"#2a3f5f\",\"gridcolor\":\"#C8D4E3\",\"linecolor\":\"#C8D4E3\",\"minorgridcolor\":\"#C8D4E3\",\"startlinecolor\":\"#2a3f5f\"},\"type\":\"carpet\"}],\"choropleth\":[{\"colorbar\":{\"outlinewidth\":0,\"ticks\":\"\"},\"type\":\"choropleth\"}],\"contourcarpet\":[{\"colorbar\":{\"outlinewidth\":0,\"ticks\":\"\"},\"type\":\"contourcarpet\"}],\"contour\":[{\"colorbar\":{\"outlinewidth\":0,\"ticks\":\"\"},\"colorscale\":[[0.0,\"#0d0887\"],[0.1111111111111111,\"#46039f\"],[0.2222222222222222,\"#7201a8\"],[0.3333333333333333,\"#9c179e\"],[0.4444444444444444,\"#bd3786\"],[0.5555555555555556,\"#d8576b\"],[0.6666666666666666,\"#ed7953\"],[0.7777777777777778,\"#fb9f3a\"],[0.8888888888888888,\"#fdca26\"],[1.0,\"#f0f921\"]],\"type\":\"contour\"}],\"heatmapgl\":[{\"colorbar\":{\"outlinewidth\":0,\"ticks\":\"\"},\"colorscale\":[[0.0,\"#0d0887\"],[0.1111111111111111,\"#46039f\"],[0.2222222222222222,\"#7201a8\"],[0.3333333333333333,\"#9c179e\"],[0.4444444444444444,\"#bd3786\"],[0.5555555555555556,\"#d8576b\"],[0.6666666666666666,\"#ed7953\"],[0.7777777777777778,\"#fb9f3a\"],[0.8888888888888888,\"#fdca26\"],[1.0,\"#f0f921\"]],\"type\":\"heatmapgl\"}],\"heatmap\":[{\"colorbar\":{\"outlinewidth\":0,\"ticks\":\"\"},\"colorscale\":[[0.0,\"#0d0887\"],[0.1111111111111111,\"#46039f\"],[0.2222222222222222,\"#7201a8\"],[0.3333333333333333,\"#9c179e\"],[0.4444444444444444,\"#bd3786\"],[0.5555555555555556,\"#d8576b\"],[0.6666666666666666,\"#ed7953\"],[0.7777777777777778,\"#fb9f3a\"],[0.8888888888888888,\"#fdca26\"],[1.0,\"#f0f921\"]],\"type\":\"heatmap\"}],\"histogram2dcontour\":[{\"colorbar\":{\"outlinewidth\":0,\"ticks\":\"\"},\"colorscale\":[[0.0,\"#0d0887\"],[0.1111111111111111,\"#46039f\"],[0.2222222222222222,\"#7201a8\"],[0.3333333333333333,\"#9c179e\"],[0.4444444444444444,\"#bd3786\"],[0.5555555555555556,\"#d8576b\"],[0.6666666666666666,\"#ed7953\"],[0.7777777777777778,\"#fb9f3a\"],[0.8888888888888888,\"#fdca26\"],[1.0,\"#f0f921\"]],\"type\":\"histogram2dcontour\"}],\"histogram2d\":[{\"colorbar\":{\"outlinewidth\":0,\"ticks\":\"\"},\"colorscale\":[[0.0,\"#0d0887\"],[0.1111111111111111,\"#46039f\"],[0.2222222222222222,\"#7201a8\"],[0.3333333333333333,\"#9c179e\"],[0.4444444444444444,\"#bd3786\"],[0.5555555555555556,\"#d8576b\"],[0.6666666666666666,\"#ed7953\"],[0.7777777777777778,\"#fb9f3a\"],[0.8888888888888888,\"#fdca26\"],[1.0,\"#f0f921\"]],\"type\":\"histogram2d\"}],\"histogram\":[{\"marker\":{\"pattern\":{\"fillmode\":\"overlay\",\"size\":10,\"solidity\":0.2}},\"type\":\"histogram\"}],\"mesh3d\":[{\"colorbar\":{\"outlinewidth\":0,\"ticks\":\"\"},\"type\":\"mesh3d\"}],\"parcoords\":[{\"line\":{\"colorbar\":{\"outlinewidth\":0,\"ticks\":\"\"}},\"type\":\"parcoords\"}],\"pie\":[{\"automargin\":true,\"type\":\"pie\"}],\"scatter3d\":[{\"line\":{\"colorbar\":{\"outlinewidth\":0,\"ticks\":\"\"}},\"marker\":{\"colorbar\":{\"outlinewidth\":0,\"ticks\":\"\"}},\"type\":\"scatter3d\"}],\"scattercarpet\":[{\"marker\":{\"colorbar\":{\"outlinewidth\":0,\"ticks\":\"\"}},\"type\":\"scattercarpet\"}],\"scattergeo\":[{\"marker\":{\"colorbar\":{\"outlinewidth\":0,\"ticks\":\"\"}},\"type\":\"scattergeo\"}],\"scattergl\":[{\"marker\":{\"colorbar\":{\"outlinewidth\":0,\"ticks\":\"\"}},\"type\":\"scattergl\"}],\"scattermapbox\":[{\"marker\":{\"colorbar\":{\"outlinewidth\":0,\"ticks\":\"\"}},\"type\":\"scattermapbox\"}],\"scatterpolargl\":[{\"marker\":{\"colorbar\":{\"outlinewidth\":0,\"ticks\":\"\"}},\"type\":\"scatterpolargl\"}],\"scatterpolar\":[{\"marker\":{\"colorbar\":{\"outlinewidth\":0,\"ticks\":\"\"}},\"type\":\"scatterpolar\"}],\"scatter\":[{\"fillpattern\":{\"fillmode\":\"overlay\",\"size\":10,\"solidity\":0.2},\"type\":\"scatter\"}],\"scatterternary\":[{\"marker\":{\"colorbar\":{\"outlinewidth\":0,\"ticks\":\"\"}},\"type\":\"scatterternary\"}],\"surface\":[{\"colorbar\":{\"outlinewidth\":0,\"ticks\":\"\"},\"colorscale\":[[0.0,\"#0d0887\"],[0.1111111111111111,\"#46039f\"],[0.2222222222222222,\"#7201a8\"],[0.3333333333333333,\"#9c179e\"],[0.4444444444444444,\"#bd3786\"],[0.5555555555555556,\"#d8576b\"],[0.6666666666666666,\"#ed7953\"],[0.7777777777777778,\"#fb9f3a\"],[0.8888888888888888,\"#fdca26\"],[1.0,\"#f0f921\"]],\"type\":\"surface\"}],\"table\":[{\"cells\":{\"fill\":{\"color\":\"#EBF0F8\"},\"line\":{\"color\":\"white\"}},\"header\":{\"fill\":{\"color\":\"#C8D4E3\"},\"line\":{\"color\":\"white\"}},\"type\":\"table\"}]},\"layout\":{\"annotationdefaults\":{\"arrowcolor\":\"#2a3f5f\",\"arrowhead\":0,\"arrowwidth\":1},\"autotypenumbers\":\"strict\",\"coloraxis\":{\"colorbar\":{\"outlinewidth\":0,\"ticks\":\"\"}},\"colorscale\":{\"diverging\":[[0,\"#8e0152\"],[0.1,\"#c51b7d\"],[0.2,\"#de77ae\"],[0.3,\"#f1b6da\"],[0.4,\"#fde0ef\"],[0.5,\"#f7f7f7\"],[0.6,\"#e6f5d0\"],[0.7,\"#b8e186\"],[0.8,\"#7fbc41\"],[0.9,\"#4d9221\"],[1,\"#276419\"]],\"sequential\":[[0.0,\"#0d0887\"],[0.1111111111111111,\"#46039f\"],[0.2222222222222222,\"#7201a8\"],[0.3333333333333333,\"#9c179e\"],[0.4444444444444444,\"#bd3786\"],[0.5555555555555556,\"#d8576b\"],[0.6666666666666666,\"#ed7953\"],[0.7777777777777778,\"#fb9f3a\"],[0.8888888888888888,\"#fdca26\"],[1.0,\"#f0f921\"]],\"sequentialminus\":[[0.0,\"#0d0887\"],[0.1111111111111111,\"#46039f\"],[0.2222222222222222,\"#7201a8\"],[0.3333333333333333,\"#9c179e\"],[0.4444444444444444,\"#bd3786\"],[0.5555555555555556,\"#d8576b\"],[0.6666666666666666,\"#ed7953\"],[0.7777777777777778,\"#fb9f3a\"],[0.8888888888888888,\"#fdca26\"],[1.0,\"#f0f921\"]]},\"colorway\":[\"#636efa\",\"#EF553B\",\"#00cc96\",\"#ab63fa\",\"#FFA15A\",\"#19d3f3\",\"#FF6692\",\"#B6E880\",\"#FF97FF\",\"#FECB52\"],\"font\":{\"color\":\"#2a3f5f\"},\"geo\":{\"bgcolor\":\"white\",\"lakecolor\":\"white\",\"landcolor\":\"white\",\"showlakes\":true,\"showland\":true,\"subunitcolor\":\"#C8D4E3\"},\"hoverlabel\":{\"align\":\"left\"},\"hovermode\":\"closest\",\"mapbox\":{\"style\":\"light\"},\"paper_bgcolor\":\"white\",\"plot_bgcolor\":\"white\",\"polar\":{\"angularaxis\":{\"gridcolor\":\"#EBF0F8\",\"linecolor\":\"#EBF0F8\",\"ticks\":\"\"},\"bgcolor\":\"white\",\"radialaxis\":{\"gridcolor\":\"#EBF0F8\",\"linecolor\":\"#EBF0F8\",\"ticks\":\"\"}},\"scene\":{\"xaxis\":{\"backgroundcolor\":\"white\",\"gridcolor\":\"#DFE8F3\",\"gridwidth\":2,\"linecolor\":\"#EBF0F8\",\"showbackground\":true,\"ticks\":\"\",\"zerolinecolor\":\"#EBF0F8\"},\"yaxis\":{\"backgroundcolor\":\"white\",\"gridcolor\":\"#DFE8F3\",\"gridwidth\":2,\"linecolor\":\"#EBF0F8\",\"showbackground\":true,\"ticks\":\"\",\"zerolinecolor\":\"#EBF0F8\"},\"zaxis\":{\"backgroundcolor\":\"white\",\"gridcolor\":\"#DFE8F3\",\"gridwidth\":2,\"linecolor\":\"#EBF0F8\",\"showbackground\":true,\"ticks\":\"\",\"zerolinecolor\":\"#EBF0F8\"}},\"shapedefaults\":{\"line\":{\"color\":\"#2a3f5f\"}},\"ternary\":{\"aaxis\":{\"gridcolor\":\"#DFE8F3\",\"linecolor\":\"#A2B1C6\",\"ticks\":\"\"},\"baxis\":{\"gridcolor\":\"#DFE8F3\",\"linecolor\":\"#A2B1C6\",\"ticks\":\"\"},\"bgcolor\":\"white\",\"caxis\":{\"gridcolor\":\"#DFE8F3\",\"linecolor\":\"#A2B1C6\",\"ticks\":\"\"}},\"title\":{\"x\":0.05},\"xaxis\":{\"automargin\":true,\"gridcolor\":\"#EBF0F8\",\"linecolor\":\"#EBF0F8\",\"ticks\":\"\",\"title\":{\"standoff\":15},\"zerolinecolor\":\"#EBF0F8\",\"zerolinewidth\":2},\"yaxis\":{\"automargin\":true,\"gridcolor\":\"#EBF0F8\",\"linecolor\":\"#EBF0F8\",\"ticks\":\"\",\"title\":{\"standoff\":15},\"zerolinecolor\":\"#EBF0F8\",\"zerolinewidth\":2}}},\"legend\":{\"x\":0,\"y\":1},\"title\":{\"text\":\"\\u041f\\u043e\\u0434\\u0433\\u043e\\u043d\\u043a\\u0430 \\u0434\\u0430\\u043d\\u043d\\u044b\\u0445\"},\"xaxis\":{\"title\":{\"text\":\"K2065G_2_POROSITY\"}},\"yaxis\":{\"title\":{\"text\":\"K2066G_2_POROSITY\"}}},                        {\"responsive\": true}                    ).then(function(){\n                            \nvar gd = document.getElementById('540fa76a-2d1c-477b-8ff3-0189dd923c92');\nvar x = new MutationObserver(function (mutations, observer) {{\n        var display = window.getComputedStyle(gd).display;\n        if (!display || display === 'none') {{\n            console.log([gd, 'removed!']);\n            Plotly.purge(gd);\n            observer.disconnect();\n        }}\n}});\n\n// Listen for the removal of the full notebook cells\nvar notebookContainer = gd.closest('#notebook-container');\nif (notebookContainer) {{\n    x.observe(notebookContainer, {childList: true});\n}}\n\n// Listen for the clearing of the current output cell\nvar outputEl = gd.closest('.output');\nif (outputEl) {{\n    x.observe(outputEl, {childList: true});\n}}\n\n                        })                };                });            </script>        </div>"
     },
     "metadata": {},
     "output_type": "display_data"
    },
    {
     "data": {
      "text/plain": "('cubic',\n 0.3440804803062085,\n '-11352.5525x^3 + 5648.5335x^2 + -935.5703x + 51.7721')"
     },
     "execution_count": 20,
     "metadata": {},
     "output_type": "execute_result"
    }
   ],
   "source": [
    "fit_and_plot_lists_3(K2065G_2_POROSITY, K2066G_2_POROSITY, \"K2065G_2_POROSITY\", \"K2066G_2_POROSITY\")"
   ],
   "metadata": {
    "collapsed": false,
    "ExecuteTime": {
     "end_time": "2024-12-03T04:36:50.755128100Z",
     "start_time": "2024-12-03T04:36:50.720220Z"
    }
   },
   "id": "5eb98a7aaa8ff898",
   "execution_count": 20
  },
  {
   "cell_type": "code",
   "outputs": [],
   "source": [],
   "metadata": {
    "collapsed": false
   },
   "id": "58e946f9aafec3a5"
  },
  {
   "cell_type": "code",
   "outputs": [],
   "source": [
    "def Fisher (list1, list2):\n",
    "    # Преобразование списков в бинарные значения\n",
    "    # 1 - если значение положительное, 0 - если значение отрицательное или ноль\n",
    "    binary_list1 = [1 if x > 0 else 0 for x in list1]\n",
    "    binary_list2 = [1 if x > 0 else 0 for x in list2]\n",
    "\n",
    "    # Создание таблицы сопряженности\n",
    "    success_1 = sum(binary_list1)  # Количество успехов в первом списке\n",
    "    failure_1 = len(binary_list1) - success_1  # Количество неудач в первом списке\n",
    "    success_2 = sum(binary_list2)  # Количество успехов во втором списке\n",
    "    failure_2 = len(binary_list2) - success_2  # Количество неудач во втором списке\n",
    "\n",
    "    # Создаем таблицу сопряженности 2x2\n",
    "    contingency_table = np.array([[success_1, failure_1],\n",
    "                               [success_2, failure_2]])\n",
    "\n",
    "    # Выполнение теста Фишера\n",
    "    odds_ratio, p_value = fisher_exact(contingency_table)\n",
    "\n",
    "    # Вывод результатов\n",
    "    print(\"Таблица сопряженности:\")\n",
    "    print(contingency_table)\n",
    "    print(f\"Отношение шансов: {odds_ratio}\")\n",
    "    print(f\"p-значение: {p_value}\")\n",
    "\n",
    "    # Интерпретация результата\n",
    "    alpha = 0.05\n",
    "    if p_value < alpha:\n",
    "        print(\"Отвергаем нулевую гипотезу: существует статистически значимая связь между двумя списками.\")\n",
    "        return 1\n",
    "    else:\n",
    "        print(\"Не удается отвергнуть нулевую гипотезу: нет статистически значимой связи между двумя списками.\")\n",
    "        return 0\n"
   ],
   "metadata": {
    "collapsed": false,
    "ExecuteTime": {
     "end_time": "2024-12-03T06:34:26.236283900Z",
     "start_time": "2024-12-03T06:34:26.222249600Z"
    }
   },
   "id": "79d5dbaf8fcc1eaa",
   "execution_count": 61
  },
  {
   "cell_type": "code",
   "outputs": [],
   "source": [],
   "metadata": {
    "collapsed": false
   },
   "id": "da3c48c9e7c65b03"
  },
  {
   "cell_type": "code",
   "outputs": [],
   "source": [],
   "metadata": {
    "collapsed": false,
    "ExecuteTime": {
     "end_time": "2024-12-03T05:23:30.291724600Z",
     "start_time": "2024-12-03T05:23:30.241961400Z"
    }
   },
   "id": "d9f1198c9a164f63",
   "execution_count": 34
  },
  {
   "cell_type": "code",
   "outputs": [],
   "source": [],
   "metadata": {
    "collapsed": false
   },
   "id": "363305ca8a8d5b3c"
  },
  {
   "cell_type": "code",
   "outputs": [],
   "source": [
    "def linear_model(x, a, b):\n",
    "    return a * x + b\n",
    "\n",
    "def polynomial_model(x, a, b, c):\n",
    "    return a * x**2 + b * x + c\n",
    "\n",
    "def cubic_model(x, a, b, c, d):\n",
    "    return a * x**3 + b * x**2 + c * x + d\n",
    "\n",
    "def exponential_model(x, a, b):\n",
    "    return a * np.exp(b * x)\n",
    "\n",
    "def logarithmic_model(x, a, b):\n",
    "    return a * np.log(x) + b\n",
    "\n",
    "def hyperbolic_model(x, a, b):\n",
    "    return a / x + b\n",
    "\n",
    "#Остаточная сумма\n",
    "def SSR(a, b):\n",
    "    s = 0\n",
    "    for i in range(len(a)):\n",
    "        s += (a[i] - b[i])**2\n",
    "    return s/(len(a)-2)\n",
    "\n",
    "def fit_and_plot_lists_6(x, y, x_label='X', y_label='Y', confidence_interval=0.95):\n",
    "    x = np.array(x)\n",
    "    y = np.array(y)\n",
    "\n",
    "    # Линейная регрессия\n",
    "    popt_linear, _ = curve_fit(linear_model, x, y)\n",
    "    linear_fit = linear_model(x, *popt_linear)\n",
    "    r_squared_linear = stats.linregress(x, y)[2]**2\n",
    "    linear_ = f\"{popt_linear[0]:.4f}x + {popt_linear[1]:.4f}\"\n",
    "    linear_SSR = SSR(y, linear_fit)\n",
    "    \n",
    "    # Полиномиальная регрессия (2-й степени)\n",
    "    popt_poly, _ = curve_fit(polynomial_model, x, y)\n",
    "    poly_fit = polynomial_model(x, *popt_poly)\n",
    "    r_squared_poly = 1 - (np.sum((y - poly_fit) ** 2) / np.sum((y - np.mean(y)) ** 2))\n",
    "    poly_ = f\"{popt_poly[0]:.4f}x^2 + {popt_poly[1]:.4f}x + {popt_poly[2]:.4f}\"\n",
    "    poly_SSR = SSR(y, poly_fit)\n",
    "    \n",
    "    # Кубическая регрессия (3-й степени)\n",
    "    popt_cubic, _ = curve_fit(cubic_model, x, y)\n",
    "    cubic_fit = cubic_model(x, *popt_cubic)\n",
    "    r_squared_cubic = 1 - (np.sum((y - cubic_fit) ** 2) / np.sum((y - np.mean(y)) ** 2))\n",
    "    cubic_ = f\"{popt_cubic[0]:.4f}x^3 + {popt_cubic[1]:.4f}x^2 + {popt_cubic[2]:.4f}x + {popt_cubic[3]:.4f}\"\n",
    "    cubic_SSR = SSR(y, cubic_fit)\n",
    "\n",
    "    # Экспоненциальная регрессия\n",
    "    popt_exp, _ = curve_fit(exponential_model, x, y)\n",
    "    exp_fit = exponential_model(x, *popt_exp)\n",
    "    r_squared_exp = 1 - (np.sum((y - exp_fit) ** 2) / np.sum((y - np.mean(y)) ** 2))\n",
    "    exp_ = f\"{popt_exp[0]:.4f} * e^({popt_exp[1]:.4f}x)\"\n",
    "    exp_SSR = SSR(y, exp_fit)\n",
    "    \n",
    "    # Логарифмическая регрессия\n",
    "    popt_log, _ = curve_fit(logarithmic_model, x, y, bounds=(0, [3., 3.]))\n",
    "    log_fit = logarithmic_model(x, *popt_log)\n",
    "    r_squared_log = 1 - (np.sum((y - log_fit) ** 2) / np.sum((y - np.mean(y)) ** 2))\n",
    "    log_ = f\"{popt_log[0]:.4f} * log(x) + {popt_log[1]:.4f}\"\n",
    "    log_SSR = SSR(y, log_fit)\n",
    "\n",
    "    # Гиперболическая регрессия\n",
    "    popt_hyper, _ = curve_fit(hyperbolic_model, x, y)\n",
    "    hyper_fit = hyperbolic_model(x, *popt_hyper)\n",
    "    r_squared_hyper = 1 - (np.sum((y - hyper_fit) ** 2) / np.sum((y - np.mean(y)) ** 2))\n",
    "    hyper_ = f\"{popt_hyper[0]:.4f} / x + {popt_hyper[1]:.4f}\"\n",
    "    hyper_SSR = SSR(y, hyper_fit)\n",
    "\n",
    "    # Выбор наилучшей модели\n",
    "    r_squared_values = {\n",
    "        \"linear\": r_squared_linear,\n",
    "        \"polynomial\": r_squared_poly,\n",
    "        \"cubic\": r_squared_cubic,\n",
    "        \"exponential\": r_squared_exp,\n",
    "        \"logarithmic\": r_squared_log,\n",
    "        \"hyperbolic\": r_squared_hyper\n",
    "    }\n",
    "    \n",
    "    best_fit_type = max(r_squared_values, key=r_squared_values.get)\n",
    "    best_fit_r_squared = r_squared_values[best_fit_type]\n",
    "\n",
    "    # Определим лучшие параметры для вывода\n",
    "    fit_func = ''\n",
    "    fit_data = None\n",
    "    if best_fit_type == \"linear\":\n",
    "        best_params = popt_linear\n",
    "        fit_func = f\"{best_params[0]:.4f}x + {best_params[1]:.4f}\"\n",
    "        fit_data = linear_fit\n",
    "    elif best_fit_type == \"polynomial\":\n",
    "        best_params = popt_poly\n",
    "        fit_func = f\"{best_params[0]:.4f}x^2 + {best_params[1]:.4f}x + {best_params[2]:.4f}\"\n",
    "        fit_data = poly_fit\n",
    "    elif best_fit_type == \"cubic\":\n",
    "        best_params = popt_cubic\n",
    "        fit_func = f\"{best_params[0]:.4f}x^3 + {best_params[1]:.4f}x^2 + {best_params[2]:.4f}x + {best_params[3]:.4f}\"\n",
    "        fit_data = cubic_fit\n",
    "    elif best_fit_type == \"exponential\":\n",
    "        best_params = popt_exp\n",
    "        fit_func = f\"{best_params[0]:.4f} * e^({best_params[1]:.4f}x)\"\n",
    "        fit_data = exp_fit\n",
    "    elif best_fit_type == \"logarithmic\":\n",
    "        best_params = popt_log\n",
    "        fit_func = f\"{best_params[0]:.4f} * log(x) + {best_params[1]:.4f}\"\n",
    "        fit_data = log_fit\n",
    "    elif best_fit_type == \"hyperbolic\":\n",
    "        best_params = popt_hyper\n",
    "        fit_func = f\"{best_params[0]:.4f} / x + {best_params[1]:.4f}\"\n",
    "        fit_data = hyper_fit\n",
    "\n",
    "    # Создаем графики для каждой модели\n",
    "    models = {\n",
    "        \"linear\": (linear_fit, linear_, linear_SSR,  'Линейная', 'red', r_squared_linear),\n",
    "        \"polynomial\": (poly_fit, poly_, poly_SSR, 'Полином', 'green', r_squared_poly),\n",
    "        \"cubic\": (cubic_fit, cubic_, cubic_SSR, 'Кубический', 'purple', r_squared_cubic),\n",
    "        \"exponential\": (exp_fit, exp_, exp_SSR, 'Экспоненциальная', 'orange', r_squared_exp),\n",
    "        \"logarithmic\": (log_fit, log_, log_SSR, 'Логарифмическая', 'brown', r_squared_log),\n",
    "        \"hyperbolic\": (hyper_fit, hyper_, hyper_SSR, 'Гиперболическая', 'pink', r_squared_hyper)\n",
    "    }\n",
    "\n",
    "    for model_type, (fit_data, funck, ssr, name, color, r_squared) in models.items():\n",
    "        fig = go.Figure()\n",
    "        fig.add_trace(go.Scatter(x=x, y=y, mode='markers', name='Данные', marker=dict(color='blue')))\n",
    "        fig.add_trace(go.Scatter(x=x, y=fit_data, mode='lines', name=f'{name}: y={funck}, R²={r_squared:.4f}, SSR = {round(ssr, 3)}', line=dict(color=color)))\n",
    "\n",
    "        # Вычисление доверительного интервала\n",
    "        residuals = y - fit_data\n",
    "        std_error = np.std(residuals)\n",
    "        n = len(y)\n",
    "        t_value = stats.t.ppf((1 + confidence_interval) / 2, n - len(best_params))\n",
    "        margin_of_error = t_value * std_error\n",
    "\n",
    "        # Верхняя и нижняя границы доверительного интервала\n",
    "        lower_bound = fit_data - margin_of_error\n",
    "        upper_bound = fit_data + margin_of_error\n",
    "\n",
    "        # Добавление доверительного интервала на график \n",
    "        fig.add_trace(go.Scatter(x=x, y=lower_bound, mode='lines', name='Нижняя граница', line=dict(color='lightgrey', dash='dash')))\n",
    "        fig.add_trace(go.Scatter(x=x, y=upper_bound, mode='lines', name='Верхняя граница', line=dict(color='lightgrey', dash='dash')))\n",
    "\n",
    "\n",
    "        # Настройки графика\n",
    "        fig.update_layout(\n",
    "            title=f'Предполагаемая модель - {name}',\n",
    "            xaxis_title=x_label,\n",
    "            yaxis_title=y_label,\n",
    "            legend=dict(x=1.05, y=1, traceorder='normal', orientation='v'),\n",
    "            template='plotly_white'\n",
    "        )\n",
    "\n",
    "        # Показываем график\n",
    "        fig.show()\n",
    "    print(r_squared_values)\n",
    "    return best_fit_type, best_fit_r_squared, fit_func"
   ],
   "metadata": {
    "collapsed": false,
    "ExecuteTime": {
     "end_time": "2024-12-03T06:28:47.232879800Z",
     "start_time": "2024-12-03T06:28:47.146254700Z"
    }
   },
   "id": "684e1f9c6c123cfc",
   "execution_count": 58
  },
  {
   "cell_type": "code",
   "outputs": [
    {
     "data": {
      "application/vnd.plotly.v1+json": {
       "data": [
        {
         "marker": {
          "color": "blue"
         },
         "mode": "markers",
         "name": "Данные",
         "x": [
          0.1702211499,
          0.1692114919,
          0.1682019383,
          0.1682019383,
          0.1676971763,
          0.1666875035,
          0.1651730686,
          0.1641634107,
          0.1631538719,
          0.1626489758,
          0.1621442139,
          0.1621442139,
          0.1626489758,
          0.1631538719,
          0.1631538719,
          0.1631538719,
          0.1626489758,
          0.1626489758,
          0.1626489758,
          0.1621442139,
          0.1611346602,
          0.1611346602,
          0.1616394371,
          0.1616394371,
          0.1611346602,
          0.1616394371,
          0.1611346602,
          0.1611346602,
          0.1606297791,
          0.1606297791,
          0.1606297791,
          0.1596202254,
          0.1596202254,
          0.1596202254,
          0.1591153443,
          0.1586105675,
          0.1591153443,
          0.1596202254,
          0.1591153443,
          0.1586105675,
          0.1586105675,
          0.1591153443,
          0.1591153443,
          0.1586105675,
          0.1586105675,
          0.1586105675,
          0.1586105675,
          0.1586105675,
          0.1586105675,
          0.1591153443,
          0.1591153443,
          0.1601250023,
          0.1611346602,
          0.1616394371,
          0.1636586487,
          0.1641634107,
          0.1656778455,
          0.1676971763,
          0.1682019383,
          0.1707259119,
          0.1712308079,
          0.1727452427,
          0.1747644544,
          0.1757739931,
          0.1757739931,
          0.1762788892,
          0.1757739931,
          0.1757739931,
          0.1747644544,
          0.1737547815,
          0.1737547815,
          0.1732500196,
          0.1727452427,
          0.1732500196,
          0.1737547815,
          0.1732500196,
          0.1737547815,
          0.1727452427,
          0.1722403467,
          0.1717355847,
          0.1707259119,
          0.1702211499,
          0.1692114919,
          0.1697163731,
          0.1692114919,
          0.1687067151,
          0.1687067151,
          0.1692114919,
          0.1682019383,
          0.1676971763,
          0.1661827415,
          0.1651730686,
          0.1641634107,
          0.1631538719,
          0.1616394371,
          0.1611346602,
          0.1601250023,
          0.1606297791,
          0.1601250023,
          0.1601250023
         ],
         "y": [
          5.305978775,
          4.8371400833,
          4.4056649208,
          4.4056649208,
          4.2031207085,
          3.8228139877,
          3.3101279736,
          3.0036234856,
          2.7229943275,
          2.5917332172,
          2.4662578106,
          2.4662578106,
          2.5917332172,
          2.7229943275,
          2.7229943275,
          2.7229943275,
          2.5917332172,
          2.5917332172,
          2.5917332172,
          2.4662578106,
          2.2316713333,
          2.2316713333,
          2.3463072777,
          2.3463072777,
          2.2316713333,
          2.3463072777,
          2.2316713333,
          2.2316713333,
          2.1221199036,
          2.1221199036,
          2.1221199036,
          1.917586565,
          1.917586565,
          1.917586565,
          1.8221800327,
          1.7311353683,
          1.8221800327,
          1.917586565,
          1.8221800327,
          1.7311353683,
          1.7311353683,
          1.8221800327,
          1.8221800327,
          1.7311353683,
          1.7311353683,
          1.7311353683,
          1.7311353683,
          1.7311353683,
          1.7311353683,
          1.8221800327,
          1.8221800327,
          2.0174975395,
          2.2316713333,
          2.3463072777,
          2.860203743,
          3.0036234856,
          3.4736862183,
          4.2031207085,
          4.4056649208,
          5.5551991463,
          5.8148417473,
          6.6594138145,
          7.9533457756,
          8.6795578003,
          8.6795578003,
          9.0640964508,
          8.6795578003,
          8.6795578003,
          7.9533457756,
          7.2810263634,
          7.2810263634,
          6.9641022682,
          6.6594138145,
          6.9641022682,
          7.2810263634,
          6.9641022682,
          7.2810263634,
          6.6594138145,
          6.3665060997,
          6.0851373672,
          5.5551991463,
          5.305978775,
          4.8371400833,
          5.0667529106,
          4.8371400833,
          4.6169013977,
          4.6169013977,
          4.8371400833,
          4.4056649208,
          4.2031207085,
          3.6445188522,
          3.3101279736,
          3.0036234856,
          2.7229943275,
          2.3463072777,
          2.2316713333,
          2.0174975395,
          2.1221199036,
          2.0174975395,
          2.0174975395
         ],
         "type": "scatter"
        },
        {
         "line": {
          "color": "red"
         },
         "mode": "lines",
         "name": "Линейная: y=377.9292x + -58.6588, R²=0.9671, SSR = 0.151",
         "x": [
          0.1702211499,
          0.1692114919,
          0.1682019383,
          0.1682019383,
          0.1676971763,
          0.1666875035,
          0.1651730686,
          0.1641634107,
          0.1631538719,
          0.1626489758,
          0.1621442139,
          0.1621442139,
          0.1626489758,
          0.1631538719,
          0.1631538719,
          0.1631538719,
          0.1626489758,
          0.1626489758,
          0.1626489758,
          0.1621442139,
          0.1611346602,
          0.1611346602,
          0.1616394371,
          0.1616394371,
          0.1611346602,
          0.1616394371,
          0.1611346602,
          0.1611346602,
          0.1606297791,
          0.1606297791,
          0.1606297791,
          0.1596202254,
          0.1596202254,
          0.1596202254,
          0.1591153443,
          0.1586105675,
          0.1591153443,
          0.1596202254,
          0.1591153443,
          0.1586105675,
          0.1586105675,
          0.1591153443,
          0.1591153443,
          0.1586105675,
          0.1586105675,
          0.1586105675,
          0.1586105675,
          0.1586105675,
          0.1586105675,
          0.1591153443,
          0.1591153443,
          0.1601250023,
          0.1611346602,
          0.1616394371,
          0.1636586487,
          0.1641634107,
          0.1656778455,
          0.1676971763,
          0.1682019383,
          0.1707259119,
          0.1712308079,
          0.1727452427,
          0.1747644544,
          0.1757739931,
          0.1757739931,
          0.1762788892,
          0.1757739931,
          0.1757739931,
          0.1747644544,
          0.1737547815,
          0.1737547815,
          0.1732500196,
          0.1727452427,
          0.1732500196,
          0.1737547815,
          0.1732500196,
          0.1737547815,
          0.1727452427,
          0.1722403467,
          0.1717355847,
          0.1707259119,
          0.1702211499,
          0.1692114919,
          0.1697163731,
          0.1692114919,
          0.1687067151,
          0.1687067151,
          0.1692114919,
          0.1682019383,
          0.1676971763,
          0.1661827415,
          0.1651730686,
          0.1641634107,
          0.1631538719,
          0.1616394371,
          0.1611346602,
          0.1601250023,
          0.1606297791,
          0.1601250023,
          0.1601250023
         ],
         "y": [
          5.672759163256956,
          5.291179963708871,
          4.909640219965048,
          4.909640219965048,
          4.718875941444708,
          4.337291148545056,
          3.7649420393321407,
          3.383362877576971,
          3.0018287271847157,
          2.811013768364063,
          2.6202495276366307,
          2.6202495276366307,
          2.811013768364063,
          3.0018287271847157,
          3.0018287271847157,
          3.0018287271847157,
          2.811013768364063,
          2.811013768364063,
          2.811013768364063,
          2.6202495276366307,
          2.2387097460999,
          2.2387097460999,
          2.429479655764723,
          2.429479655764723,
          2.2387097460999,
          2.429479655764723,
          2.2387097460999,
          2.2387097460999,
          2.047900456216638,
          2.047900456216638,
          2.047900456216638,
          1.6663606746799076,
          1.6663606746799076,
          1.6663606746799076,
          1.4755513847966313,
          1.2847815129247309,
          1.4755513847966313,
          1.6663606746799076,
          1.4755513847966313,
          1.2847815129247309,
          1.2847815129247309,
          1.4755513847966313,
          1.4755513847966313,
          1.2847815129247309,
          1.2847815129247309,
          1.2847815129247309,
          1.2847815129247309,
          1.2847815129247309,
          1.2847815129247309,
          1.4755513847966313,
          1.4755513847966313,
          1.8571305843447306,
          2.2387097460999,
          2.429479655764723,
          3.1925985990566232,
          3.383362877576971,
          3.9557119489969637,
          4.718875941444708,
          4.909640219965048,
          5.863523441777289,
          6.054338362805041,
          6.626687434225033,
          7.389806415309849,
          7.771340527909189,
          7.771340527909189,
          7.962155486729856,
          7.771340527909189,
          7.771340527909189,
          7.389806415309849,
          7.008221584617289,
          7.008221584617289,
          6.817457343889856,
          6.626687434225033,
          6.817457343889856,
          7.008221584617289,
          6.817457343889856,
          7.008221584617289,
          6.626687434225033,
          6.435872513197282,
          6.245108234676948,
          5.863523441777289,
          5.672759163256956,
          5.291179963708871,
          5.481989291385048,
          5.291179963708871,
          5.100410091836949,
          5.100410091836949,
          5.291179963708871,
          4.909640219965048,
          4.718875941444708,
          4.146526870024715,
          3.7649420393321407,
          3.383362877576971,
          3.0018287271847157,
          2.429479655764723,
          2.2387097460999,
          1.8571305843447306,
          2.047900456216638,
          1.8571305843447306,
          1.8571305843447306
         ],
         "type": "scatter"
        },
        {
         "line": {
          "color": "lightgrey",
          "dash": "dash"
         },
         "mode": "lines",
         "name": "Нижняя граница",
         "x": [
          0.1702211499,
          0.1692114919,
          0.1682019383,
          0.1682019383,
          0.1676971763,
          0.1666875035,
          0.1651730686,
          0.1641634107,
          0.1631538719,
          0.1626489758,
          0.1621442139,
          0.1621442139,
          0.1626489758,
          0.1631538719,
          0.1631538719,
          0.1631538719,
          0.1626489758,
          0.1626489758,
          0.1626489758,
          0.1621442139,
          0.1611346602,
          0.1611346602,
          0.1616394371,
          0.1616394371,
          0.1611346602,
          0.1616394371,
          0.1611346602,
          0.1611346602,
          0.1606297791,
          0.1606297791,
          0.1606297791,
          0.1596202254,
          0.1596202254,
          0.1596202254,
          0.1591153443,
          0.1586105675,
          0.1591153443,
          0.1596202254,
          0.1591153443,
          0.1586105675,
          0.1586105675,
          0.1591153443,
          0.1591153443,
          0.1586105675,
          0.1586105675,
          0.1586105675,
          0.1586105675,
          0.1586105675,
          0.1586105675,
          0.1591153443,
          0.1591153443,
          0.1601250023,
          0.1611346602,
          0.1616394371,
          0.1636586487,
          0.1641634107,
          0.1656778455,
          0.1676971763,
          0.1682019383,
          0.1707259119,
          0.1712308079,
          0.1727452427,
          0.1747644544,
          0.1757739931,
          0.1757739931,
          0.1762788892,
          0.1757739931,
          0.1757739931,
          0.1747644544,
          0.1737547815,
          0.1737547815,
          0.1732500196,
          0.1727452427,
          0.1732500196,
          0.1737547815,
          0.1732500196,
          0.1737547815,
          0.1727452427,
          0.1722403467,
          0.1717355847,
          0.1707259119,
          0.1702211499,
          0.1692114919,
          0.1697163731,
          0.1692114919,
          0.1687067151,
          0.1687067151,
          0.1692114919,
          0.1682019383,
          0.1676971763,
          0.1661827415,
          0.1651730686,
          0.1641634107,
          0.1631538719,
          0.1616394371,
          0.1611346602,
          0.1601250023,
          0.1606297791,
          0.1601250023,
          0.1601250023
         ],
         "y": [
          4.909316878746,
          4.527737679197915,
          4.146197935454093,
          4.146197935454093,
          3.9554336569337525,
          3.5738488640341006,
          3.0014997548211855,
          2.619920593066016,
          2.2383864426737605,
          2.047571483853108,
          1.8568072431256755,
          1.8568072431256755,
          2.047571483853108,
          2.2383864426737605,
          2.2383864426737605,
          2.2383864426737605,
          2.047571483853108,
          2.047571483853108,
          2.047571483853108,
          1.8568072431256755,
          1.475267461588945,
          1.475267461588945,
          1.666037371253768,
          1.666037371253768,
          1.475267461588945,
          1.666037371253768,
          1.475267461588945,
          1.475267461588945,
          1.2844581717056829,
          1.2844581717056829,
          1.2844581717056829,
          0.9029183901689523,
          0.9029183901689523,
          0.9029183901689523,
          0.712109100285676,
          0.5213392284137756,
          0.712109100285676,
          0.9029183901689523,
          0.712109100285676,
          0.5213392284137756,
          0.5213392284137756,
          0.712109100285676,
          0.712109100285676,
          0.5213392284137756,
          0.5213392284137756,
          0.5213392284137756,
          0.5213392284137756,
          0.5213392284137756,
          0.5213392284137756,
          0.712109100285676,
          0.712109100285676,
          1.0936882998337754,
          1.475267461588945,
          1.666037371253768,
          2.429156314545668,
          2.619920593066016,
          3.1922696644860085,
          3.9554336569337525,
          4.146197935454093,
          5.100081157266334,
          5.290896078294085,
          5.863245149714078,
          6.626364130798893,
          7.007898243398233,
          7.007898243398233,
          7.1987132022189,
          7.007898243398233,
          7.007898243398233,
          6.626364130798893,
          6.244779300106333,
          6.244779300106333,
          6.054015059378901,
          5.863245149714078,
          6.054015059378901,
          6.244779300106333,
          6.054015059378901,
          6.244779300106333,
          5.863245149714078,
          5.672430228686326,
          5.481665950165993,
          5.100081157266334,
          4.909316878746,
          4.527737679197915,
          4.7185470068740925,
          4.527737679197915,
          4.336967807325993,
          4.336967807325993,
          4.527737679197915,
          4.146197935454093,
          3.9554336569337525,
          3.38308458551376,
          3.0014997548211855,
          2.619920593066016,
          2.2383864426737605,
          1.666037371253768,
          1.475267461588945,
          1.0936882998337754,
          1.2844581717056829,
          1.0936882998337754,
          1.0936882998337754
         ],
         "type": "scatter"
        },
        {
         "line": {
          "color": "lightgrey",
          "dash": "dash"
         },
         "mode": "lines",
         "name": "Верхняя граница",
         "x": [
          0.1702211499,
          0.1692114919,
          0.1682019383,
          0.1682019383,
          0.1676971763,
          0.1666875035,
          0.1651730686,
          0.1641634107,
          0.1631538719,
          0.1626489758,
          0.1621442139,
          0.1621442139,
          0.1626489758,
          0.1631538719,
          0.1631538719,
          0.1631538719,
          0.1626489758,
          0.1626489758,
          0.1626489758,
          0.1621442139,
          0.1611346602,
          0.1611346602,
          0.1616394371,
          0.1616394371,
          0.1611346602,
          0.1616394371,
          0.1611346602,
          0.1611346602,
          0.1606297791,
          0.1606297791,
          0.1606297791,
          0.1596202254,
          0.1596202254,
          0.1596202254,
          0.1591153443,
          0.1586105675,
          0.1591153443,
          0.1596202254,
          0.1591153443,
          0.1586105675,
          0.1586105675,
          0.1591153443,
          0.1591153443,
          0.1586105675,
          0.1586105675,
          0.1586105675,
          0.1586105675,
          0.1586105675,
          0.1586105675,
          0.1591153443,
          0.1591153443,
          0.1601250023,
          0.1611346602,
          0.1616394371,
          0.1636586487,
          0.1641634107,
          0.1656778455,
          0.1676971763,
          0.1682019383,
          0.1707259119,
          0.1712308079,
          0.1727452427,
          0.1747644544,
          0.1757739931,
          0.1757739931,
          0.1762788892,
          0.1757739931,
          0.1757739931,
          0.1747644544,
          0.1737547815,
          0.1737547815,
          0.1732500196,
          0.1727452427,
          0.1732500196,
          0.1737547815,
          0.1732500196,
          0.1737547815,
          0.1727452427,
          0.1722403467,
          0.1717355847,
          0.1707259119,
          0.1702211499,
          0.1692114919,
          0.1697163731,
          0.1692114919,
          0.1687067151,
          0.1687067151,
          0.1692114919,
          0.1682019383,
          0.1676971763,
          0.1661827415,
          0.1651730686,
          0.1641634107,
          0.1631538719,
          0.1616394371,
          0.1611346602,
          0.1601250023,
          0.1606297791,
          0.1601250023,
          0.1601250023
         ],
         "y": [
          6.436201447767911,
          6.054622248219826,
          5.673082504476004,
          5.673082504476004,
          5.482318225955663,
          5.1007334330560115,
          4.528384323843096,
          4.146805162087927,
          3.765271011695671,
          3.574456052875018,
          3.383691812147586,
          3.383691812147586,
          3.574456052875018,
          3.765271011695671,
          3.765271011695671,
          3.765271011695671,
          3.574456052875018,
          3.574456052875018,
          3.574456052875018,
          3.383691812147586,
          3.0021520306108553,
          3.0021520306108553,
          3.1929219402756783,
          3.1929219402756783,
          3.0021520306108553,
          3.1929219402756783,
          3.0021520306108553,
          3.0021520306108553,
          2.8113427407275933,
          2.8113427407275933,
          2.8113427407275933,
          2.4298029591908628,
          2.4298029591908628,
          2.4298029591908628,
          2.2389936693075865,
          2.048223797435686,
          2.2389936693075865,
          2.4298029591908628,
          2.2389936693075865,
          2.048223797435686,
          2.048223797435686,
          2.2389936693075865,
          2.2389936693075865,
          2.048223797435686,
          2.048223797435686,
          2.048223797435686,
          2.048223797435686,
          2.048223797435686,
          2.048223797435686,
          2.2389936693075865,
          2.2389936693075865,
          2.6205728688556857,
          3.0021520306108553,
          3.1929219402756783,
          3.9560408835675784,
          4.146805162087927,
          4.719154233507919,
          5.482318225955663,
          5.673082504476004,
          6.626965726288245,
          6.817780647315996,
          7.390129718735989,
          8.153248699820804,
          8.534782812420143,
          8.534782812420143,
          8.72559777124081,
          8.534782812420143,
          8.534782812420143,
          8.153248699820804,
          7.771663869128244,
          7.771663869128244,
          7.580899628400812,
          7.390129718735989,
          7.580899628400812,
          7.771663869128244,
          7.580899628400812,
          7.771663869128244,
          7.390129718735989,
          7.1993147977082375,
          7.008550519187904,
          6.626965726288245,
          6.436201447767911,
          6.054622248219826,
          6.245431575896004,
          6.054622248219826,
          5.8638523763479045,
          5.8638523763479045,
          6.054622248219826,
          5.673082504476004,
          5.482318225955663,
          4.909969154535671,
          4.528384323843096,
          4.146805162087927,
          3.765271011695671,
          3.1929219402756783,
          3.0021520306108553,
          2.6205728688556857,
          2.8113427407275933,
          2.6205728688556857,
          2.6205728688556857
         ],
         "type": "scatter"
        }
       ],
       "layout": {
        "template": {
         "data": {
          "barpolar": [
           {
            "marker": {
             "line": {
              "color": "white",
              "width": 0.5
             },
             "pattern": {
              "fillmode": "overlay",
              "size": 10,
              "solidity": 0.2
             }
            },
            "type": "barpolar"
           }
          ],
          "bar": [
           {
            "error_x": {
             "color": "#2a3f5f"
            },
            "error_y": {
             "color": "#2a3f5f"
            },
            "marker": {
             "line": {
              "color": "white",
              "width": 0.5
             },
             "pattern": {
              "fillmode": "overlay",
              "size": 10,
              "solidity": 0.2
             }
            },
            "type": "bar"
           }
          ],
          "carpet": [
           {
            "aaxis": {
             "endlinecolor": "#2a3f5f",
             "gridcolor": "#C8D4E3",
             "linecolor": "#C8D4E3",
             "minorgridcolor": "#C8D4E3",
             "startlinecolor": "#2a3f5f"
            },
            "baxis": {
             "endlinecolor": "#2a3f5f",
             "gridcolor": "#C8D4E3",
             "linecolor": "#C8D4E3",
             "minorgridcolor": "#C8D4E3",
             "startlinecolor": "#2a3f5f"
            },
            "type": "carpet"
           }
          ],
          "choropleth": [
           {
            "colorbar": {
             "outlinewidth": 0,
             "ticks": ""
            },
            "type": "choropleth"
           }
          ],
          "contourcarpet": [
           {
            "colorbar": {
             "outlinewidth": 0,
             "ticks": ""
            },
            "type": "contourcarpet"
           }
          ],
          "contour": [
           {
            "colorbar": {
             "outlinewidth": 0,
             "ticks": ""
            },
            "colorscale": [
             [
              0.0,
              "#0d0887"
             ],
             [
              0.1111111111111111,
              "#46039f"
             ],
             [
              0.2222222222222222,
              "#7201a8"
             ],
             [
              0.3333333333333333,
              "#9c179e"
             ],
             [
              0.4444444444444444,
              "#bd3786"
             ],
             [
              0.5555555555555556,
              "#d8576b"
             ],
             [
              0.6666666666666666,
              "#ed7953"
             ],
             [
              0.7777777777777778,
              "#fb9f3a"
             ],
             [
              0.8888888888888888,
              "#fdca26"
             ],
             [
              1.0,
              "#f0f921"
             ]
            ],
            "type": "contour"
           }
          ],
          "heatmapgl": [
           {
            "colorbar": {
             "outlinewidth": 0,
             "ticks": ""
            },
            "colorscale": [
             [
              0.0,
              "#0d0887"
             ],
             [
              0.1111111111111111,
              "#46039f"
             ],
             [
              0.2222222222222222,
              "#7201a8"
             ],
             [
              0.3333333333333333,
              "#9c179e"
             ],
             [
              0.4444444444444444,
              "#bd3786"
             ],
             [
              0.5555555555555556,
              "#d8576b"
             ],
             [
              0.6666666666666666,
              "#ed7953"
             ],
             [
              0.7777777777777778,
              "#fb9f3a"
             ],
             [
              0.8888888888888888,
              "#fdca26"
             ],
             [
              1.0,
              "#f0f921"
             ]
            ],
            "type": "heatmapgl"
           }
          ],
          "heatmap": [
           {
            "colorbar": {
             "outlinewidth": 0,
             "ticks": ""
            },
            "colorscale": [
             [
              0.0,
              "#0d0887"
             ],
             [
              0.1111111111111111,
              "#46039f"
             ],
             [
              0.2222222222222222,
              "#7201a8"
             ],
             [
              0.3333333333333333,
              "#9c179e"
             ],
             [
              0.4444444444444444,
              "#bd3786"
             ],
             [
              0.5555555555555556,
              "#d8576b"
             ],
             [
              0.6666666666666666,
              "#ed7953"
             ],
             [
              0.7777777777777778,
              "#fb9f3a"
             ],
             [
              0.8888888888888888,
              "#fdca26"
             ],
             [
              1.0,
              "#f0f921"
             ]
            ],
            "type": "heatmap"
           }
          ],
          "histogram2dcontour": [
           {
            "colorbar": {
             "outlinewidth": 0,
             "ticks": ""
            },
            "colorscale": [
             [
              0.0,
              "#0d0887"
             ],
             [
              0.1111111111111111,
              "#46039f"
             ],
             [
              0.2222222222222222,
              "#7201a8"
             ],
             [
              0.3333333333333333,
              "#9c179e"
             ],
             [
              0.4444444444444444,
              "#bd3786"
             ],
             [
              0.5555555555555556,
              "#d8576b"
             ],
             [
              0.6666666666666666,
              "#ed7953"
             ],
             [
              0.7777777777777778,
              "#fb9f3a"
             ],
             [
              0.8888888888888888,
              "#fdca26"
             ],
             [
              1.0,
              "#f0f921"
             ]
            ],
            "type": "histogram2dcontour"
           }
          ],
          "histogram2d": [
           {
            "colorbar": {
             "outlinewidth": 0,
             "ticks": ""
            },
            "colorscale": [
             [
              0.0,
              "#0d0887"
             ],
             [
              0.1111111111111111,
              "#46039f"
             ],
             [
              0.2222222222222222,
              "#7201a8"
             ],
             [
              0.3333333333333333,
              "#9c179e"
             ],
             [
              0.4444444444444444,
              "#bd3786"
             ],
             [
              0.5555555555555556,
              "#d8576b"
             ],
             [
              0.6666666666666666,
              "#ed7953"
             ],
             [
              0.7777777777777778,
              "#fb9f3a"
             ],
             [
              0.8888888888888888,
              "#fdca26"
             ],
             [
              1.0,
              "#f0f921"
             ]
            ],
            "type": "histogram2d"
           }
          ],
          "histogram": [
           {
            "marker": {
             "pattern": {
              "fillmode": "overlay",
              "size": 10,
              "solidity": 0.2
             }
            },
            "type": "histogram"
           }
          ],
          "mesh3d": [
           {
            "colorbar": {
             "outlinewidth": 0,
             "ticks": ""
            },
            "type": "mesh3d"
           }
          ],
          "parcoords": [
           {
            "line": {
             "colorbar": {
              "outlinewidth": 0,
              "ticks": ""
             }
            },
            "type": "parcoords"
           }
          ],
          "pie": [
           {
            "automargin": true,
            "type": "pie"
           }
          ],
          "scatter3d": [
           {
            "line": {
             "colorbar": {
              "outlinewidth": 0,
              "ticks": ""
             }
            },
            "marker": {
             "colorbar": {
              "outlinewidth": 0,
              "ticks": ""
             }
            },
            "type": "scatter3d"
           }
          ],
          "scattercarpet": [
           {
            "marker": {
             "colorbar": {
              "outlinewidth": 0,
              "ticks": ""
             }
            },
            "type": "scattercarpet"
           }
          ],
          "scattergeo": [
           {
            "marker": {
             "colorbar": {
              "outlinewidth": 0,
              "ticks": ""
             }
            },
            "type": "scattergeo"
           }
          ],
          "scattergl": [
           {
            "marker": {
             "colorbar": {
              "outlinewidth": 0,
              "ticks": ""
             }
            },
            "type": "scattergl"
           }
          ],
          "scattermapbox": [
           {
            "marker": {
             "colorbar": {
              "outlinewidth": 0,
              "ticks": ""
             }
            },
            "type": "scattermapbox"
           }
          ],
          "scatterpolargl": [
           {
            "marker": {
             "colorbar": {
              "outlinewidth": 0,
              "ticks": ""
             }
            },
            "type": "scatterpolargl"
           }
          ],
          "scatterpolar": [
           {
            "marker": {
             "colorbar": {
              "outlinewidth": 0,
              "ticks": ""
             }
            },
            "type": "scatterpolar"
           }
          ],
          "scatter": [
           {
            "fillpattern": {
             "fillmode": "overlay",
             "size": 10,
             "solidity": 0.2
            },
            "type": "scatter"
           }
          ],
          "scatterternary": [
           {
            "marker": {
             "colorbar": {
              "outlinewidth": 0,
              "ticks": ""
             }
            },
            "type": "scatterternary"
           }
          ],
          "surface": [
           {
            "colorbar": {
             "outlinewidth": 0,
             "ticks": ""
            },
            "colorscale": [
             [
              0.0,
              "#0d0887"
             ],
             [
              0.1111111111111111,
              "#46039f"
             ],
             [
              0.2222222222222222,
              "#7201a8"
             ],
             [
              0.3333333333333333,
              "#9c179e"
             ],
             [
              0.4444444444444444,
              "#bd3786"
             ],
             [
              0.5555555555555556,
              "#d8576b"
             ],
             [
              0.6666666666666666,
              "#ed7953"
             ],
             [
              0.7777777777777778,
              "#fb9f3a"
             ],
             [
              0.8888888888888888,
              "#fdca26"
             ],
             [
              1.0,
              "#f0f921"
             ]
            ],
            "type": "surface"
           }
          ],
          "table": [
           {
            "cells": {
             "fill": {
              "color": "#EBF0F8"
             },
             "line": {
              "color": "white"
             }
            },
            "header": {
             "fill": {
              "color": "#C8D4E3"
             },
             "line": {
              "color": "white"
             }
            },
            "type": "table"
           }
          ]
         },
         "layout": {
          "annotationdefaults": {
           "arrowcolor": "#2a3f5f",
           "arrowhead": 0,
           "arrowwidth": 1
          },
          "autotypenumbers": "strict",
          "coloraxis": {
           "colorbar": {
            "outlinewidth": 0,
            "ticks": ""
           }
          },
          "colorscale": {
           "diverging": [
            [
             0,
             "#8e0152"
            ],
            [
             0.1,
             "#c51b7d"
            ],
            [
             0.2,
             "#de77ae"
            ],
            [
             0.3,
             "#f1b6da"
            ],
            [
             0.4,
             "#fde0ef"
            ],
            [
             0.5,
             "#f7f7f7"
            ],
            [
             0.6,
             "#e6f5d0"
            ],
            [
             0.7,
             "#b8e186"
            ],
            [
             0.8,
             "#7fbc41"
            ],
            [
             0.9,
             "#4d9221"
            ],
            [
             1,
             "#276419"
            ]
           ],
           "sequential": [
            [
             0.0,
             "#0d0887"
            ],
            [
             0.1111111111111111,
             "#46039f"
            ],
            [
             0.2222222222222222,
             "#7201a8"
            ],
            [
             0.3333333333333333,
             "#9c179e"
            ],
            [
             0.4444444444444444,
             "#bd3786"
            ],
            [
             0.5555555555555556,
             "#d8576b"
            ],
            [
             0.6666666666666666,
             "#ed7953"
            ],
            [
             0.7777777777777778,
             "#fb9f3a"
            ],
            [
             0.8888888888888888,
             "#fdca26"
            ],
            [
             1.0,
             "#f0f921"
            ]
           ],
           "sequentialminus": [
            [
             0.0,
             "#0d0887"
            ],
            [
             0.1111111111111111,
             "#46039f"
            ],
            [
             0.2222222222222222,
             "#7201a8"
            ],
            [
             0.3333333333333333,
             "#9c179e"
            ],
            [
             0.4444444444444444,
             "#bd3786"
            ],
            [
             0.5555555555555556,
             "#d8576b"
            ],
            [
             0.6666666666666666,
             "#ed7953"
            ],
            [
             0.7777777777777778,
             "#fb9f3a"
            ],
            [
             0.8888888888888888,
             "#fdca26"
            ],
            [
             1.0,
             "#f0f921"
            ]
           ]
          },
          "colorway": [
           "#636efa",
           "#EF553B",
           "#00cc96",
           "#ab63fa",
           "#FFA15A",
           "#19d3f3",
           "#FF6692",
           "#B6E880",
           "#FF97FF",
           "#FECB52"
          ],
          "font": {
           "color": "#2a3f5f"
          },
          "geo": {
           "bgcolor": "white",
           "lakecolor": "white",
           "landcolor": "white",
           "showlakes": true,
           "showland": true,
           "subunitcolor": "#C8D4E3"
          },
          "hoverlabel": {
           "align": "left"
          },
          "hovermode": "closest",
          "mapbox": {
           "style": "light"
          },
          "paper_bgcolor": "white",
          "plot_bgcolor": "white",
          "polar": {
           "angularaxis": {
            "gridcolor": "#EBF0F8",
            "linecolor": "#EBF0F8",
            "ticks": ""
           },
           "bgcolor": "white",
           "radialaxis": {
            "gridcolor": "#EBF0F8",
            "linecolor": "#EBF0F8",
            "ticks": ""
           }
          },
          "scene": {
           "xaxis": {
            "backgroundcolor": "white",
            "gridcolor": "#DFE8F3",
            "gridwidth": 2,
            "linecolor": "#EBF0F8",
            "showbackground": true,
            "ticks": "",
            "zerolinecolor": "#EBF0F8"
           },
           "yaxis": {
            "backgroundcolor": "white",
            "gridcolor": "#DFE8F3",
            "gridwidth": 2,
            "linecolor": "#EBF0F8",
            "showbackground": true,
            "ticks": "",
            "zerolinecolor": "#EBF0F8"
           },
           "zaxis": {
            "backgroundcolor": "white",
            "gridcolor": "#DFE8F3",
            "gridwidth": 2,
            "linecolor": "#EBF0F8",
            "showbackground": true,
            "ticks": "",
            "zerolinecolor": "#EBF0F8"
           }
          },
          "shapedefaults": {
           "line": {
            "color": "#2a3f5f"
           }
          },
          "ternary": {
           "aaxis": {
            "gridcolor": "#DFE8F3",
            "linecolor": "#A2B1C6",
            "ticks": ""
           },
           "baxis": {
            "gridcolor": "#DFE8F3",
            "linecolor": "#A2B1C6",
            "ticks": ""
           },
           "bgcolor": "white",
           "caxis": {
            "gridcolor": "#DFE8F3",
            "linecolor": "#A2B1C6",
            "ticks": ""
           }
          },
          "title": {
           "x": 0.05
          },
          "xaxis": {
           "automargin": true,
           "gridcolor": "#EBF0F8",
           "linecolor": "#EBF0F8",
           "ticks": "",
           "title": {
            "standoff": 15
           },
           "zerolinecolor": "#EBF0F8",
           "zerolinewidth": 2
          },
          "yaxis": {
           "automargin": true,
           "gridcolor": "#EBF0F8",
           "linecolor": "#EBF0F8",
           "ticks": "",
           "title": {
            "standoff": 15
           },
           "zerolinecolor": "#EBF0F8",
           "zerolinewidth": 2
          }
         }
        },
        "legend": {
         "x": 1.05,
         "y": 1,
         "traceorder": "normal",
         "orientation": "v"
        },
        "title": {
         "text": "Предполагаемая модель - Линейная"
        },
        "xaxis": {
         "title": {
          "text": "K2065G_2_POROSITY"
         }
        },
        "yaxis": {
         "title": {
          "text": "K2065G_2_PERMEABILITY"
         }
        }
       },
       "config": {
        "plotlyServerURL": "https://plot.ly"
       }
      },
      "text/html": "<div>                            <div id=\"454b38cd-3542-4758-a6ce-066af3a0f62a\" class=\"plotly-graph-div\" style=\"height:525px; width:100%;\"></div>            <script type=\"text/javascript\">                require([\"plotly\"], function(Plotly) {                    window.PLOTLYENV=window.PLOTLYENV || {};                                    if (document.getElementById(\"454b38cd-3542-4758-a6ce-066af3a0f62a\")) {                    Plotly.newPlot(                        \"454b38cd-3542-4758-a6ce-066af3a0f62a\",                        [{\"marker\":{\"color\":\"blue\"},\"mode\":\"markers\",\"name\":\"\\u0414\\u0430\\u043d\\u043d\\u044b\\u0435\",\"x\":[0.1702211499,0.1692114919,0.1682019383,0.1682019383,0.1676971763,0.1666875035,0.1651730686,0.1641634107,0.1631538719,0.1626489758,0.1621442139,0.1621442139,0.1626489758,0.1631538719,0.1631538719,0.1631538719,0.1626489758,0.1626489758,0.1626489758,0.1621442139,0.1611346602,0.1611346602,0.1616394371,0.1616394371,0.1611346602,0.1616394371,0.1611346602,0.1611346602,0.1606297791,0.1606297791,0.1606297791,0.1596202254,0.1596202254,0.1596202254,0.1591153443,0.1586105675,0.1591153443,0.1596202254,0.1591153443,0.1586105675,0.1586105675,0.1591153443,0.1591153443,0.1586105675,0.1586105675,0.1586105675,0.1586105675,0.1586105675,0.1586105675,0.1591153443,0.1591153443,0.1601250023,0.1611346602,0.1616394371,0.1636586487,0.1641634107,0.1656778455,0.1676971763,0.1682019383,0.1707259119,0.1712308079,0.1727452427,0.1747644544,0.1757739931,0.1757739931,0.1762788892,0.1757739931,0.1757739931,0.1747644544,0.1737547815,0.1737547815,0.1732500196,0.1727452427,0.1732500196,0.1737547815,0.1732500196,0.1737547815,0.1727452427,0.1722403467,0.1717355847,0.1707259119,0.1702211499,0.1692114919,0.1697163731,0.1692114919,0.1687067151,0.1687067151,0.1692114919,0.1682019383,0.1676971763,0.1661827415,0.1651730686,0.1641634107,0.1631538719,0.1616394371,0.1611346602,0.1601250023,0.1606297791,0.1601250023,0.1601250023],\"y\":[5.305978775,4.8371400833,4.4056649208,4.4056649208,4.2031207085,3.8228139877,3.3101279736,3.0036234856,2.7229943275,2.5917332172,2.4662578106,2.4662578106,2.5917332172,2.7229943275,2.7229943275,2.7229943275,2.5917332172,2.5917332172,2.5917332172,2.4662578106,2.2316713333,2.2316713333,2.3463072777,2.3463072777,2.2316713333,2.3463072777,2.2316713333,2.2316713333,2.1221199036,2.1221199036,2.1221199036,1.917586565,1.917586565,1.917586565,1.8221800327,1.7311353683,1.8221800327,1.917586565,1.8221800327,1.7311353683,1.7311353683,1.8221800327,1.8221800327,1.7311353683,1.7311353683,1.7311353683,1.7311353683,1.7311353683,1.7311353683,1.8221800327,1.8221800327,2.0174975395,2.2316713333,2.3463072777,2.860203743,3.0036234856,3.4736862183,4.2031207085,4.4056649208,5.5551991463,5.8148417473,6.6594138145,7.9533457756,8.6795578003,8.6795578003,9.0640964508,8.6795578003,8.6795578003,7.9533457756,7.2810263634,7.2810263634,6.9641022682,6.6594138145,6.9641022682,7.2810263634,6.9641022682,7.2810263634,6.6594138145,6.3665060997,6.0851373672,5.5551991463,5.305978775,4.8371400833,5.0667529106,4.8371400833,4.6169013977,4.6169013977,4.8371400833,4.4056649208,4.2031207085,3.6445188522,3.3101279736,3.0036234856,2.7229943275,2.3463072777,2.2316713333,2.0174975395,2.1221199036,2.0174975395,2.0174975395],\"type\":\"scatter\"},{\"line\":{\"color\":\"red\"},\"mode\":\"lines\",\"name\":\"\\u041b\\u0438\\u043d\\u0435\\u0439\\u043d\\u0430\\u044f: y=377.9292x + -58.6588, R\\u00b2=0.9671, SSR = 0.151\",\"x\":[0.1702211499,0.1692114919,0.1682019383,0.1682019383,0.1676971763,0.1666875035,0.1651730686,0.1641634107,0.1631538719,0.1626489758,0.1621442139,0.1621442139,0.1626489758,0.1631538719,0.1631538719,0.1631538719,0.1626489758,0.1626489758,0.1626489758,0.1621442139,0.1611346602,0.1611346602,0.1616394371,0.1616394371,0.1611346602,0.1616394371,0.1611346602,0.1611346602,0.1606297791,0.1606297791,0.1606297791,0.1596202254,0.1596202254,0.1596202254,0.1591153443,0.1586105675,0.1591153443,0.1596202254,0.1591153443,0.1586105675,0.1586105675,0.1591153443,0.1591153443,0.1586105675,0.1586105675,0.1586105675,0.1586105675,0.1586105675,0.1586105675,0.1591153443,0.1591153443,0.1601250023,0.1611346602,0.1616394371,0.1636586487,0.1641634107,0.1656778455,0.1676971763,0.1682019383,0.1707259119,0.1712308079,0.1727452427,0.1747644544,0.1757739931,0.1757739931,0.1762788892,0.1757739931,0.1757739931,0.1747644544,0.1737547815,0.1737547815,0.1732500196,0.1727452427,0.1732500196,0.1737547815,0.1732500196,0.1737547815,0.1727452427,0.1722403467,0.1717355847,0.1707259119,0.1702211499,0.1692114919,0.1697163731,0.1692114919,0.1687067151,0.1687067151,0.1692114919,0.1682019383,0.1676971763,0.1661827415,0.1651730686,0.1641634107,0.1631538719,0.1616394371,0.1611346602,0.1601250023,0.1606297791,0.1601250023,0.1601250023],\"y\":[5.672759163256956,5.291179963708871,4.909640219965048,4.909640219965048,4.718875941444708,4.337291148545056,3.7649420393321407,3.383362877576971,3.0018287271847157,2.811013768364063,2.6202495276366307,2.6202495276366307,2.811013768364063,3.0018287271847157,3.0018287271847157,3.0018287271847157,2.811013768364063,2.811013768364063,2.811013768364063,2.6202495276366307,2.2387097460999,2.2387097460999,2.429479655764723,2.429479655764723,2.2387097460999,2.429479655764723,2.2387097460999,2.2387097460999,2.047900456216638,2.047900456216638,2.047900456216638,1.6663606746799076,1.6663606746799076,1.6663606746799076,1.4755513847966313,1.2847815129247309,1.4755513847966313,1.6663606746799076,1.4755513847966313,1.2847815129247309,1.2847815129247309,1.4755513847966313,1.4755513847966313,1.2847815129247309,1.2847815129247309,1.2847815129247309,1.2847815129247309,1.2847815129247309,1.2847815129247309,1.4755513847966313,1.4755513847966313,1.8571305843447306,2.2387097460999,2.429479655764723,3.1925985990566232,3.383362877576971,3.9557119489969637,4.718875941444708,4.909640219965048,5.863523441777289,6.054338362805041,6.626687434225033,7.389806415309849,7.771340527909189,7.771340527909189,7.962155486729856,7.771340527909189,7.771340527909189,7.389806415309849,7.008221584617289,7.008221584617289,6.817457343889856,6.626687434225033,6.817457343889856,7.008221584617289,6.817457343889856,7.008221584617289,6.626687434225033,6.435872513197282,6.245108234676948,5.863523441777289,5.672759163256956,5.291179963708871,5.481989291385048,5.291179963708871,5.100410091836949,5.100410091836949,5.291179963708871,4.909640219965048,4.718875941444708,4.146526870024715,3.7649420393321407,3.383362877576971,3.0018287271847157,2.429479655764723,2.2387097460999,1.8571305843447306,2.047900456216638,1.8571305843447306,1.8571305843447306],\"type\":\"scatter\"},{\"line\":{\"color\":\"lightgrey\",\"dash\":\"dash\"},\"mode\":\"lines\",\"name\":\"\\u041d\\u0438\\u0436\\u043d\\u044f\\u044f \\u0433\\u0440\\u0430\\u043d\\u0438\\u0446\\u0430\",\"x\":[0.1702211499,0.1692114919,0.1682019383,0.1682019383,0.1676971763,0.1666875035,0.1651730686,0.1641634107,0.1631538719,0.1626489758,0.1621442139,0.1621442139,0.1626489758,0.1631538719,0.1631538719,0.1631538719,0.1626489758,0.1626489758,0.1626489758,0.1621442139,0.1611346602,0.1611346602,0.1616394371,0.1616394371,0.1611346602,0.1616394371,0.1611346602,0.1611346602,0.1606297791,0.1606297791,0.1606297791,0.1596202254,0.1596202254,0.1596202254,0.1591153443,0.1586105675,0.1591153443,0.1596202254,0.1591153443,0.1586105675,0.1586105675,0.1591153443,0.1591153443,0.1586105675,0.1586105675,0.1586105675,0.1586105675,0.1586105675,0.1586105675,0.1591153443,0.1591153443,0.1601250023,0.1611346602,0.1616394371,0.1636586487,0.1641634107,0.1656778455,0.1676971763,0.1682019383,0.1707259119,0.1712308079,0.1727452427,0.1747644544,0.1757739931,0.1757739931,0.1762788892,0.1757739931,0.1757739931,0.1747644544,0.1737547815,0.1737547815,0.1732500196,0.1727452427,0.1732500196,0.1737547815,0.1732500196,0.1737547815,0.1727452427,0.1722403467,0.1717355847,0.1707259119,0.1702211499,0.1692114919,0.1697163731,0.1692114919,0.1687067151,0.1687067151,0.1692114919,0.1682019383,0.1676971763,0.1661827415,0.1651730686,0.1641634107,0.1631538719,0.1616394371,0.1611346602,0.1601250023,0.1606297791,0.1601250023,0.1601250023],\"y\":[4.909316878746,4.527737679197915,4.146197935454093,4.146197935454093,3.9554336569337525,3.5738488640341006,3.0014997548211855,2.619920593066016,2.2383864426737605,2.047571483853108,1.8568072431256755,1.8568072431256755,2.047571483853108,2.2383864426737605,2.2383864426737605,2.2383864426737605,2.047571483853108,2.047571483853108,2.047571483853108,1.8568072431256755,1.475267461588945,1.475267461588945,1.666037371253768,1.666037371253768,1.475267461588945,1.666037371253768,1.475267461588945,1.475267461588945,1.2844581717056829,1.2844581717056829,1.2844581717056829,0.9029183901689523,0.9029183901689523,0.9029183901689523,0.712109100285676,0.5213392284137756,0.712109100285676,0.9029183901689523,0.712109100285676,0.5213392284137756,0.5213392284137756,0.712109100285676,0.712109100285676,0.5213392284137756,0.5213392284137756,0.5213392284137756,0.5213392284137756,0.5213392284137756,0.5213392284137756,0.712109100285676,0.712109100285676,1.0936882998337754,1.475267461588945,1.666037371253768,2.429156314545668,2.619920593066016,3.1922696644860085,3.9554336569337525,4.146197935454093,5.100081157266334,5.290896078294085,5.863245149714078,6.626364130798893,7.007898243398233,7.007898243398233,7.1987132022189,7.007898243398233,7.007898243398233,6.626364130798893,6.244779300106333,6.244779300106333,6.054015059378901,5.863245149714078,6.054015059378901,6.244779300106333,6.054015059378901,6.244779300106333,5.863245149714078,5.672430228686326,5.481665950165993,5.100081157266334,4.909316878746,4.527737679197915,4.7185470068740925,4.527737679197915,4.336967807325993,4.336967807325993,4.527737679197915,4.146197935454093,3.9554336569337525,3.38308458551376,3.0014997548211855,2.619920593066016,2.2383864426737605,1.666037371253768,1.475267461588945,1.0936882998337754,1.2844581717056829,1.0936882998337754,1.0936882998337754],\"type\":\"scatter\"},{\"line\":{\"color\":\"lightgrey\",\"dash\":\"dash\"},\"mode\":\"lines\",\"name\":\"\\u0412\\u0435\\u0440\\u0445\\u043d\\u044f\\u044f \\u0433\\u0440\\u0430\\u043d\\u0438\\u0446\\u0430\",\"x\":[0.1702211499,0.1692114919,0.1682019383,0.1682019383,0.1676971763,0.1666875035,0.1651730686,0.1641634107,0.1631538719,0.1626489758,0.1621442139,0.1621442139,0.1626489758,0.1631538719,0.1631538719,0.1631538719,0.1626489758,0.1626489758,0.1626489758,0.1621442139,0.1611346602,0.1611346602,0.1616394371,0.1616394371,0.1611346602,0.1616394371,0.1611346602,0.1611346602,0.1606297791,0.1606297791,0.1606297791,0.1596202254,0.1596202254,0.1596202254,0.1591153443,0.1586105675,0.1591153443,0.1596202254,0.1591153443,0.1586105675,0.1586105675,0.1591153443,0.1591153443,0.1586105675,0.1586105675,0.1586105675,0.1586105675,0.1586105675,0.1586105675,0.1591153443,0.1591153443,0.1601250023,0.1611346602,0.1616394371,0.1636586487,0.1641634107,0.1656778455,0.1676971763,0.1682019383,0.1707259119,0.1712308079,0.1727452427,0.1747644544,0.1757739931,0.1757739931,0.1762788892,0.1757739931,0.1757739931,0.1747644544,0.1737547815,0.1737547815,0.1732500196,0.1727452427,0.1732500196,0.1737547815,0.1732500196,0.1737547815,0.1727452427,0.1722403467,0.1717355847,0.1707259119,0.1702211499,0.1692114919,0.1697163731,0.1692114919,0.1687067151,0.1687067151,0.1692114919,0.1682019383,0.1676971763,0.1661827415,0.1651730686,0.1641634107,0.1631538719,0.1616394371,0.1611346602,0.1601250023,0.1606297791,0.1601250023,0.1601250023],\"y\":[6.436201447767911,6.054622248219826,5.673082504476004,5.673082504476004,5.482318225955663,5.1007334330560115,4.528384323843096,4.146805162087927,3.765271011695671,3.574456052875018,3.383691812147586,3.383691812147586,3.574456052875018,3.765271011695671,3.765271011695671,3.765271011695671,3.574456052875018,3.574456052875018,3.574456052875018,3.383691812147586,3.0021520306108553,3.0021520306108553,3.1929219402756783,3.1929219402756783,3.0021520306108553,3.1929219402756783,3.0021520306108553,3.0021520306108553,2.8113427407275933,2.8113427407275933,2.8113427407275933,2.4298029591908628,2.4298029591908628,2.4298029591908628,2.2389936693075865,2.048223797435686,2.2389936693075865,2.4298029591908628,2.2389936693075865,2.048223797435686,2.048223797435686,2.2389936693075865,2.2389936693075865,2.048223797435686,2.048223797435686,2.048223797435686,2.048223797435686,2.048223797435686,2.048223797435686,2.2389936693075865,2.2389936693075865,2.6205728688556857,3.0021520306108553,3.1929219402756783,3.9560408835675784,4.146805162087927,4.719154233507919,5.482318225955663,5.673082504476004,6.626965726288245,6.817780647315996,7.390129718735989,8.153248699820804,8.534782812420143,8.534782812420143,8.72559777124081,8.534782812420143,8.534782812420143,8.153248699820804,7.771663869128244,7.771663869128244,7.580899628400812,7.390129718735989,7.580899628400812,7.771663869128244,7.580899628400812,7.771663869128244,7.390129718735989,7.1993147977082375,7.008550519187904,6.626965726288245,6.436201447767911,6.054622248219826,6.245431575896004,6.054622248219826,5.8638523763479045,5.8638523763479045,6.054622248219826,5.673082504476004,5.482318225955663,4.909969154535671,4.528384323843096,4.146805162087927,3.765271011695671,3.1929219402756783,3.0021520306108553,2.6205728688556857,2.8113427407275933,2.6205728688556857,2.6205728688556857],\"type\":\"scatter\"}],                        {\"template\":{\"data\":{\"barpolar\":[{\"marker\":{\"line\":{\"color\":\"white\",\"width\":0.5},\"pattern\":{\"fillmode\":\"overlay\",\"size\":10,\"solidity\":0.2}},\"type\":\"barpolar\"}],\"bar\":[{\"error_x\":{\"color\":\"#2a3f5f\"},\"error_y\":{\"color\":\"#2a3f5f\"},\"marker\":{\"line\":{\"color\":\"white\",\"width\":0.5},\"pattern\":{\"fillmode\":\"overlay\",\"size\":10,\"solidity\":0.2}},\"type\":\"bar\"}],\"carpet\":[{\"aaxis\":{\"endlinecolor\":\"#2a3f5f\",\"gridcolor\":\"#C8D4E3\",\"linecolor\":\"#C8D4E3\",\"minorgridcolor\":\"#C8D4E3\",\"startlinecolor\":\"#2a3f5f\"},\"baxis\":{\"endlinecolor\":\"#2a3f5f\",\"gridcolor\":\"#C8D4E3\",\"linecolor\":\"#C8D4E3\",\"minorgridcolor\":\"#C8D4E3\",\"startlinecolor\":\"#2a3f5f\"},\"type\":\"carpet\"}],\"choropleth\":[{\"colorbar\":{\"outlinewidth\":0,\"ticks\":\"\"},\"type\":\"choropleth\"}],\"contourcarpet\":[{\"colorbar\":{\"outlinewidth\":0,\"ticks\":\"\"},\"type\":\"contourcarpet\"}],\"contour\":[{\"colorbar\":{\"outlinewidth\":0,\"ticks\":\"\"},\"colorscale\":[[0.0,\"#0d0887\"],[0.1111111111111111,\"#46039f\"],[0.2222222222222222,\"#7201a8\"],[0.3333333333333333,\"#9c179e\"],[0.4444444444444444,\"#bd3786\"],[0.5555555555555556,\"#d8576b\"],[0.6666666666666666,\"#ed7953\"],[0.7777777777777778,\"#fb9f3a\"],[0.8888888888888888,\"#fdca26\"],[1.0,\"#f0f921\"]],\"type\":\"contour\"}],\"heatmapgl\":[{\"colorbar\":{\"outlinewidth\":0,\"ticks\":\"\"},\"colorscale\":[[0.0,\"#0d0887\"],[0.1111111111111111,\"#46039f\"],[0.2222222222222222,\"#7201a8\"],[0.3333333333333333,\"#9c179e\"],[0.4444444444444444,\"#bd3786\"],[0.5555555555555556,\"#d8576b\"],[0.6666666666666666,\"#ed7953\"],[0.7777777777777778,\"#fb9f3a\"],[0.8888888888888888,\"#fdca26\"],[1.0,\"#f0f921\"]],\"type\":\"heatmapgl\"}],\"heatmap\":[{\"colorbar\":{\"outlinewidth\":0,\"ticks\":\"\"},\"colorscale\":[[0.0,\"#0d0887\"],[0.1111111111111111,\"#46039f\"],[0.2222222222222222,\"#7201a8\"],[0.3333333333333333,\"#9c179e\"],[0.4444444444444444,\"#bd3786\"],[0.5555555555555556,\"#d8576b\"],[0.6666666666666666,\"#ed7953\"],[0.7777777777777778,\"#fb9f3a\"],[0.8888888888888888,\"#fdca26\"],[1.0,\"#f0f921\"]],\"type\":\"heatmap\"}],\"histogram2dcontour\":[{\"colorbar\":{\"outlinewidth\":0,\"ticks\":\"\"},\"colorscale\":[[0.0,\"#0d0887\"],[0.1111111111111111,\"#46039f\"],[0.2222222222222222,\"#7201a8\"],[0.3333333333333333,\"#9c179e\"],[0.4444444444444444,\"#bd3786\"],[0.5555555555555556,\"#d8576b\"],[0.6666666666666666,\"#ed7953\"],[0.7777777777777778,\"#fb9f3a\"],[0.8888888888888888,\"#fdca26\"],[1.0,\"#f0f921\"]],\"type\":\"histogram2dcontour\"}],\"histogram2d\":[{\"colorbar\":{\"outlinewidth\":0,\"ticks\":\"\"},\"colorscale\":[[0.0,\"#0d0887\"],[0.1111111111111111,\"#46039f\"],[0.2222222222222222,\"#7201a8\"],[0.3333333333333333,\"#9c179e\"],[0.4444444444444444,\"#bd3786\"],[0.5555555555555556,\"#d8576b\"],[0.6666666666666666,\"#ed7953\"],[0.7777777777777778,\"#fb9f3a\"],[0.8888888888888888,\"#fdca26\"],[1.0,\"#f0f921\"]],\"type\":\"histogram2d\"}],\"histogram\":[{\"marker\":{\"pattern\":{\"fillmode\":\"overlay\",\"size\":10,\"solidity\":0.2}},\"type\":\"histogram\"}],\"mesh3d\":[{\"colorbar\":{\"outlinewidth\":0,\"ticks\":\"\"},\"type\":\"mesh3d\"}],\"parcoords\":[{\"line\":{\"colorbar\":{\"outlinewidth\":0,\"ticks\":\"\"}},\"type\":\"parcoords\"}],\"pie\":[{\"automargin\":true,\"type\":\"pie\"}],\"scatter3d\":[{\"line\":{\"colorbar\":{\"outlinewidth\":0,\"ticks\":\"\"}},\"marker\":{\"colorbar\":{\"outlinewidth\":0,\"ticks\":\"\"}},\"type\":\"scatter3d\"}],\"scattercarpet\":[{\"marker\":{\"colorbar\":{\"outlinewidth\":0,\"ticks\":\"\"}},\"type\":\"scattercarpet\"}],\"scattergeo\":[{\"marker\":{\"colorbar\":{\"outlinewidth\":0,\"ticks\":\"\"}},\"type\":\"scattergeo\"}],\"scattergl\":[{\"marker\":{\"colorbar\":{\"outlinewidth\":0,\"ticks\":\"\"}},\"type\":\"scattergl\"}],\"scattermapbox\":[{\"marker\":{\"colorbar\":{\"outlinewidth\":0,\"ticks\":\"\"}},\"type\":\"scattermapbox\"}],\"scatterpolargl\":[{\"marker\":{\"colorbar\":{\"outlinewidth\":0,\"ticks\":\"\"}},\"type\":\"scatterpolargl\"}],\"scatterpolar\":[{\"marker\":{\"colorbar\":{\"outlinewidth\":0,\"ticks\":\"\"}},\"type\":\"scatterpolar\"}],\"scatter\":[{\"fillpattern\":{\"fillmode\":\"overlay\",\"size\":10,\"solidity\":0.2},\"type\":\"scatter\"}],\"scatterternary\":[{\"marker\":{\"colorbar\":{\"outlinewidth\":0,\"ticks\":\"\"}},\"type\":\"scatterternary\"}],\"surface\":[{\"colorbar\":{\"outlinewidth\":0,\"ticks\":\"\"},\"colorscale\":[[0.0,\"#0d0887\"],[0.1111111111111111,\"#46039f\"],[0.2222222222222222,\"#7201a8\"],[0.3333333333333333,\"#9c179e\"],[0.4444444444444444,\"#bd3786\"],[0.5555555555555556,\"#d8576b\"],[0.6666666666666666,\"#ed7953\"],[0.7777777777777778,\"#fb9f3a\"],[0.8888888888888888,\"#fdca26\"],[1.0,\"#f0f921\"]],\"type\":\"surface\"}],\"table\":[{\"cells\":{\"fill\":{\"color\":\"#EBF0F8\"},\"line\":{\"color\":\"white\"}},\"header\":{\"fill\":{\"color\":\"#C8D4E3\"},\"line\":{\"color\":\"white\"}},\"type\":\"table\"}]},\"layout\":{\"annotationdefaults\":{\"arrowcolor\":\"#2a3f5f\",\"arrowhead\":0,\"arrowwidth\":1},\"autotypenumbers\":\"strict\",\"coloraxis\":{\"colorbar\":{\"outlinewidth\":0,\"ticks\":\"\"}},\"colorscale\":{\"diverging\":[[0,\"#8e0152\"],[0.1,\"#c51b7d\"],[0.2,\"#de77ae\"],[0.3,\"#f1b6da\"],[0.4,\"#fde0ef\"],[0.5,\"#f7f7f7\"],[0.6,\"#e6f5d0\"],[0.7,\"#b8e186\"],[0.8,\"#7fbc41\"],[0.9,\"#4d9221\"],[1,\"#276419\"]],\"sequential\":[[0.0,\"#0d0887\"],[0.1111111111111111,\"#46039f\"],[0.2222222222222222,\"#7201a8\"],[0.3333333333333333,\"#9c179e\"],[0.4444444444444444,\"#bd3786\"],[0.5555555555555556,\"#d8576b\"],[0.6666666666666666,\"#ed7953\"],[0.7777777777777778,\"#fb9f3a\"],[0.8888888888888888,\"#fdca26\"],[1.0,\"#f0f921\"]],\"sequentialminus\":[[0.0,\"#0d0887\"],[0.1111111111111111,\"#46039f\"],[0.2222222222222222,\"#7201a8\"],[0.3333333333333333,\"#9c179e\"],[0.4444444444444444,\"#bd3786\"],[0.5555555555555556,\"#d8576b\"],[0.6666666666666666,\"#ed7953\"],[0.7777777777777778,\"#fb9f3a\"],[0.8888888888888888,\"#fdca26\"],[1.0,\"#f0f921\"]]},\"colorway\":[\"#636efa\",\"#EF553B\",\"#00cc96\",\"#ab63fa\",\"#FFA15A\",\"#19d3f3\",\"#FF6692\",\"#B6E880\",\"#FF97FF\",\"#FECB52\"],\"font\":{\"color\":\"#2a3f5f\"},\"geo\":{\"bgcolor\":\"white\",\"lakecolor\":\"white\",\"landcolor\":\"white\",\"showlakes\":true,\"showland\":true,\"subunitcolor\":\"#C8D4E3\"},\"hoverlabel\":{\"align\":\"left\"},\"hovermode\":\"closest\",\"mapbox\":{\"style\":\"light\"},\"paper_bgcolor\":\"white\",\"plot_bgcolor\":\"white\",\"polar\":{\"angularaxis\":{\"gridcolor\":\"#EBF0F8\",\"linecolor\":\"#EBF0F8\",\"ticks\":\"\"},\"bgcolor\":\"white\",\"radialaxis\":{\"gridcolor\":\"#EBF0F8\",\"linecolor\":\"#EBF0F8\",\"ticks\":\"\"}},\"scene\":{\"xaxis\":{\"backgroundcolor\":\"white\",\"gridcolor\":\"#DFE8F3\",\"gridwidth\":2,\"linecolor\":\"#EBF0F8\",\"showbackground\":true,\"ticks\":\"\",\"zerolinecolor\":\"#EBF0F8\"},\"yaxis\":{\"backgroundcolor\":\"white\",\"gridcolor\":\"#DFE8F3\",\"gridwidth\":2,\"linecolor\":\"#EBF0F8\",\"showbackground\":true,\"ticks\":\"\",\"zerolinecolor\":\"#EBF0F8\"},\"zaxis\":{\"backgroundcolor\":\"white\",\"gridcolor\":\"#DFE8F3\",\"gridwidth\":2,\"linecolor\":\"#EBF0F8\",\"showbackground\":true,\"ticks\":\"\",\"zerolinecolor\":\"#EBF0F8\"}},\"shapedefaults\":{\"line\":{\"color\":\"#2a3f5f\"}},\"ternary\":{\"aaxis\":{\"gridcolor\":\"#DFE8F3\",\"linecolor\":\"#A2B1C6\",\"ticks\":\"\"},\"baxis\":{\"gridcolor\":\"#DFE8F3\",\"linecolor\":\"#A2B1C6\",\"ticks\":\"\"},\"bgcolor\":\"white\",\"caxis\":{\"gridcolor\":\"#DFE8F3\",\"linecolor\":\"#A2B1C6\",\"ticks\":\"\"}},\"title\":{\"x\":0.05},\"xaxis\":{\"automargin\":true,\"gridcolor\":\"#EBF0F8\",\"linecolor\":\"#EBF0F8\",\"ticks\":\"\",\"title\":{\"standoff\":15},\"zerolinecolor\":\"#EBF0F8\",\"zerolinewidth\":2},\"yaxis\":{\"automargin\":true,\"gridcolor\":\"#EBF0F8\",\"linecolor\":\"#EBF0F8\",\"ticks\":\"\",\"title\":{\"standoff\":15},\"zerolinecolor\":\"#EBF0F8\",\"zerolinewidth\":2}}},\"legend\":{\"x\":1.05,\"y\":1,\"traceorder\":\"normal\",\"orientation\":\"v\"},\"title\":{\"text\":\"\\u041f\\u0440\\u0435\\u0434\\u043f\\u043e\\u043b\\u0430\\u0433\\u0430\\u0435\\u043c\\u0430\\u044f \\u043c\\u043e\\u0434\\u0435\\u043b\\u044c - \\u041b\\u0438\\u043d\\u0435\\u0439\\u043d\\u0430\\u044f\"},\"xaxis\":{\"title\":{\"text\":\"K2065G_2_POROSITY\"}},\"yaxis\":{\"title\":{\"text\":\"K2065G_2_PERMEABILITY\"}}},                        {\"responsive\": true}                    ).then(function(){\n                            \nvar gd = document.getElementById('454b38cd-3542-4758-a6ce-066af3a0f62a');\nvar x = new MutationObserver(function (mutations, observer) {{\n        var display = window.getComputedStyle(gd).display;\n        if (!display || display === 'none') {{\n            console.log([gd, 'removed!']);\n            Plotly.purge(gd);\n            observer.disconnect();\n        }}\n}});\n\n// Listen for the removal of the full notebook cells\nvar notebookContainer = gd.closest('#notebook-container');\nif (notebookContainer) {{\n    x.observe(notebookContainer, {childList: true});\n}}\n\n// Listen for the clearing of the current output cell\nvar outputEl = gd.closest('.output');\nif (outputEl) {{\n    x.observe(outputEl, {childList: true});\n}}\n\n                        })                };                });            </script>        </div>"
     },
     "metadata": {},
     "output_type": "display_data"
    },
    {
     "data": {
      "application/vnd.plotly.v1+json": {
       "data": [
        {
         "marker": {
          "color": "blue"
         },
         "mode": "markers",
         "name": "Данные",
         "x": [
          0.1702211499,
          0.1692114919,
          0.1682019383,
          0.1682019383,
          0.1676971763,
          0.1666875035,
          0.1651730686,
          0.1641634107,
          0.1631538719,
          0.1626489758,
          0.1621442139,
          0.1621442139,
          0.1626489758,
          0.1631538719,
          0.1631538719,
          0.1631538719,
          0.1626489758,
          0.1626489758,
          0.1626489758,
          0.1621442139,
          0.1611346602,
          0.1611346602,
          0.1616394371,
          0.1616394371,
          0.1611346602,
          0.1616394371,
          0.1611346602,
          0.1611346602,
          0.1606297791,
          0.1606297791,
          0.1606297791,
          0.1596202254,
          0.1596202254,
          0.1596202254,
          0.1591153443,
          0.1586105675,
          0.1591153443,
          0.1596202254,
          0.1591153443,
          0.1586105675,
          0.1586105675,
          0.1591153443,
          0.1591153443,
          0.1586105675,
          0.1586105675,
          0.1586105675,
          0.1586105675,
          0.1586105675,
          0.1586105675,
          0.1591153443,
          0.1591153443,
          0.1601250023,
          0.1611346602,
          0.1616394371,
          0.1636586487,
          0.1641634107,
          0.1656778455,
          0.1676971763,
          0.1682019383,
          0.1707259119,
          0.1712308079,
          0.1727452427,
          0.1747644544,
          0.1757739931,
          0.1757739931,
          0.1762788892,
          0.1757739931,
          0.1757739931,
          0.1747644544,
          0.1737547815,
          0.1737547815,
          0.1732500196,
          0.1727452427,
          0.1732500196,
          0.1737547815,
          0.1732500196,
          0.1737547815,
          0.1727452427,
          0.1722403467,
          0.1717355847,
          0.1707259119,
          0.1702211499,
          0.1692114919,
          0.1697163731,
          0.1692114919,
          0.1687067151,
          0.1687067151,
          0.1692114919,
          0.1682019383,
          0.1676971763,
          0.1661827415,
          0.1651730686,
          0.1641634107,
          0.1631538719,
          0.1616394371,
          0.1611346602,
          0.1601250023,
          0.1606297791,
          0.1601250023,
          0.1601250023
         ],
         "y": [
          5.305978775,
          4.8371400833,
          4.4056649208,
          4.4056649208,
          4.2031207085,
          3.8228139877,
          3.3101279736,
          3.0036234856,
          2.7229943275,
          2.5917332172,
          2.4662578106,
          2.4662578106,
          2.5917332172,
          2.7229943275,
          2.7229943275,
          2.7229943275,
          2.5917332172,
          2.5917332172,
          2.5917332172,
          2.4662578106,
          2.2316713333,
          2.2316713333,
          2.3463072777,
          2.3463072777,
          2.2316713333,
          2.3463072777,
          2.2316713333,
          2.2316713333,
          2.1221199036,
          2.1221199036,
          2.1221199036,
          1.917586565,
          1.917586565,
          1.917586565,
          1.8221800327,
          1.7311353683,
          1.8221800327,
          1.917586565,
          1.8221800327,
          1.7311353683,
          1.7311353683,
          1.8221800327,
          1.8221800327,
          1.7311353683,
          1.7311353683,
          1.7311353683,
          1.7311353683,
          1.7311353683,
          1.7311353683,
          1.8221800327,
          1.8221800327,
          2.0174975395,
          2.2316713333,
          2.3463072777,
          2.860203743,
          3.0036234856,
          3.4736862183,
          4.2031207085,
          4.4056649208,
          5.5551991463,
          5.8148417473,
          6.6594138145,
          7.9533457756,
          8.6795578003,
          8.6795578003,
          9.0640964508,
          8.6795578003,
          8.6795578003,
          7.9533457756,
          7.2810263634,
          7.2810263634,
          6.9641022682,
          6.6594138145,
          6.9641022682,
          7.2810263634,
          6.9641022682,
          7.2810263634,
          6.6594138145,
          6.3665060997,
          6.0851373672,
          5.5551991463,
          5.305978775,
          4.8371400833,
          5.0667529106,
          4.8371400833,
          4.6169013977,
          4.6169013977,
          4.8371400833,
          4.4056649208,
          4.2031207085,
          3.6445188522,
          3.3101279736,
          3.0036234856,
          2.7229943275,
          2.3463072777,
          2.2316713333,
          2.0174975395,
          2.1221199036,
          2.0174975395,
          2.0174975395
         ],
         "type": "scatter"
        },
        {
         "line": {
          "color": "green"
         },
         "mode": "lines",
         "name": "Полином: y=15935.3237x^2 + -4932.1812x + 383.1938, R²=0.9996, SSR = 0.002",
         "x": [
          0.1702211499,
          0.1692114919,
          0.1682019383,
          0.1682019383,
          0.1676971763,
          0.1666875035,
          0.1651730686,
          0.1641634107,
          0.1631538719,
          0.1626489758,
          0.1621442139,
          0.1621442139,
          0.1626489758,
          0.1631538719,
          0.1631538719,
          0.1631538719,
          0.1626489758,
          0.1626489758,
          0.1626489758,
          0.1621442139,
          0.1611346602,
          0.1611346602,
          0.1616394371,
          0.1616394371,
          0.1611346602,
          0.1616394371,
          0.1611346602,
          0.1611346602,
          0.1606297791,
          0.1606297791,
          0.1606297791,
          0.1596202254,
          0.1596202254,
          0.1596202254,
          0.1591153443,
          0.1586105675,
          0.1591153443,
          0.1596202254,
          0.1591153443,
          0.1586105675,
          0.1586105675,
          0.1591153443,
          0.1591153443,
          0.1586105675,
          0.1586105675,
          0.1586105675,
          0.1586105675,
          0.1586105675,
          0.1586105675,
          0.1591153443,
          0.1591153443,
          0.1601250023,
          0.1611346602,
          0.1616394371,
          0.1636586487,
          0.1641634107,
          0.1656778455,
          0.1676971763,
          0.1682019383,
          0.1707259119,
          0.1712308079,
          0.1727452427,
          0.1747644544,
          0.1757739931,
          0.1757739931,
          0.1762788892,
          0.1757739931,
          0.1757739931,
          0.1747644544,
          0.1737547815,
          0.1737547815,
          0.1732500196,
          0.1727452427,
          0.1732500196,
          0.1737547815,
          0.1732500196,
          0.1737547815,
          0.1727452427,
          0.1722403467,
          0.1717355847,
          0.1707259119,
          0.1702211499,
          0.1692114919,
          0.1697163731,
          0.1692114919,
          0.1687067151,
          0.1687067151,
          0.1692114919,
          0.1682019383,
          0.1676971763,
          0.1661827415,
          0.1651730686,
          0.1641634107,
          0.1631538719,
          0.1616394371,
          0.1611346602,
          0.1601250023,
          0.1606297791,
          0.1601250023,
          0.1601250023
         ],
         "y": [
          5.362059250083121,
          4.880666611804827,
          4.431807944920649,
          4.431807944920649,
          4.219565658735064,
          3.819384961550952,
          3.2800576817884917,
          2.9611045264380778,
          2.674672473868327,
          2.543605162388417,
          2.420693917083156,
          2.420693917083156,
          2.543605162388417,
          2.674672473868327,
          2.674672473868327,
          2.674672473868327,
          2.543605162388417,
          2.543605162388417,
          2.543605162388417,
          2.420693917083156,
          2.199225796440885,
          2.199225796440885,
          2.305899552525659,
          2.305899552525659,
          2.199225796440885,
          2.305899552525659,
          2.199225796440885,
          2.199225796440885,
          2.100653166602285,
          2.100653166602285,
          2.100653166602285,
          1.9279121826760957,
          1.9279121826760957,
          1.9279121826760957,
          1.8537081529278225,
          1.7876409202599461,
          1.8537081529278225,
          1.9279121826760957,
          1.8537081529278225,
          1.7876409202599461,
          1.7876409202599461,
          1.8537081529278225,
          1.8537081529278225,
          1.7876409202599461,
          1.7876409202599461,
          1.7876409202599461,
          1.7876409202599461,
          1.7876409202599461,
          1.7876409202599461,
          1.8537081529278225,
          1.8537081529278225,
          2.01022236798957,
          2.199225796440885,
          2.305899552525659,
          2.813830404370435,
          2.9611045264380778,
          3.4516996021396835,
          4.219565658735064,
          4.431807944920649,
          5.614904931197771,
          5.87594112207961,
          6.707651315868986,
          7.930280593052714,
          8.590279067549432,
          8.590279067549432,
          8.932545831226264,
          8.590279067549432,
          8.590279067549432,
          7.930280593052714,
          7.302682417074607,
          7.302682417074607,
          7.001111091685573,
          6.707651315868986,
          7.001111091685573,
          7.302682417074607,
          7.001111091685573,
          7.302682417074607,
          6.707651315868986,
          6.422245805732871,
          6.145037273010701,
          5.614904931197771,
          5.362059250083121,
          4.880666611804827,
          5.117326665096925,
          4.880666611804827,
          4.65217696396212,
          4.65217696396212,
          4.880666611804827,
          4.431807944920649,
          4.219565658735064,
          3.631505526972944,
          3.2800576817884917,
          2.9611045264380778,
          2.674672473868327,
          2.305899552525659,
          2.199225796440885,
          2.01022236798957,
          2.100653166602285,
          2.01022236798957,
          2.01022236798957
         ],
         "type": "scatter"
        },
        {
         "line": {
          "color": "lightgrey",
          "dash": "dash"
         },
         "mode": "lines",
         "name": "Нижняя граница",
         "x": [
          0.1702211499,
          0.1692114919,
          0.1682019383,
          0.1682019383,
          0.1676971763,
          0.1666875035,
          0.1651730686,
          0.1641634107,
          0.1631538719,
          0.1626489758,
          0.1621442139,
          0.1621442139,
          0.1626489758,
          0.1631538719,
          0.1631538719,
          0.1631538719,
          0.1626489758,
          0.1626489758,
          0.1626489758,
          0.1621442139,
          0.1611346602,
          0.1611346602,
          0.1616394371,
          0.1616394371,
          0.1611346602,
          0.1616394371,
          0.1611346602,
          0.1611346602,
          0.1606297791,
          0.1606297791,
          0.1606297791,
          0.1596202254,
          0.1596202254,
          0.1596202254,
          0.1591153443,
          0.1586105675,
          0.1591153443,
          0.1596202254,
          0.1591153443,
          0.1586105675,
          0.1586105675,
          0.1591153443,
          0.1591153443,
          0.1586105675,
          0.1586105675,
          0.1586105675,
          0.1586105675,
          0.1586105675,
          0.1586105675,
          0.1591153443,
          0.1591153443,
          0.1601250023,
          0.1611346602,
          0.1616394371,
          0.1636586487,
          0.1641634107,
          0.1656778455,
          0.1676971763,
          0.1682019383,
          0.1707259119,
          0.1712308079,
          0.1727452427,
          0.1747644544,
          0.1757739931,
          0.1757739931,
          0.1762788892,
          0.1757739931,
          0.1757739931,
          0.1747644544,
          0.1737547815,
          0.1737547815,
          0.1732500196,
          0.1727452427,
          0.1732500196,
          0.1737547815,
          0.1732500196,
          0.1737547815,
          0.1727452427,
          0.1722403467,
          0.1717355847,
          0.1707259119,
          0.1702211499,
          0.1692114919,
          0.1697163731,
          0.1692114919,
          0.1687067151,
          0.1687067151,
          0.1692114919,
          0.1682019383,
          0.1676971763,
          0.1661827415,
          0.1651730686,
          0.1641634107,
          0.1631538719,
          0.1616394371,
          0.1611346602,
          0.1601250023,
          0.1606297791,
          0.1601250023,
          0.1601250023
         ],
         "y": [
          5.274073716429821,
          4.792681078151527,
          4.343822411267349,
          4.343822411267349,
          4.131580125081764,
          3.7313994278976517,
          3.1920721481351912,
          2.8731189927847773,
          2.5866869402150265,
          2.4556196287351164,
          2.3327083834298556,
          2.3327083834298556,
          2.4556196287351164,
          2.5866869402150265,
          2.5866869402150265,
          2.5866869402150265,
          2.4556196287351164,
          2.4556196287351164,
          2.4556196287351164,
          2.3327083834298556,
          2.1112402627875846,
          2.1112402627875846,
          2.2179140188723587,
          2.2179140188723587,
          2.1112402627875846,
          2.2179140188723587,
          2.1112402627875846,
          2.1112402627875846,
          2.0126676329489848,
          2.0126676329489848,
          2.0126676329489848,
          1.8399266490227955,
          1.8399266490227955,
          1.8399266490227955,
          1.7657226192745223,
          1.699655386606646,
          1.7657226192745223,
          1.8399266490227955,
          1.7657226192745223,
          1.699655386606646,
          1.699655386606646,
          1.7657226192745223,
          1.7657226192745223,
          1.699655386606646,
          1.699655386606646,
          1.699655386606646,
          1.699655386606646,
          1.699655386606646,
          1.699655386606646,
          1.7657226192745223,
          1.7657226192745223,
          1.92223683433627,
          2.1112402627875846,
          2.2179140188723587,
          2.7258448707171348,
          2.8731189927847773,
          3.363714068486383,
          4.131580125081764,
          4.343822411267349,
          5.526919397544471,
          5.78795558842631,
          6.619665782215686,
          7.842295059399414,
          8.50229353389613,
          8.50229353389613,
          8.844560297572963,
          8.50229353389613,
          8.50229353389613,
          7.842295059399414,
          7.214696883421307,
          7.214696883421307,
          6.913125558032273,
          6.619665782215686,
          6.913125558032273,
          7.214696883421307,
          6.913125558032273,
          7.214696883421307,
          6.619665782215686,
          6.334260272079571,
          6.057051739357401,
          5.526919397544471,
          5.274073716429821,
          4.792681078151527,
          5.029341131443625,
          4.792681078151527,
          4.56419143030882,
          4.56419143030882,
          4.792681078151527,
          4.343822411267349,
          4.131580125081764,
          3.5435199933196437,
          3.1920721481351912,
          2.8731189927847773,
          2.5866869402150265,
          2.2179140188723587,
          2.1112402627875846,
          1.92223683433627,
          2.0126676329489848,
          1.92223683433627,
          1.92223683433627
         ],
         "type": "scatter"
        },
        {
         "line": {
          "color": "lightgrey",
          "dash": "dash"
         },
         "mode": "lines",
         "name": "Верхняя граница",
         "x": [
          0.1702211499,
          0.1692114919,
          0.1682019383,
          0.1682019383,
          0.1676971763,
          0.1666875035,
          0.1651730686,
          0.1641634107,
          0.1631538719,
          0.1626489758,
          0.1621442139,
          0.1621442139,
          0.1626489758,
          0.1631538719,
          0.1631538719,
          0.1631538719,
          0.1626489758,
          0.1626489758,
          0.1626489758,
          0.1621442139,
          0.1611346602,
          0.1611346602,
          0.1616394371,
          0.1616394371,
          0.1611346602,
          0.1616394371,
          0.1611346602,
          0.1611346602,
          0.1606297791,
          0.1606297791,
          0.1606297791,
          0.1596202254,
          0.1596202254,
          0.1596202254,
          0.1591153443,
          0.1586105675,
          0.1591153443,
          0.1596202254,
          0.1591153443,
          0.1586105675,
          0.1586105675,
          0.1591153443,
          0.1591153443,
          0.1586105675,
          0.1586105675,
          0.1586105675,
          0.1586105675,
          0.1586105675,
          0.1586105675,
          0.1591153443,
          0.1591153443,
          0.1601250023,
          0.1611346602,
          0.1616394371,
          0.1636586487,
          0.1641634107,
          0.1656778455,
          0.1676971763,
          0.1682019383,
          0.1707259119,
          0.1712308079,
          0.1727452427,
          0.1747644544,
          0.1757739931,
          0.1757739931,
          0.1762788892,
          0.1757739931,
          0.1757739931,
          0.1747644544,
          0.1737547815,
          0.1737547815,
          0.1732500196,
          0.1727452427,
          0.1732500196,
          0.1737547815,
          0.1732500196,
          0.1737547815,
          0.1727452427,
          0.1722403467,
          0.1717355847,
          0.1707259119,
          0.1702211499,
          0.1692114919,
          0.1697163731,
          0.1692114919,
          0.1687067151,
          0.1687067151,
          0.1692114919,
          0.1682019383,
          0.1676971763,
          0.1661827415,
          0.1651730686,
          0.1641634107,
          0.1631538719,
          0.1616394371,
          0.1611346602,
          0.1601250023,
          0.1606297791,
          0.1601250023,
          0.1601250023
         ],
         "y": [
          5.450044783736421,
          4.968652145458127,
          4.519793478573949,
          4.519793478573949,
          4.307551192388364,
          3.9073704952042525,
          3.368043215441792,
          3.049090060091378,
          2.7626580075216274,
          2.6315906960417172,
          2.5086794507364565,
          2.5086794507364565,
          2.6315906960417172,
          2.7626580075216274,
          2.7626580075216274,
          2.7626580075216274,
          2.6315906960417172,
          2.6315906960417172,
          2.6315906960417172,
          2.5086794507364565,
          2.2872113300941854,
          2.2872113300941854,
          2.3938850861789596,
          2.3938850861789596,
          2.2872113300941854,
          2.3938850861789596,
          2.2872113300941854,
          2.2872113300941854,
          2.1886387002555856,
          2.1886387002555856,
          2.1886387002555856,
          2.015897716329396,
          2.015897716329396,
          2.015897716329396,
          1.9416936865811227,
          1.8756264539132463,
          1.9416936865811227,
          2.015897716329396,
          1.9416936865811227,
          1.8756264539132463,
          1.8756264539132463,
          1.9416936865811227,
          1.9416936865811227,
          1.8756264539132463,
          1.8756264539132463,
          1.8756264539132463,
          1.8756264539132463,
          1.8756264539132463,
          1.8756264539132463,
          1.9416936865811227,
          1.9416936865811227,
          2.0982079016428705,
          2.2872113300941854,
          2.3938850861789596,
          2.9018159380237356,
          3.049090060091378,
          3.539685135792984,
          4.307551192388364,
          4.519793478573949,
          5.7028904648510705,
          5.96392665573291,
          6.795636849522286,
          8.018266126706015,
          8.678264601202732,
          8.678264601202732,
          9.020531364879565,
          8.678264601202732,
          8.678264601202732,
          8.018266126706015,
          7.390667950727907,
          7.390667950727907,
          7.089096625338873,
          6.795636849522286,
          7.089096625338873,
          7.390667950727907,
          7.089096625338873,
          7.390667950727907,
          6.795636849522286,
          6.510231339386171,
          6.2330228066640005,
          5.7028904648510705,
          5.450044783736421,
          4.968652145458127,
          5.205312198750225,
          4.968652145458127,
          4.74016249761542,
          4.74016249761542,
          4.968652145458127,
          4.519793478573949,
          4.307551192388364,
          3.7194910606262446,
          3.368043215441792,
          3.049090060091378,
          2.7626580075216274,
          2.3938850861789596,
          2.2872113300941854,
          2.0982079016428705,
          2.1886387002555856,
          2.0982079016428705,
          2.0982079016428705
         ],
         "type": "scatter"
        }
       ],
       "layout": {
        "template": {
         "data": {
          "barpolar": [
           {
            "marker": {
             "line": {
              "color": "white",
              "width": 0.5
             },
             "pattern": {
              "fillmode": "overlay",
              "size": 10,
              "solidity": 0.2
             }
            },
            "type": "barpolar"
           }
          ],
          "bar": [
           {
            "error_x": {
             "color": "#2a3f5f"
            },
            "error_y": {
             "color": "#2a3f5f"
            },
            "marker": {
             "line": {
              "color": "white",
              "width": 0.5
             },
             "pattern": {
              "fillmode": "overlay",
              "size": 10,
              "solidity": 0.2
             }
            },
            "type": "bar"
           }
          ],
          "carpet": [
           {
            "aaxis": {
             "endlinecolor": "#2a3f5f",
             "gridcolor": "#C8D4E3",
             "linecolor": "#C8D4E3",
             "minorgridcolor": "#C8D4E3",
             "startlinecolor": "#2a3f5f"
            },
            "baxis": {
             "endlinecolor": "#2a3f5f",
             "gridcolor": "#C8D4E3",
             "linecolor": "#C8D4E3",
             "minorgridcolor": "#C8D4E3",
             "startlinecolor": "#2a3f5f"
            },
            "type": "carpet"
           }
          ],
          "choropleth": [
           {
            "colorbar": {
             "outlinewidth": 0,
             "ticks": ""
            },
            "type": "choropleth"
           }
          ],
          "contourcarpet": [
           {
            "colorbar": {
             "outlinewidth": 0,
             "ticks": ""
            },
            "type": "contourcarpet"
           }
          ],
          "contour": [
           {
            "colorbar": {
             "outlinewidth": 0,
             "ticks": ""
            },
            "colorscale": [
             [
              0.0,
              "#0d0887"
             ],
             [
              0.1111111111111111,
              "#46039f"
             ],
             [
              0.2222222222222222,
              "#7201a8"
             ],
             [
              0.3333333333333333,
              "#9c179e"
             ],
             [
              0.4444444444444444,
              "#bd3786"
             ],
             [
              0.5555555555555556,
              "#d8576b"
             ],
             [
              0.6666666666666666,
              "#ed7953"
             ],
             [
              0.7777777777777778,
              "#fb9f3a"
             ],
             [
              0.8888888888888888,
              "#fdca26"
             ],
             [
              1.0,
              "#f0f921"
             ]
            ],
            "type": "contour"
           }
          ],
          "heatmapgl": [
           {
            "colorbar": {
             "outlinewidth": 0,
             "ticks": ""
            },
            "colorscale": [
             [
              0.0,
              "#0d0887"
             ],
             [
              0.1111111111111111,
              "#46039f"
             ],
             [
              0.2222222222222222,
              "#7201a8"
             ],
             [
              0.3333333333333333,
              "#9c179e"
             ],
             [
              0.4444444444444444,
              "#bd3786"
             ],
             [
              0.5555555555555556,
              "#d8576b"
             ],
             [
              0.6666666666666666,
              "#ed7953"
             ],
             [
              0.7777777777777778,
              "#fb9f3a"
             ],
             [
              0.8888888888888888,
              "#fdca26"
             ],
             [
              1.0,
              "#f0f921"
             ]
            ],
            "type": "heatmapgl"
           }
          ],
          "heatmap": [
           {
            "colorbar": {
             "outlinewidth": 0,
             "ticks": ""
            },
            "colorscale": [
             [
              0.0,
              "#0d0887"
             ],
             [
              0.1111111111111111,
              "#46039f"
             ],
             [
              0.2222222222222222,
              "#7201a8"
             ],
             [
              0.3333333333333333,
              "#9c179e"
             ],
             [
              0.4444444444444444,
              "#bd3786"
             ],
             [
              0.5555555555555556,
              "#d8576b"
             ],
             [
              0.6666666666666666,
              "#ed7953"
             ],
             [
              0.7777777777777778,
              "#fb9f3a"
             ],
             [
              0.8888888888888888,
              "#fdca26"
             ],
             [
              1.0,
              "#f0f921"
             ]
            ],
            "type": "heatmap"
           }
          ],
          "histogram2dcontour": [
           {
            "colorbar": {
             "outlinewidth": 0,
             "ticks": ""
            },
            "colorscale": [
             [
              0.0,
              "#0d0887"
             ],
             [
              0.1111111111111111,
              "#46039f"
             ],
             [
              0.2222222222222222,
              "#7201a8"
             ],
             [
              0.3333333333333333,
              "#9c179e"
             ],
             [
              0.4444444444444444,
              "#bd3786"
             ],
             [
              0.5555555555555556,
              "#d8576b"
             ],
             [
              0.6666666666666666,
              "#ed7953"
             ],
             [
              0.7777777777777778,
              "#fb9f3a"
             ],
             [
              0.8888888888888888,
              "#fdca26"
             ],
             [
              1.0,
              "#f0f921"
             ]
            ],
            "type": "histogram2dcontour"
           }
          ],
          "histogram2d": [
           {
            "colorbar": {
             "outlinewidth": 0,
             "ticks": ""
            },
            "colorscale": [
             [
              0.0,
              "#0d0887"
             ],
             [
              0.1111111111111111,
              "#46039f"
             ],
             [
              0.2222222222222222,
              "#7201a8"
             ],
             [
              0.3333333333333333,
              "#9c179e"
             ],
             [
              0.4444444444444444,
              "#bd3786"
             ],
             [
              0.5555555555555556,
              "#d8576b"
             ],
             [
              0.6666666666666666,
              "#ed7953"
             ],
             [
              0.7777777777777778,
              "#fb9f3a"
             ],
             [
              0.8888888888888888,
              "#fdca26"
             ],
             [
              1.0,
              "#f0f921"
             ]
            ],
            "type": "histogram2d"
           }
          ],
          "histogram": [
           {
            "marker": {
             "pattern": {
              "fillmode": "overlay",
              "size": 10,
              "solidity": 0.2
             }
            },
            "type": "histogram"
           }
          ],
          "mesh3d": [
           {
            "colorbar": {
             "outlinewidth": 0,
             "ticks": ""
            },
            "type": "mesh3d"
           }
          ],
          "parcoords": [
           {
            "line": {
             "colorbar": {
              "outlinewidth": 0,
              "ticks": ""
             }
            },
            "type": "parcoords"
           }
          ],
          "pie": [
           {
            "automargin": true,
            "type": "pie"
           }
          ],
          "scatter3d": [
           {
            "line": {
             "colorbar": {
              "outlinewidth": 0,
              "ticks": ""
             }
            },
            "marker": {
             "colorbar": {
              "outlinewidth": 0,
              "ticks": ""
             }
            },
            "type": "scatter3d"
           }
          ],
          "scattercarpet": [
           {
            "marker": {
             "colorbar": {
              "outlinewidth": 0,
              "ticks": ""
             }
            },
            "type": "scattercarpet"
           }
          ],
          "scattergeo": [
           {
            "marker": {
             "colorbar": {
              "outlinewidth": 0,
              "ticks": ""
             }
            },
            "type": "scattergeo"
           }
          ],
          "scattergl": [
           {
            "marker": {
             "colorbar": {
              "outlinewidth": 0,
              "ticks": ""
             }
            },
            "type": "scattergl"
           }
          ],
          "scattermapbox": [
           {
            "marker": {
             "colorbar": {
              "outlinewidth": 0,
              "ticks": ""
             }
            },
            "type": "scattermapbox"
           }
          ],
          "scatterpolargl": [
           {
            "marker": {
             "colorbar": {
              "outlinewidth": 0,
              "ticks": ""
             }
            },
            "type": "scatterpolargl"
           }
          ],
          "scatterpolar": [
           {
            "marker": {
             "colorbar": {
              "outlinewidth": 0,
              "ticks": ""
             }
            },
            "type": "scatterpolar"
           }
          ],
          "scatter": [
           {
            "fillpattern": {
             "fillmode": "overlay",
             "size": 10,
             "solidity": 0.2
            },
            "type": "scatter"
           }
          ],
          "scatterternary": [
           {
            "marker": {
             "colorbar": {
              "outlinewidth": 0,
              "ticks": ""
             }
            },
            "type": "scatterternary"
           }
          ],
          "surface": [
           {
            "colorbar": {
             "outlinewidth": 0,
             "ticks": ""
            },
            "colorscale": [
             [
              0.0,
              "#0d0887"
             ],
             [
              0.1111111111111111,
              "#46039f"
             ],
             [
              0.2222222222222222,
              "#7201a8"
             ],
             [
              0.3333333333333333,
              "#9c179e"
             ],
             [
              0.4444444444444444,
              "#bd3786"
             ],
             [
              0.5555555555555556,
              "#d8576b"
             ],
             [
              0.6666666666666666,
              "#ed7953"
             ],
             [
              0.7777777777777778,
              "#fb9f3a"
             ],
             [
              0.8888888888888888,
              "#fdca26"
             ],
             [
              1.0,
              "#f0f921"
             ]
            ],
            "type": "surface"
           }
          ],
          "table": [
           {
            "cells": {
             "fill": {
              "color": "#EBF0F8"
             },
             "line": {
              "color": "white"
             }
            },
            "header": {
             "fill": {
              "color": "#C8D4E3"
             },
             "line": {
              "color": "white"
             }
            },
            "type": "table"
           }
          ]
         },
         "layout": {
          "annotationdefaults": {
           "arrowcolor": "#2a3f5f",
           "arrowhead": 0,
           "arrowwidth": 1
          },
          "autotypenumbers": "strict",
          "coloraxis": {
           "colorbar": {
            "outlinewidth": 0,
            "ticks": ""
           }
          },
          "colorscale": {
           "diverging": [
            [
             0,
             "#8e0152"
            ],
            [
             0.1,
             "#c51b7d"
            ],
            [
             0.2,
             "#de77ae"
            ],
            [
             0.3,
             "#f1b6da"
            ],
            [
             0.4,
             "#fde0ef"
            ],
            [
             0.5,
             "#f7f7f7"
            ],
            [
             0.6,
             "#e6f5d0"
            ],
            [
             0.7,
             "#b8e186"
            ],
            [
             0.8,
             "#7fbc41"
            ],
            [
             0.9,
             "#4d9221"
            ],
            [
             1,
             "#276419"
            ]
           ],
           "sequential": [
            [
             0.0,
             "#0d0887"
            ],
            [
             0.1111111111111111,
             "#46039f"
            ],
            [
             0.2222222222222222,
             "#7201a8"
            ],
            [
             0.3333333333333333,
             "#9c179e"
            ],
            [
             0.4444444444444444,
             "#bd3786"
            ],
            [
             0.5555555555555556,
             "#d8576b"
            ],
            [
             0.6666666666666666,
             "#ed7953"
            ],
            [
             0.7777777777777778,
             "#fb9f3a"
            ],
            [
             0.8888888888888888,
             "#fdca26"
            ],
            [
             1.0,
             "#f0f921"
            ]
           ],
           "sequentialminus": [
            [
             0.0,
             "#0d0887"
            ],
            [
             0.1111111111111111,
             "#46039f"
            ],
            [
             0.2222222222222222,
             "#7201a8"
            ],
            [
             0.3333333333333333,
             "#9c179e"
            ],
            [
             0.4444444444444444,
             "#bd3786"
            ],
            [
             0.5555555555555556,
             "#d8576b"
            ],
            [
             0.6666666666666666,
             "#ed7953"
            ],
            [
             0.7777777777777778,
             "#fb9f3a"
            ],
            [
             0.8888888888888888,
             "#fdca26"
            ],
            [
             1.0,
             "#f0f921"
            ]
           ]
          },
          "colorway": [
           "#636efa",
           "#EF553B",
           "#00cc96",
           "#ab63fa",
           "#FFA15A",
           "#19d3f3",
           "#FF6692",
           "#B6E880",
           "#FF97FF",
           "#FECB52"
          ],
          "font": {
           "color": "#2a3f5f"
          },
          "geo": {
           "bgcolor": "white",
           "lakecolor": "white",
           "landcolor": "white",
           "showlakes": true,
           "showland": true,
           "subunitcolor": "#C8D4E3"
          },
          "hoverlabel": {
           "align": "left"
          },
          "hovermode": "closest",
          "mapbox": {
           "style": "light"
          },
          "paper_bgcolor": "white",
          "plot_bgcolor": "white",
          "polar": {
           "angularaxis": {
            "gridcolor": "#EBF0F8",
            "linecolor": "#EBF0F8",
            "ticks": ""
           },
           "bgcolor": "white",
           "radialaxis": {
            "gridcolor": "#EBF0F8",
            "linecolor": "#EBF0F8",
            "ticks": ""
           }
          },
          "scene": {
           "xaxis": {
            "backgroundcolor": "white",
            "gridcolor": "#DFE8F3",
            "gridwidth": 2,
            "linecolor": "#EBF0F8",
            "showbackground": true,
            "ticks": "",
            "zerolinecolor": "#EBF0F8"
           },
           "yaxis": {
            "backgroundcolor": "white",
            "gridcolor": "#DFE8F3",
            "gridwidth": 2,
            "linecolor": "#EBF0F8",
            "showbackground": true,
            "ticks": "",
            "zerolinecolor": "#EBF0F8"
           },
           "zaxis": {
            "backgroundcolor": "white",
            "gridcolor": "#DFE8F3",
            "gridwidth": 2,
            "linecolor": "#EBF0F8",
            "showbackground": true,
            "ticks": "",
            "zerolinecolor": "#EBF0F8"
           }
          },
          "shapedefaults": {
           "line": {
            "color": "#2a3f5f"
           }
          },
          "ternary": {
           "aaxis": {
            "gridcolor": "#DFE8F3",
            "linecolor": "#A2B1C6",
            "ticks": ""
           },
           "baxis": {
            "gridcolor": "#DFE8F3",
            "linecolor": "#A2B1C6",
            "ticks": ""
           },
           "bgcolor": "white",
           "caxis": {
            "gridcolor": "#DFE8F3",
            "linecolor": "#A2B1C6",
            "ticks": ""
           }
          },
          "title": {
           "x": 0.05
          },
          "xaxis": {
           "automargin": true,
           "gridcolor": "#EBF0F8",
           "linecolor": "#EBF0F8",
           "ticks": "",
           "title": {
            "standoff": 15
           },
           "zerolinecolor": "#EBF0F8",
           "zerolinewidth": 2
          },
          "yaxis": {
           "automargin": true,
           "gridcolor": "#EBF0F8",
           "linecolor": "#EBF0F8",
           "ticks": "",
           "title": {
            "standoff": 15
           },
           "zerolinecolor": "#EBF0F8",
           "zerolinewidth": 2
          }
         }
        },
        "legend": {
         "x": 1.05,
         "y": 1,
         "traceorder": "normal",
         "orientation": "v"
        },
        "title": {
         "text": "Предполагаемая модель - Полином"
        },
        "xaxis": {
         "title": {
          "text": "K2065G_2_POROSITY"
         }
        },
        "yaxis": {
         "title": {
          "text": "K2065G_2_PERMEABILITY"
         }
        }
       },
       "config": {
        "plotlyServerURL": "https://plot.ly"
       }
      },
      "text/html": "<div>                            <div id=\"cdf7893c-d769-47d9-ae34-a35e9129f2fb\" class=\"plotly-graph-div\" style=\"height:525px; width:100%;\"></div>            <script type=\"text/javascript\">                require([\"plotly\"], function(Plotly) {                    window.PLOTLYENV=window.PLOTLYENV || {};                                    if (document.getElementById(\"cdf7893c-d769-47d9-ae34-a35e9129f2fb\")) {                    Plotly.newPlot(                        \"cdf7893c-d769-47d9-ae34-a35e9129f2fb\",                        [{\"marker\":{\"color\":\"blue\"},\"mode\":\"markers\",\"name\":\"\\u0414\\u0430\\u043d\\u043d\\u044b\\u0435\",\"x\":[0.1702211499,0.1692114919,0.1682019383,0.1682019383,0.1676971763,0.1666875035,0.1651730686,0.1641634107,0.1631538719,0.1626489758,0.1621442139,0.1621442139,0.1626489758,0.1631538719,0.1631538719,0.1631538719,0.1626489758,0.1626489758,0.1626489758,0.1621442139,0.1611346602,0.1611346602,0.1616394371,0.1616394371,0.1611346602,0.1616394371,0.1611346602,0.1611346602,0.1606297791,0.1606297791,0.1606297791,0.1596202254,0.1596202254,0.1596202254,0.1591153443,0.1586105675,0.1591153443,0.1596202254,0.1591153443,0.1586105675,0.1586105675,0.1591153443,0.1591153443,0.1586105675,0.1586105675,0.1586105675,0.1586105675,0.1586105675,0.1586105675,0.1591153443,0.1591153443,0.1601250023,0.1611346602,0.1616394371,0.1636586487,0.1641634107,0.1656778455,0.1676971763,0.1682019383,0.1707259119,0.1712308079,0.1727452427,0.1747644544,0.1757739931,0.1757739931,0.1762788892,0.1757739931,0.1757739931,0.1747644544,0.1737547815,0.1737547815,0.1732500196,0.1727452427,0.1732500196,0.1737547815,0.1732500196,0.1737547815,0.1727452427,0.1722403467,0.1717355847,0.1707259119,0.1702211499,0.1692114919,0.1697163731,0.1692114919,0.1687067151,0.1687067151,0.1692114919,0.1682019383,0.1676971763,0.1661827415,0.1651730686,0.1641634107,0.1631538719,0.1616394371,0.1611346602,0.1601250023,0.1606297791,0.1601250023,0.1601250023],\"y\":[5.305978775,4.8371400833,4.4056649208,4.4056649208,4.2031207085,3.8228139877,3.3101279736,3.0036234856,2.7229943275,2.5917332172,2.4662578106,2.4662578106,2.5917332172,2.7229943275,2.7229943275,2.7229943275,2.5917332172,2.5917332172,2.5917332172,2.4662578106,2.2316713333,2.2316713333,2.3463072777,2.3463072777,2.2316713333,2.3463072777,2.2316713333,2.2316713333,2.1221199036,2.1221199036,2.1221199036,1.917586565,1.917586565,1.917586565,1.8221800327,1.7311353683,1.8221800327,1.917586565,1.8221800327,1.7311353683,1.7311353683,1.8221800327,1.8221800327,1.7311353683,1.7311353683,1.7311353683,1.7311353683,1.7311353683,1.7311353683,1.8221800327,1.8221800327,2.0174975395,2.2316713333,2.3463072777,2.860203743,3.0036234856,3.4736862183,4.2031207085,4.4056649208,5.5551991463,5.8148417473,6.6594138145,7.9533457756,8.6795578003,8.6795578003,9.0640964508,8.6795578003,8.6795578003,7.9533457756,7.2810263634,7.2810263634,6.9641022682,6.6594138145,6.9641022682,7.2810263634,6.9641022682,7.2810263634,6.6594138145,6.3665060997,6.0851373672,5.5551991463,5.305978775,4.8371400833,5.0667529106,4.8371400833,4.6169013977,4.6169013977,4.8371400833,4.4056649208,4.2031207085,3.6445188522,3.3101279736,3.0036234856,2.7229943275,2.3463072777,2.2316713333,2.0174975395,2.1221199036,2.0174975395,2.0174975395],\"type\":\"scatter\"},{\"line\":{\"color\":\"green\"},\"mode\":\"lines\",\"name\":\"\\u041f\\u043e\\u043b\\u0438\\u043d\\u043e\\u043c: y=15935.3237x^2 + -4932.1812x + 383.1938, R\\u00b2=0.9996, SSR = 0.002\",\"x\":[0.1702211499,0.1692114919,0.1682019383,0.1682019383,0.1676971763,0.1666875035,0.1651730686,0.1641634107,0.1631538719,0.1626489758,0.1621442139,0.1621442139,0.1626489758,0.1631538719,0.1631538719,0.1631538719,0.1626489758,0.1626489758,0.1626489758,0.1621442139,0.1611346602,0.1611346602,0.1616394371,0.1616394371,0.1611346602,0.1616394371,0.1611346602,0.1611346602,0.1606297791,0.1606297791,0.1606297791,0.1596202254,0.1596202254,0.1596202254,0.1591153443,0.1586105675,0.1591153443,0.1596202254,0.1591153443,0.1586105675,0.1586105675,0.1591153443,0.1591153443,0.1586105675,0.1586105675,0.1586105675,0.1586105675,0.1586105675,0.1586105675,0.1591153443,0.1591153443,0.1601250023,0.1611346602,0.1616394371,0.1636586487,0.1641634107,0.1656778455,0.1676971763,0.1682019383,0.1707259119,0.1712308079,0.1727452427,0.1747644544,0.1757739931,0.1757739931,0.1762788892,0.1757739931,0.1757739931,0.1747644544,0.1737547815,0.1737547815,0.1732500196,0.1727452427,0.1732500196,0.1737547815,0.1732500196,0.1737547815,0.1727452427,0.1722403467,0.1717355847,0.1707259119,0.1702211499,0.1692114919,0.1697163731,0.1692114919,0.1687067151,0.1687067151,0.1692114919,0.1682019383,0.1676971763,0.1661827415,0.1651730686,0.1641634107,0.1631538719,0.1616394371,0.1611346602,0.1601250023,0.1606297791,0.1601250023,0.1601250023],\"y\":[5.362059250083121,4.880666611804827,4.431807944920649,4.431807944920649,4.219565658735064,3.819384961550952,3.2800576817884917,2.9611045264380778,2.674672473868327,2.543605162388417,2.420693917083156,2.420693917083156,2.543605162388417,2.674672473868327,2.674672473868327,2.674672473868327,2.543605162388417,2.543605162388417,2.543605162388417,2.420693917083156,2.199225796440885,2.199225796440885,2.305899552525659,2.305899552525659,2.199225796440885,2.305899552525659,2.199225796440885,2.199225796440885,2.100653166602285,2.100653166602285,2.100653166602285,1.9279121826760957,1.9279121826760957,1.9279121826760957,1.8537081529278225,1.7876409202599461,1.8537081529278225,1.9279121826760957,1.8537081529278225,1.7876409202599461,1.7876409202599461,1.8537081529278225,1.8537081529278225,1.7876409202599461,1.7876409202599461,1.7876409202599461,1.7876409202599461,1.7876409202599461,1.7876409202599461,1.8537081529278225,1.8537081529278225,2.01022236798957,2.199225796440885,2.305899552525659,2.813830404370435,2.9611045264380778,3.4516996021396835,4.219565658735064,4.431807944920649,5.614904931197771,5.87594112207961,6.707651315868986,7.930280593052714,8.590279067549432,8.590279067549432,8.932545831226264,8.590279067549432,8.590279067549432,7.930280593052714,7.302682417074607,7.302682417074607,7.001111091685573,6.707651315868986,7.001111091685573,7.302682417074607,7.001111091685573,7.302682417074607,6.707651315868986,6.422245805732871,6.145037273010701,5.614904931197771,5.362059250083121,4.880666611804827,5.117326665096925,4.880666611804827,4.65217696396212,4.65217696396212,4.880666611804827,4.431807944920649,4.219565658735064,3.631505526972944,3.2800576817884917,2.9611045264380778,2.674672473868327,2.305899552525659,2.199225796440885,2.01022236798957,2.100653166602285,2.01022236798957,2.01022236798957],\"type\":\"scatter\"},{\"line\":{\"color\":\"lightgrey\",\"dash\":\"dash\"},\"mode\":\"lines\",\"name\":\"\\u041d\\u0438\\u0436\\u043d\\u044f\\u044f \\u0433\\u0440\\u0430\\u043d\\u0438\\u0446\\u0430\",\"x\":[0.1702211499,0.1692114919,0.1682019383,0.1682019383,0.1676971763,0.1666875035,0.1651730686,0.1641634107,0.1631538719,0.1626489758,0.1621442139,0.1621442139,0.1626489758,0.1631538719,0.1631538719,0.1631538719,0.1626489758,0.1626489758,0.1626489758,0.1621442139,0.1611346602,0.1611346602,0.1616394371,0.1616394371,0.1611346602,0.1616394371,0.1611346602,0.1611346602,0.1606297791,0.1606297791,0.1606297791,0.1596202254,0.1596202254,0.1596202254,0.1591153443,0.1586105675,0.1591153443,0.1596202254,0.1591153443,0.1586105675,0.1586105675,0.1591153443,0.1591153443,0.1586105675,0.1586105675,0.1586105675,0.1586105675,0.1586105675,0.1586105675,0.1591153443,0.1591153443,0.1601250023,0.1611346602,0.1616394371,0.1636586487,0.1641634107,0.1656778455,0.1676971763,0.1682019383,0.1707259119,0.1712308079,0.1727452427,0.1747644544,0.1757739931,0.1757739931,0.1762788892,0.1757739931,0.1757739931,0.1747644544,0.1737547815,0.1737547815,0.1732500196,0.1727452427,0.1732500196,0.1737547815,0.1732500196,0.1737547815,0.1727452427,0.1722403467,0.1717355847,0.1707259119,0.1702211499,0.1692114919,0.1697163731,0.1692114919,0.1687067151,0.1687067151,0.1692114919,0.1682019383,0.1676971763,0.1661827415,0.1651730686,0.1641634107,0.1631538719,0.1616394371,0.1611346602,0.1601250023,0.1606297791,0.1601250023,0.1601250023],\"y\":[5.274073716429821,4.792681078151527,4.343822411267349,4.343822411267349,4.131580125081764,3.7313994278976517,3.1920721481351912,2.8731189927847773,2.5866869402150265,2.4556196287351164,2.3327083834298556,2.3327083834298556,2.4556196287351164,2.5866869402150265,2.5866869402150265,2.5866869402150265,2.4556196287351164,2.4556196287351164,2.4556196287351164,2.3327083834298556,2.1112402627875846,2.1112402627875846,2.2179140188723587,2.2179140188723587,2.1112402627875846,2.2179140188723587,2.1112402627875846,2.1112402627875846,2.0126676329489848,2.0126676329489848,2.0126676329489848,1.8399266490227955,1.8399266490227955,1.8399266490227955,1.7657226192745223,1.699655386606646,1.7657226192745223,1.8399266490227955,1.7657226192745223,1.699655386606646,1.699655386606646,1.7657226192745223,1.7657226192745223,1.699655386606646,1.699655386606646,1.699655386606646,1.699655386606646,1.699655386606646,1.699655386606646,1.7657226192745223,1.7657226192745223,1.92223683433627,2.1112402627875846,2.2179140188723587,2.7258448707171348,2.8731189927847773,3.363714068486383,4.131580125081764,4.343822411267349,5.526919397544471,5.78795558842631,6.619665782215686,7.842295059399414,8.50229353389613,8.50229353389613,8.844560297572963,8.50229353389613,8.50229353389613,7.842295059399414,7.214696883421307,7.214696883421307,6.913125558032273,6.619665782215686,6.913125558032273,7.214696883421307,6.913125558032273,7.214696883421307,6.619665782215686,6.334260272079571,6.057051739357401,5.526919397544471,5.274073716429821,4.792681078151527,5.029341131443625,4.792681078151527,4.56419143030882,4.56419143030882,4.792681078151527,4.343822411267349,4.131580125081764,3.5435199933196437,3.1920721481351912,2.8731189927847773,2.5866869402150265,2.2179140188723587,2.1112402627875846,1.92223683433627,2.0126676329489848,1.92223683433627,1.92223683433627],\"type\":\"scatter\"},{\"line\":{\"color\":\"lightgrey\",\"dash\":\"dash\"},\"mode\":\"lines\",\"name\":\"\\u0412\\u0435\\u0440\\u0445\\u043d\\u044f\\u044f \\u0433\\u0440\\u0430\\u043d\\u0438\\u0446\\u0430\",\"x\":[0.1702211499,0.1692114919,0.1682019383,0.1682019383,0.1676971763,0.1666875035,0.1651730686,0.1641634107,0.1631538719,0.1626489758,0.1621442139,0.1621442139,0.1626489758,0.1631538719,0.1631538719,0.1631538719,0.1626489758,0.1626489758,0.1626489758,0.1621442139,0.1611346602,0.1611346602,0.1616394371,0.1616394371,0.1611346602,0.1616394371,0.1611346602,0.1611346602,0.1606297791,0.1606297791,0.1606297791,0.1596202254,0.1596202254,0.1596202254,0.1591153443,0.1586105675,0.1591153443,0.1596202254,0.1591153443,0.1586105675,0.1586105675,0.1591153443,0.1591153443,0.1586105675,0.1586105675,0.1586105675,0.1586105675,0.1586105675,0.1586105675,0.1591153443,0.1591153443,0.1601250023,0.1611346602,0.1616394371,0.1636586487,0.1641634107,0.1656778455,0.1676971763,0.1682019383,0.1707259119,0.1712308079,0.1727452427,0.1747644544,0.1757739931,0.1757739931,0.1762788892,0.1757739931,0.1757739931,0.1747644544,0.1737547815,0.1737547815,0.1732500196,0.1727452427,0.1732500196,0.1737547815,0.1732500196,0.1737547815,0.1727452427,0.1722403467,0.1717355847,0.1707259119,0.1702211499,0.1692114919,0.1697163731,0.1692114919,0.1687067151,0.1687067151,0.1692114919,0.1682019383,0.1676971763,0.1661827415,0.1651730686,0.1641634107,0.1631538719,0.1616394371,0.1611346602,0.1601250023,0.1606297791,0.1601250023,0.1601250023],\"y\":[5.450044783736421,4.968652145458127,4.519793478573949,4.519793478573949,4.307551192388364,3.9073704952042525,3.368043215441792,3.049090060091378,2.7626580075216274,2.6315906960417172,2.5086794507364565,2.5086794507364565,2.6315906960417172,2.7626580075216274,2.7626580075216274,2.7626580075216274,2.6315906960417172,2.6315906960417172,2.6315906960417172,2.5086794507364565,2.2872113300941854,2.2872113300941854,2.3938850861789596,2.3938850861789596,2.2872113300941854,2.3938850861789596,2.2872113300941854,2.2872113300941854,2.1886387002555856,2.1886387002555856,2.1886387002555856,2.015897716329396,2.015897716329396,2.015897716329396,1.9416936865811227,1.8756264539132463,1.9416936865811227,2.015897716329396,1.9416936865811227,1.8756264539132463,1.8756264539132463,1.9416936865811227,1.9416936865811227,1.8756264539132463,1.8756264539132463,1.8756264539132463,1.8756264539132463,1.8756264539132463,1.8756264539132463,1.9416936865811227,1.9416936865811227,2.0982079016428705,2.2872113300941854,2.3938850861789596,2.9018159380237356,3.049090060091378,3.539685135792984,4.307551192388364,4.519793478573949,5.7028904648510705,5.96392665573291,6.795636849522286,8.018266126706015,8.678264601202732,8.678264601202732,9.020531364879565,8.678264601202732,8.678264601202732,8.018266126706015,7.390667950727907,7.390667950727907,7.089096625338873,6.795636849522286,7.089096625338873,7.390667950727907,7.089096625338873,7.390667950727907,6.795636849522286,6.510231339386171,6.2330228066640005,5.7028904648510705,5.450044783736421,4.968652145458127,5.205312198750225,4.968652145458127,4.74016249761542,4.74016249761542,4.968652145458127,4.519793478573949,4.307551192388364,3.7194910606262446,3.368043215441792,3.049090060091378,2.7626580075216274,2.3938850861789596,2.2872113300941854,2.0982079016428705,2.1886387002555856,2.0982079016428705,2.0982079016428705],\"type\":\"scatter\"}],                        {\"template\":{\"data\":{\"barpolar\":[{\"marker\":{\"line\":{\"color\":\"white\",\"width\":0.5},\"pattern\":{\"fillmode\":\"overlay\",\"size\":10,\"solidity\":0.2}},\"type\":\"barpolar\"}],\"bar\":[{\"error_x\":{\"color\":\"#2a3f5f\"},\"error_y\":{\"color\":\"#2a3f5f\"},\"marker\":{\"line\":{\"color\":\"white\",\"width\":0.5},\"pattern\":{\"fillmode\":\"overlay\",\"size\":10,\"solidity\":0.2}},\"type\":\"bar\"}],\"carpet\":[{\"aaxis\":{\"endlinecolor\":\"#2a3f5f\",\"gridcolor\":\"#C8D4E3\",\"linecolor\":\"#C8D4E3\",\"minorgridcolor\":\"#C8D4E3\",\"startlinecolor\":\"#2a3f5f\"},\"baxis\":{\"endlinecolor\":\"#2a3f5f\",\"gridcolor\":\"#C8D4E3\",\"linecolor\":\"#C8D4E3\",\"minorgridcolor\":\"#C8D4E3\",\"startlinecolor\":\"#2a3f5f\"},\"type\":\"carpet\"}],\"choropleth\":[{\"colorbar\":{\"outlinewidth\":0,\"ticks\":\"\"},\"type\":\"choropleth\"}],\"contourcarpet\":[{\"colorbar\":{\"outlinewidth\":0,\"ticks\":\"\"},\"type\":\"contourcarpet\"}],\"contour\":[{\"colorbar\":{\"outlinewidth\":0,\"ticks\":\"\"},\"colorscale\":[[0.0,\"#0d0887\"],[0.1111111111111111,\"#46039f\"],[0.2222222222222222,\"#7201a8\"],[0.3333333333333333,\"#9c179e\"],[0.4444444444444444,\"#bd3786\"],[0.5555555555555556,\"#d8576b\"],[0.6666666666666666,\"#ed7953\"],[0.7777777777777778,\"#fb9f3a\"],[0.8888888888888888,\"#fdca26\"],[1.0,\"#f0f921\"]],\"type\":\"contour\"}],\"heatmapgl\":[{\"colorbar\":{\"outlinewidth\":0,\"ticks\":\"\"},\"colorscale\":[[0.0,\"#0d0887\"],[0.1111111111111111,\"#46039f\"],[0.2222222222222222,\"#7201a8\"],[0.3333333333333333,\"#9c179e\"],[0.4444444444444444,\"#bd3786\"],[0.5555555555555556,\"#d8576b\"],[0.6666666666666666,\"#ed7953\"],[0.7777777777777778,\"#fb9f3a\"],[0.8888888888888888,\"#fdca26\"],[1.0,\"#f0f921\"]],\"type\":\"heatmapgl\"}],\"heatmap\":[{\"colorbar\":{\"outlinewidth\":0,\"ticks\":\"\"},\"colorscale\":[[0.0,\"#0d0887\"],[0.1111111111111111,\"#46039f\"],[0.2222222222222222,\"#7201a8\"],[0.3333333333333333,\"#9c179e\"],[0.4444444444444444,\"#bd3786\"],[0.5555555555555556,\"#d8576b\"],[0.6666666666666666,\"#ed7953\"],[0.7777777777777778,\"#fb9f3a\"],[0.8888888888888888,\"#fdca26\"],[1.0,\"#f0f921\"]],\"type\":\"heatmap\"}],\"histogram2dcontour\":[{\"colorbar\":{\"outlinewidth\":0,\"ticks\":\"\"},\"colorscale\":[[0.0,\"#0d0887\"],[0.1111111111111111,\"#46039f\"],[0.2222222222222222,\"#7201a8\"],[0.3333333333333333,\"#9c179e\"],[0.4444444444444444,\"#bd3786\"],[0.5555555555555556,\"#d8576b\"],[0.6666666666666666,\"#ed7953\"],[0.7777777777777778,\"#fb9f3a\"],[0.8888888888888888,\"#fdca26\"],[1.0,\"#f0f921\"]],\"type\":\"histogram2dcontour\"}],\"histogram2d\":[{\"colorbar\":{\"outlinewidth\":0,\"ticks\":\"\"},\"colorscale\":[[0.0,\"#0d0887\"],[0.1111111111111111,\"#46039f\"],[0.2222222222222222,\"#7201a8\"],[0.3333333333333333,\"#9c179e\"],[0.4444444444444444,\"#bd3786\"],[0.5555555555555556,\"#d8576b\"],[0.6666666666666666,\"#ed7953\"],[0.7777777777777778,\"#fb9f3a\"],[0.8888888888888888,\"#fdca26\"],[1.0,\"#f0f921\"]],\"type\":\"histogram2d\"}],\"histogram\":[{\"marker\":{\"pattern\":{\"fillmode\":\"overlay\",\"size\":10,\"solidity\":0.2}},\"type\":\"histogram\"}],\"mesh3d\":[{\"colorbar\":{\"outlinewidth\":0,\"ticks\":\"\"},\"type\":\"mesh3d\"}],\"parcoords\":[{\"line\":{\"colorbar\":{\"outlinewidth\":0,\"ticks\":\"\"}},\"type\":\"parcoords\"}],\"pie\":[{\"automargin\":true,\"type\":\"pie\"}],\"scatter3d\":[{\"line\":{\"colorbar\":{\"outlinewidth\":0,\"ticks\":\"\"}},\"marker\":{\"colorbar\":{\"outlinewidth\":0,\"ticks\":\"\"}},\"type\":\"scatter3d\"}],\"scattercarpet\":[{\"marker\":{\"colorbar\":{\"outlinewidth\":0,\"ticks\":\"\"}},\"type\":\"scattercarpet\"}],\"scattergeo\":[{\"marker\":{\"colorbar\":{\"outlinewidth\":0,\"ticks\":\"\"}},\"type\":\"scattergeo\"}],\"scattergl\":[{\"marker\":{\"colorbar\":{\"outlinewidth\":0,\"ticks\":\"\"}},\"type\":\"scattergl\"}],\"scattermapbox\":[{\"marker\":{\"colorbar\":{\"outlinewidth\":0,\"ticks\":\"\"}},\"type\":\"scattermapbox\"}],\"scatterpolargl\":[{\"marker\":{\"colorbar\":{\"outlinewidth\":0,\"ticks\":\"\"}},\"type\":\"scatterpolargl\"}],\"scatterpolar\":[{\"marker\":{\"colorbar\":{\"outlinewidth\":0,\"ticks\":\"\"}},\"type\":\"scatterpolar\"}],\"scatter\":[{\"fillpattern\":{\"fillmode\":\"overlay\",\"size\":10,\"solidity\":0.2},\"type\":\"scatter\"}],\"scatterternary\":[{\"marker\":{\"colorbar\":{\"outlinewidth\":0,\"ticks\":\"\"}},\"type\":\"scatterternary\"}],\"surface\":[{\"colorbar\":{\"outlinewidth\":0,\"ticks\":\"\"},\"colorscale\":[[0.0,\"#0d0887\"],[0.1111111111111111,\"#46039f\"],[0.2222222222222222,\"#7201a8\"],[0.3333333333333333,\"#9c179e\"],[0.4444444444444444,\"#bd3786\"],[0.5555555555555556,\"#d8576b\"],[0.6666666666666666,\"#ed7953\"],[0.7777777777777778,\"#fb9f3a\"],[0.8888888888888888,\"#fdca26\"],[1.0,\"#f0f921\"]],\"type\":\"surface\"}],\"table\":[{\"cells\":{\"fill\":{\"color\":\"#EBF0F8\"},\"line\":{\"color\":\"white\"}},\"header\":{\"fill\":{\"color\":\"#C8D4E3\"},\"line\":{\"color\":\"white\"}},\"type\":\"table\"}]},\"layout\":{\"annotationdefaults\":{\"arrowcolor\":\"#2a3f5f\",\"arrowhead\":0,\"arrowwidth\":1},\"autotypenumbers\":\"strict\",\"coloraxis\":{\"colorbar\":{\"outlinewidth\":0,\"ticks\":\"\"}},\"colorscale\":{\"diverging\":[[0,\"#8e0152\"],[0.1,\"#c51b7d\"],[0.2,\"#de77ae\"],[0.3,\"#f1b6da\"],[0.4,\"#fde0ef\"],[0.5,\"#f7f7f7\"],[0.6,\"#e6f5d0\"],[0.7,\"#b8e186\"],[0.8,\"#7fbc41\"],[0.9,\"#4d9221\"],[1,\"#276419\"]],\"sequential\":[[0.0,\"#0d0887\"],[0.1111111111111111,\"#46039f\"],[0.2222222222222222,\"#7201a8\"],[0.3333333333333333,\"#9c179e\"],[0.4444444444444444,\"#bd3786\"],[0.5555555555555556,\"#d8576b\"],[0.6666666666666666,\"#ed7953\"],[0.7777777777777778,\"#fb9f3a\"],[0.8888888888888888,\"#fdca26\"],[1.0,\"#f0f921\"]],\"sequentialminus\":[[0.0,\"#0d0887\"],[0.1111111111111111,\"#46039f\"],[0.2222222222222222,\"#7201a8\"],[0.3333333333333333,\"#9c179e\"],[0.4444444444444444,\"#bd3786\"],[0.5555555555555556,\"#d8576b\"],[0.6666666666666666,\"#ed7953\"],[0.7777777777777778,\"#fb9f3a\"],[0.8888888888888888,\"#fdca26\"],[1.0,\"#f0f921\"]]},\"colorway\":[\"#636efa\",\"#EF553B\",\"#00cc96\",\"#ab63fa\",\"#FFA15A\",\"#19d3f3\",\"#FF6692\",\"#B6E880\",\"#FF97FF\",\"#FECB52\"],\"font\":{\"color\":\"#2a3f5f\"},\"geo\":{\"bgcolor\":\"white\",\"lakecolor\":\"white\",\"landcolor\":\"white\",\"showlakes\":true,\"showland\":true,\"subunitcolor\":\"#C8D4E3\"},\"hoverlabel\":{\"align\":\"left\"},\"hovermode\":\"closest\",\"mapbox\":{\"style\":\"light\"},\"paper_bgcolor\":\"white\",\"plot_bgcolor\":\"white\",\"polar\":{\"angularaxis\":{\"gridcolor\":\"#EBF0F8\",\"linecolor\":\"#EBF0F8\",\"ticks\":\"\"},\"bgcolor\":\"white\",\"radialaxis\":{\"gridcolor\":\"#EBF0F8\",\"linecolor\":\"#EBF0F8\",\"ticks\":\"\"}},\"scene\":{\"xaxis\":{\"backgroundcolor\":\"white\",\"gridcolor\":\"#DFE8F3\",\"gridwidth\":2,\"linecolor\":\"#EBF0F8\",\"showbackground\":true,\"ticks\":\"\",\"zerolinecolor\":\"#EBF0F8\"},\"yaxis\":{\"backgroundcolor\":\"white\",\"gridcolor\":\"#DFE8F3\",\"gridwidth\":2,\"linecolor\":\"#EBF0F8\",\"showbackground\":true,\"ticks\":\"\",\"zerolinecolor\":\"#EBF0F8\"},\"zaxis\":{\"backgroundcolor\":\"white\",\"gridcolor\":\"#DFE8F3\",\"gridwidth\":2,\"linecolor\":\"#EBF0F8\",\"showbackground\":true,\"ticks\":\"\",\"zerolinecolor\":\"#EBF0F8\"}},\"shapedefaults\":{\"line\":{\"color\":\"#2a3f5f\"}},\"ternary\":{\"aaxis\":{\"gridcolor\":\"#DFE8F3\",\"linecolor\":\"#A2B1C6\",\"ticks\":\"\"},\"baxis\":{\"gridcolor\":\"#DFE8F3\",\"linecolor\":\"#A2B1C6\",\"ticks\":\"\"},\"bgcolor\":\"white\",\"caxis\":{\"gridcolor\":\"#DFE8F3\",\"linecolor\":\"#A2B1C6\",\"ticks\":\"\"}},\"title\":{\"x\":0.05},\"xaxis\":{\"automargin\":true,\"gridcolor\":\"#EBF0F8\",\"linecolor\":\"#EBF0F8\",\"ticks\":\"\",\"title\":{\"standoff\":15},\"zerolinecolor\":\"#EBF0F8\",\"zerolinewidth\":2},\"yaxis\":{\"automargin\":true,\"gridcolor\":\"#EBF0F8\",\"linecolor\":\"#EBF0F8\",\"ticks\":\"\",\"title\":{\"standoff\":15},\"zerolinecolor\":\"#EBF0F8\",\"zerolinewidth\":2}}},\"legend\":{\"x\":1.05,\"y\":1,\"traceorder\":\"normal\",\"orientation\":\"v\"},\"title\":{\"text\":\"\\u041f\\u0440\\u0435\\u0434\\u043f\\u043e\\u043b\\u0430\\u0433\\u0430\\u0435\\u043c\\u0430\\u044f \\u043c\\u043e\\u0434\\u0435\\u043b\\u044c - \\u041f\\u043e\\u043b\\u0438\\u043d\\u043e\\u043c\"},\"xaxis\":{\"title\":{\"text\":\"K2065G_2_POROSITY\"}},\"yaxis\":{\"title\":{\"text\":\"K2065G_2_PERMEABILITY\"}}},                        {\"responsive\": true}                    ).then(function(){\n                            \nvar gd = document.getElementById('cdf7893c-d769-47d9-ae34-a35e9129f2fb');\nvar x = new MutationObserver(function (mutations, observer) {{\n        var display = window.getComputedStyle(gd).display;\n        if (!display || display === 'none') {{\n            console.log([gd, 'removed!']);\n            Plotly.purge(gd);\n            observer.disconnect();\n        }}\n}});\n\n// Listen for the removal of the full notebook cells\nvar notebookContainer = gd.closest('#notebook-container');\nif (notebookContainer) {{\n    x.observe(notebookContainer, {childList: true});\n}}\n\n// Listen for the clearing of the current output cell\nvar outputEl = gd.closest('.output');\nif (outputEl) {{\n    x.observe(outputEl, {childList: true});\n}}\n\n                        })                };                });            </script>        </div>"
     },
     "metadata": {},
     "output_type": "display_data"
    },
    {
     "data": {
      "application/vnd.plotly.v1+json": {
       "data": [
        {
         "marker": {
          "color": "blue"
         },
         "mode": "markers",
         "name": "Данные",
         "x": [
          0.1702211499,
          0.1692114919,
          0.1682019383,
          0.1682019383,
          0.1676971763,
          0.1666875035,
          0.1651730686,
          0.1641634107,
          0.1631538719,
          0.1626489758,
          0.1621442139,
          0.1621442139,
          0.1626489758,
          0.1631538719,
          0.1631538719,
          0.1631538719,
          0.1626489758,
          0.1626489758,
          0.1626489758,
          0.1621442139,
          0.1611346602,
          0.1611346602,
          0.1616394371,
          0.1616394371,
          0.1611346602,
          0.1616394371,
          0.1611346602,
          0.1611346602,
          0.1606297791,
          0.1606297791,
          0.1606297791,
          0.1596202254,
          0.1596202254,
          0.1596202254,
          0.1591153443,
          0.1586105675,
          0.1591153443,
          0.1596202254,
          0.1591153443,
          0.1586105675,
          0.1586105675,
          0.1591153443,
          0.1591153443,
          0.1586105675,
          0.1586105675,
          0.1586105675,
          0.1586105675,
          0.1586105675,
          0.1586105675,
          0.1591153443,
          0.1591153443,
          0.1601250023,
          0.1611346602,
          0.1616394371,
          0.1636586487,
          0.1641634107,
          0.1656778455,
          0.1676971763,
          0.1682019383,
          0.1707259119,
          0.1712308079,
          0.1727452427,
          0.1747644544,
          0.1757739931,
          0.1757739931,
          0.1762788892,
          0.1757739931,
          0.1757739931,
          0.1747644544,
          0.1737547815,
          0.1737547815,
          0.1732500196,
          0.1727452427,
          0.1732500196,
          0.1737547815,
          0.1732500196,
          0.1737547815,
          0.1727452427,
          0.1722403467,
          0.1717355847,
          0.1707259119,
          0.1702211499,
          0.1692114919,
          0.1697163731,
          0.1692114919,
          0.1687067151,
          0.1687067151,
          0.1692114919,
          0.1682019383,
          0.1676971763,
          0.1661827415,
          0.1651730686,
          0.1641634107,
          0.1631538719,
          0.1616394371,
          0.1611346602,
          0.1601250023,
          0.1606297791,
          0.1601250023,
          0.1601250023
         ],
         "y": [
          5.305978775,
          4.8371400833,
          4.4056649208,
          4.4056649208,
          4.2031207085,
          3.8228139877,
          3.3101279736,
          3.0036234856,
          2.7229943275,
          2.5917332172,
          2.4662578106,
          2.4662578106,
          2.5917332172,
          2.7229943275,
          2.7229943275,
          2.7229943275,
          2.5917332172,
          2.5917332172,
          2.5917332172,
          2.4662578106,
          2.2316713333,
          2.2316713333,
          2.3463072777,
          2.3463072777,
          2.2316713333,
          2.3463072777,
          2.2316713333,
          2.2316713333,
          2.1221199036,
          2.1221199036,
          2.1221199036,
          1.917586565,
          1.917586565,
          1.917586565,
          1.8221800327,
          1.7311353683,
          1.8221800327,
          1.917586565,
          1.8221800327,
          1.7311353683,
          1.7311353683,
          1.8221800327,
          1.8221800327,
          1.7311353683,
          1.7311353683,
          1.7311353683,
          1.7311353683,
          1.7311353683,
          1.7311353683,
          1.8221800327,
          1.8221800327,
          2.0174975395,
          2.2316713333,
          2.3463072777,
          2.860203743,
          3.0036234856,
          3.4736862183,
          4.2031207085,
          4.4056649208,
          5.5551991463,
          5.8148417473,
          6.6594138145,
          7.9533457756,
          8.6795578003,
          8.6795578003,
          9.0640964508,
          8.6795578003,
          8.6795578003,
          7.9533457756,
          7.2810263634,
          7.2810263634,
          6.9641022682,
          6.6594138145,
          6.9641022682,
          7.2810263634,
          6.9641022682,
          7.2810263634,
          6.6594138145,
          6.3665060997,
          6.0851373672,
          5.5551991463,
          5.305978775,
          4.8371400833,
          5.0667529106,
          4.8371400833,
          4.6169013977,
          4.6169013977,
          4.8371400833,
          4.4056649208,
          4.2031207085,
          3.6445188522,
          3.3101279736,
          3.0036234856,
          2.7229943275,
          2.3463072777,
          2.2316713333,
          2.0174975395,
          2.1221199036,
          2.0174975395,
          2.0174975395
         ],
         "type": "scatter"
        },
        {
         "line": {
          "color": "purple"
         },
         "mode": "lines",
         "name": "Кубический: y=378997.4291x^3 + -173843.3819x^2 + 26724.7638x + -1375.9510, R²=1.0000, SSR = 0.0",
         "x": [
          0.1702211499,
          0.1692114919,
          0.1682019383,
          0.1682019383,
          0.1676971763,
          0.1666875035,
          0.1651730686,
          0.1641634107,
          0.1631538719,
          0.1626489758,
          0.1621442139,
          0.1621442139,
          0.1626489758,
          0.1631538719,
          0.1631538719,
          0.1631538719,
          0.1626489758,
          0.1626489758,
          0.1626489758,
          0.1621442139,
          0.1611346602,
          0.1611346602,
          0.1616394371,
          0.1616394371,
          0.1611346602,
          0.1616394371,
          0.1611346602,
          0.1611346602,
          0.1606297791,
          0.1606297791,
          0.1606297791,
          0.1596202254,
          0.1596202254,
          0.1596202254,
          0.1591153443,
          0.1586105675,
          0.1591153443,
          0.1596202254,
          0.1591153443,
          0.1586105675,
          0.1586105675,
          0.1591153443,
          0.1591153443,
          0.1586105675,
          0.1586105675,
          0.1586105675,
          0.1586105675,
          0.1586105675,
          0.1586105675,
          0.1591153443,
          0.1591153443,
          0.1601250023,
          0.1611346602,
          0.1616394371,
          0.1636586487,
          0.1641634107,
          0.1656778455,
          0.1676971763,
          0.1682019383,
          0.1707259119,
          0.1712308079,
          0.1727452427,
          0.1747644544,
          0.1757739931,
          0.1757739931,
          0.1762788892,
          0.1757739931,
          0.1757739931,
          0.1747644544,
          0.1737547815,
          0.1737547815,
          0.1732500196,
          0.1727452427,
          0.1732500196,
          0.1737547815,
          0.1732500196,
          0.1737547815,
          0.1727452427,
          0.1722403467,
          0.1717355847,
          0.1707259119,
          0.1702211499,
          0.1692114919,
          0.1697163731,
          0.1692114919,
          0.1687067151,
          0.1687067151,
          0.1692114919,
          0.1682019383,
          0.1676971763,
          0.1661827415,
          0.1651730686,
          0.1641634107,
          0.1631538719,
          0.1616394371,
          0.1611346602,
          0.1601250023,
          0.1606297791,
          0.1601250023,
          0.1601250023
         ],
         "y": [
          5.305990298633105,
          4.835240576017668,
          4.4023513403260495,
          4.4023513403260495,
          4.199360030546586,
          3.8187548772682476,
          3.3070784659737456,
          3.002006015840152,
          2.7230805509886977,
          2.592645670498996,
          2.4678959563477747,
          2.4678959563477747,
          2.592645670498996,
          2.7230805509886977,
          2.7230805509886977,
          2.7230805509886977,
          2.592645670498996,
          2.592645670498996,
          2.592645670498996,
          2.4678959563477747,
          2.234169272315512,
          2.234169272315512,
          2.3485000671782927,
          2.3485000671782927,
          2.234169272315512,
          2.3485000671782927,
          2.234169272315512,
          2.234169272315512,
          2.1245889795538915,
          2.1245889795538915,
          2.1245889795538915,
          1.918622472810739,
          1.918622472810739,
          1.918622472810739,
          1.8216085536676019,
          1.7282176991791403,
          1.8216085536676019,
          1.918622472810739,
          1.8216085536676019,
          1.7282176991791403,
          1.7282176991791403,
          1.8216085536676019,
          1.8216085536676019,
          1.7282176991791403,
          1.7282176991791403,
          1.7282176991791403,
          1.7282176991791403,
          1.7282176991791403,
          1.7282176991791403,
          1.8216085536676019,
          1.8216085536676019,
          2.0195119173774856,
          2.234169272315512,
          2.3485000671782927,
          2.859427886457297,
          3.002006015840152,
          3.4701222337587296,
          4.199360030546586,
          4.4023513403260495,
          5.556244270608431,
          5.816898126122169,
          6.663645253675668,
          7.9550039995717725,
          8.675490835237952,
          8.675490835237952,
          9.055566777580907,
          8.675490835237952,
          8.675490835237952,
          7.9550039995717725,
          7.28510944607774,
          7.28510944607774,
          6.96848593677737,
          6.663645253675668,
          6.96848593677737,
          7.28510944607774,
          6.96848593677737,
          7.28510944607774,
          6.663645253675668,
          6.370236632345723,
          6.088114131991233,
          5.556244270608431,
          5.305990298633105,
          4.835240576017668,
          5.065766289141493,
          4.835240576017668,
          4.6142159727476155,
          4.6142159727476155,
          4.835240576017668,
          4.4023513403260495,
          4.199360030546586,
          3.6406121302632073,
          3.3070784659737456,
          3.002006015840152,
          2.7230805509886977,
          2.3485000671782927,
          2.234169272315512,
          2.0195119173774856,
          2.1245889795538915,
          2.0195119173774856,
          2.0195119173774856
         ],
         "type": "scatter"
        },
        {
         "line": {
          "color": "lightgrey",
          "dash": "dash"
         },
         "mode": "lines",
         "name": "Нижняя граница",
         "x": [
          0.1702211499,
          0.1692114919,
          0.1682019383,
          0.1682019383,
          0.1676971763,
          0.1666875035,
          0.1651730686,
          0.1641634107,
          0.1631538719,
          0.1626489758,
          0.1621442139,
          0.1621442139,
          0.1626489758,
          0.1631538719,
          0.1631538719,
          0.1631538719,
          0.1626489758,
          0.1626489758,
          0.1626489758,
          0.1621442139,
          0.1611346602,
          0.1611346602,
          0.1616394371,
          0.1616394371,
          0.1611346602,
          0.1616394371,
          0.1611346602,
          0.1611346602,
          0.1606297791,
          0.1606297791,
          0.1606297791,
          0.1596202254,
          0.1596202254,
          0.1596202254,
          0.1591153443,
          0.1586105675,
          0.1591153443,
          0.1596202254,
          0.1591153443,
          0.1586105675,
          0.1586105675,
          0.1591153443,
          0.1591153443,
          0.1586105675,
          0.1586105675,
          0.1586105675,
          0.1586105675,
          0.1586105675,
          0.1586105675,
          0.1591153443,
          0.1591153443,
          0.1601250023,
          0.1611346602,
          0.1616394371,
          0.1636586487,
          0.1641634107,
          0.1656778455,
          0.1676971763,
          0.1682019383,
          0.1707259119,
          0.1712308079,
          0.1727452427,
          0.1747644544,
          0.1757739931,
          0.1757739931,
          0.1762788892,
          0.1757739931,
          0.1757739931,
          0.1747644544,
          0.1737547815,
          0.1737547815,
          0.1732500196,
          0.1727452427,
          0.1732500196,
          0.1737547815,
          0.1732500196,
          0.1737547815,
          0.1727452427,
          0.1722403467,
          0.1717355847,
          0.1707259119,
          0.1702211499,
          0.1692114919,
          0.1697163731,
          0.1692114919,
          0.1687067151,
          0.1687067151,
          0.1692114919,
          0.1682019383,
          0.1676971763,
          0.1661827415,
          0.1651730686,
          0.1641634107,
          0.1631538719,
          0.1616394371,
          0.1611346602,
          0.1601250023,
          0.1606297791,
          0.1601250023,
          0.1601250023
         ],
         "y": [
          5.3005792410264,
          4.829829518410962,
          4.396940282719344,
          4.396940282719344,
          4.1939489729398804,
          3.813343819661542,
          3.30166740836704,
          2.9965949582334463,
          2.717669493381992,
          2.5872346128922903,
          2.462484898741069,
          2.462484898741069,
          2.5872346128922903,
          2.717669493381992,
          2.717669493381992,
          2.717669493381992,
          2.5872346128922903,
          2.5872346128922903,
          2.5872346128922903,
          2.462484898741069,
          2.2287582147088063,
          2.2287582147088063,
          2.343089009571587,
          2.343089009571587,
          2.2287582147088063,
          2.343089009571587,
          2.2287582147088063,
          2.2287582147088063,
          2.119177921947186,
          2.119177921947186,
          2.119177921947186,
          1.9132114152040334,
          1.9132114152040334,
          1.9132114152040334,
          1.8161974960608962,
          1.7228066415724346,
          1.8161974960608962,
          1.9132114152040334,
          1.8161974960608962,
          1.7228066415724346,
          1.7228066415724346,
          1.8161974960608962,
          1.8161974960608962,
          1.7228066415724346,
          1.7228066415724346,
          1.7228066415724346,
          1.7228066415724346,
          1.7228066415724346,
          1.7228066415724346,
          1.8161974960608962,
          1.8161974960608962,
          2.01410085977078,
          2.2287582147088063,
          2.343089009571587,
          2.8540168288505914,
          2.9965949582334463,
          3.464711176152024,
          4.1939489729398804,
          4.396940282719344,
          5.5508332130017255,
          5.811487068515463,
          6.658234196068962,
          7.949592941965067,
          8.670079777631246,
          8.670079777631246,
          9.050155719974201,
          8.670079777631246,
          8.670079777631246,
          7.949592941965067,
          7.279698388471035,
          7.279698388471035,
          6.963074879170664,
          6.658234196068962,
          6.963074879170664,
          7.279698388471035,
          6.963074879170664,
          7.279698388471035,
          6.658234196068962,
          6.364825574739017,
          6.082703074384527,
          5.5508332130017255,
          5.3005792410264,
          4.829829518410962,
          5.060355231534787,
          4.829829518410962,
          4.60880491514091,
          4.60880491514091,
          4.829829518410962,
          4.396940282719344,
          4.1939489729398804,
          3.6352010726565016,
          3.30166740836704,
          2.9965949582334463,
          2.717669493381992,
          2.343089009571587,
          2.2287582147088063,
          2.01410085977078,
          2.119177921947186,
          2.01410085977078,
          2.01410085977078
         ],
         "type": "scatter"
        },
        {
         "line": {
          "color": "lightgrey",
          "dash": "dash"
         },
         "mode": "lines",
         "name": "Верхняя граница",
         "x": [
          0.1702211499,
          0.1692114919,
          0.1682019383,
          0.1682019383,
          0.1676971763,
          0.1666875035,
          0.1651730686,
          0.1641634107,
          0.1631538719,
          0.1626489758,
          0.1621442139,
          0.1621442139,
          0.1626489758,
          0.1631538719,
          0.1631538719,
          0.1631538719,
          0.1626489758,
          0.1626489758,
          0.1626489758,
          0.1621442139,
          0.1611346602,
          0.1611346602,
          0.1616394371,
          0.1616394371,
          0.1611346602,
          0.1616394371,
          0.1611346602,
          0.1611346602,
          0.1606297791,
          0.1606297791,
          0.1606297791,
          0.1596202254,
          0.1596202254,
          0.1596202254,
          0.1591153443,
          0.1586105675,
          0.1591153443,
          0.1596202254,
          0.1591153443,
          0.1586105675,
          0.1586105675,
          0.1591153443,
          0.1591153443,
          0.1586105675,
          0.1586105675,
          0.1586105675,
          0.1586105675,
          0.1586105675,
          0.1586105675,
          0.1591153443,
          0.1591153443,
          0.1601250023,
          0.1611346602,
          0.1616394371,
          0.1636586487,
          0.1641634107,
          0.1656778455,
          0.1676971763,
          0.1682019383,
          0.1707259119,
          0.1712308079,
          0.1727452427,
          0.1747644544,
          0.1757739931,
          0.1757739931,
          0.1762788892,
          0.1757739931,
          0.1757739931,
          0.1747644544,
          0.1737547815,
          0.1737547815,
          0.1732500196,
          0.1727452427,
          0.1732500196,
          0.1737547815,
          0.1732500196,
          0.1737547815,
          0.1727452427,
          0.1722403467,
          0.1717355847,
          0.1707259119,
          0.1702211499,
          0.1692114919,
          0.1697163731,
          0.1692114919,
          0.1687067151,
          0.1687067151,
          0.1692114919,
          0.1682019383,
          0.1676971763,
          0.1661827415,
          0.1651730686,
          0.1641634107,
          0.1631538719,
          0.1616394371,
          0.1611346602,
          0.1601250023,
          0.1606297791,
          0.1601250023,
          0.1601250023
         ],
         "y": [
          5.311401356239811,
          4.840651633624374,
          4.407762397932755,
          4.407762397932755,
          4.204771088153292,
          3.8241659348749533,
          3.3124895235804512,
          3.0074170734468577,
          2.7284916085954034,
          2.5980567281057017,
          2.4733070139544804,
          2.4733070139544804,
          2.5980567281057017,
          2.7284916085954034,
          2.7284916085954034,
          2.7284916085954034,
          2.5980567281057017,
          2.5980567281057017,
          2.5980567281057017,
          2.4733070139544804,
          2.2395803299222177,
          2.2395803299222177,
          2.3539111247849984,
          2.3539111247849984,
          2.2395803299222177,
          2.3539111247849984,
          2.2395803299222177,
          2.2395803299222177,
          2.130000037160597,
          2.130000037160597,
          2.130000037160597,
          1.9240335304174447,
          1.9240335304174447,
          1.9240335304174447,
          1.8270196112743076,
          1.733628756785846,
          1.8270196112743076,
          1.9240335304174447,
          1.8270196112743076,
          1.733628756785846,
          1.733628756785846,
          1.8270196112743076,
          1.8270196112743076,
          1.733628756785846,
          1.733628756785846,
          1.733628756785846,
          1.733628756785846,
          1.733628756785846,
          1.733628756785846,
          1.8270196112743076,
          1.8270196112743076,
          2.0249229749841913,
          2.2395803299222177,
          2.3539111247849984,
          2.8648389440640027,
          3.0074170734468577,
          3.4755332913654353,
          4.204771088153292,
          4.407762397932755,
          5.561655328215137,
          5.8223091837288745,
          6.6690563112823735,
          7.960415057178478,
          8.680901892844657,
          8.680901892844657,
          9.060977835187613,
          8.680901892844657,
          8.680901892844657,
          7.960415057178478,
          7.290520503684446,
          7.290520503684446,
          6.973896994384075,
          6.6690563112823735,
          6.973896994384075,
          7.290520503684446,
          6.973896994384075,
          7.290520503684446,
          6.6690563112823735,
          6.375647689952428,
          6.093525189597939,
          5.561655328215137,
          5.311401356239811,
          4.840651633624374,
          5.071177346748199,
          4.840651633624374,
          4.619627030354321,
          4.619627030354321,
          4.840651633624374,
          4.407762397932755,
          4.204771088153292,
          3.646023187869913,
          3.3124895235804512,
          3.0074170734468577,
          2.7284916085954034,
          2.3539111247849984,
          2.2395803299222177,
          2.0249229749841913,
          2.130000037160597,
          2.0249229749841913,
          2.0249229749841913
         ],
         "type": "scatter"
        }
       ],
       "layout": {
        "template": {
         "data": {
          "barpolar": [
           {
            "marker": {
             "line": {
              "color": "white",
              "width": 0.5
             },
             "pattern": {
              "fillmode": "overlay",
              "size": 10,
              "solidity": 0.2
             }
            },
            "type": "barpolar"
           }
          ],
          "bar": [
           {
            "error_x": {
             "color": "#2a3f5f"
            },
            "error_y": {
             "color": "#2a3f5f"
            },
            "marker": {
             "line": {
              "color": "white",
              "width": 0.5
             },
             "pattern": {
              "fillmode": "overlay",
              "size": 10,
              "solidity": 0.2
             }
            },
            "type": "bar"
           }
          ],
          "carpet": [
           {
            "aaxis": {
             "endlinecolor": "#2a3f5f",
             "gridcolor": "#C8D4E3",
             "linecolor": "#C8D4E3",
             "minorgridcolor": "#C8D4E3",
             "startlinecolor": "#2a3f5f"
            },
            "baxis": {
             "endlinecolor": "#2a3f5f",
             "gridcolor": "#C8D4E3",
             "linecolor": "#C8D4E3",
             "minorgridcolor": "#C8D4E3",
             "startlinecolor": "#2a3f5f"
            },
            "type": "carpet"
           }
          ],
          "choropleth": [
           {
            "colorbar": {
             "outlinewidth": 0,
             "ticks": ""
            },
            "type": "choropleth"
           }
          ],
          "contourcarpet": [
           {
            "colorbar": {
             "outlinewidth": 0,
             "ticks": ""
            },
            "type": "contourcarpet"
           }
          ],
          "contour": [
           {
            "colorbar": {
             "outlinewidth": 0,
             "ticks": ""
            },
            "colorscale": [
             [
              0.0,
              "#0d0887"
             ],
             [
              0.1111111111111111,
              "#46039f"
             ],
             [
              0.2222222222222222,
              "#7201a8"
             ],
             [
              0.3333333333333333,
              "#9c179e"
             ],
             [
              0.4444444444444444,
              "#bd3786"
             ],
             [
              0.5555555555555556,
              "#d8576b"
             ],
             [
              0.6666666666666666,
              "#ed7953"
             ],
             [
              0.7777777777777778,
              "#fb9f3a"
             ],
             [
              0.8888888888888888,
              "#fdca26"
             ],
             [
              1.0,
              "#f0f921"
             ]
            ],
            "type": "contour"
           }
          ],
          "heatmapgl": [
           {
            "colorbar": {
             "outlinewidth": 0,
             "ticks": ""
            },
            "colorscale": [
             [
              0.0,
              "#0d0887"
             ],
             [
              0.1111111111111111,
              "#46039f"
             ],
             [
              0.2222222222222222,
              "#7201a8"
             ],
             [
              0.3333333333333333,
              "#9c179e"
             ],
             [
              0.4444444444444444,
              "#bd3786"
             ],
             [
              0.5555555555555556,
              "#d8576b"
             ],
             [
              0.6666666666666666,
              "#ed7953"
             ],
             [
              0.7777777777777778,
              "#fb9f3a"
             ],
             [
              0.8888888888888888,
              "#fdca26"
             ],
             [
              1.0,
              "#f0f921"
             ]
            ],
            "type": "heatmapgl"
           }
          ],
          "heatmap": [
           {
            "colorbar": {
             "outlinewidth": 0,
             "ticks": ""
            },
            "colorscale": [
             [
              0.0,
              "#0d0887"
             ],
             [
              0.1111111111111111,
              "#46039f"
             ],
             [
              0.2222222222222222,
              "#7201a8"
             ],
             [
              0.3333333333333333,
              "#9c179e"
             ],
             [
              0.4444444444444444,
              "#bd3786"
             ],
             [
              0.5555555555555556,
              "#d8576b"
             ],
             [
              0.6666666666666666,
              "#ed7953"
             ],
             [
              0.7777777777777778,
              "#fb9f3a"
             ],
             [
              0.8888888888888888,
              "#fdca26"
             ],
             [
              1.0,
              "#f0f921"
             ]
            ],
            "type": "heatmap"
           }
          ],
          "histogram2dcontour": [
           {
            "colorbar": {
             "outlinewidth": 0,
             "ticks": ""
            },
            "colorscale": [
             [
              0.0,
              "#0d0887"
             ],
             [
              0.1111111111111111,
              "#46039f"
             ],
             [
              0.2222222222222222,
              "#7201a8"
             ],
             [
              0.3333333333333333,
              "#9c179e"
             ],
             [
              0.4444444444444444,
              "#bd3786"
             ],
             [
              0.5555555555555556,
              "#d8576b"
             ],
             [
              0.6666666666666666,
              "#ed7953"
             ],
             [
              0.7777777777777778,
              "#fb9f3a"
             ],
             [
              0.8888888888888888,
              "#fdca26"
             ],
             [
              1.0,
              "#f0f921"
             ]
            ],
            "type": "histogram2dcontour"
           }
          ],
          "histogram2d": [
           {
            "colorbar": {
             "outlinewidth": 0,
             "ticks": ""
            },
            "colorscale": [
             [
              0.0,
              "#0d0887"
             ],
             [
              0.1111111111111111,
              "#46039f"
             ],
             [
              0.2222222222222222,
              "#7201a8"
             ],
             [
              0.3333333333333333,
              "#9c179e"
             ],
             [
              0.4444444444444444,
              "#bd3786"
             ],
             [
              0.5555555555555556,
              "#d8576b"
             ],
             [
              0.6666666666666666,
              "#ed7953"
             ],
             [
              0.7777777777777778,
              "#fb9f3a"
             ],
             [
              0.8888888888888888,
              "#fdca26"
             ],
             [
              1.0,
              "#f0f921"
             ]
            ],
            "type": "histogram2d"
           }
          ],
          "histogram": [
           {
            "marker": {
             "pattern": {
              "fillmode": "overlay",
              "size": 10,
              "solidity": 0.2
             }
            },
            "type": "histogram"
           }
          ],
          "mesh3d": [
           {
            "colorbar": {
             "outlinewidth": 0,
             "ticks": ""
            },
            "type": "mesh3d"
           }
          ],
          "parcoords": [
           {
            "line": {
             "colorbar": {
              "outlinewidth": 0,
              "ticks": ""
             }
            },
            "type": "parcoords"
           }
          ],
          "pie": [
           {
            "automargin": true,
            "type": "pie"
           }
          ],
          "scatter3d": [
           {
            "line": {
             "colorbar": {
              "outlinewidth": 0,
              "ticks": ""
             }
            },
            "marker": {
             "colorbar": {
              "outlinewidth": 0,
              "ticks": ""
             }
            },
            "type": "scatter3d"
           }
          ],
          "scattercarpet": [
           {
            "marker": {
             "colorbar": {
              "outlinewidth": 0,
              "ticks": ""
             }
            },
            "type": "scattercarpet"
           }
          ],
          "scattergeo": [
           {
            "marker": {
             "colorbar": {
              "outlinewidth": 0,
              "ticks": ""
             }
            },
            "type": "scattergeo"
           }
          ],
          "scattergl": [
           {
            "marker": {
             "colorbar": {
              "outlinewidth": 0,
              "ticks": ""
             }
            },
            "type": "scattergl"
           }
          ],
          "scattermapbox": [
           {
            "marker": {
             "colorbar": {
              "outlinewidth": 0,
              "ticks": ""
             }
            },
            "type": "scattermapbox"
           }
          ],
          "scatterpolargl": [
           {
            "marker": {
             "colorbar": {
              "outlinewidth": 0,
              "ticks": ""
             }
            },
            "type": "scatterpolargl"
           }
          ],
          "scatterpolar": [
           {
            "marker": {
             "colorbar": {
              "outlinewidth": 0,
              "ticks": ""
             }
            },
            "type": "scatterpolar"
           }
          ],
          "scatter": [
           {
            "fillpattern": {
             "fillmode": "overlay",
             "size": 10,
             "solidity": 0.2
            },
            "type": "scatter"
           }
          ],
          "scatterternary": [
           {
            "marker": {
             "colorbar": {
              "outlinewidth": 0,
              "ticks": ""
             }
            },
            "type": "scatterternary"
           }
          ],
          "surface": [
           {
            "colorbar": {
             "outlinewidth": 0,
             "ticks": ""
            },
            "colorscale": [
             [
              0.0,
              "#0d0887"
             ],
             [
              0.1111111111111111,
              "#46039f"
             ],
             [
              0.2222222222222222,
              "#7201a8"
             ],
             [
              0.3333333333333333,
              "#9c179e"
             ],
             [
              0.4444444444444444,
              "#bd3786"
             ],
             [
              0.5555555555555556,
              "#d8576b"
             ],
             [
              0.6666666666666666,
              "#ed7953"
             ],
             [
              0.7777777777777778,
              "#fb9f3a"
             ],
             [
              0.8888888888888888,
              "#fdca26"
             ],
             [
              1.0,
              "#f0f921"
             ]
            ],
            "type": "surface"
           }
          ],
          "table": [
           {
            "cells": {
             "fill": {
              "color": "#EBF0F8"
             },
             "line": {
              "color": "white"
             }
            },
            "header": {
             "fill": {
              "color": "#C8D4E3"
             },
             "line": {
              "color": "white"
             }
            },
            "type": "table"
           }
          ]
         },
         "layout": {
          "annotationdefaults": {
           "arrowcolor": "#2a3f5f",
           "arrowhead": 0,
           "arrowwidth": 1
          },
          "autotypenumbers": "strict",
          "coloraxis": {
           "colorbar": {
            "outlinewidth": 0,
            "ticks": ""
           }
          },
          "colorscale": {
           "diverging": [
            [
             0,
             "#8e0152"
            ],
            [
             0.1,
             "#c51b7d"
            ],
            [
             0.2,
             "#de77ae"
            ],
            [
             0.3,
             "#f1b6da"
            ],
            [
             0.4,
             "#fde0ef"
            ],
            [
             0.5,
             "#f7f7f7"
            ],
            [
             0.6,
             "#e6f5d0"
            ],
            [
             0.7,
             "#b8e186"
            ],
            [
             0.8,
             "#7fbc41"
            ],
            [
             0.9,
             "#4d9221"
            ],
            [
             1,
             "#276419"
            ]
           ],
           "sequential": [
            [
             0.0,
             "#0d0887"
            ],
            [
             0.1111111111111111,
             "#46039f"
            ],
            [
             0.2222222222222222,
             "#7201a8"
            ],
            [
             0.3333333333333333,
             "#9c179e"
            ],
            [
             0.4444444444444444,
             "#bd3786"
            ],
            [
             0.5555555555555556,
             "#d8576b"
            ],
            [
             0.6666666666666666,
             "#ed7953"
            ],
            [
             0.7777777777777778,
             "#fb9f3a"
            ],
            [
             0.8888888888888888,
             "#fdca26"
            ],
            [
             1.0,
             "#f0f921"
            ]
           ],
           "sequentialminus": [
            [
             0.0,
             "#0d0887"
            ],
            [
             0.1111111111111111,
             "#46039f"
            ],
            [
             0.2222222222222222,
             "#7201a8"
            ],
            [
             0.3333333333333333,
             "#9c179e"
            ],
            [
             0.4444444444444444,
             "#bd3786"
            ],
            [
             0.5555555555555556,
             "#d8576b"
            ],
            [
             0.6666666666666666,
             "#ed7953"
            ],
            [
             0.7777777777777778,
             "#fb9f3a"
            ],
            [
             0.8888888888888888,
             "#fdca26"
            ],
            [
             1.0,
             "#f0f921"
            ]
           ]
          },
          "colorway": [
           "#636efa",
           "#EF553B",
           "#00cc96",
           "#ab63fa",
           "#FFA15A",
           "#19d3f3",
           "#FF6692",
           "#B6E880",
           "#FF97FF",
           "#FECB52"
          ],
          "font": {
           "color": "#2a3f5f"
          },
          "geo": {
           "bgcolor": "white",
           "lakecolor": "white",
           "landcolor": "white",
           "showlakes": true,
           "showland": true,
           "subunitcolor": "#C8D4E3"
          },
          "hoverlabel": {
           "align": "left"
          },
          "hovermode": "closest",
          "mapbox": {
           "style": "light"
          },
          "paper_bgcolor": "white",
          "plot_bgcolor": "white",
          "polar": {
           "angularaxis": {
            "gridcolor": "#EBF0F8",
            "linecolor": "#EBF0F8",
            "ticks": ""
           },
           "bgcolor": "white",
           "radialaxis": {
            "gridcolor": "#EBF0F8",
            "linecolor": "#EBF0F8",
            "ticks": ""
           }
          },
          "scene": {
           "xaxis": {
            "backgroundcolor": "white",
            "gridcolor": "#DFE8F3",
            "gridwidth": 2,
            "linecolor": "#EBF0F8",
            "showbackground": true,
            "ticks": "",
            "zerolinecolor": "#EBF0F8"
           },
           "yaxis": {
            "backgroundcolor": "white",
            "gridcolor": "#DFE8F3",
            "gridwidth": 2,
            "linecolor": "#EBF0F8",
            "showbackground": true,
            "ticks": "",
            "zerolinecolor": "#EBF0F8"
           },
           "zaxis": {
            "backgroundcolor": "white",
            "gridcolor": "#DFE8F3",
            "gridwidth": 2,
            "linecolor": "#EBF0F8",
            "showbackground": true,
            "ticks": "",
            "zerolinecolor": "#EBF0F8"
           }
          },
          "shapedefaults": {
           "line": {
            "color": "#2a3f5f"
           }
          },
          "ternary": {
           "aaxis": {
            "gridcolor": "#DFE8F3",
            "linecolor": "#A2B1C6",
            "ticks": ""
           },
           "baxis": {
            "gridcolor": "#DFE8F3",
            "linecolor": "#A2B1C6",
            "ticks": ""
           },
           "bgcolor": "white",
           "caxis": {
            "gridcolor": "#DFE8F3",
            "linecolor": "#A2B1C6",
            "ticks": ""
           }
          },
          "title": {
           "x": 0.05
          },
          "xaxis": {
           "automargin": true,
           "gridcolor": "#EBF0F8",
           "linecolor": "#EBF0F8",
           "ticks": "",
           "title": {
            "standoff": 15
           },
           "zerolinecolor": "#EBF0F8",
           "zerolinewidth": 2
          },
          "yaxis": {
           "automargin": true,
           "gridcolor": "#EBF0F8",
           "linecolor": "#EBF0F8",
           "ticks": "",
           "title": {
            "standoff": 15
           },
           "zerolinecolor": "#EBF0F8",
           "zerolinewidth": 2
          }
         }
        },
        "legend": {
         "x": 1.05,
         "y": 1,
         "traceorder": "normal",
         "orientation": "v"
        },
        "title": {
         "text": "Предполагаемая модель - Кубический"
        },
        "xaxis": {
         "title": {
          "text": "K2065G_2_POROSITY"
         }
        },
        "yaxis": {
         "title": {
          "text": "K2065G_2_PERMEABILITY"
         }
        }
       },
       "config": {
        "plotlyServerURL": "https://plot.ly"
       }
      },
      "text/html": "<div>                            <div id=\"86a38f05-a4cc-48e0-bca3-6bf1e1a23104\" class=\"plotly-graph-div\" style=\"height:525px; width:100%;\"></div>            <script type=\"text/javascript\">                require([\"plotly\"], function(Plotly) {                    window.PLOTLYENV=window.PLOTLYENV || {};                                    if (document.getElementById(\"86a38f05-a4cc-48e0-bca3-6bf1e1a23104\")) {                    Plotly.newPlot(                        \"86a38f05-a4cc-48e0-bca3-6bf1e1a23104\",                        [{\"marker\":{\"color\":\"blue\"},\"mode\":\"markers\",\"name\":\"\\u0414\\u0430\\u043d\\u043d\\u044b\\u0435\",\"x\":[0.1702211499,0.1692114919,0.1682019383,0.1682019383,0.1676971763,0.1666875035,0.1651730686,0.1641634107,0.1631538719,0.1626489758,0.1621442139,0.1621442139,0.1626489758,0.1631538719,0.1631538719,0.1631538719,0.1626489758,0.1626489758,0.1626489758,0.1621442139,0.1611346602,0.1611346602,0.1616394371,0.1616394371,0.1611346602,0.1616394371,0.1611346602,0.1611346602,0.1606297791,0.1606297791,0.1606297791,0.1596202254,0.1596202254,0.1596202254,0.1591153443,0.1586105675,0.1591153443,0.1596202254,0.1591153443,0.1586105675,0.1586105675,0.1591153443,0.1591153443,0.1586105675,0.1586105675,0.1586105675,0.1586105675,0.1586105675,0.1586105675,0.1591153443,0.1591153443,0.1601250023,0.1611346602,0.1616394371,0.1636586487,0.1641634107,0.1656778455,0.1676971763,0.1682019383,0.1707259119,0.1712308079,0.1727452427,0.1747644544,0.1757739931,0.1757739931,0.1762788892,0.1757739931,0.1757739931,0.1747644544,0.1737547815,0.1737547815,0.1732500196,0.1727452427,0.1732500196,0.1737547815,0.1732500196,0.1737547815,0.1727452427,0.1722403467,0.1717355847,0.1707259119,0.1702211499,0.1692114919,0.1697163731,0.1692114919,0.1687067151,0.1687067151,0.1692114919,0.1682019383,0.1676971763,0.1661827415,0.1651730686,0.1641634107,0.1631538719,0.1616394371,0.1611346602,0.1601250023,0.1606297791,0.1601250023,0.1601250023],\"y\":[5.305978775,4.8371400833,4.4056649208,4.4056649208,4.2031207085,3.8228139877,3.3101279736,3.0036234856,2.7229943275,2.5917332172,2.4662578106,2.4662578106,2.5917332172,2.7229943275,2.7229943275,2.7229943275,2.5917332172,2.5917332172,2.5917332172,2.4662578106,2.2316713333,2.2316713333,2.3463072777,2.3463072777,2.2316713333,2.3463072777,2.2316713333,2.2316713333,2.1221199036,2.1221199036,2.1221199036,1.917586565,1.917586565,1.917586565,1.8221800327,1.7311353683,1.8221800327,1.917586565,1.8221800327,1.7311353683,1.7311353683,1.8221800327,1.8221800327,1.7311353683,1.7311353683,1.7311353683,1.7311353683,1.7311353683,1.7311353683,1.8221800327,1.8221800327,2.0174975395,2.2316713333,2.3463072777,2.860203743,3.0036234856,3.4736862183,4.2031207085,4.4056649208,5.5551991463,5.8148417473,6.6594138145,7.9533457756,8.6795578003,8.6795578003,9.0640964508,8.6795578003,8.6795578003,7.9533457756,7.2810263634,7.2810263634,6.9641022682,6.6594138145,6.9641022682,7.2810263634,6.9641022682,7.2810263634,6.6594138145,6.3665060997,6.0851373672,5.5551991463,5.305978775,4.8371400833,5.0667529106,4.8371400833,4.6169013977,4.6169013977,4.8371400833,4.4056649208,4.2031207085,3.6445188522,3.3101279736,3.0036234856,2.7229943275,2.3463072777,2.2316713333,2.0174975395,2.1221199036,2.0174975395,2.0174975395],\"type\":\"scatter\"},{\"line\":{\"color\":\"purple\"},\"mode\":\"lines\",\"name\":\"\\u041a\\u0443\\u0431\\u0438\\u0447\\u0435\\u0441\\u043a\\u0438\\u0439: y=378997.4291x^3 + -173843.3819x^2 + 26724.7638x + -1375.9510, R\\u00b2=1.0000, SSR = 0.0\",\"x\":[0.1702211499,0.1692114919,0.1682019383,0.1682019383,0.1676971763,0.1666875035,0.1651730686,0.1641634107,0.1631538719,0.1626489758,0.1621442139,0.1621442139,0.1626489758,0.1631538719,0.1631538719,0.1631538719,0.1626489758,0.1626489758,0.1626489758,0.1621442139,0.1611346602,0.1611346602,0.1616394371,0.1616394371,0.1611346602,0.1616394371,0.1611346602,0.1611346602,0.1606297791,0.1606297791,0.1606297791,0.1596202254,0.1596202254,0.1596202254,0.1591153443,0.1586105675,0.1591153443,0.1596202254,0.1591153443,0.1586105675,0.1586105675,0.1591153443,0.1591153443,0.1586105675,0.1586105675,0.1586105675,0.1586105675,0.1586105675,0.1586105675,0.1591153443,0.1591153443,0.1601250023,0.1611346602,0.1616394371,0.1636586487,0.1641634107,0.1656778455,0.1676971763,0.1682019383,0.1707259119,0.1712308079,0.1727452427,0.1747644544,0.1757739931,0.1757739931,0.1762788892,0.1757739931,0.1757739931,0.1747644544,0.1737547815,0.1737547815,0.1732500196,0.1727452427,0.1732500196,0.1737547815,0.1732500196,0.1737547815,0.1727452427,0.1722403467,0.1717355847,0.1707259119,0.1702211499,0.1692114919,0.1697163731,0.1692114919,0.1687067151,0.1687067151,0.1692114919,0.1682019383,0.1676971763,0.1661827415,0.1651730686,0.1641634107,0.1631538719,0.1616394371,0.1611346602,0.1601250023,0.1606297791,0.1601250023,0.1601250023],\"y\":[5.305990298633105,4.835240576017668,4.4023513403260495,4.4023513403260495,4.199360030546586,3.8187548772682476,3.3070784659737456,3.002006015840152,2.7230805509886977,2.592645670498996,2.4678959563477747,2.4678959563477747,2.592645670498996,2.7230805509886977,2.7230805509886977,2.7230805509886977,2.592645670498996,2.592645670498996,2.592645670498996,2.4678959563477747,2.234169272315512,2.234169272315512,2.3485000671782927,2.3485000671782927,2.234169272315512,2.3485000671782927,2.234169272315512,2.234169272315512,2.1245889795538915,2.1245889795538915,2.1245889795538915,1.918622472810739,1.918622472810739,1.918622472810739,1.8216085536676019,1.7282176991791403,1.8216085536676019,1.918622472810739,1.8216085536676019,1.7282176991791403,1.7282176991791403,1.8216085536676019,1.8216085536676019,1.7282176991791403,1.7282176991791403,1.7282176991791403,1.7282176991791403,1.7282176991791403,1.7282176991791403,1.8216085536676019,1.8216085536676019,2.0195119173774856,2.234169272315512,2.3485000671782927,2.859427886457297,3.002006015840152,3.4701222337587296,4.199360030546586,4.4023513403260495,5.556244270608431,5.816898126122169,6.663645253675668,7.9550039995717725,8.675490835237952,8.675490835237952,9.055566777580907,8.675490835237952,8.675490835237952,7.9550039995717725,7.28510944607774,7.28510944607774,6.96848593677737,6.663645253675668,6.96848593677737,7.28510944607774,6.96848593677737,7.28510944607774,6.663645253675668,6.370236632345723,6.088114131991233,5.556244270608431,5.305990298633105,4.835240576017668,5.065766289141493,4.835240576017668,4.6142159727476155,4.6142159727476155,4.835240576017668,4.4023513403260495,4.199360030546586,3.6406121302632073,3.3070784659737456,3.002006015840152,2.7230805509886977,2.3485000671782927,2.234169272315512,2.0195119173774856,2.1245889795538915,2.0195119173774856,2.0195119173774856],\"type\":\"scatter\"},{\"line\":{\"color\":\"lightgrey\",\"dash\":\"dash\"},\"mode\":\"lines\",\"name\":\"\\u041d\\u0438\\u0436\\u043d\\u044f\\u044f \\u0433\\u0440\\u0430\\u043d\\u0438\\u0446\\u0430\",\"x\":[0.1702211499,0.1692114919,0.1682019383,0.1682019383,0.1676971763,0.1666875035,0.1651730686,0.1641634107,0.1631538719,0.1626489758,0.1621442139,0.1621442139,0.1626489758,0.1631538719,0.1631538719,0.1631538719,0.1626489758,0.1626489758,0.1626489758,0.1621442139,0.1611346602,0.1611346602,0.1616394371,0.1616394371,0.1611346602,0.1616394371,0.1611346602,0.1611346602,0.1606297791,0.1606297791,0.1606297791,0.1596202254,0.1596202254,0.1596202254,0.1591153443,0.1586105675,0.1591153443,0.1596202254,0.1591153443,0.1586105675,0.1586105675,0.1591153443,0.1591153443,0.1586105675,0.1586105675,0.1586105675,0.1586105675,0.1586105675,0.1586105675,0.1591153443,0.1591153443,0.1601250023,0.1611346602,0.1616394371,0.1636586487,0.1641634107,0.1656778455,0.1676971763,0.1682019383,0.1707259119,0.1712308079,0.1727452427,0.1747644544,0.1757739931,0.1757739931,0.1762788892,0.1757739931,0.1757739931,0.1747644544,0.1737547815,0.1737547815,0.1732500196,0.1727452427,0.1732500196,0.1737547815,0.1732500196,0.1737547815,0.1727452427,0.1722403467,0.1717355847,0.1707259119,0.1702211499,0.1692114919,0.1697163731,0.1692114919,0.1687067151,0.1687067151,0.1692114919,0.1682019383,0.1676971763,0.1661827415,0.1651730686,0.1641634107,0.1631538719,0.1616394371,0.1611346602,0.1601250023,0.1606297791,0.1601250023,0.1601250023],\"y\":[5.3005792410264,4.829829518410962,4.396940282719344,4.396940282719344,4.1939489729398804,3.813343819661542,3.30166740836704,2.9965949582334463,2.717669493381992,2.5872346128922903,2.462484898741069,2.462484898741069,2.5872346128922903,2.717669493381992,2.717669493381992,2.717669493381992,2.5872346128922903,2.5872346128922903,2.5872346128922903,2.462484898741069,2.2287582147088063,2.2287582147088063,2.343089009571587,2.343089009571587,2.2287582147088063,2.343089009571587,2.2287582147088063,2.2287582147088063,2.119177921947186,2.119177921947186,2.119177921947186,1.9132114152040334,1.9132114152040334,1.9132114152040334,1.8161974960608962,1.7228066415724346,1.8161974960608962,1.9132114152040334,1.8161974960608962,1.7228066415724346,1.7228066415724346,1.8161974960608962,1.8161974960608962,1.7228066415724346,1.7228066415724346,1.7228066415724346,1.7228066415724346,1.7228066415724346,1.7228066415724346,1.8161974960608962,1.8161974960608962,2.01410085977078,2.2287582147088063,2.343089009571587,2.8540168288505914,2.9965949582334463,3.464711176152024,4.1939489729398804,4.396940282719344,5.5508332130017255,5.811487068515463,6.658234196068962,7.949592941965067,8.670079777631246,8.670079777631246,9.050155719974201,8.670079777631246,8.670079777631246,7.949592941965067,7.279698388471035,7.279698388471035,6.963074879170664,6.658234196068962,6.963074879170664,7.279698388471035,6.963074879170664,7.279698388471035,6.658234196068962,6.364825574739017,6.082703074384527,5.5508332130017255,5.3005792410264,4.829829518410962,5.060355231534787,4.829829518410962,4.60880491514091,4.60880491514091,4.829829518410962,4.396940282719344,4.1939489729398804,3.6352010726565016,3.30166740836704,2.9965949582334463,2.717669493381992,2.343089009571587,2.2287582147088063,2.01410085977078,2.119177921947186,2.01410085977078,2.01410085977078],\"type\":\"scatter\"},{\"line\":{\"color\":\"lightgrey\",\"dash\":\"dash\"},\"mode\":\"lines\",\"name\":\"\\u0412\\u0435\\u0440\\u0445\\u043d\\u044f\\u044f \\u0433\\u0440\\u0430\\u043d\\u0438\\u0446\\u0430\",\"x\":[0.1702211499,0.1692114919,0.1682019383,0.1682019383,0.1676971763,0.1666875035,0.1651730686,0.1641634107,0.1631538719,0.1626489758,0.1621442139,0.1621442139,0.1626489758,0.1631538719,0.1631538719,0.1631538719,0.1626489758,0.1626489758,0.1626489758,0.1621442139,0.1611346602,0.1611346602,0.1616394371,0.1616394371,0.1611346602,0.1616394371,0.1611346602,0.1611346602,0.1606297791,0.1606297791,0.1606297791,0.1596202254,0.1596202254,0.1596202254,0.1591153443,0.1586105675,0.1591153443,0.1596202254,0.1591153443,0.1586105675,0.1586105675,0.1591153443,0.1591153443,0.1586105675,0.1586105675,0.1586105675,0.1586105675,0.1586105675,0.1586105675,0.1591153443,0.1591153443,0.1601250023,0.1611346602,0.1616394371,0.1636586487,0.1641634107,0.1656778455,0.1676971763,0.1682019383,0.1707259119,0.1712308079,0.1727452427,0.1747644544,0.1757739931,0.1757739931,0.1762788892,0.1757739931,0.1757739931,0.1747644544,0.1737547815,0.1737547815,0.1732500196,0.1727452427,0.1732500196,0.1737547815,0.1732500196,0.1737547815,0.1727452427,0.1722403467,0.1717355847,0.1707259119,0.1702211499,0.1692114919,0.1697163731,0.1692114919,0.1687067151,0.1687067151,0.1692114919,0.1682019383,0.1676971763,0.1661827415,0.1651730686,0.1641634107,0.1631538719,0.1616394371,0.1611346602,0.1601250023,0.1606297791,0.1601250023,0.1601250023],\"y\":[5.311401356239811,4.840651633624374,4.407762397932755,4.407762397932755,4.204771088153292,3.8241659348749533,3.3124895235804512,3.0074170734468577,2.7284916085954034,2.5980567281057017,2.4733070139544804,2.4733070139544804,2.5980567281057017,2.7284916085954034,2.7284916085954034,2.7284916085954034,2.5980567281057017,2.5980567281057017,2.5980567281057017,2.4733070139544804,2.2395803299222177,2.2395803299222177,2.3539111247849984,2.3539111247849984,2.2395803299222177,2.3539111247849984,2.2395803299222177,2.2395803299222177,2.130000037160597,2.130000037160597,2.130000037160597,1.9240335304174447,1.9240335304174447,1.9240335304174447,1.8270196112743076,1.733628756785846,1.8270196112743076,1.9240335304174447,1.8270196112743076,1.733628756785846,1.733628756785846,1.8270196112743076,1.8270196112743076,1.733628756785846,1.733628756785846,1.733628756785846,1.733628756785846,1.733628756785846,1.733628756785846,1.8270196112743076,1.8270196112743076,2.0249229749841913,2.2395803299222177,2.3539111247849984,2.8648389440640027,3.0074170734468577,3.4755332913654353,4.204771088153292,4.407762397932755,5.561655328215137,5.8223091837288745,6.6690563112823735,7.960415057178478,8.680901892844657,8.680901892844657,9.060977835187613,8.680901892844657,8.680901892844657,7.960415057178478,7.290520503684446,7.290520503684446,6.973896994384075,6.6690563112823735,6.973896994384075,7.290520503684446,6.973896994384075,7.290520503684446,6.6690563112823735,6.375647689952428,6.093525189597939,5.561655328215137,5.311401356239811,4.840651633624374,5.071177346748199,4.840651633624374,4.619627030354321,4.619627030354321,4.840651633624374,4.407762397932755,4.204771088153292,3.646023187869913,3.3124895235804512,3.0074170734468577,2.7284916085954034,2.3539111247849984,2.2395803299222177,2.0249229749841913,2.130000037160597,2.0249229749841913,2.0249229749841913],\"type\":\"scatter\"}],                        {\"template\":{\"data\":{\"barpolar\":[{\"marker\":{\"line\":{\"color\":\"white\",\"width\":0.5},\"pattern\":{\"fillmode\":\"overlay\",\"size\":10,\"solidity\":0.2}},\"type\":\"barpolar\"}],\"bar\":[{\"error_x\":{\"color\":\"#2a3f5f\"},\"error_y\":{\"color\":\"#2a3f5f\"},\"marker\":{\"line\":{\"color\":\"white\",\"width\":0.5},\"pattern\":{\"fillmode\":\"overlay\",\"size\":10,\"solidity\":0.2}},\"type\":\"bar\"}],\"carpet\":[{\"aaxis\":{\"endlinecolor\":\"#2a3f5f\",\"gridcolor\":\"#C8D4E3\",\"linecolor\":\"#C8D4E3\",\"minorgridcolor\":\"#C8D4E3\",\"startlinecolor\":\"#2a3f5f\"},\"baxis\":{\"endlinecolor\":\"#2a3f5f\",\"gridcolor\":\"#C8D4E3\",\"linecolor\":\"#C8D4E3\",\"minorgridcolor\":\"#C8D4E3\",\"startlinecolor\":\"#2a3f5f\"},\"type\":\"carpet\"}],\"choropleth\":[{\"colorbar\":{\"outlinewidth\":0,\"ticks\":\"\"},\"type\":\"choropleth\"}],\"contourcarpet\":[{\"colorbar\":{\"outlinewidth\":0,\"ticks\":\"\"},\"type\":\"contourcarpet\"}],\"contour\":[{\"colorbar\":{\"outlinewidth\":0,\"ticks\":\"\"},\"colorscale\":[[0.0,\"#0d0887\"],[0.1111111111111111,\"#46039f\"],[0.2222222222222222,\"#7201a8\"],[0.3333333333333333,\"#9c179e\"],[0.4444444444444444,\"#bd3786\"],[0.5555555555555556,\"#d8576b\"],[0.6666666666666666,\"#ed7953\"],[0.7777777777777778,\"#fb9f3a\"],[0.8888888888888888,\"#fdca26\"],[1.0,\"#f0f921\"]],\"type\":\"contour\"}],\"heatmapgl\":[{\"colorbar\":{\"outlinewidth\":0,\"ticks\":\"\"},\"colorscale\":[[0.0,\"#0d0887\"],[0.1111111111111111,\"#46039f\"],[0.2222222222222222,\"#7201a8\"],[0.3333333333333333,\"#9c179e\"],[0.4444444444444444,\"#bd3786\"],[0.5555555555555556,\"#d8576b\"],[0.6666666666666666,\"#ed7953\"],[0.7777777777777778,\"#fb9f3a\"],[0.8888888888888888,\"#fdca26\"],[1.0,\"#f0f921\"]],\"type\":\"heatmapgl\"}],\"heatmap\":[{\"colorbar\":{\"outlinewidth\":0,\"ticks\":\"\"},\"colorscale\":[[0.0,\"#0d0887\"],[0.1111111111111111,\"#46039f\"],[0.2222222222222222,\"#7201a8\"],[0.3333333333333333,\"#9c179e\"],[0.4444444444444444,\"#bd3786\"],[0.5555555555555556,\"#d8576b\"],[0.6666666666666666,\"#ed7953\"],[0.7777777777777778,\"#fb9f3a\"],[0.8888888888888888,\"#fdca26\"],[1.0,\"#f0f921\"]],\"type\":\"heatmap\"}],\"histogram2dcontour\":[{\"colorbar\":{\"outlinewidth\":0,\"ticks\":\"\"},\"colorscale\":[[0.0,\"#0d0887\"],[0.1111111111111111,\"#46039f\"],[0.2222222222222222,\"#7201a8\"],[0.3333333333333333,\"#9c179e\"],[0.4444444444444444,\"#bd3786\"],[0.5555555555555556,\"#d8576b\"],[0.6666666666666666,\"#ed7953\"],[0.7777777777777778,\"#fb9f3a\"],[0.8888888888888888,\"#fdca26\"],[1.0,\"#f0f921\"]],\"type\":\"histogram2dcontour\"}],\"histogram2d\":[{\"colorbar\":{\"outlinewidth\":0,\"ticks\":\"\"},\"colorscale\":[[0.0,\"#0d0887\"],[0.1111111111111111,\"#46039f\"],[0.2222222222222222,\"#7201a8\"],[0.3333333333333333,\"#9c179e\"],[0.4444444444444444,\"#bd3786\"],[0.5555555555555556,\"#d8576b\"],[0.6666666666666666,\"#ed7953\"],[0.7777777777777778,\"#fb9f3a\"],[0.8888888888888888,\"#fdca26\"],[1.0,\"#f0f921\"]],\"type\":\"histogram2d\"}],\"histogram\":[{\"marker\":{\"pattern\":{\"fillmode\":\"overlay\",\"size\":10,\"solidity\":0.2}},\"type\":\"histogram\"}],\"mesh3d\":[{\"colorbar\":{\"outlinewidth\":0,\"ticks\":\"\"},\"type\":\"mesh3d\"}],\"parcoords\":[{\"line\":{\"colorbar\":{\"outlinewidth\":0,\"ticks\":\"\"}},\"type\":\"parcoords\"}],\"pie\":[{\"automargin\":true,\"type\":\"pie\"}],\"scatter3d\":[{\"line\":{\"colorbar\":{\"outlinewidth\":0,\"ticks\":\"\"}},\"marker\":{\"colorbar\":{\"outlinewidth\":0,\"ticks\":\"\"}},\"type\":\"scatter3d\"}],\"scattercarpet\":[{\"marker\":{\"colorbar\":{\"outlinewidth\":0,\"ticks\":\"\"}},\"type\":\"scattercarpet\"}],\"scattergeo\":[{\"marker\":{\"colorbar\":{\"outlinewidth\":0,\"ticks\":\"\"}},\"type\":\"scattergeo\"}],\"scattergl\":[{\"marker\":{\"colorbar\":{\"outlinewidth\":0,\"ticks\":\"\"}},\"type\":\"scattergl\"}],\"scattermapbox\":[{\"marker\":{\"colorbar\":{\"outlinewidth\":0,\"ticks\":\"\"}},\"type\":\"scattermapbox\"}],\"scatterpolargl\":[{\"marker\":{\"colorbar\":{\"outlinewidth\":0,\"ticks\":\"\"}},\"type\":\"scatterpolargl\"}],\"scatterpolar\":[{\"marker\":{\"colorbar\":{\"outlinewidth\":0,\"ticks\":\"\"}},\"type\":\"scatterpolar\"}],\"scatter\":[{\"fillpattern\":{\"fillmode\":\"overlay\",\"size\":10,\"solidity\":0.2},\"type\":\"scatter\"}],\"scatterternary\":[{\"marker\":{\"colorbar\":{\"outlinewidth\":0,\"ticks\":\"\"}},\"type\":\"scatterternary\"}],\"surface\":[{\"colorbar\":{\"outlinewidth\":0,\"ticks\":\"\"},\"colorscale\":[[0.0,\"#0d0887\"],[0.1111111111111111,\"#46039f\"],[0.2222222222222222,\"#7201a8\"],[0.3333333333333333,\"#9c179e\"],[0.4444444444444444,\"#bd3786\"],[0.5555555555555556,\"#d8576b\"],[0.6666666666666666,\"#ed7953\"],[0.7777777777777778,\"#fb9f3a\"],[0.8888888888888888,\"#fdca26\"],[1.0,\"#f0f921\"]],\"type\":\"surface\"}],\"table\":[{\"cells\":{\"fill\":{\"color\":\"#EBF0F8\"},\"line\":{\"color\":\"white\"}},\"header\":{\"fill\":{\"color\":\"#C8D4E3\"},\"line\":{\"color\":\"white\"}},\"type\":\"table\"}]},\"layout\":{\"annotationdefaults\":{\"arrowcolor\":\"#2a3f5f\",\"arrowhead\":0,\"arrowwidth\":1},\"autotypenumbers\":\"strict\",\"coloraxis\":{\"colorbar\":{\"outlinewidth\":0,\"ticks\":\"\"}},\"colorscale\":{\"diverging\":[[0,\"#8e0152\"],[0.1,\"#c51b7d\"],[0.2,\"#de77ae\"],[0.3,\"#f1b6da\"],[0.4,\"#fde0ef\"],[0.5,\"#f7f7f7\"],[0.6,\"#e6f5d0\"],[0.7,\"#b8e186\"],[0.8,\"#7fbc41\"],[0.9,\"#4d9221\"],[1,\"#276419\"]],\"sequential\":[[0.0,\"#0d0887\"],[0.1111111111111111,\"#46039f\"],[0.2222222222222222,\"#7201a8\"],[0.3333333333333333,\"#9c179e\"],[0.4444444444444444,\"#bd3786\"],[0.5555555555555556,\"#d8576b\"],[0.6666666666666666,\"#ed7953\"],[0.7777777777777778,\"#fb9f3a\"],[0.8888888888888888,\"#fdca26\"],[1.0,\"#f0f921\"]],\"sequentialminus\":[[0.0,\"#0d0887\"],[0.1111111111111111,\"#46039f\"],[0.2222222222222222,\"#7201a8\"],[0.3333333333333333,\"#9c179e\"],[0.4444444444444444,\"#bd3786\"],[0.5555555555555556,\"#d8576b\"],[0.6666666666666666,\"#ed7953\"],[0.7777777777777778,\"#fb9f3a\"],[0.8888888888888888,\"#fdca26\"],[1.0,\"#f0f921\"]]},\"colorway\":[\"#636efa\",\"#EF553B\",\"#00cc96\",\"#ab63fa\",\"#FFA15A\",\"#19d3f3\",\"#FF6692\",\"#B6E880\",\"#FF97FF\",\"#FECB52\"],\"font\":{\"color\":\"#2a3f5f\"},\"geo\":{\"bgcolor\":\"white\",\"lakecolor\":\"white\",\"landcolor\":\"white\",\"showlakes\":true,\"showland\":true,\"subunitcolor\":\"#C8D4E3\"},\"hoverlabel\":{\"align\":\"left\"},\"hovermode\":\"closest\",\"mapbox\":{\"style\":\"light\"},\"paper_bgcolor\":\"white\",\"plot_bgcolor\":\"white\",\"polar\":{\"angularaxis\":{\"gridcolor\":\"#EBF0F8\",\"linecolor\":\"#EBF0F8\",\"ticks\":\"\"},\"bgcolor\":\"white\",\"radialaxis\":{\"gridcolor\":\"#EBF0F8\",\"linecolor\":\"#EBF0F8\",\"ticks\":\"\"}},\"scene\":{\"xaxis\":{\"backgroundcolor\":\"white\",\"gridcolor\":\"#DFE8F3\",\"gridwidth\":2,\"linecolor\":\"#EBF0F8\",\"showbackground\":true,\"ticks\":\"\",\"zerolinecolor\":\"#EBF0F8\"},\"yaxis\":{\"backgroundcolor\":\"white\",\"gridcolor\":\"#DFE8F3\",\"gridwidth\":2,\"linecolor\":\"#EBF0F8\",\"showbackground\":true,\"ticks\":\"\",\"zerolinecolor\":\"#EBF0F8\"},\"zaxis\":{\"backgroundcolor\":\"white\",\"gridcolor\":\"#DFE8F3\",\"gridwidth\":2,\"linecolor\":\"#EBF0F8\",\"showbackground\":true,\"ticks\":\"\",\"zerolinecolor\":\"#EBF0F8\"}},\"shapedefaults\":{\"line\":{\"color\":\"#2a3f5f\"}},\"ternary\":{\"aaxis\":{\"gridcolor\":\"#DFE8F3\",\"linecolor\":\"#A2B1C6\",\"ticks\":\"\"},\"baxis\":{\"gridcolor\":\"#DFE8F3\",\"linecolor\":\"#A2B1C6\",\"ticks\":\"\"},\"bgcolor\":\"white\",\"caxis\":{\"gridcolor\":\"#DFE8F3\",\"linecolor\":\"#A2B1C6\",\"ticks\":\"\"}},\"title\":{\"x\":0.05},\"xaxis\":{\"automargin\":true,\"gridcolor\":\"#EBF0F8\",\"linecolor\":\"#EBF0F8\",\"ticks\":\"\",\"title\":{\"standoff\":15},\"zerolinecolor\":\"#EBF0F8\",\"zerolinewidth\":2},\"yaxis\":{\"automargin\":true,\"gridcolor\":\"#EBF0F8\",\"linecolor\":\"#EBF0F8\",\"ticks\":\"\",\"title\":{\"standoff\":15},\"zerolinecolor\":\"#EBF0F8\",\"zerolinewidth\":2}}},\"legend\":{\"x\":1.05,\"y\":1,\"traceorder\":\"normal\",\"orientation\":\"v\"},\"title\":{\"text\":\"\\u041f\\u0440\\u0435\\u0434\\u043f\\u043e\\u043b\\u0430\\u0433\\u0430\\u0435\\u043c\\u0430\\u044f \\u043c\\u043e\\u0434\\u0435\\u043b\\u044c - \\u041a\\u0443\\u0431\\u0438\\u0447\\u0435\\u0441\\u043a\\u0438\\u0439\"},\"xaxis\":{\"title\":{\"text\":\"K2065G_2_POROSITY\"}},\"yaxis\":{\"title\":{\"text\":\"K2065G_2_PERMEABILITY\"}}},                        {\"responsive\": true}                    ).then(function(){\n                            \nvar gd = document.getElementById('86a38f05-a4cc-48e0-bca3-6bf1e1a23104');\nvar x = new MutationObserver(function (mutations, observer) {{\n        var display = window.getComputedStyle(gd).display;\n        if (!display || display === 'none') {{\n            console.log([gd, 'removed!']);\n            Plotly.purge(gd);\n            observer.disconnect();\n        }}\n}});\n\n// Listen for the removal of the full notebook cells\nvar notebookContainer = gd.closest('#notebook-container');\nif (notebookContainer) {{\n    x.observe(notebookContainer, {childList: true});\n}}\n\n// Listen for the clearing of the current output cell\nvar outputEl = gd.closest('.output');\nif (outputEl) {{\n    x.observe(outputEl, {childList: true});\n}}\n\n                        })                };                });            </script>        </div>"
     },
     "metadata": {},
     "output_type": "display_data"
    },
    {
     "data": {
      "application/vnd.plotly.v1+json": {
       "data": [
        {
         "marker": {
          "color": "blue"
         },
         "mode": "markers",
         "name": "Данные",
         "x": [
          0.1702211499,
          0.1692114919,
          0.1682019383,
          0.1682019383,
          0.1676971763,
          0.1666875035,
          0.1651730686,
          0.1641634107,
          0.1631538719,
          0.1626489758,
          0.1621442139,
          0.1621442139,
          0.1626489758,
          0.1631538719,
          0.1631538719,
          0.1631538719,
          0.1626489758,
          0.1626489758,
          0.1626489758,
          0.1621442139,
          0.1611346602,
          0.1611346602,
          0.1616394371,
          0.1616394371,
          0.1611346602,
          0.1616394371,
          0.1611346602,
          0.1611346602,
          0.1606297791,
          0.1606297791,
          0.1606297791,
          0.1596202254,
          0.1596202254,
          0.1596202254,
          0.1591153443,
          0.1586105675,
          0.1591153443,
          0.1596202254,
          0.1591153443,
          0.1586105675,
          0.1586105675,
          0.1591153443,
          0.1591153443,
          0.1586105675,
          0.1586105675,
          0.1586105675,
          0.1586105675,
          0.1586105675,
          0.1586105675,
          0.1591153443,
          0.1591153443,
          0.1601250023,
          0.1611346602,
          0.1616394371,
          0.1636586487,
          0.1641634107,
          0.1656778455,
          0.1676971763,
          0.1682019383,
          0.1707259119,
          0.1712308079,
          0.1727452427,
          0.1747644544,
          0.1757739931,
          0.1757739931,
          0.1762788892,
          0.1757739931,
          0.1757739931,
          0.1747644544,
          0.1737547815,
          0.1737547815,
          0.1732500196,
          0.1727452427,
          0.1732500196,
          0.1737547815,
          0.1732500196,
          0.1737547815,
          0.1727452427,
          0.1722403467,
          0.1717355847,
          0.1707259119,
          0.1702211499,
          0.1692114919,
          0.1697163731,
          0.1692114919,
          0.1687067151,
          0.1687067151,
          0.1692114919,
          0.1682019383,
          0.1676971763,
          0.1661827415,
          0.1651730686,
          0.1641634107,
          0.1631538719,
          0.1616394371,
          0.1611346602,
          0.1601250023,
          0.1606297791,
          0.1601250023,
          0.1601250023
         ],
         "y": [
          5.305978775,
          4.8371400833,
          4.4056649208,
          4.4056649208,
          4.2031207085,
          3.8228139877,
          3.3101279736,
          3.0036234856,
          2.7229943275,
          2.5917332172,
          2.4662578106,
          2.4662578106,
          2.5917332172,
          2.7229943275,
          2.7229943275,
          2.7229943275,
          2.5917332172,
          2.5917332172,
          2.5917332172,
          2.4662578106,
          2.2316713333,
          2.2316713333,
          2.3463072777,
          2.3463072777,
          2.2316713333,
          2.3463072777,
          2.2316713333,
          2.2316713333,
          2.1221199036,
          2.1221199036,
          2.1221199036,
          1.917586565,
          1.917586565,
          1.917586565,
          1.8221800327,
          1.7311353683,
          1.8221800327,
          1.917586565,
          1.8221800327,
          1.7311353683,
          1.7311353683,
          1.8221800327,
          1.8221800327,
          1.7311353683,
          1.7311353683,
          1.7311353683,
          1.7311353683,
          1.7311353683,
          1.7311353683,
          1.8221800327,
          1.8221800327,
          2.0174975395,
          2.2316713333,
          2.3463072777,
          2.860203743,
          3.0036234856,
          3.4736862183,
          4.2031207085,
          4.4056649208,
          5.5551991463,
          5.8148417473,
          6.6594138145,
          7.9533457756,
          8.6795578003,
          8.6795578003,
          9.0640964508,
          8.6795578003,
          8.6795578003,
          7.9533457756,
          7.2810263634,
          7.2810263634,
          6.9641022682,
          6.6594138145,
          6.9641022682,
          7.2810263634,
          6.9641022682,
          7.2810263634,
          6.6594138145,
          6.3665060997,
          6.0851373672,
          5.5551991463,
          5.305978775,
          4.8371400833,
          5.0667529106,
          4.8371400833,
          4.6169013977,
          4.6169013977,
          4.8371400833,
          4.4056649208,
          4.2031207085,
          3.6445188522,
          3.3101279736,
          3.0036234856,
          2.7229943275,
          2.3463072777,
          2.2316713333,
          2.0174975395,
          2.1221199036,
          2.0174975395,
          2.0174975395
         ],
         "type": "scatter"
        },
        {
         "line": {
          "color": "orange"
         },
         "mode": "lines",
         "name": "Экспоненциальная: y=0.0000 * e^(92.7711x), R²=0.9995, SSR = 0.002",
         "x": [
          0.1702211499,
          0.1692114919,
          0.1682019383,
          0.1682019383,
          0.1676971763,
          0.1666875035,
          0.1651730686,
          0.1641634107,
          0.1631538719,
          0.1626489758,
          0.1621442139,
          0.1621442139,
          0.1626489758,
          0.1631538719,
          0.1631538719,
          0.1631538719,
          0.1626489758,
          0.1626489758,
          0.1626489758,
          0.1621442139,
          0.1611346602,
          0.1611346602,
          0.1616394371,
          0.1616394371,
          0.1611346602,
          0.1616394371,
          0.1611346602,
          0.1611346602,
          0.1606297791,
          0.1606297791,
          0.1606297791,
          0.1596202254,
          0.1596202254,
          0.1596202254,
          0.1591153443,
          0.1586105675,
          0.1591153443,
          0.1596202254,
          0.1591153443,
          0.1586105675,
          0.1586105675,
          0.1591153443,
          0.1591153443,
          0.1586105675,
          0.1586105675,
          0.1586105675,
          0.1586105675,
          0.1586105675,
          0.1586105675,
          0.1591153443,
          0.1591153443,
          0.1601250023,
          0.1611346602,
          0.1616394371,
          0.1636586487,
          0.1641634107,
          0.1656778455,
          0.1676971763,
          0.1682019383,
          0.1707259119,
          0.1712308079,
          0.1727452427,
          0.1747644544,
          0.1757739931,
          0.1757739931,
          0.1762788892,
          0.1757739931,
          0.1757739931,
          0.1747644544,
          0.1737547815,
          0.1737547815,
          0.1732500196,
          0.1727452427,
          0.1732500196,
          0.1737547815,
          0.1732500196,
          0.1737547815,
          0.1727452427,
          0.1722403467,
          0.1717355847,
          0.1707259119,
          0.1702211499,
          0.1692114919,
          0.1697163731,
          0.1692114919,
          0.1687067151,
          0.1687067151,
          0.1692114919,
          0.1682019383,
          0.1676971763,
          0.1661827415,
          0.1651730686,
          0.1641634107,
          0.1631538719,
          0.1616394371,
          0.1611346602,
          0.1601250023,
          0.1606297791,
          0.1601250023,
          0.1601250023
         ],
         "y": [
          5.241748603204044,
          4.7730620549183245,
          4.346324815929381,
          4.346324815929381,
          4.147489786727131,
          3.7766402859607613,
          3.281625815205503,
          2.9882020272270644,
          2.721044543061853,
          2.5965302944130206,
          2.4777446309218787,
          2.4777446309218787,
          2.5965302944130206,
          2.721044543061853,
          2.721044543061853,
          2.721044543061853,
          2.5965302944130206,
          2.5965302944130206,
          2.5965302944130206,
          2.4777446309218787,
          2.256221007206216,
          2.256221007206216,
          2.3643898871887803,
          2.3643898871887803,
          2.256221007206216,
          2.3643898871887803,
          2.256221007206216,
          2.256221007206216,
          2.1529799515137222,
          2.1529799515137222,
          2.1529799515137222,
          1.960492027336871,
          1.960492027336871,
          1.960492027336871,
          1.8707830555949534,
          1.785196296087664,
          1.8707830555949534,
          1.960492027336871,
          1.8707830555949534,
          1.785196296087664,
          1.785196296087664,
          1.8707830555949534,
          1.8707830555949534,
          1.785196296087664,
          1.785196296087664,
          1.785196296087664,
          1.785196296087664,
          1.785196296087664,
          1.785196296087664,
          1.8707830555949534,
          1.8707830555949534,
          2.0544829201325934,
          2.256221007206216,
          2.3643898871887803,
          2.851498199853566,
          2.9882020272270644,
          3.4389551671700933,
          4.147489786727131,
          4.346324815929381,
          5.493043552723721,
          5.756457406808585,
          6.62478599618281,
          7.989615257676851,
          8.77405125511183,
          8.77405125511183,
          9.194802902796173,
          8.77405125511183,
          8.77405125511183,
          7.989615257676851,
          7.275220464220437,
          7.275220464220437,
          6.942394811561496,
          6.62478599618281,
          6.942394811561496,
          7.275220464220437,
          6.942394811561496,
          7.275220464220437,
          6.62478599618281,
          6.321637672757722,
          6.032436321155543,
          5.493043552723721,
          5.241748603204044,
          4.7730620549183245,
          5.00194299038411,
          4.7730620549183245,
          4.554698459531911,
          4.554698459531911,
          4.7730620549183245,
          4.346324815929381,
          4.147489786727131,
          3.603867100948619,
          3.281625815205503,
          2.9882020272270644,
          2.721044543061853,
          2.3643898871887803,
          2.256221007206216,
          2.0544829201325934,
          2.1529799515137222,
          2.0544829201325934,
          2.0544829201325934
         ],
         "type": "scatter"
        },
        {
         "line": {
          "color": "lightgrey",
          "dash": "dash"
         },
         "mode": "lines",
         "name": "Нижняя граница",
         "x": [
          0.1702211499,
          0.1692114919,
          0.1682019383,
          0.1682019383,
          0.1676971763,
          0.1666875035,
          0.1651730686,
          0.1641634107,
          0.1631538719,
          0.1626489758,
          0.1621442139,
          0.1621442139,
          0.1626489758,
          0.1631538719,
          0.1631538719,
          0.1631538719,
          0.1626489758,
          0.1626489758,
          0.1626489758,
          0.1621442139,
          0.1611346602,
          0.1611346602,
          0.1616394371,
          0.1616394371,
          0.1611346602,
          0.1616394371,
          0.1611346602,
          0.1611346602,
          0.1606297791,
          0.1606297791,
          0.1606297791,
          0.1596202254,
          0.1596202254,
          0.1596202254,
          0.1591153443,
          0.1586105675,
          0.1591153443,
          0.1596202254,
          0.1591153443,
          0.1586105675,
          0.1586105675,
          0.1591153443,
          0.1591153443,
          0.1586105675,
          0.1586105675,
          0.1586105675,
          0.1586105675,
          0.1586105675,
          0.1586105675,
          0.1591153443,
          0.1591153443,
          0.1601250023,
          0.1611346602,
          0.1616394371,
          0.1636586487,
          0.1641634107,
          0.1656778455,
          0.1676971763,
          0.1682019383,
          0.1707259119,
          0.1712308079,
          0.1727452427,
          0.1747644544,
          0.1757739931,
          0.1757739931,
          0.1762788892,
          0.1757739931,
          0.1757739931,
          0.1747644544,
          0.1737547815,
          0.1737547815,
          0.1732500196,
          0.1727452427,
          0.1732500196,
          0.1737547815,
          0.1732500196,
          0.1737547815,
          0.1727452427,
          0.1722403467,
          0.1717355847,
          0.1707259119,
          0.1702211499,
          0.1692114919,
          0.1697163731,
          0.1692114919,
          0.1687067151,
          0.1687067151,
          0.1692114919,
          0.1682019383,
          0.1676971763,
          0.1661827415,
          0.1651730686,
          0.1641634107,
          0.1631538719,
          0.1616394371,
          0.1611346602,
          0.1601250023,
          0.1606297791,
          0.1601250023,
          0.1601250023
         ],
         "y": [
          5.151333450387087,
          4.682646902101367,
          4.255909663112424,
          4.255909663112424,
          4.057074633910173,
          3.6862251331438034,
          3.1912106623885452,
          2.8977868744101065,
          2.630629390244895,
          2.5061151415960627,
          2.387329478104921,
          2.387329478104921,
          2.5061151415960627,
          2.630629390244895,
          2.630629390244895,
          2.630629390244895,
          2.5061151415960627,
          2.5061151415960627,
          2.5061151415960627,
          2.387329478104921,
          2.165805854389258,
          2.165805854389258,
          2.2739747343718224,
          2.2739747343718224,
          2.165805854389258,
          2.2739747343718224,
          2.165805854389258,
          2.165805854389258,
          2.0625647986967643,
          2.0625647986967643,
          2.0625647986967643,
          1.870076874519913,
          1.870076874519913,
          1.870076874519913,
          1.7803679027779955,
          1.694781143270706,
          1.7803679027779955,
          1.870076874519913,
          1.7803679027779955,
          1.694781143270706,
          1.694781143270706,
          1.7803679027779955,
          1.7803679027779955,
          1.694781143270706,
          1.694781143270706,
          1.694781143270706,
          1.694781143270706,
          1.694781143270706,
          1.694781143270706,
          1.7803679027779955,
          1.7803679027779955,
          1.9640677673156355,
          2.165805854389258,
          2.2739747343718224,
          2.761083047036608,
          2.8977868744101065,
          3.3485400143531354,
          4.057074633910173,
          4.255909663112424,
          5.402628399906764,
          5.666042253991628,
          6.534370843365853,
          7.899200104859894,
          8.683636102294873,
          8.683636102294873,
          9.104387749979216,
          8.683636102294873,
          8.683636102294873,
          7.899200104859894,
          7.18480531140348,
          7.18480531140348,
          6.851979658744539,
          6.534370843365853,
          6.851979658744539,
          7.18480531140348,
          6.851979658744539,
          7.18480531140348,
          6.534370843365853,
          6.231222519940765,
          5.942021168338585,
          5.402628399906764,
          5.151333450387087,
          4.682646902101367,
          4.911527837567153,
          4.682646902101367,
          4.464283306714954,
          4.464283306714954,
          4.682646902101367,
          4.255909663112424,
          4.057074633910173,
          3.513451948131661,
          3.1912106623885452,
          2.8977868744101065,
          2.630629390244895,
          2.2739747343718224,
          2.165805854389258,
          1.9640677673156355,
          2.0625647986967643,
          1.9640677673156355,
          1.9640677673156355
         ],
         "type": "scatter"
        },
        {
         "line": {
          "color": "lightgrey",
          "dash": "dash"
         },
         "mode": "lines",
         "name": "Верхняя граница",
         "x": [
          0.1702211499,
          0.1692114919,
          0.1682019383,
          0.1682019383,
          0.1676971763,
          0.1666875035,
          0.1651730686,
          0.1641634107,
          0.1631538719,
          0.1626489758,
          0.1621442139,
          0.1621442139,
          0.1626489758,
          0.1631538719,
          0.1631538719,
          0.1631538719,
          0.1626489758,
          0.1626489758,
          0.1626489758,
          0.1621442139,
          0.1611346602,
          0.1611346602,
          0.1616394371,
          0.1616394371,
          0.1611346602,
          0.1616394371,
          0.1611346602,
          0.1611346602,
          0.1606297791,
          0.1606297791,
          0.1606297791,
          0.1596202254,
          0.1596202254,
          0.1596202254,
          0.1591153443,
          0.1586105675,
          0.1591153443,
          0.1596202254,
          0.1591153443,
          0.1586105675,
          0.1586105675,
          0.1591153443,
          0.1591153443,
          0.1586105675,
          0.1586105675,
          0.1586105675,
          0.1586105675,
          0.1586105675,
          0.1586105675,
          0.1591153443,
          0.1591153443,
          0.1601250023,
          0.1611346602,
          0.1616394371,
          0.1636586487,
          0.1641634107,
          0.1656778455,
          0.1676971763,
          0.1682019383,
          0.1707259119,
          0.1712308079,
          0.1727452427,
          0.1747644544,
          0.1757739931,
          0.1757739931,
          0.1762788892,
          0.1757739931,
          0.1757739931,
          0.1747644544,
          0.1737547815,
          0.1737547815,
          0.1732500196,
          0.1727452427,
          0.1732500196,
          0.1737547815,
          0.1732500196,
          0.1737547815,
          0.1727452427,
          0.1722403467,
          0.1717355847,
          0.1707259119,
          0.1702211499,
          0.1692114919,
          0.1697163731,
          0.1692114919,
          0.1687067151,
          0.1687067151,
          0.1692114919,
          0.1682019383,
          0.1676971763,
          0.1661827415,
          0.1651730686,
          0.1641634107,
          0.1631538719,
          0.1616394371,
          0.1611346602,
          0.1601250023,
          0.1606297791,
          0.1601250023,
          0.1601250023
         ],
         "y": [
          5.332163756021002,
          4.863477207735282,
          4.4367399687463385,
          4.4367399687463385,
          4.237904939544088,
          3.867055438777719,
          3.372040968022461,
          3.0786171800440223,
          2.8114596958788107,
          2.6869454472299785,
          2.5681597837388366,
          2.5681597837388366,
          2.6869454472299785,
          2.8114596958788107,
          2.8114596958788107,
          2.8114596958788107,
          2.6869454472299785,
          2.6869454472299785,
          2.6869454472299785,
          2.5681597837388366,
          2.346636160023174,
          2.346636160023174,
          2.454805040005738,
          2.454805040005738,
          2.346636160023174,
          2.454805040005738,
          2.346636160023174,
          2.346636160023174,
          2.24339510433068,
          2.24339510433068,
          2.24339510433068,
          2.050907180153829,
          2.050907180153829,
          2.050907180153829,
          1.9611982084119113,
          1.8756114489046218,
          1.9611982084119113,
          2.050907180153829,
          1.9611982084119113,
          1.8756114489046218,
          1.8756114489046218,
          1.9611982084119113,
          1.9611982084119113,
          1.8756114489046218,
          1.8756114489046218,
          1.8756114489046218,
          1.8756114489046218,
          1.8756114489046218,
          1.8756114489046218,
          1.9611982084119113,
          1.9611982084119113,
          2.1448980729495513,
          2.346636160023174,
          2.454805040005738,
          2.941913352670524,
          3.0786171800440223,
          3.529370319987051,
          4.237904939544088,
          4.4367399687463385,
          5.583458705540679,
          5.846872559625543,
          6.715201148999768,
          8.080030410493809,
          8.864466407928788,
          8.864466407928788,
          9.28521805561313,
          8.864466407928788,
          8.864466407928788,
          8.080030410493809,
          7.365635617037395,
          7.365635617037395,
          7.032809964378454,
          6.715201148999768,
          7.032809964378454,
          7.365635617037395,
          7.032809964378454,
          7.365635617037395,
          6.715201148999768,
          6.41205282557468,
          6.1228514739725,
          5.583458705540679,
          5.332163756021002,
          4.863477207735282,
          5.092358143201068,
          4.863477207735282,
          4.645113612348869,
          4.645113612348869,
          4.863477207735282,
          4.4367399687463385,
          4.237904939544088,
          3.694282253765577,
          3.372040968022461,
          3.0786171800440223,
          2.8114596958788107,
          2.454805040005738,
          2.346636160023174,
          2.1448980729495513,
          2.24339510433068,
          2.1448980729495513,
          2.1448980729495513
         ],
         "type": "scatter"
        }
       ],
       "layout": {
        "template": {
         "data": {
          "barpolar": [
           {
            "marker": {
             "line": {
              "color": "white",
              "width": 0.5
             },
             "pattern": {
              "fillmode": "overlay",
              "size": 10,
              "solidity": 0.2
             }
            },
            "type": "barpolar"
           }
          ],
          "bar": [
           {
            "error_x": {
             "color": "#2a3f5f"
            },
            "error_y": {
             "color": "#2a3f5f"
            },
            "marker": {
             "line": {
              "color": "white",
              "width": 0.5
             },
             "pattern": {
              "fillmode": "overlay",
              "size": 10,
              "solidity": 0.2
             }
            },
            "type": "bar"
           }
          ],
          "carpet": [
           {
            "aaxis": {
             "endlinecolor": "#2a3f5f",
             "gridcolor": "#C8D4E3",
             "linecolor": "#C8D4E3",
             "minorgridcolor": "#C8D4E3",
             "startlinecolor": "#2a3f5f"
            },
            "baxis": {
             "endlinecolor": "#2a3f5f",
             "gridcolor": "#C8D4E3",
             "linecolor": "#C8D4E3",
             "minorgridcolor": "#C8D4E3",
             "startlinecolor": "#2a3f5f"
            },
            "type": "carpet"
           }
          ],
          "choropleth": [
           {
            "colorbar": {
             "outlinewidth": 0,
             "ticks": ""
            },
            "type": "choropleth"
           }
          ],
          "contourcarpet": [
           {
            "colorbar": {
             "outlinewidth": 0,
             "ticks": ""
            },
            "type": "contourcarpet"
           }
          ],
          "contour": [
           {
            "colorbar": {
             "outlinewidth": 0,
             "ticks": ""
            },
            "colorscale": [
             [
              0.0,
              "#0d0887"
             ],
             [
              0.1111111111111111,
              "#46039f"
             ],
             [
              0.2222222222222222,
              "#7201a8"
             ],
             [
              0.3333333333333333,
              "#9c179e"
             ],
             [
              0.4444444444444444,
              "#bd3786"
             ],
             [
              0.5555555555555556,
              "#d8576b"
             ],
             [
              0.6666666666666666,
              "#ed7953"
             ],
             [
              0.7777777777777778,
              "#fb9f3a"
             ],
             [
              0.8888888888888888,
              "#fdca26"
             ],
             [
              1.0,
              "#f0f921"
             ]
            ],
            "type": "contour"
           }
          ],
          "heatmapgl": [
           {
            "colorbar": {
             "outlinewidth": 0,
             "ticks": ""
            },
            "colorscale": [
             [
              0.0,
              "#0d0887"
             ],
             [
              0.1111111111111111,
              "#46039f"
             ],
             [
              0.2222222222222222,
              "#7201a8"
             ],
             [
              0.3333333333333333,
              "#9c179e"
             ],
             [
              0.4444444444444444,
              "#bd3786"
             ],
             [
              0.5555555555555556,
              "#d8576b"
             ],
             [
              0.6666666666666666,
              "#ed7953"
             ],
             [
              0.7777777777777778,
              "#fb9f3a"
             ],
             [
              0.8888888888888888,
              "#fdca26"
             ],
             [
              1.0,
              "#f0f921"
             ]
            ],
            "type": "heatmapgl"
           }
          ],
          "heatmap": [
           {
            "colorbar": {
             "outlinewidth": 0,
             "ticks": ""
            },
            "colorscale": [
             [
              0.0,
              "#0d0887"
             ],
             [
              0.1111111111111111,
              "#46039f"
             ],
             [
              0.2222222222222222,
              "#7201a8"
             ],
             [
              0.3333333333333333,
              "#9c179e"
             ],
             [
              0.4444444444444444,
              "#bd3786"
             ],
             [
              0.5555555555555556,
              "#d8576b"
             ],
             [
              0.6666666666666666,
              "#ed7953"
             ],
             [
              0.7777777777777778,
              "#fb9f3a"
             ],
             [
              0.8888888888888888,
              "#fdca26"
             ],
             [
              1.0,
              "#f0f921"
             ]
            ],
            "type": "heatmap"
           }
          ],
          "histogram2dcontour": [
           {
            "colorbar": {
             "outlinewidth": 0,
             "ticks": ""
            },
            "colorscale": [
             [
              0.0,
              "#0d0887"
             ],
             [
              0.1111111111111111,
              "#46039f"
             ],
             [
              0.2222222222222222,
              "#7201a8"
             ],
             [
              0.3333333333333333,
              "#9c179e"
             ],
             [
              0.4444444444444444,
              "#bd3786"
             ],
             [
              0.5555555555555556,
              "#d8576b"
             ],
             [
              0.6666666666666666,
              "#ed7953"
             ],
             [
              0.7777777777777778,
              "#fb9f3a"
             ],
             [
              0.8888888888888888,
              "#fdca26"
             ],
             [
              1.0,
              "#f0f921"
             ]
            ],
            "type": "histogram2dcontour"
           }
          ],
          "histogram2d": [
           {
            "colorbar": {
             "outlinewidth": 0,
             "ticks": ""
            },
            "colorscale": [
             [
              0.0,
              "#0d0887"
             ],
             [
              0.1111111111111111,
              "#46039f"
             ],
             [
              0.2222222222222222,
              "#7201a8"
             ],
             [
              0.3333333333333333,
              "#9c179e"
             ],
             [
              0.4444444444444444,
              "#bd3786"
             ],
             [
              0.5555555555555556,
              "#d8576b"
             ],
             [
              0.6666666666666666,
              "#ed7953"
             ],
             [
              0.7777777777777778,
              "#fb9f3a"
             ],
             [
              0.8888888888888888,
              "#fdca26"
             ],
             [
              1.0,
              "#f0f921"
             ]
            ],
            "type": "histogram2d"
           }
          ],
          "histogram": [
           {
            "marker": {
             "pattern": {
              "fillmode": "overlay",
              "size": 10,
              "solidity": 0.2
             }
            },
            "type": "histogram"
           }
          ],
          "mesh3d": [
           {
            "colorbar": {
             "outlinewidth": 0,
             "ticks": ""
            },
            "type": "mesh3d"
           }
          ],
          "parcoords": [
           {
            "line": {
             "colorbar": {
              "outlinewidth": 0,
              "ticks": ""
             }
            },
            "type": "parcoords"
           }
          ],
          "pie": [
           {
            "automargin": true,
            "type": "pie"
           }
          ],
          "scatter3d": [
           {
            "line": {
             "colorbar": {
              "outlinewidth": 0,
              "ticks": ""
             }
            },
            "marker": {
             "colorbar": {
              "outlinewidth": 0,
              "ticks": ""
             }
            },
            "type": "scatter3d"
           }
          ],
          "scattercarpet": [
           {
            "marker": {
             "colorbar": {
              "outlinewidth": 0,
              "ticks": ""
             }
            },
            "type": "scattercarpet"
           }
          ],
          "scattergeo": [
           {
            "marker": {
             "colorbar": {
              "outlinewidth": 0,
              "ticks": ""
             }
            },
            "type": "scattergeo"
           }
          ],
          "scattergl": [
           {
            "marker": {
             "colorbar": {
              "outlinewidth": 0,
              "ticks": ""
             }
            },
            "type": "scattergl"
           }
          ],
          "scattermapbox": [
           {
            "marker": {
             "colorbar": {
              "outlinewidth": 0,
              "ticks": ""
             }
            },
            "type": "scattermapbox"
           }
          ],
          "scatterpolargl": [
           {
            "marker": {
             "colorbar": {
              "outlinewidth": 0,
              "ticks": ""
             }
            },
            "type": "scatterpolargl"
           }
          ],
          "scatterpolar": [
           {
            "marker": {
             "colorbar": {
              "outlinewidth": 0,
              "ticks": ""
             }
            },
            "type": "scatterpolar"
           }
          ],
          "scatter": [
           {
            "fillpattern": {
             "fillmode": "overlay",
             "size": 10,
             "solidity": 0.2
            },
            "type": "scatter"
           }
          ],
          "scatterternary": [
           {
            "marker": {
             "colorbar": {
              "outlinewidth": 0,
              "ticks": ""
             }
            },
            "type": "scatterternary"
           }
          ],
          "surface": [
           {
            "colorbar": {
             "outlinewidth": 0,
             "ticks": ""
            },
            "colorscale": [
             [
              0.0,
              "#0d0887"
             ],
             [
              0.1111111111111111,
              "#46039f"
             ],
             [
              0.2222222222222222,
              "#7201a8"
             ],
             [
              0.3333333333333333,
              "#9c179e"
             ],
             [
              0.4444444444444444,
              "#bd3786"
             ],
             [
              0.5555555555555556,
              "#d8576b"
             ],
             [
              0.6666666666666666,
              "#ed7953"
             ],
             [
              0.7777777777777778,
              "#fb9f3a"
             ],
             [
              0.8888888888888888,
              "#fdca26"
             ],
             [
              1.0,
              "#f0f921"
             ]
            ],
            "type": "surface"
           }
          ],
          "table": [
           {
            "cells": {
             "fill": {
              "color": "#EBF0F8"
             },
             "line": {
              "color": "white"
             }
            },
            "header": {
             "fill": {
              "color": "#C8D4E3"
             },
             "line": {
              "color": "white"
             }
            },
            "type": "table"
           }
          ]
         },
         "layout": {
          "annotationdefaults": {
           "arrowcolor": "#2a3f5f",
           "arrowhead": 0,
           "arrowwidth": 1
          },
          "autotypenumbers": "strict",
          "coloraxis": {
           "colorbar": {
            "outlinewidth": 0,
            "ticks": ""
           }
          },
          "colorscale": {
           "diverging": [
            [
             0,
             "#8e0152"
            ],
            [
             0.1,
             "#c51b7d"
            ],
            [
             0.2,
             "#de77ae"
            ],
            [
             0.3,
             "#f1b6da"
            ],
            [
             0.4,
             "#fde0ef"
            ],
            [
             0.5,
             "#f7f7f7"
            ],
            [
             0.6,
             "#e6f5d0"
            ],
            [
             0.7,
             "#b8e186"
            ],
            [
             0.8,
             "#7fbc41"
            ],
            [
             0.9,
             "#4d9221"
            ],
            [
             1,
             "#276419"
            ]
           ],
           "sequential": [
            [
             0.0,
             "#0d0887"
            ],
            [
             0.1111111111111111,
             "#46039f"
            ],
            [
             0.2222222222222222,
             "#7201a8"
            ],
            [
             0.3333333333333333,
             "#9c179e"
            ],
            [
             0.4444444444444444,
             "#bd3786"
            ],
            [
             0.5555555555555556,
             "#d8576b"
            ],
            [
             0.6666666666666666,
             "#ed7953"
            ],
            [
             0.7777777777777778,
             "#fb9f3a"
            ],
            [
             0.8888888888888888,
             "#fdca26"
            ],
            [
             1.0,
             "#f0f921"
            ]
           ],
           "sequentialminus": [
            [
             0.0,
             "#0d0887"
            ],
            [
             0.1111111111111111,
             "#46039f"
            ],
            [
             0.2222222222222222,
             "#7201a8"
            ],
            [
             0.3333333333333333,
             "#9c179e"
            ],
            [
             0.4444444444444444,
             "#bd3786"
            ],
            [
             0.5555555555555556,
             "#d8576b"
            ],
            [
             0.6666666666666666,
             "#ed7953"
            ],
            [
             0.7777777777777778,
             "#fb9f3a"
            ],
            [
             0.8888888888888888,
             "#fdca26"
            ],
            [
             1.0,
             "#f0f921"
            ]
           ]
          },
          "colorway": [
           "#636efa",
           "#EF553B",
           "#00cc96",
           "#ab63fa",
           "#FFA15A",
           "#19d3f3",
           "#FF6692",
           "#B6E880",
           "#FF97FF",
           "#FECB52"
          ],
          "font": {
           "color": "#2a3f5f"
          },
          "geo": {
           "bgcolor": "white",
           "lakecolor": "white",
           "landcolor": "white",
           "showlakes": true,
           "showland": true,
           "subunitcolor": "#C8D4E3"
          },
          "hoverlabel": {
           "align": "left"
          },
          "hovermode": "closest",
          "mapbox": {
           "style": "light"
          },
          "paper_bgcolor": "white",
          "plot_bgcolor": "white",
          "polar": {
           "angularaxis": {
            "gridcolor": "#EBF0F8",
            "linecolor": "#EBF0F8",
            "ticks": ""
           },
           "bgcolor": "white",
           "radialaxis": {
            "gridcolor": "#EBF0F8",
            "linecolor": "#EBF0F8",
            "ticks": ""
           }
          },
          "scene": {
           "xaxis": {
            "backgroundcolor": "white",
            "gridcolor": "#DFE8F3",
            "gridwidth": 2,
            "linecolor": "#EBF0F8",
            "showbackground": true,
            "ticks": "",
            "zerolinecolor": "#EBF0F8"
           },
           "yaxis": {
            "backgroundcolor": "white",
            "gridcolor": "#DFE8F3",
            "gridwidth": 2,
            "linecolor": "#EBF0F8",
            "showbackground": true,
            "ticks": "",
            "zerolinecolor": "#EBF0F8"
           },
           "zaxis": {
            "backgroundcolor": "white",
            "gridcolor": "#DFE8F3",
            "gridwidth": 2,
            "linecolor": "#EBF0F8",
            "showbackground": true,
            "ticks": "",
            "zerolinecolor": "#EBF0F8"
           }
          },
          "shapedefaults": {
           "line": {
            "color": "#2a3f5f"
           }
          },
          "ternary": {
           "aaxis": {
            "gridcolor": "#DFE8F3",
            "linecolor": "#A2B1C6",
            "ticks": ""
           },
           "baxis": {
            "gridcolor": "#DFE8F3",
            "linecolor": "#A2B1C6",
            "ticks": ""
           },
           "bgcolor": "white",
           "caxis": {
            "gridcolor": "#DFE8F3",
            "linecolor": "#A2B1C6",
            "ticks": ""
           }
          },
          "title": {
           "x": 0.05
          },
          "xaxis": {
           "automargin": true,
           "gridcolor": "#EBF0F8",
           "linecolor": "#EBF0F8",
           "ticks": "",
           "title": {
            "standoff": 15
           },
           "zerolinecolor": "#EBF0F8",
           "zerolinewidth": 2
          },
          "yaxis": {
           "automargin": true,
           "gridcolor": "#EBF0F8",
           "linecolor": "#EBF0F8",
           "ticks": "",
           "title": {
            "standoff": 15
           },
           "zerolinecolor": "#EBF0F8",
           "zerolinewidth": 2
          }
         }
        },
        "legend": {
         "x": 1.05,
         "y": 1,
         "traceorder": "normal",
         "orientation": "v"
        },
        "title": {
         "text": "Предполагаемая модель - Экспоненциальная"
        },
        "xaxis": {
         "title": {
          "text": "K2065G_2_POROSITY"
         }
        },
        "yaxis": {
         "title": {
          "text": "K2065G_2_PERMEABILITY"
         }
        }
       },
       "config": {
        "plotlyServerURL": "https://plot.ly"
       }
      },
      "text/html": "<div>                            <div id=\"3491116c-4c04-48ad-88e7-825997d53709\" class=\"plotly-graph-div\" style=\"height:525px; width:100%;\"></div>            <script type=\"text/javascript\">                require([\"plotly\"], function(Plotly) {                    window.PLOTLYENV=window.PLOTLYENV || {};                                    if (document.getElementById(\"3491116c-4c04-48ad-88e7-825997d53709\")) {                    Plotly.newPlot(                        \"3491116c-4c04-48ad-88e7-825997d53709\",                        [{\"marker\":{\"color\":\"blue\"},\"mode\":\"markers\",\"name\":\"\\u0414\\u0430\\u043d\\u043d\\u044b\\u0435\",\"x\":[0.1702211499,0.1692114919,0.1682019383,0.1682019383,0.1676971763,0.1666875035,0.1651730686,0.1641634107,0.1631538719,0.1626489758,0.1621442139,0.1621442139,0.1626489758,0.1631538719,0.1631538719,0.1631538719,0.1626489758,0.1626489758,0.1626489758,0.1621442139,0.1611346602,0.1611346602,0.1616394371,0.1616394371,0.1611346602,0.1616394371,0.1611346602,0.1611346602,0.1606297791,0.1606297791,0.1606297791,0.1596202254,0.1596202254,0.1596202254,0.1591153443,0.1586105675,0.1591153443,0.1596202254,0.1591153443,0.1586105675,0.1586105675,0.1591153443,0.1591153443,0.1586105675,0.1586105675,0.1586105675,0.1586105675,0.1586105675,0.1586105675,0.1591153443,0.1591153443,0.1601250023,0.1611346602,0.1616394371,0.1636586487,0.1641634107,0.1656778455,0.1676971763,0.1682019383,0.1707259119,0.1712308079,0.1727452427,0.1747644544,0.1757739931,0.1757739931,0.1762788892,0.1757739931,0.1757739931,0.1747644544,0.1737547815,0.1737547815,0.1732500196,0.1727452427,0.1732500196,0.1737547815,0.1732500196,0.1737547815,0.1727452427,0.1722403467,0.1717355847,0.1707259119,0.1702211499,0.1692114919,0.1697163731,0.1692114919,0.1687067151,0.1687067151,0.1692114919,0.1682019383,0.1676971763,0.1661827415,0.1651730686,0.1641634107,0.1631538719,0.1616394371,0.1611346602,0.1601250023,0.1606297791,0.1601250023,0.1601250023],\"y\":[5.305978775,4.8371400833,4.4056649208,4.4056649208,4.2031207085,3.8228139877,3.3101279736,3.0036234856,2.7229943275,2.5917332172,2.4662578106,2.4662578106,2.5917332172,2.7229943275,2.7229943275,2.7229943275,2.5917332172,2.5917332172,2.5917332172,2.4662578106,2.2316713333,2.2316713333,2.3463072777,2.3463072777,2.2316713333,2.3463072777,2.2316713333,2.2316713333,2.1221199036,2.1221199036,2.1221199036,1.917586565,1.917586565,1.917586565,1.8221800327,1.7311353683,1.8221800327,1.917586565,1.8221800327,1.7311353683,1.7311353683,1.8221800327,1.8221800327,1.7311353683,1.7311353683,1.7311353683,1.7311353683,1.7311353683,1.7311353683,1.8221800327,1.8221800327,2.0174975395,2.2316713333,2.3463072777,2.860203743,3.0036234856,3.4736862183,4.2031207085,4.4056649208,5.5551991463,5.8148417473,6.6594138145,7.9533457756,8.6795578003,8.6795578003,9.0640964508,8.6795578003,8.6795578003,7.9533457756,7.2810263634,7.2810263634,6.9641022682,6.6594138145,6.9641022682,7.2810263634,6.9641022682,7.2810263634,6.6594138145,6.3665060997,6.0851373672,5.5551991463,5.305978775,4.8371400833,5.0667529106,4.8371400833,4.6169013977,4.6169013977,4.8371400833,4.4056649208,4.2031207085,3.6445188522,3.3101279736,3.0036234856,2.7229943275,2.3463072777,2.2316713333,2.0174975395,2.1221199036,2.0174975395,2.0174975395],\"type\":\"scatter\"},{\"line\":{\"color\":\"orange\"},\"mode\":\"lines\",\"name\":\"\\u042d\\u043a\\u0441\\u043f\\u043e\\u043d\\u0435\\u043d\\u0446\\u0438\\u0430\\u043b\\u044c\\u043d\\u0430\\u044f: y=0.0000 * e^(92.7711x), R\\u00b2=0.9995, SSR = 0.002\",\"x\":[0.1702211499,0.1692114919,0.1682019383,0.1682019383,0.1676971763,0.1666875035,0.1651730686,0.1641634107,0.1631538719,0.1626489758,0.1621442139,0.1621442139,0.1626489758,0.1631538719,0.1631538719,0.1631538719,0.1626489758,0.1626489758,0.1626489758,0.1621442139,0.1611346602,0.1611346602,0.1616394371,0.1616394371,0.1611346602,0.1616394371,0.1611346602,0.1611346602,0.1606297791,0.1606297791,0.1606297791,0.1596202254,0.1596202254,0.1596202254,0.1591153443,0.1586105675,0.1591153443,0.1596202254,0.1591153443,0.1586105675,0.1586105675,0.1591153443,0.1591153443,0.1586105675,0.1586105675,0.1586105675,0.1586105675,0.1586105675,0.1586105675,0.1591153443,0.1591153443,0.1601250023,0.1611346602,0.1616394371,0.1636586487,0.1641634107,0.1656778455,0.1676971763,0.1682019383,0.1707259119,0.1712308079,0.1727452427,0.1747644544,0.1757739931,0.1757739931,0.1762788892,0.1757739931,0.1757739931,0.1747644544,0.1737547815,0.1737547815,0.1732500196,0.1727452427,0.1732500196,0.1737547815,0.1732500196,0.1737547815,0.1727452427,0.1722403467,0.1717355847,0.1707259119,0.1702211499,0.1692114919,0.1697163731,0.1692114919,0.1687067151,0.1687067151,0.1692114919,0.1682019383,0.1676971763,0.1661827415,0.1651730686,0.1641634107,0.1631538719,0.1616394371,0.1611346602,0.1601250023,0.1606297791,0.1601250023,0.1601250023],\"y\":[5.241748603204044,4.7730620549183245,4.346324815929381,4.346324815929381,4.147489786727131,3.7766402859607613,3.281625815205503,2.9882020272270644,2.721044543061853,2.5965302944130206,2.4777446309218787,2.4777446309218787,2.5965302944130206,2.721044543061853,2.721044543061853,2.721044543061853,2.5965302944130206,2.5965302944130206,2.5965302944130206,2.4777446309218787,2.256221007206216,2.256221007206216,2.3643898871887803,2.3643898871887803,2.256221007206216,2.3643898871887803,2.256221007206216,2.256221007206216,2.1529799515137222,2.1529799515137222,2.1529799515137222,1.960492027336871,1.960492027336871,1.960492027336871,1.8707830555949534,1.785196296087664,1.8707830555949534,1.960492027336871,1.8707830555949534,1.785196296087664,1.785196296087664,1.8707830555949534,1.8707830555949534,1.785196296087664,1.785196296087664,1.785196296087664,1.785196296087664,1.785196296087664,1.785196296087664,1.8707830555949534,1.8707830555949534,2.0544829201325934,2.256221007206216,2.3643898871887803,2.851498199853566,2.9882020272270644,3.4389551671700933,4.147489786727131,4.346324815929381,5.493043552723721,5.756457406808585,6.62478599618281,7.989615257676851,8.77405125511183,8.77405125511183,9.194802902796173,8.77405125511183,8.77405125511183,7.989615257676851,7.275220464220437,7.275220464220437,6.942394811561496,6.62478599618281,6.942394811561496,7.275220464220437,6.942394811561496,7.275220464220437,6.62478599618281,6.321637672757722,6.032436321155543,5.493043552723721,5.241748603204044,4.7730620549183245,5.00194299038411,4.7730620549183245,4.554698459531911,4.554698459531911,4.7730620549183245,4.346324815929381,4.147489786727131,3.603867100948619,3.281625815205503,2.9882020272270644,2.721044543061853,2.3643898871887803,2.256221007206216,2.0544829201325934,2.1529799515137222,2.0544829201325934,2.0544829201325934],\"type\":\"scatter\"},{\"line\":{\"color\":\"lightgrey\",\"dash\":\"dash\"},\"mode\":\"lines\",\"name\":\"\\u041d\\u0438\\u0436\\u043d\\u044f\\u044f \\u0433\\u0440\\u0430\\u043d\\u0438\\u0446\\u0430\",\"x\":[0.1702211499,0.1692114919,0.1682019383,0.1682019383,0.1676971763,0.1666875035,0.1651730686,0.1641634107,0.1631538719,0.1626489758,0.1621442139,0.1621442139,0.1626489758,0.1631538719,0.1631538719,0.1631538719,0.1626489758,0.1626489758,0.1626489758,0.1621442139,0.1611346602,0.1611346602,0.1616394371,0.1616394371,0.1611346602,0.1616394371,0.1611346602,0.1611346602,0.1606297791,0.1606297791,0.1606297791,0.1596202254,0.1596202254,0.1596202254,0.1591153443,0.1586105675,0.1591153443,0.1596202254,0.1591153443,0.1586105675,0.1586105675,0.1591153443,0.1591153443,0.1586105675,0.1586105675,0.1586105675,0.1586105675,0.1586105675,0.1586105675,0.1591153443,0.1591153443,0.1601250023,0.1611346602,0.1616394371,0.1636586487,0.1641634107,0.1656778455,0.1676971763,0.1682019383,0.1707259119,0.1712308079,0.1727452427,0.1747644544,0.1757739931,0.1757739931,0.1762788892,0.1757739931,0.1757739931,0.1747644544,0.1737547815,0.1737547815,0.1732500196,0.1727452427,0.1732500196,0.1737547815,0.1732500196,0.1737547815,0.1727452427,0.1722403467,0.1717355847,0.1707259119,0.1702211499,0.1692114919,0.1697163731,0.1692114919,0.1687067151,0.1687067151,0.1692114919,0.1682019383,0.1676971763,0.1661827415,0.1651730686,0.1641634107,0.1631538719,0.1616394371,0.1611346602,0.1601250023,0.1606297791,0.1601250023,0.1601250023],\"y\":[5.151333450387087,4.682646902101367,4.255909663112424,4.255909663112424,4.057074633910173,3.6862251331438034,3.1912106623885452,2.8977868744101065,2.630629390244895,2.5061151415960627,2.387329478104921,2.387329478104921,2.5061151415960627,2.630629390244895,2.630629390244895,2.630629390244895,2.5061151415960627,2.5061151415960627,2.5061151415960627,2.387329478104921,2.165805854389258,2.165805854389258,2.2739747343718224,2.2739747343718224,2.165805854389258,2.2739747343718224,2.165805854389258,2.165805854389258,2.0625647986967643,2.0625647986967643,2.0625647986967643,1.870076874519913,1.870076874519913,1.870076874519913,1.7803679027779955,1.694781143270706,1.7803679027779955,1.870076874519913,1.7803679027779955,1.694781143270706,1.694781143270706,1.7803679027779955,1.7803679027779955,1.694781143270706,1.694781143270706,1.694781143270706,1.694781143270706,1.694781143270706,1.694781143270706,1.7803679027779955,1.7803679027779955,1.9640677673156355,2.165805854389258,2.2739747343718224,2.761083047036608,2.8977868744101065,3.3485400143531354,4.057074633910173,4.255909663112424,5.402628399906764,5.666042253991628,6.534370843365853,7.899200104859894,8.683636102294873,8.683636102294873,9.104387749979216,8.683636102294873,8.683636102294873,7.899200104859894,7.18480531140348,7.18480531140348,6.851979658744539,6.534370843365853,6.851979658744539,7.18480531140348,6.851979658744539,7.18480531140348,6.534370843365853,6.231222519940765,5.942021168338585,5.402628399906764,5.151333450387087,4.682646902101367,4.911527837567153,4.682646902101367,4.464283306714954,4.464283306714954,4.682646902101367,4.255909663112424,4.057074633910173,3.513451948131661,3.1912106623885452,2.8977868744101065,2.630629390244895,2.2739747343718224,2.165805854389258,1.9640677673156355,2.0625647986967643,1.9640677673156355,1.9640677673156355],\"type\":\"scatter\"},{\"line\":{\"color\":\"lightgrey\",\"dash\":\"dash\"},\"mode\":\"lines\",\"name\":\"\\u0412\\u0435\\u0440\\u0445\\u043d\\u044f\\u044f \\u0433\\u0440\\u0430\\u043d\\u0438\\u0446\\u0430\",\"x\":[0.1702211499,0.1692114919,0.1682019383,0.1682019383,0.1676971763,0.1666875035,0.1651730686,0.1641634107,0.1631538719,0.1626489758,0.1621442139,0.1621442139,0.1626489758,0.1631538719,0.1631538719,0.1631538719,0.1626489758,0.1626489758,0.1626489758,0.1621442139,0.1611346602,0.1611346602,0.1616394371,0.1616394371,0.1611346602,0.1616394371,0.1611346602,0.1611346602,0.1606297791,0.1606297791,0.1606297791,0.1596202254,0.1596202254,0.1596202254,0.1591153443,0.1586105675,0.1591153443,0.1596202254,0.1591153443,0.1586105675,0.1586105675,0.1591153443,0.1591153443,0.1586105675,0.1586105675,0.1586105675,0.1586105675,0.1586105675,0.1586105675,0.1591153443,0.1591153443,0.1601250023,0.1611346602,0.1616394371,0.1636586487,0.1641634107,0.1656778455,0.1676971763,0.1682019383,0.1707259119,0.1712308079,0.1727452427,0.1747644544,0.1757739931,0.1757739931,0.1762788892,0.1757739931,0.1757739931,0.1747644544,0.1737547815,0.1737547815,0.1732500196,0.1727452427,0.1732500196,0.1737547815,0.1732500196,0.1737547815,0.1727452427,0.1722403467,0.1717355847,0.1707259119,0.1702211499,0.1692114919,0.1697163731,0.1692114919,0.1687067151,0.1687067151,0.1692114919,0.1682019383,0.1676971763,0.1661827415,0.1651730686,0.1641634107,0.1631538719,0.1616394371,0.1611346602,0.1601250023,0.1606297791,0.1601250023,0.1601250023],\"y\":[5.332163756021002,4.863477207735282,4.4367399687463385,4.4367399687463385,4.237904939544088,3.867055438777719,3.372040968022461,3.0786171800440223,2.8114596958788107,2.6869454472299785,2.5681597837388366,2.5681597837388366,2.6869454472299785,2.8114596958788107,2.8114596958788107,2.8114596958788107,2.6869454472299785,2.6869454472299785,2.6869454472299785,2.5681597837388366,2.346636160023174,2.346636160023174,2.454805040005738,2.454805040005738,2.346636160023174,2.454805040005738,2.346636160023174,2.346636160023174,2.24339510433068,2.24339510433068,2.24339510433068,2.050907180153829,2.050907180153829,2.050907180153829,1.9611982084119113,1.8756114489046218,1.9611982084119113,2.050907180153829,1.9611982084119113,1.8756114489046218,1.8756114489046218,1.9611982084119113,1.9611982084119113,1.8756114489046218,1.8756114489046218,1.8756114489046218,1.8756114489046218,1.8756114489046218,1.8756114489046218,1.9611982084119113,1.9611982084119113,2.1448980729495513,2.346636160023174,2.454805040005738,2.941913352670524,3.0786171800440223,3.529370319987051,4.237904939544088,4.4367399687463385,5.583458705540679,5.846872559625543,6.715201148999768,8.080030410493809,8.864466407928788,8.864466407928788,9.28521805561313,8.864466407928788,8.864466407928788,8.080030410493809,7.365635617037395,7.365635617037395,7.032809964378454,6.715201148999768,7.032809964378454,7.365635617037395,7.032809964378454,7.365635617037395,6.715201148999768,6.41205282557468,6.1228514739725,5.583458705540679,5.332163756021002,4.863477207735282,5.092358143201068,4.863477207735282,4.645113612348869,4.645113612348869,4.863477207735282,4.4367399687463385,4.237904939544088,3.694282253765577,3.372040968022461,3.0786171800440223,2.8114596958788107,2.454805040005738,2.346636160023174,2.1448980729495513,2.24339510433068,2.1448980729495513,2.1448980729495513],\"type\":\"scatter\"}],                        {\"template\":{\"data\":{\"barpolar\":[{\"marker\":{\"line\":{\"color\":\"white\",\"width\":0.5},\"pattern\":{\"fillmode\":\"overlay\",\"size\":10,\"solidity\":0.2}},\"type\":\"barpolar\"}],\"bar\":[{\"error_x\":{\"color\":\"#2a3f5f\"},\"error_y\":{\"color\":\"#2a3f5f\"},\"marker\":{\"line\":{\"color\":\"white\",\"width\":0.5},\"pattern\":{\"fillmode\":\"overlay\",\"size\":10,\"solidity\":0.2}},\"type\":\"bar\"}],\"carpet\":[{\"aaxis\":{\"endlinecolor\":\"#2a3f5f\",\"gridcolor\":\"#C8D4E3\",\"linecolor\":\"#C8D4E3\",\"minorgridcolor\":\"#C8D4E3\",\"startlinecolor\":\"#2a3f5f\"},\"baxis\":{\"endlinecolor\":\"#2a3f5f\",\"gridcolor\":\"#C8D4E3\",\"linecolor\":\"#C8D4E3\",\"minorgridcolor\":\"#C8D4E3\",\"startlinecolor\":\"#2a3f5f\"},\"type\":\"carpet\"}],\"choropleth\":[{\"colorbar\":{\"outlinewidth\":0,\"ticks\":\"\"},\"type\":\"choropleth\"}],\"contourcarpet\":[{\"colorbar\":{\"outlinewidth\":0,\"ticks\":\"\"},\"type\":\"contourcarpet\"}],\"contour\":[{\"colorbar\":{\"outlinewidth\":0,\"ticks\":\"\"},\"colorscale\":[[0.0,\"#0d0887\"],[0.1111111111111111,\"#46039f\"],[0.2222222222222222,\"#7201a8\"],[0.3333333333333333,\"#9c179e\"],[0.4444444444444444,\"#bd3786\"],[0.5555555555555556,\"#d8576b\"],[0.6666666666666666,\"#ed7953\"],[0.7777777777777778,\"#fb9f3a\"],[0.8888888888888888,\"#fdca26\"],[1.0,\"#f0f921\"]],\"type\":\"contour\"}],\"heatmapgl\":[{\"colorbar\":{\"outlinewidth\":0,\"ticks\":\"\"},\"colorscale\":[[0.0,\"#0d0887\"],[0.1111111111111111,\"#46039f\"],[0.2222222222222222,\"#7201a8\"],[0.3333333333333333,\"#9c179e\"],[0.4444444444444444,\"#bd3786\"],[0.5555555555555556,\"#d8576b\"],[0.6666666666666666,\"#ed7953\"],[0.7777777777777778,\"#fb9f3a\"],[0.8888888888888888,\"#fdca26\"],[1.0,\"#f0f921\"]],\"type\":\"heatmapgl\"}],\"heatmap\":[{\"colorbar\":{\"outlinewidth\":0,\"ticks\":\"\"},\"colorscale\":[[0.0,\"#0d0887\"],[0.1111111111111111,\"#46039f\"],[0.2222222222222222,\"#7201a8\"],[0.3333333333333333,\"#9c179e\"],[0.4444444444444444,\"#bd3786\"],[0.5555555555555556,\"#d8576b\"],[0.6666666666666666,\"#ed7953\"],[0.7777777777777778,\"#fb9f3a\"],[0.8888888888888888,\"#fdca26\"],[1.0,\"#f0f921\"]],\"type\":\"heatmap\"}],\"histogram2dcontour\":[{\"colorbar\":{\"outlinewidth\":0,\"ticks\":\"\"},\"colorscale\":[[0.0,\"#0d0887\"],[0.1111111111111111,\"#46039f\"],[0.2222222222222222,\"#7201a8\"],[0.3333333333333333,\"#9c179e\"],[0.4444444444444444,\"#bd3786\"],[0.5555555555555556,\"#d8576b\"],[0.6666666666666666,\"#ed7953\"],[0.7777777777777778,\"#fb9f3a\"],[0.8888888888888888,\"#fdca26\"],[1.0,\"#f0f921\"]],\"type\":\"histogram2dcontour\"}],\"histogram2d\":[{\"colorbar\":{\"outlinewidth\":0,\"ticks\":\"\"},\"colorscale\":[[0.0,\"#0d0887\"],[0.1111111111111111,\"#46039f\"],[0.2222222222222222,\"#7201a8\"],[0.3333333333333333,\"#9c179e\"],[0.4444444444444444,\"#bd3786\"],[0.5555555555555556,\"#d8576b\"],[0.6666666666666666,\"#ed7953\"],[0.7777777777777778,\"#fb9f3a\"],[0.8888888888888888,\"#fdca26\"],[1.0,\"#f0f921\"]],\"type\":\"histogram2d\"}],\"histogram\":[{\"marker\":{\"pattern\":{\"fillmode\":\"overlay\",\"size\":10,\"solidity\":0.2}},\"type\":\"histogram\"}],\"mesh3d\":[{\"colorbar\":{\"outlinewidth\":0,\"ticks\":\"\"},\"type\":\"mesh3d\"}],\"parcoords\":[{\"line\":{\"colorbar\":{\"outlinewidth\":0,\"ticks\":\"\"}},\"type\":\"parcoords\"}],\"pie\":[{\"automargin\":true,\"type\":\"pie\"}],\"scatter3d\":[{\"line\":{\"colorbar\":{\"outlinewidth\":0,\"ticks\":\"\"}},\"marker\":{\"colorbar\":{\"outlinewidth\":0,\"ticks\":\"\"}},\"type\":\"scatter3d\"}],\"scattercarpet\":[{\"marker\":{\"colorbar\":{\"outlinewidth\":0,\"ticks\":\"\"}},\"type\":\"scattercarpet\"}],\"scattergeo\":[{\"marker\":{\"colorbar\":{\"outlinewidth\":0,\"ticks\":\"\"}},\"type\":\"scattergeo\"}],\"scattergl\":[{\"marker\":{\"colorbar\":{\"outlinewidth\":0,\"ticks\":\"\"}},\"type\":\"scattergl\"}],\"scattermapbox\":[{\"marker\":{\"colorbar\":{\"outlinewidth\":0,\"ticks\":\"\"}},\"type\":\"scattermapbox\"}],\"scatterpolargl\":[{\"marker\":{\"colorbar\":{\"outlinewidth\":0,\"ticks\":\"\"}},\"type\":\"scatterpolargl\"}],\"scatterpolar\":[{\"marker\":{\"colorbar\":{\"outlinewidth\":0,\"ticks\":\"\"}},\"type\":\"scatterpolar\"}],\"scatter\":[{\"fillpattern\":{\"fillmode\":\"overlay\",\"size\":10,\"solidity\":0.2},\"type\":\"scatter\"}],\"scatterternary\":[{\"marker\":{\"colorbar\":{\"outlinewidth\":0,\"ticks\":\"\"}},\"type\":\"scatterternary\"}],\"surface\":[{\"colorbar\":{\"outlinewidth\":0,\"ticks\":\"\"},\"colorscale\":[[0.0,\"#0d0887\"],[0.1111111111111111,\"#46039f\"],[0.2222222222222222,\"#7201a8\"],[0.3333333333333333,\"#9c179e\"],[0.4444444444444444,\"#bd3786\"],[0.5555555555555556,\"#d8576b\"],[0.6666666666666666,\"#ed7953\"],[0.7777777777777778,\"#fb9f3a\"],[0.8888888888888888,\"#fdca26\"],[1.0,\"#f0f921\"]],\"type\":\"surface\"}],\"table\":[{\"cells\":{\"fill\":{\"color\":\"#EBF0F8\"},\"line\":{\"color\":\"white\"}},\"header\":{\"fill\":{\"color\":\"#C8D4E3\"},\"line\":{\"color\":\"white\"}},\"type\":\"table\"}]},\"layout\":{\"annotationdefaults\":{\"arrowcolor\":\"#2a3f5f\",\"arrowhead\":0,\"arrowwidth\":1},\"autotypenumbers\":\"strict\",\"coloraxis\":{\"colorbar\":{\"outlinewidth\":0,\"ticks\":\"\"}},\"colorscale\":{\"diverging\":[[0,\"#8e0152\"],[0.1,\"#c51b7d\"],[0.2,\"#de77ae\"],[0.3,\"#f1b6da\"],[0.4,\"#fde0ef\"],[0.5,\"#f7f7f7\"],[0.6,\"#e6f5d0\"],[0.7,\"#b8e186\"],[0.8,\"#7fbc41\"],[0.9,\"#4d9221\"],[1,\"#276419\"]],\"sequential\":[[0.0,\"#0d0887\"],[0.1111111111111111,\"#46039f\"],[0.2222222222222222,\"#7201a8\"],[0.3333333333333333,\"#9c179e\"],[0.4444444444444444,\"#bd3786\"],[0.5555555555555556,\"#d8576b\"],[0.6666666666666666,\"#ed7953\"],[0.7777777777777778,\"#fb9f3a\"],[0.8888888888888888,\"#fdca26\"],[1.0,\"#f0f921\"]],\"sequentialminus\":[[0.0,\"#0d0887\"],[0.1111111111111111,\"#46039f\"],[0.2222222222222222,\"#7201a8\"],[0.3333333333333333,\"#9c179e\"],[0.4444444444444444,\"#bd3786\"],[0.5555555555555556,\"#d8576b\"],[0.6666666666666666,\"#ed7953\"],[0.7777777777777778,\"#fb9f3a\"],[0.8888888888888888,\"#fdca26\"],[1.0,\"#f0f921\"]]},\"colorway\":[\"#636efa\",\"#EF553B\",\"#00cc96\",\"#ab63fa\",\"#FFA15A\",\"#19d3f3\",\"#FF6692\",\"#B6E880\",\"#FF97FF\",\"#FECB52\"],\"font\":{\"color\":\"#2a3f5f\"},\"geo\":{\"bgcolor\":\"white\",\"lakecolor\":\"white\",\"landcolor\":\"white\",\"showlakes\":true,\"showland\":true,\"subunitcolor\":\"#C8D4E3\"},\"hoverlabel\":{\"align\":\"left\"},\"hovermode\":\"closest\",\"mapbox\":{\"style\":\"light\"},\"paper_bgcolor\":\"white\",\"plot_bgcolor\":\"white\",\"polar\":{\"angularaxis\":{\"gridcolor\":\"#EBF0F8\",\"linecolor\":\"#EBF0F8\",\"ticks\":\"\"},\"bgcolor\":\"white\",\"radialaxis\":{\"gridcolor\":\"#EBF0F8\",\"linecolor\":\"#EBF0F8\",\"ticks\":\"\"}},\"scene\":{\"xaxis\":{\"backgroundcolor\":\"white\",\"gridcolor\":\"#DFE8F3\",\"gridwidth\":2,\"linecolor\":\"#EBF0F8\",\"showbackground\":true,\"ticks\":\"\",\"zerolinecolor\":\"#EBF0F8\"},\"yaxis\":{\"backgroundcolor\":\"white\",\"gridcolor\":\"#DFE8F3\",\"gridwidth\":2,\"linecolor\":\"#EBF0F8\",\"showbackground\":true,\"ticks\":\"\",\"zerolinecolor\":\"#EBF0F8\"},\"zaxis\":{\"backgroundcolor\":\"white\",\"gridcolor\":\"#DFE8F3\",\"gridwidth\":2,\"linecolor\":\"#EBF0F8\",\"showbackground\":true,\"ticks\":\"\",\"zerolinecolor\":\"#EBF0F8\"}},\"shapedefaults\":{\"line\":{\"color\":\"#2a3f5f\"}},\"ternary\":{\"aaxis\":{\"gridcolor\":\"#DFE8F3\",\"linecolor\":\"#A2B1C6\",\"ticks\":\"\"},\"baxis\":{\"gridcolor\":\"#DFE8F3\",\"linecolor\":\"#A2B1C6\",\"ticks\":\"\"},\"bgcolor\":\"white\",\"caxis\":{\"gridcolor\":\"#DFE8F3\",\"linecolor\":\"#A2B1C6\",\"ticks\":\"\"}},\"title\":{\"x\":0.05},\"xaxis\":{\"automargin\":true,\"gridcolor\":\"#EBF0F8\",\"linecolor\":\"#EBF0F8\",\"ticks\":\"\",\"title\":{\"standoff\":15},\"zerolinecolor\":\"#EBF0F8\",\"zerolinewidth\":2},\"yaxis\":{\"automargin\":true,\"gridcolor\":\"#EBF0F8\",\"linecolor\":\"#EBF0F8\",\"ticks\":\"\",\"title\":{\"standoff\":15},\"zerolinecolor\":\"#EBF0F8\",\"zerolinewidth\":2}}},\"legend\":{\"x\":1.05,\"y\":1,\"traceorder\":\"normal\",\"orientation\":\"v\"},\"title\":{\"text\":\"\\u041f\\u0440\\u0435\\u0434\\u043f\\u043e\\u043b\\u0430\\u0433\\u0430\\u0435\\u043c\\u0430\\u044f \\u043c\\u043e\\u0434\\u0435\\u043b\\u044c - \\u042d\\u043a\\u0441\\u043f\\u043e\\u043d\\u0435\\u043d\\u0446\\u0438\\u0430\\u043b\\u044c\\u043d\\u0430\\u044f\"},\"xaxis\":{\"title\":{\"text\":\"K2065G_2_POROSITY\"}},\"yaxis\":{\"title\":{\"text\":\"K2065G_2_PERMEABILITY\"}}},                        {\"responsive\": true}                    ).then(function(){\n                            \nvar gd = document.getElementById('3491116c-4c04-48ad-88e7-825997d53709');\nvar x = new MutationObserver(function (mutations, observer) {{\n        var display = window.getComputedStyle(gd).display;\n        if (!display || display === 'none') {{\n            console.log([gd, 'removed!']);\n            Plotly.purge(gd);\n            observer.disconnect();\n        }}\n}});\n\n// Listen for the removal of the full notebook cells\nvar notebookContainer = gd.closest('#notebook-container');\nif (notebookContainer) {{\n    x.observe(notebookContainer, {childList: true});\n}}\n\n// Listen for the clearing of the current output cell\nvar outputEl = gd.closest('.output');\nif (outputEl) {{\n    x.observe(outputEl, {childList: true});\n}}\n\n                        })                };                });            </script>        </div>"
     },
     "metadata": {},
     "output_type": "display_data"
    },
    {
     "data": {
      "application/vnd.plotly.v1+json": {
       "data": [
        {
         "marker": {
          "color": "blue"
         },
         "mode": "markers",
         "name": "Данные",
         "x": [
          0.1702211499,
          0.1692114919,
          0.1682019383,
          0.1682019383,
          0.1676971763,
          0.1666875035,
          0.1651730686,
          0.1641634107,
          0.1631538719,
          0.1626489758,
          0.1621442139,
          0.1621442139,
          0.1626489758,
          0.1631538719,
          0.1631538719,
          0.1631538719,
          0.1626489758,
          0.1626489758,
          0.1626489758,
          0.1621442139,
          0.1611346602,
          0.1611346602,
          0.1616394371,
          0.1616394371,
          0.1611346602,
          0.1616394371,
          0.1611346602,
          0.1611346602,
          0.1606297791,
          0.1606297791,
          0.1606297791,
          0.1596202254,
          0.1596202254,
          0.1596202254,
          0.1591153443,
          0.1586105675,
          0.1591153443,
          0.1596202254,
          0.1591153443,
          0.1586105675,
          0.1586105675,
          0.1591153443,
          0.1591153443,
          0.1586105675,
          0.1586105675,
          0.1586105675,
          0.1586105675,
          0.1586105675,
          0.1586105675,
          0.1591153443,
          0.1591153443,
          0.1601250023,
          0.1611346602,
          0.1616394371,
          0.1636586487,
          0.1641634107,
          0.1656778455,
          0.1676971763,
          0.1682019383,
          0.1707259119,
          0.1712308079,
          0.1727452427,
          0.1747644544,
          0.1757739931,
          0.1757739931,
          0.1762788892,
          0.1757739931,
          0.1757739931,
          0.1747644544,
          0.1737547815,
          0.1737547815,
          0.1732500196,
          0.1727452427,
          0.1732500196,
          0.1737547815,
          0.1732500196,
          0.1737547815,
          0.1727452427,
          0.1722403467,
          0.1717355847,
          0.1707259119,
          0.1702211499,
          0.1692114919,
          0.1697163731,
          0.1692114919,
          0.1687067151,
          0.1687067151,
          0.1692114919,
          0.1682019383,
          0.1676971763,
          0.1661827415,
          0.1651730686,
          0.1641634107,
          0.1631538719,
          0.1616394371,
          0.1611346602,
          0.1601250023,
          0.1606297791,
          0.1601250023,
          0.1601250023
         ],
         "y": [
          5.305978775,
          4.8371400833,
          4.4056649208,
          4.4056649208,
          4.2031207085,
          3.8228139877,
          3.3101279736,
          3.0036234856,
          2.7229943275,
          2.5917332172,
          2.4662578106,
          2.4662578106,
          2.5917332172,
          2.7229943275,
          2.7229943275,
          2.7229943275,
          2.5917332172,
          2.5917332172,
          2.5917332172,
          2.4662578106,
          2.2316713333,
          2.2316713333,
          2.3463072777,
          2.3463072777,
          2.2316713333,
          2.3463072777,
          2.2316713333,
          2.2316713333,
          2.1221199036,
          2.1221199036,
          2.1221199036,
          1.917586565,
          1.917586565,
          1.917586565,
          1.8221800327,
          1.7311353683,
          1.8221800327,
          1.917586565,
          1.8221800327,
          1.7311353683,
          1.7311353683,
          1.8221800327,
          1.8221800327,
          1.7311353683,
          1.7311353683,
          1.7311353683,
          1.7311353683,
          1.7311353683,
          1.7311353683,
          1.8221800327,
          1.8221800327,
          2.0174975395,
          2.2316713333,
          2.3463072777,
          2.860203743,
          3.0036234856,
          3.4736862183,
          4.2031207085,
          4.4056649208,
          5.5551991463,
          5.8148417473,
          6.6594138145,
          7.9533457756,
          8.6795578003,
          8.6795578003,
          9.0640964508,
          8.6795578003,
          8.6795578003,
          7.9533457756,
          7.2810263634,
          7.2810263634,
          6.9641022682,
          6.6594138145,
          6.9641022682,
          7.2810263634,
          6.9641022682,
          7.2810263634,
          6.6594138145,
          6.3665060997,
          6.0851373672,
          5.5551991463,
          5.305978775,
          4.8371400833,
          5.0667529106,
          4.8371400833,
          4.6169013977,
          4.6169013977,
          4.8371400833,
          4.4056649208,
          4.2031207085,
          3.6445188522,
          3.3101279736,
          3.0036234856,
          2.7229943275,
          2.3463072777,
          2.2316713333,
          2.0174975395,
          2.1221199036,
          2.0174975395,
          2.0174975395
         ],
         "type": "scatter"
        },
        {
         "line": {
          "color": "brown"
         },
         "mode": "lines",
         "name": "Логарифмическая: y=0.0000 * log(x) + 3.0000, R²=-0.1314, SSR = 5.193",
         "x": [
          0.1702211499,
          0.1692114919,
          0.1682019383,
          0.1682019383,
          0.1676971763,
          0.1666875035,
          0.1651730686,
          0.1641634107,
          0.1631538719,
          0.1626489758,
          0.1621442139,
          0.1621442139,
          0.1626489758,
          0.1631538719,
          0.1631538719,
          0.1631538719,
          0.1626489758,
          0.1626489758,
          0.1626489758,
          0.1621442139,
          0.1611346602,
          0.1611346602,
          0.1616394371,
          0.1616394371,
          0.1611346602,
          0.1616394371,
          0.1611346602,
          0.1611346602,
          0.1606297791,
          0.1606297791,
          0.1606297791,
          0.1596202254,
          0.1596202254,
          0.1596202254,
          0.1591153443,
          0.1586105675,
          0.1591153443,
          0.1596202254,
          0.1591153443,
          0.1586105675,
          0.1586105675,
          0.1591153443,
          0.1591153443,
          0.1586105675,
          0.1586105675,
          0.1586105675,
          0.1586105675,
          0.1586105675,
          0.1586105675,
          0.1591153443,
          0.1591153443,
          0.1601250023,
          0.1611346602,
          0.1616394371,
          0.1636586487,
          0.1641634107,
          0.1656778455,
          0.1676971763,
          0.1682019383,
          0.1707259119,
          0.1712308079,
          0.1727452427,
          0.1747644544,
          0.1757739931,
          0.1757739931,
          0.1762788892,
          0.1757739931,
          0.1757739931,
          0.1747644544,
          0.1737547815,
          0.1737547815,
          0.1732500196,
          0.1727452427,
          0.1732500196,
          0.1737547815,
          0.1732500196,
          0.1737547815,
          0.1727452427,
          0.1722403467,
          0.1717355847,
          0.1707259119,
          0.1702211499,
          0.1692114919,
          0.1697163731,
          0.1692114919,
          0.1687067151,
          0.1687067151,
          0.1692114919,
          0.1682019383,
          0.1676971763,
          0.1661827415,
          0.1651730686,
          0.1641634107,
          0.1631538719,
          0.1616394371,
          0.1611346602,
          0.1601250023,
          0.1606297791,
          0.1601250023,
          0.1601250023
         ],
         "y": [
          2.9999999999999996,
          2.9999999999999996,
          2.9999999999999996,
          2.9999999999999996,
          2.9999999999999996,
          2.9999999999999996,
          2.9999999999999996,
          2.9999999999999996,
          2.9999999999999996,
          2.9999999999999996,
          2.9999999999999996,
          2.9999999999999996,
          2.9999999999999996,
          2.9999999999999996,
          2.9999999999999996,
          2.9999999999999996,
          2.9999999999999996,
          2.9999999999999996,
          2.9999999999999996,
          2.9999999999999996,
          2.9999999999999996,
          2.9999999999999996,
          2.9999999999999996,
          2.9999999999999996,
          2.9999999999999996,
          2.9999999999999996,
          2.9999999999999996,
          2.9999999999999996,
          2.9999999999999996,
          2.9999999999999996,
          2.9999999999999996,
          2.9999999999999996,
          2.9999999999999996,
          2.9999999999999996,
          2.9999999999999996,
          2.9999999999999996,
          2.9999999999999996,
          2.9999999999999996,
          2.9999999999999996,
          2.9999999999999996,
          2.9999999999999996,
          2.9999999999999996,
          2.9999999999999996,
          2.9999999999999996,
          2.9999999999999996,
          2.9999999999999996,
          2.9999999999999996,
          2.9999999999999996,
          2.9999999999999996,
          2.9999999999999996,
          2.9999999999999996,
          2.9999999999999996,
          2.9999999999999996,
          2.9999999999999996,
          2.9999999999999996,
          2.9999999999999996,
          2.9999999999999996,
          2.9999999999999996,
          2.9999999999999996,
          2.9999999999999996,
          2.9999999999999996,
          2.9999999999999996,
          2.9999999999999996,
          2.9999999999999996,
          2.9999999999999996,
          2.9999999999999996,
          2.9999999999999996,
          2.9999999999999996,
          2.9999999999999996,
          2.9999999999999996,
          2.9999999999999996,
          2.9999999999999996,
          2.9999999999999996,
          2.9999999999999996,
          2.9999999999999996,
          2.9999999999999996,
          2.9999999999999996,
          2.9999999999999996,
          2.9999999999999996,
          2.9999999999999996,
          2.9999999999999996,
          2.9999999999999996,
          2.9999999999999996,
          2.9999999999999996,
          2.9999999999999996,
          2.9999999999999996,
          2.9999999999999996,
          2.9999999999999996,
          2.9999999999999996,
          2.9999999999999996,
          2.9999999999999996,
          2.9999999999999996,
          2.9999999999999996,
          2.9999999999999996,
          2.9999999999999996,
          2.9999999999999996,
          2.9999999999999996,
          2.9999999999999996,
          2.9999999999999996,
          2.9999999999999996
         ],
         "type": "scatter"
        },
        {
         "line": {
          "color": "lightgrey",
          "dash": "dash"
         },
         "mode": "lines",
         "name": "Нижняя граница",
         "x": [
          0.1702211499,
          0.1692114919,
          0.1682019383,
          0.1682019383,
          0.1676971763,
          0.1666875035,
          0.1651730686,
          0.1641634107,
          0.1631538719,
          0.1626489758,
          0.1621442139,
          0.1621442139,
          0.1626489758,
          0.1631538719,
          0.1631538719,
          0.1631538719,
          0.1626489758,
          0.1626489758,
          0.1626489758,
          0.1621442139,
          0.1611346602,
          0.1611346602,
          0.1616394371,
          0.1616394371,
          0.1611346602,
          0.1616394371,
          0.1611346602,
          0.1611346602,
          0.1606297791,
          0.1606297791,
          0.1606297791,
          0.1596202254,
          0.1596202254,
          0.1596202254,
          0.1591153443,
          0.1586105675,
          0.1591153443,
          0.1596202254,
          0.1591153443,
          0.1586105675,
          0.1586105675,
          0.1591153443,
          0.1591153443,
          0.1586105675,
          0.1586105675,
          0.1586105675,
          0.1586105675,
          0.1586105675,
          0.1586105675,
          0.1591153443,
          0.1591153443,
          0.1601250023,
          0.1611346602,
          0.1616394371,
          0.1636586487,
          0.1641634107,
          0.1656778455,
          0.1676971763,
          0.1682019383,
          0.1707259119,
          0.1712308079,
          0.1727452427,
          0.1747644544,
          0.1757739931,
          0.1757739931,
          0.1762788892,
          0.1757739931,
          0.1757739931,
          0.1747644544,
          0.1737547815,
          0.1737547815,
          0.1732500196,
          0.1727452427,
          0.1732500196,
          0.1737547815,
          0.1732500196,
          0.1737547815,
          0.1727452427,
          0.1722403467,
          0.1717355847,
          0.1707259119,
          0.1702211499,
          0.1692114919,
          0.1697163731,
          0.1692114919,
          0.1687067151,
          0.1687067151,
          0.1692114919,
          0.1682019383,
          0.1676971763,
          0.1661827415,
          0.1651730686,
          0.1641634107,
          0.1631538719,
          0.1616394371,
          0.1611346602,
          0.1601250023,
          0.1606297791,
          0.1601250023,
          0.1601250023
         ],
         "y": [
          -1.2099229078264382,
          -1.2099229078264382,
          -1.2099229078264382,
          -1.2099229078264382,
          -1.2099229078264382,
          -1.2099229078264382,
          -1.2099229078264382,
          -1.2099229078264382,
          -1.2099229078264382,
          -1.2099229078264382,
          -1.2099229078264382,
          -1.2099229078264382,
          -1.2099229078264382,
          -1.2099229078264382,
          -1.2099229078264382,
          -1.2099229078264382,
          -1.2099229078264382,
          -1.2099229078264382,
          -1.2099229078264382,
          -1.2099229078264382,
          -1.2099229078264382,
          -1.2099229078264382,
          -1.2099229078264382,
          -1.2099229078264382,
          -1.2099229078264382,
          -1.2099229078264382,
          -1.2099229078264382,
          -1.2099229078264382,
          -1.2099229078264382,
          -1.2099229078264382,
          -1.2099229078264382,
          -1.2099229078264382,
          -1.2099229078264382,
          -1.2099229078264382,
          -1.2099229078264382,
          -1.2099229078264382,
          -1.2099229078264382,
          -1.2099229078264382,
          -1.2099229078264382,
          -1.2099229078264382,
          -1.2099229078264382,
          -1.2099229078264382,
          -1.2099229078264382,
          -1.2099229078264382,
          -1.2099229078264382,
          -1.2099229078264382,
          -1.2099229078264382,
          -1.2099229078264382,
          -1.2099229078264382,
          -1.2099229078264382,
          -1.2099229078264382,
          -1.2099229078264382,
          -1.2099229078264382,
          -1.2099229078264382,
          -1.2099229078264382,
          -1.2099229078264382,
          -1.2099229078264382,
          -1.2099229078264382,
          -1.2099229078264382,
          -1.2099229078264382,
          -1.2099229078264382,
          -1.2099229078264382,
          -1.2099229078264382,
          -1.2099229078264382,
          -1.2099229078264382,
          -1.2099229078264382,
          -1.2099229078264382,
          -1.2099229078264382,
          -1.2099229078264382,
          -1.2099229078264382,
          -1.2099229078264382,
          -1.2099229078264382,
          -1.2099229078264382,
          -1.2099229078264382,
          -1.2099229078264382,
          -1.2099229078264382,
          -1.2099229078264382,
          -1.2099229078264382,
          -1.2099229078264382,
          -1.2099229078264382,
          -1.2099229078264382,
          -1.2099229078264382,
          -1.2099229078264382,
          -1.2099229078264382,
          -1.2099229078264382,
          -1.2099229078264382,
          -1.2099229078264382,
          -1.2099229078264382,
          -1.2099229078264382,
          -1.2099229078264382,
          -1.2099229078264382,
          -1.2099229078264382,
          -1.2099229078264382,
          -1.2099229078264382,
          -1.2099229078264382,
          -1.2099229078264382,
          -1.2099229078264382,
          -1.2099229078264382,
          -1.2099229078264382,
          -1.2099229078264382
         ],
         "type": "scatter"
        },
        {
         "line": {
          "color": "lightgrey",
          "dash": "dash"
         },
         "mode": "lines",
         "name": "Верхняя граница",
         "x": [
          0.1702211499,
          0.1692114919,
          0.1682019383,
          0.1682019383,
          0.1676971763,
          0.1666875035,
          0.1651730686,
          0.1641634107,
          0.1631538719,
          0.1626489758,
          0.1621442139,
          0.1621442139,
          0.1626489758,
          0.1631538719,
          0.1631538719,
          0.1631538719,
          0.1626489758,
          0.1626489758,
          0.1626489758,
          0.1621442139,
          0.1611346602,
          0.1611346602,
          0.1616394371,
          0.1616394371,
          0.1611346602,
          0.1616394371,
          0.1611346602,
          0.1611346602,
          0.1606297791,
          0.1606297791,
          0.1606297791,
          0.1596202254,
          0.1596202254,
          0.1596202254,
          0.1591153443,
          0.1586105675,
          0.1591153443,
          0.1596202254,
          0.1591153443,
          0.1586105675,
          0.1586105675,
          0.1591153443,
          0.1591153443,
          0.1586105675,
          0.1586105675,
          0.1586105675,
          0.1586105675,
          0.1586105675,
          0.1586105675,
          0.1591153443,
          0.1591153443,
          0.1601250023,
          0.1611346602,
          0.1616394371,
          0.1636586487,
          0.1641634107,
          0.1656778455,
          0.1676971763,
          0.1682019383,
          0.1707259119,
          0.1712308079,
          0.1727452427,
          0.1747644544,
          0.1757739931,
          0.1757739931,
          0.1762788892,
          0.1757739931,
          0.1757739931,
          0.1747644544,
          0.1737547815,
          0.1737547815,
          0.1732500196,
          0.1727452427,
          0.1732500196,
          0.1737547815,
          0.1732500196,
          0.1737547815,
          0.1727452427,
          0.1722403467,
          0.1717355847,
          0.1707259119,
          0.1702211499,
          0.1692114919,
          0.1697163731,
          0.1692114919,
          0.1687067151,
          0.1687067151,
          0.1692114919,
          0.1682019383,
          0.1676971763,
          0.1661827415,
          0.1651730686,
          0.1641634107,
          0.1631538719,
          0.1616394371,
          0.1611346602,
          0.1601250023,
          0.1606297791,
          0.1601250023,
          0.1601250023
         ],
         "y": [
          7.209922907826437,
          7.209922907826437,
          7.209922907826437,
          7.209922907826437,
          7.209922907826437,
          7.209922907826437,
          7.209922907826437,
          7.209922907826437,
          7.209922907826437,
          7.209922907826437,
          7.209922907826437,
          7.209922907826437,
          7.209922907826437,
          7.209922907826437,
          7.209922907826437,
          7.209922907826437,
          7.209922907826437,
          7.209922907826437,
          7.209922907826437,
          7.209922907826437,
          7.209922907826437,
          7.209922907826437,
          7.209922907826437,
          7.209922907826437,
          7.209922907826437,
          7.209922907826437,
          7.209922907826437,
          7.209922907826437,
          7.209922907826437,
          7.209922907826437,
          7.209922907826437,
          7.209922907826437,
          7.209922907826437,
          7.209922907826437,
          7.209922907826437,
          7.209922907826437,
          7.209922907826437,
          7.209922907826437,
          7.209922907826437,
          7.209922907826437,
          7.209922907826437,
          7.209922907826437,
          7.209922907826437,
          7.209922907826437,
          7.209922907826437,
          7.209922907826437,
          7.209922907826437,
          7.209922907826437,
          7.209922907826437,
          7.209922907826437,
          7.209922907826437,
          7.209922907826437,
          7.209922907826437,
          7.209922907826437,
          7.209922907826437,
          7.209922907826437,
          7.209922907826437,
          7.209922907826437,
          7.209922907826437,
          7.209922907826437,
          7.209922907826437,
          7.209922907826437,
          7.209922907826437,
          7.209922907826437,
          7.209922907826437,
          7.209922907826437,
          7.209922907826437,
          7.209922907826437,
          7.209922907826437,
          7.209922907826437,
          7.209922907826437,
          7.209922907826437,
          7.209922907826437,
          7.209922907826437,
          7.209922907826437,
          7.209922907826437,
          7.209922907826437,
          7.209922907826437,
          7.209922907826437,
          7.209922907826437,
          7.209922907826437,
          7.209922907826437,
          7.209922907826437,
          7.209922907826437,
          7.209922907826437,
          7.209922907826437,
          7.209922907826437,
          7.209922907826437,
          7.209922907826437,
          7.209922907826437,
          7.209922907826437,
          7.209922907826437,
          7.209922907826437,
          7.209922907826437,
          7.209922907826437,
          7.209922907826437,
          7.209922907826437,
          7.209922907826437,
          7.209922907826437,
          7.209922907826437
         ],
         "type": "scatter"
        }
       ],
       "layout": {
        "template": {
         "data": {
          "barpolar": [
           {
            "marker": {
             "line": {
              "color": "white",
              "width": 0.5
             },
             "pattern": {
              "fillmode": "overlay",
              "size": 10,
              "solidity": 0.2
             }
            },
            "type": "barpolar"
           }
          ],
          "bar": [
           {
            "error_x": {
             "color": "#2a3f5f"
            },
            "error_y": {
             "color": "#2a3f5f"
            },
            "marker": {
             "line": {
              "color": "white",
              "width": 0.5
             },
             "pattern": {
              "fillmode": "overlay",
              "size": 10,
              "solidity": 0.2
             }
            },
            "type": "bar"
           }
          ],
          "carpet": [
           {
            "aaxis": {
             "endlinecolor": "#2a3f5f",
             "gridcolor": "#C8D4E3",
             "linecolor": "#C8D4E3",
             "minorgridcolor": "#C8D4E3",
             "startlinecolor": "#2a3f5f"
            },
            "baxis": {
             "endlinecolor": "#2a3f5f",
             "gridcolor": "#C8D4E3",
             "linecolor": "#C8D4E3",
             "minorgridcolor": "#C8D4E3",
             "startlinecolor": "#2a3f5f"
            },
            "type": "carpet"
           }
          ],
          "choropleth": [
           {
            "colorbar": {
             "outlinewidth": 0,
             "ticks": ""
            },
            "type": "choropleth"
           }
          ],
          "contourcarpet": [
           {
            "colorbar": {
             "outlinewidth": 0,
             "ticks": ""
            },
            "type": "contourcarpet"
           }
          ],
          "contour": [
           {
            "colorbar": {
             "outlinewidth": 0,
             "ticks": ""
            },
            "colorscale": [
             [
              0.0,
              "#0d0887"
             ],
             [
              0.1111111111111111,
              "#46039f"
             ],
             [
              0.2222222222222222,
              "#7201a8"
             ],
             [
              0.3333333333333333,
              "#9c179e"
             ],
             [
              0.4444444444444444,
              "#bd3786"
             ],
             [
              0.5555555555555556,
              "#d8576b"
             ],
             [
              0.6666666666666666,
              "#ed7953"
             ],
             [
              0.7777777777777778,
              "#fb9f3a"
             ],
             [
              0.8888888888888888,
              "#fdca26"
             ],
             [
              1.0,
              "#f0f921"
             ]
            ],
            "type": "contour"
           }
          ],
          "heatmapgl": [
           {
            "colorbar": {
             "outlinewidth": 0,
             "ticks": ""
            },
            "colorscale": [
             [
              0.0,
              "#0d0887"
             ],
             [
              0.1111111111111111,
              "#46039f"
             ],
             [
              0.2222222222222222,
              "#7201a8"
             ],
             [
              0.3333333333333333,
              "#9c179e"
             ],
             [
              0.4444444444444444,
              "#bd3786"
             ],
             [
              0.5555555555555556,
              "#d8576b"
             ],
             [
              0.6666666666666666,
              "#ed7953"
             ],
             [
              0.7777777777777778,
              "#fb9f3a"
             ],
             [
              0.8888888888888888,
              "#fdca26"
             ],
             [
              1.0,
              "#f0f921"
             ]
            ],
            "type": "heatmapgl"
           }
          ],
          "heatmap": [
           {
            "colorbar": {
             "outlinewidth": 0,
             "ticks": ""
            },
            "colorscale": [
             [
              0.0,
              "#0d0887"
             ],
             [
              0.1111111111111111,
              "#46039f"
             ],
             [
              0.2222222222222222,
              "#7201a8"
             ],
             [
              0.3333333333333333,
              "#9c179e"
             ],
             [
              0.4444444444444444,
              "#bd3786"
             ],
             [
              0.5555555555555556,
              "#d8576b"
             ],
             [
              0.6666666666666666,
              "#ed7953"
             ],
             [
              0.7777777777777778,
              "#fb9f3a"
             ],
             [
              0.8888888888888888,
              "#fdca26"
             ],
             [
              1.0,
              "#f0f921"
             ]
            ],
            "type": "heatmap"
           }
          ],
          "histogram2dcontour": [
           {
            "colorbar": {
             "outlinewidth": 0,
             "ticks": ""
            },
            "colorscale": [
             [
              0.0,
              "#0d0887"
             ],
             [
              0.1111111111111111,
              "#46039f"
             ],
             [
              0.2222222222222222,
              "#7201a8"
             ],
             [
              0.3333333333333333,
              "#9c179e"
             ],
             [
              0.4444444444444444,
              "#bd3786"
             ],
             [
              0.5555555555555556,
              "#d8576b"
             ],
             [
              0.6666666666666666,
              "#ed7953"
             ],
             [
              0.7777777777777778,
              "#fb9f3a"
             ],
             [
              0.8888888888888888,
              "#fdca26"
             ],
             [
              1.0,
              "#f0f921"
             ]
            ],
            "type": "histogram2dcontour"
           }
          ],
          "histogram2d": [
           {
            "colorbar": {
             "outlinewidth": 0,
             "ticks": ""
            },
            "colorscale": [
             [
              0.0,
              "#0d0887"
             ],
             [
              0.1111111111111111,
              "#46039f"
             ],
             [
              0.2222222222222222,
              "#7201a8"
             ],
             [
              0.3333333333333333,
              "#9c179e"
             ],
             [
              0.4444444444444444,
              "#bd3786"
             ],
             [
              0.5555555555555556,
              "#d8576b"
             ],
             [
              0.6666666666666666,
              "#ed7953"
             ],
             [
              0.7777777777777778,
              "#fb9f3a"
             ],
             [
              0.8888888888888888,
              "#fdca26"
             ],
             [
              1.0,
              "#f0f921"
             ]
            ],
            "type": "histogram2d"
           }
          ],
          "histogram": [
           {
            "marker": {
             "pattern": {
              "fillmode": "overlay",
              "size": 10,
              "solidity": 0.2
             }
            },
            "type": "histogram"
           }
          ],
          "mesh3d": [
           {
            "colorbar": {
             "outlinewidth": 0,
             "ticks": ""
            },
            "type": "mesh3d"
           }
          ],
          "parcoords": [
           {
            "line": {
             "colorbar": {
              "outlinewidth": 0,
              "ticks": ""
             }
            },
            "type": "parcoords"
           }
          ],
          "pie": [
           {
            "automargin": true,
            "type": "pie"
           }
          ],
          "scatter3d": [
           {
            "line": {
             "colorbar": {
              "outlinewidth": 0,
              "ticks": ""
             }
            },
            "marker": {
             "colorbar": {
              "outlinewidth": 0,
              "ticks": ""
             }
            },
            "type": "scatter3d"
           }
          ],
          "scattercarpet": [
           {
            "marker": {
             "colorbar": {
              "outlinewidth": 0,
              "ticks": ""
             }
            },
            "type": "scattercarpet"
           }
          ],
          "scattergeo": [
           {
            "marker": {
             "colorbar": {
              "outlinewidth": 0,
              "ticks": ""
             }
            },
            "type": "scattergeo"
           }
          ],
          "scattergl": [
           {
            "marker": {
             "colorbar": {
              "outlinewidth": 0,
              "ticks": ""
             }
            },
            "type": "scattergl"
           }
          ],
          "scattermapbox": [
           {
            "marker": {
             "colorbar": {
              "outlinewidth": 0,
              "ticks": ""
             }
            },
            "type": "scattermapbox"
           }
          ],
          "scatterpolargl": [
           {
            "marker": {
             "colorbar": {
              "outlinewidth": 0,
              "ticks": ""
             }
            },
            "type": "scatterpolargl"
           }
          ],
          "scatterpolar": [
           {
            "marker": {
             "colorbar": {
              "outlinewidth": 0,
              "ticks": ""
             }
            },
            "type": "scatterpolar"
           }
          ],
          "scatter": [
           {
            "fillpattern": {
             "fillmode": "overlay",
             "size": 10,
             "solidity": 0.2
            },
            "type": "scatter"
           }
          ],
          "scatterternary": [
           {
            "marker": {
             "colorbar": {
              "outlinewidth": 0,
              "ticks": ""
             }
            },
            "type": "scatterternary"
           }
          ],
          "surface": [
           {
            "colorbar": {
             "outlinewidth": 0,
             "ticks": ""
            },
            "colorscale": [
             [
              0.0,
              "#0d0887"
             ],
             [
              0.1111111111111111,
              "#46039f"
             ],
             [
              0.2222222222222222,
              "#7201a8"
             ],
             [
              0.3333333333333333,
              "#9c179e"
             ],
             [
              0.4444444444444444,
              "#bd3786"
             ],
             [
              0.5555555555555556,
              "#d8576b"
             ],
             [
              0.6666666666666666,
              "#ed7953"
             ],
             [
              0.7777777777777778,
              "#fb9f3a"
             ],
             [
              0.8888888888888888,
              "#fdca26"
             ],
             [
              1.0,
              "#f0f921"
             ]
            ],
            "type": "surface"
           }
          ],
          "table": [
           {
            "cells": {
             "fill": {
              "color": "#EBF0F8"
             },
             "line": {
              "color": "white"
             }
            },
            "header": {
             "fill": {
              "color": "#C8D4E3"
             },
             "line": {
              "color": "white"
             }
            },
            "type": "table"
           }
          ]
         },
         "layout": {
          "annotationdefaults": {
           "arrowcolor": "#2a3f5f",
           "arrowhead": 0,
           "arrowwidth": 1
          },
          "autotypenumbers": "strict",
          "coloraxis": {
           "colorbar": {
            "outlinewidth": 0,
            "ticks": ""
           }
          },
          "colorscale": {
           "diverging": [
            [
             0,
             "#8e0152"
            ],
            [
             0.1,
             "#c51b7d"
            ],
            [
             0.2,
             "#de77ae"
            ],
            [
             0.3,
             "#f1b6da"
            ],
            [
             0.4,
             "#fde0ef"
            ],
            [
             0.5,
             "#f7f7f7"
            ],
            [
             0.6,
             "#e6f5d0"
            ],
            [
             0.7,
             "#b8e186"
            ],
            [
             0.8,
             "#7fbc41"
            ],
            [
             0.9,
             "#4d9221"
            ],
            [
             1,
             "#276419"
            ]
           ],
           "sequential": [
            [
             0.0,
             "#0d0887"
            ],
            [
             0.1111111111111111,
             "#46039f"
            ],
            [
             0.2222222222222222,
             "#7201a8"
            ],
            [
             0.3333333333333333,
             "#9c179e"
            ],
            [
             0.4444444444444444,
             "#bd3786"
            ],
            [
             0.5555555555555556,
             "#d8576b"
            ],
            [
             0.6666666666666666,
             "#ed7953"
            ],
            [
             0.7777777777777778,
             "#fb9f3a"
            ],
            [
             0.8888888888888888,
             "#fdca26"
            ],
            [
             1.0,
             "#f0f921"
            ]
           ],
           "sequentialminus": [
            [
             0.0,
             "#0d0887"
            ],
            [
             0.1111111111111111,
             "#46039f"
            ],
            [
             0.2222222222222222,
             "#7201a8"
            ],
            [
             0.3333333333333333,
             "#9c179e"
            ],
            [
             0.4444444444444444,
             "#bd3786"
            ],
            [
             0.5555555555555556,
             "#d8576b"
            ],
            [
             0.6666666666666666,
             "#ed7953"
            ],
            [
             0.7777777777777778,
             "#fb9f3a"
            ],
            [
             0.8888888888888888,
             "#fdca26"
            ],
            [
             1.0,
             "#f0f921"
            ]
           ]
          },
          "colorway": [
           "#636efa",
           "#EF553B",
           "#00cc96",
           "#ab63fa",
           "#FFA15A",
           "#19d3f3",
           "#FF6692",
           "#B6E880",
           "#FF97FF",
           "#FECB52"
          ],
          "font": {
           "color": "#2a3f5f"
          },
          "geo": {
           "bgcolor": "white",
           "lakecolor": "white",
           "landcolor": "white",
           "showlakes": true,
           "showland": true,
           "subunitcolor": "#C8D4E3"
          },
          "hoverlabel": {
           "align": "left"
          },
          "hovermode": "closest",
          "mapbox": {
           "style": "light"
          },
          "paper_bgcolor": "white",
          "plot_bgcolor": "white",
          "polar": {
           "angularaxis": {
            "gridcolor": "#EBF0F8",
            "linecolor": "#EBF0F8",
            "ticks": ""
           },
           "bgcolor": "white",
           "radialaxis": {
            "gridcolor": "#EBF0F8",
            "linecolor": "#EBF0F8",
            "ticks": ""
           }
          },
          "scene": {
           "xaxis": {
            "backgroundcolor": "white",
            "gridcolor": "#DFE8F3",
            "gridwidth": 2,
            "linecolor": "#EBF0F8",
            "showbackground": true,
            "ticks": "",
            "zerolinecolor": "#EBF0F8"
           },
           "yaxis": {
            "backgroundcolor": "white",
            "gridcolor": "#DFE8F3",
            "gridwidth": 2,
            "linecolor": "#EBF0F8",
            "showbackground": true,
            "ticks": "",
            "zerolinecolor": "#EBF0F8"
           },
           "zaxis": {
            "backgroundcolor": "white",
            "gridcolor": "#DFE8F3",
            "gridwidth": 2,
            "linecolor": "#EBF0F8",
            "showbackground": true,
            "ticks": "",
            "zerolinecolor": "#EBF0F8"
           }
          },
          "shapedefaults": {
           "line": {
            "color": "#2a3f5f"
           }
          },
          "ternary": {
           "aaxis": {
            "gridcolor": "#DFE8F3",
            "linecolor": "#A2B1C6",
            "ticks": ""
           },
           "baxis": {
            "gridcolor": "#DFE8F3",
            "linecolor": "#A2B1C6",
            "ticks": ""
           },
           "bgcolor": "white",
           "caxis": {
            "gridcolor": "#DFE8F3",
            "linecolor": "#A2B1C6",
            "ticks": ""
           }
          },
          "title": {
           "x": 0.05
          },
          "xaxis": {
           "automargin": true,
           "gridcolor": "#EBF0F8",
           "linecolor": "#EBF0F8",
           "ticks": "",
           "title": {
            "standoff": 15
           },
           "zerolinecolor": "#EBF0F8",
           "zerolinewidth": 2
          },
          "yaxis": {
           "automargin": true,
           "gridcolor": "#EBF0F8",
           "linecolor": "#EBF0F8",
           "ticks": "",
           "title": {
            "standoff": 15
           },
           "zerolinecolor": "#EBF0F8",
           "zerolinewidth": 2
          }
         }
        },
        "legend": {
         "x": 1.05,
         "y": 1,
         "traceorder": "normal",
         "orientation": "v"
        },
        "title": {
         "text": "Предполагаемая модель - Логарифмическая"
        },
        "xaxis": {
         "title": {
          "text": "K2065G_2_POROSITY"
         }
        },
        "yaxis": {
         "title": {
          "text": "K2065G_2_PERMEABILITY"
         }
        }
       },
       "config": {
        "plotlyServerURL": "https://plot.ly"
       }
      },
      "text/html": "<div>                            <div id=\"fd4c7d24-9ec4-4b34-90d6-528b46b2c0c5\" class=\"plotly-graph-div\" style=\"height:525px; width:100%;\"></div>            <script type=\"text/javascript\">                require([\"plotly\"], function(Plotly) {                    window.PLOTLYENV=window.PLOTLYENV || {};                                    if (document.getElementById(\"fd4c7d24-9ec4-4b34-90d6-528b46b2c0c5\")) {                    Plotly.newPlot(                        \"fd4c7d24-9ec4-4b34-90d6-528b46b2c0c5\",                        [{\"marker\":{\"color\":\"blue\"},\"mode\":\"markers\",\"name\":\"\\u0414\\u0430\\u043d\\u043d\\u044b\\u0435\",\"x\":[0.1702211499,0.1692114919,0.1682019383,0.1682019383,0.1676971763,0.1666875035,0.1651730686,0.1641634107,0.1631538719,0.1626489758,0.1621442139,0.1621442139,0.1626489758,0.1631538719,0.1631538719,0.1631538719,0.1626489758,0.1626489758,0.1626489758,0.1621442139,0.1611346602,0.1611346602,0.1616394371,0.1616394371,0.1611346602,0.1616394371,0.1611346602,0.1611346602,0.1606297791,0.1606297791,0.1606297791,0.1596202254,0.1596202254,0.1596202254,0.1591153443,0.1586105675,0.1591153443,0.1596202254,0.1591153443,0.1586105675,0.1586105675,0.1591153443,0.1591153443,0.1586105675,0.1586105675,0.1586105675,0.1586105675,0.1586105675,0.1586105675,0.1591153443,0.1591153443,0.1601250023,0.1611346602,0.1616394371,0.1636586487,0.1641634107,0.1656778455,0.1676971763,0.1682019383,0.1707259119,0.1712308079,0.1727452427,0.1747644544,0.1757739931,0.1757739931,0.1762788892,0.1757739931,0.1757739931,0.1747644544,0.1737547815,0.1737547815,0.1732500196,0.1727452427,0.1732500196,0.1737547815,0.1732500196,0.1737547815,0.1727452427,0.1722403467,0.1717355847,0.1707259119,0.1702211499,0.1692114919,0.1697163731,0.1692114919,0.1687067151,0.1687067151,0.1692114919,0.1682019383,0.1676971763,0.1661827415,0.1651730686,0.1641634107,0.1631538719,0.1616394371,0.1611346602,0.1601250023,0.1606297791,0.1601250023,0.1601250023],\"y\":[5.305978775,4.8371400833,4.4056649208,4.4056649208,4.2031207085,3.8228139877,3.3101279736,3.0036234856,2.7229943275,2.5917332172,2.4662578106,2.4662578106,2.5917332172,2.7229943275,2.7229943275,2.7229943275,2.5917332172,2.5917332172,2.5917332172,2.4662578106,2.2316713333,2.2316713333,2.3463072777,2.3463072777,2.2316713333,2.3463072777,2.2316713333,2.2316713333,2.1221199036,2.1221199036,2.1221199036,1.917586565,1.917586565,1.917586565,1.8221800327,1.7311353683,1.8221800327,1.917586565,1.8221800327,1.7311353683,1.7311353683,1.8221800327,1.8221800327,1.7311353683,1.7311353683,1.7311353683,1.7311353683,1.7311353683,1.7311353683,1.8221800327,1.8221800327,2.0174975395,2.2316713333,2.3463072777,2.860203743,3.0036234856,3.4736862183,4.2031207085,4.4056649208,5.5551991463,5.8148417473,6.6594138145,7.9533457756,8.6795578003,8.6795578003,9.0640964508,8.6795578003,8.6795578003,7.9533457756,7.2810263634,7.2810263634,6.9641022682,6.6594138145,6.9641022682,7.2810263634,6.9641022682,7.2810263634,6.6594138145,6.3665060997,6.0851373672,5.5551991463,5.305978775,4.8371400833,5.0667529106,4.8371400833,4.6169013977,4.6169013977,4.8371400833,4.4056649208,4.2031207085,3.6445188522,3.3101279736,3.0036234856,2.7229943275,2.3463072777,2.2316713333,2.0174975395,2.1221199036,2.0174975395,2.0174975395],\"type\":\"scatter\"},{\"line\":{\"color\":\"brown\"},\"mode\":\"lines\",\"name\":\"\\u041b\\u043e\\u0433\\u0430\\u0440\\u0438\\u0444\\u043c\\u0438\\u0447\\u0435\\u0441\\u043a\\u0430\\u044f: y=0.0000 * log(x) + 3.0000, R\\u00b2=-0.1314, SSR = 5.193\",\"x\":[0.1702211499,0.1692114919,0.1682019383,0.1682019383,0.1676971763,0.1666875035,0.1651730686,0.1641634107,0.1631538719,0.1626489758,0.1621442139,0.1621442139,0.1626489758,0.1631538719,0.1631538719,0.1631538719,0.1626489758,0.1626489758,0.1626489758,0.1621442139,0.1611346602,0.1611346602,0.1616394371,0.1616394371,0.1611346602,0.1616394371,0.1611346602,0.1611346602,0.1606297791,0.1606297791,0.1606297791,0.1596202254,0.1596202254,0.1596202254,0.1591153443,0.1586105675,0.1591153443,0.1596202254,0.1591153443,0.1586105675,0.1586105675,0.1591153443,0.1591153443,0.1586105675,0.1586105675,0.1586105675,0.1586105675,0.1586105675,0.1586105675,0.1591153443,0.1591153443,0.1601250023,0.1611346602,0.1616394371,0.1636586487,0.1641634107,0.1656778455,0.1676971763,0.1682019383,0.1707259119,0.1712308079,0.1727452427,0.1747644544,0.1757739931,0.1757739931,0.1762788892,0.1757739931,0.1757739931,0.1747644544,0.1737547815,0.1737547815,0.1732500196,0.1727452427,0.1732500196,0.1737547815,0.1732500196,0.1737547815,0.1727452427,0.1722403467,0.1717355847,0.1707259119,0.1702211499,0.1692114919,0.1697163731,0.1692114919,0.1687067151,0.1687067151,0.1692114919,0.1682019383,0.1676971763,0.1661827415,0.1651730686,0.1641634107,0.1631538719,0.1616394371,0.1611346602,0.1601250023,0.1606297791,0.1601250023,0.1601250023],\"y\":[2.9999999999999996,2.9999999999999996,2.9999999999999996,2.9999999999999996,2.9999999999999996,2.9999999999999996,2.9999999999999996,2.9999999999999996,2.9999999999999996,2.9999999999999996,2.9999999999999996,2.9999999999999996,2.9999999999999996,2.9999999999999996,2.9999999999999996,2.9999999999999996,2.9999999999999996,2.9999999999999996,2.9999999999999996,2.9999999999999996,2.9999999999999996,2.9999999999999996,2.9999999999999996,2.9999999999999996,2.9999999999999996,2.9999999999999996,2.9999999999999996,2.9999999999999996,2.9999999999999996,2.9999999999999996,2.9999999999999996,2.9999999999999996,2.9999999999999996,2.9999999999999996,2.9999999999999996,2.9999999999999996,2.9999999999999996,2.9999999999999996,2.9999999999999996,2.9999999999999996,2.9999999999999996,2.9999999999999996,2.9999999999999996,2.9999999999999996,2.9999999999999996,2.9999999999999996,2.9999999999999996,2.9999999999999996,2.9999999999999996,2.9999999999999996,2.9999999999999996,2.9999999999999996,2.9999999999999996,2.9999999999999996,2.9999999999999996,2.9999999999999996,2.9999999999999996,2.9999999999999996,2.9999999999999996,2.9999999999999996,2.9999999999999996,2.9999999999999996,2.9999999999999996,2.9999999999999996,2.9999999999999996,2.9999999999999996,2.9999999999999996,2.9999999999999996,2.9999999999999996,2.9999999999999996,2.9999999999999996,2.9999999999999996,2.9999999999999996,2.9999999999999996,2.9999999999999996,2.9999999999999996,2.9999999999999996,2.9999999999999996,2.9999999999999996,2.9999999999999996,2.9999999999999996,2.9999999999999996,2.9999999999999996,2.9999999999999996,2.9999999999999996,2.9999999999999996,2.9999999999999996,2.9999999999999996,2.9999999999999996,2.9999999999999996,2.9999999999999996,2.9999999999999996,2.9999999999999996,2.9999999999999996,2.9999999999999996,2.9999999999999996,2.9999999999999996,2.9999999999999996,2.9999999999999996,2.9999999999999996],\"type\":\"scatter\"},{\"line\":{\"color\":\"lightgrey\",\"dash\":\"dash\"},\"mode\":\"lines\",\"name\":\"\\u041d\\u0438\\u0436\\u043d\\u044f\\u044f \\u0433\\u0440\\u0430\\u043d\\u0438\\u0446\\u0430\",\"x\":[0.1702211499,0.1692114919,0.1682019383,0.1682019383,0.1676971763,0.1666875035,0.1651730686,0.1641634107,0.1631538719,0.1626489758,0.1621442139,0.1621442139,0.1626489758,0.1631538719,0.1631538719,0.1631538719,0.1626489758,0.1626489758,0.1626489758,0.1621442139,0.1611346602,0.1611346602,0.1616394371,0.1616394371,0.1611346602,0.1616394371,0.1611346602,0.1611346602,0.1606297791,0.1606297791,0.1606297791,0.1596202254,0.1596202254,0.1596202254,0.1591153443,0.1586105675,0.1591153443,0.1596202254,0.1591153443,0.1586105675,0.1586105675,0.1591153443,0.1591153443,0.1586105675,0.1586105675,0.1586105675,0.1586105675,0.1586105675,0.1586105675,0.1591153443,0.1591153443,0.1601250023,0.1611346602,0.1616394371,0.1636586487,0.1641634107,0.1656778455,0.1676971763,0.1682019383,0.1707259119,0.1712308079,0.1727452427,0.1747644544,0.1757739931,0.1757739931,0.1762788892,0.1757739931,0.1757739931,0.1747644544,0.1737547815,0.1737547815,0.1732500196,0.1727452427,0.1732500196,0.1737547815,0.1732500196,0.1737547815,0.1727452427,0.1722403467,0.1717355847,0.1707259119,0.1702211499,0.1692114919,0.1697163731,0.1692114919,0.1687067151,0.1687067151,0.1692114919,0.1682019383,0.1676971763,0.1661827415,0.1651730686,0.1641634107,0.1631538719,0.1616394371,0.1611346602,0.1601250023,0.1606297791,0.1601250023,0.1601250023],\"y\":[-1.2099229078264382,-1.2099229078264382,-1.2099229078264382,-1.2099229078264382,-1.2099229078264382,-1.2099229078264382,-1.2099229078264382,-1.2099229078264382,-1.2099229078264382,-1.2099229078264382,-1.2099229078264382,-1.2099229078264382,-1.2099229078264382,-1.2099229078264382,-1.2099229078264382,-1.2099229078264382,-1.2099229078264382,-1.2099229078264382,-1.2099229078264382,-1.2099229078264382,-1.2099229078264382,-1.2099229078264382,-1.2099229078264382,-1.2099229078264382,-1.2099229078264382,-1.2099229078264382,-1.2099229078264382,-1.2099229078264382,-1.2099229078264382,-1.2099229078264382,-1.2099229078264382,-1.2099229078264382,-1.2099229078264382,-1.2099229078264382,-1.2099229078264382,-1.2099229078264382,-1.2099229078264382,-1.2099229078264382,-1.2099229078264382,-1.2099229078264382,-1.2099229078264382,-1.2099229078264382,-1.2099229078264382,-1.2099229078264382,-1.2099229078264382,-1.2099229078264382,-1.2099229078264382,-1.2099229078264382,-1.2099229078264382,-1.2099229078264382,-1.2099229078264382,-1.2099229078264382,-1.2099229078264382,-1.2099229078264382,-1.2099229078264382,-1.2099229078264382,-1.2099229078264382,-1.2099229078264382,-1.2099229078264382,-1.2099229078264382,-1.2099229078264382,-1.2099229078264382,-1.2099229078264382,-1.2099229078264382,-1.2099229078264382,-1.2099229078264382,-1.2099229078264382,-1.2099229078264382,-1.2099229078264382,-1.2099229078264382,-1.2099229078264382,-1.2099229078264382,-1.2099229078264382,-1.2099229078264382,-1.2099229078264382,-1.2099229078264382,-1.2099229078264382,-1.2099229078264382,-1.2099229078264382,-1.2099229078264382,-1.2099229078264382,-1.2099229078264382,-1.2099229078264382,-1.2099229078264382,-1.2099229078264382,-1.2099229078264382,-1.2099229078264382,-1.2099229078264382,-1.2099229078264382,-1.2099229078264382,-1.2099229078264382,-1.2099229078264382,-1.2099229078264382,-1.2099229078264382,-1.2099229078264382,-1.2099229078264382,-1.2099229078264382,-1.2099229078264382,-1.2099229078264382,-1.2099229078264382],\"type\":\"scatter\"},{\"line\":{\"color\":\"lightgrey\",\"dash\":\"dash\"},\"mode\":\"lines\",\"name\":\"\\u0412\\u0435\\u0440\\u0445\\u043d\\u044f\\u044f \\u0433\\u0440\\u0430\\u043d\\u0438\\u0446\\u0430\",\"x\":[0.1702211499,0.1692114919,0.1682019383,0.1682019383,0.1676971763,0.1666875035,0.1651730686,0.1641634107,0.1631538719,0.1626489758,0.1621442139,0.1621442139,0.1626489758,0.1631538719,0.1631538719,0.1631538719,0.1626489758,0.1626489758,0.1626489758,0.1621442139,0.1611346602,0.1611346602,0.1616394371,0.1616394371,0.1611346602,0.1616394371,0.1611346602,0.1611346602,0.1606297791,0.1606297791,0.1606297791,0.1596202254,0.1596202254,0.1596202254,0.1591153443,0.1586105675,0.1591153443,0.1596202254,0.1591153443,0.1586105675,0.1586105675,0.1591153443,0.1591153443,0.1586105675,0.1586105675,0.1586105675,0.1586105675,0.1586105675,0.1586105675,0.1591153443,0.1591153443,0.1601250023,0.1611346602,0.1616394371,0.1636586487,0.1641634107,0.1656778455,0.1676971763,0.1682019383,0.1707259119,0.1712308079,0.1727452427,0.1747644544,0.1757739931,0.1757739931,0.1762788892,0.1757739931,0.1757739931,0.1747644544,0.1737547815,0.1737547815,0.1732500196,0.1727452427,0.1732500196,0.1737547815,0.1732500196,0.1737547815,0.1727452427,0.1722403467,0.1717355847,0.1707259119,0.1702211499,0.1692114919,0.1697163731,0.1692114919,0.1687067151,0.1687067151,0.1692114919,0.1682019383,0.1676971763,0.1661827415,0.1651730686,0.1641634107,0.1631538719,0.1616394371,0.1611346602,0.1601250023,0.1606297791,0.1601250023,0.1601250023],\"y\":[7.209922907826437,7.209922907826437,7.209922907826437,7.209922907826437,7.209922907826437,7.209922907826437,7.209922907826437,7.209922907826437,7.209922907826437,7.209922907826437,7.209922907826437,7.209922907826437,7.209922907826437,7.209922907826437,7.209922907826437,7.209922907826437,7.209922907826437,7.209922907826437,7.209922907826437,7.209922907826437,7.209922907826437,7.209922907826437,7.209922907826437,7.209922907826437,7.209922907826437,7.209922907826437,7.209922907826437,7.209922907826437,7.209922907826437,7.209922907826437,7.209922907826437,7.209922907826437,7.209922907826437,7.209922907826437,7.209922907826437,7.209922907826437,7.209922907826437,7.209922907826437,7.209922907826437,7.209922907826437,7.209922907826437,7.209922907826437,7.209922907826437,7.209922907826437,7.209922907826437,7.209922907826437,7.209922907826437,7.209922907826437,7.209922907826437,7.209922907826437,7.209922907826437,7.209922907826437,7.209922907826437,7.209922907826437,7.209922907826437,7.209922907826437,7.209922907826437,7.209922907826437,7.209922907826437,7.209922907826437,7.209922907826437,7.209922907826437,7.209922907826437,7.209922907826437,7.209922907826437,7.209922907826437,7.209922907826437,7.209922907826437,7.209922907826437,7.209922907826437,7.209922907826437,7.209922907826437,7.209922907826437,7.209922907826437,7.209922907826437,7.209922907826437,7.209922907826437,7.209922907826437,7.209922907826437,7.209922907826437,7.209922907826437,7.209922907826437,7.209922907826437,7.209922907826437,7.209922907826437,7.209922907826437,7.209922907826437,7.209922907826437,7.209922907826437,7.209922907826437,7.209922907826437,7.209922907826437,7.209922907826437,7.209922907826437,7.209922907826437,7.209922907826437,7.209922907826437,7.209922907826437,7.209922907826437,7.209922907826437],\"type\":\"scatter\"}],                        {\"template\":{\"data\":{\"barpolar\":[{\"marker\":{\"line\":{\"color\":\"white\",\"width\":0.5},\"pattern\":{\"fillmode\":\"overlay\",\"size\":10,\"solidity\":0.2}},\"type\":\"barpolar\"}],\"bar\":[{\"error_x\":{\"color\":\"#2a3f5f\"},\"error_y\":{\"color\":\"#2a3f5f\"},\"marker\":{\"line\":{\"color\":\"white\",\"width\":0.5},\"pattern\":{\"fillmode\":\"overlay\",\"size\":10,\"solidity\":0.2}},\"type\":\"bar\"}],\"carpet\":[{\"aaxis\":{\"endlinecolor\":\"#2a3f5f\",\"gridcolor\":\"#C8D4E3\",\"linecolor\":\"#C8D4E3\",\"minorgridcolor\":\"#C8D4E3\",\"startlinecolor\":\"#2a3f5f\"},\"baxis\":{\"endlinecolor\":\"#2a3f5f\",\"gridcolor\":\"#C8D4E3\",\"linecolor\":\"#C8D4E3\",\"minorgridcolor\":\"#C8D4E3\",\"startlinecolor\":\"#2a3f5f\"},\"type\":\"carpet\"}],\"choropleth\":[{\"colorbar\":{\"outlinewidth\":0,\"ticks\":\"\"},\"type\":\"choropleth\"}],\"contourcarpet\":[{\"colorbar\":{\"outlinewidth\":0,\"ticks\":\"\"},\"type\":\"contourcarpet\"}],\"contour\":[{\"colorbar\":{\"outlinewidth\":0,\"ticks\":\"\"},\"colorscale\":[[0.0,\"#0d0887\"],[0.1111111111111111,\"#46039f\"],[0.2222222222222222,\"#7201a8\"],[0.3333333333333333,\"#9c179e\"],[0.4444444444444444,\"#bd3786\"],[0.5555555555555556,\"#d8576b\"],[0.6666666666666666,\"#ed7953\"],[0.7777777777777778,\"#fb9f3a\"],[0.8888888888888888,\"#fdca26\"],[1.0,\"#f0f921\"]],\"type\":\"contour\"}],\"heatmapgl\":[{\"colorbar\":{\"outlinewidth\":0,\"ticks\":\"\"},\"colorscale\":[[0.0,\"#0d0887\"],[0.1111111111111111,\"#46039f\"],[0.2222222222222222,\"#7201a8\"],[0.3333333333333333,\"#9c179e\"],[0.4444444444444444,\"#bd3786\"],[0.5555555555555556,\"#d8576b\"],[0.6666666666666666,\"#ed7953\"],[0.7777777777777778,\"#fb9f3a\"],[0.8888888888888888,\"#fdca26\"],[1.0,\"#f0f921\"]],\"type\":\"heatmapgl\"}],\"heatmap\":[{\"colorbar\":{\"outlinewidth\":0,\"ticks\":\"\"},\"colorscale\":[[0.0,\"#0d0887\"],[0.1111111111111111,\"#46039f\"],[0.2222222222222222,\"#7201a8\"],[0.3333333333333333,\"#9c179e\"],[0.4444444444444444,\"#bd3786\"],[0.5555555555555556,\"#d8576b\"],[0.6666666666666666,\"#ed7953\"],[0.7777777777777778,\"#fb9f3a\"],[0.8888888888888888,\"#fdca26\"],[1.0,\"#f0f921\"]],\"type\":\"heatmap\"}],\"histogram2dcontour\":[{\"colorbar\":{\"outlinewidth\":0,\"ticks\":\"\"},\"colorscale\":[[0.0,\"#0d0887\"],[0.1111111111111111,\"#46039f\"],[0.2222222222222222,\"#7201a8\"],[0.3333333333333333,\"#9c179e\"],[0.4444444444444444,\"#bd3786\"],[0.5555555555555556,\"#d8576b\"],[0.6666666666666666,\"#ed7953\"],[0.7777777777777778,\"#fb9f3a\"],[0.8888888888888888,\"#fdca26\"],[1.0,\"#f0f921\"]],\"type\":\"histogram2dcontour\"}],\"histogram2d\":[{\"colorbar\":{\"outlinewidth\":0,\"ticks\":\"\"},\"colorscale\":[[0.0,\"#0d0887\"],[0.1111111111111111,\"#46039f\"],[0.2222222222222222,\"#7201a8\"],[0.3333333333333333,\"#9c179e\"],[0.4444444444444444,\"#bd3786\"],[0.5555555555555556,\"#d8576b\"],[0.6666666666666666,\"#ed7953\"],[0.7777777777777778,\"#fb9f3a\"],[0.8888888888888888,\"#fdca26\"],[1.0,\"#f0f921\"]],\"type\":\"histogram2d\"}],\"histogram\":[{\"marker\":{\"pattern\":{\"fillmode\":\"overlay\",\"size\":10,\"solidity\":0.2}},\"type\":\"histogram\"}],\"mesh3d\":[{\"colorbar\":{\"outlinewidth\":0,\"ticks\":\"\"},\"type\":\"mesh3d\"}],\"parcoords\":[{\"line\":{\"colorbar\":{\"outlinewidth\":0,\"ticks\":\"\"}},\"type\":\"parcoords\"}],\"pie\":[{\"automargin\":true,\"type\":\"pie\"}],\"scatter3d\":[{\"line\":{\"colorbar\":{\"outlinewidth\":0,\"ticks\":\"\"}},\"marker\":{\"colorbar\":{\"outlinewidth\":0,\"ticks\":\"\"}},\"type\":\"scatter3d\"}],\"scattercarpet\":[{\"marker\":{\"colorbar\":{\"outlinewidth\":0,\"ticks\":\"\"}},\"type\":\"scattercarpet\"}],\"scattergeo\":[{\"marker\":{\"colorbar\":{\"outlinewidth\":0,\"ticks\":\"\"}},\"type\":\"scattergeo\"}],\"scattergl\":[{\"marker\":{\"colorbar\":{\"outlinewidth\":0,\"ticks\":\"\"}},\"type\":\"scattergl\"}],\"scattermapbox\":[{\"marker\":{\"colorbar\":{\"outlinewidth\":0,\"ticks\":\"\"}},\"type\":\"scattermapbox\"}],\"scatterpolargl\":[{\"marker\":{\"colorbar\":{\"outlinewidth\":0,\"ticks\":\"\"}},\"type\":\"scatterpolargl\"}],\"scatterpolar\":[{\"marker\":{\"colorbar\":{\"outlinewidth\":0,\"ticks\":\"\"}},\"type\":\"scatterpolar\"}],\"scatter\":[{\"fillpattern\":{\"fillmode\":\"overlay\",\"size\":10,\"solidity\":0.2},\"type\":\"scatter\"}],\"scatterternary\":[{\"marker\":{\"colorbar\":{\"outlinewidth\":0,\"ticks\":\"\"}},\"type\":\"scatterternary\"}],\"surface\":[{\"colorbar\":{\"outlinewidth\":0,\"ticks\":\"\"},\"colorscale\":[[0.0,\"#0d0887\"],[0.1111111111111111,\"#46039f\"],[0.2222222222222222,\"#7201a8\"],[0.3333333333333333,\"#9c179e\"],[0.4444444444444444,\"#bd3786\"],[0.5555555555555556,\"#d8576b\"],[0.6666666666666666,\"#ed7953\"],[0.7777777777777778,\"#fb9f3a\"],[0.8888888888888888,\"#fdca26\"],[1.0,\"#f0f921\"]],\"type\":\"surface\"}],\"table\":[{\"cells\":{\"fill\":{\"color\":\"#EBF0F8\"},\"line\":{\"color\":\"white\"}},\"header\":{\"fill\":{\"color\":\"#C8D4E3\"},\"line\":{\"color\":\"white\"}},\"type\":\"table\"}]},\"layout\":{\"annotationdefaults\":{\"arrowcolor\":\"#2a3f5f\",\"arrowhead\":0,\"arrowwidth\":1},\"autotypenumbers\":\"strict\",\"coloraxis\":{\"colorbar\":{\"outlinewidth\":0,\"ticks\":\"\"}},\"colorscale\":{\"diverging\":[[0,\"#8e0152\"],[0.1,\"#c51b7d\"],[0.2,\"#de77ae\"],[0.3,\"#f1b6da\"],[0.4,\"#fde0ef\"],[0.5,\"#f7f7f7\"],[0.6,\"#e6f5d0\"],[0.7,\"#b8e186\"],[0.8,\"#7fbc41\"],[0.9,\"#4d9221\"],[1,\"#276419\"]],\"sequential\":[[0.0,\"#0d0887\"],[0.1111111111111111,\"#46039f\"],[0.2222222222222222,\"#7201a8\"],[0.3333333333333333,\"#9c179e\"],[0.4444444444444444,\"#bd3786\"],[0.5555555555555556,\"#d8576b\"],[0.6666666666666666,\"#ed7953\"],[0.7777777777777778,\"#fb9f3a\"],[0.8888888888888888,\"#fdca26\"],[1.0,\"#f0f921\"]],\"sequentialminus\":[[0.0,\"#0d0887\"],[0.1111111111111111,\"#46039f\"],[0.2222222222222222,\"#7201a8\"],[0.3333333333333333,\"#9c179e\"],[0.4444444444444444,\"#bd3786\"],[0.5555555555555556,\"#d8576b\"],[0.6666666666666666,\"#ed7953\"],[0.7777777777777778,\"#fb9f3a\"],[0.8888888888888888,\"#fdca26\"],[1.0,\"#f0f921\"]]},\"colorway\":[\"#636efa\",\"#EF553B\",\"#00cc96\",\"#ab63fa\",\"#FFA15A\",\"#19d3f3\",\"#FF6692\",\"#B6E880\",\"#FF97FF\",\"#FECB52\"],\"font\":{\"color\":\"#2a3f5f\"},\"geo\":{\"bgcolor\":\"white\",\"lakecolor\":\"white\",\"landcolor\":\"white\",\"showlakes\":true,\"showland\":true,\"subunitcolor\":\"#C8D4E3\"},\"hoverlabel\":{\"align\":\"left\"},\"hovermode\":\"closest\",\"mapbox\":{\"style\":\"light\"},\"paper_bgcolor\":\"white\",\"plot_bgcolor\":\"white\",\"polar\":{\"angularaxis\":{\"gridcolor\":\"#EBF0F8\",\"linecolor\":\"#EBF0F8\",\"ticks\":\"\"},\"bgcolor\":\"white\",\"radialaxis\":{\"gridcolor\":\"#EBF0F8\",\"linecolor\":\"#EBF0F8\",\"ticks\":\"\"}},\"scene\":{\"xaxis\":{\"backgroundcolor\":\"white\",\"gridcolor\":\"#DFE8F3\",\"gridwidth\":2,\"linecolor\":\"#EBF0F8\",\"showbackground\":true,\"ticks\":\"\",\"zerolinecolor\":\"#EBF0F8\"},\"yaxis\":{\"backgroundcolor\":\"white\",\"gridcolor\":\"#DFE8F3\",\"gridwidth\":2,\"linecolor\":\"#EBF0F8\",\"showbackground\":true,\"ticks\":\"\",\"zerolinecolor\":\"#EBF0F8\"},\"zaxis\":{\"backgroundcolor\":\"white\",\"gridcolor\":\"#DFE8F3\",\"gridwidth\":2,\"linecolor\":\"#EBF0F8\",\"showbackground\":true,\"ticks\":\"\",\"zerolinecolor\":\"#EBF0F8\"}},\"shapedefaults\":{\"line\":{\"color\":\"#2a3f5f\"}},\"ternary\":{\"aaxis\":{\"gridcolor\":\"#DFE8F3\",\"linecolor\":\"#A2B1C6\",\"ticks\":\"\"},\"baxis\":{\"gridcolor\":\"#DFE8F3\",\"linecolor\":\"#A2B1C6\",\"ticks\":\"\"},\"bgcolor\":\"white\",\"caxis\":{\"gridcolor\":\"#DFE8F3\",\"linecolor\":\"#A2B1C6\",\"ticks\":\"\"}},\"title\":{\"x\":0.05},\"xaxis\":{\"automargin\":true,\"gridcolor\":\"#EBF0F8\",\"linecolor\":\"#EBF0F8\",\"ticks\":\"\",\"title\":{\"standoff\":15},\"zerolinecolor\":\"#EBF0F8\",\"zerolinewidth\":2},\"yaxis\":{\"automargin\":true,\"gridcolor\":\"#EBF0F8\",\"linecolor\":\"#EBF0F8\",\"ticks\":\"\",\"title\":{\"standoff\":15},\"zerolinecolor\":\"#EBF0F8\",\"zerolinewidth\":2}}},\"legend\":{\"x\":1.05,\"y\":1,\"traceorder\":\"normal\",\"orientation\":\"v\"},\"title\":{\"text\":\"\\u041f\\u0440\\u0435\\u0434\\u043f\\u043e\\u043b\\u0430\\u0433\\u0430\\u0435\\u043c\\u0430\\u044f \\u043c\\u043e\\u0434\\u0435\\u043b\\u044c - \\u041b\\u043e\\u0433\\u0430\\u0440\\u0438\\u0444\\u043c\\u0438\\u0447\\u0435\\u0441\\u043a\\u0430\\u044f\"},\"xaxis\":{\"title\":{\"text\":\"K2065G_2_POROSITY\"}},\"yaxis\":{\"title\":{\"text\":\"K2065G_2_PERMEABILITY\"}}},                        {\"responsive\": true}                    ).then(function(){\n                            \nvar gd = document.getElementById('fd4c7d24-9ec4-4b34-90d6-528b46b2c0c5');\nvar x = new MutationObserver(function (mutations, observer) {{\n        var display = window.getComputedStyle(gd).display;\n        if (!display || display === 'none') {{\n            console.log([gd, 'removed!']);\n            Plotly.purge(gd);\n            observer.disconnect();\n        }}\n}});\n\n// Listen for the removal of the full notebook cells\nvar notebookContainer = gd.closest('#notebook-container');\nif (notebookContainer) {{\n    x.observe(notebookContainer, {childList: true});\n}}\n\n// Listen for the clearing of the current output cell\nvar outputEl = gd.closest('.output');\nif (outputEl) {{\n    x.observe(outputEl, {childList: true});\n}}\n\n                        })                };                });            </script>        </div>"
     },
     "metadata": {},
     "output_type": "display_data"
    },
    {
     "data": {
      "application/vnd.plotly.v1+json": {
       "data": [
        {
         "marker": {
          "color": "blue"
         },
         "mode": "markers",
         "name": "Данные",
         "x": [
          0.1702211499,
          0.1692114919,
          0.1682019383,
          0.1682019383,
          0.1676971763,
          0.1666875035,
          0.1651730686,
          0.1641634107,
          0.1631538719,
          0.1626489758,
          0.1621442139,
          0.1621442139,
          0.1626489758,
          0.1631538719,
          0.1631538719,
          0.1631538719,
          0.1626489758,
          0.1626489758,
          0.1626489758,
          0.1621442139,
          0.1611346602,
          0.1611346602,
          0.1616394371,
          0.1616394371,
          0.1611346602,
          0.1616394371,
          0.1611346602,
          0.1611346602,
          0.1606297791,
          0.1606297791,
          0.1606297791,
          0.1596202254,
          0.1596202254,
          0.1596202254,
          0.1591153443,
          0.1586105675,
          0.1591153443,
          0.1596202254,
          0.1591153443,
          0.1586105675,
          0.1586105675,
          0.1591153443,
          0.1591153443,
          0.1586105675,
          0.1586105675,
          0.1586105675,
          0.1586105675,
          0.1586105675,
          0.1586105675,
          0.1591153443,
          0.1591153443,
          0.1601250023,
          0.1611346602,
          0.1616394371,
          0.1636586487,
          0.1641634107,
          0.1656778455,
          0.1676971763,
          0.1682019383,
          0.1707259119,
          0.1712308079,
          0.1727452427,
          0.1747644544,
          0.1757739931,
          0.1757739931,
          0.1762788892,
          0.1757739931,
          0.1757739931,
          0.1747644544,
          0.1737547815,
          0.1737547815,
          0.1732500196,
          0.1727452427,
          0.1732500196,
          0.1737547815,
          0.1732500196,
          0.1737547815,
          0.1727452427,
          0.1722403467,
          0.1717355847,
          0.1707259119,
          0.1702211499,
          0.1692114919,
          0.1697163731,
          0.1692114919,
          0.1687067151,
          0.1687067151,
          0.1692114919,
          0.1682019383,
          0.1676971763,
          0.1661827415,
          0.1651730686,
          0.1641634107,
          0.1631538719,
          0.1616394371,
          0.1611346602,
          0.1601250023,
          0.1606297791,
          0.1601250023,
          0.1601250023
         ],
         "y": [
          5.305978775,
          4.8371400833,
          4.4056649208,
          4.4056649208,
          4.2031207085,
          3.8228139877,
          3.3101279736,
          3.0036234856,
          2.7229943275,
          2.5917332172,
          2.4662578106,
          2.4662578106,
          2.5917332172,
          2.7229943275,
          2.7229943275,
          2.7229943275,
          2.5917332172,
          2.5917332172,
          2.5917332172,
          2.4662578106,
          2.2316713333,
          2.2316713333,
          2.3463072777,
          2.3463072777,
          2.2316713333,
          2.3463072777,
          2.2316713333,
          2.2316713333,
          2.1221199036,
          2.1221199036,
          2.1221199036,
          1.917586565,
          1.917586565,
          1.917586565,
          1.8221800327,
          1.7311353683,
          1.8221800327,
          1.917586565,
          1.8221800327,
          1.7311353683,
          1.7311353683,
          1.8221800327,
          1.8221800327,
          1.7311353683,
          1.7311353683,
          1.7311353683,
          1.7311353683,
          1.7311353683,
          1.7311353683,
          1.8221800327,
          1.8221800327,
          2.0174975395,
          2.2316713333,
          2.3463072777,
          2.860203743,
          3.0036234856,
          3.4736862183,
          4.2031207085,
          4.4056649208,
          5.5551991463,
          5.8148417473,
          6.6594138145,
          7.9533457756,
          8.6795578003,
          8.6795578003,
          9.0640964508,
          8.6795578003,
          8.6795578003,
          7.9533457756,
          7.2810263634,
          7.2810263634,
          6.9641022682,
          6.6594138145,
          6.9641022682,
          7.2810263634,
          6.9641022682,
          7.2810263634,
          6.6594138145,
          6.3665060997,
          6.0851373672,
          5.5551991463,
          5.305978775,
          4.8371400833,
          5.0667529106,
          4.8371400833,
          4.6169013977,
          4.6169013977,
          4.8371400833,
          4.4056649208,
          4.2031207085,
          3.6445188522,
          3.3101279736,
          3.0036234856,
          2.7229943275,
          2.3463072777,
          2.2316713333,
          2.0174975395,
          2.1221199036,
          2.0174975395,
          2.0174975395
         ],
         "type": "scatter"
        },
        {
         "line": {
          "color": "pink"
         },
         "mode": "lines",
         "name": "Гиперболическая: y=-10.4155 / x + 66.8922, R²=0.9573, SSR = 0.196",
         "x": [
          0.1702211499,
          0.1692114919,
          0.1682019383,
          0.1682019383,
          0.1676971763,
          0.1666875035,
          0.1651730686,
          0.1641634107,
          0.1631538719,
          0.1626489758,
          0.1621442139,
          0.1621442139,
          0.1626489758,
          0.1631538719,
          0.1631538719,
          0.1631538719,
          0.1626489758,
          0.1626489758,
          0.1626489758,
          0.1621442139,
          0.1611346602,
          0.1611346602,
          0.1616394371,
          0.1616394371,
          0.1611346602,
          0.1616394371,
          0.1611346602,
          0.1611346602,
          0.1606297791,
          0.1606297791,
          0.1606297791,
          0.1596202254,
          0.1596202254,
          0.1596202254,
          0.1591153443,
          0.1586105675,
          0.1591153443,
          0.1596202254,
          0.1591153443,
          0.1586105675,
          0.1586105675,
          0.1591153443,
          0.1591153443,
          0.1586105675,
          0.1586105675,
          0.1586105675,
          0.1586105675,
          0.1586105675,
          0.1586105675,
          0.1591153443,
          0.1591153443,
          0.1601250023,
          0.1611346602,
          0.1616394371,
          0.1636586487,
          0.1641634107,
          0.1656778455,
          0.1676971763,
          0.1682019383,
          0.1707259119,
          0.1712308079,
          0.1727452427,
          0.1747644544,
          0.1757739931,
          0.1757739931,
          0.1762788892,
          0.1757739931,
          0.1757739931,
          0.1747644544,
          0.1737547815,
          0.1737547815,
          0.1732500196,
          0.1727452427,
          0.1732500196,
          0.1737547815,
          0.1732500196,
          0.1737547815,
          0.1727452427,
          0.1722403467,
          0.1717355847,
          0.1707259119,
          0.1702211499,
          0.1692114919,
          0.1697163731,
          0.1692114919,
          0.1687067151,
          0.1687067151,
          0.1692114919,
          0.1682019383,
          0.1676971763,
          0.1661827415,
          0.1651730686,
          0.1641634107,
          0.1631538719,
          0.1616394371,
          0.1611346602,
          0.1601250023,
          0.1606297791,
          0.1601250023,
          0.1601250023
         ],
         "y": [
          5.70426081617412,
          5.339161930595274,
          4.969718352134052,
          4.969718352134052,
          4.783333978952989,
          4.407123008343746,
          3.834211005468994,
          3.4463838319574336,
          3.0538032134979787,
          2.8556355040413592,
          2.656286821813609,
          2.656286821813609,
          2.8556355040413592,
          3.0538032134979787,
          3.0538032134979787,
          3.0538032134979787,
          2.8556355040413592,
          2.8556355040413592,
          2.8556355040413592,
          2.656286821813609,
          2.2538306490870923,
          2.2538306490870923,
          2.455687161923777,
          2.455687161923777,
          2.2538306490870923,
          2.455687161923777,
          2.2538306490870923,
          2.2538306490870923,
          2.050663411888465,
          2.050663411888465,
          2.050663411888465,
          1.6405584403666182,
          1.6405584403666182,
          1.6405584403666182,
          1.4335115453996679,
          1.225189708973545,
          1.4335115453996679,
          1.6405584403666182,
          1.4335115453996679,
          1.225189708973545,
          1.225189708973545,
          1.4335115453996679,
          1.4335115453996679,
          1.225189708973545,
          1.225189708973545,
          1.225189708973545,
          1.225189708973545,
          1.225189708973545,
          1.225189708973545,
          1.4335115453996679,
          1.4335115453996679,
          1.8462573523488857,
          2.2538306490870923,
          2.455687161923777,
          3.250701815013194,
          3.4463838319574336,
          4.026332248455439,
          4.783333978952989,
          4.969718352134052,
          5.885166945899563,
          6.065054109609392,
          6.598317991777797,
          7.294948104820655,
          7.637238599312923,
          7.637238599312923,
          7.806956121726564,
          7.637238599312923,
          7.637238599312923,
          7.294948104820655,
          6.948633808008573,
          6.948633808008573,
          6.773988830529959,
          6.598317991777797,
          6.773988830529959,
          6.948633808008573,
          6.773988830529959,
          6.948633808008573,
          6.598317991777797,
          6.421575678808367,
          6.243841455966297,
          5.885166945899563,
          5.70426081617412,
          5.339161930595274,
          5.522273250781787,
          5.339161930595274,
          5.154992835865308,
          5.154992835865308,
          5.339161930595274,
          4.969718352134052,
          4.783333978952989,
          4.217331279340215,
          3.834211005468994,
          3.4463838319574336,
          3.0538032134979787,
          2.455687161923777,
          2.2538306490870923,
          1.8462573523488857,
          2.050663411888465,
          1.8462573523488857,
          1.8462573523488857
         ],
         "type": "scatter"
        },
        {
         "line": {
          "color": "lightgrey",
          "dash": "dash"
         },
         "mode": "lines",
         "name": "Нижняя граница",
         "x": [
          0.1702211499,
          0.1692114919,
          0.1682019383,
          0.1682019383,
          0.1676971763,
          0.1666875035,
          0.1651730686,
          0.1641634107,
          0.1631538719,
          0.1626489758,
          0.1621442139,
          0.1621442139,
          0.1626489758,
          0.1631538719,
          0.1631538719,
          0.1631538719,
          0.1626489758,
          0.1626489758,
          0.1626489758,
          0.1621442139,
          0.1611346602,
          0.1611346602,
          0.1616394371,
          0.1616394371,
          0.1611346602,
          0.1616394371,
          0.1611346602,
          0.1611346602,
          0.1606297791,
          0.1606297791,
          0.1606297791,
          0.1596202254,
          0.1596202254,
          0.1596202254,
          0.1591153443,
          0.1586105675,
          0.1591153443,
          0.1596202254,
          0.1591153443,
          0.1586105675,
          0.1586105675,
          0.1591153443,
          0.1591153443,
          0.1586105675,
          0.1586105675,
          0.1586105675,
          0.1586105675,
          0.1586105675,
          0.1586105675,
          0.1591153443,
          0.1591153443,
          0.1601250023,
          0.1611346602,
          0.1616394371,
          0.1636586487,
          0.1641634107,
          0.1656778455,
          0.1676971763,
          0.1682019383,
          0.1707259119,
          0.1712308079,
          0.1727452427,
          0.1747644544,
          0.1757739931,
          0.1757739931,
          0.1762788892,
          0.1757739931,
          0.1757739931,
          0.1747644544,
          0.1737547815,
          0.1737547815,
          0.1732500196,
          0.1727452427,
          0.1732500196,
          0.1737547815,
          0.1732500196,
          0.1737547815,
          0.1727452427,
          0.1722403467,
          0.1717355847,
          0.1707259119,
          0.1702211499,
          0.1692114919,
          0.1697163731,
          0.1692114919,
          0.1687067151,
          0.1687067151,
          0.1692114919,
          0.1682019383,
          0.1676971763,
          0.1661827415,
          0.1651730686,
          0.1641634107,
          0.1631538719,
          0.1616394371,
          0.1611346602,
          0.1601250023,
          0.1606297791,
          0.1601250023,
          0.1601250023
         ],
         "y": [
          4.8345843620818245,
          4.469485476502979,
          4.100041898041757,
          4.100041898041757,
          3.9136575248606933,
          3.53744655425145,
          2.9645345513766985,
          2.576707377865138,
          2.1841267594056832,
          1.985959049949064,
          1.7866103677213137,
          1.7866103677213137,
          1.985959049949064,
          2.1841267594056832,
          2.1841267594056832,
          2.1841267594056832,
          1.985959049949064,
          1.985959049949064,
          1.985959049949064,
          1.7866103677213137,
          1.384154194994797,
          1.384154194994797,
          1.5860107078314816,
          1.5860107078314816,
          1.384154194994797,
          1.5860107078314816,
          1.384154194994797,
          1.384154194994797,
          1.1809869577961696,
          1.1809869577961696,
          1.1809869577961696,
          0.770881986274323,
          0.770881986274323,
          0.770881986274323,
          0.5638350913073726,
          0.35551325488124985,
          0.5638350913073726,
          0.770881986274323,
          0.5638350913073726,
          0.35551325488124985,
          0.35551325488124985,
          0.5638350913073726,
          0.5638350913073726,
          0.35551325488124985,
          0.35551325488124985,
          0.35551325488124985,
          0.35551325488124985,
          0.35551325488124985,
          0.35551325488124985,
          0.5638350913073726,
          0.5638350913073726,
          0.9765808982565904,
          1.384154194994797,
          1.5860107078314816,
          2.3810253609208987,
          2.576707377865138,
          3.156655794363144,
          3.9136575248606933,
          4.100041898041757,
          5.015490491807268,
          5.195377655517096,
          5.728641537685502,
          6.42527165072836,
          6.767562145220627,
          6.767562145220627,
          6.937279667634269,
          6.767562145220627,
          6.767562145220627,
          6.42527165072836,
          6.078957353916278,
          6.078957353916278,
          5.904312376437663,
          5.728641537685502,
          5.904312376437663,
          6.078957353916278,
          5.904312376437663,
          6.078957353916278,
          5.728641537685502,
          5.551899224716071,
          5.374165001874002,
          5.015490491807268,
          4.8345843620818245,
          4.469485476502979,
          4.652596796689491,
          4.469485476502979,
          4.285316381773012,
          4.285316381773012,
          4.469485476502979,
          4.100041898041757,
          3.9136575248606933,
          3.3476548252479192,
          2.9645345513766985,
          2.576707377865138,
          2.1841267594056832,
          1.5860107078314816,
          1.384154194994797,
          0.9765808982565904,
          1.1809869577961696,
          0.9765808982565904,
          0.9765808982565904
         ],
         "type": "scatter"
        },
        {
         "line": {
          "color": "lightgrey",
          "dash": "dash"
         },
         "mode": "lines",
         "name": "Верхняя граница",
         "x": [
          0.1702211499,
          0.1692114919,
          0.1682019383,
          0.1682019383,
          0.1676971763,
          0.1666875035,
          0.1651730686,
          0.1641634107,
          0.1631538719,
          0.1626489758,
          0.1621442139,
          0.1621442139,
          0.1626489758,
          0.1631538719,
          0.1631538719,
          0.1631538719,
          0.1626489758,
          0.1626489758,
          0.1626489758,
          0.1621442139,
          0.1611346602,
          0.1611346602,
          0.1616394371,
          0.1616394371,
          0.1611346602,
          0.1616394371,
          0.1611346602,
          0.1611346602,
          0.1606297791,
          0.1606297791,
          0.1606297791,
          0.1596202254,
          0.1596202254,
          0.1596202254,
          0.1591153443,
          0.1586105675,
          0.1591153443,
          0.1596202254,
          0.1591153443,
          0.1586105675,
          0.1586105675,
          0.1591153443,
          0.1591153443,
          0.1586105675,
          0.1586105675,
          0.1586105675,
          0.1586105675,
          0.1586105675,
          0.1586105675,
          0.1591153443,
          0.1591153443,
          0.1601250023,
          0.1611346602,
          0.1616394371,
          0.1636586487,
          0.1641634107,
          0.1656778455,
          0.1676971763,
          0.1682019383,
          0.1707259119,
          0.1712308079,
          0.1727452427,
          0.1747644544,
          0.1757739931,
          0.1757739931,
          0.1762788892,
          0.1757739931,
          0.1757739931,
          0.1747644544,
          0.1737547815,
          0.1737547815,
          0.1732500196,
          0.1727452427,
          0.1732500196,
          0.1737547815,
          0.1732500196,
          0.1737547815,
          0.1727452427,
          0.1722403467,
          0.1717355847,
          0.1707259119,
          0.1702211499,
          0.1692114919,
          0.1697163731,
          0.1692114919,
          0.1687067151,
          0.1687067151,
          0.1692114919,
          0.1682019383,
          0.1676971763,
          0.1661827415,
          0.1651730686,
          0.1641634107,
          0.1631538719,
          0.1616394371,
          0.1611346602,
          0.1601250023,
          0.1606297791,
          0.1601250023,
          0.1601250023
         ],
         "y": [
          6.573937270266415,
          6.20883838468757,
          5.839394806226347,
          5.839394806226347,
          5.653010433045284,
          5.276799462436041,
          4.703887459561289,
          4.316060286049729,
          3.923479667590274,
          3.7253119581336547,
          3.5259632759059043,
          3.5259632759059043,
          3.7253119581336547,
          3.923479667590274,
          3.923479667590274,
          3.923479667590274,
          3.7253119581336547,
          3.7253119581336547,
          3.7253119581336547,
          3.5259632759059043,
          3.1235071031793877,
          3.1235071031793877,
          3.325363616016072,
          3.325363616016072,
          3.1235071031793877,
          3.325363616016072,
          3.1235071031793877,
          3.1235071031793877,
          2.9203398659807602,
          2.9203398659807602,
          2.9203398659807602,
          2.5102348944589137,
          2.5102348944589137,
          2.5102348944589137,
          2.3031879994919633,
          2.0948661630658405,
          2.3031879994919633,
          2.5102348944589137,
          2.3031879994919633,
          2.0948661630658405,
          2.0948661630658405,
          2.3031879994919633,
          2.3031879994919633,
          2.0948661630658405,
          2.0948661630658405,
          2.0948661630658405,
          2.0948661630658405,
          2.0948661630658405,
          2.0948661630658405,
          2.3031879994919633,
          2.3031879994919633,
          2.715933806441181,
          3.1235071031793877,
          3.325363616016072,
          4.1203782691054895,
          4.316060286049729,
          4.896008702547735,
          5.653010433045284,
          5.839394806226347,
          6.7548433999918585,
          6.934730563701687,
          7.467994445870093,
          8.16462455891295,
          8.506915053405217,
          8.506915053405217,
          8.676632575818859,
          8.506915053405217,
          8.506915053405217,
          8.16462455891295,
          7.818310262100868,
          7.818310262100868,
          7.643665284622254,
          7.467994445870093,
          7.643665284622254,
          7.818310262100868,
          7.643665284622254,
          7.818310262100868,
          7.467994445870093,
          7.291252132900662,
          7.113517910058593,
          6.7548433999918585,
          6.573937270266415,
          6.20883838468757,
          6.391949704874082,
          6.20883838468757,
          6.024669289957603,
          6.024669289957603,
          6.20883838468757,
          5.839394806226347,
          5.653010433045284,
          5.08700773343251,
          4.703887459561289,
          4.316060286049729,
          3.923479667590274,
          3.325363616016072,
          3.1235071031793877,
          2.715933806441181,
          2.9203398659807602,
          2.715933806441181,
          2.715933806441181
         ],
         "type": "scatter"
        }
       ],
       "layout": {
        "template": {
         "data": {
          "barpolar": [
           {
            "marker": {
             "line": {
              "color": "white",
              "width": 0.5
             },
             "pattern": {
              "fillmode": "overlay",
              "size": 10,
              "solidity": 0.2
             }
            },
            "type": "barpolar"
           }
          ],
          "bar": [
           {
            "error_x": {
             "color": "#2a3f5f"
            },
            "error_y": {
             "color": "#2a3f5f"
            },
            "marker": {
             "line": {
              "color": "white",
              "width": 0.5
             },
             "pattern": {
              "fillmode": "overlay",
              "size": 10,
              "solidity": 0.2
             }
            },
            "type": "bar"
           }
          ],
          "carpet": [
           {
            "aaxis": {
             "endlinecolor": "#2a3f5f",
             "gridcolor": "#C8D4E3",
             "linecolor": "#C8D4E3",
             "minorgridcolor": "#C8D4E3",
             "startlinecolor": "#2a3f5f"
            },
            "baxis": {
             "endlinecolor": "#2a3f5f",
             "gridcolor": "#C8D4E3",
             "linecolor": "#C8D4E3",
             "minorgridcolor": "#C8D4E3",
             "startlinecolor": "#2a3f5f"
            },
            "type": "carpet"
           }
          ],
          "choropleth": [
           {
            "colorbar": {
             "outlinewidth": 0,
             "ticks": ""
            },
            "type": "choropleth"
           }
          ],
          "contourcarpet": [
           {
            "colorbar": {
             "outlinewidth": 0,
             "ticks": ""
            },
            "type": "contourcarpet"
           }
          ],
          "contour": [
           {
            "colorbar": {
             "outlinewidth": 0,
             "ticks": ""
            },
            "colorscale": [
             [
              0.0,
              "#0d0887"
             ],
             [
              0.1111111111111111,
              "#46039f"
             ],
             [
              0.2222222222222222,
              "#7201a8"
             ],
             [
              0.3333333333333333,
              "#9c179e"
             ],
             [
              0.4444444444444444,
              "#bd3786"
             ],
             [
              0.5555555555555556,
              "#d8576b"
             ],
             [
              0.6666666666666666,
              "#ed7953"
             ],
             [
              0.7777777777777778,
              "#fb9f3a"
             ],
             [
              0.8888888888888888,
              "#fdca26"
             ],
             [
              1.0,
              "#f0f921"
             ]
            ],
            "type": "contour"
           }
          ],
          "heatmapgl": [
           {
            "colorbar": {
             "outlinewidth": 0,
             "ticks": ""
            },
            "colorscale": [
             [
              0.0,
              "#0d0887"
             ],
             [
              0.1111111111111111,
              "#46039f"
             ],
             [
              0.2222222222222222,
              "#7201a8"
             ],
             [
              0.3333333333333333,
              "#9c179e"
             ],
             [
              0.4444444444444444,
              "#bd3786"
             ],
             [
              0.5555555555555556,
              "#d8576b"
             ],
             [
              0.6666666666666666,
              "#ed7953"
             ],
             [
              0.7777777777777778,
              "#fb9f3a"
             ],
             [
              0.8888888888888888,
              "#fdca26"
             ],
             [
              1.0,
              "#f0f921"
             ]
            ],
            "type": "heatmapgl"
           }
          ],
          "heatmap": [
           {
            "colorbar": {
             "outlinewidth": 0,
             "ticks": ""
            },
            "colorscale": [
             [
              0.0,
              "#0d0887"
             ],
             [
              0.1111111111111111,
              "#46039f"
             ],
             [
              0.2222222222222222,
              "#7201a8"
             ],
             [
              0.3333333333333333,
              "#9c179e"
             ],
             [
              0.4444444444444444,
              "#bd3786"
             ],
             [
              0.5555555555555556,
              "#d8576b"
             ],
             [
              0.6666666666666666,
              "#ed7953"
             ],
             [
              0.7777777777777778,
              "#fb9f3a"
             ],
             [
              0.8888888888888888,
              "#fdca26"
             ],
             [
              1.0,
              "#f0f921"
             ]
            ],
            "type": "heatmap"
           }
          ],
          "histogram2dcontour": [
           {
            "colorbar": {
             "outlinewidth": 0,
             "ticks": ""
            },
            "colorscale": [
             [
              0.0,
              "#0d0887"
             ],
             [
              0.1111111111111111,
              "#46039f"
             ],
             [
              0.2222222222222222,
              "#7201a8"
             ],
             [
              0.3333333333333333,
              "#9c179e"
             ],
             [
              0.4444444444444444,
              "#bd3786"
             ],
             [
              0.5555555555555556,
              "#d8576b"
             ],
             [
              0.6666666666666666,
              "#ed7953"
             ],
             [
              0.7777777777777778,
              "#fb9f3a"
             ],
             [
              0.8888888888888888,
              "#fdca26"
             ],
             [
              1.0,
              "#f0f921"
             ]
            ],
            "type": "histogram2dcontour"
           }
          ],
          "histogram2d": [
           {
            "colorbar": {
             "outlinewidth": 0,
             "ticks": ""
            },
            "colorscale": [
             [
              0.0,
              "#0d0887"
             ],
             [
              0.1111111111111111,
              "#46039f"
             ],
             [
              0.2222222222222222,
              "#7201a8"
             ],
             [
              0.3333333333333333,
              "#9c179e"
             ],
             [
              0.4444444444444444,
              "#bd3786"
             ],
             [
              0.5555555555555556,
              "#d8576b"
             ],
             [
              0.6666666666666666,
              "#ed7953"
             ],
             [
              0.7777777777777778,
              "#fb9f3a"
             ],
             [
              0.8888888888888888,
              "#fdca26"
             ],
             [
              1.0,
              "#f0f921"
             ]
            ],
            "type": "histogram2d"
           }
          ],
          "histogram": [
           {
            "marker": {
             "pattern": {
              "fillmode": "overlay",
              "size": 10,
              "solidity": 0.2
             }
            },
            "type": "histogram"
           }
          ],
          "mesh3d": [
           {
            "colorbar": {
             "outlinewidth": 0,
             "ticks": ""
            },
            "type": "mesh3d"
           }
          ],
          "parcoords": [
           {
            "line": {
             "colorbar": {
              "outlinewidth": 0,
              "ticks": ""
             }
            },
            "type": "parcoords"
           }
          ],
          "pie": [
           {
            "automargin": true,
            "type": "pie"
           }
          ],
          "scatter3d": [
           {
            "line": {
             "colorbar": {
              "outlinewidth": 0,
              "ticks": ""
             }
            },
            "marker": {
             "colorbar": {
              "outlinewidth": 0,
              "ticks": ""
             }
            },
            "type": "scatter3d"
           }
          ],
          "scattercarpet": [
           {
            "marker": {
             "colorbar": {
              "outlinewidth": 0,
              "ticks": ""
             }
            },
            "type": "scattercarpet"
           }
          ],
          "scattergeo": [
           {
            "marker": {
             "colorbar": {
              "outlinewidth": 0,
              "ticks": ""
             }
            },
            "type": "scattergeo"
           }
          ],
          "scattergl": [
           {
            "marker": {
             "colorbar": {
              "outlinewidth": 0,
              "ticks": ""
             }
            },
            "type": "scattergl"
           }
          ],
          "scattermapbox": [
           {
            "marker": {
             "colorbar": {
              "outlinewidth": 0,
              "ticks": ""
             }
            },
            "type": "scattermapbox"
           }
          ],
          "scatterpolargl": [
           {
            "marker": {
             "colorbar": {
              "outlinewidth": 0,
              "ticks": ""
             }
            },
            "type": "scatterpolargl"
           }
          ],
          "scatterpolar": [
           {
            "marker": {
             "colorbar": {
              "outlinewidth": 0,
              "ticks": ""
             }
            },
            "type": "scatterpolar"
           }
          ],
          "scatter": [
           {
            "fillpattern": {
             "fillmode": "overlay",
             "size": 10,
             "solidity": 0.2
            },
            "type": "scatter"
           }
          ],
          "scatterternary": [
           {
            "marker": {
             "colorbar": {
              "outlinewidth": 0,
              "ticks": ""
             }
            },
            "type": "scatterternary"
           }
          ],
          "surface": [
           {
            "colorbar": {
             "outlinewidth": 0,
             "ticks": ""
            },
            "colorscale": [
             [
              0.0,
              "#0d0887"
             ],
             [
              0.1111111111111111,
              "#46039f"
             ],
             [
              0.2222222222222222,
              "#7201a8"
             ],
             [
              0.3333333333333333,
              "#9c179e"
             ],
             [
              0.4444444444444444,
              "#bd3786"
             ],
             [
              0.5555555555555556,
              "#d8576b"
             ],
             [
              0.6666666666666666,
              "#ed7953"
             ],
             [
              0.7777777777777778,
              "#fb9f3a"
             ],
             [
              0.8888888888888888,
              "#fdca26"
             ],
             [
              1.0,
              "#f0f921"
             ]
            ],
            "type": "surface"
           }
          ],
          "table": [
           {
            "cells": {
             "fill": {
              "color": "#EBF0F8"
             },
             "line": {
              "color": "white"
             }
            },
            "header": {
             "fill": {
              "color": "#C8D4E3"
             },
             "line": {
              "color": "white"
             }
            },
            "type": "table"
           }
          ]
         },
         "layout": {
          "annotationdefaults": {
           "arrowcolor": "#2a3f5f",
           "arrowhead": 0,
           "arrowwidth": 1
          },
          "autotypenumbers": "strict",
          "coloraxis": {
           "colorbar": {
            "outlinewidth": 0,
            "ticks": ""
           }
          },
          "colorscale": {
           "diverging": [
            [
             0,
             "#8e0152"
            ],
            [
             0.1,
             "#c51b7d"
            ],
            [
             0.2,
             "#de77ae"
            ],
            [
             0.3,
             "#f1b6da"
            ],
            [
             0.4,
             "#fde0ef"
            ],
            [
             0.5,
             "#f7f7f7"
            ],
            [
             0.6,
             "#e6f5d0"
            ],
            [
             0.7,
             "#b8e186"
            ],
            [
             0.8,
             "#7fbc41"
            ],
            [
             0.9,
             "#4d9221"
            ],
            [
             1,
             "#276419"
            ]
           ],
           "sequential": [
            [
             0.0,
             "#0d0887"
            ],
            [
             0.1111111111111111,
             "#46039f"
            ],
            [
             0.2222222222222222,
             "#7201a8"
            ],
            [
             0.3333333333333333,
             "#9c179e"
            ],
            [
             0.4444444444444444,
             "#bd3786"
            ],
            [
             0.5555555555555556,
             "#d8576b"
            ],
            [
             0.6666666666666666,
             "#ed7953"
            ],
            [
             0.7777777777777778,
             "#fb9f3a"
            ],
            [
             0.8888888888888888,
             "#fdca26"
            ],
            [
             1.0,
             "#f0f921"
            ]
           ],
           "sequentialminus": [
            [
             0.0,
             "#0d0887"
            ],
            [
             0.1111111111111111,
             "#46039f"
            ],
            [
             0.2222222222222222,
             "#7201a8"
            ],
            [
             0.3333333333333333,
             "#9c179e"
            ],
            [
             0.4444444444444444,
             "#bd3786"
            ],
            [
             0.5555555555555556,
             "#d8576b"
            ],
            [
             0.6666666666666666,
             "#ed7953"
            ],
            [
             0.7777777777777778,
             "#fb9f3a"
            ],
            [
             0.8888888888888888,
             "#fdca26"
            ],
            [
             1.0,
             "#f0f921"
            ]
           ]
          },
          "colorway": [
           "#636efa",
           "#EF553B",
           "#00cc96",
           "#ab63fa",
           "#FFA15A",
           "#19d3f3",
           "#FF6692",
           "#B6E880",
           "#FF97FF",
           "#FECB52"
          ],
          "font": {
           "color": "#2a3f5f"
          },
          "geo": {
           "bgcolor": "white",
           "lakecolor": "white",
           "landcolor": "white",
           "showlakes": true,
           "showland": true,
           "subunitcolor": "#C8D4E3"
          },
          "hoverlabel": {
           "align": "left"
          },
          "hovermode": "closest",
          "mapbox": {
           "style": "light"
          },
          "paper_bgcolor": "white",
          "plot_bgcolor": "white",
          "polar": {
           "angularaxis": {
            "gridcolor": "#EBF0F8",
            "linecolor": "#EBF0F8",
            "ticks": ""
           },
           "bgcolor": "white",
           "radialaxis": {
            "gridcolor": "#EBF0F8",
            "linecolor": "#EBF0F8",
            "ticks": ""
           }
          },
          "scene": {
           "xaxis": {
            "backgroundcolor": "white",
            "gridcolor": "#DFE8F3",
            "gridwidth": 2,
            "linecolor": "#EBF0F8",
            "showbackground": true,
            "ticks": "",
            "zerolinecolor": "#EBF0F8"
           },
           "yaxis": {
            "backgroundcolor": "white",
            "gridcolor": "#DFE8F3",
            "gridwidth": 2,
            "linecolor": "#EBF0F8",
            "showbackground": true,
            "ticks": "",
            "zerolinecolor": "#EBF0F8"
           },
           "zaxis": {
            "backgroundcolor": "white",
            "gridcolor": "#DFE8F3",
            "gridwidth": 2,
            "linecolor": "#EBF0F8",
            "showbackground": true,
            "ticks": "",
            "zerolinecolor": "#EBF0F8"
           }
          },
          "shapedefaults": {
           "line": {
            "color": "#2a3f5f"
           }
          },
          "ternary": {
           "aaxis": {
            "gridcolor": "#DFE8F3",
            "linecolor": "#A2B1C6",
            "ticks": ""
           },
           "baxis": {
            "gridcolor": "#DFE8F3",
            "linecolor": "#A2B1C6",
            "ticks": ""
           },
           "bgcolor": "white",
           "caxis": {
            "gridcolor": "#DFE8F3",
            "linecolor": "#A2B1C6",
            "ticks": ""
           }
          },
          "title": {
           "x": 0.05
          },
          "xaxis": {
           "automargin": true,
           "gridcolor": "#EBF0F8",
           "linecolor": "#EBF0F8",
           "ticks": "",
           "title": {
            "standoff": 15
           },
           "zerolinecolor": "#EBF0F8",
           "zerolinewidth": 2
          },
          "yaxis": {
           "automargin": true,
           "gridcolor": "#EBF0F8",
           "linecolor": "#EBF0F8",
           "ticks": "",
           "title": {
            "standoff": 15
           },
           "zerolinecolor": "#EBF0F8",
           "zerolinewidth": 2
          }
         }
        },
        "legend": {
         "x": 1.05,
         "y": 1,
         "traceorder": "normal",
         "orientation": "v"
        },
        "title": {
         "text": "Предполагаемая модель - Гиперболическая"
        },
        "xaxis": {
         "title": {
          "text": "K2065G_2_POROSITY"
         }
        },
        "yaxis": {
         "title": {
          "text": "K2065G_2_PERMEABILITY"
         }
        }
       },
       "config": {
        "plotlyServerURL": "https://plot.ly"
       }
      },
      "text/html": "<div>                            <div id=\"c8e219cd-b889-49d3-897b-74d2e27a5752\" class=\"plotly-graph-div\" style=\"height:525px; width:100%;\"></div>            <script type=\"text/javascript\">                require([\"plotly\"], function(Plotly) {                    window.PLOTLYENV=window.PLOTLYENV || {};                                    if (document.getElementById(\"c8e219cd-b889-49d3-897b-74d2e27a5752\")) {                    Plotly.newPlot(                        \"c8e219cd-b889-49d3-897b-74d2e27a5752\",                        [{\"marker\":{\"color\":\"blue\"},\"mode\":\"markers\",\"name\":\"\\u0414\\u0430\\u043d\\u043d\\u044b\\u0435\",\"x\":[0.1702211499,0.1692114919,0.1682019383,0.1682019383,0.1676971763,0.1666875035,0.1651730686,0.1641634107,0.1631538719,0.1626489758,0.1621442139,0.1621442139,0.1626489758,0.1631538719,0.1631538719,0.1631538719,0.1626489758,0.1626489758,0.1626489758,0.1621442139,0.1611346602,0.1611346602,0.1616394371,0.1616394371,0.1611346602,0.1616394371,0.1611346602,0.1611346602,0.1606297791,0.1606297791,0.1606297791,0.1596202254,0.1596202254,0.1596202254,0.1591153443,0.1586105675,0.1591153443,0.1596202254,0.1591153443,0.1586105675,0.1586105675,0.1591153443,0.1591153443,0.1586105675,0.1586105675,0.1586105675,0.1586105675,0.1586105675,0.1586105675,0.1591153443,0.1591153443,0.1601250023,0.1611346602,0.1616394371,0.1636586487,0.1641634107,0.1656778455,0.1676971763,0.1682019383,0.1707259119,0.1712308079,0.1727452427,0.1747644544,0.1757739931,0.1757739931,0.1762788892,0.1757739931,0.1757739931,0.1747644544,0.1737547815,0.1737547815,0.1732500196,0.1727452427,0.1732500196,0.1737547815,0.1732500196,0.1737547815,0.1727452427,0.1722403467,0.1717355847,0.1707259119,0.1702211499,0.1692114919,0.1697163731,0.1692114919,0.1687067151,0.1687067151,0.1692114919,0.1682019383,0.1676971763,0.1661827415,0.1651730686,0.1641634107,0.1631538719,0.1616394371,0.1611346602,0.1601250023,0.1606297791,0.1601250023,0.1601250023],\"y\":[5.305978775,4.8371400833,4.4056649208,4.4056649208,4.2031207085,3.8228139877,3.3101279736,3.0036234856,2.7229943275,2.5917332172,2.4662578106,2.4662578106,2.5917332172,2.7229943275,2.7229943275,2.7229943275,2.5917332172,2.5917332172,2.5917332172,2.4662578106,2.2316713333,2.2316713333,2.3463072777,2.3463072777,2.2316713333,2.3463072777,2.2316713333,2.2316713333,2.1221199036,2.1221199036,2.1221199036,1.917586565,1.917586565,1.917586565,1.8221800327,1.7311353683,1.8221800327,1.917586565,1.8221800327,1.7311353683,1.7311353683,1.8221800327,1.8221800327,1.7311353683,1.7311353683,1.7311353683,1.7311353683,1.7311353683,1.7311353683,1.8221800327,1.8221800327,2.0174975395,2.2316713333,2.3463072777,2.860203743,3.0036234856,3.4736862183,4.2031207085,4.4056649208,5.5551991463,5.8148417473,6.6594138145,7.9533457756,8.6795578003,8.6795578003,9.0640964508,8.6795578003,8.6795578003,7.9533457756,7.2810263634,7.2810263634,6.9641022682,6.6594138145,6.9641022682,7.2810263634,6.9641022682,7.2810263634,6.6594138145,6.3665060997,6.0851373672,5.5551991463,5.305978775,4.8371400833,5.0667529106,4.8371400833,4.6169013977,4.6169013977,4.8371400833,4.4056649208,4.2031207085,3.6445188522,3.3101279736,3.0036234856,2.7229943275,2.3463072777,2.2316713333,2.0174975395,2.1221199036,2.0174975395,2.0174975395],\"type\":\"scatter\"},{\"line\":{\"color\":\"pink\"},\"mode\":\"lines\",\"name\":\"\\u0413\\u0438\\u043f\\u0435\\u0440\\u0431\\u043e\\u043b\\u0438\\u0447\\u0435\\u0441\\u043a\\u0430\\u044f: y=-10.4155 \\u002f x + 66.8922, R\\u00b2=0.9573, SSR = 0.196\",\"x\":[0.1702211499,0.1692114919,0.1682019383,0.1682019383,0.1676971763,0.1666875035,0.1651730686,0.1641634107,0.1631538719,0.1626489758,0.1621442139,0.1621442139,0.1626489758,0.1631538719,0.1631538719,0.1631538719,0.1626489758,0.1626489758,0.1626489758,0.1621442139,0.1611346602,0.1611346602,0.1616394371,0.1616394371,0.1611346602,0.1616394371,0.1611346602,0.1611346602,0.1606297791,0.1606297791,0.1606297791,0.1596202254,0.1596202254,0.1596202254,0.1591153443,0.1586105675,0.1591153443,0.1596202254,0.1591153443,0.1586105675,0.1586105675,0.1591153443,0.1591153443,0.1586105675,0.1586105675,0.1586105675,0.1586105675,0.1586105675,0.1586105675,0.1591153443,0.1591153443,0.1601250023,0.1611346602,0.1616394371,0.1636586487,0.1641634107,0.1656778455,0.1676971763,0.1682019383,0.1707259119,0.1712308079,0.1727452427,0.1747644544,0.1757739931,0.1757739931,0.1762788892,0.1757739931,0.1757739931,0.1747644544,0.1737547815,0.1737547815,0.1732500196,0.1727452427,0.1732500196,0.1737547815,0.1732500196,0.1737547815,0.1727452427,0.1722403467,0.1717355847,0.1707259119,0.1702211499,0.1692114919,0.1697163731,0.1692114919,0.1687067151,0.1687067151,0.1692114919,0.1682019383,0.1676971763,0.1661827415,0.1651730686,0.1641634107,0.1631538719,0.1616394371,0.1611346602,0.1601250023,0.1606297791,0.1601250023,0.1601250023],\"y\":[5.70426081617412,5.339161930595274,4.969718352134052,4.969718352134052,4.783333978952989,4.407123008343746,3.834211005468994,3.4463838319574336,3.0538032134979787,2.8556355040413592,2.656286821813609,2.656286821813609,2.8556355040413592,3.0538032134979787,3.0538032134979787,3.0538032134979787,2.8556355040413592,2.8556355040413592,2.8556355040413592,2.656286821813609,2.2538306490870923,2.2538306490870923,2.455687161923777,2.455687161923777,2.2538306490870923,2.455687161923777,2.2538306490870923,2.2538306490870923,2.050663411888465,2.050663411888465,2.050663411888465,1.6405584403666182,1.6405584403666182,1.6405584403666182,1.4335115453996679,1.225189708973545,1.4335115453996679,1.6405584403666182,1.4335115453996679,1.225189708973545,1.225189708973545,1.4335115453996679,1.4335115453996679,1.225189708973545,1.225189708973545,1.225189708973545,1.225189708973545,1.225189708973545,1.225189708973545,1.4335115453996679,1.4335115453996679,1.8462573523488857,2.2538306490870923,2.455687161923777,3.250701815013194,3.4463838319574336,4.026332248455439,4.783333978952989,4.969718352134052,5.885166945899563,6.065054109609392,6.598317991777797,7.294948104820655,7.637238599312923,7.637238599312923,7.806956121726564,7.637238599312923,7.637238599312923,7.294948104820655,6.948633808008573,6.948633808008573,6.773988830529959,6.598317991777797,6.773988830529959,6.948633808008573,6.773988830529959,6.948633808008573,6.598317991777797,6.421575678808367,6.243841455966297,5.885166945899563,5.70426081617412,5.339161930595274,5.522273250781787,5.339161930595274,5.154992835865308,5.154992835865308,5.339161930595274,4.969718352134052,4.783333978952989,4.217331279340215,3.834211005468994,3.4463838319574336,3.0538032134979787,2.455687161923777,2.2538306490870923,1.8462573523488857,2.050663411888465,1.8462573523488857,1.8462573523488857],\"type\":\"scatter\"},{\"line\":{\"color\":\"lightgrey\",\"dash\":\"dash\"},\"mode\":\"lines\",\"name\":\"\\u041d\\u0438\\u0436\\u043d\\u044f\\u044f \\u0433\\u0440\\u0430\\u043d\\u0438\\u0446\\u0430\",\"x\":[0.1702211499,0.1692114919,0.1682019383,0.1682019383,0.1676971763,0.1666875035,0.1651730686,0.1641634107,0.1631538719,0.1626489758,0.1621442139,0.1621442139,0.1626489758,0.1631538719,0.1631538719,0.1631538719,0.1626489758,0.1626489758,0.1626489758,0.1621442139,0.1611346602,0.1611346602,0.1616394371,0.1616394371,0.1611346602,0.1616394371,0.1611346602,0.1611346602,0.1606297791,0.1606297791,0.1606297791,0.1596202254,0.1596202254,0.1596202254,0.1591153443,0.1586105675,0.1591153443,0.1596202254,0.1591153443,0.1586105675,0.1586105675,0.1591153443,0.1591153443,0.1586105675,0.1586105675,0.1586105675,0.1586105675,0.1586105675,0.1586105675,0.1591153443,0.1591153443,0.1601250023,0.1611346602,0.1616394371,0.1636586487,0.1641634107,0.1656778455,0.1676971763,0.1682019383,0.1707259119,0.1712308079,0.1727452427,0.1747644544,0.1757739931,0.1757739931,0.1762788892,0.1757739931,0.1757739931,0.1747644544,0.1737547815,0.1737547815,0.1732500196,0.1727452427,0.1732500196,0.1737547815,0.1732500196,0.1737547815,0.1727452427,0.1722403467,0.1717355847,0.1707259119,0.1702211499,0.1692114919,0.1697163731,0.1692114919,0.1687067151,0.1687067151,0.1692114919,0.1682019383,0.1676971763,0.1661827415,0.1651730686,0.1641634107,0.1631538719,0.1616394371,0.1611346602,0.1601250023,0.1606297791,0.1601250023,0.1601250023],\"y\":[4.8345843620818245,4.469485476502979,4.100041898041757,4.100041898041757,3.9136575248606933,3.53744655425145,2.9645345513766985,2.576707377865138,2.1841267594056832,1.985959049949064,1.7866103677213137,1.7866103677213137,1.985959049949064,2.1841267594056832,2.1841267594056832,2.1841267594056832,1.985959049949064,1.985959049949064,1.985959049949064,1.7866103677213137,1.384154194994797,1.384154194994797,1.5860107078314816,1.5860107078314816,1.384154194994797,1.5860107078314816,1.384154194994797,1.384154194994797,1.1809869577961696,1.1809869577961696,1.1809869577961696,0.770881986274323,0.770881986274323,0.770881986274323,0.5638350913073726,0.35551325488124985,0.5638350913073726,0.770881986274323,0.5638350913073726,0.35551325488124985,0.35551325488124985,0.5638350913073726,0.5638350913073726,0.35551325488124985,0.35551325488124985,0.35551325488124985,0.35551325488124985,0.35551325488124985,0.35551325488124985,0.5638350913073726,0.5638350913073726,0.9765808982565904,1.384154194994797,1.5860107078314816,2.3810253609208987,2.576707377865138,3.156655794363144,3.9136575248606933,4.100041898041757,5.015490491807268,5.195377655517096,5.728641537685502,6.42527165072836,6.767562145220627,6.767562145220627,6.937279667634269,6.767562145220627,6.767562145220627,6.42527165072836,6.078957353916278,6.078957353916278,5.904312376437663,5.728641537685502,5.904312376437663,6.078957353916278,5.904312376437663,6.078957353916278,5.728641537685502,5.551899224716071,5.374165001874002,5.015490491807268,4.8345843620818245,4.469485476502979,4.652596796689491,4.469485476502979,4.285316381773012,4.285316381773012,4.469485476502979,4.100041898041757,3.9136575248606933,3.3476548252479192,2.9645345513766985,2.576707377865138,2.1841267594056832,1.5860107078314816,1.384154194994797,0.9765808982565904,1.1809869577961696,0.9765808982565904,0.9765808982565904],\"type\":\"scatter\"},{\"line\":{\"color\":\"lightgrey\",\"dash\":\"dash\"},\"mode\":\"lines\",\"name\":\"\\u0412\\u0435\\u0440\\u0445\\u043d\\u044f\\u044f \\u0433\\u0440\\u0430\\u043d\\u0438\\u0446\\u0430\",\"x\":[0.1702211499,0.1692114919,0.1682019383,0.1682019383,0.1676971763,0.1666875035,0.1651730686,0.1641634107,0.1631538719,0.1626489758,0.1621442139,0.1621442139,0.1626489758,0.1631538719,0.1631538719,0.1631538719,0.1626489758,0.1626489758,0.1626489758,0.1621442139,0.1611346602,0.1611346602,0.1616394371,0.1616394371,0.1611346602,0.1616394371,0.1611346602,0.1611346602,0.1606297791,0.1606297791,0.1606297791,0.1596202254,0.1596202254,0.1596202254,0.1591153443,0.1586105675,0.1591153443,0.1596202254,0.1591153443,0.1586105675,0.1586105675,0.1591153443,0.1591153443,0.1586105675,0.1586105675,0.1586105675,0.1586105675,0.1586105675,0.1586105675,0.1591153443,0.1591153443,0.1601250023,0.1611346602,0.1616394371,0.1636586487,0.1641634107,0.1656778455,0.1676971763,0.1682019383,0.1707259119,0.1712308079,0.1727452427,0.1747644544,0.1757739931,0.1757739931,0.1762788892,0.1757739931,0.1757739931,0.1747644544,0.1737547815,0.1737547815,0.1732500196,0.1727452427,0.1732500196,0.1737547815,0.1732500196,0.1737547815,0.1727452427,0.1722403467,0.1717355847,0.1707259119,0.1702211499,0.1692114919,0.1697163731,0.1692114919,0.1687067151,0.1687067151,0.1692114919,0.1682019383,0.1676971763,0.1661827415,0.1651730686,0.1641634107,0.1631538719,0.1616394371,0.1611346602,0.1601250023,0.1606297791,0.1601250023,0.1601250023],\"y\":[6.573937270266415,6.20883838468757,5.839394806226347,5.839394806226347,5.653010433045284,5.276799462436041,4.703887459561289,4.316060286049729,3.923479667590274,3.7253119581336547,3.5259632759059043,3.5259632759059043,3.7253119581336547,3.923479667590274,3.923479667590274,3.923479667590274,3.7253119581336547,3.7253119581336547,3.7253119581336547,3.5259632759059043,3.1235071031793877,3.1235071031793877,3.325363616016072,3.325363616016072,3.1235071031793877,3.325363616016072,3.1235071031793877,3.1235071031793877,2.9203398659807602,2.9203398659807602,2.9203398659807602,2.5102348944589137,2.5102348944589137,2.5102348944589137,2.3031879994919633,2.0948661630658405,2.3031879994919633,2.5102348944589137,2.3031879994919633,2.0948661630658405,2.0948661630658405,2.3031879994919633,2.3031879994919633,2.0948661630658405,2.0948661630658405,2.0948661630658405,2.0948661630658405,2.0948661630658405,2.0948661630658405,2.3031879994919633,2.3031879994919633,2.715933806441181,3.1235071031793877,3.325363616016072,4.1203782691054895,4.316060286049729,4.896008702547735,5.653010433045284,5.839394806226347,6.7548433999918585,6.934730563701687,7.467994445870093,8.16462455891295,8.506915053405217,8.506915053405217,8.676632575818859,8.506915053405217,8.506915053405217,8.16462455891295,7.818310262100868,7.818310262100868,7.643665284622254,7.467994445870093,7.643665284622254,7.818310262100868,7.643665284622254,7.818310262100868,7.467994445870093,7.291252132900662,7.113517910058593,6.7548433999918585,6.573937270266415,6.20883838468757,6.391949704874082,6.20883838468757,6.024669289957603,6.024669289957603,6.20883838468757,5.839394806226347,5.653010433045284,5.08700773343251,4.703887459561289,4.316060286049729,3.923479667590274,3.325363616016072,3.1235071031793877,2.715933806441181,2.9203398659807602,2.715933806441181,2.715933806441181],\"type\":\"scatter\"}],                        {\"template\":{\"data\":{\"barpolar\":[{\"marker\":{\"line\":{\"color\":\"white\",\"width\":0.5},\"pattern\":{\"fillmode\":\"overlay\",\"size\":10,\"solidity\":0.2}},\"type\":\"barpolar\"}],\"bar\":[{\"error_x\":{\"color\":\"#2a3f5f\"},\"error_y\":{\"color\":\"#2a3f5f\"},\"marker\":{\"line\":{\"color\":\"white\",\"width\":0.5},\"pattern\":{\"fillmode\":\"overlay\",\"size\":10,\"solidity\":0.2}},\"type\":\"bar\"}],\"carpet\":[{\"aaxis\":{\"endlinecolor\":\"#2a3f5f\",\"gridcolor\":\"#C8D4E3\",\"linecolor\":\"#C8D4E3\",\"minorgridcolor\":\"#C8D4E3\",\"startlinecolor\":\"#2a3f5f\"},\"baxis\":{\"endlinecolor\":\"#2a3f5f\",\"gridcolor\":\"#C8D4E3\",\"linecolor\":\"#C8D4E3\",\"minorgridcolor\":\"#C8D4E3\",\"startlinecolor\":\"#2a3f5f\"},\"type\":\"carpet\"}],\"choropleth\":[{\"colorbar\":{\"outlinewidth\":0,\"ticks\":\"\"},\"type\":\"choropleth\"}],\"contourcarpet\":[{\"colorbar\":{\"outlinewidth\":0,\"ticks\":\"\"},\"type\":\"contourcarpet\"}],\"contour\":[{\"colorbar\":{\"outlinewidth\":0,\"ticks\":\"\"},\"colorscale\":[[0.0,\"#0d0887\"],[0.1111111111111111,\"#46039f\"],[0.2222222222222222,\"#7201a8\"],[0.3333333333333333,\"#9c179e\"],[0.4444444444444444,\"#bd3786\"],[0.5555555555555556,\"#d8576b\"],[0.6666666666666666,\"#ed7953\"],[0.7777777777777778,\"#fb9f3a\"],[0.8888888888888888,\"#fdca26\"],[1.0,\"#f0f921\"]],\"type\":\"contour\"}],\"heatmapgl\":[{\"colorbar\":{\"outlinewidth\":0,\"ticks\":\"\"},\"colorscale\":[[0.0,\"#0d0887\"],[0.1111111111111111,\"#46039f\"],[0.2222222222222222,\"#7201a8\"],[0.3333333333333333,\"#9c179e\"],[0.4444444444444444,\"#bd3786\"],[0.5555555555555556,\"#d8576b\"],[0.6666666666666666,\"#ed7953\"],[0.7777777777777778,\"#fb9f3a\"],[0.8888888888888888,\"#fdca26\"],[1.0,\"#f0f921\"]],\"type\":\"heatmapgl\"}],\"heatmap\":[{\"colorbar\":{\"outlinewidth\":0,\"ticks\":\"\"},\"colorscale\":[[0.0,\"#0d0887\"],[0.1111111111111111,\"#46039f\"],[0.2222222222222222,\"#7201a8\"],[0.3333333333333333,\"#9c179e\"],[0.4444444444444444,\"#bd3786\"],[0.5555555555555556,\"#d8576b\"],[0.6666666666666666,\"#ed7953\"],[0.7777777777777778,\"#fb9f3a\"],[0.8888888888888888,\"#fdca26\"],[1.0,\"#f0f921\"]],\"type\":\"heatmap\"}],\"histogram2dcontour\":[{\"colorbar\":{\"outlinewidth\":0,\"ticks\":\"\"},\"colorscale\":[[0.0,\"#0d0887\"],[0.1111111111111111,\"#46039f\"],[0.2222222222222222,\"#7201a8\"],[0.3333333333333333,\"#9c179e\"],[0.4444444444444444,\"#bd3786\"],[0.5555555555555556,\"#d8576b\"],[0.6666666666666666,\"#ed7953\"],[0.7777777777777778,\"#fb9f3a\"],[0.8888888888888888,\"#fdca26\"],[1.0,\"#f0f921\"]],\"type\":\"histogram2dcontour\"}],\"histogram2d\":[{\"colorbar\":{\"outlinewidth\":0,\"ticks\":\"\"},\"colorscale\":[[0.0,\"#0d0887\"],[0.1111111111111111,\"#46039f\"],[0.2222222222222222,\"#7201a8\"],[0.3333333333333333,\"#9c179e\"],[0.4444444444444444,\"#bd3786\"],[0.5555555555555556,\"#d8576b\"],[0.6666666666666666,\"#ed7953\"],[0.7777777777777778,\"#fb9f3a\"],[0.8888888888888888,\"#fdca26\"],[1.0,\"#f0f921\"]],\"type\":\"histogram2d\"}],\"histogram\":[{\"marker\":{\"pattern\":{\"fillmode\":\"overlay\",\"size\":10,\"solidity\":0.2}},\"type\":\"histogram\"}],\"mesh3d\":[{\"colorbar\":{\"outlinewidth\":0,\"ticks\":\"\"},\"type\":\"mesh3d\"}],\"parcoords\":[{\"line\":{\"colorbar\":{\"outlinewidth\":0,\"ticks\":\"\"}},\"type\":\"parcoords\"}],\"pie\":[{\"automargin\":true,\"type\":\"pie\"}],\"scatter3d\":[{\"line\":{\"colorbar\":{\"outlinewidth\":0,\"ticks\":\"\"}},\"marker\":{\"colorbar\":{\"outlinewidth\":0,\"ticks\":\"\"}},\"type\":\"scatter3d\"}],\"scattercarpet\":[{\"marker\":{\"colorbar\":{\"outlinewidth\":0,\"ticks\":\"\"}},\"type\":\"scattercarpet\"}],\"scattergeo\":[{\"marker\":{\"colorbar\":{\"outlinewidth\":0,\"ticks\":\"\"}},\"type\":\"scattergeo\"}],\"scattergl\":[{\"marker\":{\"colorbar\":{\"outlinewidth\":0,\"ticks\":\"\"}},\"type\":\"scattergl\"}],\"scattermapbox\":[{\"marker\":{\"colorbar\":{\"outlinewidth\":0,\"ticks\":\"\"}},\"type\":\"scattermapbox\"}],\"scatterpolargl\":[{\"marker\":{\"colorbar\":{\"outlinewidth\":0,\"ticks\":\"\"}},\"type\":\"scatterpolargl\"}],\"scatterpolar\":[{\"marker\":{\"colorbar\":{\"outlinewidth\":0,\"ticks\":\"\"}},\"type\":\"scatterpolar\"}],\"scatter\":[{\"fillpattern\":{\"fillmode\":\"overlay\",\"size\":10,\"solidity\":0.2},\"type\":\"scatter\"}],\"scatterternary\":[{\"marker\":{\"colorbar\":{\"outlinewidth\":0,\"ticks\":\"\"}},\"type\":\"scatterternary\"}],\"surface\":[{\"colorbar\":{\"outlinewidth\":0,\"ticks\":\"\"},\"colorscale\":[[0.0,\"#0d0887\"],[0.1111111111111111,\"#46039f\"],[0.2222222222222222,\"#7201a8\"],[0.3333333333333333,\"#9c179e\"],[0.4444444444444444,\"#bd3786\"],[0.5555555555555556,\"#d8576b\"],[0.6666666666666666,\"#ed7953\"],[0.7777777777777778,\"#fb9f3a\"],[0.8888888888888888,\"#fdca26\"],[1.0,\"#f0f921\"]],\"type\":\"surface\"}],\"table\":[{\"cells\":{\"fill\":{\"color\":\"#EBF0F8\"},\"line\":{\"color\":\"white\"}},\"header\":{\"fill\":{\"color\":\"#C8D4E3\"},\"line\":{\"color\":\"white\"}},\"type\":\"table\"}]},\"layout\":{\"annotationdefaults\":{\"arrowcolor\":\"#2a3f5f\",\"arrowhead\":0,\"arrowwidth\":1},\"autotypenumbers\":\"strict\",\"coloraxis\":{\"colorbar\":{\"outlinewidth\":0,\"ticks\":\"\"}},\"colorscale\":{\"diverging\":[[0,\"#8e0152\"],[0.1,\"#c51b7d\"],[0.2,\"#de77ae\"],[0.3,\"#f1b6da\"],[0.4,\"#fde0ef\"],[0.5,\"#f7f7f7\"],[0.6,\"#e6f5d0\"],[0.7,\"#b8e186\"],[0.8,\"#7fbc41\"],[0.9,\"#4d9221\"],[1,\"#276419\"]],\"sequential\":[[0.0,\"#0d0887\"],[0.1111111111111111,\"#46039f\"],[0.2222222222222222,\"#7201a8\"],[0.3333333333333333,\"#9c179e\"],[0.4444444444444444,\"#bd3786\"],[0.5555555555555556,\"#d8576b\"],[0.6666666666666666,\"#ed7953\"],[0.7777777777777778,\"#fb9f3a\"],[0.8888888888888888,\"#fdca26\"],[1.0,\"#f0f921\"]],\"sequentialminus\":[[0.0,\"#0d0887\"],[0.1111111111111111,\"#46039f\"],[0.2222222222222222,\"#7201a8\"],[0.3333333333333333,\"#9c179e\"],[0.4444444444444444,\"#bd3786\"],[0.5555555555555556,\"#d8576b\"],[0.6666666666666666,\"#ed7953\"],[0.7777777777777778,\"#fb9f3a\"],[0.8888888888888888,\"#fdca26\"],[1.0,\"#f0f921\"]]},\"colorway\":[\"#636efa\",\"#EF553B\",\"#00cc96\",\"#ab63fa\",\"#FFA15A\",\"#19d3f3\",\"#FF6692\",\"#B6E880\",\"#FF97FF\",\"#FECB52\"],\"font\":{\"color\":\"#2a3f5f\"},\"geo\":{\"bgcolor\":\"white\",\"lakecolor\":\"white\",\"landcolor\":\"white\",\"showlakes\":true,\"showland\":true,\"subunitcolor\":\"#C8D4E3\"},\"hoverlabel\":{\"align\":\"left\"},\"hovermode\":\"closest\",\"mapbox\":{\"style\":\"light\"},\"paper_bgcolor\":\"white\",\"plot_bgcolor\":\"white\",\"polar\":{\"angularaxis\":{\"gridcolor\":\"#EBF0F8\",\"linecolor\":\"#EBF0F8\",\"ticks\":\"\"},\"bgcolor\":\"white\",\"radialaxis\":{\"gridcolor\":\"#EBF0F8\",\"linecolor\":\"#EBF0F8\",\"ticks\":\"\"}},\"scene\":{\"xaxis\":{\"backgroundcolor\":\"white\",\"gridcolor\":\"#DFE8F3\",\"gridwidth\":2,\"linecolor\":\"#EBF0F8\",\"showbackground\":true,\"ticks\":\"\",\"zerolinecolor\":\"#EBF0F8\"},\"yaxis\":{\"backgroundcolor\":\"white\",\"gridcolor\":\"#DFE8F3\",\"gridwidth\":2,\"linecolor\":\"#EBF0F8\",\"showbackground\":true,\"ticks\":\"\",\"zerolinecolor\":\"#EBF0F8\"},\"zaxis\":{\"backgroundcolor\":\"white\",\"gridcolor\":\"#DFE8F3\",\"gridwidth\":2,\"linecolor\":\"#EBF0F8\",\"showbackground\":true,\"ticks\":\"\",\"zerolinecolor\":\"#EBF0F8\"}},\"shapedefaults\":{\"line\":{\"color\":\"#2a3f5f\"}},\"ternary\":{\"aaxis\":{\"gridcolor\":\"#DFE8F3\",\"linecolor\":\"#A2B1C6\",\"ticks\":\"\"},\"baxis\":{\"gridcolor\":\"#DFE8F3\",\"linecolor\":\"#A2B1C6\",\"ticks\":\"\"},\"bgcolor\":\"white\",\"caxis\":{\"gridcolor\":\"#DFE8F3\",\"linecolor\":\"#A2B1C6\",\"ticks\":\"\"}},\"title\":{\"x\":0.05},\"xaxis\":{\"automargin\":true,\"gridcolor\":\"#EBF0F8\",\"linecolor\":\"#EBF0F8\",\"ticks\":\"\",\"title\":{\"standoff\":15},\"zerolinecolor\":\"#EBF0F8\",\"zerolinewidth\":2},\"yaxis\":{\"automargin\":true,\"gridcolor\":\"#EBF0F8\",\"linecolor\":\"#EBF0F8\",\"ticks\":\"\",\"title\":{\"standoff\":15},\"zerolinecolor\":\"#EBF0F8\",\"zerolinewidth\":2}}},\"legend\":{\"x\":1.05,\"y\":1,\"traceorder\":\"normal\",\"orientation\":\"v\"},\"title\":{\"text\":\"\\u041f\\u0440\\u0435\\u0434\\u043f\\u043e\\u043b\\u0430\\u0433\\u0430\\u0435\\u043c\\u0430\\u044f \\u043c\\u043e\\u0434\\u0435\\u043b\\u044c - \\u0413\\u0438\\u043f\\u0435\\u0440\\u0431\\u043e\\u043b\\u0438\\u0447\\u0435\\u0441\\u043a\\u0430\\u044f\"},\"xaxis\":{\"title\":{\"text\":\"K2065G_2_POROSITY\"}},\"yaxis\":{\"title\":{\"text\":\"K2065G_2_PERMEABILITY\"}}},                        {\"responsive\": true}                    ).then(function(){\n                            \nvar gd = document.getElementById('c8e219cd-b889-49d3-897b-74d2e27a5752');\nvar x = new MutationObserver(function (mutations, observer) {{\n        var display = window.getComputedStyle(gd).display;\n        if (!display || display === 'none') {{\n            console.log([gd, 'removed!']);\n            Plotly.purge(gd);\n            observer.disconnect();\n        }}\n}});\n\n// Listen for the removal of the full notebook cells\nvar notebookContainer = gd.closest('#notebook-container');\nif (notebookContainer) {{\n    x.observe(notebookContainer, {childList: true});\n}}\n\n// Listen for the clearing of the current output cell\nvar outputEl = gd.closest('.output');\nif (outputEl) {{\n    x.observe(outputEl, {childList: true});\n}}\n\n                        })                };                });            </script>        </div>"
     },
     "metadata": {},
     "output_type": "display_data"
    },
    {
     "name": "stdout",
     "output_type": "stream",
     "text": [
      "{'linear': 0.9671145238361347, 'polynomial': 0.999563208419152, 'cubic': 0.9999983479772305, 'exponential': 0.9995336795804329, 'logarithmic': -0.13138530005898685, 'hyperbolic': 0.9573256280899538}\n"
     ]
    },
    {
     "data": {
      "text/plain": "('cubic',\n 0.9999983479772305,\n '378997.4291x^3 + -173843.3819x^2 + 26724.7638x + -1375.9510')"
     },
     "execution_count": 59,
     "metadata": {},
     "output_type": "execute_result"
    }
   ],
   "source": [
    "fit_and_plot_lists_6(K2065G_2_POROSITY, K2065G_2_PERMEABILITY, \"K2065G_2_POROSITY\", \"K2065G_2_PERMEABILITY\")"
   ],
   "metadata": {
    "collapsed": false,
    "ExecuteTime": {
     "end_time": "2024-12-03T06:28:48.079598Z",
     "start_time": "2024-12-03T06:28:47.724860500Z"
    }
   },
   "id": "5cc3ff0cc1dbc865",
   "execution_count": 59
  },
  {
   "cell_type": "code",
   "outputs": [
    {
     "data": {
      "application/vnd.plotly.v1+json": {
       "data": [
        {
         "marker": {
          "color": "blue"
         },
         "mode": "markers",
         "name": "Данные",
         "x": [
          0.1702211499,
          0.1692114919,
          0.1682019383,
          0.1682019383,
          0.1676971763,
          0.1666875035,
          0.1651730686,
          0.1641634107,
          0.1631538719,
          0.1626489758,
          0.1621442139,
          0.1621442139,
          0.1626489758,
          0.1631538719,
          0.1631538719,
          0.1631538719,
          0.1626489758,
          0.1626489758,
          0.1626489758,
          0.1621442139,
          0.1611346602,
          0.1611346602,
          0.1616394371,
          0.1616394371,
          0.1611346602,
          0.1616394371,
          0.1611346602,
          0.1611346602,
          0.1606297791,
          0.1606297791,
          0.1606297791,
          0.1596202254,
          0.1596202254,
          0.1596202254,
          0.1591153443,
          0.1586105675,
          0.1591153443,
          0.1596202254,
          0.1591153443,
          0.1586105675,
          0.1586105675,
          0.1591153443,
          0.1591153443,
          0.1586105675,
          0.1586105675,
          0.1586105675,
          0.1586105675,
          0.1586105675,
          0.1586105675,
          0.1591153443,
          0.1591153443,
          0.1601250023,
          0.1611346602,
          0.1616394371,
          0.1636586487,
          0.1641634107,
          0.1656778455,
          0.1676971763,
          0.1682019383,
          0.1707259119,
          0.1712308079,
          0.1727452427,
          0.1747644544,
          0.1757739931,
          0.1757739931,
          0.1762788892,
          0.1757739931,
          0.1757739931,
          0.1747644544,
          0.1737547815,
          0.1737547815,
          0.1732500196,
          0.1727452427,
          0.1732500196,
          0.1737547815,
          0.1732500196,
          0.1737547815,
          0.1727452427,
          0.1722403467,
          0.1717355847,
          0.1707259119,
          0.1702211499,
          0.1692114919,
          0.1697163731,
          0.1692114919,
          0.1687067151,
          0.1687067151,
          0.1692114919,
          0.1682019383,
          0.1676971763,
          0.1661827415,
          0.1651730686,
          0.1641634107,
          0.1631538719,
          0.1616394371,
          0.1611346602,
          0.1601250023,
          0.1606297791,
          0.1601250023,
          0.1601250023
         ],
         "y": [
          0.1899086684,
          0.1899086684,
          0.1894038916,
          0.1878894567,
          0.1863750219,
          0.185365364,
          0.1843558252,
          0.1838509291,
          0.1823364943,
          0.1818317324,
          0.1818317324,
          0.1818317324,
          0.1813269556,
          0.1813269556,
          0.1818317324,
          0.1818317324,
          0.1813269556,
          0.1813269556,
          0.1813269556,
          0.1803172976,
          0.1798125207,
          0.1782980859,
          0.1782980859,
          0.1808220595,
          0.1813269556,
          0.1818317324,
          0.1833461523,
          0.1838509291,
          0.1843558252,
          0.1843558252,
          0.1843558252,
          0.1843558252,
          0.1838509291,
          0.1818317324,
          0.1823364943,
          0.1828413904,
          0.1833461523,
          0.1838509291,
          0.1843558252,
          0.1843558252,
          0.1843558252,
          0.1838509291,
          0.1833461523,
          0.1823364943,
          0.1818317324,
          0.1818317324,
          0.1813269556,
          0.1808220595,
          0.1803172976,
          0.1798125207,
          0.1793077439,
          0.1788028628,
          0.1777933091,
          0.1767836511,
          0.1772884279,
          0.1782980859,
          0.1793077439,
          0.1813269556,
          0.1833461523,
          0.1848605871,
          0.1863750219,
          0.1878894567,
          0.1894038916,
          0.1904134303,
          0.1904134303,
          0.1909183264,
          0.1914231032,
          0.1914231032,
          0.1909183264,
          0.1909183264,
          0.1909183264,
          0.1909183264,
          0.1909183264,
          0.1914231032,
          0.1919278651,
          0.192432642,
          0.192937538,
          0.1934423,
          0.1944519728,
          0.1949567348,
          0.1964711696,
          0.1974807084,
          0.1979856044,
          0.1989951432,
          0.1989951432,
          0.1989951432,
          0.1989951432,
          0.1989951432,
          0.1984903812,
          0.1979856044,
          0.1979856044,
          0.1974807084,
          0.1974807084,
          0.1969759464,
          0.1969759464,
          0.1964711696,
          0.1964711696,
          0.1964711696,
          0.1964711696,
          0.1964711696
         ],
         "type": "scatter"
        },
        {
         "line": {
          "color": "red"
         },
         "mode": "lines",
         "name": "Линейная: y=0.6477x + 0.0802, R²=0.2877, SSR = 0.0",
         "x": [
          0.1702211499,
          0.1692114919,
          0.1682019383,
          0.1682019383,
          0.1676971763,
          0.1666875035,
          0.1651730686,
          0.1641634107,
          0.1631538719,
          0.1626489758,
          0.1621442139,
          0.1621442139,
          0.1626489758,
          0.1631538719,
          0.1631538719,
          0.1631538719,
          0.1626489758,
          0.1626489758,
          0.1626489758,
          0.1621442139,
          0.1611346602,
          0.1611346602,
          0.1616394371,
          0.1616394371,
          0.1611346602,
          0.1616394371,
          0.1611346602,
          0.1611346602,
          0.1606297791,
          0.1606297791,
          0.1606297791,
          0.1596202254,
          0.1596202254,
          0.1596202254,
          0.1591153443,
          0.1586105675,
          0.1591153443,
          0.1596202254,
          0.1591153443,
          0.1586105675,
          0.1586105675,
          0.1591153443,
          0.1591153443,
          0.1586105675,
          0.1586105675,
          0.1586105675,
          0.1586105675,
          0.1586105675,
          0.1586105675,
          0.1591153443,
          0.1591153443,
          0.1601250023,
          0.1611346602,
          0.1616394371,
          0.1636586487,
          0.1641634107,
          0.1656778455,
          0.1676971763,
          0.1682019383,
          0.1707259119,
          0.1712308079,
          0.1727452427,
          0.1747644544,
          0.1757739931,
          0.1757739931,
          0.1762788892,
          0.1757739931,
          0.1757739931,
          0.1747644544,
          0.1737547815,
          0.1737547815,
          0.1732500196,
          0.1727452427,
          0.1732500196,
          0.1737547815,
          0.1732500196,
          0.1737547815,
          0.1727452427,
          0.1722403467,
          0.1717355847,
          0.1707259119,
          0.1702211499,
          0.1692114919,
          0.1697163731,
          0.1692114919,
          0.1687067151,
          0.1687067151,
          0.1692114919,
          0.1682019383,
          0.1676971763,
          0.1661827415,
          0.1651730686,
          0.1641634107,
          0.1631538719,
          0.1616394371,
          0.1611346602,
          0.1601250023,
          0.1606297791,
          0.1601250023,
          0.1601250023
         ],
         "y": [
          0.19047625751954203,
          0.18982226820163228,
          0.18916834650710074,
          0.18916834650710074,
          0.1888413952462909,
          0.18818739634192527,
          0.1872064461119764,
          0.18655245685884003,
          0.1858985447507644,
          0.1855715066288912,
          0.18524455543285467,
          0.18524455543285467,
          0.1855715066288912,
          0.1858985447507644,
          0.1858985447507644,
          0.1858985447507644,
          0.1855715066288912,
          0.1855715066288912,
          0.1855715066288912,
          0.18524455543285467,
          0.1845906336735498,
          0.1845906336735498,
          0.18491759458558893,
          0.18491759458558893,
          0.1845906336735498,
          0.18491759458558893,
          0.1845906336735498,
          0.1845906336735498,
          0.1842636052676792,
          0.1842636052676792,
          0.1842636052676792,
          0.1836096835083743,
          0.1836096835083743,
          0.1836096835083743,
          0.1832826551025037,
          0.18295569425523792,
          0.1832826551025037,
          0.1836096835083743,
          0.1832826551025037,
          0.18295569425523792,
          0.18295569425523792,
          0.1832826551025037,
          0.1832826551025037,
          0.18295569425523792,
          0.18295569425523792,
          0.18295569425523792,
          0.18295569425523792,
          0.18295569425523792,
          0.18295569425523792,
          0.1832826551025037,
          0.1832826551025037,
          0.18393664442041344,
          0.1845906336735498,
          0.18491759458558893,
          0.1862255055980302,
          0.18655245685884003,
          0.18753340702401552,
          0.1888413952462909,
          0.18916834650710074,
          0.19080320878035187,
          0.19113024683745175,
          0.19211119700262724,
          0.19341910807984186,
          0.19407302012314412,
          0.19407302012314412,
          0.19440005824501738,
          0.19407302012314412,
          0.19407302012314412,
          0.19341910807984186,
          0.19276510911070288,
          0.19276510911070288,
          0.19243815791466637,
          0.19211119700262724,
          0.19243815791466637,
          0.19276510911070288,
          0.19243815791466637,
          0.19276510911070288,
          0.19211119700262724,
          0.19178415894552736,
          0.19145720768471752,
          0.19080320878035187,
          0.19047625751954203,
          0.18982226820163228,
          0.19014929667227626,
          0.18982226820163228,
          0.1894953073543665,
          0.1894953073543665,
          0.18982226820163228,
          0.18916834650710074,
          0.1888413952462909,
          0.18786044508111543,
          0.1872064461119764,
          0.18655245685884003,
          0.1858985447507644,
          0.18491759458558893,
          0.1845906336735498,
          0.18393664442041344,
          0.1842636052676792,
          0.18393664442041344,
          0.18393664442041344
         ],
         "type": "scatter"
        },
        {
         "line": {
          "color": "lightgrey",
          "dash": "dash"
         },
         "mode": "lines",
         "name": "Нижняя граница",
         "x": [
          0.1702211499,
          0.1692114919,
          0.1682019383,
          0.1682019383,
          0.1676971763,
          0.1666875035,
          0.1651730686,
          0.1641634107,
          0.1631538719,
          0.1626489758,
          0.1621442139,
          0.1621442139,
          0.1626489758,
          0.1631538719,
          0.1631538719,
          0.1631538719,
          0.1626489758,
          0.1626489758,
          0.1626489758,
          0.1621442139,
          0.1611346602,
          0.1611346602,
          0.1616394371,
          0.1616394371,
          0.1611346602,
          0.1616394371,
          0.1611346602,
          0.1611346602,
          0.1606297791,
          0.1606297791,
          0.1606297791,
          0.1596202254,
          0.1596202254,
          0.1596202254,
          0.1591153443,
          0.1586105675,
          0.1591153443,
          0.1596202254,
          0.1591153443,
          0.1586105675,
          0.1586105675,
          0.1591153443,
          0.1591153443,
          0.1586105675,
          0.1586105675,
          0.1586105675,
          0.1586105675,
          0.1586105675,
          0.1586105675,
          0.1591153443,
          0.1591153443,
          0.1601250023,
          0.1611346602,
          0.1616394371,
          0.1636586487,
          0.1641634107,
          0.1656778455,
          0.1676971763,
          0.1682019383,
          0.1707259119,
          0.1712308079,
          0.1727452427,
          0.1747644544,
          0.1757739931,
          0.1757739931,
          0.1762788892,
          0.1757739931,
          0.1757739931,
          0.1747644544,
          0.1737547815,
          0.1737547815,
          0.1732500196,
          0.1727452427,
          0.1732500196,
          0.1737547815,
          0.1732500196,
          0.1737547815,
          0.1727452427,
          0.1722403467,
          0.1717355847,
          0.1707259119,
          0.1702211499,
          0.1692114919,
          0.1697163731,
          0.1692114919,
          0.1687067151,
          0.1687067151,
          0.1692114919,
          0.1682019383,
          0.1676971763,
          0.1661827415,
          0.1651730686,
          0.1641634107,
          0.1631538719,
          0.1616394371,
          0.1611346602,
          0.1601250023,
          0.1606297791,
          0.1601250023,
          0.1601250023
         ],
         "y": [
          0.17931093022244654,
          0.1786569409045368,
          0.17800301921000525,
          0.17800301921000525,
          0.1776760679491954,
          0.17702206904482978,
          0.1760411188148809,
          0.17538712956174454,
          0.1747332174536689,
          0.1744061793317957,
          0.17407922813575918,
          0.17407922813575918,
          0.1744061793317957,
          0.1747332174536689,
          0.1747332174536689,
          0.1747332174536689,
          0.1744061793317957,
          0.1744061793317957,
          0.1744061793317957,
          0.17407922813575918,
          0.1734253063764543,
          0.1734253063764543,
          0.17375226728849344,
          0.17375226728849344,
          0.1734253063764543,
          0.17375226728849344,
          0.1734253063764543,
          0.1734253063764543,
          0.17309827797058372,
          0.17309827797058372,
          0.17309827797058372,
          0.17244435621127882,
          0.17244435621127882,
          0.17244435621127882,
          0.1721173278054082,
          0.17179036695814243,
          0.1721173278054082,
          0.17244435621127882,
          0.1721173278054082,
          0.17179036695814243,
          0.17179036695814243,
          0.1721173278054082,
          0.1721173278054082,
          0.17179036695814243,
          0.17179036695814243,
          0.17179036695814243,
          0.17179036695814243,
          0.17179036695814243,
          0.17179036695814243,
          0.1721173278054082,
          0.1721173278054082,
          0.17277131712331795,
          0.1734253063764543,
          0.17375226728849344,
          0.1750601783009347,
          0.17538712956174454,
          0.17636807972692004,
          0.1776760679491954,
          0.17800301921000525,
          0.17963788148325638,
          0.17996491954035626,
          0.18094586970553175,
          0.18225378078274637,
          0.18290769282604863,
          0.18290769282604863,
          0.1832347309479219,
          0.18290769282604863,
          0.18290769282604863,
          0.18225378078274637,
          0.1815997818136074,
          0.1815997818136074,
          0.18127283061757088,
          0.18094586970553175,
          0.18127283061757088,
          0.1815997818136074,
          0.18127283061757088,
          0.1815997818136074,
          0.18094586970553175,
          0.18061883164843187,
          0.18029188038762203,
          0.17963788148325638,
          0.17931093022244654,
          0.1786569409045368,
          0.17898396937518077,
          0.1786569409045368,
          0.17832998005727102,
          0.17832998005727102,
          0.1786569409045368,
          0.17800301921000525,
          0.1776760679491954,
          0.17669511778401994,
          0.1760411188148809,
          0.17538712956174454,
          0.1747332174536689,
          0.17375226728849344,
          0.1734253063764543,
          0.17277131712331795,
          0.17309827797058372,
          0.17277131712331795,
          0.17277131712331795
         ],
         "type": "scatter"
        },
        {
         "line": {
          "color": "lightgrey",
          "dash": "dash"
         },
         "mode": "lines",
         "name": "Верхняя граница",
         "x": [
          0.1702211499,
          0.1692114919,
          0.1682019383,
          0.1682019383,
          0.1676971763,
          0.1666875035,
          0.1651730686,
          0.1641634107,
          0.1631538719,
          0.1626489758,
          0.1621442139,
          0.1621442139,
          0.1626489758,
          0.1631538719,
          0.1631538719,
          0.1631538719,
          0.1626489758,
          0.1626489758,
          0.1626489758,
          0.1621442139,
          0.1611346602,
          0.1611346602,
          0.1616394371,
          0.1616394371,
          0.1611346602,
          0.1616394371,
          0.1611346602,
          0.1611346602,
          0.1606297791,
          0.1606297791,
          0.1606297791,
          0.1596202254,
          0.1596202254,
          0.1596202254,
          0.1591153443,
          0.1586105675,
          0.1591153443,
          0.1596202254,
          0.1591153443,
          0.1586105675,
          0.1586105675,
          0.1591153443,
          0.1591153443,
          0.1586105675,
          0.1586105675,
          0.1586105675,
          0.1586105675,
          0.1586105675,
          0.1586105675,
          0.1591153443,
          0.1591153443,
          0.1601250023,
          0.1611346602,
          0.1616394371,
          0.1636586487,
          0.1641634107,
          0.1656778455,
          0.1676971763,
          0.1682019383,
          0.1707259119,
          0.1712308079,
          0.1727452427,
          0.1747644544,
          0.1757739931,
          0.1757739931,
          0.1762788892,
          0.1757739931,
          0.1757739931,
          0.1747644544,
          0.1737547815,
          0.1737547815,
          0.1732500196,
          0.1727452427,
          0.1732500196,
          0.1737547815,
          0.1732500196,
          0.1737547815,
          0.1727452427,
          0.1722403467,
          0.1717355847,
          0.1707259119,
          0.1702211499,
          0.1692114919,
          0.1697163731,
          0.1692114919,
          0.1687067151,
          0.1687067151,
          0.1692114919,
          0.1682019383,
          0.1676971763,
          0.1661827415,
          0.1651730686,
          0.1641634107,
          0.1631538719,
          0.1616394371,
          0.1611346602,
          0.1601250023,
          0.1606297791,
          0.1601250023,
          0.1601250023
         ],
         "y": [
          0.20164158481663752,
          0.20098759549872777,
          0.20033367380419623,
          0.20033367380419623,
          0.2000067225433864,
          0.19935272363902076,
          0.1983717734090719,
          0.19771778415593552,
          0.19706387204785988,
          0.19673683392598668,
          0.19640988272995016,
          0.19640988272995016,
          0.19673683392598668,
          0.19706387204785988,
          0.19706387204785988,
          0.19706387204785988,
          0.19673683392598668,
          0.19673683392598668,
          0.19673683392598668,
          0.19640988272995016,
          0.1957559609706453,
          0.1957559609706453,
          0.19608292188268442,
          0.19608292188268442,
          0.1957559609706453,
          0.19608292188268442,
          0.1957559609706453,
          0.1957559609706453,
          0.1954289325647747,
          0.1954289325647747,
          0.1954289325647747,
          0.1947750108054698,
          0.1947750108054698,
          0.1947750108054698,
          0.19444798239959918,
          0.1941210215523334,
          0.19444798239959918,
          0.1947750108054698,
          0.19444798239959918,
          0.1941210215523334,
          0.1941210215523334,
          0.19444798239959918,
          0.19444798239959918,
          0.1941210215523334,
          0.1941210215523334,
          0.1941210215523334,
          0.1941210215523334,
          0.1941210215523334,
          0.1941210215523334,
          0.19444798239959918,
          0.19444798239959918,
          0.19510197171750893,
          0.1957559609706453,
          0.19608292188268442,
          0.19739083289512568,
          0.19771778415593552,
          0.19869873432111101,
          0.2000067225433864,
          0.20033367380419623,
          0.20196853607744736,
          0.20229557413454724,
          0.20327652429972273,
          0.20458443537693735,
          0.2052383474202396,
          0.2052383474202396,
          0.20556538554211287,
          0.2052383474202396,
          0.2052383474202396,
          0.20458443537693735,
          0.20393043640779837,
          0.20393043640779837,
          0.20360348521176186,
          0.20327652429972273,
          0.20360348521176186,
          0.20393043640779837,
          0.20360348521176186,
          0.20393043640779837,
          0.20327652429972273,
          0.20294948624262285,
          0.202622534981813,
          0.20196853607744736,
          0.20164158481663752,
          0.20098759549872777,
          0.20131462396937175,
          0.20098759549872777,
          0.200660634651462,
          0.200660634651462,
          0.20098759549872777,
          0.20033367380419623,
          0.2000067225433864,
          0.19902577237821092,
          0.1983717734090719,
          0.19771778415593552,
          0.19706387204785988,
          0.19608292188268442,
          0.1957559609706453,
          0.19510197171750893,
          0.1954289325647747,
          0.19510197171750893,
          0.19510197171750893
         ],
         "type": "scatter"
        }
       ],
       "layout": {
        "template": {
         "data": {
          "barpolar": [
           {
            "marker": {
             "line": {
              "color": "white",
              "width": 0.5
             },
             "pattern": {
              "fillmode": "overlay",
              "size": 10,
              "solidity": 0.2
             }
            },
            "type": "barpolar"
           }
          ],
          "bar": [
           {
            "error_x": {
             "color": "#2a3f5f"
            },
            "error_y": {
             "color": "#2a3f5f"
            },
            "marker": {
             "line": {
              "color": "white",
              "width": 0.5
             },
             "pattern": {
              "fillmode": "overlay",
              "size": 10,
              "solidity": 0.2
             }
            },
            "type": "bar"
           }
          ],
          "carpet": [
           {
            "aaxis": {
             "endlinecolor": "#2a3f5f",
             "gridcolor": "#C8D4E3",
             "linecolor": "#C8D4E3",
             "minorgridcolor": "#C8D4E3",
             "startlinecolor": "#2a3f5f"
            },
            "baxis": {
             "endlinecolor": "#2a3f5f",
             "gridcolor": "#C8D4E3",
             "linecolor": "#C8D4E3",
             "minorgridcolor": "#C8D4E3",
             "startlinecolor": "#2a3f5f"
            },
            "type": "carpet"
           }
          ],
          "choropleth": [
           {
            "colorbar": {
             "outlinewidth": 0,
             "ticks": ""
            },
            "type": "choropleth"
           }
          ],
          "contourcarpet": [
           {
            "colorbar": {
             "outlinewidth": 0,
             "ticks": ""
            },
            "type": "contourcarpet"
           }
          ],
          "contour": [
           {
            "colorbar": {
             "outlinewidth": 0,
             "ticks": ""
            },
            "colorscale": [
             [
              0.0,
              "#0d0887"
             ],
             [
              0.1111111111111111,
              "#46039f"
             ],
             [
              0.2222222222222222,
              "#7201a8"
             ],
             [
              0.3333333333333333,
              "#9c179e"
             ],
             [
              0.4444444444444444,
              "#bd3786"
             ],
             [
              0.5555555555555556,
              "#d8576b"
             ],
             [
              0.6666666666666666,
              "#ed7953"
             ],
             [
              0.7777777777777778,
              "#fb9f3a"
             ],
             [
              0.8888888888888888,
              "#fdca26"
             ],
             [
              1.0,
              "#f0f921"
             ]
            ],
            "type": "contour"
           }
          ],
          "heatmapgl": [
           {
            "colorbar": {
             "outlinewidth": 0,
             "ticks": ""
            },
            "colorscale": [
             [
              0.0,
              "#0d0887"
             ],
             [
              0.1111111111111111,
              "#46039f"
             ],
             [
              0.2222222222222222,
              "#7201a8"
             ],
             [
              0.3333333333333333,
              "#9c179e"
             ],
             [
              0.4444444444444444,
              "#bd3786"
             ],
             [
              0.5555555555555556,
              "#d8576b"
             ],
             [
              0.6666666666666666,
              "#ed7953"
             ],
             [
              0.7777777777777778,
              "#fb9f3a"
             ],
             [
              0.8888888888888888,
              "#fdca26"
             ],
             [
              1.0,
              "#f0f921"
             ]
            ],
            "type": "heatmapgl"
           }
          ],
          "heatmap": [
           {
            "colorbar": {
             "outlinewidth": 0,
             "ticks": ""
            },
            "colorscale": [
             [
              0.0,
              "#0d0887"
             ],
             [
              0.1111111111111111,
              "#46039f"
             ],
             [
              0.2222222222222222,
              "#7201a8"
             ],
             [
              0.3333333333333333,
              "#9c179e"
             ],
             [
              0.4444444444444444,
              "#bd3786"
             ],
             [
              0.5555555555555556,
              "#d8576b"
             ],
             [
              0.6666666666666666,
              "#ed7953"
             ],
             [
              0.7777777777777778,
              "#fb9f3a"
             ],
             [
              0.8888888888888888,
              "#fdca26"
             ],
             [
              1.0,
              "#f0f921"
             ]
            ],
            "type": "heatmap"
           }
          ],
          "histogram2dcontour": [
           {
            "colorbar": {
             "outlinewidth": 0,
             "ticks": ""
            },
            "colorscale": [
             [
              0.0,
              "#0d0887"
             ],
             [
              0.1111111111111111,
              "#46039f"
             ],
             [
              0.2222222222222222,
              "#7201a8"
             ],
             [
              0.3333333333333333,
              "#9c179e"
             ],
             [
              0.4444444444444444,
              "#bd3786"
             ],
             [
              0.5555555555555556,
              "#d8576b"
             ],
             [
              0.6666666666666666,
              "#ed7953"
             ],
             [
              0.7777777777777778,
              "#fb9f3a"
             ],
             [
              0.8888888888888888,
              "#fdca26"
             ],
             [
              1.0,
              "#f0f921"
             ]
            ],
            "type": "histogram2dcontour"
           }
          ],
          "histogram2d": [
           {
            "colorbar": {
             "outlinewidth": 0,
             "ticks": ""
            },
            "colorscale": [
             [
              0.0,
              "#0d0887"
             ],
             [
              0.1111111111111111,
              "#46039f"
             ],
             [
              0.2222222222222222,
              "#7201a8"
             ],
             [
              0.3333333333333333,
              "#9c179e"
             ],
             [
              0.4444444444444444,
              "#bd3786"
             ],
             [
              0.5555555555555556,
              "#d8576b"
             ],
             [
              0.6666666666666666,
              "#ed7953"
             ],
             [
              0.7777777777777778,
              "#fb9f3a"
             ],
             [
              0.8888888888888888,
              "#fdca26"
             ],
             [
              1.0,
              "#f0f921"
             ]
            ],
            "type": "histogram2d"
           }
          ],
          "histogram": [
           {
            "marker": {
             "pattern": {
              "fillmode": "overlay",
              "size": 10,
              "solidity": 0.2
             }
            },
            "type": "histogram"
           }
          ],
          "mesh3d": [
           {
            "colorbar": {
             "outlinewidth": 0,
             "ticks": ""
            },
            "type": "mesh3d"
           }
          ],
          "parcoords": [
           {
            "line": {
             "colorbar": {
              "outlinewidth": 0,
              "ticks": ""
             }
            },
            "type": "parcoords"
           }
          ],
          "pie": [
           {
            "automargin": true,
            "type": "pie"
           }
          ],
          "scatter3d": [
           {
            "line": {
             "colorbar": {
              "outlinewidth": 0,
              "ticks": ""
             }
            },
            "marker": {
             "colorbar": {
              "outlinewidth": 0,
              "ticks": ""
             }
            },
            "type": "scatter3d"
           }
          ],
          "scattercarpet": [
           {
            "marker": {
             "colorbar": {
              "outlinewidth": 0,
              "ticks": ""
             }
            },
            "type": "scattercarpet"
           }
          ],
          "scattergeo": [
           {
            "marker": {
             "colorbar": {
              "outlinewidth": 0,
              "ticks": ""
             }
            },
            "type": "scattergeo"
           }
          ],
          "scattergl": [
           {
            "marker": {
             "colorbar": {
              "outlinewidth": 0,
              "ticks": ""
             }
            },
            "type": "scattergl"
           }
          ],
          "scattermapbox": [
           {
            "marker": {
             "colorbar": {
              "outlinewidth": 0,
              "ticks": ""
             }
            },
            "type": "scattermapbox"
           }
          ],
          "scatterpolargl": [
           {
            "marker": {
             "colorbar": {
              "outlinewidth": 0,
              "ticks": ""
             }
            },
            "type": "scatterpolargl"
           }
          ],
          "scatterpolar": [
           {
            "marker": {
             "colorbar": {
              "outlinewidth": 0,
              "ticks": ""
             }
            },
            "type": "scatterpolar"
           }
          ],
          "scatter": [
           {
            "fillpattern": {
             "fillmode": "overlay",
             "size": 10,
             "solidity": 0.2
            },
            "type": "scatter"
           }
          ],
          "scatterternary": [
           {
            "marker": {
             "colorbar": {
              "outlinewidth": 0,
              "ticks": ""
             }
            },
            "type": "scatterternary"
           }
          ],
          "surface": [
           {
            "colorbar": {
             "outlinewidth": 0,
             "ticks": ""
            },
            "colorscale": [
             [
              0.0,
              "#0d0887"
             ],
             [
              0.1111111111111111,
              "#46039f"
             ],
             [
              0.2222222222222222,
              "#7201a8"
             ],
             [
              0.3333333333333333,
              "#9c179e"
             ],
             [
              0.4444444444444444,
              "#bd3786"
             ],
             [
              0.5555555555555556,
              "#d8576b"
             ],
             [
              0.6666666666666666,
              "#ed7953"
             ],
             [
              0.7777777777777778,
              "#fb9f3a"
             ],
             [
              0.8888888888888888,
              "#fdca26"
             ],
             [
              1.0,
              "#f0f921"
             ]
            ],
            "type": "surface"
           }
          ],
          "table": [
           {
            "cells": {
             "fill": {
              "color": "#EBF0F8"
             },
             "line": {
              "color": "white"
             }
            },
            "header": {
             "fill": {
              "color": "#C8D4E3"
             },
             "line": {
              "color": "white"
             }
            },
            "type": "table"
           }
          ]
         },
         "layout": {
          "annotationdefaults": {
           "arrowcolor": "#2a3f5f",
           "arrowhead": 0,
           "arrowwidth": 1
          },
          "autotypenumbers": "strict",
          "coloraxis": {
           "colorbar": {
            "outlinewidth": 0,
            "ticks": ""
           }
          },
          "colorscale": {
           "diverging": [
            [
             0,
             "#8e0152"
            ],
            [
             0.1,
             "#c51b7d"
            ],
            [
             0.2,
             "#de77ae"
            ],
            [
             0.3,
             "#f1b6da"
            ],
            [
             0.4,
             "#fde0ef"
            ],
            [
             0.5,
             "#f7f7f7"
            ],
            [
             0.6,
             "#e6f5d0"
            ],
            [
             0.7,
             "#b8e186"
            ],
            [
             0.8,
             "#7fbc41"
            ],
            [
             0.9,
             "#4d9221"
            ],
            [
             1,
             "#276419"
            ]
           ],
           "sequential": [
            [
             0.0,
             "#0d0887"
            ],
            [
             0.1111111111111111,
             "#46039f"
            ],
            [
             0.2222222222222222,
             "#7201a8"
            ],
            [
             0.3333333333333333,
             "#9c179e"
            ],
            [
             0.4444444444444444,
             "#bd3786"
            ],
            [
             0.5555555555555556,
             "#d8576b"
            ],
            [
             0.6666666666666666,
             "#ed7953"
            ],
            [
             0.7777777777777778,
             "#fb9f3a"
            ],
            [
             0.8888888888888888,
             "#fdca26"
            ],
            [
             1.0,
             "#f0f921"
            ]
           ],
           "sequentialminus": [
            [
             0.0,
             "#0d0887"
            ],
            [
             0.1111111111111111,
             "#46039f"
            ],
            [
             0.2222222222222222,
             "#7201a8"
            ],
            [
             0.3333333333333333,
             "#9c179e"
            ],
            [
             0.4444444444444444,
             "#bd3786"
            ],
            [
             0.5555555555555556,
             "#d8576b"
            ],
            [
             0.6666666666666666,
             "#ed7953"
            ],
            [
             0.7777777777777778,
             "#fb9f3a"
            ],
            [
             0.8888888888888888,
             "#fdca26"
            ],
            [
             1.0,
             "#f0f921"
            ]
           ]
          },
          "colorway": [
           "#636efa",
           "#EF553B",
           "#00cc96",
           "#ab63fa",
           "#FFA15A",
           "#19d3f3",
           "#FF6692",
           "#B6E880",
           "#FF97FF",
           "#FECB52"
          ],
          "font": {
           "color": "#2a3f5f"
          },
          "geo": {
           "bgcolor": "white",
           "lakecolor": "white",
           "landcolor": "white",
           "showlakes": true,
           "showland": true,
           "subunitcolor": "#C8D4E3"
          },
          "hoverlabel": {
           "align": "left"
          },
          "hovermode": "closest",
          "mapbox": {
           "style": "light"
          },
          "paper_bgcolor": "white",
          "plot_bgcolor": "white",
          "polar": {
           "angularaxis": {
            "gridcolor": "#EBF0F8",
            "linecolor": "#EBF0F8",
            "ticks": ""
           },
           "bgcolor": "white",
           "radialaxis": {
            "gridcolor": "#EBF0F8",
            "linecolor": "#EBF0F8",
            "ticks": ""
           }
          },
          "scene": {
           "xaxis": {
            "backgroundcolor": "white",
            "gridcolor": "#DFE8F3",
            "gridwidth": 2,
            "linecolor": "#EBF0F8",
            "showbackground": true,
            "ticks": "",
            "zerolinecolor": "#EBF0F8"
           },
           "yaxis": {
            "backgroundcolor": "white",
            "gridcolor": "#DFE8F3",
            "gridwidth": 2,
            "linecolor": "#EBF0F8",
            "showbackground": true,
            "ticks": "",
            "zerolinecolor": "#EBF0F8"
           },
           "zaxis": {
            "backgroundcolor": "white",
            "gridcolor": "#DFE8F3",
            "gridwidth": 2,
            "linecolor": "#EBF0F8",
            "showbackground": true,
            "ticks": "",
            "zerolinecolor": "#EBF0F8"
           }
          },
          "shapedefaults": {
           "line": {
            "color": "#2a3f5f"
           }
          },
          "ternary": {
           "aaxis": {
            "gridcolor": "#DFE8F3",
            "linecolor": "#A2B1C6",
            "ticks": ""
           },
           "baxis": {
            "gridcolor": "#DFE8F3",
            "linecolor": "#A2B1C6",
            "ticks": ""
           },
           "bgcolor": "white",
           "caxis": {
            "gridcolor": "#DFE8F3",
            "linecolor": "#A2B1C6",
            "ticks": ""
           }
          },
          "title": {
           "x": 0.05
          },
          "xaxis": {
           "automargin": true,
           "gridcolor": "#EBF0F8",
           "linecolor": "#EBF0F8",
           "ticks": "",
           "title": {
            "standoff": 15
           },
           "zerolinecolor": "#EBF0F8",
           "zerolinewidth": 2
          },
          "yaxis": {
           "automargin": true,
           "gridcolor": "#EBF0F8",
           "linecolor": "#EBF0F8",
           "ticks": "",
           "title": {
            "standoff": 15
           },
           "zerolinecolor": "#EBF0F8",
           "zerolinewidth": 2
          }
         }
        },
        "legend": {
         "x": 1.05,
         "y": 1,
         "traceorder": "normal",
         "orientation": "v"
        },
        "title": {
         "text": "Предполагаемая модель - Линейная"
        },
        "xaxis": {
         "title": {
          "text": "K2065G_2_POROSITY"
         }
        },
        "yaxis": {
         "title": {
          "text": "K2066G_2_POROSITY"
         }
        }
       },
       "config": {
        "plotlyServerURL": "https://plot.ly"
       }
      },
      "text/html": "<div>                            <div id=\"5a95c365-cd24-47ef-890b-5e0306ccc819\" class=\"plotly-graph-div\" style=\"height:525px; width:100%;\"></div>            <script type=\"text/javascript\">                require([\"plotly\"], function(Plotly) {                    window.PLOTLYENV=window.PLOTLYENV || {};                                    if (document.getElementById(\"5a95c365-cd24-47ef-890b-5e0306ccc819\")) {                    Plotly.newPlot(                        \"5a95c365-cd24-47ef-890b-5e0306ccc819\",                        [{\"marker\":{\"color\":\"blue\"},\"mode\":\"markers\",\"name\":\"\\u0414\\u0430\\u043d\\u043d\\u044b\\u0435\",\"x\":[0.1702211499,0.1692114919,0.1682019383,0.1682019383,0.1676971763,0.1666875035,0.1651730686,0.1641634107,0.1631538719,0.1626489758,0.1621442139,0.1621442139,0.1626489758,0.1631538719,0.1631538719,0.1631538719,0.1626489758,0.1626489758,0.1626489758,0.1621442139,0.1611346602,0.1611346602,0.1616394371,0.1616394371,0.1611346602,0.1616394371,0.1611346602,0.1611346602,0.1606297791,0.1606297791,0.1606297791,0.1596202254,0.1596202254,0.1596202254,0.1591153443,0.1586105675,0.1591153443,0.1596202254,0.1591153443,0.1586105675,0.1586105675,0.1591153443,0.1591153443,0.1586105675,0.1586105675,0.1586105675,0.1586105675,0.1586105675,0.1586105675,0.1591153443,0.1591153443,0.1601250023,0.1611346602,0.1616394371,0.1636586487,0.1641634107,0.1656778455,0.1676971763,0.1682019383,0.1707259119,0.1712308079,0.1727452427,0.1747644544,0.1757739931,0.1757739931,0.1762788892,0.1757739931,0.1757739931,0.1747644544,0.1737547815,0.1737547815,0.1732500196,0.1727452427,0.1732500196,0.1737547815,0.1732500196,0.1737547815,0.1727452427,0.1722403467,0.1717355847,0.1707259119,0.1702211499,0.1692114919,0.1697163731,0.1692114919,0.1687067151,0.1687067151,0.1692114919,0.1682019383,0.1676971763,0.1661827415,0.1651730686,0.1641634107,0.1631538719,0.1616394371,0.1611346602,0.1601250023,0.1606297791,0.1601250023,0.1601250023],\"y\":[0.1899086684,0.1899086684,0.1894038916,0.1878894567,0.1863750219,0.185365364,0.1843558252,0.1838509291,0.1823364943,0.1818317324,0.1818317324,0.1818317324,0.1813269556,0.1813269556,0.1818317324,0.1818317324,0.1813269556,0.1813269556,0.1813269556,0.1803172976,0.1798125207,0.1782980859,0.1782980859,0.1808220595,0.1813269556,0.1818317324,0.1833461523,0.1838509291,0.1843558252,0.1843558252,0.1843558252,0.1843558252,0.1838509291,0.1818317324,0.1823364943,0.1828413904,0.1833461523,0.1838509291,0.1843558252,0.1843558252,0.1843558252,0.1838509291,0.1833461523,0.1823364943,0.1818317324,0.1818317324,0.1813269556,0.1808220595,0.1803172976,0.1798125207,0.1793077439,0.1788028628,0.1777933091,0.1767836511,0.1772884279,0.1782980859,0.1793077439,0.1813269556,0.1833461523,0.1848605871,0.1863750219,0.1878894567,0.1894038916,0.1904134303,0.1904134303,0.1909183264,0.1914231032,0.1914231032,0.1909183264,0.1909183264,0.1909183264,0.1909183264,0.1909183264,0.1914231032,0.1919278651,0.192432642,0.192937538,0.1934423,0.1944519728,0.1949567348,0.1964711696,0.1974807084,0.1979856044,0.1989951432,0.1989951432,0.1989951432,0.1989951432,0.1989951432,0.1984903812,0.1979856044,0.1979856044,0.1974807084,0.1974807084,0.1969759464,0.1969759464,0.1964711696,0.1964711696,0.1964711696,0.1964711696,0.1964711696],\"type\":\"scatter\"},{\"line\":{\"color\":\"red\"},\"mode\":\"lines\",\"name\":\"\\u041b\\u0438\\u043d\\u0435\\u0439\\u043d\\u0430\\u044f: y=0.6477x + 0.0802, R\\u00b2=0.2877, SSR = 0.0\",\"x\":[0.1702211499,0.1692114919,0.1682019383,0.1682019383,0.1676971763,0.1666875035,0.1651730686,0.1641634107,0.1631538719,0.1626489758,0.1621442139,0.1621442139,0.1626489758,0.1631538719,0.1631538719,0.1631538719,0.1626489758,0.1626489758,0.1626489758,0.1621442139,0.1611346602,0.1611346602,0.1616394371,0.1616394371,0.1611346602,0.1616394371,0.1611346602,0.1611346602,0.1606297791,0.1606297791,0.1606297791,0.1596202254,0.1596202254,0.1596202254,0.1591153443,0.1586105675,0.1591153443,0.1596202254,0.1591153443,0.1586105675,0.1586105675,0.1591153443,0.1591153443,0.1586105675,0.1586105675,0.1586105675,0.1586105675,0.1586105675,0.1586105675,0.1591153443,0.1591153443,0.1601250023,0.1611346602,0.1616394371,0.1636586487,0.1641634107,0.1656778455,0.1676971763,0.1682019383,0.1707259119,0.1712308079,0.1727452427,0.1747644544,0.1757739931,0.1757739931,0.1762788892,0.1757739931,0.1757739931,0.1747644544,0.1737547815,0.1737547815,0.1732500196,0.1727452427,0.1732500196,0.1737547815,0.1732500196,0.1737547815,0.1727452427,0.1722403467,0.1717355847,0.1707259119,0.1702211499,0.1692114919,0.1697163731,0.1692114919,0.1687067151,0.1687067151,0.1692114919,0.1682019383,0.1676971763,0.1661827415,0.1651730686,0.1641634107,0.1631538719,0.1616394371,0.1611346602,0.1601250023,0.1606297791,0.1601250023,0.1601250023],\"y\":[0.19047625751954203,0.18982226820163228,0.18916834650710074,0.18916834650710074,0.1888413952462909,0.18818739634192527,0.1872064461119764,0.18655245685884003,0.1858985447507644,0.1855715066288912,0.18524455543285467,0.18524455543285467,0.1855715066288912,0.1858985447507644,0.1858985447507644,0.1858985447507644,0.1855715066288912,0.1855715066288912,0.1855715066288912,0.18524455543285467,0.1845906336735498,0.1845906336735498,0.18491759458558893,0.18491759458558893,0.1845906336735498,0.18491759458558893,0.1845906336735498,0.1845906336735498,0.1842636052676792,0.1842636052676792,0.1842636052676792,0.1836096835083743,0.1836096835083743,0.1836096835083743,0.1832826551025037,0.18295569425523792,0.1832826551025037,0.1836096835083743,0.1832826551025037,0.18295569425523792,0.18295569425523792,0.1832826551025037,0.1832826551025037,0.18295569425523792,0.18295569425523792,0.18295569425523792,0.18295569425523792,0.18295569425523792,0.18295569425523792,0.1832826551025037,0.1832826551025037,0.18393664442041344,0.1845906336735498,0.18491759458558893,0.1862255055980302,0.18655245685884003,0.18753340702401552,0.1888413952462909,0.18916834650710074,0.19080320878035187,0.19113024683745175,0.19211119700262724,0.19341910807984186,0.19407302012314412,0.19407302012314412,0.19440005824501738,0.19407302012314412,0.19407302012314412,0.19341910807984186,0.19276510911070288,0.19276510911070288,0.19243815791466637,0.19211119700262724,0.19243815791466637,0.19276510911070288,0.19243815791466637,0.19276510911070288,0.19211119700262724,0.19178415894552736,0.19145720768471752,0.19080320878035187,0.19047625751954203,0.18982226820163228,0.19014929667227626,0.18982226820163228,0.1894953073543665,0.1894953073543665,0.18982226820163228,0.18916834650710074,0.1888413952462909,0.18786044508111543,0.1872064461119764,0.18655245685884003,0.1858985447507644,0.18491759458558893,0.1845906336735498,0.18393664442041344,0.1842636052676792,0.18393664442041344,0.18393664442041344],\"type\":\"scatter\"},{\"line\":{\"color\":\"lightgrey\",\"dash\":\"dash\"},\"mode\":\"lines\",\"name\":\"\\u041d\\u0438\\u0436\\u043d\\u044f\\u044f \\u0433\\u0440\\u0430\\u043d\\u0438\\u0446\\u0430\",\"x\":[0.1702211499,0.1692114919,0.1682019383,0.1682019383,0.1676971763,0.1666875035,0.1651730686,0.1641634107,0.1631538719,0.1626489758,0.1621442139,0.1621442139,0.1626489758,0.1631538719,0.1631538719,0.1631538719,0.1626489758,0.1626489758,0.1626489758,0.1621442139,0.1611346602,0.1611346602,0.1616394371,0.1616394371,0.1611346602,0.1616394371,0.1611346602,0.1611346602,0.1606297791,0.1606297791,0.1606297791,0.1596202254,0.1596202254,0.1596202254,0.1591153443,0.1586105675,0.1591153443,0.1596202254,0.1591153443,0.1586105675,0.1586105675,0.1591153443,0.1591153443,0.1586105675,0.1586105675,0.1586105675,0.1586105675,0.1586105675,0.1586105675,0.1591153443,0.1591153443,0.1601250023,0.1611346602,0.1616394371,0.1636586487,0.1641634107,0.1656778455,0.1676971763,0.1682019383,0.1707259119,0.1712308079,0.1727452427,0.1747644544,0.1757739931,0.1757739931,0.1762788892,0.1757739931,0.1757739931,0.1747644544,0.1737547815,0.1737547815,0.1732500196,0.1727452427,0.1732500196,0.1737547815,0.1732500196,0.1737547815,0.1727452427,0.1722403467,0.1717355847,0.1707259119,0.1702211499,0.1692114919,0.1697163731,0.1692114919,0.1687067151,0.1687067151,0.1692114919,0.1682019383,0.1676971763,0.1661827415,0.1651730686,0.1641634107,0.1631538719,0.1616394371,0.1611346602,0.1601250023,0.1606297791,0.1601250023,0.1601250023],\"y\":[0.17931093022244654,0.1786569409045368,0.17800301921000525,0.17800301921000525,0.1776760679491954,0.17702206904482978,0.1760411188148809,0.17538712956174454,0.1747332174536689,0.1744061793317957,0.17407922813575918,0.17407922813575918,0.1744061793317957,0.1747332174536689,0.1747332174536689,0.1747332174536689,0.1744061793317957,0.1744061793317957,0.1744061793317957,0.17407922813575918,0.1734253063764543,0.1734253063764543,0.17375226728849344,0.17375226728849344,0.1734253063764543,0.17375226728849344,0.1734253063764543,0.1734253063764543,0.17309827797058372,0.17309827797058372,0.17309827797058372,0.17244435621127882,0.17244435621127882,0.17244435621127882,0.1721173278054082,0.17179036695814243,0.1721173278054082,0.17244435621127882,0.1721173278054082,0.17179036695814243,0.17179036695814243,0.1721173278054082,0.1721173278054082,0.17179036695814243,0.17179036695814243,0.17179036695814243,0.17179036695814243,0.17179036695814243,0.17179036695814243,0.1721173278054082,0.1721173278054082,0.17277131712331795,0.1734253063764543,0.17375226728849344,0.1750601783009347,0.17538712956174454,0.17636807972692004,0.1776760679491954,0.17800301921000525,0.17963788148325638,0.17996491954035626,0.18094586970553175,0.18225378078274637,0.18290769282604863,0.18290769282604863,0.1832347309479219,0.18290769282604863,0.18290769282604863,0.18225378078274637,0.1815997818136074,0.1815997818136074,0.18127283061757088,0.18094586970553175,0.18127283061757088,0.1815997818136074,0.18127283061757088,0.1815997818136074,0.18094586970553175,0.18061883164843187,0.18029188038762203,0.17963788148325638,0.17931093022244654,0.1786569409045368,0.17898396937518077,0.1786569409045368,0.17832998005727102,0.17832998005727102,0.1786569409045368,0.17800301921000525,0.1776760679491954,0.17669511778401994,0.1760411188148809,0.17538712956174454,0.1747332174536689,0.17375226728849344,0.1734253063764543,0.17277131712331795,0.17309827797058372,0.17277131712331795,0.17277131712331795],\"type\":\"scatter\"},{\"line\":{\"color\":\"lightgrey\",\"dash\":\"dash\"},\"mode\":\"lines\",\"name\":\"\\u0412\\u0435\\u0440\\u0445\\u043d\\u044f\\u044f \\u0433\\u0440\\u0430\\u043d\\u0438\\u0446\\u0430\",\"x\":[0.1702211499,0.1692114919,0.1682019383,0.1682019383,0.1676971763,0.1666875035,0.1651730686,0.1641634107,0.1631538719,0.1626489758,0.1621442139,0.1621442139,0.1626489758,0.1631538719,0.1631538719,0.1631538719,0.1626489758,0.1626489758,0.1626489758,0.1621442139,0.1611346602,0.1611346602,0.1616394371,0.1616394371,0.1611346602,0.1616394371,0.1611346602,0.1611346602,0.1606297791,0.1606297791,0.1606297791,0.1596202254,0.1596202254,0.1596202254,0.1591153443,0.1586105675,0.1591153443,0.1596202254,0.1591153443,0.1586105675,0.1586105675,0.1591153443,0.1591153443,0.1586105675,0.1586105675,0.1586105675,0.1586105675,0.1586105675,0.1586105675,0.1591153443,0.1591153443,0.1601250023,0.1611346602,0.1616394371,0.1636586487,0.1641634107,0.1656778455,0.1676971763,0.1682019383,0.1707259119,0.1712308079,0.1727452427,0.1747644544,0.1757739931,0.1757739931,0.1762788892,0.1757739931,0.1757739931,0.1747644544,0.1737547815,0.1737547815,0.1732500196,0.1727452427,0.1732500196,0.1737547815,0.1732500196,0.1737547815,0.1727452427,0.1722403467,0.1717355847,0.1707259119,0.1702211499,0.1692114919,0.1697163731,0.1692114919,0.1687067151,0.1687067151,0.1692114919,0.1682019383,0.1676971763,0.1661827415,0.1651730686,0.1641634107,0.1631538719,0.1616394371,0.1611346602,0.1601250023,0.1606297791,0.1601250023,0.1601250023],\"y\":[0.20164158481663752,0.20098759549872777,0.20033367380419623,0.20033367380419623,0.2000067225433864,0.19935272363902076,0.1983717734090719,0.19771778415593552,0.19706387204785988,0.19673683392598668,0.19640988272995016,0.19640988272995016,0.19673683392598668,0.19706387204785988,0.19706387204785988,0.19706387204785988,0.19673683392598668,0.19673683392598668,0.19673683392598668,0.19640988272995016,0.1957559609706453,0.1957559609706453,0.19608292188268442,0.19608292188268442,0.1957559609706453,0.19608292188268442,0.1957559609706453,0.1957559609706453,0.1954289325647747,0.1954289325647747,0.1954289325647747,0.1947750108054698,0.1947750108054698,0.1947750108054698,0.19444798239959918,0.1941210215523334,0.19444798239959918,0.1947750108054698,0.19444798239959918,0.1941210215523334,0.1941210215523334,0.19444798239959918,0.19444798239959918,0.1941210215523334,0.1941210215523334,0.1941210215523334,0.1941210215523334,0.1941210215523334,0.1941210215523334,0.19444798239959918,0.19444798239959918,0.19510197171750893,0.1957559609706453,0.19608292188268442,0.19739083289512568,0.19771778415593552,0.19869873432111101,0.2000067225433864,0.20033367380419623,0.20196853607744736,0.20229557413454724,0.20327652429972273,0.20458443537693735,0.2052383474202396,0.2052383474202396,0.20556538554211287,0.2052383474202396,0.2052383474202396,0.20458443537693735,0.20393043640779837,0.20393043640779837,0.20360348521176186,0.20327652429972273,0.20360348521176186,0.20393043640779837,0.20360348521176186,0.20393043640779837,0.20327652429972273,0.20294948624262285,0.202622534981813,0.20196853607744736,0.20164158481663752,0.20098759549872777,0.20131462396937175,0.20098759549872777,0.200660634651462,0.200660634651462,0.20098759549872777,0.20033367380419623,0.2000067225433864,0.19902577237821092,0.1983717734090719,0.19771778415593552,0.19706387204785988,0.19608292188268442,0.1957559609706453,0.19510197171750893,0.1954289325647747,0.19510197171750893,0.19510197171750893],\"type\":\"scatter\"}],                        {\"template\":{\"data\":{\"barpolar\":[{\"marker\":{\"line\":{\"color\":\"white\",\"width\":0.5},\"pattern\":{\"fillmode\":\"overlay\",\"size\":10,\"solidity\":0.2}},\"type\":\"barpolar\"}],\"bar\":[{\"error_x\":{\"color\":\"#2a3f5f\"},\"error_y\":{\"color\":\"#2a3f5f\"},\"marker\":{\"line\":{\"color\":\"white\",\"width\":0.5},\"pattern\":{\"fillmode\":\"overlay\",\"size\":10,\"solidity\":0.2}},\"type\":\"bar\"}],\"carpet\":[{\"aaxis\":{\"endlinecolor\":\"#2a3f5f\",\"gridcolor\":\"#C8D4E3\",\"linecolor\":\"#C8D4E3\",\"minorgridcolor\":\"#C8D4E3\",\"startlinecolor\":\"#2a3f5f\"},\"baxis\":{\"endlinecolor\":\"#2a3f5f\",\"gridcolor\":\"#C8D4E3\",\"linecolor\":\"#C8D4E3\",\"minorgridcolor\":\"#C8D4E3\",\"startlinecolor\":\"#2a3f5f\"},\"type\":\"carpet\"}],\"choropleth\":[{\"colorbar\":{\"outlinewidth\":0,\"ticks\":\"\"},\"type\":\"choropleth\"}],\"contourcarpet\":[{\"colorbar\":{\"outlinewidth\":0,\"ticks\":\"\"},\"type\":\"contourcarpet\"}],\"contour\":[{\"colorbar\":{\"outlinewidth\":0,\"ticks\":\"\"},\"colorscale\":[[0.0,\"#0d0887\"],[0.1111111111111111,\"#46039f\"],[0.2222222222222222,\"#7201a8\"],[0.3333333333333333,\"#9c179e\"],[0.4444444444444444,\"#bd3786\"],[0.5555555555555556,\"#d8576b\"],[0.6666666666666666,\"#ed7953\"],[0.7777777777777778,\"#fb9f3a\"],[0.8888888888888888,\"#fdca26\"],[1.0,\"#f0f921\"]],\"type\":\"contour\"}],\"heatmapgl\":[{\"colorbar\":{\"outlinewidth\":0,\"ticks\":\"\"},\"colorscale\":[[0.0,\"#0d0887\"],[0.1111111111111111,\"#46039f\"],[0.2222222222222222,\"#7201a8\"],[0.3333333333333333,\"#9c179e\"],[0.4444444444444444,\"#bd3786\"],[0.5555555555555556,\"#d8576b\"],[0.6666666666666666,\"#ed7953\"],[0.7777777777777778,\"#fb9f3a\"],[0.8888888888888888,\"#fdca26\"],[1.0,\"#f0f921\"]],\"type\":\"heatmapgl\"}],\"heatmap\":[{\"colorbar\":{\"outlinewidth\":0,\"ticks\":\"\"},\"colorscale\":[[0.0,\"#0d0887\"],[0.1111111111111111,\"#46039f\"],[0.2222222222222222,\"#7201a8\"],[0.3333333333333333,\"#9c179e\"],[0.4444444444444444,\"#bd3786\"],[0.5555555555555556,\"#d8576b\"],[0.6666666666666666,\"#ed7953\"],[0.7777777777777778,\"#fb9f3a\"],[0.8888888888888888,\"#fdca26\"],[1.0,\"#f0f921\"]],\"type\":\"heatmap\"}],\"histogram2dcontour\":[{\"colorbar\":{\"outlinewidth\":0,\"ticks\":\"\"},\"colorscale\":[[0.0,\"#0d0887\"],[0.1111111111111111,\"#46039f\"],[0.2222222222222222,\"#7201a8\"],[0.3333333333333333,\"#9c179e\"],[0.4444444444444444,\"#bd3786\"],[0.5555555555555556,\"#d8576b\"],[0.6666666666666666,\"#ed7953\"],[0.7777777777777778,\"#fb9f3a\"],[0.8888888888888888,\"#fdca26\"],[1.0,\"#f0f921\"]],\"type\":\"histogram2dcontour\"}],\"histogram2d\":[{\"colorbar\":{\"outlinewidth\":0,\"ticks\":\"\"},\"colorscale\":[[0.0,\"#0d0887\"],[0.1111111111111111,\"#46039f\"],[0.2222222222222222,\"#7201a8\"],[0.3333333333333333,\"#9c179e\"],[0.4444444444444444,\"#bd3786\"],[0.5555555555555556,\"#d8576b\"],[0.6666666666666666,\"#ed7953\"],[0.7777777777777778,\"#fb9f3a\"],[0.8888888888888888,\"#fdca26\"],[1.0,\"#f0f921\"]],\"type\":\"histogram2d\"}],\"histogram\":[{\"marker\":{\"pattern\":{\"fillmode\":\"overlay\",\"size\":10,\"solidity\":0.2}},\"type\":\"histogram\"}],\"mesh3d\":[{\"colorbar\":{\"outlinewidth\":0,\"ticks\":\"\"},\"type\":\"mesh3d\"}],\"parcoords\":[{\"line\":{\"colorbar\":{\"outlinewidth\":0,\"ticks\":\"\"}},\"type\":\"parcoords\"}],\"pie\":[{\"automargin\":true,\"type\":\"pie\"}],\"scatter3d\":[{\"line\":{\"colorbar\":{\"outlinewidth\":0,\"ticks\":\"\"}},\"marker\":{\"colorbar\":{\"outlinewidth\":0,\"ticks\":\"\"}},\"type\":\"scatter3d\"}],\"scattercarpet\":[{\"marker\":{\"colorbar\":{\"outlinewidth\":0,\"ticks\":\"\"}},\"type\":\"scattercarpet\"}],\"scattergeo\":[{\"marker\":{\"colorbar\":{\"outlinewidth\":0,\"ticks\":\"\"}},\"type\":\"scattergeo\"}],\"scattergl\":[{\"marker\":{\"colorbar\":{\"outlinewidth\":0,\"ticks\":\"\"}},\"type\":\"scattergl\"}],\"scattermapbox\":[{\"marker\":{\"colorbar\":{\"outlinewidth\":0,\"ticks\":\"\"}},\"type\":\"scattermapbox\"}],\"scatterpolargl\":[{\"marker\":{\"colorbar\":{\"outlinewidth\":0,\"ticks\":\"\"}},\"type\":\"scatterpolargl\"}],\"scatterpolar\":[{\"marker\":{\"colorbar\":{\"outlinewidth\":0,\"ticks\":\"\"}},\"type\":\"scatterpolar\"}],\"scatter\":[{\"fillpattern\":{\"fillmode\":\"overlay\",\"size\":10,\"solidity\":0.2},\"type\":\"scatter\"}],\"scatterternary\":[{\"marker\":{\"colorbar\":{\"outlinewidth\":0,\"ticks\":\"\"}},\"type\":\"scatterternary\"}],\"surface\":[{\"colorbar\":{\"outlinewidth\":0,\"ticks\":\"\"},\"colorscale\":[[0.0,\"#0d0887\"],[0.1111111111111111,\"#46039f\"],[0.2222222222222222,\"#7201a8\"],[0.3333333333333333,\"#9c179e\"],[0.4444444444444444,\"#bd3786\"],[0.5555555555555556,\"#d8576b\"],[0.6666666666666666,\"#ed7953\"],[0.7777777777777778,\"#fb9f3a\"],[0.8888888888888888,\"#fdca26\"],[1.0,\"#f0f921\"]],\"type\":\"surface\"}],\"table\":[{\"cells\":{\"fill\":{\"color\":\"#EBF0F8\"},\"line\":{\"color\":\"white\"}},\"header\":{\"fill\":{\"color\":\"#C8D4E3\"},\"line\":{\"color\":\"white\"}},\"type\":\"table\"}]},\"layout\":{\"annotationdefaults\":{\"arrowcolor\":\"#2a3f5f\",\"arrowhead\":0,\"arrowwidth\":1},\"autotypenumbers\":\"strict\",\"coloraxis\":{\"colorbar\":{\"outlinewidth\":0,\"ticks\":\"\"}},\"colorscale\":{\"diverging\":[[0,\"#8e0152\"],[0.1,\"#c51b7d\"],[0.2,\"#de77ae\"],[0.3,\"#f1b6da\"],[0.4,\"#fde0ef\"],[0.5,\"#f7f7f7\"],[0.6,\"#e6f5d0\"],[0.7,\"#b8e186\"],[0.8,\"#7fbc41\"],[0.9,\"#4d9221\"],[1,\"#276419\"]],\"sequential\":[[0.0,\"#0d0887\"],[0.1111111111111111,\"#46039f\"],[0.2222222222222222,\"#7201a8\"],[0.3333333333333333,\"#9c179e\"],[0.4444444444444444,\"#bd3786\"],[0.5555555555555556,\"#d8576b\"],[0.6666666666666666,\"#ed7953\"],[0.7777777777777778,\"#fb9f3a\"],[0.8888888888888888,\"#fdca26\"],[1.0,\"#f0f921\"]],\"sequentialminus\":[[0.0,\"#0d0887\"],[0.1111111111111111,\"#46039f\"],[0.2222222222222222,\"#7201a8\"],[0.3333333333333333,\"#9c179e\"],[0.4444444444444444,\"#bd3786\"],[0.5555555555555556,\"#d8576b\"],[0.6666666666666666,\"#ed7953\"],[0.7777777777777778,\"#fb9f3a\"],[0.8888888888888888,\"#fdca26\"],[1.0,\"#f0f921\"]]},\"colorway\":[\"#636efa\",\"#EF553B\",\"#00cc96\",\"#ab63fa\",\"#FFA15A\",\"#19d3f3\",\"#FF6692\",\"#B6E880\",\"#FF97FF\",\"#FECB52\"],\"font\":{\"color\":\"#2a3f5f\"},\"geo\":{\"bgcolor\":\"white\",\"lakecolor\":\"white\",\"landcolor\":\"white\",\"showlakes\":true,\"showland\":true,\"subunitcolor\":\"#C8D4E3\"},\"hoverlabel\":{\"align\":\"left\"},\"hovermode\":\"closest\",\"mapbox\":{\"style\":\"light\"},\"paper_bgcolor\":\"white\",\"plot_bgcolor\":\"white\",\"polar\":{\"angularaxis\":{\"gridcolor\":\"#EBF0F8\",\"linecolor\":\"#EBF0F8\",\"ticks\":\"\"},\"bgcolor\":\"white\",\"radialaxis\":{\"gridcolor\":\"#EBF0F8\",\"linecolor\":\"#EBF0F8\",\"ticks\":\"\"}},\"scene\":{\"xaxis\":{\"backgroundcolor\":\"white\",\"gridcolor\":\"#DFE8F3\",\"gridwidth\":2,\"linecolor\":\"#EBF0F8\",\"showbackground\":true,\"ticks\":\"\",\"zerolinecolor\":\"#EBF0F8\"},\"yaxis\":{\"backgroundcolor\":\"white\",\"gridcolor\":\"#DFE8F3\",\"gridwidth\":2,\"linecolor\":\"#EBF0F8\",\"showbackground\":true,\"ticks\":\"\",\"zerolinecolor\":\"#EBF0F8\"},\"zaxis\":{\"backgroundcolor\":\"white\",\"gridcolor\":\"#DFE8F3\",\"gridwidth\":2,\"linecolor\":\"#EBF0F8\",\"showbackground\":true,\"ticks\":\"\",\"zerolinecolor\":\"#EBF0F8\"}},\"shapedefaults\":{\"line\":{\"color\":\"#2a3f5f\"}},\"ternary\":{\"aaxis\":{\"gridcolor\":\"#DFE8F3\",\"linecolor\":\"#A2B1C6\",\"ticks\":\"\"},\"baxis\":{\"gridcolor\":\"#DFE8F3\",\"linecolor\":\"#A2B1C6\",\"ticks\":\"\"},\"bgcolor\":\"white\",\"caxis\":{\"gridcolor\":\"#DFE8F3\",\"linecolor\":\"#A2B1C6\",\"ticks\":\"\"}},\"title\":{\"x\":0.05},\"xaxis\":{\"automargin\":true,\"gridcolor\":\"#EBF0F8\",\"linecolor\":\"#EBF0F8\",\"ticks\":\"\",\"title\":{\"standoff\":15},\"zerolinecolor\":\"#EBF0F8\",\"zerolinewidth\":2},\"yaxis\":{\"automargin\":true,\"gridcolor\":\"#EBF0F8\",\"linecolor\":\"#EBF0F8\",\"ticks\":\"\",\"title\":{\"standoff\":15},\"zerolinecolor\":\"#EBF0F8\",\"zerolinewidth\":2}}},\"legend\":{\"x\":1.05,\"y\":1,\"traceorder\":\"normal\",\"orientation\":\"v\"},\"title\":{\"text\":\"\\u041f\\u0440\\u0435\\u0434\\u043f\\u043e\\u043b\\u0430\\u0433\\u0430\\u0435\\u043c\\u0430\\u044f \\u043c\\u043e\\u0434\\u0435\\u043b\\u044c - \\u041b\\u0438\\u043d\\u0435\\u0439\\u043d\\u0430\\u044f\"},\"xaxis\":{\"title\":{\"text\":\"K2065G_2_POROSITY\"}},\"yaxis\":{\"title\":{\"text\":\"K2066G_2_POROSITY\"}}},                        {\"responsive\": true}                    ).then(function(){\n                            \nvar gd = document.getElementById('5a95c365-cd24-47ef-890b-5e0306ccc819');\nvar x = new MutationObserver(function (mutations, observer) {{\n        var display = window.getComputedStyle(gd).display;\n        if (!display || display === 'none') {{\n            console.log([gd, 'removed!']);\n            Plotly.purge(gd);\n            observer.disconnect();\n        }}\n}});\n\n// Listen for the removal of the full notebook cells\nvar notebookContainer = gd.closest('#notebook-container');\nif (notebookContainer) {{\n    x.observe(notebookContainer, {childList: true});\n}}\n\n// Listen for the clearing of the current output cell\nvar outputEl = gd.closest('.output');\nif (outputEl) {{\n    x.observe(outputEl, {childList: true});\n}}\n\n                        })                };                });            </script>        </div>"
     },
     "metadata": {},
     "output_type": "display_data"
    },
    {
     "data": {
      "application/vnd.plotly.v1+json": {
       "data": [
        {
         "marker": {
          "color": "blue"
         },
         "mode": "markers",
         "name": "Данные",
         "x": [
          0.1702211499,
          0.1692114919,
          0.1682019383,
          0.1682019383,
          0.1676971763,
          0.1666875035,
          0.1651730686,
          0.1641634107,
          0.1631538719,
          0.1626489758,
          0.1621442139,
          0.1621442139,
          0.1626489758,
          0.1631538719,
          0.1631538719,
          0.1631538719,
          0.1626489758,
          0.1626489758,
          0.1626489758,
          0.1621442139,
          0.1611346602,
          0.1611346602,
          0.1616394371,
          0.1616394371,
          0.1611346602,
          0.1616394371,
          0.1611346602,
          0.1611346602,
          0.1606297791,
          0.1606297791,
          0.1606297791,
          0.1596202254,
          0.1596202254,
          0.1596202254,
          0.1591153443,
          0.1586105675,
          0.1591153443,
          0.1596202254,
          0.1591153443,
          0.1586105675,
          0.1586105675,
          0.1591153443,
          0.1591153443,
          0.1586105675,
          0.1586105675,
          0.1586105675,
          0.1586105675,
          0.1586105675,
          0.1586105675,
          0.1591153443,
          0.1591153443,
          0.1601250023,
          0.1611346602,
          0.1616394371,
          0.1636586487,
          0.1641634107,
          0.1656778455,
          0.1676971763,
          0.1682019383,
          0.1707259119,
          0.1712308079,
          0.1727452427,
          0.1747644544,
          0.1757739931,
          0.1757739931,
          0.1762788892,
          0.1757739931,
          0.1757739931,
          0.1747644544,
          0.1737547815,
          0.1737547815,
          0.1732500196,
          0.1727452427,
          0.1732500196,
          0.1737547815,
          0.1732500196,
          0.1737547815,
          0.1727452427,
          0.1722403467,
          0.1717355847,
          0.1707259119,
          0.1702211499,
          0.1692114919,
          0.1697163731,
          0.1692114919,
          0.1687067151,
          0.1687067151,
          0.1692114919,
          0.1682019383,
          0.1676971763,
          0.1661827415,
          0.1651730686,
          0.1641634107,
          0.1631538719,
          0.1616394371,
          0.1611346602,
          0.1601250023,
          0.1606297791,
          0.1601250023,
          0.1601250023
         ],
         "y": [
          0.1899086684,
          0.1899086684,
          0.1894038916,
          0.1878894567,
          0.1863750219,
          0.185365364,
          0.1843558252,
          0.1838509291,
          0.1823364943,
          0.1818317324,
          0.1818317324,
          0.1818317324,
          0.1813269556,
          0.1813269556,
          0.1818317324,
          0.1818317324,
          0.1813269556,
          0.1813269556,
          0.1813269556,
          0.1803172976,
          0.1798125207,
          0.1782980859,
          0.1782980859,
          0.1808220595,
          0.1813269556,
          0.1818317324,
          0.1833461523,
          0.1838509291,
          0.1843558252,
          0.1843558252,
          0.1843558252,
          0.1843558252,
          0.1838509291,
          0.1818317324,
          0.1823364943,
          0.1828413904,
          0.1833461523,
          0.1838509291,
          0.1843558252,
          0.1843558252,
          0.1843558252,
          0.1838509291,
          0.1833461523,
          0.1823364943,
          0.1818317324,
          0.1818317324,
          0.1813269556,
          0.1808220595,
          0.1803172976,
          0.1798125207,
          0.1793077439,
          0.1788028628,
          0.1777933091,
          0.1767836511,
          0.1772884279,
          0.1782980859,
          0.1793077439,
          0.1813269556,
          0.1833461523,
          0.1848605871,
          0.1863750219,
          0.1878894567,
          0.1894038916,
          0.1904134303,
          0.1904134303,
          0.1909183264,
          0.1914231032,
          0.1914231032,
          0.1909183264,
          0.1909183264,
          0.1909183264,
          0.1909183264,
          0.1909183264,
          0.1914231032,
          0.1919278651,
          0.192432642,
          0.192937538,
          0.1934423,
          0.1944519728,
          0.1949567348,
          0.1964711696,
          0.1974807084,
          0.1979856044,
          0.1989951432,
          0.1989951432,
          0.1989951432,
          0.1989951432,
          0.1989951432,
          0.1984903812,
          0.1979856044,
          0.1979856044,
          0.1974807084,
          0.1974807084,
          0.1969759464,
          0.1969759464,
          0.1964711696,
          0.1964711696,
          0.1964711696,
          0.1964711696,
          0.1964711696
         ],
         "type": "scatter"
        },
        {
         "line": {
          "color": "green"
         },
         "mode": "lines",
         "name": "Полином: y=-36.1281x^2 + 12.6867x + -0.9215, R²=0.3046, SSR = 0.0",
         "x": [
          0.1702211499,
          0.1692114919,
          0.1682019383,
          0.1682019383,
          0.1676971763,
          0.1666875035,
          0.1651730686,
          0.1641634107,
          0.1631538719,
          0.1626489758,
          0.1621442139,
          0.1621442139,
          0.1626489758,
          0.1631538719,
          0.1631538719,
          0.1631538719,
          0.1626489758,
          0.1626489758,
          0.1626489758,
          0.1621442139,
          0.1611346602,
          0.1611346602,
          0.1616394371,
          0.1616394371,
          0.1611346602,
          0.1616394371,
          0.1611346602,
          0.1611346602,
          0.1606297791,
          0.1606297791,
          0.1606297791,
          0.1596202254,
          0.1596202254,
          0.1596202254,
          0.1591153443,
          0.1586105675,
          0.1591153443,
          0.1596202254,
          0.1591153443,
          0.1586105675,
          0.1586105675,
          0.1591153443,
          0.1591153443,
          0.1586105675,
          0.1586105675,
          0.1586105675,
          0.1586105675,
          0.1586105675,
          0.1586105675,
          0.1591153443,
          0.1591153443,
          0.1601250023,
          0.1611346602,
          0.1616394371,
          0.1636586487,
          0.1641634107,
          0.1656778455,
          0.1676971763,
          0.1682019383,
          0.1707259119,
          0.1712308079,
          0.1727452427,
          0.1747644544,
          0.1757739931,
          0.1757739931,
          0.1762788892,
          0.1757739931,
          0.1757739931,
          0.1747644544,
          0.1737547815,
          0.1737547815,
          0.1732500196,
          0.1727452427,
          0.1732500196,
          0.1737547815,
          0.1732500196,
          0.1737547815,
          0.1727452427,
          0.1722403467,
          0.1717355847,
          0.1707259119,
          0.1702211499,
          0.1692114919,
          0.1697163731,
          0.1692114919,
          0.1687067151,
          0.1687067151,
          0.1692114919,
          0.1682019383,
          0.1676971763,
          0.1661827415,
          0.1651730686,
          0.1641634107,
          0.1631538719,
          0.1616394371,
          0.1611346602,
          0.1601250023,
          0.1606297791,
          0.1601250023,
          0.1601250023
         ],
         "y": [
          0.1911806674373131,
          0.19075297235410593,
          0.19025167424725087,
          0.19025167424725087,
          0.18997341733239392,
          0.1893615785649121,
          0.18830576221954387,
          0.18750978908377558,
          0.1866402642168037,
          0.18617776793236307,
          0.18569698235774856,
          0.18569698235774856,
          0.18617776793236307,
          0.1866402642168037,
          0.1866402642168037,
          0.1866402642168037,
          0.18617776793236307,
          0.18617776793236307,
          0.18617776793236307,
          0.18569698235774856,
          0.18468015068304577,
          0.18468015068304577,
          0.18519777200259213,
          0.18519777200259213,
          0.18468015068304577,
          0.18519777200259213,
          0.18468015068304577,
          0.18468015068304577,
          0.18414400594357172,
          0.18414400594357172,
          0.18414400594357172,
          0.18301670148217575,
          0.18301670148217575,
          0.18301670148217575,
          0.18242530894155395,
          0.18181562581064759,
          0.18242530894155395,
          0.18301670148217575,
          0.18242530894155395,
          0.18181562581064759,
          0.18181562581064759,
          0.18242530894155395,
          0.18242530894155395,
          0.18181562581064759,
          0.18181562581064759,
          0.18181562581064759,
          0.18181562581064759,
          0.18181562581064759,
          0.18181562581064759,
          0.18242530894155395,
          0.18242530894155395,
          0.18358955920054032,
          0.18468015068304577,
          0.18519777200259213,
          0.18708423818408493,
          0.18750978908377558,
          0.18867608955392057,
          0.18997341733239392,
          0.19025167424725087,
          0.19136686948317339,
          0.19153470384840743,
          0.191927637767225,
          0.1921937600360244,
          0.19221634552264777,
          0.19221634552264777,
          0.19220001638034234,
          0.19221634552264777,
          0.19221634552264777,
          0.1921937600360244,
          0.19209751559619748,
          0.19209751559619748,
          0.1920217831038653,
          0.191927637767225,
          0.1920217831038653,
          0.19209751559619748,
          0.1920217831038653,
          0.19209751559619748,
          0.191927637767225,
          0.19181505283360578,
          0.19168408555609595,
          0.19136686948317339,
          0.1911806674373131,
          0.19075297235410593,
          0.19097604934174983,
          0.19075297235410593,
          0.19051152873068955,
          0.19051152873068955,
          0.19075297235410593,
          0.19025167424725087,
          0.18997341733239392,
          0.1890280868817047,
          0.18830576221954387,
          0.18750978908377558,
          0.1866402642168037,
          0.18519777200259213,
          0.18468015068304577,
          0.18358955920054032,
          0.18414400594357172,
          0.18358955920054032,
          0.18358955920054032
         ],
         "type": "scatter"
        },
        {
         "line": {
          "color": "lightgrey",
          "dash": "dash"
         },
         "mode": "lines",
         "name": "Нижняя граница",
         "x": [
          0.1702211499,
          0.1692114919,
          0.1682019383,
          0.1682019383,
          0.1676971763,
          0.1666875035,
          0.1651730686,
          0.1641634107,
          0.1631538719,
          0.1626489758,
          0.1621442139,
          0.1621442139,
          0.1626489758,
          0.1631538719,
          0.1631538719,
          0.1631538719,
          0.1626489758,
          0.1626489758,
          0.1626489758,
          0.1621442139,
          0.1611346602,
          0.1611346602,
          0.1616394371,
          0.1616394371,
          0.1611346602,
          0.1616394371,
          0.1611346602,
          0.1611346602,
          0.1606297791,
          0.1606297791,
          0.1606297791,
          0.1596202254,
          0.1596202254,
          0.1596202254,
          0.1591153443,
          0.1586105675,
          0.1591153443,
          0.1596202254,
          0.1591153443,
          0.1586105675,
          0.1586105675,
          0.1591153443,
          0.1591153443,
          0.1586105675,
          0.1586105675,
          0.1586105675,
          0.1586105675,
          0.1586105675,
          0.1586105675,
          0.1591153443,
          0.1591153443,
          0.1601250023,
          0.1611346602,
          0.1616394371,
          0.1636586487,
          0.1641634107,
          0.1656778455,
          0.1676971763,
          0.1682019383,
          0.1707259119,
          0.1712308079,
          0.1727452427,
          0.1747644544,
          0.1757739931,
          0.1757739931,
          0.1762788892,
          0.1757739931,
          0.1757739931,
          0.1747644544,
          0.1737547815,
          0.1737547815,
          0.1732500196,
          0.1727452427,
          0.1732500196,
          0.1737547815,
          0.1732500196,
          0.1737547815,
          0.1727452427,
          0.1722403467,
          0.1717355847,
          0.1707259119,
          0.1702211499,
          0.1692114919,
          0.1697163731,
          0.1692114919,
          0.1687067151,
          0.1687067151,
          0.1692114919,
          0.1682019383,
          0.1676971763,
          0.1661827415,
          0.1651730686,
          0.1641634107,
          0.1631538719,
          0.1616394371,
          0.1611346602,
          0.1601250023,
          0.1606297791,
          0.1601250023,
          0.1601250023
         ],
         "y": [
          0.18014851539500032,
          0.17972082031179315,
          0.1792195222049381,
          0.1792195222049381,
          0.17894126529008114,
          0.1783294265225993,
          0.1772736101772311,
          0.1764776370414628,
          0.1756081121744909,
          0.1751456158900503,
          0.17466483031543578,
          0.17466483031543578,
          0.1751456158900503,
          0.1756081121744909,
          0.1756081121744909,
          0.1756081121744909,
          0.1751456158900503,
          0.1751456158900503,
          0.1751456158900503,
          0.17466483031543578,
          0.173647998640733,
          0.173647998640733,
          0.17416561996027935,
          0.17416561996027935,
          0.173647998640733,
          0.17416561996027935,
          0.173647998640733,
          0.173647998640733,
          0.17311185390125894,
          0.17311185390125894,
          0.17311185390125894,
          0.17198454943986297,
          0.17198454943986297,
          0.17198454943986297,
          0.17139315689924117,
          0.1707834737683348,
          0.17139315689924117,
          0.17198454943986297,
          0.17139315689924117,
          0.1707834737683348,
          0.1707834737683348,
          0.17139315689924117,
          0.17139315689924117,
          0.1707834737683348,
          0.1707834737683348,
          0.1707834737683348,
          0.1707834737683348,
          0.1707834737683348,
          0.1707834737683348,
          0.17139315689924117,
          0.17139315689924117,
          0.17255740715822754,
          0.173647998640733,
          0.17416561996027935,
          0.17605208614177215,
          0.1764776370414628,
          0.17764393751160779,
          0.17894126529008114,
          0.1792195222049381,
          0.1803347174408606,
          0.18050255180609465,
          0.1808954857249122,
          0.18116160799371162,
          0.181184193480335,
          0.181184193480335,
          0.18116786433802956,
          0.181184193480335,
          0.181184193480335,
          0.18116160799371162,
          0.1810653635538847,
          0.1810653635538847,
          0.18098963106155253,
          0.1808954857249122,
          0.18098963106155253,
          0.1810653635538847,
          0.18098963106155253,
          0.1810653635538847,
          0.1808954857249122,
          0.180782900791293,
          0.18065193351378317,
          0.1803347174408606,
          0.18014851539500032,
          0.17972082031179315,
          0.17994389729943705,
          0.17972082031179315,
          0.17947937668837677,
          0.17947937668837677,
          0.17972082031179315,
          0.1792195222049381,
          0.17894126529008114,
          0.1779959348393919,
          0.1772736101772311,
          0.1764776370414628,
          0.1756081121744909,
          0.17416561996027935,
          0.173647998640733,
          0.17255740715822754,
          0.17311185390125894,
          0.17255740715822754,
          0.17255740715822754
         ],
         "type": "scatter"
        },
        {
         "line": {
          "color": "lightgrey",
          "dash": "dash"
         },
         "mode": "lines",
         "name": "Верхняя граница",
         "x": [
          0.1702211499,
          0.1692114919,
          0.1682019383,
          0.1682019383,
          0.1676971763,
          0.1666875035,
          0.1651730686,
          0.1641634107,
          0.1631538719,
          0.1626489758,
          0.1621442139,
          0.1621442139,
          0.1626489758,
          0.1631538719,
          0.1631538719,
          0.1631538719,
          0.1626489758,
          0.1626489758,
          0.1626489758,
          0.1621442139,
          0.1611346602,
          0.1611346602,
          0.1616394371,
          0.1616394371,
          0.1611346602,
          0.1616394371,
          0.1611346602,
          0.1611346602,
          0.1606297791,
          0.1606297791,
          0.1606297791,
          0.1596202254,
          0.1596202254,
          0.1596202254,
          0.1591153443,
          0.1586105675,
          0.1591153443,
          0.1596202254,
          0.1591153443,
          0.1586105675,
          0.1586105675,
          0.1591153443,
          0.1591153443,
          0.1586105675,
          0.1586105675,
          0.1586105675,
          0.1586105675,
          0.1586105675,
          0.1586105675,
          0.1591153443,
          0.1591153443,
          0.1601250023,
          0.1611346602,
          0.1616394371,
          0.1636586487,
          0.1641634107,
          0.1656778455,
          0.1676971763,
          0.1682019383,
          0.1707259119,
          0.1712308079,
          0.1727452427,
          0.1747644544,
          0.1757739931,
          0.1757739931,
          0.1762788892,
          0.1757739931,
          0.1757739931,
          0.1747644544,
          0.1737547815,
          0.1737547815,
          0.1732500196,
          0.1727452427,
          0.1732500196,
          0.1737547815,
          0.1732500196,
          0.1737547815,
          0.1727452427,
          0.1722403467,
          0.1717355847,
          0.1707259119,
          0.1702211499,
          0.1692114919,
          0.1697163731,
          0.1692114919,
          0.1687067151,
          0.1687067151,
          0.1692114919,
          0.1682019383,
          0.1676971763,
          0.1661827415,
          0.1651730686,
          0.1641634107,
          0.1631538719,
          0.1616394371,
          0.1611346602,
          0.1601250023,
          0.1606297791,
          0.1601250023,
          0.1601250023
         ],
         "y": [
          0.20221281947962588,
          0.2017851243964187,
          0.20128382628956365,
          0.20128382628956365,
          0.2010055693747067,
          0.20039373060722487,
          0.19933791426185665,
          0.19854194112608836,
          0.19767241625911647,
          0.19720991997467585,
          0.19672913440006135,
          0.19672913440006135,
          0.19720991997467585,
          0.19767241625911647,
          0.19767241625911647,
          0.19767241625911647,
          0.19720991997467585,
          0.19720991997467585,
          0.19720991997467585,
          0.19672913440006135,
          0.19571230272535856,
          0.19571230272535856,
          0.1962299240449049,
          0.1962299240449049,
          0.19571230272535856,
          0.1962299240449049,
          0.19571230272535856,
          0.19571230272535856,
          0.1951761579858845,
          0.1951761579858845,
          0.1951761579858845,
          0.19404885352448853,
          0.19404885352448853,
          0.19404885352448853,
          0.19345746098386674,
          0.19284777785296037,
          0.19345746098386674,
          0.19404885352448853,
          0.19345746098386674,
          0.19284777785296037,
          0.19284777785296037,
          0.19345746098386674,
          0.19345746098386674,
          0.19284777785296037,
          0.19284777785296037,
          0.19284777785296037,
          0.19284777785296037,
          0.19284777785296037,
          0.19284777785296037,
          0.19345746098386674,
          0.19345746098386674,
          0.1946217112428531,
          0.19571230272535856,
          0.1962299240449049,
          0.1981163902263977,
          0.19854194112608836,
          0.19970824159623335,
          0.2010055693747067,
          0.20128382628956365,
          0.20239902152548617,
          0.2025668558907202,
          0.20295978980953777,
          0.20322591207833718,
          0.20324849756496055,
          0.20324849756496055,
          0.20323216842265512,
          0.20324849756496055,
          0.20324849756496055,
          0.20322591207833718,
          0.20312966763851026,
          0.20312966763851026,
          0.2030539351461781,
          0.20295978980953777,
          0.2030539351461781,
          0.20312966763851026,
          0.2030539351461781,
          0.20312966763851026,
          0.20295978980953777,
          0.20284720487591856,
          0.20271623759840873,
          0.20239902152548617,
          0.20221281947962588,
          0.2017851243964187,
          0.2020082013840626,
          0.2017851243964187,
          0.20154368077300233,
          0.20154368077300233,
          0.2017851243964187,
          0.20128382628956365,
          0.2010055693747067,
          0.20006023892401747,
          0.19933791426185665,
          0.19854194112608836,
          0.19767241625911647,
          0.1962299240449049,
          0.19571230272535856,
          0.1946217112428531,
          0.1951761579858845,
          0.1946217112428531,
          0.1946217112428531
         ],
         "type": "scatter"
        }
       ],
       "layout": {
        "template": {
         "data": {
          "barpolar": [
           {
            "marker": {
             "line": {
              "color": "white",
              "width": 0.5
             },
             "pattern": {
              "fillmode": "overlay",
              "size": 10,
              "solidity": 0.2
             }
            },
            "type": "barpolar"
           }
          ],
          "bar": [
           {
            "error_x": {
             "color": "#2a3f5f"
            },
            "error_y": {
             "color": "#2a3f5f"
            },
            "marker": {
             "line": {
              "color": "white",
              "width": 0.5
             },
             "pattern": {
              "fillmode": "overlay",
              "size": 10,
              "solidity": 0.2
             }
            },
            "type": "bar"
           }
          ],
          "carpet": [
           {
            "aaxis": {
             "endlinecolor": "#2a3f5f",
             "gridcolor": "#C8D4E3",
             "linecolor": "#C8D4E3",
             "minorgridcolor": "#C8D4E3",
             "startlinecolor": "#2a3f5f"
            },
            "baxis": {
             "endlinecolor": "#2a3f5f",
             "gridcolor": "#C8D4E3",
             "linecolor": "#C8D4E3",
             "minorgridcolor": "#C8D4E3",
             "startlinecolor": "#2a3f5f"
            },
            "type": "carpet"
           }
          ],
          "choropleth": [
           {
            "colorbar": {
             "outlinewidth": 0,
             "ticks": ""
            },
            "type": "choropleth"
           }
          ],
          "contourcarpet": [
           {
            "colorbar": {
             "outlinewidth": 0,
             "ticks": ""
            },
            "type": "contourcarpet"
           }
          ],
          "contour": [
           {
            "colorbar": {
             "outlinewidth": 0,
             "ticks": ""
            },
            "colorscale": [
             [
              0.0,
              "#0d0887"
             ],
             [
              0.1111111111111111,
              "#46039f"
             ],
             [
              0.2222222222222222,
              "#7201a8"
             ],
             [
              0.3333333333333333,
              "#9c179e"
             ],
             [
              0.4444444444444444,
              "#bd3786"
             ],
             [
              0.5555555555555556,
              "#d8576b"
             ],
             [
              0.6666666666666666,
              "#ed7953"
             ],
             [
              0.7777777777777778,
              "#fb9f3a"
             ],
             [
              0.8888888888888888,
              "#fdca26"
             ],
             [
              1.0,
              "#f0f921"
             ]
            ],
            "type": "contour"
           }
          ],
          "heatmapgl": [
           {
            "colorbar": {
             "outlinewidth": 0,
             "ticks": ""
            },
            "colorscale": [
             [
              0.0,
              "#0d0887"
             ],
             [
              0.1111111111111111,
              "#46039f"
             ],
             [
              0.2222222222222222,
              "#7201a8"
             ],
             [
              0.3333333333333333,
              "#9c179e"
             ],
             [
              0.4444444444444444,
              "#bd3786"
             ],
             [
              0.5555555555555556,
              "#d8576b"
             ],
             [
              0.6666666666666666,
              "#ed7953"
             ],
             [
              0.7777777777777778,
              "#fb9f3a"
             ],
             [
              0.8888888888888888,
              "#fdca26"
             ],
             [
              1.0,
              "#f0f921"
             ]
            ],
            "type": "heatmapgl"
           }
          ],
          "heatmap": [
           {
            "colorbar": {
             "outlinewidth": 0,
             "ticks": ""
            },
            "colorscale": [
             [
              0.0,
              "#0d0887"
             ],
             [
              0.1111111111111111,
              "#46039f"
             ],
             [
              0.2222222222222222,
              "#7201a8"
             ],
             [
              0.3333333333333333,
              "#9c179e"
             ],
             [
              0.4444444444444444,
              "#bd3786"
             ],
             [
              0.5555555555555556,
              "#d8576b"
             ],
             [
              0.6666666666666666,
              "#ed7953"
             ],
             [
              0.7777777777777778,
              "#fb9f3a"
             ],
             [
              0.8888888888888888,
              "#fdca26"
             ],
             [
              1.0,
              "#f0f921"
             ]
            ],
            "type": "heatmap"
           }
          ],
          "histogram2dcontour": [
           {
            "colorbar": {
             "outlinewidth": 0,
             "ticks": ""
            },
            "colorscale": [
             [
              0.0,
              "#0d0887"
             ],
             [
              0.1111111111111111,
              "#46039f"
             ],
             [
              0.2222222222222222,
              "#7201a8"
             ],
             [
              0.3333333333333333,
              "#9c179e"
             ],
             [
              0.4444444444444444,
              "#bd3786"
             ],
             [
              0.5555555555555556,
              "#d8576b"
             ],
             [
              0.6666666666666666,
              "#ed7953"
             ],
             [
              0.7777777777777778,
              "#fb9f3a"
             ],
             [
              0.8888888888888888,
              "#fdca26"
             ],
             [
              1.0,
              "#f0f921"
             ]
            ],
            "type": "histogram2dcontour"
           }
          ],
          "histogram2d": [
           {
            "colorbar": {
             "outlinewidth": 0,
             "ticks": ""
            },
            "colorscale": [
             [
              0.0,
              "#0d0887"
             ],
             [
              0.1111111111111111,
              "#46039f"
             ],
             [
              0.2222222222222222,
              "#7201a8"
             ],
             [
              0.3333333333333333,
              "#9c179e"
             ],
             [
              0.4444444444444444,
              "#bd3786"
             ],
             [
              0.5555555555555556,
              "#d8576b"
             ],
             [
              0.6666666666666666,
              "#ed7953"
             ],
             [
              0.7777777777777778,
              "#fb9f3a"
             ],
             [
              0.8888888888888888,
              "#fdca26"
             ],
             [
              1.0,
              "#f0f921"
             ]
            ],
            "type": "histogram2d"
           }
          ],
          "histogram": [
           {
            "marker": {
             "pattern": {
              "fillmode": "overlay",
              "size": 10,
              "solidity": 0.2
             }
            },
            "type": "histogram"
           }
          ],
          "mesh3d": [
           {
            "colorbar": {
             "outlinewidth": 0,
             "ticks": ""
            },
            "type": "mesh3d"
           }
          ],
          "parcoords": [
           {
            "line": {
             "colorbar": {
              "outlinewidth": 0,
              "ticks": ""
             }
            },
            "type": "parcoords"
           }
          ],
          "pie": [
           {
            "automargin": true,
            "type": "pie"
           }
          ],
          "scatter3d": [
           {
            "line": {
             "colorbar": {
              "outlinewidth": 0,
              "ticks": ""
             }
            },
            "marker": {
             "colorbar": {
              "outlinewidth": 0,
              "ticks": ""
             }
            },
            "type": "scatter3d"
           }
          ],
          "scattercarpet": [
           {
            "marker": {
             "colorbar": {
              "outlinewidth": 0,
              "ticks": ""
             }
            },
            "type": "scattercarpet"
           }
          ],
          "scattergeo": [
           {
            "marker": {
             "colorbar": {
              "outlinewidth": 0,
              "ticks": ""
             }
            },
            "type": "scattergeo"
           }
          ],
          "scattergl": [
           {
            "marker": {
             "colorbar": {
              "outlinewidth": 0,
              "ticks": ""
             }
            },
            "type": "scattergl"
           }
          ],
          "scattermapbox": [
           {
            "marker": {
             "colorbar": {
              "outlinewidth": 0,
              "ticks": ""
             }
            },
            "type": "scattermapbox"
           }
          ],
          "scatterpolargl": [
           {
            "marker": {
             "colorbar": {
              "outlinewidth": 0,
              "ticks": ""
             }
            },
            "type": "scatterpolargl"
           }
          ],
          "scatterpolar": [
           {
            "marker": {
             "colorbar": {
              "outlinewidth": 0,
              "ticks": ""
             }
            },
            "type": "scatterpolar"
           }
          ],
          "scatter": [
           {
            "fillpattern": {
             "fillmode": "overlay",
             "size": 10,
             "solidity": 0.2
            },
            "type": "scatter"
           }
          ],
          "scatterternary": [
           {
            "marker": {
             "colorbar": {
              "outlinewidth": 0,
              "ticks": ""
             }
            },
            "type": "scatterternary"
           }
          ],
          "surface": [
           {
            "colorbar": {
             "outlinewidth": 0,
             "ticks": ""
            },
            "colorscale": [
             [
              0.0,
              "#0d0887"
             ],
             [
              0.1111111111111111,
              "#46039f"
             ],
             [
              0.2222222222222222,
              "#7201a8"
             ],
             [
              0.3333333333333333,
              "#9c179e"
             ],
             [
              0.4444444444444444,
              "#bd3786"
             ],
             [
              0.5555555555555556,
              "#d8576b"
             ],
             [
              0.6666666666666666,
              "#ed7953"
             ],
             [
              0.7777777777777778,
              "#fb9f3a"
             ],
             [
              0.8888888888888888,
              "#fdca26"
             ],
             [
              1.0,
              "#f0f921"
             ]
            ],
            "type": "surface"
           }
          ],
          "table": [
           {
            "cells": {
             "fill": {
              "color": "#EBF0F8"
             },
             "line": {
              "color": "white"
             }
            },
            "header": {
             "fill": {
              "color": "#C8D4E3"
             },
             "line": {
              "color": "white"
             }
            },
            "type": "table"
           }
          ]
         },
         "layout": {
          "annotationdefaults": {
           "arrowcolor": "#2a3f5f",
           "arrowhead": 0,
           "arrowwidth": 1
          },
          "autotypenumbers": "strict",
          "coloraxis": {
           "colorbar": {
            "outlinewidth": 0,
            "ticks": ""
           }
          },
          "colorscale": {
           "diverging": [
            [
             0,
             "#8e0152"
            ],
            [
             0.1,
             "#c51b7d"
            ],
            [
             0.2,
             "#de77ae"
            ],
            [
             0.3,
             "#f1b6da"
            ],
            [
             0.4,
             "#fde0ef"
            ],
            [
             0.5,
             "#f7f7f7"
            ],
            [
             0.6,
             "#e6f5d0"
            ],
            [
             0.7,
             "#b8e186"
            ],
            [
             0.8,
             "#7fbc41"
            ],
            [
             0.9,
             "#4d9221"
            ],
            [
             1,
             "#276419"
            ]
           ],
           "sequential": [
            [
             0.0,
             "#0d0887"
            ],
            [
             0.1111111111111111,
             "#46039f"
            ],
            [
             0.2222222222222222,
             "#7201a8"
            ],
            [
             0.3333333333333333,
             "#9c179e"
            ],
            [
             0.4444444444444444,
             "#bd3786"
            ],
            [
             0.5555555555555556,
             "#d8576b"
            ],
            [
             0.6666666666666666,
             "#ed7953"
            ],
            [
             0.7777777777777778,
             "#fb9f3a"
            ],
            [
             0.8888888888888888,
             "#fdca26"
            ],
            [
             1.0,
             "#f0f921"
            ]
           ],
           "sequentialminus": [
            [
             0.0,
             "#0d0887"
            ],
            [
             0.1111111111111111,
             "#46039f"
            ],
            [
             0.2222222222222222,
             "#7201a8"
            ],
            [
             0.3333333333333333,
             "#9c179e"
            ],
            [
             0.4444444444444444,
             "#bd3786"
            ],
            [
             0.5555555555555556,
             "#d8576b"
            ],
            [
             0.6666666666666666,
             "#ed7953"
            ],
            [
             0.7777777777777778,
             "#fb9f3a"
            ],
            [
             0.8888888888888888,
             "#fdca26"
            ],
            [
             1.0,
             "#f0f921"
            ]
           ]
          },
          "colorway": [
           "#636efa",
           "#EF553B",
           "#00cc96",
           "#ab63fa",
           "#FFA15A",
           "#19d3f3",
           "#FF6692",
           "#B6E880",
           "#FF97FF",
           "#FECB52"
          ],
          "font": {
           "color": "#2a3f5f"
          },
          "geo": {
           "bgcolor": "white",
           "lakecolor": "white",
           "landcolor": "white",
           "showlakes": true,
           "showland": true,
           "subunitcolor": "#C8D4E3"
          },
          "hoverlabel": {
           "align": "left"
          },
          "hovermode": "closest",
          "mapbox": {
           "style": "light"
          },
          "paper_bgcolor": "white",
          "plot_bgcolor": "white",
          "polar": {
           "angularaxis": {
            "gridcolor": "#EBF0F8",
            "linecolor": "#EBF0F8",
            "ticks": ""
           },
           "bgcolor": "white",
           "radialaxis": {
            "gridcolor": "#EBF0F8",
            "linecolor": "#EBF0F8",
            "ticks": ""
           }
          },
          "scene": {
           "xaxis": {
            "backgroundcolor": "white",
            "gridcolor": "#DFE8F3",
            "gridwidth": 2,
            "linecolor": "#EBF0F8",
            "showbackground": true,
            "ticks": "",
            "zerolinecolor": "#EBF0F8"
           },
           "yaxis": {
            "backgroundcolor": "white",
            "gridcolor": "#DFE8F3",
            "gridwidth": 2,
            "linecolor": "#EBF0F8",
            "showbackground": true,
            "ticks": "",
            "zerolinecolor": "#EBF0F8"
           },
           "zaxis": {
            "backgroundcolor": "white",
            "gridcolor": "#DFE8F3",
            "gridwidth": 2,
            "linecolor": "#EBF0F8",
            "showbackground": true,
            "ticks": "",
            "zerolinecolor": "#EBF0F8"
           }
          },
          "shapedefaults": {
           "line": {
            "color": "#2a3f5f"
           }
          },
          "ternary": {
           "aaxis": {
            "gridcolor": "#DFE8F3",
            "linecolor": "#A2B1C6",
            "ticks": ""
           },
           "baxis": {
            "gridcolor": "#DFE8F3",
            "linecolor": "#A2B1C6",
            "ticks": ""
           },
           "bgcolor": "white",
           "caxis": {
            "gridcolor": "#DFE8F3",
            "linecolor": "#A2B1C6",
            "ticks": ""
           }
          },
          "title": {
           "x": 0.05
          },
          "xaxis": {
           "automargin": true,
           "gridcolor": "#EBF0F8",
           "linecolor": "#EBF0F8",
           "ticks": "",
           "title": {
            "standoff": 15
           },
           "zerolinecolor": "#EBF0F8",
           "zerolinewidth": 2
          },
          "yaxis": {
           "automargin": true,
           "gridcolor": "#EBF0F8",
           "linecolor": "#EBF0F8",
           "ticks": "",
           "title": {
            "standoff": 15
           },
           "zerolinecolor": "#EBF0F8",
           "zerolinewidth": 2
          }
         }
        },
        "legend": {
         "x": 1.05,
         "y": 1,
         "traceorder": "normal",
         "orientation": "v"
        },
        "title": {
         "text": "Предполагаемая модель - Полином"
        },
        "xaxis": {
         "title": {
          "text": "K2065G_2_POROSITY"
         }
        },
        "yaxis": {
         "title": {
          "text": "K2066G_2_POROSITY"
         }
        }
       },
       "config": {
        "plotlyServerURL": "https://plot.ly"
       }
      },
      "text/html": "<div>                            <div id=\"851b1fdb-f3bf-4fc2-a13d-597d2f6c074d\" class=\"plotly-graph-div\" style=\"height:525px; width:100%;\"></div>            <script type=\"text/javascript\">                require([\"plotly\"], function(Plotly) {                    window.PLOTLYENV=window.PLOTLYENV || {};                                    if (document.getElementById(\"851b1fdb-f3bf-4fc2-a13d-597d2f6c074d\")) {                    Plotly.newPlot(                        \"851b1fdb-f3bf-4fc2-a13d-597d2f6c074d\",                        [{\"marker\":{\"color\":\"blue\"},\"mode\":\"markers\",\"name\":\"\\u0414\\u0430\\u043d\\u043d\\u044b\\u0435\",\"x\":[0.1702211499,0.1692114919,0.1682019383,0.1682019383,0.1676971763,0.1666875035,0.1651730686,0.1641634107,0.1631538719,0.1626489758,0.1621442139,0.1621442139,0.1626489758,0.1631538719,0.1631538719,0.1631538719,0.1626489758,0.1626489758,0.1626489758,0.1621442139,0.1611346602,0.1611346602,0.1616394371,0.1616394371,0.1611346602,0.1616394371,0.1611346602,0.1611346602,0.1606297791,0.1606297791,0.1606297791,0.1596202254,0.1596202254,0.1596202254,0.1591153443,0.1586105675,0.1591153443,0.1596202254,0.1591153443,0.1586105675,0.1586105675,0.1591153443,0.1591153443,0.1586105675,0.1586105675,0.1586105675,0.1586105675,0.1586105675,0.1586105675,0.1591153443,0.1591153443,0.1601250023,0.1611346602,0.1616394371,0.1636586487,0.1641634107,0.1656778455,0.1676971763,0.1682019383,0.1707259119,0.1712308079,0.1727452427,0.1747644544,0.1757739931,0.1757739931,0.1762788892,0.1757739931,0.1757739931,0.1747644544,0.1737547815,0.1737547815,0.1732500196,0.1727452427,0.1732500196,0.1737547815,0.1732500196,0.1737547815,0.1727452427,0.1722403467,0.1717355847,0.1707259119,0.1702211499,0.1692114919,0.1697163731,0.1692114919,0.1687067151,0.1687067151,0.1692114919,0.1682019383,0.1676971763,0.1661827415,0.1651730686,0.1641634107,0.1631538719,0.1616394371,0.1611346602,0.1601250023,0.1606297791,0.1601250023,0.1601250023],\"y\":[0.1899086684,0.1899086684,0.1894038916,0.1878894567,0.1863750219,0.185365364,0.1843558252,0.1838509291,0.1823364943,0.1818317324,0.1818317324,0.1818317324,0.1813269556,0.1813269556,0.1818317324,0.1818317324,0.1813269556,0.1813269556,0.1813269556,0.1803172976,0.1798125207,0.1782980859,0.1782980859,0.1808220595,0.1813269556,0.1818317324,0.1833461523,0.1838509291,0.1843558252,0.1843558252,0.1843558252,0.1843558252,0.1838509291,0.1818317324,0.1823364943,0.1828413904,0.1833461523,0.1838509291,0.1843558252,0.1843558252,0.1843558252,0.1838509291,0.1833461523,0.1823364943,0.1818317324,0.1818317324,0.1813269556,0.1808220595,0.1803172976,0.1798125207,0.1793077439,0.1788028628,0.1777933091,0.1767836511,0.1772884279,0.1782980859,0.1793077439,0.1813269556,0.1833461523,0.1848605871,0.1863750219,0.1878894567,0.1894038916,0.1904134303,0.1904134303,0.1909183264,0.1914231032,0.1914231032,0.1909183264,0.1909183264,0.1909183264,0.1909183264,0.1909183264,0.1914231032,0.1919278651,0.192432642,0.192937538,0.1934423,0.1944519728,0.1949567348,0.1964711696,0.1974807084,0.1979856044,0.1989951432,0.1989951432,0.1989951432,0.1989951432,0.1989951432,0.1984903812,0.1979856044,0.1979856044,0.1974807084,0.1974807084,0.1969759464,0.1969759464,0.1964711696,0.1964711696,0.1964711696,0.1964711696,0.1964711696],\"type\":\"scatter\"},{\"line\":{\"color\":\"green\"},\"mode\":\"lines\",\"name\":\"\\u041f\\u043e\\u043b\\u0438\\u043d\\u043e\\u043c: y=-36.1281x^2 + 12.6867x + -0.9215, R\\u00b2=0.3046, SSR = 0.0\",\"x\":[0.1702211499,0.1692114919,0.1682019383,0.1682019383,0.1676971763,0.1666875035,0.1651730686,0.1641634107,0.1631538719,0.1626489758,0.1621442139,0.1621442139,0.1626489758,0.1631538719,0.1631538719,0.1631538719,0.1626489758,0.1626489758,0.1626489758,0.1621442139,0.1611346602,0.1611346602,0.1616394371,0.1616394371,0.1611346602,0.1616394371,0.1611346602,0.1611346602,0.1606297791,0.1606297791,0.1606297791,0.1596202254,0.1596202254,0.1596202254,0.1591153443,0.1586105675,0.1591153443,0.1596202254,0.1591153443,0.1586105675,0.1586105675,0.1591153443,0.1591153443,0.1586105675,0.1586105675,0.1586105675,0.1586105675,0.1586105675,0.1586105675,0.1591153443,0.1591153443,0.1601250023,0.1611346602,0.1616394371,0.1636586487,0.1641634107,0.1656778455,0.1676971763,0.1682019383,0.1707259119,0.1712308079,0.1727452427,0.1747644544,0.1757739931,0.1757739931,0.1762788892,0.1757739931,0.1757739931,0.1747644544,0.1737547815,0.1737547815,0.1732500196,0.1727452427,0.1732500196,0.1737547815,0.1732500196,0.1737547815,0.1727452427,0.1722403467,0.1717355847,0.1707259119,0.1702211499,0.1692114919,0.1697163731,0.1692114919,0.1687067151,0.1687067151,0.1692114919,0.1682019383,0.1676971763,0.1661827415,0.1651730686,0.1641634107,0.1631538719,0.1616394371,0.1611346602,0.1601250023,0.1606297791,0.1601250023,0.1601250023],\"y\":[0.1911806674373131,0.19075297235410593,0.19025167424725087,0.19025167424725087,0.18997341733239392,0.1893615785649121,0.18830576221954387,0.18750978908377558,0.1866402642168037,0.18617776793236307,0.18569698235774856,0.18569698235774856,0.18617776793236307,0.1866402642168037,0.1866402642168037,0.1866402642168037,0.18617776793236307,0.18617776793236307,0.18617776793236307,0.18569698235774856,0.18468015068304577,0.18468015068304577,0.18519777200259213,0.18519777200259213,0.18468015068304577,0.18519777200259213,0.18468015068304577,0.18468015068304577,0.18414400594357172,0.18414400594357172,0.18414400594357172,0.18301670148217575,0.18301670148217575,0.18301670148217575,0.18242530894155395,0.18181562581064759,0.18242530894155395,0.18301670148217575,0.18242530894155395,0.18181562581064759,0.18181562581064759,0.18242530894155395,0.18242530894155395,0.18181562581064759,0.18181562581064759,0.18181562581064759,0.18181562581064759,0.18181562581064759,0.18181562581064759,0.18242530894155395,0.18242530894155395,0.18358955920054032,0.18468015068304577,0.18519777200259213,0.18708423818408493,0.18750978908377558,0.18867608955392057,0.18997341733239392,0.19025167424725087,0.19136686948317339,0.19153470384840743,0.191927637767225,0.1921937600360244,0.19221634552264777,0.19221634552264777,0.19220001638034234,0.19221634552264777,0.19221634552264777,0.1921937600360244,0.19209751559619748,0.19209751559619748,0.1920217831038653,0.191927637767225,0.1920217831038653,0.19209751559619748,0.1920217831038653,0.19209751559619748,0.191927637767225,0.19181505283360578,0.19168408555609595,0.19136686948317339,0.1911806674373131,0.19075297235410593,0.19097604934174983,0.19075297235410593,0.19051152873068955,0.19051152873068955,0.19075297235410593,0.19025167424725087,0.18997341733239392,0.1890280868817047,0.18830576221954387,0.18750978908377558,0.1866402642168037,0.18519777200259213,0.18468015068304577,0.18358955920054032,0.18414400594357172,0.18358955920054032,0.18358955920054032],\"type\":\"scatter\"},{\"line\":{\"color\":\"lightgrey\",\"dash\":\"dash\"},\"mode\":\"lines\",\"name\":\"\\u041d\\u0438\\u0436\\u043d\\u044f\\u044f \\u0433\\u0440\\u0430\\u043d\\u0438\\u0446\\u0430\",\"x\":[0.1702211499,0.1692114919,0.1682019383,0.1682019383,0.1676971763,0.1666875035,0.1651730686,0.1641634107,0.1631538719,0.1626489758,0.1621442139,0.1621442139,0.1626489758,0.1631538719,0.1631538719,0.1631538719,0.1626489758,0.1626489758,0.1626489758,0.1621442139,0.1611346602,0.1611346602,0.1616394371,0.1616394371,0.1611346602,0.1616394371,0.1611346602,0.1611346602,0.1606297791,0.1606297791,0.1606297791,0.1596202254,0.1596202254,0.1596202254,0.1591153443,0.1586105675,0.1591153443,0.1596202254,0.1591153443,0.1586105675,0.1586105675,0.1591153443,0.1591153443,0.1586105675,0.1586105675,0.1586105675,0.1586105675,0.1586105675,0.1586105675,0.1591153443,0.1591153443,0.1601250023,0.1611346602,0.1616394371,0.1636586487,0.1641634107,0.1656778455,0.1676971763,0.1682019383,0.1707259119,0.1712308079,0.1727452427,0.1747644544,0.1757739931,0.1757739931,0.1762788892,0.1757739931,0.1757739931,0.1747644544,0.1737547815,0.1737547815,0.1732500196,0.1727452427,0.1732500196,0.1737547815,0.1732500196,0.1737547815,0.1727452427,0.1722403467,0.1717355847,0.1707259119,0.1702211499,0.1692114919,0.1697163731,0.1692114919,0.1687067151,0.1687067151,0.1692114919,0.1682019383,0.1676971763,0.1661827415,0.1651730686,0.1641634107,0.1631538719,0.1616394371,0.1611346602,0.1601250023,0.1606297791,0.1601250023,0.1601250023],\"y\":[0.18014851539500032,0.17972082031179315,0.1792195222049381,0.1792195222049381,0.17894126529008114,0.1783294265225993,0.1772736101772311,0.1764776370414628,0.1756081121744909,0.1751456158900503,0.17466483031543578,0.17466483031543578,0.1751456158900503,0.1756081121744909,0.1756081121744909,0.1756081121744909,0.1751456158900503,0.1751456158900503,0.1751456158900503,0.17466483031543578,0.173647998640733,0.173647998640733,0.17416561996027935,0.17416561996027935,0.173647998640733,0.17416561996027935,0.173647998640733,0.173647998640733,0.17311185390125894,0.17311185390125894,0.17311185390125894,0.17198454943986297,0.17198454943986297,0.17198454943986297,0.17139315689924117,0.1707834737683348,0.17139315689924117,0.17198454943986297,0.17139315689924117,0.1707834737683348,0.1707834737683348,0.17139315689924117,0.17139315689924117,0.1707834737683348,0.1707834737683348,0.1707834737683348,0.1707834737683348,0.1707834737683348,0.1707834737683348,0.17139315689924117,0.17139315689924117,0.17255740715822754,0.173647998640733,0.17416561996027935,0.17605208614177215,0.1764776370414628,0.17764393751160779,0.17894126529008114,0.1792195222049381,0.1803347174408606,0.18050255180609465,0.1808954857249122,0.18116160799371162,0.181184193480335,0.181184193480335,0.18116786433802956,0.181184193480335,0.181184193480335,0.18116160799371162,0.1810653635538847,0.1810653635538847,0.18098963106155253,0.1808954857249122,0.18098963106155253,0.1810653635538847,0.18098963106155253,0.1810653635538847,0.1808954857249122,0.180782900791293,0.18065193351378317,0.1803347174408606,0.18014851539500032,0.17972082031179315,0.17994389729943705,0.17972082031179315,0.17947937668837677,0.17947937668837677,0.17972082031179315,0.1792195222049381,0.17894126529008114,0.1779959348393919,0.1772736101772311,0.1764776370414628,0.1756081121744909,0.17416561996027935,0.173647998640733,0.17255740715822754,0.17311185390125894,0.17255740715822754,0.17255740715822754],\"type\":\"scatter\"},{\"line\":{\"color\":\"lightgrey\",\"dash\":\"dash\"},\"mode\":\"lines\",\"name\":\"\\u0412\\u0435\\u0440\\u0445\\u043d\\u044f\\u044f \\u0433\\u0440\\u0430\\u043d\\u0438\\u0446\\u0430\",\"x\":[0.1702211499,0.1692114919,0.1682019383,0.1682019383,0.1676971763,0.1666875035,0.1651730686,0.1641634107,0.1631538719,0.1626489758,0.1621442139,0.1621442139,0.1626489758,0.1631538719,0.1631538719,0.1631538719,0.1626489758,0.1626489758,0.1626489758,0.1621442139,0.1611346602,0.1611346602,0.1616394371,0.1616394371,0.1611346602,0.1616394371,0.1611346602,0.1611346602,0.1606297791,0.1606297791,0.1606297791,0.1596202254,0.1596202254,0.1596202254,0.1591153443,0.1586105675,0.1591153443,0.1596202254,0.1591153443,0.1586105675,0.1586105675,0.1591153443,0.1591153443,0.1586105675,0.1586105675,0.1586105675,0.1586105675,0.1586105675,0.1586105675,0.1591153443,0.1591153443,0.1601250023,0.1611346602,0.1616394371,0.1636586487,0.1641634107,0.1656778455,0.1676971763,0.1682019383,0.1707259119,0.1712308079,0.1727452427,0.1747644544,0.1757739931,0.1757739931,0.1762788892,0.1757739931,0.1757739931,0.1747644544,0.1737547815,0.1737547815,0.1732500196,0.1727452427,0.1732500196,0.1737547815,0.1732500196,0.1737547815,0.1727452427,0.1722403467,0.1717355847,0.1707259119,0.1702211499,0.1692114919,0.1697163731,0.1692114919,0.1687067151,0.1687067151,0.1692114919,0.1682019383,0.1676971763,0.1661827415,0.1651730686,0.1641634107,0.1631538719,0.1616394371,0.1611346602,0.1601250023,0.1606297791,0.1601250023,0.1601250023],\"y\":[0.20221281947962588,0.2017851243964187,0.20128382628956365,0.20128382628956365,0.2010055693747067,0.20039373060722487,0.19933791426185665,0.19854194112608836,0.19767241625911647,0.19720991997467585,0.19672913440006135,0.19672913440006135,0.19720991997467585,0.19767241625911647,0.19767241625911647,0.19767241625911647,0.19720991997467585,0.19720991997467585,0.19720991997467585,0.19672913440006135,0.19571230272535856,0.19571230272535856,0.1962299240449049,0.1962299240449049,0.19571230272535856,0.1962299240449049,0.19571230272535856,0.19571230272535856,0.1951761579858845,0.1951761579858845,0.1951761579858845,0.19404885352448853,0.19404885352448853,0.19404885352448853,0.19345746098386674,0.19284777785296037,0.19345746098386674,0.19404885352448853,0.19345746098386674,0.19284777785296037,0.19284777785296037,0.19345746098386674,0.19345746098386674,0.19284777785296037,0.19284777785296037,0.19284777785296037,0.19284777785296037,0.19284777785296037,0.19284777785296037,0.19345746098386674,0.19345746098386674,0.1946217112428531,0.19571230272535856,0.1962299240449049,0.1981163902263977,0.19854194112608836,0.19970824159623335,0.2010055693747067,0.20128382628956365,0.20239902152548617,0.2025668558907202,0.20295978980953777,0.20322591207833718,0.20324849756496055,0.20324849756496055,0.20323216842265512,0.20324849756496055,0.20324849756496055,0.20322591207833718,0.20312966763851026,0.20312966763851026,0.2030539351461781,0.20295978980953777,0.2030539351461781,0.20312966763851026,0.2030539351461781,0.20312966763851026,0.20295978980953777,0.20284720487591856,0.20271623759840873,0.20239902152548617,0.20221281947962588,0.2017851243964187,0.2020082013840626,0.2017851243964187,0.20154368077300233,0.20154368077300233,0.2017851243964187,0.20128382628956365,0.2010055693747067,0.20006023892401747,0.19933791426185665,0.19854194112608836,0.19767241625911647,0.1962299240449049,0.19571230272535856,0.1946217112428531,0.1951761579858845,0.1946217112428531,0.1946217112428531],\"type\":\"scatter\"}],                        {\"template\":{\"data\":{\"barpolar\":[{\"marker\":{\"line\":{\"color\":\"white\",\"width\":0.5},\"pattern\":{\"fillmode\":\"overlay\",\"size\":10,\"solidity\":0.2}},\"type\":\"barpolar\"}],\"bar\":[{\"error_x\":{\"color\":\"#2a3f5f\"},\"error_y\":{\"color\":\"#2a3f5f\"},\"marker\":{\"line\":{\"color\":\"white\",\"width\":0.5},\"pattern\":{\"fillmode\":\"overlay\",\"size\":10,\"solidity\":0.2}},\"type\":\"bar\"}],\"carpet\":[{\"aaxis\":{\"endlinecolor\":\"#2a3f5f\",\"gridcolor\":\"#C8D4E3\",\"linecolor\":\"#C8D4E3\",\"minorgridcolor\":\"#C8D4E3\",\"startlinecolor\":\"#2a3f5f\"},\"baxis\":{\"endlinecolor\":\"#2a3f5f\",\"gridcolor\":\"#C8D4E3\",\"linecolor\":\"#C8D4E3\",\"minorgridcolor\":\"#C8D4E3\",\"startlinecolor\":\"#2a3f5f\"},\"type\":\"carpet\"}],\"choropleth\":[{\"colorbar\":{\"outlinewidth\":0,\"ticks\":\"\"},\"type\":\"choropleth\"}],\"contourcarpet\":[{\"colorbar\":{\"outlinewidth\":0,\"ticks\":\"\"},\"type\":\"contourcarpet\"}],\"contour\":[{\"colorbar\":{\"outlinewidth\":0,\"ticks\":\"\"},\"colorscale\":[[0.0,\"#0d0887\"],[0.1111111111111111,\"#46039f\"],[0.2222222222222222,\"#7201a8\"],[0.3333333333333333,\"#9c179e\"],[0.4444444444444444,\"#bd3786\"],[0.5555555555555556,\"#d8576b\"],[0.6666666666666666,\"#ed7953\"],[0.7777777777777778,\"#fb9f3a\"],[0.8888888888888888,\"#fdca26\"],[1.0,\"#f0f921\"]],\"type\":\"contour\"}],\"heatmapgl\":[{\"colorbar\":{\"outlinewidth\":0,\"ticks\":\"\"},\"colorscale\":[[0.0,\"#0d0887\"],[0.1111111111111111,\"#46039f\"],[0.2222222222222222,\"#7201a8\"],[0.3333333333333333,\"#9c179e\"],[0.4444444444444444,\"#bd3786\"],[0.5555555555555556,\"#d8576b\"],[0.6666666666666666,\"#ed7953\"],[0.7777777777777778,\"#fb9f3a\"],[0.8888888888888888,\"#fdca26\"],[1.0,\"#f0f921\"]],\"type\":\"heatmapgl\"}],\"heatmap\":[{\"colorbar\":{\"outlinewidth\":0,\"ticks\":\"\"},\"colorscale\":[[0.0,\"#0d0887\"],[0.1111111111111111,\"#46039f\"],[0.2222222222222222,\"#7201a8\"],[0.3333333333333333,\"#9c179e\"],[0.4444444444444444,\"#bd3786\"],[0.5555555555555556,\"#d8576b\"],[0.6666666666666666,\"#ed7953\"],[0.7777777777777778,\"#fb9f3a\"],[0.8888888888888888,\"#fdca26\"],[1.0,\"#f0f921\"]],\"type\":\"heatmap\"}],\"histogram2dcontour\":[{\"colorbar\":{\"outlinewidth\":0,\"ticks\":\"\"},\"colorscale\":[[0.0,\"#0d0887\"],[0.1111111111111111,\"#46039f\"],[0.2222222222222222,\"#7201a8\"],[0.3333333333333333,\"#9c179e\"],[0.4444444444444444,\"#bd3786\"],[0.5555555555555556,\"#d8576b\"],[0.6666666666666666,\"#ed7953\"],[0.7777777777777778,\"#fb9f3a\"],[0.8888888888888888,\"#fdca26\"],[1.0,\"#f0f921\"]],\"type\":\"histogram2dcontour\"}],\"histogram2d\":[{\"colorbar\":{\"outlinewidth\":0,\"ticks\":\"\"},\"colorscale\":[[0.0,\"#0d0887\"],[0.1111111111111111,\"#46039f\"],[0.2222222222222222,\"#7201a8\"],[0.3333333333333333,\"#9c179e\"],[0.4444444444444444,\"#bd3786\"],[0.5555555555555556,\"#d8576b\"],[0.6666666666666666,\"#ed7953\"],[0.7777777777777778,\"#fb9f3a\"],[0.8888888888888888,\"#fdca26\"],[1.0,\"#f0f921\"]],\"type\":\"histogram2d\"}],\"histogram\":[{\"marker\":{\"pattern\":{\"fillmode\":\"overlay\",\"size\":10,\"solidity\":0.2}},\"type\":\"histogram\"}],\"mesh3d\":[{\"colorbar\":{\"outlinewidth\":0,\"ticks\":\"\"},\"type\":\"mesh3d\"}],\"parcoords\":[{\"line\":{\"colorbar\":{\"outlinewidth\":0,\"ticks\":\"\"}},\"type\":\"parcoords\"}],\"pie\":[{\"automargin\":true,\"type\":\"pie\"}],\"scatter3d\":[{\"line\":{\"colorbar\":{\"outlinewidth\":0,\"ticks\":\"\"}},\"marker\":{\"colorbar\":{\"outlinewidth\":0,\"ticks\":\"\"}},\"type\":\"scatter3d\"}],\"scattercarpet\":[{\"marker\":{\"colorbar\":{\"outlinewidth\":0,\"ticks\":\"\"}},\"type\":\"scattercarpet\"}],\"scattergeo\":[{\"marker\":{\"colorbar\":{\"outlinewidth\":0,\"ticks\":\"\"}},\"type\":\"scattergeo\"}],\"scattergl\":[{\"marker\":{\"colorbar\":{\"outlinewidth\":0,\"ticks\":\"\"}},\"type\":\"scattergl\"}],\"scattermapbox\":[{\"marker\":{\"colorbar\":{\"outlinewidth\":0,\"ticks\":\"\"}},\"type\":\"scattermapbox\"}],\"scatterpolargl\":[{\"marker\":{\"colorbar\":{\"outlinewidth\":0,\"ticks\":\"\"}},\"type\":\"scatterpolargl\"}],\"scatterpolar\":[{\"marker\":{\"colorbar\":{\"outlinewidth\":0,\"ticks\":\"\"}},\"type\":\"scatterpolar\"}],\"scatter\":[{\"fillpattern\":{\"fillmode\":\"overlay\",\"size\":10,\"solidity\":0.2},\"type\":\"scatter\"}],\"scatterternary\":[{\"marker\":{\"colorbar\":{\"outlinewidth\":0,\"ticks\":\"\"}},\"type\":\"scatterternary\"}],\"surface\":[{\"colorbar\":{\"outlinewidth\":0,\"ticks\":\"\"},\"colorscale\":[[0.0,\"#0d0887\"],[0.1111111111111111,\"#46039f\"],[0.2222222222222222,\"#7201a8\"],[0.3333333333333333,\"#9c179e\"],[0.4444444444444444,\"#bd3786\"],[0.5555555555555556,\"#d8576b\"],[0.6666666666666666,\"#ed7953\"],[0.7777777777777778,\"#fb9f3a\"],[0.8888888888888888,\"#fdca26\"],[1.0,\"#f0f921\"]],\"type\":\"surface\"}],\"table\":[{\"cells\":{\"fill\":{\"color\":\"#EBF0F8\"},\"line\":{\"color\":\"white\"}},\"header\":{\"fill\":{\"color\":\"#C8D4E3\"},\"line\":{\"color\":\"white\"}},\"type\":\"table\"}]},\"layout\":{\"annotationdefaults\":{\"arrowcolor\":\"#2a3f5f\",\"arrowhead\":0,\"arrowwidth\":1},\"autotypenumbers\":\"strict\",\"coloraxis\":{\"colorbar\":{\"outlinewidth\":0,\"ticks\":\"\"}},\"colorscale\":{\"diverging\":[[0,\"#8e0152\"],[0.1,\"#c51b7d\"],[0.2,\"#de77ae\"],[0.3,\"#f1b6da\"],[0.4,\"#fde0ef\"],[0.5,\"#f7f7f7\"],[0.6,\"#e6f5d0\"],[0.7,\"#b8e186\"],[0.8,\"#7fbc41\"],[0.9,\"#4d9221\"],[1,\"#276419\"]],\"sequential\":[[0.0,\"#0d0887\"],[0.1111111111111111,\"#46039f\"],[0.2222222222222222,\"#7201a8\"],[0.3333333333333333,\"#9c179e\"],[0.4444444444444444,\"#bd3786\"],[0.5555555555555556,\"#d8576b\"],[0.6666666666666666,\"#ed7953\"],[0.7777777777777778,\"#fb9f3a\"],[0.8888888888888888,\"#fdca26\"],[1.0,\"#f0f921\"]],\"sequentialminus\":[[0.0,\"#0d0887\"],[0.1111111111111111,\"#46039f\"],[0.2222222222222222,\"#7201a8\"],[0.3333333333333333,\"#9c179e\"],[0.4444444444444444,\"#bd3786\"],[0.5555555555555556,\"#d8576b\"],[0.6666666666666666,\"#ed7953\"],[0.7777777777777778,\"#fb9f3a\"],[0.8888888888888888,\"#fdca26\"],[1.0,\"#f0f921\"]]},\"colorway\":[\"#636efa\",\"#EF553B\",\"#00cc96\",\"#ab63fa\",\"#FFA15A\",\"#19d3f3\",\"#FF6692\",\"#B6E880\",\"#FF97FF\",\"#FECB52\"],\"font\":{\"color\":\"#2a3f5f\"},\"geo\":{\"bgcolor\":\"white\",\"lakecolor\":\"white\",\"landcolor\":\"white\",\"showlakes\":true,\"showland\":true,\"subunitcolor\":\"#C8D4E3\"},\"hoverlabel\":{\"align\":\"left\"},\"hovermode\":\"closest\",\"mapbox\":{\"style\":\"light\"},\"paper_bgcolor\":\"white\",\"plot_bgcolor\":\"white\",\"polar\":{\"angularaxis\":{\"gridcolor\":\"#EBF0F8\",\"linecolor\":\"#EBF0F8\",\"ticks\":\"\"},\"bgcolor\":\"white\",\"radialaxis\":{\"gridcolor\":\"#EBF0F8\",\"linecolor\":\"#EBF0F8\",\"ticks\":\"\"}},\"scene\":{\"xaxis\":{\"backgroundcolor\":\"white\",\"gridcolor\":\"#DFE8F3\",\"gridwidth\":2,\"linecolor\":\"#EBF0F8\",\"showbackground\":true,\"ticks\":\"\",\"zerolinecolor\":\"#EBF0F8\"},\"yaxis\":{\"backgroundcolor\":\"white\",\"gridcolor\":\"#DFE8F3\",\"gridwidth\":2,\"linecolor\":\"#EBF0F8\",\"showbackground\":true,\"ticks\":\"\",\"zerolinecolor\":\"#EBF0F8\"},\"zaxis\":{\"backgroundcolor\":\"white\",\"gridcolor\":\"#DFE8F3\",\"gridwidth\":2,\"linecolor\":\"#EBF0F8\",\"showbackground\":true,\"ticks\":\"\",\"zerolinecolor\":\"#EBF0F8\"}},\"shapedefaults\":{\"line\":{\"color\":\"#2a3f5f\"}},\"ternary\":{\"aaxis\":{\"gridcolor\":\"#DFE8F3\",\"linecolor\":\"#A2B1C6\",\"ticks\":\"\"},\"baxis\":{\"gridcolor\":\"#DFE8F3\",\"linecolor\":\"#A2B1C6\",\"ticks\":\"\"},\"bgcolor\":\"white\",\"caxis\":{\"gridcolor\":\"#DFE8F3\",\"linecolor\":\"#A2B1C6\",\"ticks\":\"\"}},\"title\":{\"x\":0.05},\"xaxis\":{\"automargin\":true,\"gridcolor\":\"#EBF0F8\",\"linecolor\":\"#EBF0F8\",\"ticks\":\"\",\"title\":{\"standoff\":15},\"zerolinecolor\":\"#EBF0F8\",\"zerolinewidth\":2},\"yaxis\":{\"automargin\":true,\"gridcolor\":\"#EBF0F8\",\"linecolor\":\"#EBF0F8\",\"ticks\":\"\",\"title\":{\"standoff\":15},\"zerolinecolor\":\"#EBF0F8\",\"zerolinewidth\":2}}},\"legend\":{\"x\":1.05,\"y\":1,\"traceorder\":\"normal\",\"orientation\":\"v\"},\"title\":{\"text\":\"\\u041f\\u0440\\u0435\\u0434\\u043f\\u043e\\u043b\\u0430\\u0433\\u0430\\u0435\\u043c\\u0430\\u044f \\u043c\\u043e\\u0434\\u0435\\u043b\\u044c - \\u041f\\u043e\\u043b\\u0438\\u043d\\u043e\\u043c\"},\"xaxis\":{\"title\":{\"text\":\"K2065G_2_POROSITY\"}},\"yaxis\":{\"title\":{\"text\":\"K2066G_2_POROSITY\"}}},                        {\"responsive\": true}                    ).then(function(){\n                            \nvar gd = document.getElementById('851b1fdb-f3bf-4fc2-a13d-597d2f6c074d');\nvar x = new MutationObserver(function (mutations, observer) {{\n        var display = window.getComputedStyle(gd).display;\n        if (!display || display === 'none') {{\n            console.log([gd, 'removed!']);\n            Plotly.purge(gd);\n            observer.disconnect();\n        }}\n}});\n\n// Listen for the removal of the full notebook cells\nvar notebookContainer = gd.closest('#notebook-container');\nif (notebookContainer) {{\n    x.observe(notebookContainer, {childList: true});\n}}\n\n// Listen for the clearing of the current output cell\nvar outputEl = gd.closest('.output');\nif (outputEl) {{\n    x.observe(outputEl, {childList: true});\n}}\n\n                        })                };                });            </script>        </div>"
     },
     "metadata": {},
     "output_type": "display_data"
    },
    {
     "data": {
      "application/vnd.plotly.v1+json": {
       "data": [
        {
         "marker": {
          "color": "blue"
         },
         "mode": "markers",
         "name": "Данные",
         "x": [
          0.1702211499,
          0.1692114919,
          0.1682019383,
          0.1682019383,
          0.1676971763,
          0.1666875035,
          0.1651730686,
          0.1641634107,
          0.1631538719,
          0.1626489758,
          0.1621442139,
          0.1621442139,
          0.1626489758,
          0.1631538719,
          0.1631538719,
          0.1631538719,
          0.1626489758,
          0.1626489758,
          0.1626489758,
          0.1621442139,
          0.1611346602,
          0.1611346602,
          0.1616394371,
          0.1616394371,
          0.1611346602,
          0.1616394371,
          0.1611346602,
          0.1611346602,
          0.1606297791,
          0.1606297791,
          0.1606297791,
          0.1596202254,
          0.1596202254,
          0.1596202254,
          0.1591153443,
          0.1586105675,
          0.1591153443,
          0.1596202254,
          0.1591153443,
          0.1586105675,
          0.1586105675,
          0.1591153443,
          0.1591153443,
          0.1586105675,
          0.1586105675,
          0.1586105675,
          0.1586105675,
          0.1586105675,
          0.1586105675,
          0.1591153443,
          0.1591153443,
          0.1601250023,
          0.1611346602,
          0.1616394371,
          0.1636586487,
          0.1641634107,
          0.1656778455,
          0.1676971763,
          0.1682019383,
          0.1707259119,
          0.1712308079,
          0.1727452427,
          0.1747644544,
          0.1757739931,
          0.1757739931,
          0.1762788892,
          0.1757739931,
          0.1757739931,
          0.1747644544,
          0.1737547815,
          0.1737547815,
          0.1732500196,
          0.1727452427,
          0.1732500196,
          0.1737547815,
          0.1732500196,
          0.1737547815,
          0.1727452427,
          0.1722403467,
          0.1717355847,
          0.1707259119,
          0.1702211499,
          0.1692114919,
          0.1697163731,
          0.1692114919,
          0.1687067151,
          0.1687067151,
          0.1692114919,
          0.1682019383,
          0.1676971763,
          0.1661827415,
          0.1651730686,
          0.1641634107,
          0.1631538719,
          0.1616394371,
          0.1611346602,
          0.1601250023,
          0.1606297791,
          0.1601250023,
          0.1601250023
         ],
         "y": [
          0.1899086684,
          0.1899086684,
          0.1894038916,
          0.1878894567,
          0.1863750219,
          0.185365364,
          0.1843558252,
          0.1838509291,
          0.1823364943,
          0.1818317324,
          0.1818317324,
          0.1818317324,
          0.1813269556,
          0.1813269556,
          0.1818317324,
          0.1818317324,
          0.1813269556,
          0.1813269556,
          0.1813269556,
          0.1803172976,
          0.1798125207,
          0.1782980859,
          0.1782980859,
          0.1808220595,
          0.1813269556,
          0.1818317324,
          0.1833461523,
          0.1838509291,
          0.1843558252,
          0.1843558252,
          0.1843558252,
          0.1843558252,
          0.1838509291,
          0.1818317324,
          0.1823364943,
          0.1828413904,
          0.1833461523,
          0.1838509291,
          0.1843558252,
          0.1843558252,
          0.1843558252,
          0.1838509291,
          0.1833461523,
          0.1823364943,
          0.1818317324,
          0.1818317324,
          0.1813269556,
          0.1808220595,
          0.1803172976,
          0.1798125207,
          0.1793077439,
          0.1788028628,
          0.1777933091,
          0.1767836511,
          0.1772884279,
          0.1782980859,
          0.1793077439,
          0.1813269556,
          0.1833461523,
          0.1848605871,
          0.1863750219,
          0.1878894567,
          0.1894038916,
          0.1904134303,
          0.1904134303,
          0.1909183264,
          0.1914231032,
          0.1914231032,
          0.1909183264,
          0.1909183264,
          0.1909183264,
          0.1909183264,
          0.1909183264,
          0.1914231032,
          0.1919278651,
          0.192432642,
          0.192937538,
          0.1934423,
          0.1944519728,
          0.1949567348,
          0.1964711696,
          0.1974807084,
          0.1979856044,
          0.1989951432,
          0.1989951432,
          0.1989951432,
          0.1989951432,
          0.1989951432,
          0.1984903812,
          0.1979856044,
          0.1979856044,
          0.1974807084,
          0.1974807084,
          0.1969759464,
          0.1969759464,
          0.1964711696,
          0.1964711696,
          0.1964711696,
          0.1964711696,
          0.1964711696
         ],
         "type": "scatter"
        },
        {
         "line": {
          "color": "purple"
         },
         "mode": "lines",
         "name": "Кубический: y=-11352.5525x^3 + 5648.5335x^2 + -935.5703x + 51.7721, R²=0.3441, SSR = 0.0",
         "x": [
          0.1702211499,
          0.1692114919,
          0.1682019383,
          0.1682019383,
          0.1676971763,
          0.1666875035,
          0.1651730686,
          0.1641634107,
          0.1631538719,
          0.1626489758,
          0.1621442139,
          0.1621442139,
          0.1626489758,
          0.1631538719,
          0.1631538719,
          0.1631538719,
          0.1626489758,
          0.1626489758,
          0.1626489758,
          0.1621442139,
          0.1611346602,
          0.1611346602,
          0.1616394371,
          0.1616394371,
          0.1611346602,
          0.1616394371,
          0.1611346602,
          0.1611346602,
          0.1606297791,
          0.1606297791,
          0.1606297791,
          0.1596202254,
          0.1596202254,
          0.1596202254,
          0.1591153443,
          0.1586105675,
          0.1591153443,
          0.1596202254,
          0.1591153443,
          0.1586105675,
          0.1586105675,
          0.1591153443,
          0.1591153443,
          0.1586105675,
          0.1586105675,
          0.1586105675,
          0.1586105675,
          0.1586105675,
          0.1586105675,
          0.1591153443,
          0.1591153443,
          0.1601250023,
          0.1611346602,
          0.1616394371,
          0.1636586487,
          0.1641634107,
          0.1656778455,
          0.1676971763,
          0.1682019383,
          0.1707259119,
          0.1712308079,
          0.1727452427,
          0.1747644544,
          0.1757739931,
          0.1757739931,
          0.1762788892,
          0.1757739931,
          0.1757739931,
          0.1747644544,
          0.1737547815,
          0.1737547815,
          0.1732500196,
          0.1727452427,
          0.1732500196,
          0.1737547815,
          0.1732500196,
          0.1737547815,
          0.1727452427,
          0.1722403467,
          0.1717355847,
          0.1707259119,
          0.1702211499,
          0.1692114919,
          0.1697163731,
          0.1692114919,
          0.1687067151,
          0.1687067151,
          0.1692114919,
          0.1682019383,
          0.1676971763,
          0.1661827415,
          0.1651730686,
          0.1641634107,
          0.1631538719,
          0.1616394371,
          0.1611346602,
          0.1601250023,
          0.1606297791,
          0.1601250023,
          0.1601250023
         ],
         "y": [
          0.19285994846846677,
          0.19211347004946333,
          0.19113383417838747,
          0.19113383417838747,
          0.19057847743478362,
          0.1893802781672349,
          0.18749621021537166,
          0.18628445300878127,
          0.1851900723654154,
          0.18470862988299075,
          0.1842829110863562,
          0.1842829110863562,
          0.18470862988299075,
          0.1851900723654154,
          0.1851900723654154,
          0.1851900723654154,
          0.18470862988299075,
          0.18470862988299075,
          0.18470862988299075,
          0.1842829110863562,
          0.1836332661045077,
          0.1836332661045077,
          0.18392153177215675,
          0.18392153177215675,
          0.1836332661045077,
          0.18392153177215675,
          0.1836332661045077,
          0.1836332661045077,
          0.18342684140039012,
          0.18342684140039012,
          0.18342684140039012,
          0.18329476681292078,
          0.18329476681292078,
          0.18329476681292078,
          0.1833866178589716,
          0.1835953826412009,
          0.1833866178589716,
          0.18329476681292078,
          0.1833866178589716,
          0.1835953826412009,
          0.1835953826412009,
          0.1833866178589716,
          0.1833866178589716,
          0.1835953826412009,
          0.1835953826412009,
          0.1835953826412009,
          0.1835953826412009,
          0.1835953826412009,
          0.1835953826412009,
          0.1833866178589716,
          0.1833866178589716,
          0.1833111051745675,
          0.1836332661045077,
          0.18392153177215675,
          0.18571823684844446,
          0.18628445300878127,
          0.18812408644458856,
          0.19057847743478362,
          0.19113383417838747,
          0.19312377367562306,
          0.1933030504754072,
          0.19324553062430994,
          0.19145286148379626,
          0.18966353514248624,
          0.18966353514248624,
          0.18851464570407472,
          0.18966353514248624,
          0.18966353514248624,
          0.19145286148379626,
          0.1926236000623902,
          0.1926236000623902,
          0.19299875716879455,
          0.19324553062430994,
          0.19299875716879455,
          0.1926236000623902,
          0.19299875716879455,
          0.1926236000623902,
          0.19324553062430994,
          0.19337268464379065,
          0.1933889228203185,
          0.19312377367562306,
          0.19285994846846677,
          0.19211347004946333,
          0.19252028830392476,
          0.19211347004946333,
          0.1916484242428993,
          0.1916484242428993,
          0.19211347004946333,
          0.19113383417838747,
          0.19057847743478362,
          0.18875513526519683,
          0.18749621021537166,
          0.18628445300878127,
          0.1851900723654154,
          0.18392153177215675,
          0.1836332661045077,
          0.1833111051745675,
          0.18342684140039012,
          0.1833111051745675,
          0.1833111051745675
         ],
         "type": "scatter"
        },
        {
         "line": {
          "color": "lightgrey",
          "dash": "dash"
         },
         "mode": "lines",
         "name": "Нижняя граница",
         "x": [
          0.1702211499,
          0.1692114919,
          0.1682019383,
          0.1682019383,
          0.1676971763,
          0.1666875035,
          0.1651730686,
          0.1641634107,
          0.1631538719,
          0.1626489758,
          0.1621442139,
          0.1621442139,
          0.1626489758,
          0.1631538719,
          0.1631538719,
          0.1631538719,
          0.1626489758,
          0.1626489758,
          0.1626489758,
          0.1621442139,
          0.1611346602,
          0.1611346602,
          0.1616394371,
          0.1616394371,
          0.1611346602,
          0.1616394371,
          0.1611346602,
          0.1611346602,
          0.1606297791,
          0.1606297791,
          0.1606297791,
          0.1596202254,
          0.1596202254,
          0.1596202254,
          0.1591153443,
          0.1586105675,
          0.1591153443,
          0.1596202254,
          0.1591153443,
          0.1586105675,
          0.1586105675,
          0.1591153443,
          0.1591153443,
          0.1586105675,
          0.1586105675,
          0.1586105675,
          0.1586105675,
          0.1586105675,
          0.1586105675,
          0.1591153443,
          0.1591153443,
          0.1601250023,
          0.1611346602,
          0.1616394371,
          0.1636586487,
          0.1641634107,
          0.1656778455,
          0.1676971763,
          0.1682019383,
          0.1707259119,
          0.1712308079,
          0.1727452427,
          0.1747644544,
          0.1757739931,
          0.1757739931,
          0.1762788892,
          0.1757739931,
          0.1757739931,
          0.1747644544,
          0.1737547815,
          0.1737547815,
          0.1732500196,
          0.1727452427,
          0.1732500196,
          0.1737547815,
          0.1732500196,
          0.1737547815,
          0.1727452427,
          0.1722403467,
          0.1717355847,
          0.1707259119,
          0.1702211499,
          0.1692114919,
          0.1697163731,
          0.1692114919,
          0.1687067151,
          0.1687067151,
          0.1692114919,
          0.1682019383,
          0.1676971763,
          0.1661827415,
          0.1651730686,
          0.1641634107,
          0.1631538719,
          0.1616394371,
          0.1611346602,
          0.1601250023,
          0.1606297791,
          0.1601250023,
          0.1601250023
         ],
         "y": [
          0.1821456894849876,
          0.18139921106598417,
          0.1804195751949083,
          0.1804195751949083,
          0.17986421845130446,
          0.17866601918375574,
          0.1767819512318925,
          0.1755701940253021,
          0.17447581338193624,
          0.17399437089951159,
          0.17356865210287703,
          0.17356865210287703,
          0.17399437089951159,
          0.17447581338193624,
          0.17447581338193624,
          0.17447581338193624,
          0.17399437089951159,
          0.17399437089951159,
          0.17399437089951159,
          0.17356865210287703,
          0.17291900712102853,
          0.17291900712102853,
          0.1732072727886776,
          0.1732072727886776,
          0.17291900712102853,
          0.1732072727886776,
          0.17291900712102853,
          0.17291900712102853,
          0.17271258241691095,
          0.17271258241691095,
          0.17271258241691095,
          0.17258050782944162,
          0.17258050782944162,
          0.17258050782944162,
          0.17267235887549243,
          0.17288112365772174,
          0.17267235887549243,
          0.17258050782944162,
          0.17267235887549243,
          0.17288112365772174,
          0.17288112365772174,
          0.17267235887549243,
          0.17267235887549243,
          0.17288112365772174,
          0.17288112365772174,
          0.17288112365772174,
          0.17288112365772174,
          0.17288112365772174,
          0.17288112365772174,
          0.17267235887549243,
          0.17267235887549243,
          0.17259684619108834,
          0.17291900712102853,
          0.1732072727886776,
          0.1750039778649653,
          0.1755701940253021,
          0.1774098274611094,
          0.17986421845130446,
          0.1804195751949083,
          0.1824095146921439,
          0.18258879149192803,
          0.18253127164083077,
          0.1807386025003171,
          0.17894927615900708,
          0.17894927615900708,
          0.17780038672059556,
          0.17894927615900708,
          0.17894927615900708,
          0.1807386025003171,
          0.18190934107891105,
          0.18190934107891105,
          0.1822844981853154,
          0.18253127164083077,
          0.1822844981853154,
          0.18190934107891105,
          0.1822844981853154,
          0.18190934107891105,
          0.18253127164083077,
          0.18265842566031149,
          0.18267466383683933,
          0.1824095146921439,
          0.1821456894849876,
          0.18139921106598417,
          0.1818060293204456,
          0.18139921106598417,
          0.18093416525942013,
          0.18093416525942013,
          0.18139921106598417,
          0.1804195751949083,
          0.17986421845130446,
          0.17804087628171766,
          0.1767819512318925,
          0.1755701940253021,
          0.17447581338193624,
          0.1732072727886776,
          0.17291900712102853,
          0.17259684619108834,
          0.17271258241691095,
          0.17259684619108834,
          0.17259684619108834
         ],
         "type": "scatter"
        },
        {
         "line": {
          "color": "lightgrey",
          "dash": "dash"
         },
         "mode": "lines",
         "name": "Верхняя граница",
         "x": [
          0.1702211499,
          0.1692114919,
          0.1682019383,
          0.1682019383,
          0.1676971763,
          0.1666875035,
          0.1651730686,
          0.1641634107,
          0.1631538719,
          0.1626489758,
          0.1621442139,
          0.1621442139,
          0.1626489758,
          0.1631538719,
          0.1631538719,
          0.1631538719,
          0.1626489758,
          0.1626489758,
          0.1626489758,
          0.1621442139,
          0.1611346602,
          0.1611346602,
          0.1616394371,
          0.1616394371,
          0.1611346602,
          0.1616394371,
          0.1611346602,
          0.1611346602,
          0.1606297791,
          0.1606297791,
          0.1606297791,
          0.1596202254,
          0.1596202254,
          0.1596202254,
          0.1591153443,
          0.1586105675,
          0.1591153443,
          0.1596202254,
          0.1591153443,
          0.1586105675,
          0.1586105675,
          0.1591153443,
          0.1591153443,
          0.1586105675,
          0.1586105675,
          0.1586105675,
          0.1586105675,
          0.1586105675,
          0.1586105675,
          0.1591153443,
          0.1591153443,
          0.1601250023,
          0.1611346602,
          0.1616394371,
          0.1636586487,
          0.1641634107,
          0.1656778455,
          0.1676971763,
          0.1682019383,
          0.1707259119,
          0.1712308079,
          0.1727452427,
          0.1747644544,
          0.1757739931,
          0.1757739931,
          0.1762788892,
          0.1757739931,
          0.1757739931,
          0.1747644544,
          0.1737547815,
          0.1737547815,
          0.1732500196,
          0.1727452427,
          0.1732500196,
          0.1737547815,
          0.1732500196,
          0.1737547815,
          0.1727452427,
          0.1722403467,
          0.1717355847,
          0.1707259119,
          0.1702211499,
          0.1692114919,
          0.1697163731,
          0.1692114919,
          0.1687067151,
          0.1687067151,
          0.1692114919,
          0.1682019383,
          0.1676971763,
          0.1661827415,
          0.1651730686,
          0.1641634107,
          0.1631538719,
          0.1616394371,
          0.1611346602,
          0.1601250023,
          0.1606297791,
          0.1601250023,
          0.1601250023
         ],
         "y": [
          0.20357420745194593,
          0.2028277290329425,
          0.20184809316186664,
          0.20184809316186664,
          0.20129273641826279,
          0.20009453715071407,
          0.19821046919885082,
          0.19699871199226043,
          0.19590433134889457,
          0.1954228888664699,
          0.19499717006983536,
          0.19499717006983536,
          0.1954228888664699,
          0.19590433134889457,
          0.19590433134889457,
          0.19590433134889457,
          0.1954228888664699,
          0.1954228888664699,
          0.1954228888664699,
          0.19499717006983536,
          0.19434752508798686,
          0.19434752508798686,
          0.19463579075563592,
          0.19463579075563592,
          0.19434752508798686,
          0.19463579075563592,
          0.19434752508798686,
          0.19434752508798686,
          0.19414110038386928,
          0.19414110038386928,
          0.19414110038386928,
          0.19400902579639995,
          0.19400902579639995,
          0.19400902579639995,
          0.19410087684245075,
          0.19430964162468006,
          0.19410087684245075,
          0.19400902579639995,
          0.19410087684245075,
          0.19430964162468006,
          0.19430964162468006,
          0.19410087684245075,
          0.19410087684245075,
          0.19430964162468006,
          0.19430964162468006,
          0.19430964162468006,
          0.19430964162468006,
          0.19430964162468006,
          0.19430964162468006,
          0.19410087684245075,
          0.19410087684245075,
          0.19402536415804666,
          0.19434752508798686,
          0.19463579075563592,
          0.19643249583192363,
          0.19699871199226043,
          0.19883834542806772,
          0.20129273641826279,
          0.20184809316186664,
          0.20383803265910222,
          0.20401730945888635,
          0.2039597896077891,
          0.20216712046727542,
          0.2003777941259654,
          0.2003777941259654,
          0.1992289046875539,
          0.2003777941259654,
          0.2003777941259654,
          0.20216712046727542,
          0.20333785904586937,
          0.20333785904586937,
          0.20371301615227372,
          0.2039597896077891,
          0.20371301615227372,
          0.20333785904586937,
          0.20371301615227372,
          0.20333785904586937,
          0.2039597896077891,
          0.2040869436272698,
          0.20410318180379766,
          0.20383803265910222,
          0.20357420745194593,
          0.2028277290329425,
          0.20323454728740392,
          0.2028277290329425,
          0.20236268322637846,
          0.20236268322637846,
          0.2028277290329425,
          0.20184809316186664,
          0.20129273641826279,
          0.199469394248676,
          0.19821046919885082,
          0.19699871199226043,
          0.19590433134889457,
          0.19463579075563592,
          0.19434752508798686,
          0.19402536415804666,
          0.19414110038386928,
          0.19402536415804666,
          0.19402536415804666
         ],
         "type": "scatter"
        }
       ],
       "layout": {
        "template": {
         "data": {
          "barpolar": [
           {
            "marker": {
             "line": {
              "color": "white",
              "width": 0.5
             },
             "pattern": {
              "fillmode": "overlay",
              "size": 10,
              "solidity": 0.2
             }
            },
            "type": "barpolar"
           }
          ],
          "bar": [
           {
            "error_x": {
             "color": "#2a3f5f"
            },
            "error_y": {
             "color": "#2a3f5f"
            },
            "marker": {
             "line": {
              "color": "white",
              "width": 0.5
             },
             "pattern": {
              "fillmode": "overlay",
              "size": 10,
              "solidity": 0.2
             }
            },
            "type": "bar"
           }
          ],
          "carpet": [
           {
            "aaxis": {
             "endlinecolor": "#2a3f5f",
             "gridcolor": "#C8D4E3",
             "linecolor": "#C8D4E3",
             "minorgridcolor": "#C8D4E3",
             "startlinecolor": "#2a3f5f"
            },
            "baxis": {
             "endlinecolor": "#2a3f5f",
             "gridcolor": "#C8D4E3",
             "linecolor": "#C8D4E3",
             "minorgridcolor": "#C8D4E3",
             "startlinecolor": "#2a3f5f"
            },
            "type": "carpet"
           }
          ],
          "choropleth": [
           {
            "colorbar": {
             "outlinewidth": 0,
             "ticks": ""
            },
            "type": "choropleth"
           }
          ],
          "contourcarpet": [
           {
            "colorbar": {
             "outlinewidth": 0,
             "ticks": ""
            },
            "type": "contourcarpet"
           }
          ],
          "contour": [
           {
            "colorbar": {
             "outlinewidth": 0,
             "ticks": ""
            },
            "colorscale": [
             [
              0.0,
              "#0d0887"
             ],
             [
              0.1111111111111111,
              "#46039f"
             ],
             [
              0.2222222222222222,
              "#7201a8"
             ],
             [
              0.3333333333333333,
              "#9c179e"
             ],
             [
              0.4444444444444444,
              "#bd3786"
             ],
             [
              0.5555555555555556,
              "#d8576b"
             ],
             [
              0.6666666666666666,
              "#ed7953"
             ],
             [
              0.7777777777777778,
              "#fb9f3a"
             ],
             [
              0.8888888888888888,
              "#fdca26"
             ],
             [
              1.0,
              "#f0f921"
             ]
            ],
            "type": "contour"
           }
          ],
          "heatmapgl": [
           {
            "colorbar": {
             "outlinewidth": 0,
             "ticks": ""
            },
            "colorscale": [
             [
              0.0,
              "#0d0887"
             ],
             [
              0.1111111111111111,
              "#46039f"
             ],
             [
              0.2222222222222222,
              "#7201a8"
             ],
             [
              0.3333333333333333,
              "#9c179e"
             ],
             [
              0.4444444444444444,
              "#bd3786"
             ],
             [
              0.5555555555555556,
              "#d8576b"
             ],
             [
              0.6666666666666666,
              "#ed7953"
             ],
             [
              0.7777777777777778,
              "#fb9f3a"
             ],
             [
              0.8888888888888888,
              "#fdca26"
             ],
             [
              1.0,
              "#f0f921"
             ]
            ],
            "type": "heatmapgl"
           }
          ],
          "heatmap": [
           {
            "colorbar": {
             "outlinewidth": 0,
             "ticks": ""
            },
            "colorscale": [
             [
              0.0,
              "#0d0887"
             ],
             [
              0.1111111111111111,
              "#46039f"
             ],
             [
              0.2222222222222222,
              "#7201a8"
             ],
             [
              0.3333333333333333,
              "#9c179e"
             ],
             [
              0.4444444444444444,
              "#bd3786"
             ],
             [
              0.5555555555555556,
              "#d8576b"
             ],
             [
              0.6666666666666666,
              "#ed7953"
             ],
             [
              0.7777777777777778,
              "#fb9f3a"
             ],
             [
              0.8888888888888888,
              "#fdca26"
             ],
             [
              1.0,
              "#f0f921"
             ]
            ],
            "type": "heatmap"
           }
          ],
          "histogram2dcontour": [
           {
            "colorbar": {
             "outlinewidth": 0,
             "ticks": ""
            },
            "colorscale": [
             [
              0.0,
              "#0d0887"
             ],
             [
              0.1111111111111111,
              "#46039f"
             ],
             [
              0.2222222222222222,
              "#7201a8"
             ],
             [
              0.3333333333333333,
              "#9c179e"
             ],
             [
              0.4444444444444444,
              "#bd3786"
             ],
             [
              0.5555555555555556,
              "#d8576b"
             ],
             [
              0.6666666666666666,
              "#ed7953"
             ],
             [
              0.7777777777777778,
              "#fb9f3a"
             ],
             [
              0.8888888888888888,
              "#fdca26"
             ],
             [
              1.0,
              "#f0f921"
             ]
            ],
            "type": "histogram2dcontour"
           }
          ],
          "histogram2d": [
           {
            "colorbar": {
             "outlinewidth": 0,
             "ticks": ""
            },
            "colorscale": [
             [
              0.0,
              "#0d0887"
             ],
             [
              0.1111111111111111,
              "#46039f"
             ],
             [
              0.2222222222222222,
              "#7201a8"
             ],
             [
              0.3333333333333333,
              "#9c179e"
             ],
             [
              0.4444444444444444,
              "#bd3786"
             ],
             [
              0.5555555555555556,
              "#d8576b"
             ],
             [
              0.6666666666666666,
              "#ed7953"
             ],
             [
              0.7777777777777778,
              "#fb9f3a"
             ],
             [
              0.8888888888888888,
              "#fdca26"
             ],
             [
              1.0,
              "#f0f921"
             ]
            ],
            "type": "histogram2d"
           }
          ],
          "histogram": [
           {
            "marker": {
             "pattern": {
              "fillmode": "overlay",
              "size": 10,
              "solidity": 0.2
             }
            },
            "type": "histogram"
           }
          ],
          "mesh3d": [
           {
            "colorbar": {
             "outlinewidth": 0,
             "ticks": ""
            },
            "type": "mesh3d"
           }
          ],
          "parcoords": [
           {
            "line": {
             "colorbar": {
              "outlinewidth": 0,
              "ticks": ""
             }
            },
            "type": "parcoords"
           }
          ],
          "pie": [
           {
            "automargin": true,
            "type": "pie"
           }
          ],
          "scatter3d": [
           {
            "line": {
             "colorbar": {
              "outlinewidth": 0,
              "ticks": ""
             }
            },
            "marker": {
             "colorbar": {
              "outlinewidth": 0,
              "ticks": ""
             }
            },
            "type": "scatter3d"
           }
          ],
          "scattercarpet": [
           {
            "marker": {
             "colorbar": {
              "outlinewidth": 0,
              "ticks": ""
             }
            },
            "type": "scattercarpet"
           }
          ],
          "scattergeo": [
           {
            "marker": {
             "colorbar": {
              "outlinewidth": 0,
              "ticks": ""
             }
            },
            "type": "scattergeo"
           }
          ],
          "scattergl": [
           {
            "marker": {
             "colorbar": {
              "outlinewidth": 0,
              "ticks": ""
             }
            },
            "type": "scattergl"
           }
          ],
          "scattermapbox": [
           {
            "marker": {
             "colorbar": {
              "outlinewidth": 0,
              "ticks": ""
             }
            },
            "type": "scattermapbox"
           }
          ],
          "scatterpolargl": [
           {
            "marker": {
             "colorbar": {
              "outlinewidth": 0,
              "ticks": ""
             }
            },
            "type": "scatterpolargl"
           }
          ],
          "scatterpolar": [
           {
            "marker": {
             "colorbar": {
              "outlinewidth": 0,
              "ticks": ""
             }
            },
            "type": "scatterpolar"
           }
          ],
          "scatter": [
           {
            "fillpattern": {
             "fillmode": "overlay",
             "size": 10,
             "solidity": 0.2
            },
            "type": "scatter"
           }
          ],
          "scatterternary": [
           {
            "marker": {
             "colorbar": {
              "outlinewidth": 0,
              "ticks": ""
             }
            },
            "type": "scatterternary"
           }
          ],
          "surface": [
           {
            "colorbar": {
             "outlinewidth": 0,
             "ticks": ""
            },
            "colorscale": [
             [
              0.0,
              "#0d0887"
             ],
             [
              0.1111111111111111,
              "#46039f"
             ],
             [
              0.2222222222222222,
              "#7201a8"
             ],
             [
              0.3333333333333333,
              "#9c179e"
             ],
             [
              0.4444444444444444,
              "#bd3786"
             ],
             [
              0.5555555555555556,
              "#d8576b"
             ],
             [
              0.6666666666666666,
              "#ed7953"
             ],
             [
              0.7777777777777778,
              "#fb9f3a"
             ],
             [
              0.8888888888888888,
              "#fdca26"
             ],
             [
              1.0,
              "#f0f921"
             ]
            ],
            "type": "surface"
           }
          ],
          "table": [
           {
            "cells": {
             "fill": {
              "color": "#EBF0F8"
             },
             "line": {
              "color": "white"
             }
            },
            "header": {
             "fill": {
              "color": "#C8D4E3"
             },
             "line": {
              "color": "white"
             }
            },
            "type": "table"
           }
          ]
         },
         "layout": {
          "annotationdefaults": {
           "arrowcolor": "#2a3f5f",
           "arrowhead": 0,
           "arrowwidth": 1
          },
          "autotypenumbers": "strict",
          "coloraxis": {
           "colorbar": {
            "outlinewidth": 0,
            "ticks": ""
           }
          },
          "colorscale": {
           "diverging": [
            [
             0,
             "#8e0152"
            ],
            [
             0.1,
             "#c51b7d"
            ],
            [
             0.2,
             "#de77ae"
            ],
            [
             0.3,
             "#f1b6da"
            ],
            [
             0.4,
             "#fde0ef"
            ],
            [
             0.5,
             "#f7f7f7"
            ],
            [
             0.6,
             "#e6f5d0"
            ],
            [
             0.7,
             "#b8e186"
            ],
            [
             0.8,
             "#7fbc41"
            ],
            [
             0.9,
             "#4d9221"
            ],
            [
             1,
             "#276419"
            ]
           ],
           "sequential": [
            [
             0.0,
             "#0d0887"
            ],
            [
             0.1111111111111111,
             "#46039f"
            ],
            [
             0.2222222222222222,
             "#7201a8"
            ],
            [
             0.3333333333333333,
             "#9c179e"
            ],
            [
             0.4444444444444444,
             "#bd3786"
            ],
            [
             0.5555555555555556,
             "#d8576b"
            ],
            [
             0.6666666666666666,
             "#ed7953"
            ],
            [
             0.7777777777777778,
             "#fb9f3a"
            ],
            [
             0.8888888888888888,
             "#fdca26"
            ],
            [
             1.0,
             "#f0f921"
            ]
           ],
           "sequentialminus": [
            [
             0.0,
             "#0d0887"
            ],
            [
             0.1111111111111111,
             "#46039f"
            ],
            [
             0.2222222222222222,
             "#7201a8"
            ],
            [
             0.3333333333333333,
             "#9c179e"
            ],
            [
             0.4444444444444444,
             "#bd3786"
            ],
            [
             0.5555555555555556,
             "#d8576b"
            ],
            [
             0.6666666666666666,
             "#ed7953"
            ],
            [
             0.7777777777777778,
             "#fb9f3a"
            ],
            [
             0.8888888888888888,
             "#fdca26"
            ],
            [
             1.0,
             "#f0f921"
            ]
           ]
          },
          "colorway": [
           "#636efa",
           "#EF553B",
           "#00cc96",
           "#ab63fa",
           "#FFA15A",
           "#19d3f3",
           "#FF6692",
           "#B6E880",
           "#FF97FF",
           "#FECB52"
          ],
          "font": {
           "color": "#2a3f5f"
          },
          "geo": {
           "bgcolor": "white",
           "lakecolor": "white",
           "landcolor": "white",
           "showlakes": true,
           "showland": true,
           "subunitcolor": "#C8D4E3"
          },
          "hoverlabel": {
           "align": "left"
          },
          "hovermode": "closest",
          "mapbox": {
           "style": "light"
          },
          "paper_bgcolor": "white",
          "plot_bgcolor": "white",
          "polar": {
           "angularaxis": {
            "gridcolor": "#EBF0F8",
            "linecolor": "#EBF0F8",
            "ticks": ""
           },
           "bgcolor": "white",
           "radialaxis": {
            "gridcolor": "#EBF0F8",
            "linecolor": "#EBF0F8",
            "ticks": ""
           }
          },
          "scene": {
           "xaxis": {
            "backgroundcolor": "white",
            "gridcolor": "#DFE8F3",
            "gridwidth": 2,
            "linecolor": "#EBF0F8",
            "showbackground": true,
            "ticks": "",
            "zerolinecolor": "#EBF0F8"
           },
           "yaxis": {
            "backgroundcolor": "white",
            "gridcolor": "#DFE8F3",
            "gridwidth": 2,
            "linecolor": "#EBF0F8",
            "showbackground": true,
            "ticks": "",
            "zerolinecolor": "#EBF0F8"
           },
           "zaxis": {
            "backgroundcolor": "white",
            "gridcolor": "#DFE8F3",
            "gridwidth": 2,
            "linecolor": "#EBF0F8",
            "showbackground": true,
            "ticks": "",
            "zerolinecolor": "#EBF0F8"
           }
          },
          "shapedefaults": {
           "line": {
            "color": "#2a3f5f"
           }
          },
          "ternary": {
           "aaxis": {
            "gridcolor": "#DFE8F3",
            "linecolor": "#A2B1C6",
            "ticks": ""
           },
           "baxis": {
            "gridcolor": "#DFE8F3",
            "linecolor": "#A2B1C6",
            "ticks": ""
           },
           "bgcolor": "white",
           "caxis": {
            "gridcolor": "#DFE8F3",
            "linecolor": "#A2B1C6",
            "ticks": ""
           }
          },
          "title": {
           "x": 0.05
          },
          "xaxis": {
           "automargin": true,
           "gridcolor": "#EBF0F8",
           "linecolor": "#EBF0F8",
           "ticks": "",
           "title": {
            "standoff": 15
           },
           "zerolinecolor": "#EBF0F8",
           "zerolinewidth": 2
          },
          "yaxis": {
           "automargin": true,
           "gridcolor": "#EBF0F8",
           "linecolor": "#EBF0F8",
           "ticks": "",
           "title": {
            "standoff": 15
           },
           "zerolinecolor": "#EBF0F8",
           "zerolinewidth": 2
          }
         }
        },
        "legend": {
         "x": 1.05,
         "y": 1,
         "traceorder": "normal",
         "orientation": "v"
        },
        "title": {
         "text": "Предполагаемая модель - Кубический"
        },
        "xaxis": {
         "title": {
          "text": "K2065G_2_POROSITY"
         }
        },
        "yaxis": {
         "title": {
          "text": "K2066G_2_POROSITY"
         }
        }
       },
       "config": {
        "plotlyServerURL": "https://plot.ly"
       }
      },
      "text/html": "<div>                            <div id=\"eb6e3e47-a9af-4e05-82fa-2115bddb1f9e\" class=\"plotly-graph-div\" style=\"height:525px; width:100%;\"></div>            <script type=\"text/javascript\">                require([\"plotly\"], function(Plotly) {                    window.PLOTLYENV=window.PLOTLYENV || {};                                    if (document.getElementById(\"eb6e3e47-a9af-4e05-82fa-2115bddb1f9e\")) {                    Plotly.newPlot(                        \"eb6e3e47-a9af-4e05-82fa-2115bddb1f9e\",                        [{\"marker\":{\"color\":\"blue\"},\"mode\":\"markers\",\"name\":\"\\u0414\\u0430\\u043d\\u043d\\u044b\\u0435\",\"x\":[0.1702211499,0.1692114919,0.1682019383,0.1682019383,0.1676971763,0.1666875035,0.1651730686,0.1641634107,0.1631538719,0.1626489758,0.1621442139,0.1621442139,0.1626489758,0.1631538719,0.1631538719,0.1631538719,0.1626489758,0.1626489758,0.1626489758,0.1621442139,0.1611346602,0.1611346602,0.1616394371,0.1616394371,0.1611346602,0.1616394371,0.1611346602,0.1611346602,0.1606297791,0.1606297791,0.1606297791,0.1596202254,0.1596202254,0.1596202254,0.1591153443,0.1586105675,0.1591153443,0.1596202254,0.1591153443,0.1586105675,0.1586105675,0.1591153443,0.1591153443,0.1586105675,0.1586105675,0.1586105675,0.1586105675,0.1586105675,0.1586105675,0.1591153443,0.1591153443,0.1601250023,0.1611346602,0.1616394371,0.1636586487,0.1641634107,0.1656778455,0.1676971763,0.1682019383,0.1707259119,0.1712308079,0.1727452427,0.1747644544,0.1757739931,0.1757739931,0.1762788892,0.1757739931,0.1757739931,0.1747644544,0.1737547815,0.1737547815,0.1732500196,0.1727452427,0.1732500196,0.1737547815,0.1732500196,0.1737547815,0.1727452427,0.1722403467,0.1717355847,0.1707259119,0.1702211499,0.1692114919,0.1697163731,0.1692114919,0.1687067151,0.1687067151,0.1692114919,0.1682019383,0.1676971763,0.1661827415,0.1651730686,0.1641634107,0.1631538719,0.1616394371,0.1611346602,0.1601250023,0.1606297791,0.1601250023,0.1601250023],\"y\":[0.1899086684,0.1899086684,0.1894038916,0.1878894567,0.1863750219,0.185365364,0.1843558252,0.1838509291,0.1823364943,0.1818317324,0.1818317324,0.1818317324,0.1813269556,0.1813269556,0.1818317324,0.1818317324,0.1813269556,0.1813269556,0.1813269556,0.1803172976,0.1798125207,0.1782980859,0.1782980859,0.1808220595,0.1813269556,0.1818317324,0.1833461523,0.1838509291,0.1843558252,0.1843558252,0.1843558252,0.1843558252,0.1838509291,0.1818317324,0.1823364943,0.1828413904,0.1833461523,0.1838509291,0.1843558252,0.1843558252,0.1843558252,0.1838509291,0.1833461523,0.1823364943,0.1818317324,0.1818317324,0.1813269556,0.1808220595,0.1803172976,0.1798125207,0.1793077439,0.1788028628,0.1777933091,0.1767836511,0.1772884279,0.1782980859,0.1793077439,0.1813269556,0.1833461523,0.1848605871,0.1863750219,0.1878894567,0.1894038916,0.1904134303,0.1904134303,0.1909183264,0.1914231032,0.1914231032,0.1909183264,0.1909183264,0.1909183264,0.1909183264,0.1909183264,0.1914231032,0.1919278651,0.192432642,0.192937538,0.1934423,0.1944519728,0.1949567348,0.1964711696,0.1974807084,0.1979856044,0.1989951432,0.1989951432,0.1989951432,0.1989951432,0.1989951432,0.1984903812,0.1979856044,0.1979856044,0.1974807084,0.1974807084,0.1969759464,0.1969759464,0.1964711696,0.1964711696,0.1964711696,0.1964711696,0.1964711696],\"type\":\"scatter\"},{\"line\":{\"color\":\"purple\"},\"mode\":\"lines\",\"name\":\"\\u041a\\u0443\\u0431\\u0438\\u0447\\u0435\\u0441\\u043a\\u0438\\u0439: y=-11352.5525x^3 + 5648.5335x^2 + -935.5703x + 51.7721, R\\u00b2=0.3441, SSR = 0.0\",\"x\":[0.1702211499,0.1692114919,0.1682019383,0.1682019383,0.1676971763,0.1666875035,0.1651730686,0.1641634107,0.1631538719,0.1626489758,0.1621442139,0.1621442139,0.1626489758,0.1631538719,0.1631538719,0.1631538719,0.1626489758,0.1626489758,0.1626489758,0.1621442139,0.1611346602,0.1611346602,0.1616394371,0.1616394371,0.1611346602,0.1616394371,0.1611346602,0.1611346602,0.1606297791,0.1606297791,0.1606297791,0.1596202254,0.1596202254,0.1596202254,0.1591153443,0.1586105675,0.1591153443,0.1596202254,0.1591153443,0.1586105675,0.1586105675,0.1591153443,0.1591153443,0.1586105675,0.1586105675,0.1586105675,0.1586105675,0.1586105675,0.1586105675,0.1591153443,0.1591153443,0.1601250023,0.1611346602,0.1616394371,0.1636586487,0.1641634107,0.1656778455,0.1676971763,0.1682019383,0.1707259119,0.1712308079,0.1727452427,0.1747644544,0.1757739931,0.1757739931,0.1762788892,0.1757739931,0.1757739931,0.1747644544,0.1737547815,0.1737547815,0.1732500196,0.1727452427,0.1732500196,0.1737547815,0.1732500196,0.1737547815,0.1727452427,0.1722403467,0.1717355847,0.1707259119,0.1702211499,0.1692114919,0.1697163731,0.1692114919,0.1687067151,0.1687067151,0.1692114919,0.1682019383,0.1676971763,0.1661827415,0.1651730686,0.1641634107,0.1631538719,0.1616394371,0.1611346602,0.1601250023,0.1606297791,0.1601250023,0.1601250023],\"y\":[0.19285994846846677,0.19211347004946333,0.19113383417838747,0.19113383417838747,0.19057847743478362,0.1893802781672349,0.18749621021537166,0.18628445300878127,0.1851900723654154,0.18470862988299075,0.1842829110863562,0.1842829110863562,0.18470862988299075,0.1851900723654154,0.1851900723654154,0.1851900723654154,0.18470862988299075,0.18470862988299075,0.18470862988299075,0.1842829110863562,0.1836332661045077,0.1836332661045077,0.18392153177215675,0.18392153177215675,0.1836332661045077,0.18392153177215675,0.1836332661045077,0.1836332661045077,0.18342684140039012,0.18342684140039012,0.18342684140039012,0.18329476681292078,0.18329476681292078,0.18329476681292078,0.1833866178589716,0.1835953826412009,0.1833866178589716,0.18329476681292078,0.1833866178589716,0.1835953826412009,0.1835953826412009,0.1833866178589716,0.1833866178589716,0.1835953826412009,0.1835953826412009,0.1835953826412009,0.1835953826412009,0.1835953826412009,0.1835953826412009,0.1833866178589716,0.1833866178589716,0.1833111051745675,0.1836332661045077,0.18392153177215675,0.18571823684844446,0.18628445300878127,0.18812408644458856,0.19057847743478362,0.19113383417838747,0.19312377367562306,0.1933030504754072,0.19324553062430994,0.19145286148379626,0.18966353514248624,0.18966353514248624,0.18851464570407472,0.18966353514248624,0.18966353514248624,0.19145286148379626,0.1926236000623902,0.1926236000623902,0.19299875716879455,0.19324553062430994,0.19299875716879455,0.1926236000623902,0.19299875716879455,0.1926236000623902,0.19324553062430994,0.19337268464379065,0.1933889228203185,0.19312377367562306,0.19285994846846677,0.19211347004946333,0.19252028830392476,0.19211347004946333,0.1916484242428993,0.1916484242428993,0.19211347004946333,0.19113383417838747,0.19057847743478362,0.18875513526519683,0.18749621021537166,0.18628445300878127,0.1851900723654154,0.18392153177215675,0.1836332661045077,0.1833111051745675,0.18342684140039012,0.1833111051745675,0.1833111051745675],\"type\":\"scatter\"},{\"line\":{\"color\":\"lightgrey\",\"dash\":\"dash\"},\"mode\":\"lines\",\"name\":\"\\u041d\\u0438\\u0436\\u043d\\u044f\\u044f \\u0433\\u0440\\u0430\\u043d\\u0438\\u0446\\u0430\",\"x\":[0.1702211499,0.1692114919,0.1682019383,0.1682019383,0.1676971763,0.1666875035,0.1651730686,0.1641634107,0.1631538719,0.1626489758,0.1621442139,0.1621442139,0.1626489758,0.1631538719,0.1631538719,0.1631538719,0.1626489758,0.1626489758,0.1626489758,0.1621442139,0.1611346602,0.1611346602,0.1616394371,0.1616394371,0.1611346602,0.1616394371,0.1611346602,0.1611346602,0.1606297791,0.1606297791,0.1606297791,0.1596202254,0.1596202254,0.1596202254,0.1591153443,0.1586105675,0.1591153443,0.1596202254,0.1591153443,0.1586105675,0.1586105675,0.1591153443,0.1591153443,0.1586105675,0.1586105675,0.1586105675,0.1586105675,0.1586105675,0.1586105675,0.1591153443,0.1591153443,0.1601250023,0.1611346602,0.1616394371,0.1636586487,0.1641634107,0.1656778455,0.1676971763,0.1682019383,0.1707259119,0.1712308079,0.1727452427,0.1747644544,0.1757739931,0.1757739931,0.1762788892,0.1757739931,0.1757739931,0.1747644544,0.1737547815,0.1737547815,0.1732500196,0.1727452427,0.1732500196,0.1737547815,0.1732500196,0.1737547815,0.1727452427,0.1722403467,0.1717355847,0.1707259119,0.1702211499,0.1692114919,0.1697163731,0.1692114919,0.1687067151,0.1687067151,0.1692114919,0.1682019383,0.1676971763,0.1661827415,0.1651730686,0.1641634107,0.1631538719,0.1616394371,0.1611346602,0.1601250023,0.1606297791,0.1601250023,0.1601250023],\"y\":[0.1821456894849876,0.18139921106598417,0.1804195751949083,0.1804195751949083,0.17986421845130446,0.17866601918375574,0.1767819512318925,0.1755701940253021,0.17447581338193624,0.17399437089951159,0.17356865210287703,0.17356865210287703,0.17399437089951159,0.17447581338193624,0.17447581338193624,0.17447581338193624,0.17399437089951159,0.17399437089951159,0.17399437089951159,0.17356865210287703,0.17291900712102853,0.17291900712102853,0.1732072727886776,0.1732072727886776,0.17291900712102853,0.1732072727886776,0.17291900712102853,0.17291900712102853,0.17271258241691095,0.17271258241691095,0.17271258241691095,0.17258050782944162,0.17258050782944162,0.17258050782944162,0.17267235887549243,0.17288112365772174,0.17267235887549243,0.17258050782944162,0.17267235887549243,0.17288112365772174,0.17288112365772174,0.17267235887549243,0.17267235887549243,0.17288112365772174,0.17288112365772174,0.17288112365772174,0.17288112365772174,0.17288112365772174,0.17288112365772174,0.17267235887549243,0.17267235887549243,0.17259684619108834,0.17291900712102853,0.1732072727886776,0.1750039778649653,0.1755701940253021,0.1774098274611094,0.17986421845130446,0.1804195751949083,0.1824095146921439,0.18258879149192803,0.18253127164083077,0.1807386025003171,0.17894927615900708,0.17894927615900708,0.17780038672059556,0.17894927615900708,0.17894927615900708,0.1807386025003171,0.18190934107891105,0.18190934107891105,0.1822844981853154,0.18253127164083077,0.1822844981853154,0.18190934107891105,0.1822844981853154,0.18190934107891105,0.18253127164083077,0.18265842566031149,0.18267466383683933,0.1824095146921439,0.1821456894849876,0.18139921106598417,0.1818060293204456,0.18139921106598417,0.18093416525942013,0.18093416525942013,0.18139921106598417,0.1804195751949083,0.17986421845130446,0.17804087628171766,0.1767819512318925,0.1755701940253021,0.17447581338193624,0.1732072727886776,0.17291900712102853,0.17259684619108834,0.17271258241691095,0.17259684619108834,0.17259684619108834],\"type\":\"scatter\"},{\"line\":{\"color\":\"lightgrey\",\"dash\":\"dash\"},\"mode\":\"lines\",\"name\":\"\\u0412\\u0435\\u0440\\u0445\\u043d\\u044f\\u044f \\u0433\\u0440\\u0430\\u043d\\u0438\\u0446\\u0430\",\"x\":[0.1702211499,0.1692114919,0.1682019383,0.1682019383,0.1676971763,0.1666875035,0.1651730686,0.1641634107,0.1631538719,0.1626489758,0.1621442139,0.1621442139,0.1626489758,0.1631538719,0.1631538719,0.1631538719,0.1626489758,0.1626489758,0.1626489758,0.1621442139,0.1611346602,0.1611346602,0.1616394371,0.1616394371,0.1611346602,0.1616394371,0.1611346602,0.1611346602,0.1606297791,0.1606297791,0.1606297791,0.1596202254,0.1596202254,0.1596202254,0.1591153443,0.1586105675,0.1591153443,0.1596202254,0.1591153443,0.1586105675,0.1586105675,0.1591153443,0.1591153443,0.1586105675,0.1586105675,0.1586105675,0.1586105675,0.1586105675,0.1586105675,0.1591153443,0.1591153443,0.1601250023,0.1611346602,0.1616394371,0.1636586487,0.1641634107,0.1656778455,0.1676971763,0.1682019383,0.1707259119,0.1712308079,0.1727452427,0.1747644544,0.1757739931,0.1757739931,0.1762788892,0.1757739931,0.1757739931,0.1747644544,0.1737547815,0.1737547815,0.1732500196,0.1727452427,0.1732500196,0.1737547815,0.1732500196,0.1737547815,0.1727452427,0.1722403467,0.1717355847,0.1707259119,0.1702211499,0.1692114919,0.1697163731,0.1692114919,0.1687067151,0.1687067151,0.1692114919,0.1682019383,0.1676971763,0.1661827415,0.1651730686,0.1641634107,0.1631538719,0.1616394371,0.1611346602,0.1601250023,0.1606297791,0.1601250023,0.1601250023],\"y\":[0.20357420745194593,0.2028277290329425,0.20184809316186664,0.20184809316186664,0.20129273641826279,0.20009453715071407,0.19821046919885082,0.19699871199226043,0.19590433134889457,0.1954228888664699,0.19499717006983536,0.19499717006983536,0.1954228888664699,0.19590433134889457,0.19590433134889457,0.19590433134889457,0.1954228888664699,0.1954228888664699,0.1954228888664699,0.19499717006983536,0.19434752508798686,0.19434752508798686,0.19463579075563592,0.19463579075563592,0.19434752508798686,0.19463579075563592,0.19434752508798686,0.19434752508798686,0.19414110038386928,0.19414110038386928,0.19414110038386928,0.19400902579639995,0.19400902579639995,0.19400902579639995,0.19410087684245075,0.19430964162468006,0.19410087684245075,0.19400902579639995,0.19410087684245075,0.19430964162468006,0.19430964162468006,0.19410087684245075,0.19410087684245075,0.19430964162468006,0.19430964162468006,0.19430964162468006,0.19430964162468006,0.19430964162468006,0.19430964162468006,0.19410087684245075,0.19410087684245075,0.19402536415804666,0.19434752508798686,0.19463579075563592,0.19643249583192363,0.19699871199226043,0.19883834542806772,0.20129273641826279,0.20184809316186664,0.20383803265910222,0.20401730945888635,0.2039597896077891,0.20216712046727542,0.2003777941259654,0.2003777941259654,0.1992289046875539,0.2003777941259654,0.2003777941259654,0.20216712046727542,0.20333785904586937,0.20333785904586937,0.20371301615227372,0.2039597896077891,0.20371301615227372,0.20333785904586937,0.20371301615227372,0.20333785904586937,0.2039597896077891,0.2040869436272698,0.20410318180379766,0.20383803265910222,0.20357420745194593,0.2028277290329425,0.20323454728740392,0.2028277290329425,0.20236268322637846,0.20236268322637846,0.2028277290329425,0.20184809316186664,0.20129273641826279,0.199469394248676,0.19821046919885082,0.19699871199226043,0.19590433134889457,0.19463579075563592,0.19434752508798686,0.19402536415804666,0.19414110038386928,0.19402536415804666,0.19402536415804666],\"type\":\"scatter\"}],                        {\"template\":{\"data\":{\"barpolar\":[{\"marker\":{\"line\":{\"color\":\"white\",\"width\":0.5},\"pattern\":{\"fillmode\":\"overlay\",\"size\":10,\"solidity\":0.2}},\"type\":\"barpolar\"}],\"bar\":[{\"error_x\":{\"color\":\"#2a3f5f\"},\"error_y\":{\"color\":\"#2a3f5f\"},\"marker\":{\"line\":{\"color\":\"white\",\"width\":0.5},\"pattern\":{\"fillmode\":\"overlay\",\"size\":10,\"solidity\":0.2}},\"type\":\"bar\"}],\"carpet\":[{\"aaxis\":{\"endlinecolor\":\"#2a3f5f\",\"gridcolor\":\"#C8D4E3\",\"linecolor\":\"#C8D4E3\",\"minorgridcolor\":\"#C8D4E3\",\"startlinecolor\":\"#2a3f5f\"},\"baxis\":{\"endlinecolor\":\"#2a3f5f\",\"gridcolor\":\"#C8D4E3\",\"linecolor\":\"#C8D4E3\",\"minorgridcolor\":\"#C8D4E3\",\"startlinecolor\":\"#2a3f5f\"},\"type\":\"carpet\"}],\"choropleth\":[{\"colorbar\":{\"outlinewidth\":0,\"ticks\":\"\"},\"type\":\"choropleth\"}],\"contourcarpet\":[{\"colorbar\":{\"outlinewidth\":0,\"ticks\":\"\"},\"type\":\"contourcarpet\"}],\"contour\":[{\"colorbar\":{\"outlinewidth\":0,\"ticks\":\"\"},\"colorscale\":[[0.0,\"#0d0887\"],[0.1111111111111111,\"#46039f\"],[0.2222222222222222,\"#7201a8\"],[0.3333333333333333,\"#9c179e\"],[0.4444444444444444,\"#bd3786\"],[0.5555555555555556,\"#d8576b\"],[0.6666666666666666,\"#ed7953\"],[0.7777777777777778,\"#fb9f3a\"],[0.8888888888888888,\"#fdca26\"],[1.0,\"#f0f921\"]],\"type\":\"contour\"}],\"heatmapgl\":[{\"colorbar\":{\"outlinewidth\":0,\"ticks\":\"\"},\"colorscale\":[[0.0,\"#0d0887\"],[0.1111111111111111,\"#46039f\"],[0.2222222222222222,\"#7201a8\"],[0.3333333333333333,\"#9c179e\"],[0.4444444444444444,\"#bd3786\"],[0.5555555555555556,\"#d8576b\"],[0.6666666666666666,\"#ed7953\"],[0.7777777777777778,\"#fb9f3a\"],[0.8888888888888888,\"#fdca26\"],[1.0,\"#f0f921\"]],\"type\":\"heatmapgl\"}],\"heatmap\":[{\"colorbar\":{\"outlinewidth\":0,\"ticks\":\"\"},\"colorscale\":[[0.0,\"#0d0887\"],[0.1111111111111111,\"#46039f\"],[0.2222222222222222,\"#7201a8\"],[0.3333333333333333,\"#9c179e\"],[0.4444444444444444,\"#bd3786\"],[0.5555555555555556,\"#d8576b\"],[0.6666666666666666,\"#ed7953\"],[0.7777777777777778,\"#fb9f3a\"],[0.8888888888888888,\"#fdca26\"],[1.0,\"#f0f921\"]],\"type\":\"heatmap\"}],\"histogram2dcontour\":[{\"colorbar\":{\"outlinewidth\":0,\"ticks\":\"\"},\"colorscale\":[[0.0,\"#0d0887\"],[0.1111111111111111,\"#46039f\"],[0.2222222222222222,\"#7201a8\"],[0.3333333333333333,\"#9c179e\"],[0.4444444444444444,\"#bd3786\"],[0.5555555555555556,\"#d8576b\"],[0.6666666666666666,\"#ed7953\"],[0.7777777777777778,\"#fb9f3a\"],[0.8888888888888888,\"#fdca26\"],[1.0,\"#f0f921\"]],\"type\":\"histogram2dcontour\"}],\"histogram2d\":[{\"colorbar\":{\"outlinewidth\":0,\"ticks\":\"\"},\"colorscale\":[[0.0,\"#0d0887\"],[0.1111111111111111,\"#46039f\"],[0.2222222222222222,\"#7201a8\"],[0.3333333333333333,\"#9c179e\"],[0.4444444444444444,\"#bd3786\"],[0.5555555555555556,\"#d8576b\"],[0.6666666666666666,\"#ed7953\"],[0.7777777777777778,\"#fb9f3a\"],[0.8888888888888888,\"#fdca26\"],[1.0,\"#f0f921\"]],\"type\":\"histogram2d\"}],\"histogram\":[{\"marker\":{\"pattern\":{\"fillmode\":\"overlay\",\"size\":10,\"solidity\":0.2}},\"type\":\"histogram\"}],\"mesh3d\":[{\"colorbar\":{\"outlinewidth\":0,\"ticks\":\"\"},\"type\":\"mesh3d\"}],\"parcoords\":[{\"line\":{\"colorbar\":{\"outlinewidth\":0,\"ticks\":\"\"}},\"type\":\"parcoords\"}],\"pie\":[{\"automargin\":true,\"type\":\"pie\"}],\"scatter3d\":[{\"line\":{\"colorbar\":{\"outlinewidth\":0,\"ticks\":\"\"}},\"marker\":{\"colorbar\":{\"outlinewidth\":0,\"ticks\":\"\"}},\"type\":\"scatter3d\"}],\"scattercarpet\":[{\"marker\":{\"colorbar\":{\"outlinewidth\":0,\"ticks\":\"\"}},\"type\":\"scattercarpet\"}],\"scattergeo\":[{\"marker\":{\"colorbar\":{\"outlinewidth\":0,\"ticks\":\"\"}},\"type\":\"scattergeo\"}],\"scattergl\":[{\"marker\":{\"colorbar\":{\"outlinewidth\":0,\"ticks\":\"\"}},\"type\":\"scattergl\"}],\"scattermapbox\":[{\"marker\":{\"colorbar\":{\"outlinewidth\":0,\"ticks\":\"\"}},\"type\":\"scattermapbox\"}],\"scatterpolargl\":[{\"marker\":{\"colorbar\":{\"outlinewidth\":0,\"ticks\":\"\"}},\"type\":\"scatterpolargl\"}],\"scatterpolar\":[{\"marker\":{\"colorbar\":{\"outlinewidth\":0,\"ticks\":\"\"}},\"type\":\"scatterpolar\"}],\"scatter\":[{\"fillpattern\":{\"fillmode\":\"overlay\",\"size\":10,\"solidity\":0.2},\"type\":\"scatter\"}],\"scatterternary\":[{\"marker\":{\"colorbar\":{\"outlinewidth\":0,\"ticks\":\"\"}},\"type\":\"scatterternary\"}],\"surface\":[{\"colorbar\":{\"outlinewidth\":0,\"ticks\":\"\"},\"colorscale\":[[0.0,\"#0d0887\"],[0.1111111111111111,\"#46039f\"],[0.2222222222222222,\"#7201a8\"],[0.3333333333333333,\"#9c179e\"],[0.4444444444444444,\"#bd3786\"],[0.5555555555555556,\"#d8576b\"],[0.6666666666666666,\"#ed7953\"],[0.7777777777777778,\"#fb9f3a\"],[0.8888888888888888,\"#fdca26\"],[1.0,\"#f0f921\"]],\"type\":\"surface\"}],\"table\":[{\"cells\":{\"fill\":{\"color\":\"#EBF0F8\"},\"line\":{\"color\":\"white\"}},\"header\":{\"fill\":{\"color\":\"#C8D4E3\"},\"line\":{\"color\":\"white\"}},\"type\":\"table\"}]},\"layout\":{\"annotationdefaults\":{\"arrowcolor\":\"#2a3f5f\",\"arrowhead\":0,\"arrowwidth\":1},\"autotypenumbers\":\"strict\",\"coloraxis\":{\"colorbar\":{\"outlinewidth\":0,\"ticks\":\"\"}},\"colorscale\":{\"diverging\":[[0,\"#8e0152\"],[0.1,\"#c51b7d\"],[0.2,\"#de77ae\"],[0.3,\"#f1b6da\"],[0.4,\"#fde0ef\"],[0.5,\"#f7f7f7\"],[0.6,\"#e6f5d0\"],[0.7,\"#b8e186\"],[0.8,\"#7fbc41\"],[0.9,\"#4d9221\"],[1,\"#276419\"]],\"sequential\":[[0.0,\"#0d0887\"],[0.1111111111111111,\"#46039f\"],[0.2222222222222222,\"#7201a8\"],[0.3333333333333333,\"#9c179e\"],[0.4444444444444444,\"#bd3786\"],[0.5555555555555556,\"#d8576b\"],[0.6666666666666666,\"#ed7953\"],[0.7777777777777778,\"#fb9f3a\"],[0.8888888888888888,\"#fdca26\"],[1.0,\"#f0f921\"]],\"sequentialminus\":[[0.0,\"#0d0887\"],[0.1111111111111111,\"#46039f\"],[0.2222222222222222,\"#7201a8\"],[0.3333333333333333,\"#9c179e\"],[0.4444444444444444,\"#bd3786\"],[0.5555555555555556,\"#d8576b\"],[0.6666666666666666,\"#ed7953\"],[0.7777777777777778,\"#fb9f3a\"],[0.8888888888888888,\"#fdca26\"],[1.0,\"#f0f921\"]]},\"colorway\":[\"#636efa\",\"#EF553B\",\"#00cc96\",\"#ab63fa\",\"#FFA15A\",\"#19d3f3\",\"#FF6692\",\"#B6E880\",\"#FF97FF\",\"#FECB52\"],\"font\":{\"color\":\"#2a3f5f\"},\"geo\":{\"bgcolor\":\"white\",\"lakecolor\":\"white\",\"landcolor\":\"white\",\"showlakes\":true,\"showland\":true,\"subunitcolor\":\"#C8D4E3\"},\"hoverlabel\":{\"align\":\"left\"},\"hovermode\":\"closest\",\"mapbox\":{\"style\":\"light\"},\"paper_bgcolor\":\"white\",\"plot_bgcolor\":\"white\",\"polar\":{\"angularaxis\":{\"gridcolor\":\"#EBF0F8\",\"linecolor\":\"#EBF0F8\",\"ticks\":\"\"},\"bgcolor\":\"white\",\"radialaxis\":{\"gridcolor\":\"#EBF0F8\",\"linecolor\":\"#EBF0F8\",\"ticks\":\"\"}},\"scene\":{\"xaxis\":{\"backgroundcolor\":\"white\",\"gridcolor\":\"#DFE8F3\",\"gridwidth\":2,\"linecolor\":\"#EBF0F8\",\"showbackground\":true,\"ticks\":\"\",\"zerolinecolor\":\"#EBF0F8\"},\"yaxis\":{\"backgroundcolor\":\"white\",\"gridcolor\":\"#DFE8F3\",\"gridwidth\":2,\"linecolor\":\"#EBF0F8\",\"showbackground\":true,\"ticks\":\"\",\"zerolinecolor\":\"#EBF0F8\"},\"zaxis\":{\"backgroundcolor\":\"white\",\"gridcolor\":\"#DFE8F3\",\"gridwidth\":2,\"linecolor\":\"#EBF0F8\",\"showbackground\":true,\"ticks\":\"\",\"zerolinecolor\":\"#EBF0F8\"}},\"shapedefaults\":{\"line\":{\"color\":\"#2a3f5f\"}},\"ternary\":{\"aaxis\":{\"gridcolor\":\"#DFE8F3\",\"linecolor\":\"#A2B1C6\",\"ticks\":\"\"},\"baxis\":{\"gridcolor\":\"#DFE8F3\",\"linecolor\":\"#A2B1C6\",\"ticks\":\"\"},\"bgcolor\":\"white\",\"caxis\":{\"gridcolor\":\"#DFE8F3\",\"linecolor\":\"#A2B1C6\",\"ticks\":\"\"}},\"title\":{\"x\":0.05},\"xaxis\":{\"automargin\":true,\"gridcolor\":\"#EBF0F8\",\"linecolor\":\"#EBF0F8\",\"ticks\":\"\",\"title\":{\"standoff\":15},\"zerolinecolor\":\"#EBF0F8\",\"zerolinewidth\":2},\"yaxis\":{\"automargin\":true,\"gridcolor\":\"#EBF0F8\",\"linecolor\":\"#EBF0F8\",\"ticks\":\"\",\"title\":{\"standoff\":15},\"zerolinecolor\":\"#EBF0F8\",\"zerolinewidth\":2}}},\"legend\":{\"x\":1.05,\"y\":1,\"traceorder\":\"normal\",\"orientation\":\"v\"},\"title\":{\"text\":\"\\u041f\\u0440\\u0435\\u0434\\u043f\\u043e\\u043b\\u0430\\u0433\\u0430\\u0435\\u043c\\u0430\\u044f \\u043c\\u043e\\u0434\\u0435\\u043b\\u044c - \\u041a\\u0443\\u0431\\u0438\\u0447\\u0435\\u0441\\u043a\\u0438\\u0439\"},\"xaxis\":{\"title\":{\"text\":\"K2065G_2_POROSITY\"}},\"yaxis\":{\"title\":{\"text\":\"K2066G_2_POROSITY\"}}},                        {\"responsive\": true}                    ).then(function(){\n                            \nvar gd = document.getElementById('eb6e3e47-a9af-4e05-82fa-2115bddb1f9e');\nvar x = new MutationObserver(function (mutations, observer) {{\n        var display = window.getComputedStyle(gd).display;\n        if (!display || display === 'none') {{\n            console.log([gd, 'removed!']);\n            Plotly.purge(gd);\n            observer.disconnect();\n        }}\n}});\n\n// Listen for the removal of the full notebook cells\nvar notebookContainer = gd.closest('#notebook-container');\nif (notebookContainer) {{\n    x.observe(notebookContainer, {childList: true});\n}}\n\n// Listen for the clearing of the current output cell\nvar outputEl = gd.closest('.output');\nif (outputEl) {{\n    x.observe(outputEl, {childList: true});\n}}\n\n                        })                };                });            </script>        </div>"
     },
     "metadata": {},
     "output_type": "display_data"
    },
    {
     "data": {
      "application/vnd.plotly.v1+json": {
       "data": [
        {
         "marker": {
          "color": "blue"
         },
         "mode": "markers",
         "name": "Данные",
         "x": [
          0.1702211499,
          0.1692114919,
          0.1682019383,
          0.1682019383,
          0.1676971763,
          0.1666875035,
          0.1651730686,
          0.1641634107,
          0.1631538719,
          0.1626489758,
          0.1621442139,
          0.1621442139,
          0.1626489758,
          0.1631538719,
          0.1631538719,
          0.1631538719,
          0.1626489758,
          0.1626489758,
          0.1626489758,
          0.1621442139,
          0.1611346602,
          0.1611346602,
          0.1616394371,
          0.1616394371,
          0.1611346602,
          0.1616394371,
          0.1611346602,
          0.1611346602,
          0.1606297791,
          0.1606297791,
          0.1606297791,
          0.1596202254,
          0.1596202254,
          0.1596202254,
          0.1591153443,
          0.1586105675,
          0.1591153443,
          0.1596202254,
          0.1591153443,
          0.1586105675,
          0.1586105675,
          0.1591153443,
          0.1591153443,
          0.1586105675,
          0.1586105675,
          0.1586105675,
          0.1586105675,
          0.1586105675,
          0.1586105675,
          0.1591153443,
          0.1591153443,
          0.1601250023,
          0.1611346602,
          0.1616394371,
          0.1636586487,
          0.1641634107,
          0.1656778455,
          0.1676971763,
          0.1682019383,
          0.1707259119,
          0.1712308079,
          0.1727452427,
          0.1747644544,
          0.1757739931,
          0.1757739931,
          0.1762788892,
          0.1757739931,
          0.1757739931,
          0.1747644544,
          0.1737547815,
          0.1737547815,
          0.1732500196,
          0.1727452427,
          0.1732500196,
          0.1737547815,
          0.1732500196,
          0.1737547815,
          0.1727452427,
          0.1722403467,
          0.1717355847,
          0.1707259119,
          0.1702211499,
          0.1692114919,
          0.1697163731,
          0.1692114919,
          0.1687067151,
          0.1687067151,
          0.1692114919,
          0.1682019383,
          0.1676971763,
          0.1661827415,
          0.1651730686,
          0.1641634107,
          0.1631538719,
          0.1616394371,
          0.1611346602,
          0.1601250023,
          0.1606297791,
          0.1601250023,
          0.1601250023
         ],
         "y": [
          0.1899086684,
          0.1899086684,
          0.1894038916,
          0.1878894567,
          0.1863750219,
          0.185365364,
          0.1843558252,
          0.1838509291,
          0.1823364943,
          0.1818317324,
          0.1818317324,
          0.1818317324,
          0.1813269556,
          0.1813269556,
          0.1818317324,
          0.1818317324,
          0.1813269556,
          0.1813269556,
          0.1813269556,
          0.1803172976,
          0.1798125207,
          0.1782980859,
          0.1782980859,
          0.1808220595,
          0.1813269556,
          0.1818317324,
          0.1833461523,
          0.1838509291,
          0.1843558252,
          0.1843558252,
          0.1843558252,
          0.1843558252,
          0.1838509291,
          0.1818317324,
          0.1823364943,
          0.1828413904,
          0.1833461523,
          0.1838509291,
          0.1843558252,
          0.1843558252,
          0.1843558252,
          0.1838509291,
          0.1833461523,
          0.1823364943,
          0.1818317324,
          0.1818317324,
          0.1813269556,
          0.1808220595,
          0.1803172976,
          0.1798125207,
          0.1793077439,
          0.1788028628,
          0.1777933091,
          0.1767836511,
          0.1772884279,
          0.1782980859,
          0.1793077439,
          0.1813269556,
          0.1833461523,
          0.1848605871,
          0.1863750219,
          0.1878894567,
          0.1894038916,
          0.1904134303,
          0.1904134303,
          0.1909183264,
          0.1914231032,
          0.1914231032,
          0.1909183264,
          0.1909183264,
          0.1909183264,
          0.1909183264,
          0.1909183264,
          0.1914231032,
          0.1919278651,
          0.192432642,
          0.192937538,
          0.1934423,
          0.1944519728,
          0.1949567348,
          0.1964711696,
          0.1974807084,
          0.1979856044,
          0.1989951432,
          0.1989951432,
          0.1989951432,
          0.1989951432,
          0.1989951432,
          0.1984903812,
          0.1979856044,
          0.1979856044,
          0.1974807084,
          0.1974807084,
          0.1969759464,
          0.1969759464,
          0.1964711696,
          0.1964711696,
          0.1964711696,
          0.1964711696,
          0.1964711696
         ],
         "type": "scatter"
        },
        {
         "line": {
          "color": "orange"
         },
         "mode": "lines",
         "name": "Экспоненциальная: y=0.1062 * e^(3.4302x), R²=0.2866, SSR = 0.0",
         "x": [
          0.1702211499,
          0.1692114919,
          0.1682019383,
          0.1682019383,
          0.1676971763,
          0.1666875035,
          0.1651730686,
          0.1641634107,
          0.1631538719,
          0.1626489758,
          0.1621442139,
          0.1621442139,
          0.1626489758,
          0.1631538719,
          0.1631538719,
          0.1631538719,
          0.1626489758,
          0.1626489758,
          0.1626489758,
          0.1621442139,
          0.1611346602,
          0.1611346602,
          0.1616394371,
          0.1616394371,
          0.1611346602,
          0.1616394371,
          0.1611346602,
          0.1611346602,
          0.1606297791,
          0.1606297791,
          0.1606297791,
          0.1596202254,
          0.1596202254,
          0.1596202254,
          0.1591153443,
          0.1586105675,
          0.1591153443,
          0.1596202254,
          0.1591153443,
          0.1586105675,
          0.1586105675,
          0.1591153443,
          0.1591153443,
          0.1586105675,
          0.1586105675,
          0.1586105675,
          0.1586105675,
          0.1586105675,
          0.1586105675,
          0.1591153443,
          0.1591153443,
          0.1601250023,
          0.1611346602,
          0.1616394371,
          0.1636586487,
          0.1641634107,
          0.1656778455,
          0.1676971763,
          0.1682019383,
          0.1707259119,
          0.1712308079,
          0.1727452427,
          0.1747644544,
          0.1757739931,
          0.1757739931,
          0.1762788892,
          0.1757739931,
          0.1757739931,
          0.1747644544,
          0.1737547815,
          0.1737547815,
          0.1732500196,
          0.1727452427,
          0.1732500196,
          0.1737547815,
          0.1732500196,
          0.1737547815,
          0.1727452427,
          0.1722403467,
          0.1717355847,
          0.1707259119,
          0.1702211499,
          0.1692114919,
          0.1697163731,
          0.1692114919,
          0.1687067151,
          0.1687067151,
          0.1692114919,
          0.1682019383,
          0.1676971763,
          0.1661827415,
          0.1651730686,
          0.1641634107,
          0.1631538719,
          0.1616394371,
          0.1611346602,
          0.1601250023,
          0.1606297791,
          0.1601250023,
          0.1601250023
         ],
         "y": [
          0.1904423141104648,
          0.18978388324200776,
          0.1891277965471063,
          0.1891277965471063,
          0.1888006138146161,
          0.18814784937113121,
          0.18717297963137824,
          0.18652585214859702,
          0.18588103796932134,
          0.18555938662933072,
          0.1852383771518895,
          0.1852383771518895,
          0.18555938662933072,
          0.18588103796932134,
          0.18588103796932134,
          0.18588103796932134,
          0.18555938662933072,
          0.18555938662933072,
          0.18555938662933072,
          0.1852383771518895,
          0.18459800429948603,
          0.18459800429948603,
          0.18491791355529594,
          0.18491791355529594,
          0.18459800429948603,
          0.18491791355529594,
          0.18459800429948603,
          0.18459800429948603,
          0.18427858262202,
          0.18427858262202,
          0.18427858262202,
          0.18364152779890536,
          0.18364152779890536,
          0.18364152779890536,
          0.18332376117361296,
          0.18300660987510747,
          0.18332376117361296,
          0.18364152779890536,
          0.18332376117361296,
          0.18300660987510747,
          0.18300660987510747,
          0.18332376117361296,
          0.18332376117361296,
          0.18300660987510747,
          0.18300660987510747,
          0.18300660987510747,
          0.18300660987510747,
          0.18300660987510747,
          0.18300660987510747,
          0.18332376117361296,
          0.18332376117361296,
          0.18395977947620204,
          0.18459800429948603,
          0.18491791355529594,
          0.18620317066496408,
          0.18652585214859702,
          0.18749735133219278,
          0.1888006138146161,
          0.1891277965471063,
          0.19077234183364583,
          0.19110302932046408,
          0.19209836822297507,
          0.19343353257258866,
          0.19410454599889818,
          0.19410454599889818,
          0.1944410096424407,
          0.19410454599889818,
          0.19410454599889818,
          0.19343353257258866,
          0.1927647500820345,
          0.1927647500820345,
          0.19243127564661547,
          0.19209836822297507,
          0.19243127564661547,
          0.1927647500820345,
          0.19243127564661547,
          0.1927647500820345,
          0.19209836822297507,
          0.191765958387111,
          0.19143421175118977,
          0.19077234183364583,
          0.1904423141104648,
          0.18978388324200776,
          0.19011284766910524,
          0.18978388324200776,
          0.1894555558903307,
          0.1894555558903307,
          0.18978388324200776,
          0.1891277965471063,
          0.1888006138146161,
          0.18782236190396207,
          0.18717297963137824,
          0.18652585214859702,
          0.18588103796932134,
          0.18491791355529594,
          0.18459800429948603,
          0.18395977947620204,
          0.18427858262202,
          0.18395977947620204,
          0.18395977947620204
         ],
         "type": "scatter"
        },
        {
         "line": {
          "color": "lightgrey",
          "dash": "dash"
         },
         "mode": "lines",
         "name": "Нижняя граница",
         "x": [
          0.1702211499,
          0.1692114919,
          0.1682019383,
          0.1682019383,
          0.1676971763,
          0.1666875035,
          0.1651730686,
          0.1641634107,
          0.1631538719,
          0.1626489758,
          0.1621442139,
          0.1621442139,
          0.1626489758,
          0.1631538719,
          0.1631538719,
          0.1631538719,
          0.1626489758,
          0.1626489758,
          0.1626489758,
          0.1621442139,
          0.1611346602,
          0.1611346602,
          0.1616394371,
          0.1616394371,
          0.1611346602,
          0.1616394371,
          0.1611346602,
          0.1611346602,
          0.1606297791,
          0.1606297791,
          0.1606297791,
          0.1596202254,
          0.1596202254,
          0.1596202254,
          0.1591153443,
          0.1586105675,
          0.1591153443,
          0.1596202254,
          0.1591153443,
          0.1586105675,
          0.1586105675,
          0.1591153443,
          0.1591153443,
          0.1586105675,
          0.1586105675,
          0.1586105675,
          0.1586105675,
          0.1586105675,
          0.1586105675,
          0.1591153443,
          0.1591153443,
          0.1601250023,
          0.1611346602,
          0.1616394371,
          0.1636586487,
          0.1641634107,
          0.1656778455,
          0.1676971763,
          0.1682019383,
          0.1707259119,
          0.1712308079,
          0.1727452427,
          0.1747644544,
          0.1757739931,
          0.1757739931,
          0.1762788892,
          0.1757739931,
          0.1757739931,
          0.1747644544,
          0.1737547815,
          0.1737547815,
          0.1732500196,
          0.1727452427,
          0.1732500196,
          0.1737547815,
          0.1732500196,
          0.1737547815,
          0.1727452427,
          0.1722403467,
          0.1717355847,
          0.1707259119,
          0.1702211499,
          0.1692114919,
          0.1697163731,
          0.1692114919,
          0.1687067151,
          0.1687067151,
          0.1692114919,
          0.1682019383,
          0.1676971763,
          0.1661827415,
          0.1651730686,
          0.1641634107,
          0.1631538719,
          0.1616394371,
          0.1611346602,
          0.1601250023,
          0.1606297791,
          0.1601250023,
          0.1601250023
         ],
         "y": [
          0.17926864565663891,
          0.17861021478818187,
          0.1779541280932804,
          0.1779541280932804,
          0.1776269453607902,
          0.17697418091730532,
          0.17599931117755235,
          0.17535218369477112,
          0.17470736951549545,
          0.17438571817550483,
          0.17406470869806362,
          0.17406470869806362,
          0.17438571817550483,
          0.17470736951549545,
          0.17470736951549545,
          0.17470736951549545,
          0.17438571817550483,
          0.17438571817550483,
          0.17438571817550483,
          0.17406470869806362,
          0.17342433584566014,
          0.17342433584566014,
          0.17374424510147005,
          0.17374424510147005,
          0.17342433584566014,
          0.17374424510147005,
          0.17342433584566014,
          0.17342433584566014,
          0.1731049141681941,
          0.1731049141681941,
          0.1731049141681941,
          0.17246785934507947,
          0.17246785934507947,
          0.17246785934507947,
          0.17215009271978707,
          0.17183294142128158,
          0.17215009271978707,
          0.17246785934507947,
          0.17215009271978707,
          0.17183294142128158,
          0.17183294142128158,
          0.17215009271978707,
          0.17215009271978707,
          0.17183294142128158,
          0.17183294142128158,
          0.17183294142128158,
          0.17183294142128158,
          0.17183294142128158,
          0.17183294142128158,
          0.17215009271978707,
          0.17215009271978707,
          0.17278611102237615,
          0.17342433584566014,
          0.17374424510147005,
          0.1750295022111382,
          0.17535218369477112,
          0.1763236828783669,
          0.1776269453607902,
          0.1779541280932804,
          0.17959867337981994,
          0.1799293608666382,
          0.18092469976914918,
          0.18225986411876277,
          0.18293087754507228,
          0.18293087754507228,
          0.18326734118861482,
          0.18293087754507228,
          0.18293087754507228,
          0.18225986411876277,
          0.1815910816282086,
          0.1815910816282086,
          0.18125760719278958,
          0.18092469976914918,
          0.18125760719278958,
          0.1815910816282086,
          0.18125760719278958,
          0.1815910816282086,
          0.18092469976914918,
          0.1805922899332851,
          0.18026054329736388,
          0.17959867337981994,
          0.17926864565663891,
          0.17861021478818187,
          0.17893917921527935,
          0.17861021478818187,
          0.1782818874365048,
          0.1782818874365048,
          0.17861021478818187,
          0.1779541280932804,
          0.1776269453607902,
          0.17664869345013617,
          0.17599931117755235,
          0.17535218369477112,
          0.17470736951549545,
          0.17374424510147005,
          0.17342433584566014,
          0.17278611102237615,
          0.1731049141681941,
          0.17278611102237615,
          0.17278611102237615
         ],
         "type": "scatter"
        },
        {
         "line": {
          "color": "lightgrey",
          "dash": "dash"
         },
         "mode": "lines",
         "name": "Верхняя граница",
         "x": [
          0.1702211499,
          0.1692114919,
          0.1682019383,
          0.1682019383,
          0.1676971763,
          0.1666875035,
          0.1651730686,
          0.1641634107,
          0.1631538719,
          0.1626489758,
          0.1621442139,
          0.1621442139,
          0.1626489758,
          0.1631538719,
          0.1631538719,
          0.1631538719,
          0.1626489758,
          0.1626489758,
          0.1626489758,
          0.1621442139,
          0.1611346602,
          0.1611346602,
          0.1616394371,
          0.1616394371,
          0.1611346602,
          0.1616394371,
          0.1611346602,
          0.1611346602,
          0.1606297791,
          0.1606297791,
          0.1606297791,
          0.1596202254,
          0.1596202254,
          0.1596202254,
          0.1591153443,
          0.1586105675,
          0.1591153443,
          0.1596202254,
          0.1591153443,
          0.1586105675,
          0.1586105675,
          0.1591153443,
          0.1591153443,
          0.1586105675,
          0.1586105675,
          0.1586105675,
          0.1586105675,
          0.1586105675,
          0.1586105675,
          0.1591153443,
          0.1591153443,
          0.1601250023,
          0.1611346602,
          0.1616394371,
          0.1636586487,
          0.1641634107,
          0.1656778455,
          0.1676971763,
          0.1682019383,
          0.1707259119,
          0.1712308079,
          0.1727452427,
          0.1747644544,
          0.1757739931,
          0.1757739931,
          0.1762788892,
          0.1757739931,
          0.1757739931,
          0.1747644544,
          0.1737547815,
          0.1737547815,
          0.1732500196,
          0.1727452427,
          0.1732500196,
          0.1737547815,
          0.1732500196,
          0.1737547815,
          0.1727452427,
          0.1722403467,
          0.1717355847,
          0.1707259119,
          0.1702211499,
          0.1692114919,
          0.1697163731,
          0.1692114919,
          0.1687067151,
          0.1687067151,
          0.1692114919,
          0.1682019383,
          0.1676971763,
          0.1661827415,
          0.1651730686,
          0.1641634107,
          0.1631538719,
          0.1616394371,
          0.1611346602,
          0.1601250023,
          0.1606297791,
          0.1601250023,
          0.1601250023
         ],
         "y": [
          0.2016159825642907,
          0.20095755169583365,
          0.20030146500093218,
          0.20030146500093218,
          0.199974282268442,
          0.1993215178249571,
          0.19834664808520414,
          0.1976995206024229,
          0.19705470642314724,
          0.1967330550831566,
          0.1964120456057154,
          0.1964120456057154,
          0.1967330550831566,
          0.19705470642314724,
          0.19705470642314724,
          0.19705470642314724,
          0.1967330550831566,
          0.1967330550831566,
          0.1967330550831566,
          0.1964120456057154,
          0.19577167275331192,
          0.19577167275331192,
          0.19609158200912183,
          0.19609158200912183,
          0.19577167275331192,
          0.19609158200912183,
          0.19577167275331192,
          0.19577167275331192,
          0.19545225107584588,
          0.19545225107584588,
          0.19545225107584588,
          0.19481519625273125,
          0.19481519625273125,
          0.19481519625273125,
          0.19449742962743885,
          0.19418027832893336,
          0.19449742962743885,
          0.19481519625273125,
          0.19449742962743885,
          0.19418027832893336,
          0.19418027832893336,
          0.19449742962743885,
          0.19449742962743885,
          0.19418027832893336,
          0.19418027832893336,
          0.19418027832893336,
          0.19418027832893336,
          0.19418027832893336,
          0.19418027832893336,
          0.19449742962743885,
          0.19449742962743885,
          0.19513344793002793,
          0.19577167275331192,
          0.19609158200912183,
          0.19737683911878998,
          0.1976995206024229,
          0.19867101978601867,
          0.199974282268442,
          0.20030146500093218,
          0.20194601028747172,
          0.20227669777428997,
          0.20327203667680097,
          0.20460720102641455,
          0.20527821445272407,
          0.20527821445272407,
          0.2056146780962666,
          0.20527821445272407,
          0.20527821445272407,
          0.20460720102641455,
          0.2039384185358604,
          0.2039384185358604,
          0.20360494410044136,
          0.20327203667680097,
          0.20360494410044136,
          0.2039384185358604,
          0.20360494410044136,
          0.2039384185358604,
          0.20327203667680097,
          0.2029396268409369,
          0.20260788020501566,
          0.20194601028747172,
          0.2016159825642907,
          0.20095755169583365,
          0.20128651612293114,
          0.20095755169583365,
          0.2006292243441566,
          0.2006292243441566,
          0.20095755169583365,
          0.20030146500093218,
          0.199974282268442,
          0.19899603035778796,
          0.19834664808520414,
          0.1976995206024229,
          0.19705470642314724,
          0.19609158200912183,
          0.19577167275331192,
          0.19513344793002793,
          0.19545225107584588,
          0.19513344793002793,
          0.19513344793002793
         ],
         "type": "scatter"
        }
       ],
       "layout": {
        "template": {
         "data": {
          "barpolar": [
           {
            "marker": {
             "line": {
              "color": "white",
              "width": 0.5
             },
             "pattern": {
              "fillmode": "overlay",
              "size": 10,
              "solidity": 0.2
             }
            },
            "type": "barpolar"
           }
          ],
          "bar": [
           {
            "error_x": {
             "color": "#2a3f5f"
            },
            "error_y": {
             "color": "#2a3f5f"
            },
            "marker": {
             "line": {
              "color": "white",
              "width": 0.5
             },
             "pattern": {
              "fillmode": "overlay",
              "size": 10,
              "solidity": 0.2
             }
            },
            "type": "bar"
           }
          ],
          "carpet": [
           {
            "aaxis": {
             "endlinecolor": "#2a3f5f",
             "gridcolor": "#C8D4E3",
             "linecolor": "#C8D4E3",
             "minorgridcolor": "#C8D4E3",
             "startlinecolor": "#2a3f5f"
            },
            "baxis": {
             "endlinecolor": "#2a3f5f",
             "gridcolor": "#C8D4E3",
             "linecolor": "#C8D4E3",
             "minorgridcolor": "#C8D4E3",
             "startlinecolor": "#2a3f5f"
            },
            "type": "carpet"
           }
          ],
          "choropleth": [
           {
            "colorbar": {
             "outlinewidth": 0,
             "ticks": ""
            },
            "type": "choropleth"
           }
          ],
          "contourcarpet": [
           {
            "colorbar": {
             "outlinewidth": 0,
             "ticks": ""
            },
            "type": "contourcarpet"
           }
          ],
          "contour": [
           {
            "colorbar": {
             "outlinewidth": 0,
             "ticks": ""
            },
            "colorscale": [
             [
              0.0,
              "#0d0887"
             ],
             [
              0.1111111111111111,
              "#46039f"
             ],
             [
              0.2222222222222222,
              "#7201a8"
             ],
             [
              0.3333333333333333,
              "#9c179e"
             ],
             [
              0.4444444444444444,
              "#bd3786"
             ],
             [
              0.5555555555555556,
              "#d8576b"
             ],
             [
              0.6666666666666666,
              "#ed7953"
             ],
             [
              0.7777777777777778,
              "#fb9f3a"
             ],
             [
              0.8888888888888888,
              "#fdca26"
             ],
             [
              1.0,
              "#f0f921"
             ]
            ],
            "type": "contour"
           }
          ],
          "heatmapgl": [
           {
            "colorbar": {
             "outlinewidth": 0,
             "ticks": ""
            },
            "colorscale": [
             [
              0.0,
              "#0d0887"
             ],
             [
              0.1111111111111111,
              "#46039f"
             ],
             [
              0.2222222222222222,
              "#7201a8"
             ],
             [
              0.3333333333333333,
              "#9c179e"
             ],
             [
              0.4444444444444444,
              "#bd3786"
             ],
             [
              0.5555555555555556,
              "#d8576b"
             ],
             [
              0.6666666666666666,
              "#ed7953"
             ],
             [
              0.7777777777777778,
              "#fb9f3a"
             ],
             [
              0.8888888888888888,
              "#fdca26"
             ],
             [
              1.0,
              "#f0f921"
             ]
            ],
            "type": "heatmapgl"
           }
          ],
          "heatmap": [
           {
            "colorbar": {
             "outlinewidth": 0,
             "ticks": ""
            },
            "colorscale": [
             [
              0.0,
              "#0d0887"
             ],
             [
              0.1111111111111111,
              "#46039f"
             ],
             [
              0.2222222222222222,
              "#7201a8"
             ],
             [
              0.3333333333333333,
              "#9c179e"
             ],
             [
              0.4444444444444444,
              "#bd3786"
             ],
             [
              0.5555555555555556,
              "#d8576b"
             ],
             [
              0.6666666666666666,
              "#ed7953"
             ],
             [
              0.7777777777777778,
              "#fb9f3a"
             ],
             [
              0.8888888888888888,
              "#fdca26"
             ],
             [
              1.0,
              "#f0f921"
             ]
            ],
            "type": "heatmap"
           }
          ],
          "histogram2dcontour": [
           {
            "colorbar": {
             "outlinewidth": 0,
             "ticks": ""
            },
            "colorscale": [
             [
              0.0,
              "#0d0887"
             ],
             [
              0.1111111111111111,
              "#46039f"
             ],
             [
              0.2222222222222222,
              "#7201a8"
             ],
             [
              0.3333333333333333,
              "#9c179e"
             ],
             [
              0.4444444444444444,
              "#bd3786"
             ],
             [
              0.5555555555555556,
              "#d8576b"
             ],
             [
              0.6666666666666666,
              "#ed7953"
             ],
             [
              0.7777777777777778,
              "#fb9f3a"
             ],
             [
              0.8888888888888888,
              "#fdca26"
             ],
             [
              1.0,
              "#f0f921"
             ]
            ],
            "type": "histogram2dcontour"
           }
          ],
          "histogram2d": [
           {
            "colorbar": {
             "outlinewidth": 0,
             "ticks": ""
            },
            "colorscale": [
             [
              0.0,
              "#0d0887"
             ],
             [
              0.1111111111111111,
              "#46039f"
             ],
             [
              0.2222222222222222,
              "#7201a8"
             ],
             [
              0.3333333333333333,
              "#9c179e"
             ],
             [
              0.4444444444444444,
              "#bd3786"
             ],
             [
              0.5555555555555556,
              "#d8576b"
             ],
             [
              0.6666666666666666,
              "#ed7953"
             ],
             [
              0.7777777777777778,
              "#fb9f3a"
             ],
             [
              0.8888888888888888,
              "#fdca26"
             ],
             [
              1.0,
              "#f0f921"
             ]
            ],
            "type": "histogram2d"
           }
          ],
          "histogram": [
           {
            "marker": {
             "pattern": {
              "fillmode": "overlay",
              "size": 10,
              "solidity": 0.2
             }
            },
            "type": "histogram"
           }
          ],
          "mesh3d": [
           {
            "colorbar": {
             "outlinewidth": 0,
             "ticks": ""
            },
            "type": "mesh3d"
           }
          ],
          "parcoords": [
           {
            "line": {
             "colorbar": {
              "outlinewidth": 0,
              "ticks": ""
             }
            },
            "type": "parcoords"
           }
          ],
          "pie": [
           {
            "automargin": true,
            "type": "pie"
           }
          ],
          "scatter3d": [
           {
            "line": {
             "colorbar": {
              "outlinewidth": 0,
              "ticks": ""
             }
            },
            "marker": {
             "colorbar": {
              "outlinewidth": 0,
              "ticks": ""
             }
            },
            "type": "scatter3d"
           }
          ],
          "scattercarpet": [
           {
            "marker": {
             "colorbar": {
              "outlinewidth": 0,
              "ticks": ""
             }
            },
            "type": "scattercarpet"
           }
          ],
          "scattergeo": [
           {
            "marker": {
             "colorbar": {
              "outlinewidth": 0,
              "ticks": ""
             }
            },
            "type": "scattergeo"
           }
          ],
          "scattergl": [
           {
            "marker": {
             "colorbar": {
              "outlinewidth": 0,
              "ticks": ""
             }
            },
            "type": "scattergl"
           }
          ],
          "scattermapbox": [
           {
            "marker": {
             "colorbar": {
              "outlinewidth": 0,
              "ticks": ""
             }
            },
            "type": "scattermapbox"
           }
          ],
          "scatterpolargl": [
           {
            "marker": {
             "colorbar": {
              "outlinewidth": 0,
              "ticks": ""
             }
            },
            "type": "scatterpolargl"
           }
          ],
          "scatterpolar": [
           {
            "marker": {
             "colorbar": {
              "outlinewidth": 0,
              "ticks": ""
             }
            },
            "type": "scatterpolar"
           }
          ],
          "scatter": [
           {
            "fillpattern": {
             "fillmode": "overlay",
             "size": 10,
             "solidity": 0.2
            },
            "type": "scatter"
           }
          ],
          "scatterternary": [
           {
            "marker": {
             "colorbar": {
              "outlinewidth": 0,
              "ticks": ""
             }
            },
            "type": "scatterternary"
           }
          ],
          "surface": [
           {
            "colorbar": {
             "outlinewidth": 0,
             "ticks": ""
            },
            "colorscale": [
             [
              0.0,
              "#0d0887"
             ],
             [
              0.1111111111111111,
              "#46039f"
             ],
             [
              0.2222222222222222,
              "#7201a8"
             ],
             [
              0.3333333333333333,
              "#9c179e"
             ],
             [
              0.4444444444444444,
              "#bd3786"
             ],
             [
              0.5555555555555556,
              "#d8576b"
             ],
             [
              0.6666666666666666,
              "#ed7953"
             ],
             [
              0.7777777777777778,
              "#fb9f3a"
             ],
             [
              0.8888888888888888,
              "#fdca26"
             ],
             [
              1.0,
              "#f0f921"
             ]
            ],
            "type": "surface"
           }
          ],
          "table": [
           {
            "cells": {
             "fill": {
              "color": "#EBF0F8"
             },
             "line": {
              "color": "white"
             }
            },
            "header": {
             "fill": {
              "color": "#C8D4E3"
             },
             "line": {
              "color": "white"
             }
            },
            "type": "table"
           }
          ]
         },
         "layout": {
          "annotationdefaults": {
           "arrowcolor": "#2a3f5f",
           "arrowhead": 0,
           "arrowwidth": 1
          },
          "autotypenumbers": "strict",
          "coloraxis": {
           "colorbar": {
            "outlinewidth": 0,
            "ticks": ""
           }
          },
          "colorscale": {
           "diverging": [
            [
             0,
             "#8e0152"
            ],
            [
             0.1,
             "#c51b7d"
            ],
            [
             0.2,
             "#de77ae"
            ],
            [
             0.3,
             "#f1b6da"
            ],
            [
             0.4,
             "#fde0ef"
            ],
            [
             0.5,
             "#f7f7f7"
            ],
            [
             0.6,
             "#e6f5d0"
            ],
            [
             0.7,
             "#b8e186"
            ],
            [
             0.8,
             "#7fbc41"
            ],
            [
             0.9,
             "#4d9221"
            ],
            [
             1,
             "#276419"
            ]
           ],
           "sequential": [
            [
             0.0,
             "#0d0887"
            ],
            [
             0.1111111111111111,
             "#46039f"
            ],
            [
             0.2222222222222222,
             "#7201a8"
            ],
            [
             0.3333333333333333,
             "#9c179e"
            ],
            [
             0.4444444444444444,
             "#bd3786"
            ],
            [
             0.5555555555555556,
             "#d8576b"
            ],
            [
             0.6666666666666666,
             "#ed7953"
            ],
            [
             0.7777777777777778,
             "#fb9f3a"
            ],
            [
             0.8888888888888888,
             "#fdca26"
            ],
            [
             1.0,
             "#f0f921"
            ]
           ],
           "sequentialminus": [
            [
             0.0,
             "#0d0887"
            ],
            [
             0.1111111111111111,
             "#46039f"
            ],
            [
             0.2222222222222222,
             "#7201a8"
            ],
            [
             0.3333333333333333,
             "#9c179e"
            ],
            [
             0.4444444444444444,
             "#bd3786"
            ],
            [
             0.5555555555555556,
             "#d8576b"
            ],
            [
             0.6666666666666666,
             "#ed7953"
            ],
            [
             0.7777777777777778,
             "#fb9f3a"
            ],
            [
             0.8888888888888888,
             "#fdca26"
            ],
            [
             1.0,
             "#f0f921"
            ]
           ]
          },
          "colorway": [
           "#636efa",
           "#EF553B",
           "#00cc96",
           "#ab63fa",
           "#FFA15A",
           "#19d3f3",
           "#FF6692",
           "#B6E880",
           "#FF97FF",
           "#FECB52"
          ],
          "font": {
           "color": "#2a3f5f"
          },
          "geo": {
           "bgcolor": "white",
           "lakecolor": "white",
           "landcolor": "white",
           "showlakes": true,
           "showland": true,
           "subunitcolor": "#C8D4E3"
          },
          "hoverlabel": {
           "align": "left"
          },
          "hovermode": "closest",
          "mapbox": {
           "style": "light"
          },
          "paper_bgcolor": "white",
          "plot_bgcolor": "white",
          "polar": {
           "angularaxis": {
            "gridcolor": "#EBF0F8",
            "linecolor": "#EBF0F8",
            "ticks": ""
           },
           "bgcolor": "white",
           "radialaxis": {
            "gridcolor": "#EBF0F8",
            "linecolor": "#EBF0F8",
            "ticks": ""
           }
          },
          "scene": {
           "xaxis": {
            "backgroundcolor": "white",
            "gridcolor": "#DFE8F3",
            "gridwidth": 2,
            "linecolor": "#EBF0F8",
            "showbackground": true,
            "ticks": "",
            "zerolinecolor": "#EBF0F8"
           },
           "yaxis": {
            "backgroundcolor": "white",
            "gridcolor": "#DFE8F3",
            "gridwidth": 2,
            "linecolor": "#EBF0F8",
            "showbackground": true,
            "ticks": "",
            "zerolinecolor": "#EBF0F8"
           },
           "zaxis": {
            "backgroundcolor": "white",
            "gridcolor": "#DFE8F3",
            "gridwidth": 2,
            "linecolor": "#EBF0F8",
            "showbackground": true,
            "ticks": "",
            "zerolinecolor": "#EBF0F8"
           }
          },
          "shapedefaults": {
           "line": {
            "color": "#2a3f5f"
           }
          },
          "ternary": {
           "aaxis": {
            "gridcolor": "#DFE8F3",
            "linecolor": "#A2B1C6",
            "ticks": ""
           },
           "baxis": {
            "gridcolor": "#DFE8F3",
            "linecolor": "#A2B1C6",
            "ticks": ""
           },
           "bgcolor": "white",
           "caxis": {
            "gridcolor": "#DFE8F3",
            "linecolor": "#A2B1C6",
            "ticks": ""
           }
          },
          "title": {
           "x": 0.05
          },
          "xaxis": {
           "automargin": true,
           "gridcolor": "#EBF0F8",
           "linecolor": "#EBF0F8",
           "ticks": "",
           "title": {
            "standoff": 15
           },
           "zerolinecolor": "#EBF0F8",
           "zerolinewidth": 2
          },
          "yaxis": {
           "automargin": true,
           "gridcolor": "#EBF0F8",
           "linecolor": "#EBF0F8",
           "ticks": "",
           "title": {
            "standoff": 15
           },
           "zerolinecolor": "#EBF0F8",
           "zerolinewidth": 2
          }
         }
        },
        "legend": {
         "x": 1.05,
         "y": 1,
         "traceorder": "normal",
         "orientation": "v"
        },
        "title": {
         "text": "Предполагаемая модель - Экспоненциальная"
        },
        "xaxis": {
         "title": {
          "text": "K2065G_2_POROSITY"
         }
        },
        "yaxis": {
         "title": {
          "text": "K2066G_2_POROSITY"
         }
        }
       },
       "config": {
        "plotlyServerURL": "https://plot.ly"
       }
      },
      "text/html": "<div>                            <div id=\"7123b498-f0b0-4671-9757-c8747faff9a4\" class=\"plotly-graph-div\" style=\"height:525px; width:100%;\"></div>            <script type=\"text/javascript\">                require([\"plotly\"], function(Plotly) {                    window.PLOTLYENV=window.PLOTLYENV || {};                                    if (document.getElementById(\"7123b498-f0b0-4671-9757-c8747faff9a4\")) {                    Plotly.newPlot(                        \"7123b498-f0b0-4671-9757-c8747faff9a4\",                        [{\"marker\":{\"color\":\"blue\"},\"mode\":\"markers\",\"name\":\"\\u0414\\u0430\\u043d\\u043d\\u044b\\u0435\",\"x\":[0.1702211499,0.1692114919,0.1682019383,0.1682019383,0.1676971763,0.1666875035,0.1651730686,0.1641634107,0.1631538719,0.1626489758,0.1621442139,0.1621442139,0.1626489758,0.1631538719,0.1631538719,0.1631538719,0.1626489758,0.1626489758,0.1626489758,0.1621442139,0.1611346602,0.1611346602,0.1616394371,0.1616394371,0.1611346602,0.1616394371,0.1611346602,0.1611346602,0.1606297791,0.1606297791,0.1606297791,0.1596202254,0.1596202254,0.1596202254,0.1591153443,0.1586105675,0.1591153443,0.1596202254,0.1591153443,0.1586105675,0.1586105675,0.1591153443,0.1591153443,0.1586105675,0.1586105675,0.1586105675,0.1586105675,0.1586105675,0.1586105675,0.1591153443,0.1591153443,0.1601250023,0.1611346602,0.1616394371,0.1636586487,0.1641634107,0.1656778455,0.1676971763,0.1682019383,0.1707259119,0.1712308079,0.1727452427,0.1747644544,0.1757739931,0.1757739931,0.1762788892,0.1757739931,0.1757739931,0.1747644544,0.1737547815,0.1737547815,0.1732500196,0.1727452427,0.1732500196,0.1737547815,0.1732500196,0.1737547815,0.1727452427,0.1722403467,0.1717355847,0.1707259119,0.1702211499,0.1692114919,0.1697163731,0.1692114919,0.1687067151,0.1687067151,0.1692114919,0.1682019383,0.1676971763,0.1661827415,0.1651730686,0.1641634107,0.1631538719,0.1616394371,0.1611346602,0.1601250023,0.1606297791,0.1601250023,0.1601250023],\"y\":[0.1899086684,0.1899086684,0.1894038916,0.1878894567,0.1863750219,0.185365364,0.1843558252,0.1838509291,0.1823364943,0.1818317324,0.1818317324,0.1818317324,0.1813269556,0.1813269556,0.1818317324,0.1818317324,0.1813269556,0.1813269556,0.1813269556,0.1803172976,0.1798125207,0.1782980859,0.1782980859,0.1808220595,0.1813269556,0.1818317324,0.1833461523,0.1838509291,0.1843558252,0.1843558252,0.1843558252,0.1843558252,0.1838509291,0.1818317324,0.1823364943,0.1828413904,0.1833461523,0.1838509291,0.1843558252,0.1843558252,0.1843558252,0.1838509291,0.1833461523,0.1823364943,0.1818317324,0.1818317324,0.1813269556,0.1808220595,0.1803172976,0.1798125207,0.1793077439,0.1788028628,0.1777933091,0.1767836511,0.1772884279,0.1782980859,0.1793077439,0.1813269556,0.1833461523,0.1848605871,0.1863750219,0.1878894567,0.1894038916,0.1904134303,0.1904134303,0.1909183264,0.1914231032,0.1914231032,0.1909183264,0.1909183264,0.1909183264,0.1909183264,0.1909183264,0.1914231032,0.1919278651,0.192432642,0.192937538,0.1934423,0.1944519728,0.1949567348,0.1964711696,0.1974807084,0.1979856044,0.1989951432,0.1989951432,0.1989951432,0.1989951432,0.1989951432,0.1984903812,0.1979856044,0.1979856044,0.1974807084,0.1974807084,0.1969759464,0.1969759464,0.1964711696,0.1964711696,0.1964711696,0.1964711696,0.1964711696],\"type\":\"scatter\"},{\"line\":{\"color\":\"orange\"},\"mode\":\"lines\",\"name\":\"\\u042d\\u043a\\u0441\\u043f\\u043e\\u043d\\u0435\\u043d\\u0446\\u0438\\u0430\\u043b\\u044c\\u043d\\u0430\\u044f: y=0.1062 * e^(3.4302x), R\\u00b2=0.2866, SSR = 0.0\",\"x\":[0.1702211499,0.1692114919,0.1682019383,0.1682019383,0.1676971763,0.1666875035,0.1651730686,0.1641634107,0.1631538719,0.1626489758,0.1621442139,0.1621442139,0.1626489758,0.1631538719,0.1631538719,0.1631538719,0.1626489758,0.1626489758,0.1626489758,0.1621442139,0.1611346602,0.1611346602,0.1616394371,0.1616394371,0.1611346602,0.1616394371,0.1611346602,0.1611346602,0.1606297791,0.1606297791,0.1606297791,0.1596202254,0.1596202254,0.1596202254,0.1591153443,0.1586105675,0.1591153443,0.1596202254,0.1591153443,0.1586105675,0.1586105675,0.1591153443,0.1591153443,0.1586105675,0.1586105675,0.1586105675,0.1586105675,0.1586105675,0.1586105675,0.1591153443,0.1591153443,0.1601250023,0.1611346602,0.1616394371,0.1636586487,0.1641634107,0.1656778455,0.1676971763,0.1682019383,0.1707259119,0.1712308079,0.1727452427,0.1747644544,0.1757739931,0.1757739931,0.1762788892,0.1757739931,0.1757739931,0.1747644544,0.1737547815,0.1737547815,0.1732500196,0.1727452427,0.1732500196,0.1737547815,0.1732500196,0.1737547815,0.1727452427,0.1722403467,0.1717355847,0.1707259119,0.1702211499,0.1692114919,0.1697163731,0.1692114919,0.1687067151,0.1687067151,0.1692114919,0.1682019383,0.1676971763,0.1661827415,0.1651730686,0.1641634107,0.1631538719,0.1616394371,0.1611346602,0.1601250023,0.1606297791,0.1601250023,0.1601250023],\"y\":[0.1904423141104648,0.18978388324200776,0.1891277965471063,0.1891277965471063,0.1888006138146161,0.18814784937113121,0.18717297963137824,0.18652585214859702,0.18588103796932134,0.18555938662933072,0.1852383771518895,0.1852383771518895,0.18555938662933072,0.18588103796932134,0.18588103796932134,0.18588103796932134,0.18555938662933072,0.18555938662933072,0.18555938662933072,0.1852383771518895,0.18459800429948603,0.18459800429948603,0.18491791355529594,0.18491791355529594,0.18459800429948603,0.18491791355529594,0.18459800429948603,0.18459800429948603,0.18427858262202,0.18427858262202,0.18427858262202,0.18364152779890536,0.18364152779890536,0.18364152779890536,0.18332376117361296,0.18300660987510747,0.18332376117361296,0.18364152779890536,0.18332376117361296,0.18300660987510747,0.18300660987510747,0.18332376117361296,0.18332376117361296,0.18300660987510747,0.18300660987510747,0.18300660987510747,0.18300660987510747,0.18300660987510747,0.18300660987510747,0.18332376117361296,0.18332376117361296,0.18395977947620204,0.18459800429948603,0.18491791355529594,0.18620317066496408,0.18652585214859702,0.18749735133219278,0.1888006138146161,0.1891277965471063,0.19077234183364583,0.19110302932046408,0.19209836822297507,0.19343353257258866,0.19410454599889818,0.19410454599889818,0.1944410096424407,0.19410454599889818,0.19410454599889818,0.19343353257258866,0.1927647500820345,0.1927647500820345,0.19243127564661547,0.19209836822297507,0.19243127564661547,0.1927647500820345,0.19243127564661547,0.1927647500820345,0.19209836822297507,0.191765958387111,0.19143421175118977,0.19077234183364583,0.1904423141104648,0.18978388324200776,0.19011284766910524,0.18978388324200776,0.1894555558903307,0.1894555558903307,0.18978388324200776,0.1891277965471063,0.1888006138146161,0.18782236190396207,0.18717297963137824,0.18652585214859702,0.18588103796932134,0.18491791355529594,0.18459800429948603,0.18395977947620204,0.18427858262202,0.18395977947620204,0.18395977947620204],\"type\":\"scatter\"},{\"line\":{\"color\":\"lightgrey\",\"dash\":\"dash\"},\"mode\":\"lines\",\"name\":\"\\u041d\\u0438\\u0436\\u043d\\u044f\\u044f \\u0433\\u0440\\u0430\\u043d\\u0438\\u0446\\u0430\",\"x\":[0.1702211499,0.1692114919,0.1682019383,0.1682019383,0.1676971763,0.1666875035,0.1651730686,0.1641634107,0.1631538719,0.1626489758,0.1621442139,0.1621442139,0.1626489758,0.1631538719,0.1631538719,0.1631538719,0.1626489758,0.1626489758,0.1626489758,0.1621442139,0.1611346602,0.1611346602,0.1616394371,0.1616394371,0.1611346602,0.1616394371,0.1611346602,0.1611346602,0.1606297791,0.1606297791,0.1606297791,0.1596202254,0.1596202254,0.1596202254,0.1591153443,0.1586105675,0.1591153443,0.1596202254,0.1591153443,0.1586105675,0.1586105675,0.1591153443,0.1591153443,0.1586105675,0.1586105675,0.1586105675,0.1586105675,0.1586105675,0.1586105675,0.1591153443,0.1591153443,0.1601250023,0.1611346602,0.1616394371,0.1636586487,0.1641634107,0.1656778455,0.1676971763,0.1682019383,0.1707259119,0.1712308079,0.1727452427,0.1747644544,0.1757739931,0.1757739931,0.1762788892,0.1757739931,0.1757739931,0.1747644544,0.1737547815,0.1737547815,0.1732500196,0.1727452427,0.1732500196,0.1737547815,0.1732500196,0.1737547815,0.1727452427,0.1722403467,0.1717355847,0.1707259119,0.1702211499,0.1692114919,0.1697163731,0.1692114919,0.1687067151,0.1687067151,0.1692114919,0.1682019383,0.1676971763,0.1661827415,0.1651730686,0.1641634107,0.1631538719,0.1616394371,0.1611346602,0.1601250023,0.1606297791,0.1601250023,0.1601250023],\"y\":[0.17926864565663891,0.17861021478818187,0.1779541280932804,0.1779541280932804,0.1776269453607902,0.17697418091730532,0.17599931117755235,0.17535218369477112,0.17470736951549545,0.17438571817550483,0.17406470869806362,0.17406470869806362,0.17438571817550483,0.17470736951549545,0.17470736951549545,0.17470736951549545,0.17438571817550483,0.17438571817550483,0.17438571817550483,0.17406470869806362,0.17342433584566014,0.17342433584566014,0.17374424510147005,0.17374424510147005,0.17342433584566014,0.17374424510147005,0.17342433584566014,0.17342433584566014,0.1731049141681941,0.1731049141681941,0.1731049141681941,0.17246785934507947,0.17246785934507947,0.17246785934507947,0.17215009271978707,0.17183294142128158,0.17215009271978707,0.17246785934507947,0.17215009271978707,0.17183294142128158,0.17183294142128158,0.17215009271978707,0.17215009271978707,0.17183294142128158,0.17183294142128158,0.17183294142128158,0.17183294142128158,0.17183294142128158,0.17183294142128158,0.17215009271978707,0.17215009271978707,0.17278611102237615,0.17342433584566014,0.17374424510147005,0.1750295022111382,0.17535218369477112,0.1763236828783669,0.1776269453607902,0.1779541280932804,0.17959867337981994,0.1799293608666382,0.18092469976914918,0.18225986411876277,0.18293087754507228,0.18293087754507228,0.18326734118861482,0.18293087754507228,0.18293087754507228,0.18225986411876277,0.1815910816282086,0.1815910816282086,0.18125760719278958,0.18092469976914918,0.18125760719278958,0.1815910816282086,0.18125760719278958,0.1815910816282086,0.18092469976914918,0.1805922899332851,0.18026054329736388,0.17959867337981994,0.17926864565663891,0.17861021478818187,0.17893917921527935,0.17861021478818187,0.1782818874365048,0.1782818874365048,0.17861021478818187,0.1779541280932804,0.1776269453607902,0.17664869345013617,0.17599931117755235,0.17535218369477112,0.17470736951549545,0.17374424510147005,0.17342433584566014,0.17278611102237615,0.1731049141681941,0.17278611102237615,0.17278611102237615],\"type\":\"scatter\"},{\"line\":{\"color\":\"lightgrey\",\"dash\":\"dash\"},\"mode\":\"lines\",\"name\":\"\\u0412\\u0435\\u0440\\u0445\\u043d\\u044f\\u044f \\u0433\\u0440\\u0430\\u043d\\u0438\\u0446\\u0430\",\"x\":[0.1702211499,0.1692114919,0.1682019383,0.1682019383,0.1676971763,0.1666875035,0.1651730686,0.1641634107,0.1631538719,0.1626489758,0.1621442139,0.1621442139,0.1626489758,0.1631538719,0.1631538719,0.1631538719,0.1626489758,0.1626489758,0.1626489758,0.1621442139,0.1611346602,0.1611346602,0.1616394371,0.1616394371,0.1611346602,0.1616394371,0.1611346602,0.1611346602,0.1606297791,0.1606297791,0.1606297791,0.1596202254,0.1596202254,0.1596202254,0.1591153443,0.1586105675,0.1591153443,0.1596202254,0.1591153443,0.1586105675,0.1586105675,0.1591153443,0.1591153443,0.1586105675,0.1586105675,0.1586105675,0.1586105675,0.1586105675,0.1586105675,0.1591153443,0.1591153443,0.1601250023,0.1611346602,0.1616394371,0.1636586487,0.1641634107,0.1656778455,0.1676971763,0.1682019383,0.1707259119,0.1712308079,0.1727452427,0.1747644544,0.1757739931,0.1757739931,0.1762788892,0.1757739931,0.1757739931,0.1747644544,0.1737547815,0.1737547815,0.1732500196,0.1727452427,0.1732500196,0.1737547815,0.1732500196,0.1737547815,0.1727452427,0.1722403467,0.1717355847,0.1707259119,0.1702211499,0.1692114919,0.1697163731,0.1692114919,0.1687067151,0.1687067151,0.1692114919,0.1682019383,0.1676971763,0.1661827415,0.1651730686,0.1641634107,0.1631538719,0.1616394371,0.1611346602,0.1601250023,0.1606297791,0.1601250023,0.1601250023],\"y\":[0.2016159825642907,0.20095755169583365,0.20030146500093218,0.20030146500093218,0.199974282268442,0.1993215178249571,0.19834664808520414,0.1976995206024229,0.19705470642314724,0.1967330550831566,0.1964120456057154,0.1964120456057154,0.1967330550831566,0.19705470642314724,0.19705470642314724,0.19705470642314724,0.1967330550831566,0.1967330550831566,0.1967330550831566,0.1964120456057154,0.19577167275331192,0.19577167275331192,0.19609158200912183,0.19609158200912183,0.19577167275331192,0.19609158200912183,0.19577167275331192,0.19577167275331192,0.19545225107584588,0.19545225107584588,0.19545225107584588,0.19481519625273125,0.19481519625273125,0.19481519625273125,0.19449742962743885,0.19418027832893336,0.19449742962743885,0.19481519625273125,0.19449742962743885,0.19418027832893336,0.19418027832893336,0.19449742962743885,0.19449742962743885,0.19418027832893336,0.19418027832893336,0.19418027832893336,0.19418027832893336,0.19418027832893336,0.19418027832893336,0.19449742962743885,0.19449742962743885,0.19513344793002793,0.19577167275331192,0.19609158200912183,0.19737683911878998,0.1976995206024229,0.19867101978601867,0.199974282268442,0.20030146500093218,0.20194601028747172,0.20227669777428997,0.20327203667680097,0.20460720102641455,0.20527821445272407,0.20527821445272407,0.2056146780962666,0.20527821445272407,0.20527821445272407,0.20460720102641455,0.2039384185358604,0.2039384185358604,0.20360494410044136,0.20327203667680097,0.20360494410044136,0.2039384185358604,0.20360494410044136,0.2039384185358604,0.20327203667680097,0.2029396268409369,0.20260788020501566,0.20194601028747172,0.2016159825642907,0.20095755169583365,0.20128651612293114,0.20095755169583365,0.2006292243441566,0.2006292243441566,0.20095755169583365,0.20030146500093218,0.199974282268442,0.19899603035778796,0.19834664808520414,0.1976995206024229,0.19705470642314724,0.19609158200912183,0.19577167275331192,0.19513344793002793,0.19545225107584588,0.19513344793002793,0.19513344793002793],\"type\":\"scatter\"}],                        {\"template\":{\"data\":{\"barpolar\":[{\"marker\":{\"line\":{\"color\":\"white\",\"width\":0.5},\"pattern\":{\"fillmode\":\"overlay\",\"size\":10,\"solidity\":0.2}},\"type\":\"barpolar\"}],\"bar\":[{\"error_x\":{\"color\":\"#2a3f5f\"},\"error_y\":{\"color\":\"#2a3f5f\"},\"marker\":{\"line\":{\"color\":\"white\",\"width\":0.5},\"pattern\":{\"fillmode\":\"overlay\",\"size\":10,\"solidity\":0.2}},\"type\":\"bar\"}],\"carpet\":[{\"aaxis\":{\"endlinecolor\":\"#2a3f5f\",\"gridcolor\":\"#C8D4E3\",\"linecolor\":\"#C8D4E3\",\"minorgridcolor\":\"#C8D4E3\",\"startlinecolor\":\"#2a3f5f\"},\"baxis\":{\"endlinecolor\":\"#2a3f5f\",\"gridcolor\":\"#C8D4E3\",\"linecolor\":\"#C8D4E3\",\"minorgridcolor\":\"#C8D4E3\",\"startlinecolor\":\"#2a3f5f\"},\"type\":\"carpet\"}],\"choropleth\":[{\"colorbar\":{\"outlinewidth\":0,\"ticks\":\"\"},\"type\":\"choropleth\"}],\"contourcarpet\":[{\"colorbar\":{\"outlinewidth\":0,\"ticks\":\"\"},\"type\":\"contourcarpet\"}],\"contour\":[{\"colorbar\":{\"outlinewidth\":0,\"ticks\":\"\"},\"colorscale\":[[0.0,\"#0d0887\"],[0.1111111111111111,\"#46039f\"],[0.2222222222222222,\"#7201a8\"],[0.3333333333333333,\"#9c179e\"],[0.4444444444444444,\"#bd3786\"],[0.5555555555555556,\"#d8576b\"],[0.6666666666666666,\"#ed7953\"],[0.7777777777777778,\"#fb9f3a\"],[0.8888888888888888,\"#fdca26\"],[1.0,\"#f0f921\"]],\"type\":\"contour\"}],\"heatmapgl\":[{\"colorbar\":{\"outlinewidth\":0,\"ticks\":\"\"},\"colorscale\":[[0.0,\"#0d0887\"],[0.1111111111111111,\"#46039f\"],[0.2222222222222222,\"#7201a8\"],[0.3333333333333333,\"#9c179e\"],[0.4444444444444444,\"#bd3786\"],[0.5555555555555556,\"#d8576b\"],[0.6666666666666666,\"#ed7953\"],[0.7777777777777778,\"#fb9f3a\"],[0.8888888888888888,\"#fdca26\"],[1.0,\"#f0f921\"]],\"type\":\"heatmapgl\"}],\"heatmap\":[{\"colorbar\":{\"outlinewidth\":0,\"ticks\":\"\"},\"colorscale\":[[0.0,\"#0d0887\"],[0.1111111111111111,\"#46039f\"],[0.2222222222222222,\"#7201a8\"],[0.3333333333333333,\"#9c179e\"],[0.4444444444444444,\"#bd3786\"],[0.5555555555555556,\"#d8576b\"],[0.6666666666666666,\"#ed7953\"],[0.7777777777777778,\"#fb9f3a\"],[0.8888888888888888,\"#fdca26\"],[1.0,\"#f0f921\"]],\"type\":\"heatmap\"}],\"histogram2dcontour\":[{\"colorbar\":{\"outlinewidth\":0,\"ticks\":\"\"},\"colorscale\":[[0.0,\"#0d0887\"],[0.1111111111111111,\"#46039f\"],[0.2222222222222222,\"#7201a8\"],[0.3333333333333333,\"#9c179e\"],[0.4444444444444444,\"#bd3786\"],[0.5555555555555556,\"#d8576b\"],[0.6666666666666666,\"#ed7953\"],[0.7777777777777778,\"#fb9f3a\"],[0.8888888888888888,\"#fdca26\"],[1.0,\"#f0f921\"]],\"type\":\"histogram2dcontour\"}],\"histogram2d\":[{\"colorbar\":{\"outlinewidth\":0,\"ticks\":\"\"},\"colorscale\":[[0.0,\"#0d0887\"],[0.1111111111111111,\"#46039f\"],[0.2222222222222222,\"#7201a8\"],[0.3333333333333333,\"#9c179e\"],[0.4444444444444444,\"#bd3786\"],[0.5555555555555556,\"#d8576b\"],[0.6666666666666666,\"#ed7953\"],[0.7777777777777778,\"#fb9f3a\"],[0.8888888888888888,\"#fdca26\"],[1.0,\"#f0f921\"]],\"type\":\"histogram2d\"}],\"histogram\":[{\"marker\":{\"pattern\":{\"fillmode\":\"overlay\",\"size\":10,\"solidity\":0.2}},\"type\":\"histogram\"}],\"mesh3d\":[{\"colorbar\":{\"outlinewidth\":0,\"ticks\":\"\"},\"type\":\"mesh3d\"}],\"parcoords\":[{\"line\":{\"colorbar\":{\"outlinewidth\":0,\"ticks\":\"\"}},\"type\":\"parcoords\"}],\"pie\":[{\"automargin\":true,\"type\":\"pie\"}],\"scatter3d\":[{\"line\":{\"colorbar\":{\"outlinewidth\":0,\"ticks\":\"\"}},\"marker\":{\"colorbar\":{\"outlinewidth\":0,\"ticks\":\"\"}},\"type\":\"scatter3d\"}],\"scattercarpet\":[{\"marker\":{\"colorbar\":{\"outlinewidth\":0,\"ticks\":\"\"}},\"type\":\"scattercarpet\"}],\"scattergeo\":[{\"marker\":{\"colorbar\":{\"outlinewidth\":0,\"ticks\":\"\"}},\"type\":\"scattergeo\"}],\"scattergl\":[{\"marker\":{\"colorbar\":{\"outlinewidth\":0,\"ticks\":\"\"}},\"type\":\"scattergl\"}],\"scattermapbox\":[{\"marker\":{\"colorbar\":{\"outlinewidth\":0,\"ticks\":\"\"}},\"type\":\"scattermapbox\"}],\"scatterpolargl\":[{\"marker\":{\"colorbar\":{\"outlinewidth\":0,\"ticks\":\"\"}},\"type\":\"scatterpolargl\"}],\"scatterpolar\":[{\"marker\":{\"colorbar\":{\"outlinewidth\":0,\"ticks\":\"\"}},\"type\":\"scatterpolar\"}],\"scatter\":[{\"fillpattern\":{\"fillmode\":\"overlay\",\"size\":10,\"solidity\":0.2},\"type\":\"scatter\"}],\"scatterternary\":[{\"marker\":{\"colorbar\":{\"outlinewidth\":0,\"ticks\":\"\"}},\"type\":\"scatterternary\"}],\"surface\":[{\"colorbar\":{\"outlinewidth\":0,\"ticks\":\"\"},\"colorscale\":[[0.0,\"#0d0887\"],[0.1111111111111111,\"#46039f\"],[0.2222222222222222,\"#7201a8\"],[0.3333333333333333,\"#9c179e\"],[0.4444444444444444,\"#bd3786\"],[0.5555555555555556,\"#d8576b\"],[0.6666666666666666,\"#ed7953\"],[0.7777777777777778,\"#fb9f3a\"],[0.8888888888888888,\"#fdca26\"],[1.0,\"#f0f921\"]],\"type\":\"surface\"}],\"table\":[{\"cells\":{\"fill\":{\"color\":\"#EBF0F8\"},\"line\":{\"color\":\"white\"}},\"header\":{\"fill\":{\"color\":\"#C8D4E3\"},\"line\":{\"color\":\"white\"}},\"type\":\"table\"}]},\"layout\":{\"annotationdefaults\":{\"arrowcolor\":\"#2a3f5f\",\"arrowhead\":0,\"arrowwidth\":1},\"autotypenumbers\":\"strict\",\"coloraxis\":{\"colorbar\":{\"outlinewidth\":0,\"ticks\":\"\"}},\"colorscale\":{\"diverging\":[[0,\"#8e0152\"],[0.1,\"#c51b7d\"],[0.2,\"#de77ae\"],[0.3,\"#f1b6da\"],[0.4,\"#fde0ef\"],[0.5,\"#f7f7f7\"],[0.6,\"#e6f5d0\"],[0.7,\"#b8e186\"],[0.8,\"#7fbc41\"],[0.9,\"#4d9221\"],[1,\"#276419\"]],\"sequential\":[[0.0,\"#0d0887\"],[0.1111111111111111,\"#46039f\"],[0.2222222222222222,\"#7201a8\"],[0.3333333333333333,\"#9c179e\"],[0.4444444444444444,\"#bd3786\"],[0.5555555555555556,\"#d8576b\"],[0.6666666666666666,\"#ed7953\"],[0.7777777777777778,\"#fb9f3a\"],[0.8888888888888888,\"#fdca26\"],[1.0,\"#f0f921\"]],\"sequentialminus\":[[0.0,\"#0d0887\"],[0.1111111111111111,\"#46039f\"],[0.2222222222222222,\"#7201a8\"],[0.3333333333333333,\"#9c179e\"],[0.4444444444444444,\"#bd3786\"],[0.5555555555555556,\"#d8576b\"],[0.6666666666666666,\"#ed7953\"],[0.7777777777777778,\"#fb9f3a\"],[0.8888888888888888,\"#fdca26\"],[1.0,\"#f0f921\"]]},\"colorway\":[\"#636efa\",\"#EF553B\",\"#00cc96\",\"#ab63fa\",\"#FFA15A\",\"#19d3f3\",\"#FF6692\",\"#B6E880\",\"#FF97FF\",\"#FECB52\"],\"font\":{\"color\":\"#2a3f5f\"},\"geo\":{\"bgcolor\":\"white\",\"lakecolor\":\"white\",\"landcolor\":\"white\",\"showlakes\":true,\"showland\":true,\"subunitcolor\":\"#C8D4E3\"},\"hoverlabel\":{\"align\":\"left\"},\"hovermode\":\"closest\",\"mapbox\":{\"style\":\"light\"},\"paper_bgcolor\":\"white\",\"plot_bgcolor\":\"white\",\"polar\":{\"angularaxis\":{\"gridcolor\":\"#EBF0F8\",\"linecolor\":\"#EBF0F8\",\"ticks\":\"\"},\"bgcolor\":\"white\",\"radialaxis\":{\"gridcolor\":\"#EBF0F8\",\"linecolor\":\"#EBF0F8\",\"ticks\":\"\"}},\"scene\":{\"xaxis\":{\"backgroundcolor\":\"white\",\"gridcolor\":\"#DFE8F3\",\"gridwidth\":2,\"linecolor\":\"#EBF0F8\",\"showbackground\":true,\"ticks\":\"\",\"zerolinecolor\":\"#EBF0F8\"},\"yaxis\":{\"backgroundcolor\":\"white\",\"gridcolor\":\"#DFE8F3\",\"gridwidth\":2,\"linecolor\":\"#EBF0F8\",\"showbackground\":true,\"ticks\":\"\",\"zerolinecolor\":\"#EBF0F8\"},\"zaxis\":{\"backgroundcolor\":\"white\",\"gridcolor\":\"#DFE8F3\",\"gridwidth\":2,\"linecolor\":\"#EBF0F8\",\"showbackground\":true,\"ticks\":\"\",\"zerolinecolor\":\"#EBF0F8\"}},\"shapedefaults\":{\"line\":{\"color\":\"#2a3f5f\"}},\"ternary\":{\"aaxis\":{\"gridcolor\":\"#DFE8F3\",\"linecolor\":\"#A2B1C6\",\"ticks\":\"\"},\"baxis\":{\"gridcolor\":\"#DFE8F3\",\"linecolor\":\"#A2B1C6\",\"ticks\":\"\"},\"bgcolor\":\"white\",\"caxis\":{\"gridcolor\":\"#DFE8F3\",\"linecolor\":\"#A2B1C6\",\"ticks\":\"\"}},\"title\":{\"x\":0.05},\"xaxis\":{\"automargin\":true,\"gridcolor\":\"#EBF0F8\",\"linecolor\":\"#EBF0F8\",\"ticks\":\"\",\"title\":{\"standoff\":15},\"zerolinecolor\":\"#EBF0F8\",\"zerolinewidth\":2},\"yaxis\":{\"automargin\":true,\"gridcolor\":\"#EBF0F8\",\"linecolor\":\"#EBF0F8\",\"ticks\":\"\",\"title\":{\"standoff\":15},\"zerolinecolor\":\"#EBF0F8\",\"zerolinewidth\":2}}},\"legend\":{\"x\":1.05,\"y\":1,\"traceorder\":\"normal\",\"orientation\":\"v\"},\"title\":{\"text\":\"\\u041f\\u0440\\u0435\\u0434\\u043f\\u043e\\u043b\\u0430\\u0433\\u0430\\u0435\\u043c\\u0430\\u044f \\u043c\\u043e\\u0434\\u0435\\u043b\\u044c - \\u042d\\u043a\\u0441\\u043f\\u043e\\u043d\\u0435\\u043d\\u0446\\u0438\\u0430\\u043b\\u044c\\u043d\\u0430\\u044f\"},\"xaxis\":{\"title\":{\"text\":\"K2065G_2_POROSITY\"}},\"yaxis\":{\"title\":{\"text\":\"K2066G_2_POROSITY\"}}},                        {\"responsive\": true}                    ).then(function(){\n                            \nvar gd = document.getElementById('7123b498-f0b0-4671-9757-c8747faff9a4');\nvar x = new MutationObserver(function (mutations, observer) {{\n        var display = window.getComputedStyle(gd).display;\n        if (!display || display === 'none') {{\n            console.log([gd, 'removed!']);\n            Plotly.purge(gd);\n            observer.disconnect();\n        }}\n}});\n\n// Listen for the removal of the full notebook cells\nvar notebookContainer = gd.closest('#notebook-container');\nif (notebookContainer) {{\n    x.observe(notebookContainer, {childList: true});\n}}\n\n// Listen for the clearing of the current output cell\nvar outputEl = gd.closest('.output');\nif (outputEl) {{\n    x.observe(outputEl, {childList: true});\n}}\n\n                        })                };                });            </script>        </div>"
     },
     "metadata": {},
     "output_type": "display_data"
    },
    {
     "data": {
      "application/vnd.plotly.v1+json": {
       "data": [
        {
         "marker": {
          "color": "blue"
         },
         "mode": "markers",
         "name": "Данные",
         "x": [
          0.1702211499,
          0.1692114919,
          0.1682019383,
          0.1682019383,
          0.1676971763,
          0.1666875035,
          0.1651730686,
          0.1641634107,
          0.1631538719,
          0.1626489758,
          0.1621442139,
          0.1621442139,
          0.1626489758,
          0.1631538719,
          0.1631538719,
          0.1631538719,
          0.1626489758,
          0.1626489758,
          0.1626489758,
          0.1621442139,
          0.1611346602,
          0.1611346602,
          0.1616394371,
          0.1616394371,
          0.1611346602,
          0.1616394371,
          0.1611346602,
          0.1611346602,
          0.1606297791,
          0.1606297791,
          0.1606297791,
          0.1596202254,
          0.1596202254,
          0.1596202254,
          0.1591153443,
          0.1586105675,
          0.1591153443,
          0.1596202254,
          0.1591153443,
          0.1586105675,
          0.1586105675,
          0.1591153443,
          0.1591153443,
          0.1586105675,
          0.1586105675,
          0.1586105675,
          0.1586105675,
          0.1586105675,
          0.1586105675,
          0.1591153443,
          0.1591153443,
          0.1601250023,
          0.1611346602,
          0.1616394371,
          0.1636586487,
          0.1641634107,
          0.1656778455,
          0.1676971763,
          0.1682019383,
          0.1707259119,
          0.1712308079,
          0.1727452427,
          0.1747644544,
          0.1757739931,
          0.1757739931,
          0.1762788892,
          0.1757739931,
          0.1757739931,
          0.1747644544,
          0.1737547815,
          0.1737547815,
          0.1732500196,
          0.1727452427,
          0.1732500196,
          0.1737547815,
          0.1732500196,
          0.1737547815,
          0.1727452427,
          0.1722403467,
          0.1717355847,
          0.1707259119,
          0.1702211499,
          0.1692114919,
          0.1697163731,
          0.1692114919,
          0.1687067151,
          0.1687067151,
          0.1692114919,
          0.1682019383,
          0.1676971763,
          0.1661827415,
          0.1651730686,
          0.1641634107,
          0.1631538719,
          0.1616394371,
          0.1611346602,
          0.1601250023,
          0.1606297791,
          0.1601250023,
          0.1601250023
         ],
         "y": [
          0.1899086684,
          0.1899086684,
          0.1894038916,
          0.1878894567,
          0.1863750219,
          0.185365364,
          0.1843558252,
          0.1838509291,
          0.1823364943,
          0.1818317324,
          0.1818317324,
          0.1818317324,
          0.1813269556,
          0.1813269556,
          0.1818317324,
          0.1818317324,
          0.1813269556,
          0.1813269556,
          0.1813269556,
          0.1803172976,
          0.1798125207,
          0.1782980859,
          0.1782980859,
          0.1808220595,
          0.1813269556,
          0.1818317324,
          0.1833461523,
          0.1838509291,
          0.1843558252,
          0.1843558252,
          0.1843558252,
          0.1843558252,
          0.1838509291,
          0.1818317324,
          0.1823364943,
          0.1828413904,
          0.1833461523,
          0.1838509291,
          0.1843558252,
          0.1843558252,
          0.1843558252,
          0.1838509291,
          0.1833461523,
          0.1823364943,
          0.1818317324,
          0.1818317324,
          0.1813269556,
          0.1808220595,
          0.1803172976,
          0.1798125207,
          0.1793077439,
          0.1788028628,
          0.1777933091,
          0.1767836511,
          0.1772884279,
          0.1782980859,
          0.1793077439,
          0.1813269556,
          0.1833461523,
          0.1848605871,
          0.1863750219,
          0.1878894567,
          0.1894038916,
          0.1904134303,
          0.1904134303,
          0.1909183264,
          0.1914231032,
          0.1914231032,
          0.1909183264,
          0.1909183264,
          0.1909183264,
          0.1909183264,
          0.1909183264,
          0.1914231032,
          0.1919278651,
          0.192432642,
          0.192937538,
          0.1934423,
          0.1944519728,
          0.1949567348,
          0.1964711696,
          0.1974807084,
          0.1979856044,
          0.1989951432,
          0.1989951432,
          0.1989951432,
          0.1989951432,
          0.1989951432,
          0.1984903812,
          0.1979856044,
          0.1979856044,
          0.1974807084,
          0.1974807084,
          0.1969759464,
          0.1969759464,
          0.1964711696,
          0.1964711696,
          0.1964711696,
          0.1964711696,
          0.1964711696
         ],
         "type": "scatter"
        },
        {
         "line": {
          "color": "brown"
         },
         "mode": "lines",
         "name": "Логарифмическая: y=0.1082 * log(x) + 0.3820, R²=0.2894, SSR = 0.0",
         "x": [
          0.1702211499,
          0.1692114919,
          0.1682019383,
          0.1682019383,
          0.1676971763,
          0.1666875035,
          0.1651730686,
          0.1641634107,
          0.1631538719,
          0.1626489758,
          0.1621442139,
          0.1621442139,
          0.1626489758,
          0.1631538719,
          0.1631538719,
          0.1631538719,
          0.1626489758,
          0.1626489758,
          0.1626489758,
          0.1621442139,
          0.1611346602,
          0.1611346602,
          0.1616394371,
          0.1616394371,
          0.1611346602,
          0.1616394371,
          0.1611346602,
          0.1611346602,
          0.1606297791,
          0.1606297791,
          0.1606297791,
          0.1596202254,
          0.1596202254,
          0.1596202254,
          0.1591153443,
          0.1586105675,
          0.1591153443,
          0.1596202254,
          0.1591153443,
          0.1586105675,
          0.1586105675,
          0.1591153443,
          0.1591153443,
          0.1586105675,
          0.1586105675,
          0.1586105675,
          0.1586105675,
          0.1586105675,
          0.1586105675,
          0.1591153443,
          0.1591153443,
          0.1601250023,
          0.1611346602,
          0.1616394371,
          0.1636586487,
          0.1641634107,
          0.1656778455,
          0.1676971763,
          0.1682019383,
          0.1707259119,
          0.1712308079,
          0.1727452427,
          0.1747644544,
          0.1757739931,
          0.1757739931,
          0.1762788892,
          0.1757739931,
          0.1757739931,
          0.1747644544,
          0.1737547815,
          0.1737547815,
          0.1732500196,
          0.1727452427,
          0.1732500196,
          0.1737547815,
          0.1732500196,
          0.1737547815,
          0.1727452427,
          0.1722403467,
          0.1717355847,
          0.1707259119,
          0.1702211499,
          0.1692114919,
          0.1697163731,
          0.1692114919,
          0.1687067151,
          0.1687067151,
          0.1692114919,
          0.1682019383,
          0.1676971763,
          0.1661827415,
          0.1651730686,
          0.1641634107,
          0.1631538719,
          0.1616394371,
          0.1611346602,
          0.1601250023,
          0.1606297791,
          0.1601250023,
          0.1601250023
         ],
         "y": [
          0.19052243327918658,
          0.18987893698924427,
          0.18923165668433117,
          0.18923165668433117,
          0.18890656773995507,
          0.18825334742143318,
          0.1872661090053895,
          0.18660288559139895,
          0.18593564949159966,
          0.18560039734466868,
          0.18526419241140987,
          0.18526419241140987,
          0.18560039734466868,
          0.18593564949159966,
          0.18593564949159966,
          0.18593564949159966,
          0.18560039734466868,
          0.18560039734466868,
          0.18560039734466868,
          0.18526419241140987,
          0.18458861115525735,
          0.18458861115525735,
          0.18492692925356655,
          0.18492692925356655,
          0.18458861115525735,
          0.18492692925356655,
          0.18458861115525735,
          0.18458861115525735,
          0.18424916139629358,
          0.18424916139629358,
          0.18424916139629358,
          0.183567190566391,
          0.183567190566391,
          0.183567190566391,
          0.18322451509035917,
          0.18288082168688033,
          0.18322451509035917,
          0.183567190566391,
          0.18322451509035917,
          0.18288082168688033,
          0.18288082168688033,
          0.18322451509035917,
          0.18322451509035917,
          0.18288082168688033,
          0.18288082168688033,
          0.18288082168688033,
          0.18288082168688033,
          0.18288082168688033,
          0.18288082168688033,
          0.18322451509035917,
          0.18322451509035917,
          0.18390871347593402,
          0.18458861115525735,
          0.18492692925356655,
          0.1862697869192648,
          0.18660288559139895,
          0.18759616798311843,
          0.18890656773995507,
          0.18923165668433117,
          0.1908427090592147,
          0.1911621239680142,
          0.19211458948400334,
          0.19337161442213383,
          0.1939946496362443,
          0.1939946496362443,
          0.19430490442211892,
          0.1939946496362443,
          0.1939946496362443,
          0.19337161442213383,
          0.19274488621482394,
          0.19274488621482394,
          0.19243020162998362,
          0.19211458948400334,
          0.19243020162998362,
          0.19274488621482394,
          0.19243020162998362,
          0.19274488621482394,
          0.19211458948400334,
          0.1917979789459497,
          0.1914805233486262,
          0.1908427090592147,
          0.19052243327918658,
          0.18987893698924427,
          0.19020119693133583,
          0.18987893698924427,
          0.1895557810092291,
          0.1895557810092291,
          0.18987893698924427,
          0.18923165668433117,
          0.18890656773995507,
          0.18792530040694314,
          0.1872661090053895,
          0.18660288559139895,
          0.18593564949159966,
          0.18492692925356655,
          0.18458861115525735,
          0.18390871347593402,
          0.18424916139629358,
          0.18390871347593402,
          0.18390871347593402
         ],
         "type": "scatter"
        },
        {
         "line": {
          "color": "lightgrey",
          "dash": "dash"
         },
         "mode": "lines",
         "name": "Нижняя граница",
         "x": [
          0.1702211499,
          0.1692114919,
          0.1682019383,
          0.1682019383,
          0.1676971763,
          0.1666875035,
          0.1651730686,
          0.1641634107,
          0.1631538719,
          0.1626489758,
          0.1621442139,
          0.1621442139,
          0.1626489758,
          0.1631538719,
          0.1631538719,
          0.1631538719,
          0.1626489758,
          0.1626489758,
          0.1626489758,
          0.1621442139,
          0.1611346602,
          0.1611346602,
          0.1616394371,
          0.1616394371,
          0.1611346602,
          0.1616394371,
          0.1611346602,
          0.1611346602,
          0.1606297791,
          0.1606297791,
          0.1606297791,
          0.1596202254,
          0.1596202254,
          0.1596202254,
          0.1591153443,
          0.1586105675,
          0.1591153443,
          0.1596202254,
          0.1591153443,
          0.1586105675,
          0.1586105675,
          0.1591153443,
          0.1591153443,
          0.1586105675,
          0.1586105675,
          0.1586105675,
          0.1586105675,
          0.1586105675,
          0.1586105675,
          0.1591153443,
          0.1591153443,
          0.1601250023,
          0.1611346602,
          0.1616394371,
          0.1636586487,
          0.1641634107,
          0.1656778455,
          0.1676971763,
          0.1682019383,
          0.1707259119,
          0.1712308079,
          0.1727452427,
          0.1747644544,
          0.1757739931,
          0.1757739931,
          0.1762788892,
          0.1757739931,
          0.1757739931,
          0.1747644544,
          0.1737547815,
          0.1737547815,
          0.1732500196,
          0.1727452427,
          0.1732500196,
          0.1737547815,
          0.1732500196,
          0.1737547815,
          0.1727452427,
          0.1722403467,
          0.1717355847,
          0.1707259119,
          0.1702211499,
          0.1692114919,
          0.1697163731,
          0.1692114919,
          0.1687067151,
          0.1687067151,
          0.1692114919,
          0.1682019383,
          0.1676971763,
          0.1661827415,
          0.1651730686,
          0.1641634107,
          0.1631538719,
          0.1616394371,
          0.1611346602,
          0.1601250023,
          0.1606297791,
          0.1601250023,
          0.1601250023
         ],
         "y": [
          0.17937053239773665,
          0.17872703610779433,
          0.17807975580288124,
          0.17807975580288124,
          0.17775466685850513,
          0.17710144653998325,
          0.17611420812393958,
          0.17545098470994902,
          0.17478374861014973,
          0.17444849646321875,
          0.17411229152995994,
          0.17411229152995994,
          0.17444849646321875,
          0.17478374861014973,
          0.17478374861014973,
          0.17478374861014973,
          0.17444849646321875,
          0.17444849646321875,
          0.17444849646321875,
          0.17411229152995994,
          0.17343671027380742,
          0.17343671027380742,
          0.1737750283721166,
          0.1737750283721166,
          0.17343671027380742,
          0.1737750283721166,
          0.17343671027380742,
          0.17343671027380742,
          0.17309726051484364,
          0.17309726051484364,
          0.17309726051484364,
          0.17241528968494108,
          0.17241528968494108,
          0.17241528968494108,
          0.17207261420890924,
          0.1717289208054304,
          0.17207261420890924,
          0.17241528968494108,
          0.17207261420890924,
          0.1717289208054304,
          0.1717289208054304,
          0.17207261420890924,
          0.17207261420890924,
          0.1717289208054304,
          0.1717289208054304,
          0.1717289208054304,
          0.1717289208054304,
          0.1717289208054304,
          0.1717289208054304,
          0.17207261420890924,
          0.17207261420890924,
          0.17275681259448408,
          0.17343671027380742,
          0.1737750283721166,
          0.17511788603781486,
          0.17545098470994902,
          0.1764442671016685,
          0.17775466685850513,
          0.17807975580288124,
          0.17969080817776475,
          0.18001022308656428,
          0.1809626886025534,
          0.1822197135406839,
          0.18284274875479437,
          0.18284274875479437,
          0.183153003540669,
          0.18284274875479437,
          0.18284274875479437,
          0.1822197135406839,
          0.181592985333374,
          0.181592985333374,
          0.18127830074853368,
          0.1809626886025534,
          0.18127830074853368,
          0.181592985333374,
          0.18127830074853368,
          0.181592985333374,
          0.1809626886025534,
          0.18064607806449975,
          0.18032862246717626,
          0.17969080817776475,
          0.17937053239773665,
          0.17872703610779433,
          0.1790492960498859,
          0.17872703610779433,
          0.17840388012777916,
          0.17840388012777916,
          0.17872703610779433,
          0.17807975580288124,
          0.17775466685850513,
          0.1767733995254932,
          0.17611420812393958,
          0.17545098470994902,
          0.17478374861014973,
          0.1737750283721166,
          0.17343671027380742,
          0.17275681259448408,
          0.17309726051484364,
          0.17275681259448408,
          0.17275681259448408
         ],
         "type": "scatter"
        },
        {
         "line": {
          "color": "lightgrey",
          "dash": "dash"
         },
         "mode": "lines",
         "name": "Верхняя граница",
         "x": [
          0.1702211499,
          0.1692114919,
          0.1682019383,
          0.1682019383,
          0.1676971763,
          0.1666875035,
          0.1651730686,
          0.1641634107,
          0.1631538719,
          0.1626489758,
          0.1621442139,
          0.1621442139,
          0.1626489758,
          0.1631538719,
          0.1631538719,
          0.1631538719,
          0.1626489758,
          0.1626489758,
          0.1626489758,
          0.1621442139,
          0.1611346602,
          0.1611346602,
          0.1616394371,
          0.1616394371,
          0.1611346602,
          0.1616394371,
          0.1611346602,
          0.1611346602,
          0.1606297791,
          0.1606297791,
          0.1606297791,
          0.1596202254,
          0.1596202254,
          0.1596202254,
          0.1591153443,
          0.1586105675,
          0.1591153443,
          0.1596202254,
          0.1591153443,
          0.1586105675,
          0.1586105675,
          0.1591153443,
          0.1591153443,
          0.1586105675,
          0.1586105675,
          0.1586105675,
          0.1586105675,
          0.1586105675,
          0.1586105675,
          0.1591153443,
          0.1591153443,
          0.1601250023,
          0.1611346602,
          0.1616394371,
          0.1636586487,
          0.1641634107,
          0.1656778455,
          0.1676971763,
          0.1682019383,
          0.1707259119,
          0.1712308079,
          0.1727452427,
          0.1747644544,
          0.1757739931,
          0.1757739931,
          0.1762788892,
          0.1757739931,
          0.1757739931,
          0.1747644544,
          0.1737547815,
          0.1737547815,
          0.1732500196,
          0.1727452427,
          0.1732500196,
          0.1737547815,
          0.1732500196,
          0.1737547815,
          0.1727452427,
          0.1722403467,
          0.1717355847,
          0.1707259119,
          0.1702211499,
          0.1692114919,
          0.1697163731,
          0.1692114919,
          0.1687067151,
          0.1687067151,
          0.1692114919,
          0.1682019383,
          0.1676971763,
          0.1661827415,
          0.1651730686,
          0.1641634107,
          0.1631538719,
          0.1616394371,
          0.1611346602,
          0.1601250023,
          0.1606297791,
          0.1601250023,
          0.1601250023
         ],
         "y": [
          0.20167433416063651,
          0.2010308378706942,
          0.2003835575657811,
          0.2003835575657811,
          0.200058468621405,
          0.19940524830288311,
          0.19841800988683944,
          0.1977547864728489,
          0.1970875503730496,
          0.19675229822611862,
          0.1964160932928598,
          0.1964160932928598,
          0.19675229822611862,
          0.1970875503730496,
          0.1970875503730496,
          0.1970875503730496,
          0.19675229822611862,
          0.19675229822611862,
          0.19675229822611862,
          0.1964160932928598,
          0.19574051203670728,
          0.19574051203670728,
          0.19607883013501648,
          0.19607883013501648,
          0.19574051203670728,
          0.19607883013501648,
          0.19574051203670728,
          0.19574051203670728,
          0.1954010622777435,
          0.1954010622777435,
          0.1954010622777435,
          0.19471909144784094,
          0.19471909144784094,
          0.19471909144784094,
          0.1943764159718091,
          0.19403272256833026,
          0.1943764159718091,
          0.19471909144784094,
          0.1943764159718091,
          0.19403272256833026,
          0.19403272256833026,
          0.1943764159718091,
          0.1943764159718091,
          0.19403272256833026,
          0.19403272256833026,
          0.19403272256833026,
          0.19403272256833026,
          0.19403272256833026,
          0.19403272256833026,
          0.1943764159718091,
          0.1943764159718091,
          0.19506061435738395,
          0.19574051203670728,
          0.19607883013501648,
          0.19742168780071473,
          0.1977547864728489,
          0.19874806886456836,
          0.200058468621405,
          0.2003835575657811,
          0.20199460994066462,
          0.20231402484946415,
          0.20326649036545327,
          0.20452351530358376,
          0.20514655051769423,
          0.20514655051769423,
          0.20545680530356886,
          0.20514655051769423,
          0.20514655051769423,
          0.20452351530358376,
          0.20389678709627387,
          0.20389678709627387,
          0.20358210251143355,
          0.20326649036545327,
          0.20358210251143355,
          0.20389678709627387,
          0.20358210251143355,
          0.20389678709627387,
          0.20326649036545327,
          0.20294987982739962,
          0.20263242423007613,
          0.20199460994066462,
          0.20167433416063651,
          0.2010308378706942,
          0.20135309781278576,
          0.2010308378706942,
          0.20070768189067903,
          0.20070768189067903,
          0.2010308378706942,
          0.2003835575657811,
          0.200058468621405,
          0.19907720128839307,
          0.19841800988683944,
          0.1977547864728489,
          0.1970875503730496,
          0.19607883013501648,
          0.19574051203670728,
          0.19506061435738395,
          0.1954010622777435,
          0.19506061435738395,
          0.19506061435738395
         ],
         "type": "scatter"
        }
       ],
       "layout": {
        "template": {
         "data": {
          "barpolar": [
           {
            "marker": {
             "line": {
              "color": "white",
              "width": 0.5
             },
             "pattern": {
              "fillmode": "overlay",
              "size": 10,
              "solidity": 0.2
             }
            },
            "type": "barpolar"
           }
          ],
          "bar": [
           {
            "error_x": {
             "color": "#2a3f5f"
            },
            "error_y": {
             "color": "#2a3f5f"
            },
            "marker": {
             "line": {
              "color": "white",
              "width": 0.5
             },
             "pattern": {
              "fillmode": "overlay",
              "size": 10,
              "solidity": 0.2
             }
            },
            "type": "bar"
           }
          ],
          "carpet": [
           {
            "aaxis": {
             "endlinecolor": "#2a3f5f",
             "gridcolor": "#C8D4E3",
             "linecolor": "#C8D4E3",
             "minorgridcolor": "#C8D4E3",
             "startlinecolor": "#2a3f5f"
            },
            "baxis": {
             "endlinecolor": "#2a3f5f",
             "gridcolor": "#C8D4E3",
             "linecolor": "#C8D4E3",
             "minorgridcolor": "#C8D4E3",
             "startlinecolor": "#2a3f5f"
            },
            "type": "carpet"
           }
          ],
          "choropleth": [
           {
            "colorbar": {
             "outlinewidth": 0,
             "ticks": ""
            },
            "type": "choropleth"
           }
          ],
          "contourcarpet": [
           {
            "colorbar": {
             "outlinewidth": 0,
             "ticks": ""
            },
            "type": "contourcarpet"
           }
          ],
          "contour": [
           {
            "colorbar": {
             "outlinewidth": 0,
             "ticks": ""
            },
            "colorscale": [
             [
              0.0,
              "#0d0887"
             ],
             [
              0.1111111111111111,
              "#46039f"
             ],
             [
              0.2222222222222222,
              "#7201a8"
             ],
             [
              0.3333333333333333,
              "#9c179e"
             ],
             [
              0.4444444444444444,
              "#bd3786"
             ],
             [
              0.5555555555555556,
              "#d8576b"
             ],
             [
              0.6666666666666666,
              "#ed7953"
             ],
             [
              0.7777777777777778,
              "#fb9f3a"
             ],
             [
              0.8888888888888888,
              "#fdca26"
             ],
             [
              1.0,
              "#f0f921"
             ]
            ],
            "type": "contour"
           }
          ],
          "heatmapgl": [
           {
            "colorbar": {
             "outlinewidth": 0,
             "ticks": ""
            },
            "colorscale": [
             [
              0.0,
              "#0d0887"
             ],
             [
              0.1111111111111111,
              "#46039f"
             ],
             [
              0.2222222222222222,
              "#7201a8"
             ],
             [
              0.3333333333333333,
              "#9c179e"
             ],
             [
              0.4444444444444444,
              "#bd3786"
             ],
             [
              0.5555555555555556,
              "#d8576b"
             ],
             [
              0.6666666666666666,
              "#ed7953"
             ],
             [
              0.7777777777777778,
              "#fb9f3a"
             ],
             [
              0.8888888888888888,
              "#fdca26"
             ],
             [
              1.0,
              "#f0f921"
             ]
            ],
            "type": "heatmapgl"
           }
          ],
          "heatmap": [
           {
            "colorbar": {
             "outlinewidth": 0,
             "ticks": ""
            },
            "colorscale": [
             [
              0.0,
              "#0d0887"
             ],
             [
              0.1111111111111111,
              "#46039f"
             ],
             [
              0.2222222222222222,
              "#7201a8"
             ],
             [
              0.3333333333333333,
              "#9c179e"
             ],
             [
              0.4444444444444444,
              "#bd3786"
             ],
             [
              0.5555555555555556,
              "#d8576b"
             ],
             [
              0.6666666666666666,
              "#ed7953"
             ],
             [
              0.7777777777777778,
              "#fb9f3a"
             ],
             [
              0.8888888888888888,
              "#fdca26"
             ],
             [
              1.0,
              "#f0f921"
             ]
            ],
            "type": "heatmap"
           }
          ],
          "histogram2dcontour": [
           {
            "colorbar": {
             "outlinewidth": 0,
             "ticks": ""
            },
            "colorscale": [
             [
              0.0,
              "#0d0887"
             ],
             [
              0.1111111111111111,
              "#46039f"
             ],
             [
              0.2222222222222222,
              "#7201a8"
             ],
             [
              0.3333333333333333,
              "#9c179e"
             ],
             [
              0.4444444444444444,
              "#bd3786"
             ],
             [
              0.5555555555555556,
              "#d8576b"
             ],
             [
              0.6666666666666666,
              "#ed7953"
             ],
             [
              0.7777777777777778,
              "#fb9f3a"
             ],
             [
              0.8888888888888888,
              "#fdca26"
             ],
             [
              1.0,
              "#f0f921"
             ]
            ],
            "type": "histogram2dcontour"
           }
          ],
          "histogram2d": [
           {
            "colorbar": {
             "outlinewidth": 0,
             "ticks": ""
            },
            "colorscale": [
             [
              0.0,
              "#0d0887"
             ],
             [
              0.1111111111111111,
              "#46039f"
             ],
             [
              0.2222222222222222,
              "#7201a8"
             ],
             [
              0.3333333333333333,
              "#9c179e"
             ],
             [
              0.4444444444444444,
              "#bd3786"
             ],
             [
              0.5555555555555556,
              "#d8576b"
             ],
             [
              0.6666666666666666,
              "#ed7953"
             ],
             [
              0.7777777777777778,
              "#fb9f3a"
             ],
             [
              0.8888888888888888,
              "#fdca26"
             ],
             [
              1.0,
              "#f0f921"
             ]
            ],
            "type": "histogram2d"
           }
          ],
          "histogram": [
           {
            "marker": {
             "pattern": {
              "fillmode": "overlay",
              "size": 10,
              "solidity": 0.2
             }
            },
            "type": "histogram"
           }
          ],
          "mesh3d": [
           {
            "colorbar": {
             "outlinewidth": 0,
             "ticks": ""
            },
            "type": "mesh3d"
           }
          ],
          "parcoords": [
           {
            "line": {
             "colorbar": {
              "outlinewidth": 0,
              "ticks": ""
             }
            },
            "type": "parcoords"
           }
          ],
          "pie": [
           {
            "automargin": true,
            "type": "pie"
           }
          ],
          "scatter3d": [
           {
            "line": {
             "colorbar": {
              "outlinewidth": 0,
              "ticks": ""
             }
            },
            "marker": {
             "colorbar": {
              "outlinewidth": 0,
              "ticks": ""
             }
            },
            "type": "scatter3d"
           }
          ],
          "scattercarpet": [
           {
            "marker": {
             "colorbar": {
              "outlinewidth": 0,
              "ticks": ""
             }
            },
            "type": "scattercarpet"
           }
          ],
          "scattergeo": [
           {
            "marker": {
             "colorbar": {
              "outlinewidth": 0,
              "ticks": ""
             }
            },
            "type": "scattergeo"
           }
          ],
          "scattergl": [
           {
            "marker": {
             "colorbar": {
              "outlinewidth": 0,
              "ticks": ""
             }
            },
            "type": "scattergl"
           }
          ],
          "scattermapbox": [
           {
            "marker": {
             "colorbar": {
              "outlinewidth": 0,
              "ticks": ""
             }
            },
            "type": "scattermapbox"
           }
          ],
          "scatterpolargl": [
           {
            "marker": {
             "colorbar": {
              "outlinewidth": 0,
              "ticks": ""
             }
            },
            "type": "scatterpolargl"
           }
          ],
          "scatterpolar": [
           {
            "marker": {
             "colorbar": {
              "outlinewidth": 0,
              "ticks": ""
             }
            },
            "type": "scatterpolar"
           }
          ],
          "scatter": [
           {
            "fillpattern": {
             "fillmode": "overlay",
             "size": 10,
             "solidity": 0.2
            },
            "type": "scatter"
           }
          ],
          "scatterternary": [
           {
            "marker": {
             "colorbar": {
              "outlinewidth": 0,
              "ticks": ""
             }
            },
            "type": "scatterternary"
           }
          ],
          "surface": [
           {
            "colorbar": {
             "outlinewidth": 0,
             "ticks": ""
            },
            "colorscale": [
             [
              0.0,
              "#0d0887"
             ],
             [
              0.1111111111111111,
              "#46039f"
             ],
             [
              0.2222222222222222,
              "#7201a8"
             ],
             [
              0.3333333333333333,
              "#9c179e"
             ],
             [
              0.4444444444444444,
              "#bd3786"
             ],
             [
              0.5555555555555556,
              "#d8576b"
             ],
             [
              0.6666666666666666,
              "#ed7953"
             ],
             [
              0.7777777777777778,
              "#fb9f3a"
             ],
             [
              0.8888888888888888,
              "#fdca26"
             ],
             [
              1.0,
              "#f0f921"
             ]
            ],
            "type": "surface"
           }
          ],
          "table": [
           {
            "cells": {
             "fill": {
              "color": "#EBF0F8"
             },
             "line": {
              "color": "white"
             }
            },
            "header": {
             "fill": {
              "color": "#C8D4E3"
             },
             "line": {
              "color": "white"
             }
            },
            "type": "table"
           }
          ]
         },
         "layout": {
          "annotationdefaults": {
           "arrowcolor": "#2a3f5f",
           "arrowhead": 0,
           "arrowwidth": 1
          },
          "autotypenumbers": "strict",
          "coloraxis": {
           "colorbar": {
            "outlinewidth": 0,
            "ticks": ""
           }
          },
          "colorscale": {
           "diverging": [
            [
             0,
             "#8e0152"
            ],
            [
             0.1,
             "#c51b7d"
            ],
            [
             0.2,
             "#de77ae"
            ],
            [
             0.3,
             "#f1b6da"
            ],
            [
             0.4,
             "#fde0ef"
            ],
            [
             0.5,
             "#f7f7f7"
            ],
            [
             0.6,
             "#e6f5d0"
            ],
            [
             0.7,
             "#b8e186"
            ],
            [
             0.8,
             "#7fbc41"
            ],
            [
             0.9,
             "#4d9221"
            ],
            [
             1,
             "#276419"
            ]
           ],
           "sequential": [
            [
             0.0,
             "#0d0887"
            ],
            [
             0.1111111111111111,
             "#46039f"
            ],
            [
             0.2222222222222222,
             "#7201a8"
            ],
            [
             0.3333333333333333,
             "#9c179e"
            ],
            [
             0.4444444444444444,
             "#bd3786"
            ],
            [
             0.5555555555555556,
             "#d8576b"
            ],
            [
             0.6666666666666666,
             "#ed7953"
            ],
            [
             0.7777777777777778,
             "#fb9f3a"
            ],
            [
             0.8888888888888888,
             "#fdca26"
            ],
            [
             1.0,
             "#f0f921"
            ]
           ],
           "sequentialminus": [
            [
             0.0,
             "#0d0887"
            ],
            [
             0.1111111111111111,
             "#46039f"
            ],
            [
             0.2222222222222222,
             "#7201a8"
            ],
            [
             0.3333333333333333,
             "#9c179e"
            ],
            [
             0.4444444444444444,
             "#bd3786"
            ],
            [
             0.5555555555555556,
             "#d8576b"
            ],
            [
             0.6666666666666666,
             "#ed7953"
            ],
            [
             0.7777777777777778,
             "#fb9f3a"
            ],
            [
             0.8888888888888888,
             "#fdca26"
            ],
            [
             1.0,
             "#f0f921"
            ]
           ]
          },
          "colorway": [
           "#636efa",
           "#EF553B",
           "#00cc96",
           "#ab63fa",
           "#FFA15A",
           "#19d3f3",
           "#FF6692",
           "#B6E880",
           "#FF97FF",
           "#FECB52"
          ],
          "font": {
           "color": "#2a3f5f"
          },
          "geo": {
           "bgcolor": "white",
           "lakecolor": "white",
           "landcolor": "white",
           "showlakes": true,
           "showland": true,
           "subunitcolor": "#C8D4E3"
          },
          "hoverlabel": {
           "align": "left"
          },
          "hovermode": "closest",
          "mapbox": {
           "style": "light"
          },
          "paper_bgcolor": "white",
          "plot_bgcolor": "white",
          "polar": {
           "angularaxis": {
            "gridcolor": "#EBF0F8",
            "linecolor": "#EBF0F8",
            "ticks": ""
           },
           "bgcolor": "white",
           "radialaxis": {
            "gridcolor": "#EBF0F8",
            "linecolor": "#EBF0F8",
            "ticks": ""
           }
          },
          "scene": {
           "xaxis": {
            "backgroundcolor": "white",
            "gridcolor": "#DFE8F3",
            "gridwidth": 2,
            "linecolor": "#EBF0F8",
            "showbackground": true,
            "ticks": "",
            "zerolinecolor": "#EBF0F8"
           },
           "yaxis": {
            "backgroundcolor": "white",
            "gridcolor": "#DFE8F3",
            "gridwidth": 2,
            "linecolor": "#EBF0F8",
            "showbackground": true,
            "ticks": "",
            "zerolinecolor": "#EBF0F8"
           },
           "zaxis": {
            "backgroundcolor": "white",
            "gridcolor": "#DFE8F3",
            "gridwidth": 2,
            "linecolor": "#EBF0F8",
            "showbackground": true,
            "ticks": "",
            "zerolinecolor": "#EBF0F8"
           }
          },
          "shapedefaults": {
           "line": {
            "color": "#2a3f5f"
           }
          },
          "ternary": {
           "aaxis": {
            "gridcolor": "#DFE8F3",
            "linecolor": "#A2B1C6",
            "ticks": ""
           },
           "baxis": {
            "gridcolor": "#DFE8F3",
            "linecolor": "#A2B1C6",
            "ticks": ""
           },
           "bgcolor": "white",
           "caxis": {
            "gridcolor": "#DFE8F3",
            "linecolor": "#A2B1C6",
            "ticks": ""
           }
          },
          "title": {
           "x": 0.05
          },
          "xaxis": {
           "automargin": true,
           "gridcolor": "#EBF0F8",
           "linecolor": "#EBF0F8",
           "ticks": "",
           "title": {
            "standoff": 15
           },
           "zerolinecolor": "#EBF0F8",
           "zerolinewidth": 2
          },
          "yaxis": {
           "automargin": true,
           "gridcolor": "#EBF0F8",
           "linecolor": "#EBF0F8",
           "ticks": "",
           "title": {
            "standoff": 15
           },
           "zerolinecolor": "#EBF0F8",
           "zerolinewidth": 2
          }
         }
        },
        "legend": {
         "x": 1.05,
         "y": 1,
         "traceorder": "normal",
         "orientation": "v"
        },
        "title": {
         "text": "Предполагаемая модель - Логарифмическая"
        },
        "xaxis": {
         "title": {
          "text": "K2065G_2_POROSITY"
         }
        },
        "yaxis": {
         "title": {
          "text": "K2066G_2_POROSITY"
         }
        }
       },
       "config": {
        "plotlyServerURL": "https://plot.ly"
       }
      },
      "text/html": "<div>                            <div id=\"111526dd-7282-4f78-a9c8-560e023cb27b\" class=\"plotly-graph-div\" style=\"height:525px; width:100%;\"></div>            <script type=\"text/javascript\">                require([\"plotly\"], function(Plotly) {                    window.PLOTLYENV=window.PLOTLYENV || {};                                    if (document.getElementById(\"111526dd-7282-4f78-a9c8-560e023cb27b\")) {                    Plotly.newPlot(                        \"111526dd-7282-4f78-a9c8-560e023cb27b\",                        [{\"marker\":{\"color\":\"blue\"},\"mode\":\"markers\",\"name\":\"\\u0414\\u0430\\u043d\\u043d\\u044b\\u0435\",\"x\":[0.1702211499,0.1692114919,0.1682019383,0.1682019383,0.1676971763,0.1666875035,0.1651730686,0.1641634107,0.1631538719,0.1626489758,0.1621442139,0.1621442139,0.1626489758,0.1631538719,0.1631538719,0.1631538719,0.1626489758,0.1626489758,0.1626489758,0.1621442139,0.1611346602,0.1611346602,0.1616394371,0.1616394371,0.1611346602,0.1616394371,0.1611346602,0.1611346602,0.1606297791,0.1606297791,0.1606297791,0.1596202254,0.1596202254,0.1596202254,0.1591153443,0.1586105675,0.1591153443,0.1596202254,0.1591153443,0.1586105675,0.1586105675,0.1591153443,0.1591153443,0.1586105675,0.1586105675,0.1586105675,0.1586105675,0.1586105675,0.1586105675,0.1591153443,0.1591153443,0.1601250023,0.1611346602,0.1616394371,0.1636586487,0.1641634107,0.1656778455,0.1676971763,0.1682019383,0.1707259119,0.1712308079,0.1727452427,0.1747644544,0.1757739931,0.1757739931,0.1762788892,0.1757739931,0.1757739931,0.1747644544,0.1737547815,0.1737547815,0.1732500196,0.1727452427,0.1732500196,0.1737547815,0.1732500196,0.1737547815,0.1727452427,0.1722403467,0.1717355847,0.1707259119,0.1702211499,0.1692114919,0.1697163731,0.1692114919,0.1687067151,0.1687067151,0.1692114919,0.1682019383,0.1676971763,0.1661827415,0.1651730686,0.1641634107,0.1631538719,0.1616394371,0.1611346602,0.1601250023,0.1606297791,0.1601250023,0.1601250023],\"y\":[0.1899086684,0.1899086684,0.1894038916,0.1878894567,0.1863750219,0.185365364,0.1843558252,0.1838509291,0.1823364943,0.1818317324,0.1818317324,0.1818317324,0.1813269556,0.1813269556,0.1818317324,0.1818317324,0.1813269556,0.1813269556,0.1813269556,0.1803172976,0.1798125207,0.1782980859,0.1782980859,0.1808220595,0.1813269556,0.1818317324,0.1833461523,0.1838509291,0.1843558252,0.1843558252,0.1843558252,0.1843558252,0.1838509291,0.1818317324,0.1823364943,0.1828413904,0.1833461523,0.1838509291,0.1843558252,0.1843558252,0.1843558252,0.1838509291,0.1833461523,0.1823364943,0.1818317324,0.1818317324,0.1813269556,0.1808220595,0.1803172976,0.1798125207,0.1793077439,0.1788028628,0.1777933091,0.1767836511,0.1772884279,0.1782980859,0.1793077439,0.1813269556,0.1833461523,0.1848605871,0.1863750219,0.1878894567,0.1894038916,0.1904134303,0.1904134303,0.1909183264,0.1914231032,0.1914231032,0.1909183264,0.1909183264,0.1909183264,0.1909183264,0.1909183264,0.1914231032,0.1919278651,0.192432642,0.192937538,0.1934423,0.1944519728,0.1949567348,0.1964711696,0.1974807084,0.1979856044,0.1989951432,0.1989951432,0.1989951432,0.1989951432,0.1989951432,0.1984903812,0.1979856044,0.1979856044,0.1974807084,0.1974807084,0.1969759464,0.1969759464,0.1964711696,0.1964711696,0.1964711696,0.1964711696,0.1964711696],\"type\":\"scatter\"},{\"line\":{\"color\":\"brown\"},\"mode\":\"lines\",\"name\":\"\\u041b\\u043e\\u0433\\u0430\\u0440\\u0438\\u0444\\u043c\\u0438\\u0447\\u0435\\u0441\\u043a\\u0430\\u044f: y=0.1082 * log(x) + 0.3820, R\\u00b2=0.2894, SSR = 0.0\",\"x\":[0.1702211499,0.1692114919,0.1682019383,0.1682019383,0.1676971763,0.1666875035,0.1651730686,0.1641634107,0.1631538719,0.1626489758,0.1621442139,0.1621442139,0.1626489758,0.1631538719,0.1631538719,0.1631538719,0.1626489758,0.1626489758,0.1626489758,0.1621442139,0.1611346602,0.1611346602,0.1616394371,0.1616394371,0.1611346602,0.1616394371,0.1611346602,0.1611346602,0.1606297791,0.1606297791,0.1606297791,0.1596202254,0.1596202254,0.1596202254,0.1591153443,0.1586105675,0.1591153443,0.1596202254,0.1591153443,0.1586105675,0.1586105675,0.1591153443,0.1591153443,0.1586105675,0.1586105675,0.1586105675,0.1586105675,0.1586105675,0.1586105675,0.1591153443,0.1591153443,0.1601250023,0.1611346602,0.1616394371,0.1636586487,0.1641634107,0.1656778455,0.1676971763,0.1682019383,0.1707259119,0.1712308079,0.1727452427,0.1747644544,0.1757739931,0.1757739931,0.1762788892,0.1757739931,0.1757739931,0.1747644544,0.1737547815,0.1737547815,0.1732500196,0.1727452427,0.1732500196,0.1737547815,0.1732500196,0.1737547815,0.1727452427,0.1722403467,0.1717355847,0.1707259119,0.1702211499,0.1692114919,0.1697163731,0.1692114919,0.1687067151,0.1687067151,0.1692114919,0.1682019383,0.1676971763,0.1661827415,0.1651730686,0.1641634107,0.1631538719,0.1616394371,0.1611346602,0.1601250023,0.1606297791,0.1601250023,0.1601250023],\"y\":[0.19052243327918658,0.18987893698924427,0.18923165668433117,0.18923165668433117,0.18890656773995507,0.18825334742143318,0.1872661090053895,0.18660288559139895,0.18593564949159966,0.18560039734466868,0.18526419241140987,0.18526419241140987,0.18560039734466868,0.18593564949159966,0.18593564949159966,0.18593564949159966,0.18560039734466868,0.18560039734466868,0.18560039734466868,0.18526419241140987,0.18458861115525735,0.18458861115525735,0.18492692925356655,0.18492692925356655,0.18458861115525735,0.18492692925356655,0.18458861115525735,0.18458861115525735,0.18424916139629358,0.18424916139629358,0.18424916139629358,0.183567190566391,0.183567190566391,0.183567190566391,0.18322451509035917,0.18288082168688033,0.18322451509035917,0.183567190566391,0.18322451509035917,0.18288082168688033,0.18288082168688033,0.18322451509035917,0.18322451509035917,0.18288082168688033,0.18288082168688033,0.18288082168688033,0.18288082168688033,0.18288082168688033,0.18288082168688033,0.18322451509035917,0.18322451509035917,0.18390871347593402,0.18458861115525735,0.18492692925356655,0.1862697869192648,0.18660288559139895,0.18759616798311843,0.18890656773995507,0.18923165668433117,0.1908427090592147,0.1911621239680142,0.19211458948400334,0.19337161442213383,0.1939946496362443,0.1939946496362443,0.19430490442211892,0.1939946496362443,0.1939946496362443,0.19337161442213383,0.19274488621482394,0.19274488621482394,0.19243020162998362,0.19211458948400334,0.19243020162998362,0.19274488621482394,0.19243020162998362,0.19274488621482394,0.19211458948400334,0.1917979789459497,0.1914805233486262,0.1908427090592147,0.19052243327918658,0.18987893698924427,0.19020119693133583,0.18987893698924427,0.1895557810092291,0.1895557810092291,0.18987893698924427,0.18923165668433117,0.18890656773995507,0.18792530040694314,0.1872661090053895,0.18660288559139895,0.18593564949159966,0.18492692925356655,0.18458861115525735,0.18390871347593402,0.18424916139629358,0.18390871347593402,0.18390871347593402],\"type\":\"scatter\"},{\"line\":{\"color\":\"lightgrey\",\"dash\":\"dash\"},\"mode\":\"lines\",\"name\":\"\\u041d\\u0438\\u0436\\u043d\\u044f\\u044f \\u0433\\u0440\\u0430\\u043d\\u0438\\u0446\\u0430\",\"x\":[0.1702211499,0.1692114919,0.1682019383,0.1682019383,0.1676971763,0.1666875035,0.1651730686,0.1641634107,0.1631538719,0.1626489758,0.1621442139,0.1621442139,0.1626489758,0.1631538719,0.1631538719,0.1631538719,0.1626489758,0.1626489758,0.1626489758,0.1621442139,0.1611346602,0.1611346602,0.1616394371,0.1616394371,0.1611346602,0.1616394371,0.1611346602,0.1611346602,0.1606297791,0.1606297791,0.1606297791,0.1596202254,0.1596202254,0.1596202254,0.1591153443,0.1586105675,0.1591153443,0.1596202254,0.1591153443,0.1586105675,0.1586105675,0.1591153443,0.1591153443,0.1586105675,0.1586105675,0.1586105675,0.1586105675,0.1586105675,0.1586105675,0.1591153443,0.1591153443,0.1601250023,0.1611346602,0.1616394371,0.1636586487,0.1641634107,0.1656778455,0.1676971763,0.1682019383,0.1707259119,0.1712308079,0.1727452427,0.1747644544,0.1757739931,0.1757739931,0.1762788892,0.1757739931,0.1757739931,0.1747644544,0.1737547815,0.1737547815,0.1732500196,0.1727452427,0.1732500196,0.1737547815,0.1732500196,0.1737547815,0.1727452427,0.1722403467,0.1717355847,0.1707259119,0.1702211499,0.1692114919,0.1697163731,0.1692114919,0.1687067151,0.1687067151,0.1692114919,0.1682019383,0.1676971763,0.1661827415,0.1651730686,0.1641634107,0.1631538719,0.1616394371,0.1611346602,0.1601250023,0.1606297791,0.1601250023,0.1601250023],\"y\":[0.17937053239773665,0.17872703610779433,0.17807975580288124,0.17807975580288124,0.17775466685850513,0.17710144653998325,0.17611420812393958,0.17545098470994902,0.17478374861014973,0.17444849646321875,0.17411229152995994,0.17411229152995994,0.17444849646321875,0.17478374861014973,0.17478374861014973,0.17478374861014973,0.17444849646321875,0.17444849646321875,0.17444849646321875,0.17411229152995994,0.17343671027380742,0.17343671027380742,0.1737750283721166,0.1737750283721166,0.17343671027380742,0.1737750283721166,0.17343671027380742,0.17343671027380742,0.17309726051484364,0.17309726051484364,0.17309726051484364,0.17241528968494108,0.17241528968494108,0.17241528968494108,0.17207261420890924,0.1717289208054304,0.17207261420890924,0.17241528968494108,0.17207261420890924,0.1717289208054304,0.1717289208054304,0.17207261420890924,0.17207261420890924,0.1717289208054304,0.1717289208054304,0.1717289208054304,0.1717289208054304,0.1717289208054304,0.1717289208054304,0.17207261420890924,0.17207261420890924,0.17275681259448408,0.17343671027380742,0.1737750283721166,0.17511788603781486,0.17545098470994902,0.1764442671016685,0.17775466685850513,0.17807975580288124,0.17969080817776475,0.18001022308656428,0.1809626886025534,0.1822197135406839,0.18284274875479437,0.18284274875479437,0.183153003540669,0.18284274875479437,0.18284274875479437,0.1822197135406839,0.181592985333374,0.181592985333374,0.18127830074853368,0.1809626886025534,0.18127830074853368,0.181592985333374,0.18127830074853368,0.181592985333374,0.1809626886025534,0.18064607806449975,0.18032862246717626,0.17969080817776475,0.17937053239773665,0.17872703610779433,0.1790492960498859,0.17872703610779433,0.17840388012777916,0.17840388012777916,0.17872703610779433,0.17807975580288124,0.17775466685850513,0.1767733995254932,0.17611420812393958,0.17545098470994902,0.17478374861014973,0.1737750283721166,0.17343671027380742,0.17275681259448408,0.17309726051484364,0.17275681259448408,0.17275681259448408],\"type\":\"scatter\"},{\"line\":{\"color\":\"lightgrey\",\"dash\":\"dash\"},\"mode\":\"lines\",\"name\":\"\\u0412\\u0435\\u0440\\u0445\\u043d\\u044f\\u044f \\u0433\\u0440\\u0430\\u043d\\u0438\\u0446\\u0430\",\"x\":[0.1702211499,0.1692114919,0.1682019383,0.1682019383,0.1676971763,0.1666875035,0.1651730686,0.1641634107,0.1631538719,0.1626489758,0.1621442139,0.1621442139,0.1626489758,0.1631538719,0.1631538719,0.1631538719,0.1626489758,0.1626489758,0.1626489758,0.1621442139,0.1611346602,0.1611346602,0.1616394371,0.1616394371,0.1611346602,0.1616394371,0.1611346602,0.1611346602,0.1606297791,0.1606297791,0.1606297791,0.1596202254,0.1596202254,0.1596202254,0.1591153443,0.1586105675,0.1591153443,0.1596202254,0.1591153443,0.1586105675,0.1586105675,0.1591153443,0.1591153443,0.1586105675,0.1586105675,0.1586105675,0.1586105675,0.1586105675,0.1586105675,0.1591153443,0.1591153443,0.1601250023,0.1611346602,0.1616394371,0.1636586487,0.1641634107,0.1656778455,0.1676971763,0.1682019383,0.1707259119,0.1712308079,0.1727452427,0.1747644544,0.1757739931,0.1757739931,0.1762788892,0.1757739931,0.1757739931,0.1747644544,0.1737547815,0.1737547815,0.1732500196,0.1727452427,0.1732500196,0.1737547815,0.1732500196,0.1737547815,0.1727452427,0.1722403467,0.1717355847,0.1707259119,0.1702211499,0.1692114919,0.1697163731,0.1692114919,0.1687067151,0.1687067151,0.1692114919,0.1682019383,0.1676971763,0.1661827415,0.1651730686,0.1641634107,0.1631538719,0.1616394371,0.1611346602,0.1601250023,0.1606297791,0.1601250023,0.1601250023],\"y\":[0.20167433416063651,0.2010308378706942,0.2003835575657811,0.2003835575657811,0.200058468621405,0.19940524830288311,0.19841800988683944,0.1977547864728489,0.1970875503730496,0.19675229822611862,0.1964160932928598,0.1964160932928598,0.19675229822611862,0.1970875503730496,0.1970875503730496,0.1970875503730496,0.19675229822611862,0.19675229822611862,0.19675229822611862,0.1964160932928598,0.19574051203670728,0.19574051203670728,0.19607883013501648,0.19607883013501648,0.19574051203670728,0.19607883013501648,0.19574051203670728,0.19574051203670728,0.1954010622777435,0.1954010622777435,0.1954010622777435,0.19471909144784094,0.19471909144784094,0.19471909144784094,0.1943764159718091,0.19403272256833026,0.1943764159718091,0.19471909144784094,0.1943764159718091,0.19403272256833026,0.19403272256833026,0.1943764159718091,0.1943764159718091,0.19403272256833026,0.19403272256833026,0.19403272256833026,0.19403272256833026,0.19403272256833026,0.19403272256833026,0.1943764159718091,0.1943764159718091,0.19506061435738395,0.19574051203670728,0.19607883013501648,0.19742168780071473,0.1977547864728489,0.19874806886456836,0.200058468621405,0.2003835575657811,0.20199460994066462,0.20231402484946415,0.20326649036545327,0.20452351530358376,0.20514655051769423,0.20514655051769423,0.20545680530356886,0.20514655051769423,0.20514655051769423,0.20452351530358376,0.20389678709627387,0.20389678709627387,0.20358210251143355,0.20326649036545327,0.20358210251143355,0.20389678709627387,0.20358210251143355,0.20389678709627387,0.20326649036545327,0.20294987982739962,0.20263242423007613,0.20199460994066462,0.20167433416063651,0.2010308378706942,0.20135309781278576,0.2010308378706942,0.20070768189067903,0.20070768189067903,0.2010308378706942,0.2003835575657811,0.200058468621405,0.19907720128839307,0.19841800988683944,0.1977547864728489,0.1970875503730496,0.19607883013501648,0.19574051203670728,0.19506061435738395,0.1954010622777435,0.19506061435738395,0.19506061435738395],\"type\":\"scatter\"}],                        {\"template\":{\"data\":{\"barpolar\":[{\"marker\":{\"line\":{\"color\":\"white\",\"width\":0.5},\"pattern\":{\"fillmode\":\"overlay\",\"size\":10,\"solidity\":0.2}},\"type\":\"barpolar\"}],\"bar\":[{\"error_x\":{\"color\":\"#2a3f5f\"},\"error_y\":{\"color\":\"#2a3f5f\"},\"marker\":{\"line\":{\"color\":\"white\",\"width\":0.5},\"pattern\":{\"fillmode\":\"overlay\",\"size\":10,\"solidity\":0.2}},\"type\":\"bar\"}],\"carpet\":[{\"aaxis\":{\"endlinecolor\":\"#2a3f5f\",\"gridcolor\":\"#C8D4E3\",\"linecolor\":\"#C8D4E3\",\"minorgridcolor\":\"#C8D4E3\",\"startlinecolor\":\"#2a3f5f\"},\"baxis\":{\"endlinecolor\":\"#2a3f5f\",\"gridcolor\":\"#C8D4E3\",\"linecolor\":\"#C8D4E3\",\"minorgridcolor\":\"#C8D4E3\",\"startlinecolor\":\"#2a3f5f\"},\"type\":\"carpet\"}],\"choropleth\":[{\"colorbar\":{\"outlinewidth\":0,\"ticks\":\"\"},\"type\":\"choropleth\"}],\"contourcarpet\":[{\"colorbar\":{\"outlinewidth\":0,\"ticks\":\"\"},\"type\":\"contourcarpet\"}],\"contour\":[{\"colorbar\":{\"outlinewidth\":0,\"ticks\":\"\"},\"colorscale\":[[0.0,\"#0d0887\"],[0.1111111111111111,\"#46039f\"],[0.2222222222222222,\"#7201a8\"],[0.3333333333333333,\"#9c179e\"],[0.4444444444444444,\"#bd3786\"],[0.5555555555555556,\"#d8576b\"],[0.6666666666666666,\"#ed7953\"],[0.7777777777777778,\"#fb9f3a\"],[0.8888888888888888,\"#fdca26\"],[1.0,\"#f0f921\"]],\"type\":\"contour\"}],\"heatmapgl\":[{\"colorbar\":{\"outlinewidth\":0,\"ticks\":\"\"},\"colorscale\":[[0.0,\"#0d0887\"],[0.1111111111111111,\"#46039f\"],[0.2222222222222222,\"#7201a8\"],[0.3333333333333333,\"#9c179e\"],[0.4444444444444444,\"#bd3786\"],[0.5555555555555556,\"#d8576b\"],[0.6666666666666666,\"#ed7953\"],[0.7777777777777778,\"#fb9f3a\"],[0.8888888888888888,\"#fdca26\"],[1.0,\"#f0f921\"]],\"type\":\"heatmapgl\"}],\"heatmap\":[{\"colorbar\":{\"outlinewidth\":0,\"ticks\":\"\"},\"colorscale\":[[0.0,\"#0d0887\"],[0.1111111111111111,\"#46039f\"],[0.2222222222222222,\"#7201a8\"],[0.3333333333333333,\"#9c179e\"],[0.4444444444444444,\"#bd3786\"],[0.5555555555555556,\"#d8576b\"],[0.6666666666666666,\"#ed7953\"],[0.7777777777777778,\"#fb9f3a\"],[0.8888888888888888,\"#fdca26\"],[1.0,\"#f0f921\"]],\"type\":\"heatmap\"}],\"histogram2dcontour\":[{\"colorbar\":{\"outlinewidth\":0,\"ticks\":\"\"},\"colorscale\":[[0.0,\"#0d0887\"],[0.1111111111111111,\"#46039f\"],[0.2222222222222222,\"#7201a8\"],[0.3333333333333333,\"#9c179e\"],[0.4444444444444444,\"#bd3786\"],[0.5555555555555556,\"#d8576b\"],[0.6666666666666666,\"#ed7953\"],[0.7777777777777778,\"#fb9f3a\"],[0.8888888888888888,\"#fdca26\"],[1.0,\"#f0f921\"]],\"type\":\"histogram2dcontour\"}],\"histogram2d\":[{\"colorbar\":{\"outlinewidth\":0,\"ticks\":\"\"},\"colorscale\":[[0.0,\"#0d0887\"],[0.1111111111111111,\"#46039f\"],[0.2222222222222222,\"#7201a8\"],[0.3333333333333333,\"#9c179e\"],[0.4444444444444444,\"#bd3786\"],[0.5555555555555556,\"#d8576b\"],[0.6666666666666666,\"#ed7953\"],[0.7777777777777778,\"#fb9f3a\"],[0.8888888888888888,\"#fdca26\"],[1.0,\"#f0f921\"]],\"type\":\"histogram2d\"}],\"histogram\":[{\"marker\":{\"pattern\":{\"fillmode\":\"overlay\",\"size\":10,\"solidity\":0.2}},\"type\":\"histogram\"}],\"mesh3d\":[{\"colorbar\":{\"outlinewidth\":0,\"ticks\":\"\"},\"type\":\"mesh3d\"}],\"parcoords\":[{\"line\":{\"colorbar\":{\"outlinewidth\":0,\"ticks\":\"\"}},\"type\":\"parcoords\"}],\"pie\":[{\"automargin\":true,\"type\":\"pie\"}],\"scatter3d\":[{\"line\":{\"colorbar\":{\"outlinewidth\":0,\"ticks\":\"\"}},\"marker\":{\"colorbar\":{\"outlinewidth\":0,\"ticks\":\"\"}},\"type\":\"scatter3d\"}],\"scattercarpet\":[{\"marker\":{\"colorbar\":{\"outlinewidth\":0,\"ticks\":\"\"}},\"type\":\"scattercarpet\"}],\"scattergeo\":[{\"marker\":{\"colorbar\":{\"outlinewidth\":0,\"ticks\":\"\"}},\"type\":\"scattergeo\"}],\"scattergl\":[{\"marker\":{\"colorbar\":{\"outlinewidth\":0,\"ticks\":\"\"}},\"type\":\"scattergl\"}],\"scattermapbox\":[{\"marker\":{\"colorbar\":{\"outlinewidth\":0,\"ticks\":\"\"}},\"type\":\"scattermapbox\"}],\"scatterpolargl\":[{\"marker\":{\"colorbar\":{\"outlinewidth\":0,\"ticks\":\"\"}},\"type\":\"scatterpolargl\"}],\"scatterpolar\":[{\"marker\":{\"colorbar\":{\"outlinewidth\":0,\"ticks\":\"\"}},\"type\":\"scatterpolar\"}],\"scatter\":[{\"fillpattern\":{\"fillmode\":\"overlay\",\"size\":10,\"solidity\":0.2},\"type\":\"scatter\"}],\"scatterternary\":[{\"marker\":{\"colorbar\":{\"outlinewidth\":0,\"ticks\":\"\"}},\"type\":\"scatterternary\"}],\"surface\":[{\"colorbar\":{\"outlinewidth\":0,\"ticks\":\"\"},\"colorscale\":[[0.0,\"#0d0887\"],[0.1111111111111111,\"#46039f\"],[0.2222222222222222,\"#7201a8\"],[0.3333333333333333,\"#9c179e\"],[0.4444444444444444,\"#bd3786\"],[0.5555555555555556,\"#d8576b\"],[0.6666666666666666,\"#ed7953\"],[0.7777777777777778,\"#fb9f3a\"],[0.8888888888888888,\"#fdca26\"],[1.0,\"#f0f921\"]],\"type\":\"surface\"}],\"table\":[{\"cells\":{\"fill\":{\"color\":\"#EBF0F8\"},\"line\":{\"color\":\"white\"}},\"header\":{\"fill\":{\"color\":\"#C8D4E3\"},\"line\":{\"color\":\"white\"}},\"type\":\"table\"}]},\"layout\":{\"annotationdefaults\":{\"arrowcolor\":\"#2a3f5f\",\"arrowhead\":0,\"arrowwidth\":1},\"autotypenumbers\":\"strict\",\"coloraxis\":{\"colorbar\":{\"outlinewidth\":0,\"ticks\":\"\"}},\"colorscale\":{\"diverging\":[[0,\"#8e0152\"],[0.1,\"#c51b7d\"],[0.2,\"#de77ae\"],[0.3,\"#f1b6da\"],[0.4,\"#fde0ef\"],[0.5,\"#f7f7f7\"],[0.6,\"#e6f5d0\"],[0.7,\"#b8e186\"],[0.8,\"#7fbc41\"],[0.9,\"#4d9221\"],[1,\"#276419\"]],\"sequential\":[[0.0,\"#0d0887\"],[0.1111111111111111,\"#46039f\"],[0.2222222222222222,\"#7201a8\"],[0.3333333333333333,\"#9c179e\"],[0.4444444444444444,\"#bd3786\"],[0.5555555555555556,\"#d8576b\"],[0.6666666666666666,\"#ed7953\"],[0.7777777777777778,\"#fb9f3a\"],[0.8888888888888888,\"#fdca26\"],[1.0,\"#f0f921\"]],\"sequentialminus\":[[0.0,\"#0d0887\"],[0.1111111111111111,\"#46039f\"],[0.2222222222222222,\"#7201a8\"],[0.3333333333333333,\"#9c179e\"],[0.4444444444444444,\"#bd3786\"],[0.5555555555555556,\"#d8576b\"],[0.6666666666666666,\"#ed7953\"],[0.7777777777777778,\"#fb9f3a\"],[0.8888888888888888,\"#fdca26\"],[1.0,\"#f0f921\"]]},\"colorway\":[\"#636efa\",\"#EF553B\",\"#00cc96\",\"#ab63fa\",\"#FFA15A\",\"#19d3f3\",\"#FF6692\",\"#B6E880\",\"#FF97FF\",\"#FECB52\"],\"font\":{\"color\":\"#2a3f5f\"},\"geo\":{\"bgcolor\":\"white\",\"lakecolor\":\"white\",\"landcolor\":\"white\",\"showlakes\":true,\"showland\":true,\"subunitcolor\":\"#C8D4E3\"},\"hoverlabel\":{\"align\":\"left\"},\"hovermode\":\"closest\",\"mapbox\":{\"style\":\"light\"},\"paper_bgcolor\":\"white\",\"plot_bgcolor\":\"white\",\"polar\":{\"angularaxis\":{\"gridcolor\":\"#EBF0F8\",\"linecolor\":\"#EBF0F8\",\"ticks\":\"\"},\"bgcolor\":\"white\",\"radialaxis\":{\"gridcolor\":\"#EBF0F8\",\"linecolor\":\"#EBF0F8\",\"ticks\":\"\"}},\"scene\":{\"xaxis\":{\"backgroundcolor\":\"white\",\"gridcolor\":\"#DFE8F3\",\"gridwidth\":2,\"linecolor\":\"#EBF0F8\",\"showbackground\":true,\"ticks\":\"\",\"zerolinecolor\":\"#EBF0F8\"},\"yaxis\":{\"backgroundcolor\":\"white\",\"gridcolor\":\"#DFE8F3\",\"gridwidth\":2,\"linecolor\":\"#EBF0F8\",\"showbackground\":true,\"ticks\":\"\",\"zerolinecolor\":\"#EBF0F8\"},\"zaxis\":{\"backgroundcolor\":\"white\",\"gridcolor\":\"#DFE8F3\",\"gridwidth\":2,\"linecolor\":\"#EBF0F8\",\"showbackground\":true,\"ticks\":\"\",\"zerolinecolor\":\"#EBF0F8\"}},\"shapedefaults\":{\"line\":{\"color\":\"#2a3f5f\"}},\"ternary\":{\"aaxis\":{\"gridcolor\":\"#DFE8F3\",\"linecolor\":\"#A2B1C6\",\"ticks\":\"\"},\"baxis\":{\"gridcolor\":\"#DFE8F3\",\"linecolor\":\"#A2B1C6\",\"ticks\":\"\"},\"bgcolor\":\"white\",\"caxis\":{\"gridcolor\":\"#DFE8F3\",\"linecolor\":\"#A2B1C6\",\"ticks\":\"\"}},\"title\":{\"x\":0.05},\"xaxis\":{\"automargin\":true,\"gridcolor\":\"#EBF0F8\",\"linecolor\":\"#EBF0F8\",\"ticks\":\"\",\"title\":{\"standoff\":15},\"zerolinecolor\":\"#EBF0F8\",\"zerolinewidth\":2},\"yaxis\":{\"automargin\":true,\"gridcolor\":\"#EBF0F8\",\"linecolor\":\"#EBF0F8\",\"ticks\":\"\",\"title\":{\"standoff\":15},\"zerolinecolor\":\"#EBF0F8\",\"zerolinewidth\":2}}},\"legend\":{\"x\":1.05,\"y\":1,\"traceorder\":\"normal\",\"orientation\":\"v\"},\"title\":{\"text\":\"\\u041f\\u0440\\u0435\\u0434\\u043f\\u043e\\u043b\\u0430\\u0433\\u0430\\u0435\\u043c\\u0430\\u044f \\u043c\\u043e\\u0434\\u0435\\u043b\\u044c - \\u041b\\u043e\\u0433\\u0430\\u0440\\u0438\\u0444\\u043c\\u0438\\u0447\\u0435\\u0441\\u043a\\u0430\\u044f\"},\"xaxis\":{\"title\":{\"text\":\"K2065G_2_POROSITY\"}},\"yaxis\":{\"title\":{\"text\":\"K2066G_2_POROSITY\"}}},                        {\"responsive\": true}                    ).then(function(){\n                            \nvar gd = document.getElementById('111526dd-7282-4f78-a9c8-560e023cb27b');\nvar x = new MutationObserver(function (mutations, observer) {{\n        var display = window.getComputedStyle(gd).display;\n        if (!display || display === 'none') {{\n            console.log([gd, 'removed!']);\n            Plotly.purge(gd);\n            observer.disconnect();\n        }}\n}});\n\n// Listen for the removal of the full notebook cells\nvar notebookContainer = gd.closest('#notebook-container');\nif (notebookContainer) {{\n    x.observe(notebookContainer, {childList: true});\n}}\n\n// Listen for the clearing of the current output cell\nvar outputEl = gd.closest('.output');\nif (outputEl) {{\n    x.observe(outputEl, {childList: true});\n}}\n\n                        })                };                });            </script>        </div>"
     },
     "metadata": {},
     "output_type": "display_data"
    },
    {
     "data": {
      "application/vnd.plotly.v1+json": {
       "data": [
        {
         "marker": {
          "color": "blue"
         },
         "mode": "markers",
         "name": "Данные",
         "x": [
          0.1702211499,
          0.1692114919,
          0.1682019383,
          0.1682019383,
          0.1676971763,
          0.1666875035,
          0.1651730686,
          0.1641634107,
          0.1631538719,
          0.1626489758,
          0.1621442139,
          0.1621442139,
          0.1626489758,
          0.1631538719,
          0.1631538719,
          0.1631538719,
          0.1626489758,
          0.1626489758,
          0.1626489758,
          0.1621442139,
          0.1611346602,
          0.1611346602,
          0.1616394371,
          0.1616394371,
          0.1611346602,
          0.1616394371,
          0.1611346602,
          0.1611346602,
          0.1606297791,
          0.1606297791,
          0.1606297791,
          0.1596202254,
          0.1596202254,
          0.1596202254,
          0.1591153443,
          0.1586105675,
          0.1591153443,
          0.1596202254,
          0.1591153443,
          0.1586105675,
          0.1586105675,
          0.1591153443,
          0.1591153443,
          0.1586105675,
          0.1586105675,
          0.1586105675,
          0.1586105675,
          0.1586105675,
          0.1586105675,
          0.1591153443,
          0.1591153443,
          0.1601250023,
          0.1611346602,
          0.1616394371,
          0.1636586487,
          0.1641634107,
          0.1656778455,
          0.1676971763,
          0.1682019383,
          0.1707259119,
          0.1712308079,
          0.1727452427,
          0.1747644544,
          0.1757739931,
          0.1757739931,
          0.1762788892,
          0.1757739931,
          0.1757739931,
          0.1747644544,
          0.1737547815,
          0.1737547815,
          0.1732500196,
          0.1727452427,
          0.1732500196,
          0.1737547815,
          0.1732500196,
          0.1737547815,
          0.1727452427,
          0.1722403467,
          0.1717355847,
          0.1707259119,
          0.1702211499,
          0.1692114919,
          0.1697163731,
          0.1692114919,
          0.1687067151,
          0.1687067151,
          0.1692114919,
          0.1682019383,
          0.1676971763,
          0.1661827415,
          0.1651730686,
          0.1641634107,
          0.1631538719,
          0.1616394371,
          0.1611346602,
          0.1601250023,
          0.1606297791,
          0.1601250023,
          0.1601250023
         ],
         "y": [
          0.1899086684,
          0.1899086684,
          0.1894038916,
          0.1878894567,
          0.1863750219,
          0.185365364,
          0.1843558252,
          0.1838509291,
          0.1823364943,
          0.1818317324,
          0.1818317324,
          0.1818317324,
          0.1813269556,
          0.1813269556,
          0.1818317324,
          0.1818317324,
          0.1813269556,
          0.1813269556,
          0.1813269556,
          0.1803172976,
          0.1798125207,
          0.1782980859,
          0.1782980859,
          0.1808220595,
          0.1813269556,
          0.1818317324,
          0.1833461523,
          0.1838509291,
          0.1843558252,
          0.1843558252,
          0.1843558252,
          0.1843558252,
          0.1838509291,
          0.1818317324,
          0.1823364943,
          0.1828413904,
          0.1833461523,
          0.1838509291,
          0.1843558252,
          0.1843558252,
          0.1843558252,
          0.1838509291,
          0.1833461523,
          0.1823364943,
          0.1818317324,
          0.1818317324,
          0.1813269556,
          0.1808220595,
          0.1803172976,
          0.1798125207,
          0.1793077439,
          0.1788028628,
          0.1777933091,
          0.1767836511,
          0.1772884279,
          0.1782980859,
          0.1793077439,
          0.1813269556,
          0.1833461523,
          0.1848605871,
          0.1863750219,
          0.1878894567,
          0.1894038916,
          0.1904134303,
          0.1904134303,
          0.1909183264,
          0.1914231032,
          0.1914231032,
          0.1909183264,
          0.1909183264,
          0.1909183264,
          0.1909183264,
          0.1909183264,
          0.1914231032,
          0.1919278651,
          0.192432642,
          0.192937538,
          0.1934423,
          0.1944519728,
          0.1949567348,
          0.1964711696,
          0.1974807084,
          0.1979856044,
          0.1989951432,
          0.1989951432,
          0.1989951432,
          0.1989951432,
          0.1989951432,
          0.1984903812,
          0.1979856044,
          0.1979856044,
          0.1974807084,
          0.1974807084,
          0.1969759464,
          0.1969759464,
          0.1964711696,
          0.1964711696,
          0.1964711696,
          0.1964711696,
          0.1964711696
         ],
         "type": "scatter"
        },
        {
         "line": {
          "color": "pink"
         },
         "mode": "lines",
         "name": "Гиперболическая: y=-0.0180 / x + 0.2966, R²=0.2910, SSR = 0.0",
         "x": [
          0.1702211499,
          0.1692114919,
          0.1682019383,
          0.1682019383,
          0.1676971763,
          0.1666875035,
          0.1651730686,
          0.1641634107,
          0.1631538719,
          0.1626489758,
          0.1621442139,
          0.1621442139,
          0.1626489758,
          0.1631538719,
          0.1631538719,
          0.1631538719,
          0.1626489758,
          0.1626489758,
          0.1626489758,
          0.1621442139,
          0.1611346602,
          0.1611346602,
          0.1616394371,
          0.1616394371,
          0.1611346602,
          0.1616394371,
          0.1611346602,
          0.1611346602,
          0.1606297791,
          0.1606297791,
          0.1606297791,
          0.1596202254,
          0.1596202254,
          0.1596202254,
          0.1591153443,
          0.1586105675,
          0.1591153443,
          0.1596202254,
          0.1591153443,
          0.1586105675,
          0.1586105675,
          0.1591153443,
          0.1591153443,
          0.1586105675,
          0.1586105675,
          0.1586105675,
          0.1586105675,
          0.1586105675,
          0.1586105675,
          0.1591153443,
          0.1591153443,
          0.1601250023,
          0.1611346602,
          0.1616394371,
          0.1636586487,
          0.1641634107,
          0.1656778455,
          0.1676971763,
          0.1682019383,
          0.1707259119,
          0.1712308079,
          0.1727452427,
          0.1747644544,
          0.1757739931,
          0.1757739931,
          0.1762788892,
          0.1757739931,
          0.1757739931,
          0.1747644544,
          0.1737547815,
          0.1737547815,
          0.1732500196,
          0.1727452427,
          0.1732500196,
          0.1737547815,
          0.1732500196,
          0.1737547815,
          0.1727452427,
          0.1722403467,
          0.1717355847,
          0.1707259119,
          0.1702211499,
          0.1692114919,
          0.1697163731,
          0.1692114919,
          0.1687067151,
          0.1687067151,
          0.1692114919,
          0.1682019383,
          0.1676971763,
          0.1661827415,
          0.1651730686,
          0.1641634107,
          0.1631538719,
          0.1616394371,
          0.1611346602,
          0.1601250023,
          0.1606297791,
          0.1601250023,
          0.1601250023
         ],
         "y": [
          0.19056606578045787,
          0.18993356574838885,
          0.18929353893797027,
          0.18929353893797027,
          0.18897064525992663,
          0.1883188945688836,
          0.18732637754266346,
          0.18665450285508567,
          0.18597439326403176,
          0.18563108604635115,
          0.1852857329026349,
          0.1852857329026349,
          0.18563108604635115,
          0.18597439326403176,
          0.18597439326403176,
          0.18597439326403176,
          0.18563108604635115,
          0.18563108604635115,
          0.18563108604635115,
          0.1852857329026349,
          0.18458851482772265,
          0.18458851482772265,
          0.18493821255588777,
          0.18493821255588777,
          0.18458851482772265,
          0.18493821255588777,
          0.18458851482772265,
          0.18458851482772265,
          0.18423654639089826,
          0.18423654639089826,
          0.18423654639089826,
          0.18352607747991279,
          0.18352607747991279,
          0.18352607747991279,
          0.1831673878950384,
          0.18280648959207235,
          0.1831673878950384,
          0.18352607747991279,
          0.1831673878950384,
          0.18280648959207235,
          0.18280648959207235,
          0.1831673878950384,
          0.1831673878950384,
          0.18280648959207235,
          0.18280648959207235,
          0.18280648959207235,
          0.18280648959207235,
          0.18280648959207235,
          0.18280648959207235,
          0.1831673878950384,
          0.1831673878950384,
          0.18388243180901204,
          0.18458851482772265,
          0.18493821255588777,
          0.18631550186965037,
          0.18665450285508567,
          0.18765920981674014,
          0.18897064525992663,
          0.18929353893797027,
          0.19087946890868546,
          0.19119110677258877,
          0.19211493709882488,
          0.19332178430171698,
          0.19391477090697604,
          0.19391477090697604,
          0.19420879080845865,
          0.19391477090697604,
          0.19391477090697604,
          0.19332178430171698,
          0.1927218268313119,
          0.1927218268313119,
          0.19241927056992866,
          0.19211493709882488,
          0.19241927056992866,
          0.1927218268313119,
          0.19241927056992866,
          0.1927218268313119,
          0.19211493709882488,
          0.1918087473977967,
          0.19150083930470807,
          0.19087946890868546,
          0.19056606578045787,
          0.18993356574838885,
          0.1902507891650162,
          0.18993356574838885,
          0.18961450983525413,
          0.18961450983525413,
          0.18993356574838885,
          0.18929353893797027,
          0.18897064525992663,
          0.18799009796220306,
          0.18732637754266346,
          0.18665450285508567,
          0.18597439326403176,
          0.18493821255588777,
          0.18458851482772265,
          0.18388243180901204,
          0.18423654639089826,
          0.18388243180901204,
          0.18388243180901204
         ],
         "type": "scatter"
        },
        {
         "line": {
          "color": "lightgrey",
          "dash": "dash"
         },
         "mode": "lines",
         "name": "Нижняя граница",
         "x": [
          0.1702211499,
          0.1692114919,
          0.1682019383,
          0.1682019383,
          0.1676971763,
          0.1666875035,
          0.1651730686,
          0.1641634107,
          0.1631538719,
          0.1626489758,
          0.1621442139,
          0.1621442139,
          0.1626489758,
          0.1631538719,
          0.1631538719,
          0.1631538719,
          0.1626489758,
          0.1626489758,
          0.1626489758,
          0.1621442139,
          0.1611346602,
          0.1611346602,
          0.1616394371,
          0.1616394371,
          0.1611346602,
          0.1616394371,
          0.1611346602,
          0.1611346602,
          0.1606297791,
          0.1606297791,
          0.1606297791,
          0.1596202254,
          0.1596202254,
          0.1596202254,
          0.1591153443,
          0.1586105675,
          0.1591153443,
          0.1596202254,
          0.1591153443,
          0.1586105675,
          0.1586105675,
          0.1591153443,
          0.1591153443,
          0.1586105675,
          0.1586105675,
          0.1586105675,
          0.1586105675,
          0.1586105675,
          0.1586105675,
          0.1591153443,
          0.1591153443,
          0.1601250023,
          0.1611346602,
          0.1616394371,
          0.1636586487,
          0.1641634107,
          0.1656778455,
          0.1676971763,
          0.1682019383,
          0.1707259119,
          0.1712308079,
          0.1727452427,
          0.1747644544,
          0.1757739931,
          0.1757739931,
          0.1762788892,
          0.1757739931,
          0.1757739931,
          0.1747644544,
          0.1737547815,
          0.1737547815,
          0.1732500196,
          0.1727452427,
          0.1732500196,
          0.1737547815,
          0.1732500196,
          0.1737547815,
          0.1727452427,
          0.1722403467,
          0.1717355847,
          0.1707259119,
          0.1702211499,
          0.1692114919,
          0.1697163731,
          0.1692114919,
          0.1687067151,
          0.1687067151,
          0.1692114919,
          0.1682019383,
          0.1676971763,
          0.1661827415,
          0.1651730686,
          0.1641634107,
          0.1631538719,
          0.1616394371,
          0.1611346602,
          0.1601250023,
          0.1606297791,
          0.1601250023,
          0.1601250023
         ],
         "y": [
          0.17942640355644807,
          0.17879390352437904,
          0.17815387671396046,
          0.17815387671396046,
          0.17783098303591682,
          0.1771792323448738,
          0.17618671531865365,
          0.17551484063107586,
          0.17483473104002195,
          0.17449142382234134,
          0.1741460706786251,
          0.1741460706786251,
          0.17449142382234134,
          0.17483473104002195,
          0.17483473104002195,
          0.17483473104002195,
          0.17449142382234134,
          0.17449142382234134,
          0.17449142382234134,
          0.1741460706786251,
          0.17344885260371284,
          0.17344885260371284,
          0.17379855033187797,
          0.17379855033187797,
          0.17344885260371284,
          0.17379855033187797,
          0.17344885260371284,
          0.17344885260371284,
          0.17309688416688845,
          0.17309688416688845,
          0.17309688416688845,
          0.17238641525590298,
          0.17238641525590298,
          0.17238641525590298,
          0.1720277256710286,
          0.17166682736806255,
          0.1720277256710286,
          0.17238641525590298,
          0.1720277256710286,
          0.17166682736806255,
          0.17166682736806255,
          0.1720277256710286,
          0.1720277256710286,
          0.17166682736806255,
          0.17166682736806255,
          0.17166682736806255,
          0.17166682736806255,
          0.17166682736806255,
          0.17166682736806255,
          0.1720277256710286,
          0.1720277256710286,
          0.17274276958500223,
          0.17344885260371284,
          0.17379855033187797,
          0.17517583964564057,
          0.17551484063107586,
          0.17651954759273034,
          0.17783098303591682,
          0.17815387671396046,
          0.17973980668467565,
          0.18005144454857896,
          0.18097527487481507,
          0.18218212207770718,
          0.18277510868296623,
          0.18277510868296623,
          0.18306912858444885,
          0.18277510868296623,
          0.18277510868296623,
          0.18218212207770718,
          0.1815821646073021,
          0.1815821646073021,
          0.18127960834591886,
          0.18097527487481507,
          0.18127960834591886,
          0.1815821646073021,
          0.18127960834591886,
          0.1815821646073021,
          0.18097527487481507,
          0.18066908517378688,
          0.18036117708069827,
          0.17973980668467565,
          0.17942640355644807,
          0.17879390352437904,
          0.1791111269410064,
          0.17879390352437904,
          0.17847484761124432,
          0.17847484761124432,
          0.17879390352437904,
          0.17815387671396046,
          0.17783098303591682,
          0.17685043573819326,
          0.17618671531865365,
          0.17551484063107586,
          0.17483473104002195,
          0.17379855033187797,
          0.17344885260371284,
          0.17274276958500223,
          0.17309688416688845,
          0.17274276958500223,
          0.17274276958500223
         ],
         "type": "scatter"
        },
        {
         "line": {
          "color": "lightgrey",
          "dash": "dash"
         },
         "mode": "lines",
         "name": "Верхняя граница",
         "x": [
          0.1702211499,
          0.1692114919,
          0.1682019383,
          0.1682019383,
          0.1676971763,
          0.1666875035,
          0.1651730686,
          0.1641634107,
          0.1631538719,
          0.1626489758,
          0.1621442139,
          0.1621442139,
          0.1626489758,
          0.1631538719,
          0.1631538719,
          0.1631538719,
          0.1626489758,
          0.1626489758,
          0.1626489758,
          0.1621442139,
          0.1611346602,
          0.1611346602,
          0.1616394371,
          0.1616394371,
          0.1611346602,
          0.1616394371,
          0.1611346602,
          0.1611346602,
          0.1606297791,
          0.1606297791,
          0.1606297791,
          0.1596202254,
          0.1596202254,
          0.1596202254,
          0.1591153443,
          0.1586105675,
          0.1591153443,
          0.1596202254,
          0.1591153443,
          0.1586105675,
          0.1586105675,
          0.1591153443,
          0.1591153443,
          0.1586105675,
          0.1586105675,
          0.1586105675,
          0.1586105675,
          0.1586105675,
          0.1586105675,
          0.1591153443,
          0.1591153443,
          0.1601250023,
          0.1611346602,
          0.1616394371,
          0.1636586487,
          0.1641634107,
          0.1656778455,
          0.1676971763,
          0.1682019383,
          0.1707259119,
          0.1712308079,
          0.1727452427,
          0.1747644544,
          0.1757739931,
          0.1757739931,
          0.1762788892,
          0.1757739931,
          0.1757739931,
          0.1747644544,
          0.1737547815,
          0.1737547815,
          0.1732500196,
          0.1727452427,
          0.1732500196,
          0.1737547815,
          0.1732500196,
          0.1737547815,
          0.1727452427,
          0.1722403467,
          0.1717355847,
          0.1707259119,
          0.1702211499,
          0.1692114919,
          0.1697163731,
          0.1692114919,
          0.1687067151,
          0.1687067151,
          0.1692114919,
          0.1682019383,
          0.1676971763,
          0.1661827415,
          0.1651730686,
          0.1641634107,
          0.1631538719,
          0.1616394371,
          0.1611346602,
          0.1601250023,
          0.1606297791,
          0.1601250023,
          0.1601250023
         ],
         "y": [
          0.20170572800446768,
          0.20107322797239865,
          0.20043320116198007,
          0.20043320116198007,
          0.20011030748393643,
          0.1994585567928934,
          0.19846603976667326,
          0.19779416507909547,
          0.19711405548804156,
          0.19677074827036095,
          0.1964253951266447,
          0.1964253951266447,
          0.19677074827036095,
          0.19711405548804156,
          0.19711405548804156,
          0.19711405548804156,
          0.19677074827036095,
          0.19677074827036095,
          0.19677074827036095,
          0.1964253951266447,
          0.19572817705173245,
          0.19572817705173245,
          0.19607787477989758,
          0.19607787477989758,
          0.19572817705173245,
          0.19607787477989758,
          0.19572817705173245,
          0.19572817705173245,
          0.19537620861490806,
          0.19537620861490806,
          0.19537620861490806,
          0.1946657397039226,
          0.1946657397039226,
          0.1946657397039226,
          0.1943070501190482,
          0.19394615181608216,
          0.1943070501190482,
          0.1946657397039226,
          0.1943070501190482,
          0.19394615181608216,
          0.19394615181608216,
          0.1943070501190482,
          0.1943070501190482,
          0.19394615181608216,
          0.19394615181608216,
          0.19394615181608216,
          0.19394615181608216,
          0.19394615181608216,
          0.19394615181608216,
          0.1943070501190482,
          0.1943070501190482,
          0.19502209403302184,
          0.19572817705173245,
          0.19607787477989758,
          0.19745516409366018,
          0.19779416507909547,
          0.19879887204074995,
          0.20011030748393643,
          0.20043320116198007,
          0.20201913113269526,
          0.20233076899659858,
          0.20325459932283468,
          0.2044614465257268,
          0.20505443313098584,
          0.20505443313098584,
          0.20534845303246846,
          0.20505443313098584,
          0.20505443313098584,
          0.2044614465257268,
          0.2038614890553217,
          0.2038614890553217,
          0.20355893279393847,
          0.20325459932283468,
          0.20355893279393847,
          0.2038614890553217,
          0.20355893279393847,
          0.2038614890553217,
          0.20325459932283468,
          0.2029484096218065,
          0.20264050152871788,
          0.20201913113269526,
          0.20170572800446768,
          0.20107322797239865,
          0.201390451389026,
          0.20107322797239865,
          0.20075417205926394,
          0.20075417205926394,
          0.20107322797239865,
          0.20043320116198007,
          0.20011030748393643,
          0.19912976018621287,
          0.19846603976667326,
          0.19779416507909547,
          0.19711405548804156,
          0.19607787477989758,
          0.19572817705173245,
          0.19502209403302184,
          0.19537620861490806,
          0.19502209403302184,
          0.19502209403302184
         ],
         "type": "scatter"
        }
       ],
       "layout": {
        "template": {
         "data": {
          "barpolar": [
           {
            "marker": {
             "line": {
              "color": "white",
              "width": 0.5
             },
             "pattern": {
              "fillmode": "overlay",
              "size": 10,
              "solidity": 0.2
             }
            },
            "type": "barpolar"
           }
          ],
          "bar": [
           {
            "error_x": {
             "color": "#2a3f5f"
            },
            "error_y": {
             "color": "#2a3f5f"
            },
            "marker": {
             "line": {
              "color": "white",
              "width": 0.5
             },
             "pattern": {
              "fillmode": "overlay",
              "size": 10,
              "solidity": 0.2
             }
            },
            "type": "bar"
           }
          ],
          "carpet": [
           {
            "aaxis": {
             "endlinecolor": "#2a3f5f",
             "gridcolor": "#C8D4E3",
             "linecolor": "#C8D4E3",
             "minorgridcolor": "#C8D4E3",
             "startlinecolor": "#2a3f5f"
            },
            "baxis": {
             "endlinecolor": "#2a3f5f",
             "gridcolor": "#C8D4E3",
             "linecolor": "#C8D4E3",
             "minorgridcolor": "#C8D4E3",
             "startlinecolor": "#2a3f5f"
            },
            "type": "carpet"
           }
          ],
          "choropleth": [
           {
            "colorbar": {
             "outlinewidth": 0,
             "ticks": ""
            },
            "type": "choropleth"
           }
          ],
          "contourcarpet": [
           {
            "colorbar": {
             "outlinewidth": 0,
             "ticks": ""
            },
            "type": "contourcarpet"
           }
          ],
          "contour": [
           {
            "colorbar": {
             "outlinewidth": 0,
             "ticks": ""
            },
            "colorscale": [
             [
              0.0,
              "#0d0887"
             ],
             [
              0.1111111111111111,
              "#46039f"
             ],
             [
              0.2222222222222222,
              "#7201a8"
             ],
             [
              0.3333333333333333,
              "#9c179e"
             ],
             [
              0.4444444444444444,
              "#bd3786"
             ],
             [
              0.5555555555555556,
              "#d8576b"
             ],
             [
              0.6666666666666666,
              "#ed7953"
             ],
             [
              0.7777777777777778,
              "#fb9f3a"
             ],
             [
              0.8888888888888888,
              "#fdca26"
             ],
             [
              1.0,
              "#f0f921"
             ]
            ],
            "type": "contour"
           }
          ],
          "heatmapgl": [
           {
            "colorbar": {
             "outlinewidth": 0,
             "ticks": ""
            },
            "colorscale": [
             [
              0.0,
              "#0d0887"
             ],
             [
              0.1111111111111111,
              "#46039f"
             ],
             [
              0.2222222222222222,
              "#7201a8"
             ],
             [
              0.3333333333333333,
              "#9c179e"
             ],
             [
              0.4444444444444444,
              "#bd3786"
             ],
             [
              0.5555555555555556,
              "#d8576b"
             ],
             [
              0.6666666666666666,
              "#ed7953"
             ],
             [
              0.7777777777777778,
              "#fb9f3a"
             ],
             [
              0.8888888888888888,
              "#fdca26"
             ],
             [
              1.0,
              "#f0f921"
             ]
            ],
            "type": "heatmapgl"
           }
          ],
          "heatmap": [
           {
            "colorbar": {
             "outlinewidth": 0,
             "ticks": ""
            },
            "colorscale": [
             [
              0.0,
              "#0d0887"
             ],
             [
              0.1111111111111111,
              "#46039f"
             ],
             [
              0.2222222222222222,
              "#7201a8"
             ],
             [
              0.3333333333333333,
              "#9c179e"
             ],
             [
              0.4444444444444444,
              "#bd3786"
             ],
             [
              0.5555555555555556,
              "#d8576b"
             ],
             [
              0.6666666666666666,
              "#ed7953"
             ],
             [
              0.7777777777777778,
              "#fb9f3a"
             ],
             [
              0.8888888888888888,
              "#fdca26"
             ],
             [
              1.0,
              "#f0f921"
             ]
            ],
            "type": "heatmap"
           }
          ],
          "histogram2dcontour": [
           {
            "colorbar": {
             "outlinewidth": 0,
             "ticks": ""
            },
            "colorscale": [
             [
              0.0,
              "#0d0887"
             ],
             [
              0.1111111111111111,
              "#46039f"
             ],
             [
              0.2222222222222222,
              "#7201a8"
             ],
             [
              0.3333333333333333,
              "#9c179e"
             ],
             [
              0.4444444444444444,
              "#bd3786"
             ],
             [
              0.5555555555555556,
              "#d8576b"
             ],
             [
              0.6666666666666666,
              "#ed7953"
             ],
             [
              0.7777777777777778,
              "#fb9f3a"
             ],
             [
              0.8888888888888888,
              "#fdca26"
             ],
             [
              1.0,
              "#f0f921"
             ]
            ],
            "type": "histogram2dcontour"
           }
          ],
          "histogram2d": [
           {
            "colorbar": {
             "outlinewidth": 0,
             "ticks": ""
            },
            "colorscale": [
             [
              0.0,
              "#0d0887"
             ],
             [
              0.1111111111111111,
              "#46039f"
             ],
             [
              0.2222222222222222,
              "#7201a8"
             ],
             [
              0.3333333333333333,
              "#9c179e"
             ],
             [
              0.4444444444444444,
              "#bd3786"
             ],
             [
              0.5555555555555556,
              "#d8576b"
             ],
             [
              0.6666666666666666,
              "#ed7953"
             ],
             [
              0.7777777777777778,
              "#fb9f3a"
             ],
             [
              0.8888888888888888,
              "#fdca26"
             ],
             [
              1.0,
              "#f0f921"
             ]
            ],
            "type": "histogram2d"
           }
          ],
          "histogram": [
           {
            "marker": {
             "pattern": {
              "fillmode": "overlay",
              "size": 10,
              "solidity": 0.2
             }
            },
            "type": "histogram"
           }
          ],
          "mesh3d": [
           {
            "colorbar": {
             "outlinewidth": 0,
             "ticks": ""
            },
            "type": "mesh3d"
           }
          ],
          "parcoords": [
           {
            "line": {
             "colorbar": {
              "outlinewidth": 0,
              "ticks": ""
             }
            },
            "type": "parcoords"
           }
          ],
          "pie": [
           {
            "automargin": true,
            "type": "pie"
           }
          ],
          "scatter3d": [
           {
            "line": {
             "colorbar": {
              "outlinewidth": 0,
              "ticks": ""
             }
            },
            "marker": {
             "colorbar": {
              "outlinewidth": 0,
              "ticks": ""
             }
            },
            "type": "scatter3d"
           }
          ],
          "scattercarpet": [
           {
            "marker": {
             "colorbar": {
              "outlinewidth": 0,
              "ticks": ""
             }
            },
            "type": "scattercarpet"
           }
          ],
          "scattergeo": [
           {
            "marker": {
             "colorbar": {
              "outlinewidth": 0,
              "ticks": ""
             }
            },
            "type": "scattergeo"
           }
          ],
          "scattergl": [
           {
            "marker": {
             "colorbar": {
              "outlinewidth": 0,
              "ticks": ""
             }
            },
            "type": "scattergl"
           }
          ],
          "scattermapbox": [
           {
            "marker": {
             "colorbar": {
              "outlinewidth": 0,
              "ticks": ""
             }
            },
            "type": "scattermapbox"
           }
          ],
          "scatterpolargl": [
           {
            "marker": {
             "colorbar": {
              "outlinewidth": 0,
              "ticks": ""
             }
            },
            "type": "scatterpolargl"
           }
          ],
          "scatterpolar": [
           {
            "marker": {
             "colorbar": {
              "outlinewidth": 0,
              "ticks": ""
             }
            },
            "type": "scatterpolar"
           }
          ],
          "scatter": [
           {
            "fillpattern": {
             "fillmode": "overlay",
             "size": 10,
             "solidity": 0.2
            },
            "type": "scatter"
           }
          ],
          "scatterternary": [
           {
            "marker": {
             "colorbar": {
              "outlinewidth": 0,
              "ticks": ""
             }
            },
            "type": "scatterternary"
           }
          ],
          "surface": [
           {
            "colorbar": {
             "outlinewidth": 0,
             "ticks": ""
            },
            "colorscale": [
             [
              0.0,
              "#0d0887"
             ],
             [
              0.1111111111111111,
              "#46039f"
             ],
             [
              0.2222222222222222,
              "#7201a8"
             ],
             [
              0.3333333333333333,
              "#9c179e"
             ],
             [
              0.4444444444444444,
              "#bd3786"
             ],
             [
              0.5555555555555556,
              "#d8576b"
             ],
             [
              0.6666666666666666,
              "#ed7953"
             ],
             [
              0.7777777777777778,
              "#fb9f3a"
             ],
             [
              0.8888888888888888,
              "#fdca26"
             ],
             [
              1.0,
              "#f0f921"
             ]
            ],
            "type": "surface"
           }
          ],
          "table": [
           {
            "cells": {
             "fill": {
              "color": "#EBF0F8"
             },
             "line": {
              "color": "white"
             }
            },
            "header": {
             "fill": {
              "color": "#C8D4E3"
             },
             "line": {
              "color": "white"
             }
            },
            "type": "table"
           }
          ]
         },
         "layout": {
          "annotationdefaults": {
           "arrowcolor": "#2a3f5f",
           "arrowhead": 0,
           "arrowwidth": 1
          },
          "autotypenumbers": "strict",
          "coloraxis": {
           "colorbar": {
            "outlinewidth": 0,
            "ticks": ""
           }
          },
          "colorscale": {
           "diverging": [
            [
             0,
             "#8e0152"
            ],
            [
             0.1,
             "#c51b7d"
            ],
            [
             0.2,
             "#de77ae"
            ],
            [
             0.3,
             "#f1b6da"
            ],
            [
             0.4,
             "#fde0ef"
            ],
            [
             0.5,
             "#f7f7f7"
            ],
            [
             0.6,
             "#e6f5d0"
            ],
            [
             0.7,
             "#b8e186"
            ],
            [
             0.8,
             "#7fbc41"
            ],
            [
             0.9,
             "#4d9221"
            ],
            [
             1,
             "#276419"
            ]
           ],
           "sequential": [
            [
             0.0,
             "#0d0887"
            ],
            [
             0.1111111111111111,
             "#46039f"
            ],
            [
             0.2222222222222222,
             "#7201a8"
            ],
            [
             0.3333333333333333,
             "#9c179e"
            ],
            [
             0.4444444444444444,
             "#bd3786"
            ],
            [
             0.5555555555555556,
             "#d8576b"
            ],
            [
             0.6666666666666666,
             "#ed7953"
            ],
            [
             0.7777777777777778,
             "#fb9f3a"
            ],
            [
             0.8888888888888888,
             "#fdca26"
            ],
            [
             1.0,
             "#f0f921"
            ]
           ],
           "sequentialminus": [
            [
             0.0,
             "#0d0887"
            ],
            [
             0.1111111111111111,
             "#46039f"
            ],
            [
             0.2222222222222222,
             "#7201a8"
            ],
            [
             0.3333333333333333,
             "#9c179e"
            ],
            [
             0.4444444444444444,
             "#bd3786"
            ],
            [
             0.5555555555555556,
             "#d8576b"
            ],
            [
             0.6666666666666666,
             "#ed7953"
            ],
            [
             0.7777777777777778,
             "#fb9f3a"
            ],
            [
             0.8888888888888888,
             "#fdca26"
            ],
            [
             1.0,
             "#f0f921"
            ]
           ]
          },
          "colorway": [
           "#636efa",
           "#EF553B",
           "#00cc96",
           "#ab63fa",
           "#FFA15A",
           "#19d3f3",
           "#FF6692",
           "#B6E880",
           "#FF97FF",
           "#FECB52"
          ],
          "font": {
           "color": "#2a3f5f"
          },
          "geo": {
           "bgcolor": "white",
           "lakecolor": "white",
           "landcolor": "white",
           "showlakes": true,
           "showland": true,
           "subunitcolor": "#C8D4E3"
          },
          "hoverlabel": {
           "align": "left"
          },
          "hovermode": "closest",
          "mapbox": {
           "style": "light"
          },
          "paper_bgcolor": "white",
          "plot_bgcolor": "white",
          "polar": {
           "angularaxis": {
            "gridcolor": "#EBF0F8",
            "linecolor": "#EBF0F8",
            "ticks": ""
           },
           "bgcolor": "white",
           "radialaxis": {
            "gridcolor": "#EBF0F8",
            "linecolor": "#EBF0F8",
            "ticks": ""
           }
          },
          "scene": {
           "xaxis": {
            "backgroundcolor": "white",
            "gridcolor": "#DFE8F3",
            "gridwidth": 2,
            "linecolor": "#EBF0F8",
            "showbackground": true,
            "ticks": "",
            "zerolinecolor": "#EBF0F8"
           },
           "yaxis": {
            "backgroundcolor": "white",
            "gridcolor": "#DFE8F3",
            "gridwidth": 2,
            "linecolor": "#EBF0F8",
            "showbackground": true,
            "ticks": "",
            "zerolinecolor": "#EBF0F8"
           },
           "zaxis": {
            "backgroundcolor": "white",
            "gridcolor": "#DFE8F3",
            "gridwidth": 2,
            "linecolor": "#EBF0F8",
            "showbackground": true,
            "ticks": "",
            "zerolinecolor": "#EBF0F8"
           }
          },
          "shapedefaults": {
           "line": {
            "color": "#2a3f5f"
           }
          },
          "ternary": {
           "aaxis": {
            "gridcolor": "#DFE8F3",
            "linecolor": "#A2B1C6",
            "ticks": ""
           },
           "baxis": {
            "gridcolor": "#DFE8F3",
            "linecolor": "#A2B1C6",
            "ticks": ""
           },
           "bgcolor": "white",
           "caxis": {
            "gridcolor": "#DFE8F3",
            "linecolor": "#A2B1C6",
            "ticks": ""
           }
          },
          "title": {
           "x": 0.05
          },
          "xaxis": {
           "automargin": true,
           "gridcolor": "#EBF0F8",
           "linecolor": "#EBF0F8",
           "ticks": "",
           "title": {
            "standoff": 15
           },
           "zerolinecolor": "#EBF0F8",
           "zerolinewidth": 2
          },
          "yaxis": {
           "automargin": true,
           "gridcolor": "#EBF0F8",
           "linecolor": "#EBF0F8",
           "ticks": "",
           "title": {
            "standoff": 15
           },
           "zerolinecolor": "#EBF0F8",
           "zerolinewidth": 2
          }
         }
        },
        "legend": {
         "x": 1.05,
         "y": 1,
         "traceorder": "normal",
         "orientation": "v"
        },
        "title": {
         "text": "Предполагаемая модель - Гиперболическая"
        },
        "xaxis": {
         "title": {
          "text": "K2065G_2_POROSITY"
         }
        },
        "yaxis": {
         "title": {
          "text": "K2066G_2_POROSITY"
         }
        }
       },
       "config": {
        "plotlyServerURL": "https://plot.ly"
       }
      },
      "text/html": "<div>                            <div id=\"247d400c-389f-4025-bf43-66eb1ad2e513\" class=\"plotly-graph-div\" style=\"height:525px; width:100%;\"></div>            <script type=\"text/javascript\">                require([\"plotly\"], function(Plotly) {                    window.PLOTLYENV=window.PLOTLYENV || {};                                    if (document.getElementById(\"247d400c-389f-4025-bf43-66eb1ad2e513\")) {                    Plotly.newPlot(                        \"247d400c-389f-4025-bf43-66eb1ad2e513\",                        [{\"marker\":{\"color\":\"blue\"},\"mode\":\"markers\",\"name\":\"\\u0414\\u0430\\u043d\\u043d\\u044b\\u0435\",\"x\":[0.1702211499,0.1692114919,0.1682019383,0.1682019383,0.1676971763,0.1666875035,0.1651730686,0.1641634107,0.1631538719,0.1626489758,0.1621442139,0.1621442139,0.1626489758,0.1631538719,0.1631538719,0.1631538719,0.1626489758,0.1626489758,0.1626489758,0.1621442139,0.1611346602,0.1611346602,0.1616394371,0.1616394371,0.1611346602,0.1616394371,0.1611346602,0.1611346602,0.1606297791,0.1606297791,0.1606297791,0.1596202254,0.1596202254,0.1596202254,0.1591153443,0.1586105675,0.1591153443,0.1596202254,0.1591153443,0.1586105675,0.1586105675,0.1591153443,0.1591153443,0.1586105675,0.1586105675,0.1586105675,0.1586105675,0.1586105675,0.1586105675,0.1591153443,0.1591153443,0.1601250023,0.1611346602,0.1616394371,0.1636586487,0.1641634107,0.1656778455,0.1676971763,0.1682019383,0.1707259119,0.1712308079,0.1727452427,0.1747644544,0.1757739931,0.1757739931,0.1762788892,0.1757739931,0.1757739931,0.1747644544,0.1737547815,0.1737547815,0.1732500196,0.1727452427,0.1732500196,0.1737547815,0.1732500196,0.1737547815,0.1727452427,0.1722403467,0.1717355847,0.1707259119,0.1702211499,0.1692114919,0.1697163731,0.1692114919,0.1687067151,0.1687067151,0.1692114919,0.1682019383,0.1676971763,0.1661827415,0.1651730686,0.1641634107,0.1631538719,0.1616394371,0.1611346602,0.1601250023,0.1606297791,0.1601250023,0.1601250023],\"y\":[0.1899086684,0.1899086684,0.1894038916,0.1878894567,0.1863750219,0.185365364,0.1843558252,0.1838509291,0.1823364943,0.1818317324,0.1818317324,0.1818317324,0.1813269556,0.1813269556,0.1818317324,0.1818317324,0.1813269556,0.1813269556,0.1813269556,0.1803172976,0.1798125207,0.1782980859,0.1782980859,0.1808220595,0.1813269556,0.1818317324,0.1833461523,0.1838509291,0.1843558252,0.1843558252,0.1843558252,0.1843558252,0.1838509291,0.1818317324,0.1823364943,0.1828413904,0.1833461523,0.1838509291,0.1843558252,0.1843558252,0.1843558252,0.1838509291,0.1833461523,0.1823364943,0.1818317324,0.1818317324,0.1813269556,0.1808220595,0.1803172976,0.1798125207,0.1793077439,0.1788028628,0.1777933091,0.1767836511,0.1772884279,0.1782980859,0.1793077439,0.1813269556,0.1833461523,0.1848605871,0.1863750219,0.1878894567,0.1894038916,0.1904134303,0.1904134303,0.1909183264,0.1914231032,0.1914231032,0.1909183264,0.1909183264,0.1909183264,0.1909183264,0.1909183264,0.1914231032,0.1919278651,0.192432642,0.192937538,0.1934423,0.1944519728,0.1949567348,0.1964711696,0.1974807084,0.1979856044,0.1989951432,0.1989951432,0.1989951432,0.1989951432,0.1989951432,0.1984903812,0.1979856044,0.1979856044,0.1974807084,0.1974807084,0.1969759464,0.1969759464,0.1964711696,0.1964711696,0.1964711696,0.1964711696,0.1964711696],\"type\":\"scatter\"},{\"line\":{\"color\":\"pink\"},\"mode\":\"lines\",\"name\":\"\\u0413\\u0438\\u043f\\u0435\\u0440\\u0431\\u043e\\u043b\\u0438\\u0447\\u0435\\u0441\\u043a\\u0430\\u044f: y=-0.0180 \\u002f x + 0.2966, R\\u00b2=0.2910, SSR = 0.0\",\"x\":[0.1702211499,0.1692114919,0.1682019383,0.1682019383,0.1676971763,0.1666875035,0.1651730686,0.1641634107,0.1631538719,0.1626489758,0.1621442139,0.1621442139,0.1626489758,0.1631538719,0.1631538719,0.1631538719,0.1626489758,0.1626489758,0.1626489758,0.1621442139,0.1611346602,0.1611346602,0.1616394371,0.1616394371,0.1611346602,0.1616394371,0.1611346602,0.1611346602,0.1606297791,0.1606297791,0.1606297791,0.1596202254,0.1596202254,0.1596202254,0.1591153443,0.1586105675,0.1591153443,0.1596202254,0.1591153443,0.1586105675,0.1586105675,0.1591153443,0.1591153443,0.1586105675,0.1586105675,0.1586105675,0.1586105675,0.1586105675,0.1586105675,0.1591153443,0.1591153443,0.1601250023,0.1611346602,0.1616394371,0.1636586487,0.1641634107,0.1656778455,0.1676971763,0.1682019383,0.1707259119,0.1712308079,0.1727452427,0.1747644544,0.1757739931,0.1757739931,0.1762788892,0.1757739931,0.1757739931,0.1747644544,0.1737547815,0.1737547815,0.1732500196,0.1727452427,0.1732500196,0.1737547815,0.1732500196,0.1737547815,0.1727452427,0.1722403467,0.1717355847,0.1707259119,0.1702211499,0.1692114919,0.1697163731,0.1692114919,0.1687067151,0.1687067151,0.1692114919,0.1682019383,0.1676971763,0.1661827415,0.1651730686,0.1641634107,0.1631538719,0.1616394371,0.1611346602,0.1601250023,0.1606297791,0.1601250023,0.1601250023],\"y\":[0.19056606578045787,0.18993356574838885,0.18929353893797027,0.18929353893797027,0.18897064525992663,0.1883188945688836,0.18732637754266346,0.18665450285508567,0.18597439326403176,0.18563108604635115,0.1852857329026349,0.1852857329026349,0.18563108604635115,0.18597439326403176,0.18597439326403176,0.18597439326403176,0.18563108604635115,0.18563108604635115,0.18563108604635115,0.1852857329026349,0.18458851482772265,0.18458851482772265,0.18493821255588777,0.18493821255588777,0.18458851482772265,0.18493821255588777,0.18458851482772265,0.18458851482772265,0.18423654639089826,0.18423654639089826,0.18423654639089826,0.18352607747991279,0.18352607747991279,0.18352607747991279,0.1831673878950384,0.18280648959207235,0.1831673878950384,0.18352607747991279,0.1831673878950384,0.18280648959207235,0.18280648959207235,0.1831673878950384,0.1831673878950384,0.18280648959207235,0.18280648959207235,0.18280648959207235,0.18280648959207235,0.18280648959207235,0.18280648959207235,0.1831673878950384,0.1831673878950384,0.18388243180901204,0.18458851482772265,0.18493821255588777,0.18631550186965037,0.18665450285508567,0.18765920981674014,0.18897064525992663,0.18929353893797027,0.19087946890868546,0.19119110677258877,0.19211493709882488,0.19332178430171698,0.19391477090697604,0.19391477090697604,0.19420879080845865,0.19391477090697604,0.19391477090697604,0.19332178430171698,0.1927218268313119,0.1927218268313119,0.19241927056992866,0.19211493709882488,0.19241927056992866,0.1927218268313119,0.19241927056992866,0.1927218268313119,0.19211493709882488,0.1918087473977967,0.19150083930470807,0.19087946890868546,0.19056606578045787,0.18993356574838885,0.1902507891650162,0.18993356574838885,0.18961450983525413,0.18961450983525413,0.18993356574838885,0.18929353893797027,0.18897064525992663,0.18799009796220306,0.18732637754266346,0.18665450285508567,0.18597439326403176,0.18493821255588777,0.18458851482772265,0.18388243180901204,0.18423654639089826,0.18388243180901204,0.18388243180901204],\"type\":\"scatter\"},{\"line\":{\"color\":\"lightgrey\",\"dash\":\"dash\"},\"mode\":\"lines\",\"name\":\"\\u041d\\u0438\\u0436\\u043d\\u044f\\u044f \\u0433\\u0440\\u0430\\u043d\\u0438\\u0446\\u0430\",\"x\":[0.1702211499,0.1692114919,0.1682019383,0.1682019383,0.1676971763,0.1666875035,0.1651730686,0.1641634107,0.1631538719,0.1626489758,0.1621442139,0.1621442139,0.1626489758,0.1631538719,0.1631538719,0.1631538719,0.1626489758,0.1626489758,0.1626489758,0.1621442139,0.1611346602,0.1611346602,0.1616394371,0.1616394371,0.1611346602,0.1616394371,0.1611346602,0.1611346602,0.1606297791,0.1606297791,0.1606297791,0.1596202254,0.1596202254,0.1596202254,0.1591153443,0.1586105675,0.1591153443,0.1596202254,0.1591153443,0.1586105675,0.1586105675,0.1591153443,0.1591153443,0.1586105675,0.1586105675,0.1586105675,0.1586105675,0.1586105675,0.1586105675,0.1591153443,0.1591153443,0.1601250023,0.1611346602,0.1616394371,0.1636586487,0.1641634107,0.1656778455,0.1676971763,0.1682019383,0.1707259119,0.1712308079,0.1727452427,0.1747644544,0.1757739931,0.1757739931,0.1762788892,0.1757739931,0.1757739931,0.1747644544,0.1737547815,0.1737547815,0.1732500196,0.1727452427,0.1732500196,0.1737547815,0.1732500196,0.1737547815,0.1727452427,0.1722403467,0.1717355847,0.1707259119,0.1702211499,0.1692114919,0.1697163731,0.1692114919,0.1687067151,0.1687067151,0.1692114919,0.1682019383,0.1676971763,0.1661827415,0.1651730686,0.1641634107,0.1631538719,0.1616394371,0.1611346602,0.1601250023,0.1606297791,0.1601250023,0.1601250023],\"y\":[0.17942640355644807,0.17879390352437904,0.17815387671396046,0.17815387671396046,0.17783098303591682,0.1771792323448738,0.17618671531865365,0.17551484063107586,0.17483473104002195,0.17449142382234134,0.1741460706786251,0.1741460706786251,0.17449142382234134,0.17483473104002195,0.17483473104002195,0.17483473104002195,0.17449142382234134,0.17449142382234134,0.17449142382234134,0.1741460706786251,0.17344885260371284,0.17344885260371284,0.17379855033187797,0.17379855033187797,0.17344885260371284,0.17379855033187797,0.17344885260371284,0.17344885260371284,0.17309688416688845,0.17309688416688845,0.17309688416688845,0.17238641525590298,0.17238641525590298,0.17238641525590298,0.1720277256710286,0.17166682736806255,0.1720277256710286,0.17238641525590298,0.1720277256710286,0.17166682736806255,0.17166682736806255,0.1720277256710286,0.1720277256710286,0.17166682736806255,0.17166682736806255,0.17166682736806255,0.17166682736806255,0.17166682736806255,0.17166682736806255,0.1720277256710286,0.1720277256710286,0.17274276958500223,0.17344885260371284,0.17379855033187797,0.17517583964564057,0.17551484063107586,0.17651954759273034,0.17783098303591682,0.17815387671396046,0.17973980668467565,0.18005144454857896,0.18097527487481507,0.18218212207770718,0.18277510868296623,0.18277510868296623,0.18306912858444885,0.18277510868296623,0.18277510868296623,0.18218212207770718,0.1815821646073021,0.1815821646073021,0.18127960834591886,0.18097527487481507,0.18127960834591886,0.1815821646073021,0.18127960834591886,0.1815821646073021,0.18097527487481507,0.18066908517378688,0.18036117708069827,0.17973980668467565,0.17942640355644807,0.17879390352437904,0.1791111269410064,0.17879390352437904,0.17847484761124432,0.17847484761124432,0.17879390352437904,0.17815387671396046,0.17783098303591682,0.17685043573819326,0.17618671531865365,0.17551484063107586,0.17483473104002195,0.17379855033187797,0.17344885260371284,0.17274276958500223,0.17309688416688845,0.17274276958500223,0.17274276958500223],\"type\":\"scatter\"},{\"line\":{\"color\":\"lightgrey\",\"dash\":\"dash\"},\"mode\":\"lines\",\"name\":\"\\u0412\\u0435\\u0440\\u0445\\u043d\\u044f\\u044f \\u0433\\u0440\\u0430\\u043d\\u0438\\u0446\\u0430\",\"x\":[0.1702211499,0.1692114919,0.1682019383,0.1682019383,0.1676971763,0.1666875035,0.1651730686,0.1641634107,0.1631538719,0.1626489758,0.1621442139,0.1621442139,0.1626489758,0.1631538719,0.1631538719,0.1631538719,0.1626489758,0.1626489758,0.1626489758,0.1621442139,0.1611346602,0.1611346602,0.1616394371,0.1616394371,0.1611346602,0.1616394371,0.1611346602,0.1611346602,0.1606297791,0.1606297791,0.1606297791,0.1596202254,0.1596202254,0.1596202254,0.1591153443,0.1586105675,0.1591153443,0.1596202254,0.1591153443,0.1586105675,0.1586105675,0.1591153443,0.1591153443,0.1586105675,0.1586105675,0.1586105675,0.1586105675,0.1586105675,0.1586105675,0.1591153443,0.1591153443,0.1601250023,0.1611346602,0.1616394371,0.1636586487,0.1641634107,0.1656778455,0.1676971763,0.1682019383,0.1707259119,0.1712308079,0.1727452427,0.1747644544,0.1757739931,0.1757739931,0.1762788892,0.1757739931,0.1757739931,0.1747644544,0.1737547815,0.1737547815,0.1732500196,0.1727452427,0.1732500196,0.1737547815,0.1732500196,0.1737547815,0.1727452427,0.1722403467,0.1717355847,0.1707259119,0.1702211499,0.1692114919,0.1697163731,0.1692114919,0.1687067151,0.1687067151,0.1692114919,0.1682019383,0.1676971763,0.1661827415,0.1651730686,0.1641634107,0.1631538719,0.1616394371,0.1611346602,0.1601250023,0.1606297791,0.1601250023,0.1601250023],\"y\":[0.20170572800446768,0.20107322797239865,0.20043320116198007,0.20043320116198007,0.20011030748393643,0.1994585567928934,0.19846603976667326,0.19779416507909547,0.19711405548804156,0.19677074827036095,0.1964253951266447,0.1964253951266447,0.19677074827036095,0.19711405548804156,0.19711405548804156,0.19711405548804156,0.19677074827036095,0.19677074827036095,0.19677074827036095,0.1964253951266447,0.19572817705173245,0.19572817705173245,0.19607787477989758,0.19607787477989758,0.19572817705173245,0.19607787477989758,0.19572817705173245,0.19572817705173245,0.19537620861490806,0.19537620861490806,0.19537620861490806,0.1946657397039226,0.1946657397039226,0.1946657397039226,0.1943070501190482,0.19394615181608216,0.1943070501190482,0.1946657397039226,0.1943070501190482,0.19394615181608216,0.19394615181608216,0.1943070501190482,0.1943070501190482,0.19394615181608216,0.19394615181608216,0.19394615181608216,0.19394615181608216,0.19394615181608216,0.19394615181608216,0.1943070501190482,0.1943070501190482,0.19502209403302184,0.19572817705173245,0.19607787477989758,0.19745516409366018,0.19779416507909547,0.19879887204074995,0.20011030748393643,0.20043320116198007,0.20201913113269526,0.20233076899659858,0.20325459932283468,0.2044614465257268,0.20505443313098584,0.20505443313098584,0.20534845303246846,0.20505443313098584,0.20505443313098584,0.2044614465257268,0.2038614890553217,0.2038614890553217,0.20355893279393847,0.20325459932283468,0.20355893279393847,0.2038614890553217,0.20355893279393847,0.2038614890553217,0.20325459932283468,0.2029484096218065,0.20264050152871788,0.20201913113269526,0.20170572800446768,0.20107322797239865,0.201390451389026,0.20107322797239865,0.20075417205926394,0.20075417205926394,0.20107322797239865,0.20043320116198007,0.20011030748393643,0.19912976018621287,0.19846603976667326,0.19779416507909547,0.19711405548804156,0.19607787477989758,0.19572817705173245,0.19502209403302184,0.19537620861490806,0.19502209403302184,0.19502209403302184],\"type\":\"scatter\"}],                        {\"template\":{\"data\":{\"barpolar\":[{\"marker\":{\"line\":{\"color\":\"white\",\"width\":0.5},\"pattern\":{\"fillmode\":\"overlay\",\"size\":10,\"solidity\":0.2}},\"type\":\"barpolar\"}],\"bar\":[{\"error_x\":{\"color\":\"#2a3f5f\"},\"error_y\":{\"color\":\"#2a3f5f\"},\"marker\":{\"line\":{\"color\":\"white\",\"width\":0.5},\"pattern\":{\"fillmode\":\"overlay\",\"size\":10,\"solidity\":0.2}},\"type\":\"bar\"}],\"carpet\":[{\"aaxis\":{\"endlinecolor\":\"#2a3f5f\",\"gridcolor\":\"#C8D4E3\",\"linecolor\":\"#C8D4E3\",\"minorgridcolor\":\"#C8D4E3\",\"startlinecolor\":\"#2a3f5f\"},\"baxis\":{\"endlinecolor\":\"#2a3f5f\",\"gridcolor\":\"#C8D4E3\",\"linecolor\":\"#C8D4E3\",\"minorgridcolor\":\"#C8D4E3\",\"startlinecolor\":\"#2a3f5f\"},\"type\":\"carpet\"}],\"choropleth\":[{\"colorbar\":{\"outlinewidth\":0,\"ticks\":\"\"},\"type\":\"choropleth\"}],\"contourcarpet\":[{\"colorbar\":{\"outlinewidth\":0,\"ticks\":\"\"},\"type\":\"contourcarpet\"}],\"contour\":[{\"colorbar\":{\"outlinewidth\":0,\"ticks\":\"\"},\"colorscale\":[[0.0,\"#0d0887\"],[0.1111111111111111,\"#46039f\"],[0.2222222222222222,\"#7201a8\"],[0.3333333333333333,\"#9c179e\"],[0.4444444444444444,\"#bd3786\"],[0.5555555555555556,\"#d8576b\"],[0.6666666666666666,\"#ed7953\"],[0.7777777777777778,\"#fb9f3a\"],[0.8888888888888888,\"#fdca26\"],[1.0,\"#f0f921\"]],\"type\":\"contour\"}],\"heatmapgl\":[{\"colorbar\":{\"outlinewidth\":0,\"ticks\":\"\"},\"colorscale\":[[0.0,\"#0d0887\"],[0.1111111111111111,\"#46039f\"],[0.2222222222222222,\"#7201a8\"],[0.3333333333333333,\"#9c179e\"],[0.4444444444444444,\"#bd3786\"],[0.5555555555555556,\"#d8576b\"],[0.6666666666666666,\"#ed7953\"],[0.7777777777777778,\"#fb9f3a\"],[0.8888888888888888,\"#fdca26\"],[1.0,\"#f0f921\"]],\"type\":\"heatmapgl\"}],\"heatmap\":[{\"colorbar\":{\"outlinewidth\":0,\"ticks\":\"\"},\"colorscale\":[[0.0,\"#0d0887\"],[0.1111111111111111,\"#46039f\"],[0.2222222222222222,\"#7201a8\"],[0.3333333333333333,\"#9c179e\"],[0.4444444444444444,\"#bd3786\"],[0.5555555555555556,\"#d8576b\"],[0.6666666666666666,\"#ed7953\"],[0.7777777777777778,\"#fb9f3a\"],[0.8888888888888888,\"#fdca26\"],[1.0,\"#f0f921\"]],\"type\":\"heatmap\"}],\"histogram2dcontour\":[{\"colorbar\":{\"outlinewidth\":0,\"ticks\":\"\"},\"colorscale\":[[0.0,\"#0d0887\"],[0.1111111111111111,\"#46039f\"],[0.2222222222222222,\"#7201a8\"],[0.3333333333333333,\"#9c179e\"],[0.4444444444444444,\"#bd3786\"],[0.5555555555555556,\"#d8576b\"],[0.6666666666666666,\"#ed7953\"],[0.7777777777777778,\"#fb9f3a\"],[0.8888888888888888,\"#fdca26\"],[1.0,\"#f0f921\"]],\"type\":\"histogram2dcontour\"}],\"histogram2d\":[{\"colorbar\":{\"outlinewidth\":0,\"ticks\":\"\"},\"colorscale\":[[0.0,\"#0d0887\"],[0.1111111111111111,\"#46039f\"],[0.2222222222222222,\"#7201a8\"],[0.3333333333333333,\"#9c179e\"],[0.4444444444444444,\"#bd3786\"],[0.5555555555555556,\"#d8576b\"],[0.6666666666666666,\"#ed7953\"],[0.7777777777777778,\"#fb9f3a\"],[0.8888888888888888,\"#fdca26\"],[1.0,\"#f0f921\"]],\"type\":\"histogram2d\"}],\"histogram\":[{\"marker\":{\"pattern\":{\"fillmode\":\"overlay\",\"size\":10,\"solidity\":0.2}},\"type\":\"histogram\"}],\"mesh3d\":[{\"colorbar\":{\"outlinewidth\":0,\"ticks\":\"\"},\"type\":\"mesh3d\"}],\"parcoords\":[{\"line\":{\"colorbar\":{\"outlinewidth\":0,\"ticks\":\"\"}},\"type\":\"parcoords\"}],\"pie\":[{\"automargin\":true,\"type\":\"pie\"}],\"scatter3d\":[{\"line\":{\"colorbar\":{\"outlinewidth\":0,\"ticks\":\"\"}},\"marker\":{\"colorbar\":{\"outlinewidth\":0,\"ticks\":\"\"}},\"type\":\"scatter3d\"}],\"scattercarpet\":[{\"marker\":{\"colorbar\":{\"outlinewidth\":0,\"ticks\":\"\"}},\"type\":\"scattercarpet\"}],\"scattergeo\":[{\"marker\":{\"colorbar\":{\"outlinewidth\":0,\"ticks\":\"\"}},\"type\":\"scattergeo\"}],\"scattergl\":[{\"marker\":{\"colorbar\":{\"outlinewidth\":0,\"ticks\":\"\"}},\"type\":\"scattergl\"}],\"scattermapbox\":[{\"marker\":{\"colorbar\":{\"outlinewidth\":0,\"ticks\":\"\"}},\"type\":\"scattermapbox\"}],\"scatterpolargl\":[{\"marker\":{\"colorbar\":{\"outlinewidth\":0,\"ticks\":\"\"}},\"type\":\"scatterpolargl\"}],\"scatterpolar\":[{\"marker\":{\"colorbar\":{\"outlinewidth\":0,\"ticks\":\"\"}},\"type\":\"scatterpolar\"}],\"scatter\":[{\"fillpattern\":{\"fillmode\":\"overlay\",\"size\":10,\"solidity\":0.2},\"type\":\"scatter\"}],\"scatterternary\":[{\"marker\":{\"colorbar\":{\"outlinewidth\":0,\"ticks\":\"\"}},\"type\":\"scatterternary\"}],\"surface\":[{\"colorbar\":{\"outlinewidth\":0,\"ticks\":\"\"},\"colorscale\":[[0.0,\"#0d0887\"],[0.1111111111111111,\"#46039f\"],[0.2222222222222222,\"#7201a8\"],[0.3333333333333333,\"#9c179e\"],[0.4444444444444444,\"#bd3786\"],[0.5555555555555556,\"#d8576b\"],[0.6666666666666666,\"#ed7953\"],[0.7777777777777778,\"#fb9f3a\"],[0.8888888888888888,\"#fdca26\"],[1.0,\"#f0f921\"]],\"type\":\"surface\"}],\"table\":[{\"cells\":{\"fill\":{\"color\":\"#EBF0F8\"},\"line\":{\"color\":\"white\"}},\"header\":{\"fill\":{\"color\":\"#C8D4E3\"},\"line\":{\"color\":\"white\"}},\"type\":\"table\"}]},\"layout\":{\"annotationdefaults\":{\"arrowcolor\":\"#2a3f5f\",\"arrowhead\":0,\"arrowwidth\":1},\"autotypenumbers\":\"strict\",\"coloraxis\":{\"colorbar\":{\"outlinewidth\":0,\"ticks\":\"\"}},\"colorscale\":{\"diverging\":[[0,\"#8e0152\"],[0.1,\"#c51b7d\"],[0.2,\"#de77ae\"],[0.3,\"#f1b6da\"],[0.4,\"#fde0ef\"],[0.5,\"#f7f7f7\"],[0.6,\"#e6f5d0\"],[0.7,\"#b8e186\"],[0.8,\"#7fbc41\"],[0.9,\"#4d9221\"],[1,\"#276419\"]],\"sequential\":[[0.0,\"#0d0887\"],[0.1111111111111111,\"#46039f\"],[0.2222222222222222,\"#7201a8\"],[0.3333333333333333,\"#9c179e\"],[0.4444444444444444,\"#bd3786\"],[0.5555555555555556,\"#d8576b\"],[0.6666666666666666,\"#ed7953\"],[0.7777777777777778,\"#fb9f3a\"],[0.8888888888888888,\"#fdca26\"],[1.0,\"#f0f921\"]],\"sequentialminus\":[[0.0,\"#0d0887\"],[0.1111111111111111,\"#46039f\"],[0.2222222222222222,\"#7201a8\"],[0.3333333333333333,\"#9c179e\"],[0.4444444444444444,\"#bd3786\"],[0.5555555555555556,\"#d8576b\"],[0.6666666666666666,\"#ed7953\"],[0.7777777777777778,\"#fb9f3a\"],[0.8888888888888888,\"#fdca26\"],[1.0,\"#f0f921\"]]},\"colorway\":[\"#636efa\",\"#EF553B\",\"#00cc96\",\"#ab63fa\",\"#FFA15A\",\"#19d3f3\",\"#FF6692\",\"#B6E880\",\"#FF97FF\",\"#FECB52\"],\"font\":{\"color\":\"#2a3f5f\"},\"geo\":{\"bgcolor\":\"white\",\"lakecolor\":\"white\",\"landcolor\":\"white\",\"showlakes\":true,\"showland\":true,\"subunitcolor\":\"#C8D4E3\"},\"hoverlabel\":{\"align\":\"left\"},\"hovermode\":\"closest\",\"mapbox\":{\"style\":\"light\"},\"paper_bgcolor\":\"white\",\"plot_bgcolor\":\"white\",\"polar\":{\"angularaxis\":{\"gridcolor\":\"#EBF0F8\",\"linecolor\":\"#EBF0F8\",\"ticks\":\"\"},\"bgcolor\":\"white\",\"radialaxis\":{\"gridcolor\":\"#EBF0F8\",\"linecolor\":\"#EBF0F8\",\"ticks\":\"\"}},\"scene\":{\"xaxis\":{\"backgroundcolor\":\"white\",\"gridcolor\":\"#DFE8F3\",\"gridwidth\":2,\"linecolor\":\"#EBF0F8\",\"showbackground\":true,\"ticks\":\"\",\"zerolinecolor\":\"#EBF0F8\"},\"yaxis\":{\"backgroundcolor\":\"white\",\"gridcolor\":\"#DFE8F3\",\"gridwidth\":2,\"linecolor\":\"#EBF0F8\",\"showbackground\":true,\"ticks\":\"\",\"zerolinecolor\":\"#EBF0F8\"},\"zaxis\":{\"backgroundcolor\":\"white\",\"gridcolor\":\"#DFE8F3\",\"gridwidth\":2,\"linecolor\":\"#EBF0F8\",\"showbackground\":true,\"ticks\":\"\",\"zerolinecolor\":\"#EBF0F8\"}},\"shapedefaults\":{\"line\":{\"color\":\"#2a3f5f\"}},\"ternary\":{\"aaxis\":{\"gridcolor\":\"#DFE8F3\",\"linecolor\":\"#A2B1C6\",\"ticks\":\"\"},\"baxis\":{\"gridcolor\":\"#DFE8F3\",\"linecolor\":\"#A2B1C6\",\"ticks\":\"\"},\"bgcolor\":\"white\",\"caxis\":{\"gridcolor\":\"#DFE8F3\",\"linecolor\":\"#A2B1C6\",\"ticks\":\"\"}},\"title\":{\"x\":0.05},\"xaxis\":{\"automargin\":true,\"gridcolor\":\"#EBF0F8\",\"linecolor\":\"#EBF0F8\",\"ticks\":\"\",\"title\":{\"standoff\":15},\"zerolinecolor\":\"#EBF0F8\",\"zerolinewidth\":2},\"yaxis\":{\"automargin\":true,\"gridcolor\":\"#EBF0F8\",\"linecolor\":\"#EBF0F8\",\"ticks\":\"\",\"title\":{\"standoff\":15},\"zerolinecolor\":\"#EBF0F8\",\"zerolinewidth\":2}}},\"legend\":{\"x\":1.05,\"y\":1,\"traceorder\":\"normal\",\"orientation\":\"v\"},\"title\":{\"text\":\"\\u041f\\u0440\\u0435\\u0434\\u043f\\u043e\\u043b\\u0430\\u0433\\u0430\\u0435\\u043c\\u0430\\u044f \\u043c\\u043e\\u0434\\u0435\\u043b\\u044c - \\u0413\\u0438\\u043f\\u0435\\u0440\\u0431\\u043e\\u043b\\u0438\\u0447\\u0435\\u0441\\u043a\\u0430\\u044f\"},\"xaxis\":{\"title\":{\"text\":\"K2065G_2_POROSITY\"}},\"yaxis\":{\"title\":{\"text\":\"K2066G_2_POROSITY\"}}},                        {\"responsive\": true}                    ).then(function(){\n                            \nvar gd = document.getElementById('247d400c-389f-4025-bf43-66eb1ad2e513');\nvar x = new MutationObserver(function (mutations, observer) {{\n        var display = window.getComputedStyle(gd).display;\n        if (!display || display === 'none') {{\n            console.log([gd, 'removed!']);\n            Plotly.purge(gd);\n            observer.disconnect();\n        }}\n}});\n\n// Listen for the removal of the full notebook cells\nvar notebookContainer = gd.closest('#notebook-container');\nif (notebookContainer) {{\n    x.observe(notebookContainer, {childList: true});\n}}\n\n// Listen for the clearing of the current output cell\nvar outputEl = gd.closest('.output');\nif (outputEl) {{\n    x.observe(outputEl, {childList: true});\n}}\n\n                        })                };                });            </script>        </div>"
     },
     "metadata": {},
     "output_type": "display_data"
    },
    {
     "name": "stdout",
     "output_type": "stream",
     "text": [
      "{'linear': 0.28768975340019315, 'polynomial': 0.3045806798854077, 'cubic': 0.3440804803062085, 'exponential': 0.2866250801238843, 'logarithmic': 0.28940184350188114, 'hyperbolic': 0.2909606800396487}\n"
     ]
    },
    {
     "data": {
      "text/plain": "('cubic',\n 0.3440804803062085,\n '-11352.5525x^3 + 5648.5335x^2 + -935.5703x + 51.7721')"
     },
     "execution_count": 60,
     "metadata": {},
     "output_type": "execute_result"
    }
   ],
   "source": [
    "fit_and_plot_lists_6(K2065G_2_POROSITY, K2066G_2_POROSITY, \"K2065G_2_POROSITY\", \"K2066G_2_POROSITY\")"
   ],
   "metadata": {
    "collapsed": false,
    "ExecuteTime": {
     "end_time": "2024-12-03T06:32:30.525547500Z",
     "start_time": "2024-12-03T06:32:30.431501200Z"
    }
   },
   "id": "bd66a7ceee97b22",
   "execution_count": 60
  },
  {
   "cell_type": "code",
   "outputs": [
    {
     "name": "stdout",
     "output_type": "stream",
     "text": [
      "Таблица сопряженности:\n",
      "[[100   0]\n",
      " [100   0]]\n",
      "Отношение шансов: nan\n",
      "p-значение: 1.0\n",
      "Не удается отвергнуть нулевую гипотезу: нет статистически значимой связи между двумя списками.\n"
     ]
    }
   ],
   "source": [
    "ss = Fisher(K2065G_2_POROSITY, K2066G_2_POROSITY)\n"
   ],
   "metadata": {
    "collapsed": false,
    "ExecuteTime": {
     "end_time": "2024-12-03T06:34:57.123049100Z",
     "start_time": "2024-12-03T06:34:57.109192800Z"
    }
   },
   "id": "ba9fc6e89270f3ca",
   "execution_count": 62
  },
  {
   "cell_type": "code",
   "outputs": [
    {
     "name": "stdout",
     "output_type": "stream",
     "text": [
      "Таблица сопряженности:\n",
      "[[100   0]\n",
      " [100   0]]\n",
      "Отношение шансов: nan\n",
      "p-значение: 1.0\n",
      "Не удается отвергнуть нулевую гипотезу: нет статистически значимой связи между двумя списками.\n"
     ]
    }
   ],
   "source": [
    "ss_2 = Fisher(K2065G_2_POROSITY, K2065G_2_PERMEABILITY)"
   ],
   "metadata": {
    "collapsed": false,
    "ExecuteTime": {
     "end_time": "2024-12-03T06:35:40.117739200Z",
     "start_time": "2024-12-03T06:35:40.103531800Z"
    }
   },
   "id": "2ed9f5624967e8bf",
   "execution_count": 63
  },
  {
   "cell_type": "code",
   "outputs": [],
   "source": [],
   "metadata": {
    "collapsed": false
   },
   "id": "5488a223704ed62a"
  }
 ],
 "metadata": {
  "kernelspec": {
   "display_name": "Python 3",
   "language": "python",
   "name": "python3"
  },
  "language_info": {
   "codemirror_mode": {
    "name": "ipython",
    "version": 2
   },
   "file_extension": ".py",
   "mimetype": "text/x-python",
   "name": "python",
   "nbconvert_exporter": "python",
   "pygments_lexer": "ipython2",
   "version": "2.7.6"
  }
 },
 "nbformat": 4,
 "nbformat_minor": 5
}
