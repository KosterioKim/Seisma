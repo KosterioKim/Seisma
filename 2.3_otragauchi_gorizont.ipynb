{
 "cells": [
  {
   "metadata": {
    "ExecuteTime": {
     "end_time": "2024-11-25T17:30:58.014278Z",
     "start_time": "2024-11-25T17:30:58.002047Z"
    }
   },
   "cell_type": "code",
   "source": [
    "\n",
    "import matplotlib.pyplot as plt\n",
    "from shapely import LineString\n",
    "import segyio\n",
    "from shapely import Point\n",
    "#import gpd"
   ],
   "id": "f74791fafda56c84",
   "outputs": [],
   "execution_count": 36
  },
  {
   "metadata": {
    "ExecuteTime": {
     "end_time": "2024-11-25T17:08:48.039607Z",
     "start_time": "2024-11-25T17:08:48.024227Z"
    }
   },
   "cell_type": "code",
   "source": [
    "def read_seismic_cube(file_path):\n",
    "   \"\"\"\n",
    "   :param file_path: Путь к файлу\n",
    "   :return: возвращает куб в виде списков по Inlines, Xlines и Sampels (координаты x, y, z)\n",
    "   а также словарю сейсмотрасс, где ключ это координата пересечения Inlines и Xlines, а значение это список значений сейсмотрасс\n",
    "   \"\"\"\n",
    "   with segyio.open(file_path, 'r') as segyfile:\n",
    "       x = list(segyfile.ilines)\n",
    "       y = list(segyfile.xlines)\n",
    "       z = list(segyfile.samples)\n",
    "       cube = segyio.tools.cube(segyfile)\n",
    "       traces = {f\"{x[i]}_{y[j]}\": cube[i][j][:] for i in range(len(x)) for j in range(len(y))}\n",
    "   return x, y, z, traces"
   ],
   "id": "dec102f6bba9d2d2",
   "outputs": [],
   "execution_count": 18
  },
  {
   "metadata": {
    "ExecuteTime": {
     "end_time": "2024-11-25T17:09:01.707014Z",
     "start_time": "2024-11-25T17:08:59.376280Z"
    }
   },
   "cell_type": "code",
   "source": [
    "file_path = 'D:/HV/seismika/datas/Cube_TWT.segy'\n",
    "ilines, xlines, samples, traces = read_seismic_cube(file_path)"
   ],
   "id": "68602c8126e4835d",
   "outputs": [],
   "execution_count": 19
  },
  {
   "metadata": {
    "ExecuteTime": {
     "end_time": "2024-11-25T17:09:06.444747Z",
     "start_time": "2024-11-25T17:09:06.413490Z"
    }
   },
   "cell_type": "code",
   "source": [
    "def extract_segy_data(file_path):\n",
    "    with segyio.open(file_path, 'r') as segyfile:\n",
    "        # Извлечение координат линий и образцов\n",
    "        x = list(segyfile.ilines)\n",
    "        y = list(segyfile.xlines)\n",
    "        z = list(segyfile.samples)\n",
    "        coord_x = set()\n",
    "        coord_y = set()\n",
    "        # Создание куба данных\n",
    "        cube = segyio.tools.cube(segyfile)\n",
    "        \n",
    "        # Извлечение координат из заголовков\n",
    "        traces = {}\n",
    "        for i in range(len(x)):\n",
    "            for j in range(len(y)):\n",
    "                # Получение индекса записи\n",
    "                index = i * len(y) + j\n",
    "                \n",
    "                # Получение данных записи\n",
    "                trace_data = cube[i][j][:]\n",
    "                \n",
    "                # Извлечение заголовка записи\n",
    "                trace_header = segyfile.header[index]\n",
    "                \n",
    "                # Получение координат X и Y из заголовка записи\n",
    "                coord_x.add(trace_header[segyio.TraceField.SourceX])\n",
    "                coord_y.add(trace_header[segyio.TraceField.SourceY])\n",
    "        \n",
    "    return coord_x, coord_y"
   ],
   "id": "e5779104d485ee36",
   "outputs": [],
   "execution_count": 20
  },
  {
   "metadata": {
    "ExecuteTime": {
     "end_time": "2024-11-25T17:09:31.187180Z",
     "start_time": "2024-11-25T17:09:26.481834Z"
    }
   },
   "cell_type": "code",
   "source": [
    "file_path = 'D:/HV/seismika/datas/Cube_TWT.segy'\n",
    "coord_x, coord_y = extract_segy_data(file_path)"
   ],
   "id": "6413d9943c3a24a4",
   "outputs": [],
   "execution_count": 22
  },
  {
   "metadata": {
    "ExecuteTime": {
     "end_time": "2024-11-25T17:09:33.979731Z",
     "start_time": "2024-11-25T17:09:33.964110Z"
    }
   },
   "cell_type": "code",
   "source": [
    "# Перевод множества в упорядоченный список в порядке убывания\n",
    "sorted_coord_x = sorted(coord_x, reverse=False)\n",
    "sorted_coord_y = sorted(coord_y, reverse=False)\n",
    "poligon_cub = [[sorted_coord_x[0], sorted_coord_y[0]], [sorted_coord_x[0], sorted_coord_y[-1]], [sorted_coord_x[-1], sorted_coord_y[-1]],[sorted_coord_x[-1], sorted_coord_y[0]], [sorted_coord_x[0], sorted_coord_y[0]]]"
   ],
   "id": "29b741ea54cfda10",
   "outputs": [],
   "execution_count": 23
  },
  {
   "metadata": {
    "ExecuteTime": {
     "end_time": "2024-11-25T17:09:44.634643Z",
     "start_time": "2024-11-25T17:09:44.619021Z"
    }
   },
   "cell_type": "code",
   "source": [
    "def process_file(file_path):\n",
    "    # Множества для хранения значений\n",
    "    x_set = set()\n",
    "    y_set = set()\n",
    "    z_set = set()\n",
    "    \n",
    "    with open(file_path, 'r') as file:\n",
    "        for line in file:\n",
    "            # Пропуск строк, начинающихся с \"#\"\n",
    "            if line.startswith(\"#\"):\n",
    "                continue\n",
    "            \n",
    "            # Разделение строки на колонки\n",
    "            columns = line.split()\n",
    "            if len(columns) >= 5:\n",
    "                # Получение значений из колонок\n",
    "                x_value = columns[0]\n",
    "                y_value = columns[1]\n",
    "                z_value = columns[2]\n",
    "                \n",
    "                # Обработка значений\n",
    "                x_set.add(int(x_value.split('.')[0]))\n",
    "                y_set.add(int(y_value.split('.')[0]))\n",
    "                z_set.add(int(z_value.lstrip('-').split('.')[0]))\n",
    "    \n",
    "    return x_set, y_set, z_set"
   ],
   "id": "8a1829910ede16e0",
   "outputs": [],
   "execution_count": 24
  },
  {
   "metadata": {
    "ExecuteTime": {
     "end_time": "2024-11-25T17:10:02.724658Z",
     "start_time": "2024-11-25T17:10:02.584272Z"
    }
   },
   "cell_type": "code",
   "source": [
    "file_path = 'D:/HV/seismika/datas/TWT_Bottom_U1.txt'  # Укажите путь к вашему файлу\n",
    "x_set, y_set, z_set = process_file(file_path)"
   ],
   "id": "66e742e61d99dbb5",
   "outputs": [],
   "execution_count": 25
  },
  {
   "metadata": {
    "ExecuteTime": {
     "end_time": "2024-11-25T17:10:09.558714Z",
     "start_time": "2024-11-25T17:10:09.527609Z"
    }
   },
   "cell_type": "code",
   "source": [
    "gorizont_x = sorted(x_set, reverse=False)\n",
    "gorizont_y = sorted(y_set, reverse=False)\n",
    "gorizont_z = sorted(z_set, reverse=False)\n",
    "poligon_gorizont = [[gorizont_x[0], gorizont_y[0]], [gorizont_x[0], gorizont_y[-1]], [gorizont_x[-1], gorizont_y[-1]], [gorizont_x[-1], gorizont_y[0]], [gorizont_x[0], gorizont_y[0]]]"
   ],
   "id": "f327f604cf0a27b2",
   "outputs": [],
   "execution_count": 26
  },
  {
   "metadata": {
    "ExecuteTime": {
     "end_time": "2024-11-25T17:11:17.628567Z",
     "start_time": "2024-11-25T17:11:17.597300Z"
    }
   },
   "cell_type": "code",
   "source": [
    "# Преобразование координат в объекты Point и LineString\n",
    "points1 = [Point(xy) for xy in poligon_cub]\n",
    "points2 = [Point(xy) for xy in poligon_gorizont]\n",
    "line1 = LineString(poligon_cub)\n",
    "line2 = LineString(poligon_gorizont)"
   ],
   "id": "2976472a2ded4d8e",
   "outputs": [],
   "execution_count": 28
  },
  {
   "metadata": {
    "ExecuteTime": {
     "end_time": "2024-11-25T17:32:21.762927Z",
     "start_time": "2024-11-25T17:32:21.407502Z"
    }
   },
   "cell_type": "code",
   "source": [
    "import geopandas as gpd\n",
    "# Создание GeoDataFrame для точек и линий\n",
    "gdf_points1 = gpd.GeoDataFrame({'geometry': points1})\n",
    "gdf_points2 = gpd.GeoDataFrame({'geometry': points2})\n",
    "#gdf_lines = gpd.GeoDataFrame({'geometry': [line1, line2]})\n",
    "gdf_lines1 = gpd.GeoDataFrame({'geometry': [line1]})\n",
    "gdf_lines2 = gpd.GeoDataFrame({'geometry': [line2]})\n",
    "\n",
    "# Установка активной геометрической колонки\n",
    "gdf_points1 = gdf_points1.set_geometry('geometry')\n",
    "gdf_points2 = gdf_points2.set_geometry('geometry')\n",
    "#gdf_lines = gdf_lines.set_geometry('geometry')\n",
    "gdf_lines1 = gdf_lines1.set_geometry('geometry')\n",
    "gdf_lines2 = gdf_lines2.set_geometry('geometry')\n",
    "\n",
    "# Создание карты\n",
    "fig, ax = plt.subplots()\n",
    "\n",
    "# Отображение линий\n",
    "#gdf_lines.plot(ax=ax, color='blue', linestyle='-', linewidth=2, edgecolor='black')\n",
    "\n",
    "# Отображение линий с цветом точек\n",
    "gdf_lines1.plot(ax=ax, color='red', linestyle='-', linewidth=2, edgecolor='black')\n",
    "gdf_lines2.plot(ax=ax, color='green', linestyle='-', linewidth=2, edgecolor='black')\n",
    "\n",
    "# Отображение точек\n",
    "gdf_points1.plot(ax=ax, color='red', markersize=50, label='Cube TWT')\n",
    "gdf_points2.plot(ax=ax, color='green', markersize=50, label='Top TWT')\n",
    "\n",
    "# Настройка границ карты\n",
    "ax.set_xlim(poligon_cub[0][0]-1000, poligon_cub[-2][0]+1000)\n",
    "ax.set_ylim(poligon_cub[0][1]-1000, poligon_cub[1][1]+1000)\n",
    "\n",
    "# Настройка меток и легенды\n",
    "ax.set_xlabel('Inkines')\n",
    "ax.set_ylabel('Xlines')\n",
    "ax.set_title('Горизонтальный срез')\n",
    "ax.legend()\n",
    "\n",
    "plt.show()\n"
   ],
   "id": "47011e4163c60b95",
   "outputs": [
    {
     "data": {
      "text/plain": [
       "<Figure size 640x480 with 1 Axes>"
      ],
      "image/png": "[encoded data removed]"
     },
     "metadata": {},
     "output_type": "display_data"
    }
   ],
   "execution_count": 39
  },
  {
   "metadata": {},
   "cell_type": "code",
   "outputs": [],
   "execution_count": null,
   "source": [],
   "id": "76bfded604b924e2"
  }
 ],
 "metadata": {
  "kernelspec": {
   "display_name": "Python 3",
   "language": "python",
   "name": "python3"
  },
  "language_info": {
   "codemirror_mode": {
    "name": "ipython",
    "version": 2
   },
   "file_extension": ".py",
   "mimetype": "text/x-python",
   "name": "python",
   "nbconvert_exporter": "python",
   "pygments_lexer": "ipython2",
   "version": "2.7.6"
  }
 },
 "nbformat": 4,
 "nbformat_minor": 5
}
