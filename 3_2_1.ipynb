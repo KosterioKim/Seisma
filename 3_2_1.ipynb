{
 "cells": [
  {
   "cell_type": "code",
   "execution_count": 21,
   "id": "initial_id",
   "metadata": {
    "collapsed": true,
    "ExecuteTime": {
     "end_time": "2025-03-25T08:36:40.378449200Z",
     "start_time": "2025-03-25T08:36:40.346931700Z"
    }
   },
   "outputs": [],
   "source": [
    "import pandas as pd\n",
    "import numpy as np\n",
    "import plotly.graph_objects as go\n",
    "import os\n",
    "from scipy.interpolate import interp1d"
   ]
  },
  {
   "cell_type": "code",
   "outputs": [],
   "source": [
    "def seismic_ascii_parser(file_path):\n",
    "    all_data = []\n",
    "    head = \"\"\n",
    "    xarray = []\n",
    "    yarray = []\n",
    "    zarray = []\n",
    "    with open(file_path, 'r') as f:\n",
    "        content = f.readlines()\n",
    "        for line in content:\n",
    "            if '#' in line:\n",
    "                head += line\n",
    "                continue\n",
    "            l = line.split(' ')\n",
    "            xarray.append(float(l[0]))\n",
    "            yarray.append(float(l[1]))\n",
    "            zarray.append(float(l[2]))\n",
    "\n",
    "    df = pd.DataFrame({'x': xarray, 'y': yarray, 'z': zarray})\n",
    "    all_data.append({\"test\": df})\n",
    "    return create_seismic_ascii_date(all_data)[0]\n",
    "\n",
    "def create_seismic_ascii_date(data_frame):\n",
    "    for dataframe_data in data_frame:\n",
    "        _, value = next(iter(dataframe_data.items()))\n",
    "        return value.to_dict(\"records\"),\n"
   ],
   "metadata": {
    "collapsed": false,
    "ExecuteTime": {
     "end_time": "2025-03-25T08:36:41.040690Z",
     "start_time": "2025-03-25T08:36:41.032367700Z"
    }
   },
   "id": "167951effd623da4",
   "execution_count": 22
  },
  {
   "cell_type": "code",
   "outputs": [],
   "source": [
    "def process_well_data_3(folder_path, dict):\n",
    "    copy_dict = dict.copy()\n",
    "    for filename in os.listdir(folder_path):\n",
    "        if filename.endswith('.txt'):\n",
    "            name_part = os.path.splitext(filename)[0]\n",
    "\n",
    "            index = copy_dict['wells'].index(name_part)\n",
    "\n",
    "            \n",
    "            file_path = os.path.join(folder_path, filename)\n",
    "            data = pd.read_csv(file_path, sep=r'\\s+', comment='#', header=0, on_bad_lines='skip')\n",
    "\n",
    "            if data.shape[1] >= 4:\n",
    "                \n",
    "                first_col_numeric = pd.to_numeric(data.iloc[:, 0], errors='coerce')\n",
    "                first_col_interpolated = first_col_numeric.interpolate()\n",
    "                fourth_col = data.iloc[:, 3]\n",
    "               \n",
    "                top_tvd = copy_dict['Top_TVD'][index]\n",
    "                bottom_tvd = copy_dict['Bottom_TVD'][index]\n",
    "\n",
    "                top_md = first_col_interpolated[fourth_col == top_tvd].values\n",
    "                bottom_md = first_col_interpolated[fourth_col == bottom_tvd].values\n",
    "                \n",
    "                \n",
    "                if top_md.size == 0:\n",
    "                    interp_func = interp1d(fourth_col, first_col_interpolated, bounds_error=False, fill_value='extrapolate')\n",
    "                    top_md = interp_func(top_tvd)\n",
    "\n",
    "                if bottom_md.size == 0:\n",
    "                    interp_func = interp1d(fourth_col, first_col_interpolated, bounds_error=False, fill_value='extrapolate')\n",
    "                    bottom_md = interp_func(bottom_tvd)\n",
    "\n",
    "                copy_dict['Top_MD'][index] = round(float(top_md), 5)\n",
    "                copy_dict['Bottom_MD'][index] = round(float(bottom_md), 5)\n",
    "\n",
    "    return copy_dict\n",
    " "
   ],
   "metadata": {
    "collapsed": false,
    "ExecuteTime": {
     "end_time": "2025-03-25T08:36:41.759375800Z",
     "start_time": "2025-03-25T08:36:41.738455800Z"
    }
   },
   "id": "fb073ee30eee7f24",
   "execution_count": 23
  },
  {
   "cell_type": "code",
   "outputs": [],
   "source": [
    "# Это списки со словарями формата [{'x': 445946.632991, 'y': 7004198.214381, 'z': -2884.616455}, ...]\n",
    "Lateral_trend = seismic_ascii_parser(r\"C:/HV/Seismic/datas/test_3_2/Lateral_trend_No_smooth_Heff.txt\")\n",
    "Top = seismic_ascii_parser(r\"C:/HV/Seismic/datas/test_3_5/TVDSS_Top_U1.txt\")\n",
    "Bottom = seismic_ascii_parser(r\"C:/HV/Seismic/datas/test_3_5/TVDSS_Bottom_U1.txt\")\n",
    "df_Lateral_trend = pd.DataFrame(Lateral_trend)\n",
    "df_Top_U1 = pd.DataFrame(Top)\n",
    "df_Bottom_U1 = pd.DataFrame(Bottom)"
   ],
   "metadata": {
    "collapsed": false,
    "ExecuteTime": {
     "end_time": "2025-03-25T08:36:43.098202200Z",
     "start_time": "2025-03-25T08:36:42.548674300Z"
    }
   },
   "id": "5ee2dd0724c59b3b",
   "execution_count": 24
  },
  {
   "cell_type": "code",
   "outputs": [],
   "source": [
    "#Датафрейм из имен скважин и их координатами. \n",
    "column_names = ['wells', 'name', 'inlines', 'xlines', 'top', 'bottom'] \n",
    "df_all_wells_coor = pd.read_csv('C:/HV/Seismic/datas/test_3_2/data_wells.txt', sep='\\t', names=column_names, header=None)"
   ],
   "metadata": {
    "collapsed": false,
    "ExecuteTime": {
     "end_time": "2025-03-25T08:36:43.160249900Z",
     "start_time": "2025-03-25T08:36:43.126803600Z"
    }
   },
   "id": "6c9ade11735ed700",
   "execution_count": 25
  },
  {
   "cell_type": "code",
   "outputs": [],
   "source": [
    "df_Lateral_trend = df_Lateral_trend.sort_values('x')\n",
    "df_Top_U1 = df_Top_U1.sort_values('x')\n",
    "df_Bottom_U1 = df_Bottom_U1.sort_values('x')\n",
    "df_all_wells_coor = df_all_wells_coor.sort_values('inlines')\n",
    "\n",
    "merged_lateral = pd.merge_asof(df_all_wells_coor, df_Lateral_trend, left_on='inlines', right_on='x', direction='nearest')\n",
    "merged_lateral = merged_lateral.sort_values('xlines')\n",
    "\n",
    "df_Top_U1 = df_Top_U1.sort_values('y')\n",
    "merged_top = pd.merge_asof(merged_lateral, df_Top_U1, left_on='xlines', right_on='y', direction='nearest', suffixes=('', '_top'))\n",
    "merged_top = merged_top.sort_values('xlines')\n",
    "\n",
    "df_Bottom_U1 = df_Bottom_U1.sort_values('y')\n",
    "merged_bottom = pd.merge_asof(merged_top, df_Bottom_U1, left_on='xlines', right_on='y', direction='nearest', suffixes=('', '_bottom'))\n",
    "\n",
    "\n",
    "result_df = merged_bottom[['wells', 'inlines', 'xlines', 'z', 'z_top', 'z_bottom']]\n",
    "\n",
    "# датафрейм с координатами TVD\n",
    "result_df.columns = ['wells', 'inlines', 'xlines', 'Lateral_trend', 'Top_TVD', 'Bottom_TVD']"
   ],
   "metadata": {
    "collapsed": false,
    "ExecuteTime": {
     "end_time": "2025-03-25T08:36:44.093227600Z",
     "start_time": "2025-03-25T08:36:44.058183700Z"
    }
   },
   "id": "d0c3e3ecd338cc05",
   "execution_count": 26
  },
  {
   "cell_type": "code",
   "outputs": [
    {
     "name": "stderr",
     "output_type": "stream",
     "text": [
      "C:\\Users\\User\\AppData\\Local\\Temp\\ipykernel_1076\\3533139330.py:2: SettingWithCopyWarning:\n",
      "\n",
      "\n",
      "A value is trying to be set on a copy of a slice from a DataFrame.\n",
      "Try using .loc[row_indexer,col_indexer] = value instead\n",
      "\n",
      "See the caveats in the documentation: https://pandas.pydata.org/pandas-docs/stable/user_guide/indexing.html#returning-a-view-versus-a-copy\n",
      "\n",
      "C:\\Users\\User\\AppData\\Local\\Temp\\ipykernel_1076\\3533139330.py:3: SettingWithCopyWarning:\n",
      "\n",
      "\n",
      "A value is trying to be set on a copy of a slice from a DataFrame.\n",
      "Try using .loc[row_indexer,col_indexer] = value instead\n",
      "\n",
      "See the caveats in the documentation: https://pandas.pydata.org/pandas-docs/stable/user_guide/indexing.html#returning-a-view-versus-a-copy\n",
      "\n"
     ]
    }
   ],
   "source": [
    "#добавляем колонки по МД и переводим в словарь для упрощения\n",
    "result_df.loc[:, 'Top_MD'] = None\n",
    "result_df.loc[:, 'Bottom_MD'] = None\n",
    "list_of_dicts = result_df.to_dict(orient='list')"
   ],
   "metadata": {
    "collapsed": false,
    "ExecuteTime": {
     "end_time": "2025-03-25T08:36:44.899591900Z",
     "start_time": "2025-03-25T08:36:44.852505600Z"
    }
   },
   "id": "7ec8daf024620e6b",
   "execution_count": 27
  },
  {
   "cell_type": "code",
   "outputs": [
    {
     "data": {
      "text/plain": "  wells        inlines        xlines  Lateral_trend      Top_TVD   Bottom_TVD  \\\n0  660R  450928.636400  7.011087e+06      81.747803 -2786.688477 -2875.321045   \n1  661R  457638.951200  7.011792e+06      75.619003 -2764.798584 -2843.564209   \n2  662R  455158.133924  7.014716e+06      83.279999 -2762.990479 -2843.939941   \n3  668R  449834.860000  7.014866e+06      78.683403 -2762.426514 -2854.495117   \n\n  Top_MD Bottom_MD  \n0   None      None  \n1   None      None  \n2   None      None  \n3   None      None  ",
      "text/html": "<div>\n<style scoped>\n    .dataframe tbody tr th:only-of-type {\n        vertical-align: middle;\n    }\n\n    .dataframe tbody tr th {\n        vertical-align: top;\n    }\n\n    .dataframe thead th {\n        text-align: right;\n    }\n</style>\n<table border=\"1\" class=\"dataframe\">\n  <thead>\n    <tr style=\"text-align: right;\">\n      <th></th>\n      <th>wells</th>\n      <th>inlines</th>\n      <th>xlines</th>\n      <th>Lateral_trend</th>\n      <th>Top_TVD</th>\n      <th>Bottom_TVD</th>\n      <th>Top_MD</th>\n      <th>Bottom_MD</th>\n    </tr>\n  </thead>\n  <tbody>\n    <tr>\n      <th>0</th>\n      <td>660R</td>\n      <td>450928.636400</td>\n      <td>7.011087e+06</td>\n      <td>81.747803</td>\n      <td>-2786.688477</td>\n      <td>-2875.321045</td>\n      <td>None</td>\n      <td>None</td>\n    </tr>\n    <tr>\n      <th>1</th>\n      <td>661R</td>\n      <td>457638.951200</td>\n      <td>7.011792e+06</td>\n      <td>75.619003</td>\n      <td>-2764.798584</td>\n      <td>-2843.564209</td>\n      <td>None</td>\n      <td>None</td>\n    </tr>\n    <tr>\n      <th>2</th>\n      <td>662R</td>\n      <td>455158.133924</td>\n      <td>7.014716e+06</td>\n      <td>83.279999</td>\n      <td>-2762.990479</td>\n      <td>-2843.939941</td>\n      <td>None</td>\n      <td>None</td>\n    </tr>\n    <tr>\n      <th>3</th>\n      <td>668R</td>\n      <td>449834.860000</td>\n      <td>7.014866e+06</td>\n      <td>78.683403</td>\n      <td>-2762.426514</td>\n      <td>-2854.495117</td>\n      <td>None</td>\n      <td>None</td>\n    </tr>\n  </tbody>\n</table>\n</div>"
     },
     "execution_count": 28,
     "metadata": {},
     "output_type": "execute_result"
    }
   ],
   "source": [
    "result_df"
   ],
   "metadata": {
    "collapsed": false,
    "ExecuteTime": {
     "end_time": "2025-03-25T08:36:47.319114600Z",
     "start_time": "2025-03-25T08:36:47.281142900Z"
    }
   },
   "id": "33f8f6eb940f95c2",
   "execution_count": 28
  },
  {
   "cell_type": "code",
   "outputs": [],
   "source": [
    "dict_final = process_well_data_3('C:/HV/Seismic/datas/test_3_2/Inklinometria', list_of_dicts)"
   ],
   "metadata": {
    "collapsed": false,
    "ExecuteTime": {
     "end_time": "2025-03-25T08:36:51.045289500Z",
     "start_time": "2025-03-25T08:36:51.028551600Z"
    }
   },
   "id": "30b7a7f00a54b910",
   "execution_count": 29
  },
  {
   "cell_type": "code",
   "outputs": [],
   "source": [
    "df_table_coor = pd.DataFrame(dict_final)"
   ],
   "metadata": {
    "collapsed": false,
    "ExecuteTime": {
     "end_time": "2025-03-25T08:36:51.774370500Z",
     "start_time": "2025-03-25T08:36:51.740526200Z"
    }
   },
   "id": "7b797811539e2088",
   "execution_count": 30
  },
  {
   "cell_type": "code",
   "outputs": [
    {
     "data": {
      "text/plain": "  wells        inlines        xlines  Lateral_trend      Top_TVD   Bottom_TVD  \\\n0  660R  450928.636400  7.011087e+06      81.747803 -2786.688477 -2875.321045   \n1  661R  457638.951200  7.011792e+06      75.619003 -2764.798584 -2843.564209   \n2  662R  455158.133924  7.014716e+06      83.279999 -2762.990479 -2843.939941   \n3  668R  449834.860000  7.014866e+06      78.683403 -2762.426514 -2854.495117   \n\n       Top_MD   Bottom_MD  \n0  2900.17848  2988.81104  \n1  2893.78858  2972.55421  \n2  2876.09048  2957.03994  \n3  2867.56651  2959.63512  ",
      "text/html": "<div>\n<style scoped>\n    .dataframe tbody tr th:only-of-type {\n        vertical-align: middle;\n    }\n\n    .dataframe tbody tr th {\n        vertical-align: top;\n    }\n\n    .dataframe thead th {\n        text-align: right;\n    }\n</style>\n<table border=\"1\" class=\"dataframe\">\n  <thead>\n    <tr style=\"text-align: right;\">\n      <th></th>\n      <th>wells</th>\n      <th>inlines</th>\n      <th>xlines</th>\n      <th>Lateral_trend</th>\n      <th>Top_TVD</th>\n      <th>Bottom_TVD</th>\n      <th>Top_MD</th>\n      <th>Bottom_MD</th>\n    </tr>\n  </thead>\n  <tbody>\n    <tr>\n      <th>0</th>\n      <td>660R</td>\n      <td>450928.636400</td>\n      <td>7.011087e+06</td>\n      <td>81.747803</td>\n      <td>-2786.688477</td>\n      <td>-2875.321045</td>\n      <td>2900.17848</td>\n      <td>2988.81104</td>\n    </tr>\n    <tr>\n      <th>1</th>\n      <td>661R</td>\n      <td>457638.951200</td>\n      <td>7.011792e+06</td>\n      <td>75.619003</td>\n      <td>-2764.798584</td>\n      <td>-2843.564209</td>\n      <td>2893.78858</td>\n      <td>2972.55421</td>\n    </tr>\n    <tr>\n      <th>2</th>\n      <td>662R</td>\n      <td>455158.133924</td>\n      <td>7.014716e+06</td>\n      <td>83.279999</td>\n      <td>-2762.990479</td>\n      <td>-2843.939941</td>\n      <td>2876.09048</td>\n      <td>2957.03994</td>\n    </tr>\n    <tr>\n      <th>3</th>\n      <td>668R</td>\n      <td>449834.860000</td>\n      <td>7.014866e+06</td>\n      <td>78.683403</td>\n      <td>-2762.426514</td>\n      <td>-2854.495117</td>\n      <td>2867.56651</td>\n      <td>2959.63512</td>\n    </tr>\n  </tbody>\n</table>\n</div>"
     },
     "execution_count": 31,
     "metadata": {},
     "output_type": "execute_result"
    }
   ],
   "source": [
    "df_table_coor"
   ],
   "metadata": {
    "collapsed": false,
    "ExecuteTime": {
     "end_time": "2025-03-25T08:36:52.478315600Z",
     "start_time": "2025-03-25T08:36:52.428523600Z"
    }
   },
   "id": "7995c882c97f3f76",
   "execution_count": 31
  },
  {
   "cell_type": "code",
   "outputs": [],
   "source": [
    "def process_txt_files_2(folder_path, df):\n",
    "    \n",
    "    average_values = []\n",
    "    for filename in os.listdir(folder_path):\n",
    "        if filename.endswith('.txt'):\n",
    "            name_part = filename.split('_')[0]\n",
    "            well_row = df[df['wells'] == name_part]\n",
    "            \n",
    "            if not well_row.empty:\n",
    "                top_u1 = well_row['Top_MD'].values[0]\n",
    "                bottom_u1 = well_row['Bottom_MD'].values[0] - (well_row['Bottom_MD'].values[0] - top_u1) / 2\n",
    "                file_path = os.path.join(folder_path, filename)\n",
    "                with open(file_path, 'r') as file:\n",
    "                    for line in file:\n",
    "                        if line.startswith('~Ascii'):\n",
    "                            break\n",
    "\n",
    "                    values = []\n",
    "                    for line in file:\n",
    "                        parts = line.split()\n",
    "                        if len(parts) >= 2:\n",
    "                            try:\n",
    "                                first_value = float(parts[0]) \n",
    "                                \n",
    "                                if top_u1 <= first_value <= bottom_u1:\n",
    "                                    value = parts[1]\n",
    "                                    if value != '-999.250000':\n",
    "                                        values.append(float(value))\n",
    "                            except ValueError:\n",
    "                                continue  \n",
    "\n",
    "                    if values:\n",
    "                        average_value = sum(values) / len(values)\n",
    "                        average_values.append(average_value)\n",
    "                    else:\n",
    "                        average_values.append(None)  \n",
    "    df['среднее_значение'] = average_values\n",
    "\n",
    "    return df\n"
   ],
   "metadata": {
    "collapsed": false,
    "ExecuteTime": {
     "end_time": "2025-03-25T08:36:53.137843Z",
     "start_time": "2025-03-25T08:36:53.132521200Z"
    }
   },
   "id": "e6f65181b91cfd4a",
   "execution_count": 32
  },
  {
   "cell_type": "code",
   "outputs": [],
   "source": [
    "folder_path = 'C:/HV/Seismic/datas/test_3_2/karotags'   \n",
    "df_facii  = process_txt_files_2(folder_path, df_table_coor)"
   ],
   "metadata": {
    "collapsed": false,
    "ExecuteTime": {
     "end_time": "2025-03-25T08:36:54.358404900Z",
     "start_time": "2025-03-25T08:36:54.280354200Z"
    }
   },
   "id": "c22a22fecba66d90",
   "execution_count": 33
  },
  {
   "cell_type": "code",
   "outputs": [
    {
     "data": {
      "text/plain": "  wells        inlines        xlines  Lateral_trend      Top_TVD   Bottom_TVD  \\\n0  660R  450928.636400  7.011087e+06      81.747803 -2786.688477 -2875.321045   \n1  661R  457638.951200  7.011792e+06      75.619003 -2764.798584 -2843.564209   \n2  662R  455158.133924  7.014716e+06      83.279999 -2762.990479 -2843.939941   \n3  668R  449834.860000  7.014866e+06      78.683403 -2762.426514 -2854.495117   \n\n       Top_MD   Bottom_MD  среднее_значение  \n0  2900.17848  2988.81104         15.228834  \n1  2893.78858  2972.55421         13.880001  \n2  2876.09048  2957.03994         12.516621  \n3  2867.56651  2959.63512         12.392252  ",
      "text/html": "<div>\n<style scoped>\n    .dataframe tbody tr th:only-of-type {\n        vertical-align: middle;\n    }\n\n    .dataframe tbody tr th {\n        vertical-align: top;\n    }\n\n    .dataframe thead th {\n        text-align: right;\n    }\n</style>\n<table border=\"1\" class=\"dataframe\">\n  <thead>\n    <tr style=\"text-align: right;\">\n      <th></th>\n      <th>wells</th>\n      <th>inlines</th>\n      <th>xlines</th>\n      <th>Lateral_trend</th>\n      <th>Top_TVD</th>\n      <th>Bottom_TVD</th>\n      <th>Top_MD</th>\n      <th>Bottom_MD</th>\n      <th>среднее_значение</th>\n    </tr>\n  </thead>\n  <tbody>\n    <tr>\n      <th>0</th>\n      <td>660R</td>\n      <td>450928.636400</td>\n      <td>7.011087e+06</td>\n      <td>81.747803</td>\n      <td>-2786.688477</td>\n      <td>-2875.321045</td>\n      <td>2900.17848</td>\n      <td>2988.81104</td>\n      <td>15.228834</td>\n    </tr>\n    <tr>\n      <th>1</th>\n      <td>661R</td>\n      <td>457638.951200</td>\n      <td>7.011792e+06</td>\n      <td>75.619003</td>\n      <td>-2764.798584</td>\n      <td>-2843.564209</td>\n      <td>2893.78858</td>\n      <td>2972.55421</td>\n      <td>13.880001</td>\n    </tr>\n    <tr>\n      <th>2</th>\n      <td>662R</td>\n      <td>455158.133924</td>\n      <td>7.014716e+06</td>\n      <td>83.279999</td>\n      <td>-2762.990479</td>\n      <td>-2843.939941</td>\n      <td>2876.09048</td>\n      <td>2957.03994</td>\n      <td>12.516621</td>\n    </tr>\n    <tr>\n      <th>3</th>\n      <td>668R</td>\n      <td>449834.860000</td>\n      <td>7.014866e+06</td>\n      <td>78.683403</td>\n      <td>-2762.426514</td>\n      <td>-2854.495117</td>\n      <td>2867.56651</td>\n      <td>2959.63512</td>\n      <td>12.392252</td>\n    </tr>\n  </tbody>\n</table>\n</div>"
     },
     "execution_count": 34,
     "metadata": {},
     "output_type": "execute_result"
    }
   ],
   "source": [
    "df_facii"
   ],
   "metadata": {
    "collapsed": false,
    "ExecuteTime": {
     "end_time": "2025-03-25T08:36:55.462414300Z",
     "start_time": "2025-03-25T08:36:55.424656500Z"
    }
   },
   "id": "f7956c7a186531d2",
   "execution_count": 34
  },
  {
   "cell_type": "code",
   "outputs": [],
   "source": [
    "def plot_with_trendline(df, x_col, y_col, name_col):\n",
    "    \"\"\"\n",
    "    Функция для построения графика с линией тренда и значением R^2,\n",
    "    а также отображением всех имен при наведении на точки.\n",
    "\n",
    "    :param df: DataFrame, содержащий данные\n",
    "    :param x_col: str, имя колонки для оси X\n",
    "    :param y_col: str, имя колонки для оси Y\n",
    "    :param name_col: str, имя колонки с именами для отображения\n",
    "    \"\"\"\n",
    "    # Преобразование значений в колонке с именами в строковый формат\n",
    "    df[name_col] = df[name_col].astype(str)\n",
    "\n",
    "    # Создание новой колонки с объединенными именами для одинаковых координат\n",
    "    df['hover_names'] = df.groupby([x_col, y_col])[name_col].transform(lambda x: ', '.join(x))\n",
    "\n",
    "    # Извлечение данных\n",
    "    x = df[x_col]\n",
    "    y = df[y_col]\n",
    "    hover_names = df['hover_names']\n",
    "\n",
    "    # Вычисление коэффициентов линейной регрессии\n",
    "    coefficients = np.polyfit(x, y, 1)\n",
    "    polynomial = np.poly1d(coefficients)\n",
    "    trendline = polynomial(x)\n",
    "\n",
    "    # Вычисление R^2\n",
    "    r_squared = 1 - (np.sum((y - trendline) ** 2) / np.sum((y - np.mean(y)) ** 2))\n",
    "    r_sqrt = round(np.sqrt(r_squared), 3)\n",
    "\n",
    "    # Форматирование уравнения линии тренда\n",
    "    slope = coefficients[0]\n",
    "    intercept = coefficients[1]\n",
    "    equation = f'y = {slope:.2f}x + {intercept:.2f}'\n",
    "\n",
    "\n",
    "    # Создание графика\n",
    "    fig = go.Figure()\n",
    "\n",
    "    # Добавление точки данных с текстом для отображения имен\n",
    "    fig.add_trace(go.Scatter(\n",
    "        x=x,\n",
    "        y=y,\n",
    "        mode='markers',\n",
    "        name='Скважины',\n",
    "        text=hover_names,  # Текст для отображения при наведении\n",
    "        hoverinfo='text'  # Отображение только текста\n",
    "    ))\n",
    "\n",
    "    # Добавление линии тренда\n",
    "    fig.add_trace(go.Scatter(x=x, y=trendline, mode='lines', name='Линия тренда'))\n",
    "\n",
    "    # Добавление аннотации с R^2\n",
    "    fig.add_annotation(\n",
    "        x=0.5,\n",
    "        y=0.9,\n",
    "        text=f'|R| = {r_sqrt:.2f}<br>{equation}',\n",
    "        showarrow=False,\n",
    "        font=dict(size=16),\n",
    "        xref=\"paper\",\n",
    "        yref=\"paper\"\n",
    "    )\n",
    "\n",
    "    # Настройки графика\n",
    "    fig.update_layout(\n",
    "        title='Скважины с линией тренда',\n",
    "        xaxis_title=x_col,\n",
    "        yaxis_title=y_col\n",
    "    )\n",
    "\n",
    "    # Показать график\n",
    "    fig.show()\n",
    "    \n",
    "    if r_sqrt < 0.7:\n",
    "        print('Полученную зависимость нельзя использовать в качестве тренда. Обратите внимание на другие сейсмические атрибуты.')\n",
    "    else:\n",
    "        print('Полученная зависимость пригодна для использования в качестве тренда. Тест пройден успешно')\n"
   ],
   "metadata": {
    "collapsed": false,
    "ExecuteTime": {
     "end_time": "2025-03-25T08:36:56.723527800Z",
     "start_time": "2025-03-25T08:36:56.717637300Z"
    }
   },
   "id": "7b00726c13558407",
   "execution_count": 35
  },
  {
   "cell_type": "code",
   "outputs": [
    {
     "data": {
      "application/vnd.plotly.v1+json": {
       "data": [
        {
         "hoverinfo": "text",
         "mode": "markers",
         "name": "Скважины",
         "text": [
          "660R",
          "661R",
          "662R",
          "668R"
         ],
         "x": [
          81.747803,
          75.619003,
          83.279999,
          78.683403
         ],
         "y": [
          15.228833669724771,
          13.88000076724138,
          12.516620658273382,
          12.392252085057471
         ],
         "type": "scatter"
        },
        {
         "mode": "lines",
         "name": "Линия тренда",
         "x": [
          81.747803,
          75.619003,
          83.279999,
          78.683403
         ],
         "y": [
          13.481905576679422,
          13.553973437914419,
          13.463888658406217,
          13.517939507296921
         ],
         "type": "scatter"
        }
       ],
       "layout": {
        "template": {
         "data": {
          "histogram2dcontour": [
           {
            "type": "histogram2dcontour",
            "colorbar": {
             "outlinewidth": 0,
             "ticks": ""
            },
            "colorscale": [
             [
              0.0,
              "#0d0887"
             ],
             [
              0.1111111111111111,
              "#46039f"
             ],
             [
              0.2222222222222222,
              "#7201a8"
             ],
             [
              0.3333333333333333,
              "#9c179e"
             ],
             [
              0.4444444444444444,
              "#bd3786"
             ],
             [
              0.5555555555555556,
              "#d8576b"
             ],
             [
              0.6666666666666666,
              "#ed7953"
             ],
             [
              0.7777777777777778,
              "#fb9f3a"
             ],
             [
              0.8888888888888888,
              "#fdca26"
             ],
             [
              1.0,
              "#f0f921"
             ]
            ]
           }
          ],
          "choropleth": [
           {
            "type": "choropleth",
            "colorbar": {
             "outlinewidth": 0,
             "ticks": ""
            }
           }
          ],
          "histogram2d": [
           {
            "type": "histogram2d",
            "colorbar": {
             "outlinewidth": 0,
             "ticks": ""
            },
            "colorscale": [
             [
              0.0,
              "#0d0887"
             ],
             [
              0.1111111111111111,
              "#46039f"
             ],
             [
              0.2222222222222222,
              "#7201a8"
             ],
             [
              0.3333333333333333,
              "#9c179e"
             ],
             [
              0.4444444444444444,
              "#bd3786"
             ],
             [
              0.5555555555555556,
              "#d8576b"
             ],
             [
              0.6666666666666666,
              "#ed7953"
             ],
             [
              0.7777777777777778,
              "#fb9f3a"
             ],
             [
              0.8888888888888888,
              "#fdca26"
             ],
             [
              1.0,
              "#f0f921"
             ]
            ]
           }
          ],
          "heatmap": [
           {
            "type": "heatmap",
            "colorbar": {
             "outlinewidth": 0,
             "ticks": ""
            },
            "colorscale": [
             [
              0.0,
              "#0d0887"
             ],
             [
              0.1111111111111111,
              "#46039f"
             ],
             [
              0.2222222222222222,
              "#7201a8"
             ],
             [
              0.3333333333333333,
              "#9c179e"
             ],
             [
              0.4444444444444444,
              "#bd3786"
             ],
             [
              0.5555555555555556,
              "#d8576b"
             ],
             [
              0.6666666666666666,
              "#ed7953"
             ],
             [
              0.7777777777777778,
              "#fb9f3a"
             ],
             [
              0.8888888888888888,
              "#fdca26"
             ],
             [
              1.0,
              "#f0f921"
             ]
            ]
           }
          ],
          "heatmapgl": [
           {
            "type": "heatmapgl",
            "colorbar": {
             "outlinewidth": 0,
             "ticks": ""
            },
            "colorscale": [
             [
              0.0,
              "#0d0887"
             ],
             [
              0.1111111111111111,
              "#46039f"
             ],
             [
              0.2222222222222222,
              "#7201a8"
             ],
             [
              0.3333333333333333,
              "#9c179e"
             ],
             [
              0.4444444444444444,
              "#bd3786"
             ],
             [
              0.5555555555555556,
              "#d8576b"
             ],
             [
              0.6666666666666666,
              "#ed7953"
             ],
             [
              0.7777777777777778,
              "#fb9f3a"
             ],
             [
              0.8888888888888888,
              "#fdca26"
             ],
             [
              1.0,
              "#f0f921"
             ]
            ]
           }
          ],
          "contourcarpet": [
           {
            "type": "contourcarpet",
            "colorbar": {
             "outlinewidth": 0,
             "ticks": ""
            }
           }
          ],
          "contour": [
           {
            "type": "contour",
            "colorbar": {
             "outlinewidth": 0,
             "ticks": ""
            },
            "colorscale": [
             [
              0.0,
              "#0d0887"
             ],
             [
              0.1111111111111111,
              "#46039f"
             ],
             [
              0.2222222222222222,
              "#7201a8"
             ],
             [
              0.3333333333333333,
              "#9c179e"
             ],
             [
              0.4444444444444444,
              "#bd3786"
             ],
             [
              0.5555555555555556,
              "#d8576b"
             ],
             [
              0.6666666666666666,
              "#ed7953"
             ],
             [
              0.7777777777777778,
              "#fb9f3a"
             ],
             [
              0.8888888888888888,
              "#fdca26"
             ],
             [
              1.0,
              "#f0f921"
             ]
            ]
           }
          ],
          "surface": [
           {
            "type": "surface",
            "colorbar": {
             "outlinewidth": 0,
             "ticks": ""
            },
            "colorscale": [
             [
              0.0,
              "#0d0887"
             ],
             [
              0.1111111111111111,
              "#46039f"
             ],
             [
              0.2222222222222222,
              "#7201a8"
             ],
             [
              0.3333333333333333,
              "#9c179e"
             ],
             [
              0.4444444444444444,
              "#bd3786"
             ],
             [
              0.5555555555555556,
              "#d8576b"
             ],
             [
              0.6666666666666666,
              "#ed7953"
             ],
             [
              0.7777777777777778,
              "#fb9f3a"
             ],
             [
              0.8888888888888888,
              "#fdca26"
             ],
             [
              1.0,
              "#f0f921"
             ]
            ]
           }
          ],
          "mesh3d": [
           {
            "type": "mesh3d",
            "colorbar": {
             "outlinewidth": 0,
             "ticks": ""
            }
           }
          ],
          "scatter": [
           {
            "marker": {
             "line": {
              "color": "#283442"
             }
            },
            "type": "scatter"
           }
          ],
          "parcoords": [
           {
            "type": "parcoords",
            "line": {
             "colorbar": {
              "outlinewidth": 0,
              "ticks": ""
             }
            }
           }
          ],
          "scatterpolargl": [
           {
            "type": "scatterpolargl",
            "marker": {
             "colorbar": {
              "outlinewidth": 0,
              "ticks": ""
             }
            }
           }
          ],
          "bar": [
           {
            "error_x": {
             "color": "#f2f5fa"
            },
            "error_y": {
             "color": "#f2f5fa"
            },
            "marker": {
             "line": {
              "color": "rgb(17,17,17)",
              "width": 0.5
             },
             "pattern": {
              "fillmode": "overlay",
              "size": 10,
              "solidity": 0.2
             }
            },
            "type": "bar"
           }
          ],
          "scattergeo": [
           {
            "type": "scattergeo",
            "marker": {
             "colorbar": {
              "outlinewidth": 0,
              "ticks": ""
             }
            }
           }
          ],
          "scatterpolar": [
           {
            "type": "scatterpolar",
            "marker": {
             "colorbar": {
              "outlinewidth": 0,
              "ticks": ""
             }
            }
           }
          ],
          "histogram": [
           {
            "marker": {
             "pattern": {
              "fillmode": "overlay",
              "size": 10,
              "solidity": 0.2
             }
            },
            "type": "histogram"
           }
          ],
          "scattergl": [
           {
            "marker": {
             "line": {
              "color": "#283442"
             }
            },
            "type": "scattergl"
           }
          ],
          "scatter3d": [
           {
            "type": "scatter3d",
            "line": {
             "colorbar": {
              "outlinewidth": 0,
              "ticks": ""
             }
            },
            "marker": {
             "colorbar": {
              "outlinewidth": 0,
              "ticks": ""
             }
            }
           }
          ],
          "scattermapbox": [
           {
            "type": "scattermapbox",
            "marker": {
             "colorbar": {
              "outlinewidth": 0,
              "ticks": ""
             }
            }
           }
          ],
          "scatterternary": [
           {
            "type": "scatterternary",
            "marker": {
             "colorbar": {
              "outlinewidth": 0,
              "ticks": ""
             }
            }
           }
          ],
          "scattercarpet": [
           {
            "type": "scattercarpet",
            "marker": {
             "colorbar": {
              "outlinewidth": 0,
              "ticks": ""
             }
            }
           }
          ],
          "carpet": [
           {
            "aaxis": {
             "endlinecolor": "#A2B1C6",
             "gridcolor": "#506784",
             "linecolor": "#506784",
             "minorgridcolor": "#506784",
             "startlinecolor": "#A2B1C6"
            },
            "baxis": {
             "endlinecolor": "#A2B1C6",
             "gridcolor": "#506784",
             "linecolor": "#506784",
             "minorgridcolor": "#506784",
             "startlinecolor": "#A2B1C6"
            },
            "type": "carpet"
           }
          ],
          "table": [
           {
            "cells": {
             "fill": {
              "color": "#506784"
             },
             "line": {
              "color": "rgb(17,17,17)"
             }
            },
            "header": {
             "fill": {
              "color": "#2a3f5f"
             },
             "line": {
              "color": "rgb(17,17,17)"
             }
            },
            "type": "table"
           }
          ],
          "barpolar": [
           {
            "marker": {
             "line": {
              "color": "rgb(17,17,17)",
              "width": 0.5
             },
             "pattern": {
              "fillmode": "overlay",
              "size": 10,
              "solidity": 0.2
             }
            },
            "type": "barpolar"
           }
          ],
          "pie": [
           {
            "automargin": true,
            "type": "pie"
           }
          ]
         },
         "layout": {
          "autotypenumbers": "strict",
          "colorway": [
           "#636efa",
           "#EF553B",
           "#00cc96",
           "#ab63fa",
           "#FFA15A",
           "#19d3f3",
           "#FF6692",
           "#B6E880",
           "#FF97FF",
           "#FECB52"
          ],
          "font": {
           "color": "#f2f5fa"
          },
          "hovermode": "closest",
          "hoverlabel": {
           "align": "left"
          },
          "paper_bgcolor": "rgb(17,17,17)",
          "plot_bgcolor": "rgb(17,17,17)",
          "polar": {
           "bgcolor": "rgb(17,17,17)",
           "angularaxis": {
            "gridcolor": "#506784",
            "linecolor": "#506784",
            "ticks": ""
           },
           "radialaxis": {
            "gridcolor": "#506784",
            "linecolor": "#506784",
            "ticks": ""
           }
          },
          "ternary": {
           "bgcolor": "rgb(17,17,17)",
           "aaxis": {
            "gridcolor": "#506784",
            "linecolor": "#506784",
            "ticks": ""
           },
           "baxis": {
            "gridcolor": "#506784",
            "linecolor": "#506784",
            "ticks": ""
           },
           "caxis": {
            "gridcolor": "#506784",
            "linecolor": "#506784",
            "ticks": ""
           }
          },
          "coloraxis": {
           "colorbar": {
            "outlinewidth": 0,
            "ticks": ""
           }
          },
          "colorscale": {
           "sequential": [
            [
             0.0,
             "#0d0887"
            ],
            [
             0.1111111111111111,
             "#46039f"
            ],
            [
             0.2222222222222222,
             "#7201a8"
            ],
            [
             0.3333333333333333,
             "#9c179e"
            ],
            [
             0.4444444444444444,
             "#bd3786"
            ],
            [
             0.5555555555555556,
             "#d8576b"
            ],
            [
             0.6666666666666666,
             "#ed7953"
            ],
            [
             0.7777777777777778,
             "#fb9f3a"
            ],
            [
             0.8888888888888888,
             "#fdca26"
            ],
            [
             1.0,
             "#f0f921"
            ]
           ],
           "sequentialminus": [
            [
             0.0,
             "#0d0887"
            ],
            [
             0.1111111111111111,
             "#46039f"
            ],
            [
             0.2222222222222222,
             "#7201a8"
            ],
            [
             0.3333333333333333,
             "#9c179e"
            ],
            [
             0.4444444444444444,
             "#bd3786"
            ],
            [
             0.5555555555555556,
             "#d8576b"
            ],
            [
             0.6666666666666666,
             "#ed7953"
            ],
            [
             0.7777777777777778,
             "#fb9f3a"
            ],
            [
             0.8888888888888888,
             "#fdca26"
            ],
            [
             1.0,
             "#f0f921"
            ]
           ],
           "diverging": [
            [
             0,
             "#8e0152"
            ],
            [
             0.1,
             "#c51b7d"
            ],
            [
             0.2,
             "#de77ae"
            ],
            [
             0.3,
             "#f1b6da"
            ],
            [
             0.4,
             "#fde0ef"
            ],
            [
             0.5,
             "#f7f7f7"
            ],
            [
             0.6,
             "#e6f5d0"
            ],
            [
             0.7,
             "#b8e186"
            ],
            [
             0.8,
             "#7fbc41"
            ],
            [
             0.9,
             "#4d9221"
            ],
            [
             1,
             "#276419"
            ]
           ]
          },
          "xaxis": {
           "gridcolor": "#283442",
           "linecolor": "#506784",
           "ticks": "",
           "title": {
            "standoff": 15
           },
           "zerolinecolor": "#283442",
           "automargin": true,
           "zerolinewidth": 2
          },
          "yaxis": {
           "gridcolor": "#283442",
           "linecolor": "#506784",
           "ticks": "",
           "title": {
            "standoff": 15
           },
           "zerolinecolor": "#283442",
           "automargin": true,
           "zerolinewidth": 2
          },
          "scene": {
           "xaxis": {
            "backgroundcolor": "rgb(17,17,17)",
            "gridcolor": "#506784",
            "linecolor": "#506784",
            "showbackground": true,
            "ticks": "",
            "zerolinecolor": "#C8D4E3",
            "gridwidth": 2
           },
           "yaxis": {
            "backgroundcolor": "rgb(17,17,17)",
            "gridcolor": "#506784",
            "linecolor": "#506784",
            "showbackground": true,
            "ticks": "",
            "zerolinecolor": "#C8D4E3",
            "gridwidth": 2
           },
           "zaxis": {
            "backgroundcolor": "rgb(17,17,17)",
            "gridcolor": "#506784",
            "linecolor": "#506784",
            "showbackground": true,
            "ticks": "",
            "zerolinecolor": "#C8D4E3",
            "gridwidth": 2
           }
          },
          "shapedefaults": {
           "line": {
            "color": "#f2f5fa"
           }
          },
          "annotationdefaults": {
           "arrowcolor": "#f2f5fa",
           "arrowhead": 0,
           "arrowwidth": 1
          },
          "geo": {
           "bgcolor": "rgb(17,17,17)",
           "landcolor": "rgb(17,17,17)",
           "subunitcolor": "#506784",
           "showland": true,
           "showlakes": true,
           "lakecolor": "rgb(17,17,17)"
          },
          "title": {
           "x": 0.05
          },
          "updatemenudefaults": {
           "bgcolor": "#506784",
           "borderwidth": 0
          },
          "sliderdefaults": {
           "bgcolor": "#C8D4E3",
           "borderwidth": 1,
           "bordercolor": "rgb(17,17,17)",
           "tickwidth": 0
          },
          "mapbox": {
           "style": "dark"
          }
         }
        },
        "annotations": [
         {
          "font": {
           "size": 16
          },
          "showarrow": false,
          "text": "|R| = 0.03<br>y = -0.01x + 14.44",
          "x": 0.5,
          "xref": "paper",
          "y": 0.9,
          "yref": "paper"
         }
        ],
        "title": {
         "text": "Скважины с линией тренда"
        },
        "xaxis": {
         "title": {
          "text": "Lateral_trend"
         }
        },
        "yaxis": {
         "title": {
          "text": "среднее_значение"
         }
        }
       },
       "config": {
        "plotlyServerURL": "https://plot.ly"
       }
      },
      "text/html": "<div>                            <div id=\"f3114c7d-9e37-498c-8209-29bf980da805\" class=\"plotly-graph-div\" style=\"height:525px; width:100%;\"></div>            <script type=\"text/javascript\">                require([\"plotly\"], function(Plotly) {                    window.PLOTLYENV=window.PLOTLYENV || {};                                    if (document.getElementById(\"f3114c7d-9e37-498c-8209-29bf980da805\")) {                    Plotly.newPlot(                        \"f3114c7d-9e37-498c-8209-29bf980da805\",                        [{\"hoverinfo\":\"text\",\"mode\":\"markers\",\"name\":\"\\u0421\\u043a\\u0432\\u0430\\u0436\\u0438\\u043d\\u044b\",\"text\":[\"660R\",\"661R\",\"662R\",\"668R\"],\"x\":[81.747803,75.619003,83.279999,78.683403],\"y\":[15.228833669724771,13.88000076724138,12.516620658273382,12.392252085057471],\"type\":\"scatter\"},{\"mode\":\"lines\",\"name\":\"\\u041b\\u0438\\u043d\\u0438\\u044f \\u0442\\u0440\\u0435\\u043d\\u0434\\u0430\",\"x\":[81.747803,75.619003,83.279999,78.683403],\"y\":[13.481905576679422,13.553973437914419,13.463888658406217,13.517939507296921],\"type\":\"scatter\"}],                        {\"template\":{\"data\":{\"histogram2dcontour\":[{\"type\":\"histogram2dcontour\",\"colorbar\":{\"outlinewidth\":0,\"ticks\":\"\"},\"colorscale\":[[0.0,\"#0d0887\"],[0.1111111111111111,\"#46039f\"],[0.2222222222222222,\"#7201a8\"],[0.3333333333333333,\"#9c179e\"],[0.4444444444444444,\"#bd3786\"],[0.5555555555555556,\"#d8576b\"],[0.6666666666666666,\"#ed7953\"],[0.7777777777777778,\"#fb9f3a\"],[0.8888888888888888,\"#fdca26\"],[1.0,\"#f0f921\"]]}],\"choropleth\":[{\"type\":\"choropleth\",\"colorbar\":{\"outlinewidth\":0,\"ticks\":\"\"}}],\"histogram2d\":[{\"type\":\"histogram2d\",\"colorbar\":{\"outlinewidth\":0,\"ticks\":\"\"},\"colorscale\":[[0.0,\"#0d0887\"],[0.1111111111111111,\"#46039f\"],[0.2222222222222222,\"#7201a8\"],[0.3333333333333333,\"#9c179e\"],[0.4444444444444444,\"#bd3786\"],[0.5555555555555556,\"#d8576b\"],[0.6666666666666666,\"#ed7953\"],[0.7777777777777778,\"#fb9f3a\"],[0.8888888888888888,\"#fdca26\"],[1.0,\"#f0f921\"]]}],\"heatmap\":[{\"type\":\"heatmap\",\"colorbar\":{\"outlinewidth\":0,\"ticks\":\"\"},\"colorscale\":[[0.0,\"#0d0887\"],[0.1111111111111111,\"#46039f\"],[0.2222222222222222,\"#7201a8\"],[0.3333333333333333,\"#9c179e\"],[0.4444444444444444,\"#bd3786\"],[0.5555555555555556,\"#d8576b\"],[0.6666666666666666,\"#ed7953\"],[0.7777777777777778,\"#fb9f3a\"],[0.8888888888888888,\"#fdca26\"],[1.0,\"#f0f921\"]]}],\"heatmapgl\":[{\"type\":\"heatmapgl\",\"colorbar\":{\"outlinewidth\":0,\"ticks\":\"\"},\"colorscale\":[[0.0,\"#0d0887\"],[0.1111111111111111,\"#46039f\"],[0.2222222222222222,\"#7201a8\"],[0.3333333333333333,\"#9c179e\"],[0.4444444444444444,\"#bd3786\"],[0.5555555555555556,\"#d8576b\"],[0.6666666666666666,\"#ed7953\"],[0.7777777777777778,\"#fb9f3a\"],[0.8888888888888888,\"#fdca26\"],[1.0,\"#f0f921\"]]}],\"contourcarpet\":[{\"type\":\"contourcarpet\",\"colorbar\":{\"outlinewidth\":0,\"ticks\":\"\"}}],\"contour\":[{\"type\":\"contour\",\"colorbar\":{\"outlinewidth\":0,\"ticks\":\"\"},\"colorscale\":[[0.0,\"#0d0887\"],[0.1111111111111111,\"#46039f\"],[0.2222222222222222,\"#7201a8\"],[0.3333333333333333,\"#9c179e\"],[0.4444444444444444,\"#bd3786\"],[0.5555555555555556,\"#d8576b\"],[0.6666666666666666,\"#ed7953\"],[0.7777777777777778,\"#fb9f3a\"],[0.8888888888888888,\"#fdca26\"],[1.0,\"#f0f921\"]]}],\"surface\":[{\"type\":\"surface\",\"colorbar\":{\"outlinewidth\":0,\"ticks\":\"\"},\"colorscale\":[[0.0,\"#0d0887\"],[0.1111111111111111,\"#46039f\"],[0.2222222222222222,\"#7201a8\"],[0.3333333333333333,\"#9c179e\"],[0.4444444444444444,\"#bd3786\"],[0.5555555555555556,\"#d8576b\"],[0.6666666666666666,\"#ed7953\"],[0.7777777777777778,\"#fb9f3a\"],[0.8888888888888888,\"#fdca26\"],[1.0,\"#f0f921\"]]}],\"mesh3d\":[{\"type\":\"mesh3d\",\"colorbar\":{\"outlinewidth\":0,\"ticks\":\"\"}}],\"scatter\":[{\"marker\":{\"line\":{\"color\":\"#283442\"}},\"type\":\"scatter\"}],\"parcoords\":[{\"type\":\"parcoords\",\"line\":{\"colorbar\":{\"outlinewidth\":0,\"ticks\":\"\"}}}],\"scatterpolargl\":[{\"type\":\"scatterpolargl\",\"marker\":{\"colorbar\":{\"outlinewidth\":0,\"ticks\":\"\"}}}],\"bar\":[{\"error_x\":{\"color\":\"#f2f5fa\"},\"error_y\":{\"color\":\"#f2f5fa\"},\"marker\":{\"line\":{\"color\":\"rgb(17,17,17)\",\"width\":0.5},\"pattern\":{\"fillmode\":\"overlay\",\"size\":10,\"solidity\":0.2}},\"type\":\"bar\"}],\"scattergeo\":[{\"type\":\"scattergeo\",\"marker\":{\"colorbar\":{\"outlinewidth\":0,\"ticks\":\"\"}}}],\"scatterpolar\":[{\"type\":\"scatterpolar\",\"marker\":{\"colorbar\":{\"outlinewidth\":0,\"ticks\":\"\"}}}],\"histogram\":[{\"marker\":{\"pattern\":{\"fillmode\":\"overlay\",\"size\":10,\"solidity\":0.2}},\"type\":\"histogram\"}],\"scattergl\":[{\"marker\":{\"line\":{\"color\":\"#283442\"}},\"type\":\"scattergl\"}],\"scatter3d\":[{\"type\":\"scatter3d\",\"line\":{\"colorbar\":{\"outlinewidth\":0,\"ticks\":\"\"}},\"marker\":{\"colorbar\":{\"outlinewidth\":0,\"ticks\":\"\"}}}],\"scattermapbox\":[{\"type\":\"scattermapbox\",\"marker\":{\"colorbar\":{\"outlinewidth\":0,\"ticks\":\"\"}}}],\"scatterternary\":[{\"type\":\"scatterternary\",\"marker\":{\"colorbar\":{\"outlinewidth\":0,\"ticks\":\"\"}}}],\"scattercarpet\":[{\"type\":\"scattercarpet\",\"marker\":{\"colorbar\":{\"outlinewidth\":0,\"ticks\":\"\"}}}],\"carpet\":[{\"aaxis\":{\"endlinecolor\":\"#A2B1C6\",\"gridcolor\":\"#506784\",\"linecolor\":\"#506784\",\"minorgridcolor\":\"#506784\",\"startlinecolor\":\"#A2B1C6\"},\"baxis\":{\"endlinecolor\":\"#A2B1C6\",\"gridcolor\":\"#506784\",\"linecolor\":\"#506784\",\"minorgridcolor\":\"#506784\",\"startlinecolor\":\"#A2B1C6\"},\"type\":\"carpet\"}],\"table\":[{\"cells\":{\"fill\":{\"color\":\"#506784\"},\"line\":{\"color\":\"rgb(17,17,17)\"}},\"header\":{\"fill\":{\"color\":\"#2a3f5f\"},\"line\":{\"color\":\"rgb(17,17,17)\"}},\"type\":\"table\"}],\"barpolar\":[{\"marker\":{\"line\":{\"color\":\"rgb(17,17,17)\",\"width\":0.5},\"pattern\":{\"fillmode\":\"overlay\",\"size\":10,\"solidity\":0.2}},\"type\":\"barpolar\"}],\"pie\":[{\"automargin\":true,\"type\":\"pie\"}]},\"layout\":{\"autotypenumbers\":\"strict\",\"colorway\":[\"#636efa\",\"#EF553B\",\"#00cc96\",\"#ab63fa\",\"#FFA15A\",\"#19d3f3\",\"#FF6692\",\"#B6E880\",\"#FF97FF\",\"#FECB52\"],\"font\":{\"color\":\"#f2f5fa\"},\"hovermode\":\"closest\",\"hoverlabel\":{\"align\":\"left\"},\"paper_bgcolor\":\"rgb(17,17,17)\",\"plot_bgcolor\":\"rgb(17,17,17)\",\"polar\":{\"bgcolor\":\"rgb(17,17,17)\",\"angularaxis\":{\"gridcolor\":\"#506784\",\"linecolor\":\"#506784\",\"ticks\":\"\"},\"radialaxis\":{\"gridcolor\":\"#506784\",\"linecolor\":\"#506784\",\"ticks\":\"\"}},\"ternary\":{\"bgcolor\":\"rgb(17,17,17)\",\"aaxis\":{\"gridcolor\":\"#506784\",\"linecolor\":\"#506784\",\"ticks\":\"\"},\"baxis\":{\"gridcolor\":\"#506784\",\"linecolor\":\"#506784\",\"ticks\":\"\"},\"caxis\":{\"gridcolor\":\"#506784\",\"linecolor\":\"#506784\",\"ticks\":\"\"}},\"coloraxis\":{\"colorbar\":{\"outlinewidth\":0,\"ticks\":\"\"}},\"colorscale\":{\"sequential\":[[0.0,\"#0d0887\"],[0.1111111111111111,\"#46039f\"],[0.2222222222222222,\"#7201a8\"],[0.3333333333333333,\"#9c179e\"],[0.4444444444444444,\"#bd3786\"],[0.5555555555555556,\"#d8576b\"],[0.6666666666666666,\"#ed7953\"],[0.7777777777777778,\"#fb9f3a\"],[0.8888888888888888,\"#fdca26\"],[1.0,\"#f0f921\"]],\"sequentialminus\":[[0.0,\"#0d0887\"],[0.1111111111111111,\"#46039f\"],[0.2222222222222222,\"#7201a8\"],[0.3333333333333333,\"#9c179e\"],[0.4444444444444444,\"#bd3786\"],[0.5555555555555556,\"#d8576b\"],[0.6666666666666666,\"#ed7953\"],[0.7777777777777778,\"#fb9f3a\"],[0.8888888888888888,\"#fdca26\"],[1.0,\"#f0f921\"]],\"diverging\":[[0,\"#8e0152\"],[0.1,\"#c51b7d\"],[0.2,\"#de77ae\"],[0.3,\"#f1b6da\"],[0.4,\"#fde0ef\"],[0.5,\"#f7f7f7\"],[0.6,\"#e6f5d0\"],[0.7,\"#b8e186\"],[0.8,\"#7fbc41\"],[0.9,\"#4d9221\"],[1,\"#276419\"]]},\"xaxis\":{\"gridcolor\":\"#283442\",\"linecolor\":\"#506784\",\"ticks\":\"\",\"title\":{\"standoff\":15},\"zerolinecolor\":\"#283442\",\"automargin\":true,\"zerolinewidth\":2},\"yaxis\":{\"gridcolor\":\"#283442\",\"linecolor\":\"#506784\",\"ticks\":\"\",\"title\":{\"standoff\":15},\"zerolinecolor\":\"#283442\",\"automargin\":true,\"zerolinewidth\":2},\"scene\":{\"xaxis\":{\"backgroundcolor\":\"rgb(17,17,17)\",\"gridcolor\":\"#506784\",\"linecolor\":\"#506784\",\"showbackground\":true,\"ticks\":\"\",\"zerolinecolor\":\"#C8D4E3\",\"gridwidth\":2},\"yaxis\":{\"backgroundcolor\":\"rgb(17,17,17)\",\"gridcolor\":\"#506784\",\"linecolor\":\"#506784\",\"showbackground\":true,\"ticks\":\"\",\"zerolinecolor\":\"#C8D4E3\",\"gridwidth\":2},\"zaxis\":{\"backgroundcolor\":\"rgb(17,17,17)\",\"gridcolor\":\"#506784\",\"linecolor\":\"#506784\",\"showbackground\":true,\"ticks\":\"\",\"zerolinecolor\":\"#C8D4E3\",\"gridwidth\":2}},\"shapedefaults\":{\"line\":{\"color\":\"#f2f5fa\"}},\"annotationdefaults\":{\"arrowcolor\":\"#f2f5fa\",\"arrowhead\":0,\"arrowwidth\":1},\"geo\":{\"bgcolor\":\"rgb(17,17,17)\",\"landcolor\":\"rgb(17,17,17)\",\"subunitcolor\":\"#506784\",\"showland\":true,\"showlakes\":true,\"lakecolor\":\"rgb(17,17,17)\"},\"title\":{\"x\":0.05},\"updatemenudefaults\":{\"bgcolor\":\"#506784\",\"borderwidth\":0},\"sliderdefaults\":{\"bgcolor\":\"#C8D4E3\",\"borderwidth\":1,\"bordercolor\":\"rgb(17,17,17)\",\"tickwidth\":0},\"mapbox\":{\"style\":\"dark\"}}},\"annotations\":[{\"font\":{\"size\":16},\"showarrow\":false,\"text\":\"|R| = 0.03\\u003cbr\\u003ey = -0.01x + 14.44\",\"x\":0.5,\"xref\":\"paper\",\"y\":0.9,\"yref\":\"paper\"}],\"title\":{\"text\":\"\\u0421\\u043a\\u0432\\u0430\\u0436\\u0438\\u043d\\u044b \\u0441 \\u043b\\u0438\\u043d\\u0438\\u0435\\u0439 \\u0442\\u0440\\u0435\\u043d\\u0434\\u0430\"},\"xaxis\":{\"title\":{\"text\":\"Lateral_trend\"}},\"yaxis\":{\"title\":{\"text\":\"\\u0441\\u0440\\u0435\\u0434\\u043d\\u0435\\u0435_\\u0437\\u043d\\u0430\\u0447\\u0435\\u043d\\u0438\\u0435\"}}},                        {\"responsive\": true}                    ).then(function(){\n                            \nvar gd = document.getElementById('f3114c7d-9e37-498c-8209-29bf980da805');\nvar x = new MutationObserver(function (mutations, observer) {{\n        var display = window.getComputedStyle(gd).display;\n        if (!display || display === 'none') {{\n            console.log([gd, 'removed!']);\n            Plotly.purge(gd);\n            observer.disconnect();\n        }}\n}});\n\n// Listen for the removal of the full notebook cells\nvar notebookContainer = gd.closest('#notebook-container');\nif (notebookContainer) {{\n    x.observe(notebookContainer, {childList: true});\n}}\n\n// Listen for the clearing of the current output cell\nvar outputEl = gd.closest('.output');\nif (outputEl) {{\n    x.observe(outputEl, {childList: true});\n}}\n\n                        })                };                });            </script>        </div>"
     },
     "metadata": {},
     "output_type": "display_data"
    },
    {
     "name": "stdout",
     "output_type": "stream",
     "text": [
      "Полученную зависимость нельзя использовать в качестве тренда. Обратите внимание на другие сейсмические атрибуты.\n"
     ]
    }
   ],
   "source": [
    "plot_with_trendline(df_facii, 'Lateral_trend', 'среднее_значение', 'wells')"
   ],
   "metadata": {
    "collapsed": false,
    "ExecuteTime": {
     "end_time": "2025-03-25T08:36:58.218694800Z",
     "start_time": "2025-03-25T08:36:58.179091500Z"
    }
   },
   "id": "9fa8a8180a4c74b",
   "execution_count": 36
  },
  {
   "cell_type": "code",
   "outputs": [],
   "source": [],
   "metadata": {
    "collapsed": false
   },
   "id": "3b629108f584390"
  },
  {
   "cell_type": "code",
   "outputs": [],
   "source": [],
   "metadata": {
    "collapsed": false
   },
   "id": "1b055f9fc9922a41"
  }
 ],
 "metadata": {
  "kernelspec": {
   "display_name": "Python 3",
   "language": "python",
   "name": "python3"
  },
  "language_info": {
   "codemirror_mode": {
    "name": "ipython",
    "version": 2
   },
   "file_extension": ".py",
   "mimetype": "text/x-python",
   "name": "python",
   "nbconvert_exporter": "python",
   "pygments_lexer": "ipython2",
   "version": "2.7.6"
  }
 },
 "nbformat": 4,
 "nbformat_minor": 5
}
