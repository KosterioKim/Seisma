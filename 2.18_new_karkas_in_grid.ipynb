{
 "cells": [
  {
   "cell_type": "code",
   "execution_count": 54,
   "id": "initial_id",
   "metadata": {
    "collapsed": true,
    "ExecuteTime": {
     "end_time": "2025-02-26T07:46:09.349631200Z",
     "start_time": "2025-02-26T07:46:09.345642200Z"
    }
   },
   "outputs": [],
   "source": [
    "import plotly.graph_objects as go\n",
    "import numpy as np\n",
    "from pymongo import MongoClient\n",
    "from bson import ObjectId\n",
    "import logging\n",
    "import random\n",
    "import pandas as pd"
   ]
  },
  {
   "cell_type": "code",
   "outputs": [],
   "source": [
    "def seismic_ascii_parser(file_path):\n",
    "    all_data = []\n",
    "    head = \"\"\n",
    "    xarray = []\n",
    "    yarray = []\n",
    "    zarray = []\n",
    "    with open(file_path, 'r') as f:\n",
    "        content = f.readlines()\n",
    "        for line in content:\n",
    "            if '#' in line:\n",
    "                head += line\n",
    "                continue\n",
    "            l = line.split(' ')\n",
    "            xarray.append(float(l[0]))\n",
    "            yarray.append(float(l[1]))\n",
    "            zarray.append(float(l[2]))\n",
    "\n",
    "    df = pd.DataFrame({'x': xarray, 'y': yarray, 'z': zarray})\n",
    "    all_data.append({\"test\": df})\n",
    "    return create_seismic_ascii_date(all_data)[0]\n",
    "\n",
    "def create_seismic_ascii_date(data_frame):\n",
    "    for dataframe_data in data_frame:\n",
    "        _, value = next(iter(dataframe_data.items()))\n",
    "        return value.to_dict(\"records\"),"
   ],
   "metadata": {
    "collapsed": false,
    "ExecuteTime": {
     "end_time": "2025-02-26T07:46:11.063415300Z",
     "start_time": "2025-02-26T07:46:11.060421700Z"
    }
   },
   "id": "55a153df32d87f99",
   "execution_count": 55
  },
  {
   "cell_type": "code",
   "outputs": [],
   "source": [
    "def extract_unique_coordinates(coord_list):\n",
    "\n",
    "    x_set = set()\n",
    "    y_set = set()\n",
    "\n",
    "    for coord in coord_list:\n",
    "        x_set.add(coord['x'])\n",
    "        y_set.add(coord['y'])\n",
    "\n",
    "    x_unique = list(x_set)\n",
    "    y_unique = list(y_set)\n",
    "\n",
    "    return x_unique, y_unique\n",
    "\n"
   ],
   "metadata": {
    "collapsed": false,
    "ExecuteTime": {
     "end_time": "2025-02-26T07:46:12.485613700Z",
     "start_time": "2025-02-26T07:46:12.453723200Z"
    }
   },
   "id": "a7a95c614c91676e",
   "execution_count": 56
  },
  {
   "cell_type": "code",
   "outputs": [],
   "source": [
    "TWT_Bottom = seismic_ascii_parser(r\"C:/HV/Seismic/datas/TWT_Bottom_U1.txt\")\n",
    "TWT_Top = seismic_ascii_parser(r\"C:/HV/Seismic/datas/TWT_Top_U1.txt\")"
   ],
   "metadata": {
    "collapsed": false,
    "ExecuteTime": {
     "end_time": "2025-02-26T07:46:14.386699600Z",
     "start_time": "2025-02-26T07:46:13.808823800Z"
    }
   },
   "id": "cac6bf40b59392",
   "execution_count": 57
  },
  {
   "cell_type": "code",
   "outputs": [
    {
     "name": "stdout",
     "output_type": "stream",
     "text": [
      "286\n",
      "280\n",
      "445946.632991 460196.632991 76.61290322580645\n",
      "7004198.214381 7018148.214381 65.18691588785046\n"
     ]
    }
   ],
   "source": [
    "x_coords, y_coords = extract_unique_coordinates(TWT_Top)\n",
    "\n",
    "print(len(x_coords))\n",
    "print(len(y_coords))\n",
    "print(min(x_coords), max(x_coords), (max(x_coords) - min(x_coords)) / 186)\n",
    "print(min(y_coords), max(y_coords), (max(y_coords) - min(y_coords)) / 214)\n"
   ],
   "metadata": {
    "collapsed": false,
    "ExecuteTime": {
     "end_time": "2025-02-26T07:46:15.253714400Z",
     "start_time": "2025-02-26T07:46:15.228796200Z"
    }
   },
   "id": "43b742e5a82016dd",
   "execution_count": 58
  },
  {
   "cell_type": "code",
   "outputs": [],
   "source": [
    "start_x = min(x_coords)\n",
    "stop_x = max(x_coords)\n",
    "start_y = min(y_coords)\n",
    "stop_y = max(y_coords)\n",
    "delta_x = (max(x_coords) - min(x_coords)) / 186\n",
    "delta_y = (max(y_coords) - min(y_coords)) / 214"
   ],
   "metadata": {
    "collapsed": false,
    "ExecuteTime": {
     "end_time": "2025-02-26T07:46:16.473534900Z",
     "start_time": "2025-02-26T07:46:16.437051100Z"
    }
   },
   "id": "76f274650db330d6",
   "execution_count": 59
  },
  {
   "cell_type": "code",
   "outputs": [],
   "source": [
    "\"\"\"\n",
    "Создаем свой грид в виде двух областей [x, y, z_min, z_max] размерности 186х214 ячеек над кровлей и подошвой\n",
    "\"\"\"\n",
    "grid = []\n",
    "for i in range(186):\n",
    "    #grid.append([])\n",
    "    for j in range(214):\n",
    "        grid.append([start_x + i*delta_x, start_y + j*delta_y, -2350 + random.uniform(-2, 2), -2280 + random.uniform(-2, 2)])\n",
    "\n"
   ],
   "metadata": {
    "collapsed": false,
    "ExecuteTime": {
     "end_time": "2025-02-26T07:46:18.368676700Z",
     "start_time": "2025-02-26T07:46:18.316850100Z"
    }
   },
   "id": "c10fd8c8020b341e",
   "execution_count": 60
  },
  {
   "cell_type": "code",
   "outputs": [
    {
     "name": "stdout",
     "output_type": "stream",
     "text": [
      "39804\n"
     ]
    }
   ],
   "source": [
    "print(len(grid))"
   ],
   "metadata": {
    "collapsed": false,
    "ExecuteTime": {
     "end_time": "2025-02-26T07:46:19.194014200Z",
     "start_time": "2025-02-26T07:46:19.192021Z"
    }
   },
   "id": "a1b5b29d907f8e79",
   "execution_count": 61
  },
  {
   "cell_type": "code",
   "outputs": [],
   "source": [
    "df = pd.DataFrame(np.array(grid), columns=['x', 'y', 'z_min', 'z_max'])"
   ],
   "metadata": {
    "collapsed": false,
    "ExecuteTime": {
     "end_time": "2025-02-26T07:46:20.807805400Z",
     "start_time": "2025-02-26T07:46:20.745658700Z"
    }
   },
   "id": "fc7187f17141892d",
   "execution_count": 62
  },
  {
   "cell_type": "code",
   "outputs": [],
   "source": [
    "import pandas as pd\n",
    "import numpy as np\n",
    "import plotly.graph_objects as go\n",
    "\n",
    "\n",
    "# Создание фигуры\n",
    "fig = go.Figure()\n",
    "\n",
    "data1 = TWT_Top\n",
    "data2 = TWT_Bottom\n",
    "x1 = [point['x'] for point in data1]\n",
    "y1 = [point['y'] for point in data1]\n",
    "z1 = [point['z'] for point in data1]\n",
    "    \n",
    "x2 = [point['x'] for point in data2]\n",
    "y2 = [point['y'] for point in data2]\n",
    "z2 = [point['z'] for point in data2]\n",
    " \n",
    " \n",
    "fig.add_trace(go.Scatter3d(\n",
    "    x=x1,\n",
    "    y=y1,\n",
    "    z=z1,\n",
    "    mode='markers',\n",
    "    marker=dict(size=3, color='blue'),\n",
    "    name='Top_TWT'\n",
    "))\n",
    "    \n",
    "fig.add_trace(go.Scatter3d(\n",
    "    x=x2,\n",
    "    y=y2,\n",
    "    z=z2,\n",
    "    mode='markers',\n",
    "    marker=dict(size=3, color='red'),\n",
    "    name='Bottom_TWT'\n",
    "))\n",
    "\n",
    "\n",
    "\n",
    "# Добавление точек для z_min\n",
    "fig.add_trace(go.Scatter3d(\n",
    "    x=df['x'],\n",
    "    y=df['y'],\n",
    "    z=df['z_min'],\n",
    "    mode='markers',\n",
    "    name='z_min',\n",
    "    marker=dict(color='white', size=5)\n",
    "))\n",
    "\n",
    "# Добавление точек для z_max\n",
    "fig.add_trace(go.Scatter3d(\n",
    "    x=df['x'],\n",
    "    y=df['y'],\n",
    "    z=df['z_max'],\n",
    "    mode='markers',\n",
    "    name='z_max',\n",
    "    marker=dict(color='yellow', size=5)\n",
    "))\n",
    "\n",
    "# Настройка внешнего вида графика\n",
    "fig.update_layout(\n",
    "    title='Визуализация областей z_min и z_max',\n",
    "    #width=800,  # Установка ширины графика\n",
    "    #height=600,  # Установка высоты графика\n",
    "    scene=dict(\n",
    "        xaxis_title='X',\n",
    "        yaxis_title='Y',\n",
    "        zaxis_title='Z'\n",
    "    )\n",
    ")\n",
    "\n",
    "# Показать график\n",
    "fig.show()\n"
   ],
   "metadata": {
    "collapsed": false,
    "ExecuteTime": {
     "end_time": "2025-02-26T07:46:23.856052300Z",
     "start_time": "2025-02-26T07:46:22.218827100Z"
    }
   },
   "id": "55237603030ccff5",
   "execution_count": 63
  },
  {
   "cell_type": "code",
   "outputs": [],
   "source": [],
   "metadata": {
    "collapsed": false
   },
   "id": "e6909cd068d99de4"
  },
  {
   "cell_type": "code",
   "outputs": [],
   "source": [],
   "metadata": {
    "collapsed": false
   },
   "id": "1a0e8868b213134d"
  }
 ],
 "metadata": {
  "kernelspec": {
   "display_name": "Python 3",
   "language": "python",
   "name": "python3"
  },
  "language_info": {
   "codemirror_mode": {
    "name": "ipython",
    "version": 2
   },
   "file_extension": ".py",
   "mimetype": "text/x-python",
   "name": "python",
   "nbconvert_exporter": "python",
   "pygments_lexer": "ipython2",
   "version": "2.7.6"
  }
 },
 "nbformat": 4,
 "nbformat_minor": 5
}
